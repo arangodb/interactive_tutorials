{
  "nbformat": 4,
  "nbformat_minor": 0,
  "metadata": {
    "colab": {
      "name": "Hacktoberfest-template.ipynb",
      "provenance": [],
      "include_colab_link": true
    },
    "kernelspec": {
      "name": "python3",
      "display_name": "Python 3"
    }
  },
  "cells": [
    {
      "cell_type": "markdown",
      "metadata": {
        "id": "view-in-github",
        "colab_type": "text"
      },
      "source": [
        "<a href=\"https://colab.research.google.com/github/cw00dw0rd/intro-to-knowledge-graphs/blob/master/Hacktoberfest_template.ipynb\" target=\"_parent\"><img src=\"https://colab.research.google.com/assets/colab-badge.svg\" alt=\"Open In Colab\"/></a>"
      ]
    },
    {
      "cell_type": "code",
      "metadata": {
        "id": "Q7EUAXyhdsiH"
      },
      "source": [
        "%%capture\n",
        "!git clone -b oasis --single-branch https://github.com/cw00dw0rd/intro-to-knowledge-graphs \n",
        "!rsync -av intro-to-knowledge-graphs/ ./ --exclude=.git\n",
        "!pip3 install pyarango\n",
        "!pip3 install python-arango\n",
        "!pip install rdflib"
      ],
      "execution_count": null,
      "outputs": []
    },
    {
      "cell_type": "code",
      "metadata": {
        "id": "CrbEX0zQdu48"
      },
      "source": [
        "import json\n",
        "import requests\n",
        "import sys\n",
        "import oasis\n",
        "import time\n",
        "import textwrap\n",
        "\n",
        "from pyArango.connection import *\n",
        "from arango import ArangoClient"
      ],
      "execution_count": null,
      "outputs": []
    },
    {
      "cell_type": "code",
      "metadata": {
        "id": "pZ1Wk9B2dyTH"
      },
      "source": [
        "# Retrieve tmp credentials from ArangoDB Tutorial Service\n",
        "login = oasis.getTempCredentials(tutorialName=\"Intro-Knowledge-Graph\", credentialProvider=\"https://tutorials.arangodb.cloud:8529/_db/_system/tutorialDB/tutorialDB\")\n",
        "\n",
        "# Connect to the temp database\n",
        "# Please note that we use the python-arango driver as it has better support for ArangoSearch \n",
        "db = oasis.connect_python_arango(login)"
      ],
      "execution_count": null,
      "outputs": []
    },
    {
      "cell_type": "code",
      "metadata": {
        "id": "SqYbQ4ETdzhY"
      },
      "source": [
        "print(\"https://\"+login[\"hostname\"]+\":\"+str(login[\"port\"]))\n",
        "print(\"Username: \" + login[\"username\"])\n",
        "print(\"Password: \" + login[\"password\"])\n",
        "print(\"Database: \" + login[\"dbName\"])"
      ],
      "execution_count": null,
      "outputs": []
    },
    {
      "cell_type": "code",
      "metadata": {
        "id": "Jl0SHjn4eFaB"
      },
      "source": [
        "from rdflib import Graph"
      ],
      "execution_count": null,
      "outputs": []
    },
    {
      "cell_type": "code",
      "metadata": {
        "id": "L_jIN_PReNqq"
      },
      "source": [
        "# Use rdflib to parse the triple to make it easier to iterate over\n",
        "g = Graph()\n",
        "g.parse(\"doyle.nt\", format=\"nt\")\n",
        "\n",
        "aql = db.aql\n",
        "\n",
        "# Create a new graph named \"knowledge-graph\" if it does not already exist.\n",
        "if db.has_graph('knowledge-graph'):\n",
        "    KG = db.graph('knowledge-graph')\n",
        "else:\n",
        "    KG = db.create_graph('knowledge-graph')\n",
        "\n",
        "# Create the necessary collections if they don't already exist\n",
        "if db.has_collection('subject'):\n",
        "  pass\n",
        "else:\n",
        "  db.create_collection('subject',edge=False,replication_factor=3)\n",
        "\n",
        "if db.has_collection('predicate'):\n",
        "  pass\n",
        "else:\n",
        "  db.create_collection('predicate',edge=True,replication_factor=3)\n",
        "\n",
        "if db.has_collection('object'):\n",
        "  pass\n",
        "else:\n",
        "  db.create_collection('object',edge=False,replication_factor=3)\n",
        "\n",
        "# Now that the collections have been created, create the graph edge definition \n",
        "if not KG.has_edge_definition('predicate'):\n",
        "    graph = KG.create_edge_definition(\n",
        "        edge_collection='predicate',\n",
        "        from_vertex_collections=['subject'],\n",
        "        to_vertex_collections=['object']\n",
        "        )\n",
        "\n",
        "# Iterate over the processed triple and add the documents to the graph\n",
        "# We hash values here as an easy way to not worry about special characters\n",
        "# Ignore errors also means if we add a document with the same subject or object \n",
        "for s, p, o in g:\n",
        "  cursor = aql.execute(\n",
        "  \"\"\"\n",
        "LET SHash = MD5(@s)\n",
        "LET OHash = MD5(@o)\n",
        "LET subjectHash = CONCAT('subject/', SHash)\n",
        "LET objectHash = CONCAT('object/',OHash)\n",
        "\n",
        "LET S =  (\n",
        "INSERT {\n",
        "    \"resource\": @s,\n",
        "    \"_key\": SHash,\n",
        "    \"Hash\": SHash\n",
        "} INTO subject OPTIONS { ignoreErrors: true } RETURN NEW\n",
        ")\n",
        "\n",
        "\n",
        "LET O = (\n",
        "INSERT {\n",
        "    \"resource\": @o,\n",
        "    \"_key\": OHash,\n",
        "    \"Hash\": OHash\n",
        "} INTO object OPTIONS { ignoreErrors: true } RETURN NEW\n",
        ")\n",
        "\n",
        "/* Could remove ignoreError as _key serves as duplicate check by combining \n",
        "hashes of subject and object */\n",
        "INSERT {\n",
        "    \"resource\": @p,\n",
        "    \"_key\": CONCAT(SHash, OHash, MD5(@p)),\n",
        "    \"_from\": subjectHash,\n",
        "    \"_to\": objectHash\n",
        "} INTO predicate OPTIONS { ignoreErrors: true }\n",
        "  \"\"\",  bind_vars={'s':s, 'p': p, 'o':o}\n",
        ")\n",
        "# Iterate through the result cursor\n",
        "for doc in cursor:\n",
        "  print(doc)"
      ],
      "execution_count": null,
      "outputs": []
    },
    {
      "cell_type": "markdown",
      "metadata": {
        "id": "ZEVdAcgUKAT5"
      },
      "source": [
        "If you received `Not Authorized` error, this is most likely due to the database not being quite ready yet. Attempt to re-run this code block."
      ]
    },
    {
      "cell_type": "code",
      "metadata": {
        "id": "zXDksTYHzbk0"
      },
      "source": [
        "aql = db.aql"
      ],
      "execution_count": null,
      "outputs": []
    }
  ]
}