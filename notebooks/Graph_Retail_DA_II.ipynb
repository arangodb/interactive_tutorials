{
 "cells": [
  {
   "cell_type": "markdown",
   "metadata": {
    "id": "qStcba13duQl"
   },
   "source": [
    "<a href=\"https://colab.research.google.com/github/arangodb/interactive_tutorials/blob/master/notebooks/Graph_Retail_DA_II.ipynb\" target=\"_parent\"><img src=\"https://colab.research.google.com/assets/colab-badge.svg\" alt=\"Open In Colab\"/></a>"
   ]
  },
  {
   "cell_type": "code",
   "execution_count": null,
   "metadata": {
    "id": "NHiPYjvmjnZT"
   },
   "outputs": [],
   "source": [
    "%%capture\n",
    "!git clone -b retail_data_branch --single-branch https://github.com/arangodb/interactive_tutorials.git\n",
    "!rsync -av  interactive_tutorials/notebooks/data  rsync -av interactive_tutorials/notebooks/tools interactive_tutorials/notebooks/img ./ --exclude=.git\n",
    "!pip install python-arango\n",
    "!pip install arangopipe==0.0.70.0.0\n",
    "!pip install pandas PyYAML==5.1.1 sklearn2\n",
    "!pip install jsonpickle\n",
    "!pip3 install networkx\n",
    "!pip3 install matplotlib\n",
    "!pip3 install adbnx-adapter\n",
    "!pip install seaborn\n",
    "!pip install node2vec\n",
    "!pip install hdbscan\n",
    "!pip install pyclustertend\n",
    "!chmod a+x tools/* "
   ]
  },
  {
   "cell_type": "markdown",
   "metadata": {
    "id": "aJzmd0jzryRL"
   },
   "source": [
    "# Overview\n",
    "In the previous notebook, characteristic features of the frequent shopper group were identified using ideas used to characterize bi-partite graphs and networks in general. In particular, we can identify the customer and the item projection graphs as _small world networks_. _Small world networks_ have higher clustering coefficients than _Erdos Renyi_ random graphs. \n",
    "In _small world networks_ , (Watts-Strogatz):\n",
    "* Most nodes have similar degrees. \n",
    "* A small set of nodes have high degrees.\n",
    "* A small set of nodes have low degrees. \n",
    "* Such a distribution of degrees has a familiar bell-shaped structure.\n",
    "\n",
    "These are the characteristics that we observed when the degree distributions of the graphs were plotted. Small-world networks have _cliques_, which were also observed and identified in the previous notebook. \n",
    "\n",
    "Unlike _scale free_ networks, _small world_ networks do not have _hubs_; _Hubs_ refer to nodes with very high degrees. As a very high degree would imply, _hub_ nodes are attached to many other nodes. In a small-world network, most nodes have a similar range of degrees. In contrast, in _scale free_, networks have a small set of nodes with very high degrees, with most nodes having low degrees. Such a structure, when plotted, shows a lot of clustering around the hubs.\n",
    "\n",
    "We can use_Graph embedding_ methods to determine a _Euclidean_ representation of graph nodes. This representation permits us to apply a body of machine learning methods to perform machine learning and data analysis tasks. For example, we can use a visualization technique, such as the _t Stochastic Neighborhood Embedding (tSNE)_ to visualize the nodes in the graph. When visualized, we will note that most nodes are _close_ , in a distance sense of the word, to a similar number of nodes such as in a _small world_ network. \n",
    "\n",
    "This notebook will show that the _frequent shopper network_ has the characteristics associated with a _small world_ network. Applications or tasks, such as diffusion of information through the network, depend on the network _type_ (small world, scale-free, etc.). Therefore, characterizing the network and identifying its type can be very important for tasks that we want to perform on it. For example, in this case, we may be interested in how best we can get customers to purchase products they have not purchased before. Companies have finite budgets for advertisement and marketing. The type of network topology influences the most effective strategy for a task (see [this paper](http://citeseerx.ist.psu.edu/viewdoc/summary?doi=10.1.1.92.6410), for example). We will also illustrate that _cliques_ are pervasive in the _frequent shopper_ group by visualizing the adjacency matrix associated with customer and item purchase graphs. As mentioned earlier, in a _small world_ network, most nodes have similar degrees. The nodes with very high and very low degrees are therefore unusual. We will use an anomaly detection method to identify these nodes."
   ]
  },
  {
   "cell_type": "markdown",
   "metadata": {
    "id": "IFps0hxc6TSv"
   },
   "source": [
    "## Load Data from Previous Analysis"
   ]
  },
  {
   "cell_type": "code",
   "execution_count": null,
   "metadata": {
    "colab": {
     "base_uri": "https://localhost:8080/"
    },
    "id": "d2thBMSe5rGB",
    "outputId": "cc30c568-e72d-4cfd-cfb9-948282533c54"
   },
   "outputs": [],
   "source": [
    "from arangopipe.arangopipe_storage.arangopipe_api import ArangoPipe\n",
    "from arangopipe.arangopipe_storage.arangopipe_admin_api import ArangoPipeAdmin\n",
    "from arangopipe.arangopipe_storage.arangopipe_config import ArangoPipeConfig\n",
    "from arangopipe.arangopipe_storage.managed_service_conn_parameters import ManagedServiceConnParam\n",
    "mdb_config = ArangoPipeConfig()\n",
    "msc = ManagedServiceConnParam()\n",
    "conn_params = { msc.DB_SERVICE_HOST : \"arangoml.arangodb.cloud\", \\\n",
    "                        msc.DB_SERVICE_END_POINT : \"createDB\",\\\n",
    "                        msc.DB_SERVICE_NAME : \"createDB\",\\\n",
    "                        msc.DB_SERVICE_PORT : 8529,\\\n",
    "                        msc.DB_CONN_PROTOCOL : 'https',\\\n",
    "                        msc.DB_REPLICATION_FACTOR: 3}\n",
    "        \n",
    "mdb_config = mdb_config.create_connection_config(conn_params)\n",
    "admin = ArangoPipeAdmin(reuse_connection = False, config = mdb_config)\n",
    "ap_config = admin.get_config()\n",
    "ap = ArangoPipe(config = ap_config)\n",
    "proj_info = {\"name\": \"Retail_Graph_Analytics\"}\n",
    "proj_reg = admin.register_project(proj_info)\n",
    "mdb_config.get_cfg()"
   ]
  },
  {
   "cell_type": "code",
   "execution_count": null,
   "metadata": {
    "id": "4JTETOMT57Zq"
   },
   "outputs": [],
   "source": [
    "conn = mdb_config.get_cfg()\n",
    "login = conn['arangodb']"
   ]
  },
  {
   "cell_type": "code",
   "execution_count": null,
   "metadata": {
    "colab": {
     "base_uri": "https://localhost:8080/"
    },
    "id": "9CQmssQz6EtW",
    "outputId": "bf3b5654-117b-401b-8a27-379af5d97d22"
   },
   "outputs": [],
   "source": [
    "login"
   ]
  },
  {
   "cell_type": "code",
   "execution_count": null,
   "metadata": {
    "id": "TC-fSOh2sh7E"
   },
   "outputs": [],
   "source": [
    "!chmod -R 755 ./tools/*"
   ]
  },
  {
   "cell_type": "code",
   "execution_count": null,
   "metadata": {
    "colab": {
     "base_uri": "https://localhost:8080/"
    },
    "id": "8B_UyOPFmnhA",
    "outputId": "b72d628c-d960-4aae-8252-31961d12fb20"
   },
   "outputs": [],
   "source": [
    "# Restore an ArangoDB dump into the database.\n",
    "!./tools/arangorestore  -c none --server.endpoint  http+ssl://{login[\"DB_service_host\"]}:{login[\"DB_service_port\"]} --server.username {login[\"username\"]} \\\n",
    "--server.database {login[\"dbName\"]} \\\n",
    "--server.password {login[\"password\"]} \\\n",
    "--replication-factor 3  \\\n",
    "--input-directory \"data/retail_freq_cust_data_dump_eonb3\""
   ]
  },
  {
   "cell_type": "markdown",
   "metadata": {
    "id": "0UWTCJFUzWI2"
   },
   "source": [
    "## Using Embeddings to Visualize Graphs\n",
    "Graph embeddings map graphs to Euclidean space (see [this post](https://github.com/rajivsam/interactive_tutorials/blob/master/notebooks/Graph_Embeddings.ipynb) for more details. There are multiple ways to generate embeddings for a graph. In this post, we will use Node2Vec to generate embeddings for a graph. As discussed in the overview, we can then visualize the graph using a technique such as tSNE. These visualizations reveal that the _frequent shoppers_ group has properties consistent with _small world_ networks. The details of generating the embeddings for the customer and item graphs are shown below."
   ]
  },
  {
   "cell_type": "markdown",
   "metadata": {
    "id": "OJ8cVuae6TSz"
   },
   "source": [
    "## Create the Customer Projected Graph in Networkx"
   ]
  },
  {
   "cell_type": "code",
   "execution_count": null,
   "metadata": {
    "id": "y6DZwUz9pMo5"
   },
   "outputs": [],
   "source": [
    "import networkx as nx\n",
    "import pandas as pd\n",
    "fp = \"data/customer_projected_graph.csv\"\n",
    "df = pd.read_csv(fp)"
   ]
  },
  {
   "cell_type": "code",
   "execution_count": null,
   "metadata": {
    "id": "LAxO4DmEpk6K"
   },
   "outputs": [],
   "source": [
    "cpg = nx.from_pandas_edgelist(df)"
   ]
  },
  {
   "cell_type": "code",
   "execution_count": null,
   "metadata": {
    "colab": {
     "base_uri": "https://localhost:8080/"
    },
    "id": "MMOP591SrNBo",
    "outputId": "1f821a3e-8807-4d01-bfcc-42118a2f4ef1"
   },
   "outputs": [],
   "source": [
    "cpg.number_of_nodes()"
   ]
  },
  {
   "cell_type": "markdown",
   "metadata": {
    "id": "DcoyKeT96TS0"
   },
   "source": [
    "## Generate the Embedding for the Customer Projection Graph with Node2Vec"
   ]
  },
  {
   "cell_type": "code",
   "execution_count": null,
   "metadata": {
    "colab": {
     "base_uri": "https://localhost:8080/",
     "height": 66,
     "referenced_widgets": [
      "c8c71dcd381e433ebbb37b8d6c29175a",
      "c0c526e5094c4a0eb5e559c1d0be79da",
      "b71becfea27c4e5fb780829c8dff70e6",
      "24b66d70990c4505a7bf3ce22816fc59",
      "6875127c993642ebbc06230b2f138676",
      "770b0753cfb44327bb0ff30c7ddbcc31",
      "aea3c0cd19f442579d2520cd3699b218",
      "09c7281fc9604b99aa66082af320ce8a"
     ]
    },
    "id": "75KE93voJwVx",
    "outputId": "d8b775d7-8f2a-4211-ad84-4293efcef80b"
   },
   "outputs": [],
   "source": [
    "from node2vec import Node2Vec\n",
    "node2vec = Node2Vec(cpg, dimensions=32, walk_length=10, num_walks=100, workers=4)"
   ]
  },
  {
   "cell_type": "code",
   "execution_count": null,
   "metadata": {
    "id": "EpkQQLCZKuEC"
   },
   "outputs": [],
   "source": [
    "model = node2vec.fit(window=10, min_count=1, batch_words=4)"
   ]
  },
  {
   "cell_type": "code",
   "execution_count": null,
   "metadata": {
    "id": "qdXkqqgyLS0P"
   },
   "outputs": [],
   "source": [
    "customer_emb = { n: list(model.wv.get_vector(n)) for n in cpg.nodes()}"
   ]
  },
  {
   "cell_type": "markdown",
   "metadata": {
    "id": "2G1d2Nvz6TS1"
   },
   "source": [
    "## Visualize the Customer Projection Graph with tSNE\n",
    "The [t Stochastic Neighborhood Embedding technique(tSNE)](https://lvdmaaten.github.io/tsne/) is a statistical technique that can be used to visualize high dimensional data. An implementation of this technique is available in most data analysis and machine learning libraries. The embeddings of the customer and item are high dimensional (32) and as such we cannot visualize a customer or item on a two dimensional graph directly. A two dimensional representation can be obtained using tSNE."
   ]
  },
  {
   "cell_type": "code",
   "execution_count": null,
   "metadata": {
    "colab": {
     "base_uri": "https://localhost:8080/",
     "height": 599
    },
    "id": "FZKBEXQKLmQ2",
    "outputId": "9716d276-388c-4bcf-cc85-708648158441"
   },
   "outputs": [],
   "source": [
    "import numpy as np\n",
    "import matplotlib.pyplot as plt\n",
    "from matplotlib  import cm\n",
    "from sklearn.manifold import TSNE\n",
    "import seaborn as sns\n",
    "fig = plt.figure(figsize=(11.7,8.27))\n",
    "plt.grid(True)\n",
    "plt.xlabel(\"Comp 1\")\n",
    "plt.ylabel(\"Comp 2\")\n",
    "plt.title(\"tSNE plot of customer embedddings\")\n",
    "cust_embedded = TSNE(n_components=2).fit_transform(list(customer_emb.values()))\n",
    "sns.scatterplot(cust_embedded[:,0], cust_embedded[:,1])"
   ]
  },
  {
   "cell_type": "markdown",
   "metadata": {
    "id": "ka0og6DJ6TS2"
   },
   "source": [
    "## Load the Item Projected Graph"
   ]
  },
  {
   "cell_type": "code",
   "execution_count": null,
   "metadata": {
    "id": "KSmGEZGYMr3A"
   },
   "outputs": [],
   "source": [
    "fp = \"data/item_projected_graph.csv\"\n",
    "df = pd.read_csv(fp)"
   ]
  },
  {
   "cell_type": "code",
   "execution_count": null,
   "metadata": {
    "id": "9_U73Rw3M-fl"
   },
   "outputs": [],
   "source": [
    "ipg = nx.from_pandas_edgelist(df)"
   ]
  },
  {
   "cell_type": "code",
   "execution_count": null,
   "metadata": {
    "colab": {
     "base_uri": "https://localhost:8080/"
    },
    "id": "dE-uIeOTNEAG",
    "outputId": "0ce87b88-11c2-4849-d39d-96a3251d30f7"
   },
   "outputs": [],
   "source": [
    "ipg.number_of_nodes()"
   ]
  },
  {
   "cell_type": "markdown",
   "metadata": {
    "id": "ohb9aBHc6TS3"
   },
   "source": [
    "## Generate the Embedding for the Item Projection Graph with Node2Vec\n",
    "There are many methods to obtain an embedding for a graph. _Node2Vec_ is one of them. See [the project page](https://snap.stanford.edu/node2vec/) for details of the method."
   ]
  },
  {
   "cell_type": "code",
   "execution_count": null,
   "metadata": {
    "colab": {
     "base_uri": "https://localhost:8080/",
     "height": 66,
     "referenced_widgets": [
      "c3510a9abbf0405dbdaaea02b2ddb1ec",
      "cbb1cc4983e74177be57c7b866b799d5",
      "16fcea99c11840ccb492847f707841a4",
      "1d44ccdd073a47ac8b2e77798f2bab05",
      "11c3c5d03d064a51be8e37bc013737bb",
      "013db9bd485f4eb8855e811251e3438a",
      "3289bba202b948178f2fe9e5f20b0e09",
      "99c0f23a1b714a359f84eceaa33ae8ce"
     ]
    },
    "id": "3DK_db0eNJN-",
    "outputId": "d87470f9-6a95-478f-9396-3d727ab47720"
   },
   "outputs": [],
   "source": [
    "node2vec = Node2Vec(ipg, dimensions=32, walk_length=10, num_walks=100, workers=4)"
   ]
  },
  {
   "cell_type": "code",
   "execution_count": null,
   "metadata": {
    "id": "8MPxzr8COC1w"
   },
   "outputs": [],
   "source": [
    "model = node2vec.fit(window=10, min_count=1, batch_words=4)"
   ]
  },
  {
   "cell_type": "code",
   "execution_count": null,
   "metadata": {
    "id": "qzWYmHztOVoY"
   },
   "outputs": [],
   "source": [
    "item_embedding = { n: list(model.wv.get_vector(n)) for n in ipg.nodes()}"
   ]
  },
  {
   "cell_type": "code",
   "execution_count": null,
   "metadata": {
    "colab": {
     "base_uri": "https://localhost:8080/",
     "height": 599
    },
    "id": "UbHE_yFBO4S8",
    "outputId": "c8260ed9-2274-4e2a-bfcd-6fdc3e6be249"
   },
   "outputs": [],
   "source": [
    "fig = plt.figure(figsize=(11.7,8.27))\n",
    "plt.grid(True)\n",
    "plt.xlabel(\"Comp 1\")\n",
    "plt.ylabel(\"Comp 2\")\n",
    "plt.title(\"tSNE plot of item embedddings\")\n",
    "item_embedded = TSNE(n_components=2).fit_transform(list(item_embedding.values()))\n",
    "sns.scatterplot(item_embedded[:,0], item_embedded[:,1])"
   ]
  },
  {
   "cell_type": "markdown",
   "metadata": {
    "id": "Mf11DItl2D0q"
   },
   "source": [
    "## Visualize the Adjacency Matrices\n",
    "Visualizing the adjacency matrix of the customer and item projection graphs provides an additional perspective of the _frequent shoppers_ group. This is the graph perspective. The code to visualize the adjacency matrix is from [this blog](http://sociograph.blogspot.com/2012/11/visualizing-adjacency-matrices-in-python.html). The adjacency matrix visualization confirms the facts about small world networks discussed in the overview section."
   ]
  },
  {
   "cell_type": "markdown",
   "metadata": {
    "id": "dSctGvJS6TS4"
   },
   "source": [
    "## Plot the Customer Adjacency Matrix"
   ]
  },
  {
   "cell_type": "code",
   "execution_count": null,
   "metadata": {
    "id": "pBpfxAXeiLPk"
   },
   "outputs": [],
   "source": [
    "# http://sociograph.blogspot.com/2012/11/visualizing-adjacency-matrices-in-python.html"
   ]
  },
  {
   "cell_type": "code",
   "execution_count": null,
   "metadata": {
    "id": "fc7-7Dl1hdIZ"
   },
   "outputs": [],
   "source": [
    "from matplotlib import pyplot, patches\n",
    "\n",
    "def draw_adjacency_matrix(G, node_order=None, partitions=[], colors=[]):\n",
    "    \"\"\"\n",
    "    - G is a netorkx graph\n",
    "    - node_order (optional) is a list of nodes, where each node in G\n",
    "          appears exactly once\n",
    "    - partitions is a list of node lists, where each node in G appears\n",
    "          in exactly one node list\n",
    "    - colors is a list of strings indicating what color each\n",
    "          partition should be\n",
    "    If partitions is specified, the same number of colors needs to be\n",
    "    specified.\n",
    "    \"\"\"\n",
    "    adjacency_matrix = nx.to_numpy_matrix(G, dtype=np.bool, nodelist=node_order)\n",
    "\n",
    "    #Plot adjacency matrix in toned-down black and white\n",
    "    fig = pyplot.figure(figsize=(11.7,8.27)) # in inches\n",
    "    pyplot.imshow(adjacency_matrix,\n",
    "                  cmap=\"Greys\",\n",
    "                  interpolation=\"none\")\n",
    "    \n",
    "    # The rest is just if you have sorted nodes by a partition and want to\n",
    "    # highlight the module boundaries\n",
    "    assert len(partitions) == len(colors)\n",
    "    ax = pyplot.gca()\n",
    "    for partition, color in zip(partitions, colors):\n",
    "        current_idx = 0\n",
    "        for module in partition:\n",
    "            ax.add_patch(patches.Rectangle((current_idx, current_idx),\n",
    "                                          len(module), # Width\n",
    "                                          len(module), # Height\n",
    "                                          facecolor=\"none\",\n",
    "                                          edgecolor=color,\n",
    "                                          linewidth=\"1\"))\n",
    "            current_idx += len(module)"
   ]
  },
  {
   "cell_type": "code",
   "execution_count": null,
   "metadata": {
    "colab": {
     "base_uri": "https://localhost:8080/",
     "height": 501
    },
    "id": "-TtXVtBtiQl_",
    "outputId": "ac8db1d1-15ae-4585-9800-847df7c2292a"
   },
   "outputs": [],
   "source": [
    "\n",
    "draw_adjacency_matrix(cpg)"
   ]
  },
  {
   "cell_type": "markdown",
   "metadata": {
    "id": "BUde616WTx3s"
   },
   "source": [
    "### Observations\n",
    "\n",
    "\n",
    "*   An edge between customers is represented by a dark point in the adjacency matrix plot\n",
    "*   The adjacency matrix plot is square, representing the edge information between users\n",
    "\n",
    "* The interconnected groups represent the cliques\n",
    "* The adjacency matrix confirms that there is a lot shared purchase behavior in the frequent customer group. \n",
    "\n"
   ]
  },
  {
   "cell_type": "markdown",
   "metadata": {
    "id": "esLfi6IH6TS5"
   },
   "source": [
    "## Plot the Item Adjacency Matrix"
   ]
  },
  {
   "cell_type": "code",
   "execution_count": null,
   "metadata": {
    "colab": {
     "base_uri": "https://localhost:8080/",
     "height": 498
    },
    "id": "JDUxNSZeinrj",
    "outputId": "00aa7239-6385-4594-c8dd-6a46a01ee539"
   },
   "outputs": [],
   "source": [
    "draw_adjacency_matrix(ipg)"
   ]
  },
  {
   "cell_type": "markdown",
   "metadata": {
    "id": "237hGURFXJ3U"
   },
   "source": [
    "### Observations\n",
    "\n",
    "\n",
    "*   A review of the adjacency matrix of items shows that there is very strong co-purchasing behavior in the group of items. This group of items was determined by feature selection using the LASSO regression method. It turns out that the frequent customer group buys most of these groups of items. So this is a reflection of the feature selection process.\n",
    "* The white spots represent items that are not purchased with an item. So in the item adjacency matrix, items that are not bought with an item are noteworthy observations.\n",
    "*   The plot is a square. Each cell $(i,j)$ corresponds to an edge between node $i$ and node $j$. If there is an edge between $i$ and $j$, the cell is black, otherwise, it is white.\n",
    "*   The adjacency matrix plots for both the customer projected graph and the item projected graph is shown.\n",
    "*  A review of the matrix plots shows that a node is connected to many nodes in general.\n",
    "* Cliques or networks where each node is connected to the other nodes in the group are common in both the item and customer projected graph.\n",
    "* Cliques in the customer projected graph imply shared purchasing behavior. Cliques in the item projected graph indicate co-purchasing behavior\n",
    "\n",
    "\n"
   ]
  },
  {
   "cell_type": "markdown",
   "metadata": {
    "id": "_IABnSS96TS5"
   },
   "source": [
    "## Cluster with HDB Scan - Investigate Clustering Tendency"
   ]
  },
  {
   "cell_type": "markdown",
   "metadata": {
    "id": "Je6FIMUvX6V5"
   },
   "source": [
    "We can cluster the node embeddings to verify the properties of _small-world_ networks discussed in the overview section. The clustering is done with the _hdb scan_ algorithm. This algorithm can distinguish between points that belong to a cluster because they form a dense region versus points that are _noise_. Application of the clustering algorithm on both datasets resulted in the points being tagged as noise. In other words, we did not notice _hubs_ or groups nodes that are more well-connected to other nodes than others. These findings are consistent with what we expect in a _small world_ network. "
   ]
  },
  {
   "cell_type": "code",
   "execution_count": null,
   "metadata": {
    "id": "hrdFuE8WtLDY"
   },
   "outputs": [],
   "source": [
    "cna = np.zeros((cpg.number_of_nodes(), 32))\n",
    "index = 0\n",
    "for k,v in customer_emb.items():\n",
    "  cna[index,:] = v\n",
    "  index += 1"
   ]
  },
  {
   "cell_type": "code",
   "execution_count": null,
   "metadata": {
    "id": "FqFiA2WoiLiu"
   },
   "outputs": [],
   "source": [
    "ina = np.zeros((ipg.number_of_nodes(), 32))\n",
    "index = 0\n",
    "for k,v in item_embedding.items():\n",
    "  ina[index,:] = v\n",
    "  index += 1"
   ]
  },
  {
   "cell_type": "code",
   "execution_count": null,
   "metadata": {
    "colab": {
     "base_uri": "https://localhost:8080/"
    },
    "id": "ek1BQSb0tE5i",
    "outputId": "d8824652-1749-49fc-dd2e-c1bba148b1f7"
   },
   "outputs": [],
   "source": [
    "import hdbscan\n",
    "clusterer = hdbscan.HDBSCAN(min_samples=5)\n",
    "clusterer.fit(cna)"
   ]
  },
  {
   "cell_type": "code",
   "execution_count": null,
   "metadata": {
    "colab": {
     "base_uri": "https://localhost:8080/"
    },
    "id": "O4blZ4yuv6Wf",
    "outputId": "91510786-4edc-4fa0-a115-a93607b3bbab"
   },
   "outputs": [],
   "source": [
    "np.unique(clusterer.labels_)"
   ]
  },
  {
   "cell_type": "markdown",
   "metadata": {
    "id": "lmDC-BLk6TS7"
   },
   "source": [
    "## Verify Lack of Clustering with Hopkins Test"
   ]
  },
  {
   "cell_type": "markdown",
   "metadata": {
    "id": "fLFpgvgUhOaR"
   },
   "source": [
    "We can apply a formal statistical test to illustrate that the embedded representation of the nodes does not exhibit clustering tendencies. This is done through the [Hopkins test](https://en.wikipedia.org/wiki/Hopkins_statistic). The test statistic will have values close to $1$ for data that show clustering and around $0.5$ for random data (noise). The value of the statistic for both the projection graphs is very different from $1$ and closer to the _noise_ range."
   ]
  },
  {
   "cell_type": "code",
   "execution_count": null,
   "metadata": {
    "colab": {
     "base_uri": "https://localhost:8080/"
    },
    "id": "qEYvR5cGaYsP",
    "outputId": "b131ecfb-9e42-42d0-df48-9eef67ff0e98"
   },
   "outputs": [],
   "source": [
    "from pyclustertend import hopkins\n",
    "hopkins(cna,cpg.number_of_nodes())"
   ]
  },
  {
   "cell_type": "code",
   "execution_count": null,
   "metadata": {
    "colab": {
     "base_uri": "https://localhost:8080/"
    },
    "id": "2eZuT8Y9iaue",
    "outputId": "55452f06-cbcb-44ac-e789-48a2d08f2741"
   },
   "outputs": [],
   "source": [
    "hopkins(cna,ipg.number_of_nodes())"
   ]
  },
  {
   "cell_type": "markdown",
   "metadata": {
    "id": "tBE4eY9h6TS8"
   },
   "source": [
    "## Identify Outliers with Isolation Forest"
   ]
  },
  {
   "cell_type": "markdown",
   "metadata": {
    "id": "Uc1V1YRgng4P"
   },
   "source": [
    "Since most nodes have a similar range of degrees, customers and abnormal items are interesting. We can identify these _novel_  customers and items with an _anomaly detection_ algorithm. In this work, the _Isolation Forest_ algorithm is used for anomaly detection. We need to specify the _contamination_ level, which indicates the _novelty_ we want to identify. The details of doing so are provided below. In this work, we do not _profile_ this group. If we wanted to identify _novel_ customers and items, we could apply an anomaly detection method for this purpose."
   ]
  },
  {
   "cell_type": "code",
   "execution_count": null,
   "metadata": {
    "id": "0mJnt82k3ide"
   },
   "outputs": [],
   "source": [
    "fp = \"data/feature_selected_freq_shoppers.csv\"\n",
    "df = pd.read_csv(fp)\n",
    "colsraw = df.columns.tolist()\n",
    "cols_to_keep = [c for c in colsraw if c not in ['Customer_ID', 'RFM_score']]\n",
    "df = df[cols_to_keep]"
   ]
  },
  {
   "cell_type": "code",
   "execution_count": null,
   "metadata": {
    "id": "SHq9vNOA3n8k"
   },
   "outputs": [],
   "source": [
    "from sklearn.ensemble import IsolationForest"
   ]
  },
  {
   "cell_type": "code",
   "execution_count": null,
   "metadata": {
    "id": "srQJfUJ455vg"
   },
   "outputs": [],
   "source": [
    "X = df.values"
   ]
  },
  {
   "cell_type": "code",
   "execution_count": null,
   "metadata": {
    "id": "7CHxlJNr8070"
   },
   "outputs": [],
   "source": [
    "clf =IsolationForest(random_state=0, contamination=0.1).fit(X)\n"
   ]
  },
  {
   "cell_type": "markdown",
   "metadata": {
    "id": "xWPpGoSyoxcC"
   },
   "source": [
    "### Note\n",
    "Points that are _novel_ are tagged with a $-1$ label, _regular_ points have a $1$ label"
   ]
  },
  {
   "cell_type": "code",
   "execution_count": null,
   "metadata": {
    "colab": {
     "base_uri": "https://localhost:8080/"
    },
    "id": "VMms0HXr85xD",
    "outputId": "39d32f6f-6cf6-46a0-f1da-bd7bf2d6d9c3"
   },
   "outputs": [],
   "source": [
    "clf.predict(X)"
   ]
  },
  {
   "cell_type": "markdown",
   "metadata": {
    "id": "MqQLri5S6our"
   },
   "source": [
    "## Log the Modeling Activity in Arangopipe"
   ]
  },
  {
   "cell_type": "markdown",
   "metadata": {
    "id": "nP2kFE33rzDa"
   },
   "source": [
    "The last group of activities for this notebook is to store the results of this analysis in Arangopipe. The details are shown below."
   ]
  },
  {
   "cell_type": "code",
   "execution_count": null,
   "metadata": {
    "id": "z0jZTY_hQJRG"
   },
   "outputs": [],
   "source": [
    "ds_info = ap.lookup_dataset(\"Frequent_Customer_Graph\")"
   ]
  },
  {
   "cell_type": "code",
   "execution_count": null,
   "metadata": {
    "id": "6XWkjGxDQR1E"
   },
   "outputs": [],
   "source": [
    "fs_info = ap.lookup_featureset(\"Features are attributes of the nodes\")"
   ]
  },
  {
   "cell_type": "code",
   "execution_count": null,
   "metadata": {
    "id": "Xgk7np5mY1_E"
   },
   "outputs": [],
   "source": [
    "import io\n",
    "import requests\n",
    "url = ('https://raw.githubusercontent.com/arangodb/interactive_tutorials/master/notebooks/Graph_Retail_DA_II.ipynb')\n",
    "nbjson = requests.get(url).text"
   ]
  },
  {
   "cell_type": "code",
   "execution_count": null,
   "metadata": {
    "id": "qp2QFmL_ZNcQ"
   },
   "outputs": [],
   "source": [
    "\n",
    "model_info = {\"name\": \"DA_II_Analysis\",  \"task\": \"Exploratory Data Analysis\", 'notebook': nbjson}\n",
    "model_reg = ap.register_model(model_info, project = \"Retail_Graph_Analytics\")"
   ]
  },
  {
   "cell_type": "code",
   "execution_count": null,
   "metadata": {
    "id": "2SqQmvicWe2T"
   },
   "outputs": [],
   "source": [
    "import uuid\n",
    "import datetime\n",
    "#import jsonpickle\n",
    "\n",
    "ruuid = str(uuid.uuid4().int)\n",
    "model_perf = {'run_id': ruuid, \"timestamp\": str(datetime.datetime.now())}\n",
    "\n",
    "#mp = jsonpickle.encode(mp)\n",
    "model_params = {'run_id': ruuid, 'model_params': 'Not Applicable'}\n",
    "\n",
    "run_info = {\"dataset\" : ds_info[\"_key\"],\\\n",
    "                    \"featureset\": fs_info[\"_key\"],\\\n",
    "                    \"run_id\": ruuid,\\\n",
    "                    \"model\": model_reg[\"_key\"],\\\n",
    "                    \"model-params\": model_params,\\\n",
    "                    \"model-perf\": model_perf,\\\n",
    "                    \"tag\": \"Retail Descriptive Analytics Part II\",\\\n",
    "                    \"project\": \"Retail_Graph_Analytics\"}\n",
    "ap.log_run(run_info)"
   ]
  },
  {
   "cell_type": "markdown",
   "metadata": {
    "id": "-S0ZDneTr_Yh"
   },
   "source": [
    "## Summary\n",
    "\n",
    "\n",
    "*   Exploration of the graph characteristics using node embeddings revealed that the observed characteristics were consistent with what is generally observed with _small world_ networks.\n",
    "*  There is a high degree of shared taste (items purchased) in the _frequent customer group_\n",
    "* There is a high level of co-purchasing behavior (items purchased together by a user) in the _frequent customer_ group.\n",
    "* The above two properties imply many cliques in the _item_ and _customer_ projection graphs. Exploration done in this notebook confirms this.\n",
    "* There are no _hubs_ in either the customer or item projection graphs.\n",
    "\n"
   ]
  }
 ],
 "metadata": {
  "colab": {
   "collapsed_sections": [],
   "name": "(Chris Edits) Graph_Retail_DA_II.ipynb",
   "provenance": []
  },
  "kernelspec": {
   "display_name": "Python 3",
   "language": "python",
   "name": "python3"
  },
  "language_info": {
   "codemirror_mode": {
    "name": "ipython",
    "version": 3
   },
   "file_extension": ".py",
   "mimetype": "text/x-python",
   "name": "python",
   "nbconvert_exporter": "python",
   "pygments_lexer": "ipython3",
   "version": "3.7.6"
  },
  "widgets": {
   "application/vnd.jupyter.widget-state+json": {
    "013db9bd485f4eb8855e811251e3438a": {
     "model_module": "@jupyter-widgets/base",
     "model_name": "LayoutModel",
     "state": {
      "_model_module": "@jupyter-widgets/base",
      "_model_module_version": "1.2.0",
      "_model_name": "LayoutModel",
      "_view_count": null,
      "_view_module": "@jupyter-widgets/base",
      "_view_module_version": "1.2.0",
      "_view_name": "LayoutView",
      "align_content": null,
      "align_items": null,
      "align_self": null,
      "border": null,
      "bottom": null,
      "display": null,
      "flex": null,
      "flex_flow": null,
      "grid_area": null,
      "grid_auto_columns": null,
      "grid_auto_flow": null,
      "grid_auto_rows": null,
      "grid_column": null,
      "grid_gap": null,
      "grid_row": null,
      "grid_template_areas": null,
      "grid_template_columns": null,
      "grid_template_rows": null,
      "height": null,
      "justify_content": null,
      "justify_items": null,
      "left": null,
      "margin": null,
      "max_height": null,
      "max_width": null,
      "min_height": null,
      "min_width": null,
      "object_fit": null,
      "object_position": null,
      "order": null,
      "overflow": null,
      "overflow_x": null,
      "overflow_y": null,
      "padding": null,
      "right": null,
      "top": null,
      "visibility": null,
      "width": null
     }
    },
    "09c7281fc9604b99aa66082af320ce8a": {
     "model_module": "@jupyter-widgets/base",
     "model_name": "LayoutModel",
     "state": {
      "_model_module": "@jupyter-widgets/base",
      "_model_module_version": "1.2.0",
      "_model_name": "LayoutModel",
      "_view_count": null,
      "_view_module": "@jupyter-widgets/base",
      "_view_module_version": "1.2.0",
      "_view_name": "LayoutView",
      "align_content": null,
      "align_items": null,
      "align_self": null,
      "border": null,
      "bottom": null,
      "display": null,
      "flex": null,
      "flex_flow": null,
      "grid_area": null,
      "grid_auto_columns": null,
      "grid_auto_flow": null,
      "grid_auto_rows": null,
      "grid_column": null,
      "grid_gap": null,
      "grid_row": null,
      "grid_template_areas": null,
      "grid_template_columns": null,
      "grid_template_rows": null,
      "height": null,
      "justify_content": null,
      "justify_items": null,
      "left": null,
      "margin": null,
      "max_height": null,
      "max_width": null,
      "min_height": null,
      "min_width": null,
      "object_fit": null,
      "object_position": null,
      "order": null,
      "overflow": null,
      "overflow_x": null,
      "overflow_y": null,
      "padding": null,
      "right": null,
      "top": null,
      "visibility": null,
      "width": null
     }
    },
    "11c3c5d03d064a51be8e37bc013737bb": {
     "model_module": "@jupyter-widgets/controls",
     "model_name": "ProgressStyleModel",
     "state": {
      "_model_module": "@jupyter-widgets/controls",
      "_model_module_version": "1.5.0",
      "_model_name": "ProgressStyleModel",
      "_view_count": null,
      "_view_module": "@jupyter-widgets/base",
      "_view_module_version": "1.2.0",
      "_view_name": "StyleView",
      "bar_color": null,
      "description_width": "initial"
     }
    },
    "16fcea99c11840ccb492847f707841a4": {
     "model_module": "@jupyter-widgets/controls",
     "model_name": "FloatProgressModel",
     "state": {
      "_dom_classes": [],
      "_model_module": "@jupyter-widgets/controls",
      "_model_module_version": "1.5.0",
      "_model_name": "FloatProgressModel",
      "_view_count": null,
      "_view_module": "@jupyter-widgets/controls",
      "_view_module_version": "1.5.0",
      "_view_name": "ProgressView",
      "bar_style": "success",
      "description": "Computing transition probabilities: 100%",
      "description_tooltip": null,
      "layout": "IPY_MODEL_013db9bd485f4eb8855e811251e3438a",
      "max": 75,
      "min": 0,
      "orientation": "horizontal",
      "style": "IPY_MODEL_11c3c5d03d064a51be8e37bc013737bb",
      "value": 75
     }
    },
    "1d44ccdd073a47ac8b2e77798f2bab05": {
     "model_module": "@jupyter-widgets/controls",
     "model_name": "HTMLModel",
     "state": {
      "_dom_classes": [],
      "_model_module": "@jupyter-widgets/controls",
      "_model_module_version": "1.5.0",
      "_model_name": "HTMLModel",
      "_view_count": null,
      "_view_module": "@jupyter-widgets/controls",
      "_view_module_version": "1.5.0",
      "_view_name": "HTMLView",
      "description": "",
      "description_tooltip": null,
      "layout": "IPY_MODEL_99c0f23a1b714a359f84eceaa33ae8ce",
      "placeholder": "​",
      "style": "IPY_MODEL_3289bba202b948178f2fe9e5f20b0e09",
      "value": " 75/75 [00:02&lt;00:00, 36.73it/s]"
     }
    },
    "24b66d70990c4505a7bf3ce22816fc59": {
     "model_module": "@jupyter-widgets/controls",
     "model_name": "HTMLModel",
     "state": {
      "_dom_classes": [],
      "_model_module": "@jupyter-widgets/controls",
      "_model_module_version": "1.5.0",
      "_model_name": "HTMLModel",
      "_view_count": null,
      "_view_module": "@jupyter-widgets/controls",
      "_view_module_version": "1.5.0",
      "_view_name": "HTMLView",
      "description": "",
      "description_tooltip": null,
      "layout": "IPY_MODEL_09c7281fc9604b99aa66082af320ce8a",
      "placeholder": "​",
      "style": "IPY_MODEL_aea3c0cd19f442579d2520cd3699b218",
      "value": " 437/437 [02:41&lt;00:00,  2.71it/s]"
     }
    },
    "3289bba202b948178f2fe9e5f20b0e09": {
     "model_module": "@jupyter-widgets/controls",
     "model_name": "DescriptionStyleModel",
     "state": {
      "_model_module": "@jupyter-widgets/controls",
      "_model_module_version": "1.5.0",
      "_model_name": "DescriptionStyleModel",
      "_view_count": null,
      "_view_module": "@jupyter-widgets/base",
      "_view_module_version": "1.2.0",
      "_view_name": "StyleView",
      "description_width": ""
     }
    },
    "6875127c993642ebbc06230b2f138676": {
     "model_module": "@jupyter-widgets/controls",
     "model_name": "ProgressStyleModel",
     "state": {
      "_model_module": "@jupyter-widgets/controls",
      "_model_module_version": "1.5.0",
      "_model_name": "ProgressStyleModel",
      "_view_count": null,
      "_view_module": "@jupyter-widgets/base",
      "_view_module_version": "1.2.0",
      "_view_name": "StyleView",
      "bar_color": null,
      "description_width": "initial"
     }
    },
    "770b0753cfb44327bb0ff30c7ddbcc31": {
     "model_module": "@jupyter-widgets/base",
     "model_name": "LayoutModel",
     "state": {
      "_model_module": "@jupyter-widgets/base",
      "_model_module_version": "1.2.0",
      "_model_name": "LayoutModel",
      "_view_count": null,
      "_view_module": "@jupyter-widgets/base",
      "_view_module_version": "1.2.0",
      "_view_name": "LayoutView",
      "align_content": null,
      "align_items": null,
      "align_self": null,
      "border": null,
      "bottom": null,
      "display": null,
      "flex": null,
      "flex_flow": null,
      "grid_area": null,
      "grid_auto_columns": null,
      "grid_auto_flow": null,
      "grid_auto_rows": null,
      "grid_column": null,
      "grid_gap": null,
      "grid_row": null,
      "grid_template_areas": null,
      "grid_template_columns": null,
      "grid_template_rows": null,
      "height": null,
      "justify_content": null,
      "justify_items": null,
      "left": null,
      "margin": null,
      "max_height": null,
      "max_width": null,
      "min_height": null,
      "min_width": null,
      "object_fit": null,
      "object_position": null,
      "order": null,
      "overflow": null,
      "overflow_x": null,
      "overflow_y": null,
      "padding": null,
      "right": null,
      "top": null,
      "visibility": null,
      "width": null
     }
    },
    "99c0f23a1b714a359f84eceaa33ae8ce": {
     "model_module": "@jupyter-widgets/base",
     "model_name": "LayoutModel",
     "state": {
      "_model_module": "@jupyter-widgets/base",
      "_model_module_version": "1.2.0",
      "_model_name": "LayoutModel",
      "_view_count": null,
      "_view_module": "@jupyter-widgets/base",
      "_view_module_version": "1.2.0",
      "_view_name": "LayoutView",
      "align_content": null,
      "align_items": null,
      "align_self": null,
      "border": null,
      "bottom": null,
      "display": null,
      "flex": null,
      "flex_flow": null,
      "grid_area": null,
      "grid_auto_columns": null,
      "grid_auto_flow": null,
      "grid_auto_rows": null,
      "grid_column": null,
      "grid_gap": null,
      "grid_row": null,
      "grid_template_areas": null,
      "grid_template_columns": null,
      "grid_template_rows": null,
      "height": null,
      "justify_content": null,
      "justify_items": null,
      "left": null,
      "margin": null,
      "max_height": null,
      "max_width": null,
      "min_height": null,
      "min_width": null,
      "object_fit": null,
      "object_position": null,
      "order": null,
      "overflow": null,
      "overflow_x": null,
      "overflow_y": null,
      "padding": null,
      "right": null,
      "top": null,
      "visibility": null,
      "width": null
     }
    },
    "aea3c0cd19f442579d2520cd3699b218": {
     "model_module": "@jupyter-widgets/controls",
     "model_name": "DescriptionStyleModel",
     "state": {
      "_model_module": "@jupyter-widgets/controls",
      "_model_module_version": "1.5.0",
      "_model_name": "DescriptionStyleModel",
      "_view_count": null,
      "_view_module": "@jupyter-widgets/base",
      "_view_module_version": "1.2.0",
      "_view_name": "StyleView",
      "description_width": ""
     }
    },
    "b71becfea27c4e5fb780829c8dff70e6": {
     "model_module": "@jupyter-widgets/controls",
     "model_name": "FloatProgressModel",
     "state": {
      "_dom_classes": [],
      "_model_module": "@jupyter-widgets/controls",
      "_model_module_version": "1.5.0",
      "_model_name": "FloatProgressModel",
      "_view_count": null,
      "_view_module": "@jupyter-widgets/controls",
      "_view_module_version": "1.5.0",
      "_view_name": "ProgressView",
      "bar_style": "success",
      "description": "Computing transition probabilities: 100%",
      "description_tooltip": null,
      "layout": "IPY_MODEL_770b0753cfb44327bb0ff30c7ddbcc31",
      "max": 437,
      "min": 0,
      "orientation": "horizontal",
      "style": "IPY_MODEL_6875127c993642ebbc06230b2f138676",
      "value": 437
     }
    },
    "c0c526e5094c4a0eb5e559c1d0be79da": {
     "model_module": "@jupyter-widgets/base",
     "model_name": "LayoutModel",
     "state": {
      "_model_module": "@jupyter-widgets/base",
      "_model_module_version": "1.2.0",
      "_model_name": "LayoutModel",
      "_view_count": null,
      "_view_module": "@jupyter-widgets/base",
      "_view_module_version": "1.2.0",
      "_view_name": "LayoutView",
      "align_content": null,
      "align_items": null,
      "align_self": null,
      "border": null,
      "bottom": null,
      "display": null,
      "flex": null,
      "flex_flow": null,
      "grid_area": null,
      "grid_auto_columns": null,
      "grid_auto_flow": null,
      "grid_auto_rows": null,
      "grid_column": null,
      "grid_gap": null,
      "grid_row": null,
      "grid_template_areas": null,
      "grid_template_columns": null,
      "grid_template_rows": null,
      "height": null,
      "justify_content": null,
      "justify_items": null,
      "left": null,
      "margin": null,
      "max_height": null,
      "max_width": null,
      "min_height": null,
      "min_width": null,
      "object_fit": null,
      "object_position": null,
      "order": null,
      "overflow": null,
      "overflow_x": null,
      "overflow_y": null,
      "padding": null,
      "right": null,
      "top": null,
      "visibility": null,
      "width": null
     }
    },
    "c3510a9abbf0405dbdaaea02b2ddb1ec": {
     "model_module": "@jupyter-widgets/controls",
     "model_name": "HBoxModel",
     "state": {
      "_dom_classes": [],
      "_model_module": "@jupyter-widgets/controls",
      "_model_module_version": "1.5.0",
      "_model_name": "HBoxModel",
      "_view_count": null,
      "_view_module": "@jupyter-widgets/controls",
      "_view_module_version": "1.5.0",
      "_view_name": "HBoxView",
      "box_style": "",
      "children": [
       "IPY_MODEL_16fcea99c11840ccb492847f707841a4",
       "IPY_MODEL_1d44ccdd073a47ac8b2e77798f2bab05"
      ],
      "layout": "IPY_MODEL_cbb1cc4983e74177be57c7b866b799d5"
     }
    },
    "c8c71dcd381e433ebbb37b8d6c29175a": {
     "model_module": "@jupyter-widgets/controls",
     "model_name": "HBoxModel",
     "state": {
      "_dom_classes": [],
      "_model_module": "@jupyter-widgets/controls",
      "_model_module_version": "1.5.0",
      "_model_name": "HBoxModel",
      "_view_count": null,
      "_view_module": "@jupyter-widgets/controls",
      "_view_module_version": "1.5.0",
      "_view_name": "HBoxView",
      "box_style": "",
      "children": [
       "IPY_MODEL_b71becfea27c4e5fb780829c8dff70e6",
       "IPY_MODEL_24b66d70990c4505a7bf3ce22816fc59"
      ],
      "layout": "IPY_MODEL_c0c526e5094c4a0eb5e559c1d0be79da"
     }
    },
    "cbb1cc4983e74177be57c7b866b799d5": {
     "model_module": "@jupyter-widgets/base",
     "model_name": "LayoutModel",
     "state": {
      "_model_module": "@jupyter-widgets/base",
      "_model_module_version": "1.2.0",
      "_model_name": "LayoutModel",
      "_view_count": null,
      "_view_module": "@jupyter-widgets/base",
      "_view_module_version": "1.2.0",
      "_view_name": "LayoutView",
      "align_content": null,
      "align_items": null,
      "align_self": null,
      "border": null,
      "bottom": null,
      "display": null,
      "flex": null,
      "flex_flow": null,
      "grid_area": null,
      "grid_auto_columns": null,
      "grid_auto_flow": null,
      "grid_auto_rows": null,
      "grid_column": null,
      "grid_gap": null,
      "grid_row": null,
      "grid_template_areas": null,
      "grid_template_columns": null,
      "grid_template_rows": null,
      "height": null,
      "justify_content": null,
      "justify_items": null,
      "left": null,
      "margin": null,
      "max_height": null,
      "max_width": null,
      "min_height": null,
      "min_width": null,
      "object_fit": null,
      "object_position": null,
      "order": null,
      "overflow": null,
      "overflow_x": null,
      "overflow_y": null,
      "padding": null,
      "right": null,
      "top": null,
      "visibility": null,
      "width": null
     }
    }
   }
  }
 },
 "nbformat": 4,
 "nbformat_minor": 1
}
