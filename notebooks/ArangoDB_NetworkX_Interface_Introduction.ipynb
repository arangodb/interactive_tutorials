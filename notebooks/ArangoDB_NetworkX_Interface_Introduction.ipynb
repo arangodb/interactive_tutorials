{
 "cells": [
  {
   "cell_type": "markdown",
   "metadata": {
    "colab_type": "text",
    "id": "view-in-github"
   },
   "source": [
    "<a href=\"https://colab.research.google.com/github/arangodb/interactive_tutorials/blob/master/notebooks/ArangoDB_NetworkX_Interface_Introduction.ipynb\" target=\"_parent\"><img src=\"https://colab.research.google.com/assets/colab-badge.svg\" alt=\"Open In Colab\"/></a>"
   ]
  },
  {
   "cell_type": "markdown",
   "metadata": {
    "id": "g1UeJrxC3NNj"
   },
   "source": [
    "This notebook will illustrate how the Networkx adapter can be used to perform graph analytics tasks on graph data stored in ArangoDB. This is a summarized version of the notebook focusing more on introducing the ArangoDB NetworkX adapter. For this example we will use the IMDB movie review dataset. The dataset provides reviews of various movies by viewers. The details of the dataset are available [here](https://www.imdb.com/interfaces/). \n",
    "\n",
    "The illustration in this notebook is organized as follows:\n",
    "1. Loading the data for the example.\n",
    "2. Creating the Networkx graph from the AranogoDB graph using the Networkx Adapter.\n",
    "3. Analysis of the centrality measure of the graph using Networkx.\n",
    "4. Store the experiment with arangopipe"
   ]
  },
  {
   "cell_type": "code",
   "execution_count": null,
   "metadata": {
    "id": "EZCEpgOMLFzS"
   },
   "outputs": [],
   "source": [
    "%%capture\n",
    "!mkdir oasis\n",
    "!mkdir data\n",
    "!git clone -b imdb_with_ratings https://github.com/arangodb/interactive_tutorials data\n",
    "!git clone -b oasis_connector https://github.com/arangodb/interactive_tutorials oasis\n",
    "!rsync -av oasis/ ./ --exclude=.git\n",
    "!chmod -R 755 ./data\n",
    "!chmod -R 755 ./tools\n",
    "!chmod -R 755 ./oasis\n",
    "\n",
    "!pip3 install adbnx-adapter==0.0.0.2.5.3.post1\n",
    "!pip install arangopipe==0.0.70.0.0\n",
    "!pip3 install networkx\n",
    "!pip3 install matplotlib\n",
    "!pip3 install pyarango\n",
    "!pip3 install python-arango\n"
   ]
  },
  {
   "cell_type": "code",
   "execution_count": null,
   "metadata": {
    "id": "TWaJBo0DGeFp"
   },
   "outputs": [],
   "source": [
    "import matplotlib.pyplot as plt\n",
    "import networkx as nx\n",
    "import seaborn as sns\n",
    "import numpy as np"
   ]
  },
  {
   "cell_type": "code",
   "execution_count": null,
   "metadata": {
    "colab": {
     "base_uri": "https://localhost:8080/"
    },
    "id": "jtxEbfjFMNkB",
    "outputId": "a4ba074c-732c-4d35-cbe1-eb1d5d888567"
   },
   "outputs": [],
   "source": [
    "from adbnx_adapter.imdb_arangoDB_networkx_adapter import IMDBArangoDB_Networkx_Adapter\n",
    "import oasis\n",
    "import matplotlib.pyplot as plt\n",
    "import networkx as nx\n",
    "import seaborn as sns\n",
    "import numpy as np\n",
    "\n",
    "\n",
    "\n",
    "con = oasis.getTempCredentials()\n",
    "\n",
    "# Connect to the temp database\n",
    "conn = oasis.connect(con)\n",
    "db = conn[con[\"dbName\"]]\n",
    "\n",
    "print()\n",
    "print(\"https://{}:{}\".format(con[\"hostname\"], con[\"port\"]))\n",
    "print(\"Username: \" + con[\"username\"])\n",
    "print(\"Password: \" + con[\"password\"])\n",
    "print(\"Database: \" + con[\"dbName\"])"
   ]
  },
  {
   "cell_type": "code",
   "execution_count": null,
   "metadata": {
    "id": "0qhHaa4tkmhS"
   },
   "outputs": [],
   "source": [
    "# Use the new ArangoDB connection with the NetworkX adapter.\n",
    "\n",
    "ma = IMDBArangoDB_Networkx_Adapter(conn=con)"
   ]
  },
  {
   "cell_type": "code",
   "execution_count": null,
   "metadata": {
    "id": "uy4hz3XbpFES"
   },
   "outputs": [],
   "source": [
    "! ./tools/arangorestore -c none --server.endpoint http+ssl://{con[\"hostname\"]}:{con[\"port\"]} --server.username {con[\"username\"]} --server.database {con[\"dbName\"]} --server.password {con[\"password\"]} --default-replication-factor 3  --input-directory \"./data/data/imdb_with_ratings\""
   ]
  },
  {
   "cell_type": "code",
   "execution_count": null,
   "metadata": {
    "colab": {
     "base_uri": "https://localhost:8080/"
    },
    "id": "Br4E83Z-kq5q",
    "outputId": "c2e81453-ad52-4e7f-c580-d13c0e21bc67"
   },
   "outputs": [],
   "source": [
    "from pyArango.connection import *\n",
    "from pyArango.collection import Collection, Edges, Field\n",
    "from pyArango.graph import Graph, EdgeDefinition\n",
    "\n",
    "class Users(Collection):\n",
    "    _fields = {\n",
    "        \"user_id\": Field(),\n",
    "        \"age\": Field(),\n",
    "        \"gender\": Field()\n",
    "    }\n",
    "    \n",
    "class Movies(Collection):\n",
    "    _fields = {\n",
    "        \"movie_id\": Field(),\n",
    "        \"movie_title\": Field(),\n",
    "        \"release_data\": Field()\n",
    "    }\n",
    "\n",
    "class Ratings(Edges): \n",
    "    _fields = {\n",
    "        #user_id and movie_id (_key of movie) are encoded by _from, _to \n",
    "        \"rating\": Field(),\n",
    "        \"timestamp\": Field()\n",
    "    }\n",
    "\n",
    "class IMDBGraph(Graph):\n",
    "    _edgeDefinitions = [EdgeDefinition(\"Ratings\", fromCollections=[\"Users\"], toCollections=[\"Movies\"])]\n",
    "    _orphanedCollections = []\n",
    "\n",
    "iMDBGraph = db.createGraph(\"IMDBGraph\", replicationFactor=3)\n",
    "\n",
    "print(\"Collection/Graph Setup done.\")"
   ]
  },
  {
   "cell_type": "markdown",
   "metadata": {
    "id": "z7L-t4ySB8Xv"
   },
   "source": [
    "# Use the Networkx-Adapter to create a Networkx Graph"
   ]
  },
  {
   "cell_type": "markdown",
   "metadata": {
    "id": "Yl5Do89vB9cY"
   },
   "source": [
    "Now that we have loaded the data into ArangoDB, we can use the __Networkx-Adapter__ to create _Networkx_ graphs from the ArangoDB graph. To do so, we'll have to provide a graph descriptor that describes the graph structure to the __Networkx-Adapter__. These steps are illustrated below. "
   ]
  },
  {
   "cell_type": "markdown",
   "metadata": {
    "id": "vPMhiGHXCKwa"
   },
   "source": [
    "## Specify the Graph Structure"
   ]
  },
  {
   "cell_type": "markdown",
   "metadata": {
    "id": "LcRqJ5i0CPMG"
   },
   "source": [
    "To use the IMDB Networkx Adapter, we need to specify the structure of the graph that we want to create. This is done with a simple dictionary. "
   ]
  },
  {
   "cell_type": "code",
   "execution_count": null,
   "metadata": {
    "id": "TQUgCaPgCRMX"
   },
   "outputs": [],
   "source": [
    "imdb_attributes = {'vertexCollections': {'Users': {},\n",
    "                                         'Movies': {}},\n",
    "                   'edgeCollections': {'Ratings': {'_from', '_to', 'ratings'}}}"
   ]
  },
  {
   "cell_type": "markdown",
   "metadata": {
    "id": "BSEIgbYXCTdM"
   },
   "source": [
    "## Obtain the networkx graph"
   ]
  },
  {
   "cell_type": "code",
   "execution_count": null,
   "metadata": {
    "id": "nOZhEvgtCUDA"
   },
   "outputs": [],
   "source": [
    "g = ma.create_networkx_graph(\n",
    "    graph_name='IMDBGraph',  graph_attributes=imdb_attributes)"
   ]
  },
  {
   "cell_type": "markdown",
   "metadata": {
    "id": "c0J3fx8ZCZX_"
   },
   "source": [
    "__Done!__, we now have a _Networkx_ graph representation that we can use for analysis!"
   ]
  },
  {
   "cell_type": "markdown",
   "metadata": {
    "id": "m9aDYAdBEjaj"
   },
   "source": [
    "# Analysis of the IMDB reviews dataset with Networkx\n",
    "We just created a networkx graph for this problem. In this notebook we will use a small set of ideas from the standard body of ideas used in network analysis to extract insights from the movie review dataset. Networkx provides an implementation of these ideas. These will be discussed next.\n",
    "\n",
    "As mentioned earlier, one of the advantages of using a graph representation is that we can leverage the standard body of ideas used to analyze networks to extract information about this dataset. In what follows, we will call out such facts as we identify them."
   ]
  },
  {
   "cell_type": "markdown",
   "metadata": {
    "id": "prPCS8eZEmR2"
   },
   "source": [
    "## Get the user and movie nodes"
   ]
  },
  {
   "cell_type": "code",
   "execution_count": null,
   "metadata": {
    "id": "1QbN_6bVDqo0"
   },
   "outputs": [],
   "source": [
    "user_nodes = [n for n in g.nodes() if n.startswith(\"Users\")]\n",
    "movie_nodes = [n for n in g.nodes() if n.startswith(\"Movies\")]"
   ]
  },
  {
   "cell_type": "markdown",
   "metadata": {
    "id": "ZYm7qZ4KErc5"
   },
   "source": [
    "## Structural Property Introspection: Number of Nodes and Edges"
   ]
  },
  {
   "cell_type": "code",
   "execution_count": null,
   "metadata": {
    "colab": {
     "base_uri": "https://localhost:8080/"
    },
    "id": "ZDr0_gcKEtYq",
    "outputId": "28205316-471a-4104-a6e5-536ac9ac0a36"
   },
   "outputs": [],
   "source": [
    "print(\"Number of Users are %d\" % (len(user_nodes)))\n",
    "print(\"Number of Movies are %d\" % (len(movie_nodes)))\n",
    "print(\"Number of Ratings are %d\" % (len(list(g.edges()))))"
   ]
  },
  {
   "cell_type": "markdown",
   "metadata": {
    "id": "5mMYOYH_Evla"
   },
   "source": [
    "## Convert the graph obtained from the interface to a bi-partite graph "
   ]
  },
  {
   "cell_type": "code",
   "execution_count": null,
   "metadata": {
    "id": "621tW03TDmCF"
   },
   "outputs": [],
   "source": [
    "B = nx.Graph()\n",
    "B.add_nodes_from(user_nodes, bipartite=0)\n",
    "B.add_nodes_from(movie_nodes, bipartite=1)\n",
    "B.add_edges_from(list(g.edges()))"
   ]
  },
  {
   "cell_type": "markdown",
   "metadata": {
    "id": "da4nJCAqEzig"
   },
   "source": [
    "### Identified fact:\n",
    "_The graph has two kinds of edges. It has 943 users and and 1682 Movies. A user may watch multiple movies. 65499 movie ratings are available. This information is obtained by simply identifying the structure of the graph._"
   ]
  },
  {
   "cell_type": "code",
   "execution_count": null,
   "metadata": {
    "colab": {
     "base_uri": "https://localhost:8080/"
    },
    "id": "GMhKwCNMDvB7",
    "outputId": "2b722a61-ed65-480c-a4d0-d8074212b124"
   },
   "outputs": [],
   "source": [
    "from networkx.algorithms import bipartite\n",
    "bipartite.is_bipartite(B)"
   ]
  },
  {
   "cell_type": "markdown",
   "metadata": {
    "id": "DlPKeI04E14p"
   },
   "source": [
    "## Is the graph connected?\n",
    "If the graph is connected then there is a path between any two nodes in the graph. If not, then some nodes are not connected. In the context of this application, a disconnected graph implies that there exist users in the graph who may not have rated a movie in common. If it is true that any given pair of users have rated at least one movie in common, then there is a path connecting these users through the movie they have rated in common."
   ]
  },
  {
   "cell_type": "markdown",
   "metadata": {
    "id": "TLaK7FtRF9q8"
   },
   "source": [
    "## Identified fact:\n",
    "_In the user community, if we pick any two users, then it is possible that they may not have rated a movie in common._"
   ]
  },
  {
   "cell_type": "code",
   "execution_count": null,
   "metadata": {
    "colab": {
     "base_uri": "https://localhost:8080/"
    },
    "id": "w-SVmYb0F7x6",
    "outputId": "c1565f80-ccb5-483a-c2d4-182895984ce2"
   },
   "outputs": [],
   "source": [
    "nx.is_connected(B)"
   ]
  },
  {
   "cell_type": "code",
   "execution_count": null,
   "metadata": {
    "id": "VxLFQTfcF6Oj"
   },
   "outputs": [],
   "source": [
    "users = [n for n in B.nodes if B.nodes[n]['bipartite'] == 0]\n",
    "movies = [n for n in B.nodes if B.nodes[n]['bipartite'] == 1]"
   ]
  },
  {
   "cell_type": "markdown",
   "metadata": {
    "id": "eQcLOPQ4E9sa"
   },
   "source": [
    "## Centrality Measures\n",
    "\n",
    "A centrality measure identifies influential nodes in a network. How do we formalize the observations about movie importance and the user's rating behavior in the given network? The notion of centrality measure is useful in this regard. Many measures of node centrality are used, see [Chapter 3 of the text book by Zafarani et.al](http://dmml.asu.edu/smm/) for details. We will use degree centraility in this example (see the [documentation](https://networkx.github.io/documentation/stable/reference/algorithms/generated/networkx.algorithms.bipartite.centrality.degree_centrality.html) for details). In the illustrations below, we will capture the top 10 users and movies in terms of importance as determined by this measure. "
   ]
  },
  {
   "cell_type": "code",
   "execution_count": null,
   "metadata": {
    "id": "G3YS0oJEE_hF"
   },
   "outputs": [],
   "source": [
    "dc= bipartite.degree_centrality(B, users)\n",
    "sdcu = {}\n",
    "sdcm = {}\n",
    "for k, v in sorted(dc.items(),reverse=True, key=lambda item: item[1]):\n",
    "    if k.startswith(\"Users\"):\n",
    "        sdcu[k] = v\n",
    "    else:\n",
    "        sdcm[k] = v\n",
    "\n",
    "del dc"
   ]
  },
  {
   "cell_type": "markdown",
   "metadata": {
    "id": "hU-ofQhuFBOk"
   },
   "source": [
    "## List the top 10 users in terms of degree centrality\n",
    "These guys rate a lot of movies"
   ]
  },
  {
   "cell_type": "code",
   "execution_count": null,
   "metadata": {
    "colab": {
     "base_uri": "https://localhost:8080/"
    },
    "id": "inA7G4JlFDCh",
    "outputId": "dcf62423-37bb-4e13-f4f3-1292fbc90817"
   },
   "outputs": [],
   "source": [
    "list(sdcu.keys())[:10]"
   ]
  },
  {
   "cell_type": "markdown",
   "metadata": {
    "id": "pXFdrUUnFEoi"
   },
   "source": [
    "## How does this importance measure vary over the user community?\n",
    "We can get a sense of this by viewing the distribution of this measure."
   ]
  },
  {
   "cell_type": "code",
   "execution_count": null,
   "metadata": {
    "colab": {
     "base_uri": "https://localhost:8080/",
     "height": 604
    },
    "id": "_F39dBHYFTnw",
    "outputId": "107eee6d-30a0-4a1f-babc-d3b76f315657"
   },
   "outputs": [],
   "source": [
    "npvals = np.fromiter(sdcu.values(), dtype=float)\n",
    "sns.set(rc={'figure.figsize':(11.7,8.27)})\n",
    "ax = sns.distplot(npvals, hist = False)\n",
    "plt.title(\"Distribution of User Degree Centrality\")\n",
    "plt.xlabel(\"User Degree Centraility\")"
   ]
  },
  {
   "cell_type": "markdown",
   "metadata": {
    "id": "cK5fic6EFU6w"
   },
   "source": [
    "## How does this importance measure vary over the movie community?"
   ]
  },
  {
   "cell_type": "code",
   "execution_count": null,
   "metadata": {
    "colab": {
     "base_uri": "https://localhost:8080/",
     "height": 604
    },
    "id": "dzsnS7e3FXAj",
    "outputId": "a055e3f4-6c07-4752-858e-4ce5ce6528c3"
   },
   "outputs": [],
   "source": [
    "npvals = np.fromiter(sdcm.values(), dtype=float)\n",
    "sns.set(rc={'figure.figsize':(11.7,8.27)})\n",
    "ax = sns.distplot(npvals, hist = False)\n",
    "plt.title(\"Distribution of Movie Degree Centrality\")\n",
    "plt.xlabel(\"Movie Degree Centraility\")"
   ]
  },
  {
   "cell_type": "markdown",
   "metadata": {
    "id": "yDM-kDObFb3C"
   },
   "source": [
    "### Identified fact:\n",
    "_We have a measure to capture the importance of a movie and a user on the basis of the rating activity performed on them. We have identified important users and movies in the network on the basis of this measure. We have also have information about how this importance measure varies over the users and movies in the data._"
   ]
  },
  {
   "cell_type": "code",
   "execution_count": null,
   "metadata": {
    "id": "r0bJUv71FdJf"
   },
   "outputs": [],
   "source": [
    "m4v = [t[0] for t in g.in_edges('Movies/4')]\n",
    "from itertools import combinations\n",
    "m4vucmb = list(combinations(m4v, 2))"
   ]
  },
  {
   "cell_type": "code",
   "execution_count": null,
   "metadata": {
    "id": "PR_EAyNKG3lg"
   },
   "outputs": [],
   "source": [
    "import networkx as nx\n",
    "gp = g.to_undirected()\n",
    "jcp = nx.jaccard_coefficient(gp, m4vucmb)"
   ]
  },
  {
   "cell_type": "code",
   "execution_count": null,
   "metadata": {
    "id": "5WisePFzG4r3"
   },
   "outputs": [],
   "source": [
    "jcpv = []\n",
    "for u, v, p in jcp:\n",
    "    jcpv.append(p)\n",
    "    #print('(%s, %s) -> %.8f' % (u, v, p))"
   ]
  },
  {
   "cell_type": "markdown",
   "metadata": {
    "id": "BnZIqB-fHKUe"
   },
   "source": [
    "This is a snippet of the above commented out print statement showing the similarity between users who viewed the film Get Shorty.\n",
    "```\n",
    "(Users/562, Users/222) -> 0.06358382\n",
    "(Users/562, Users/264) -> 0.04697987\n",
    "(Users/562, Users/712) -> 0.05128205\n",
    "(Users/562, Users/279) -> 0.04427083\n",
    "(Users/562, Users/16) -> 0.11184211\n",
    "(Users/562, Users/385) -> 0.08171206\n",
    "(Users/562, Users/198) -> 0.11864407\n",
    "```\n",
    "\n"
   ]
  },
  {
   "cell_type": "markdown",
   "metadata": {
    "id": "gAfEEv4JFnxe"
   },
   "source": [
    "# Store metadata about these experiments using Arangopipe"
   ]
  },
  {
   "cell_type": "code",
   "execution_count": null,
   "metadata": {
    "colab": {
     "base_uri": "https://localhost:8080/"
    },
    "id": "N7LNftAcFpBA",
    "outputId": "263a709b-f6e2-4239-815a-e912c5b7370e"
   },
   "outputs": [],
   "source": [
    "from arangopipe.arangopipe_storage.arangopipe_api import ArangoPipe\n",
    "from arangopipe.arangopipe_storage.arangopipe_admin_api import ArangoPipeAdmin\n",
    "from arangopipe.arangopipe_storage.arangopipe_config import ArangoPipeConfig\n",
    "from arangopipe.arangopipe_storage.managed_service_conn_parameters import ManagedServiceConnParam\n",
    "mdb_config = ArangoPipeConfig()\n",
    "msc = ManagedServiceConnParam()\n",
    "conn_params = { msc.DB_SERVICE_HOST : \"arangoml.arangodb.cloud\", \\\n",
    "                        msc.DB_SERVICE_END_POINT : \"createDB\",\\\n",
    "                        msc.DB_SERVICE_NAME : \"createDB\",\\\n",
    "                        msc.DB_SERVICE_PORT : 8529,\\\n",
    "                        msc.DB_CONN_PROTOCOL : 'https'}\n",
    "        \n",
    "mdb_config = mdb_config.create_connection_config(conn_params)\n",
    "admin = ArangoPipeAdmin(reuse_connection = False, config = mdb_config)\n",
    "ap_config = admin.get_config()\n",
    "ap = ArangoPipe(config = ap_config)\n",
    "proj_info = {\"name\": \"IMDB_Movie_Reviews\"}\n",
    "proj_reg = admin.register_project(proj_info)\n",
    "print(\" \")\n",
    "print(\"Your temporary arangopipe database can be accessed using the following credentials:\")\n",
    "mdb_config.get_cfg()"
   ]
  },
  {
   "cell_type": "code",
   "execution_count": null,
   "metadata": {
    "id": "sSihJH8lFq0j"
   },
   "outputs": [],
   "source": [
    "import io\n",
    "import requests\n",
    "url = ('https://raw.githubusercontent.com/arangoml/networkx-adapter/master/examples/IMDB_Networkx_Adapter.ipynb')\n",
    "nbjson = requests.get(url).text\n",
    "model_info = {\"name\": \"Exploratory Data Analysis IMDB\",  \"task\": \"multiple\", 'notebook': nbjson}\n",
    "model_reg = ap.register_model(model_info, project = \"IMDB_Movie_Reviews\")"
   ]
  },
  {
   "cell_type": "markdown",
   "metadata": {
    "id": "1qQja00OFsqH"
   },
   "source": [
    "## Summary \n",
    "* The Networkx-Adapter makes it easy to obtain Networkx graphs from ArangoDB graphs.\n",
    "* We have demonstrated that using a graph representation helped us identify facts about the data. These facts were identified by leveraging standard ideas from Network Theory.\n",
    "* We have leveraged the Networkx graph to obtain a _Node2vec_ embedding of the graph associated with our data. For an example of how the Networkx-Adapter can be used with a _deep learning_ library, please view the [ITSM ArangoDB Adapter](https://github.com/arangoml/networkx-adapter/blob/master/examples/ITSM_ArangoDB_Adapter.ipynb).    "
   ]
  }
 ],
 "metadata": {
  "colab": {
   "collapsed_sections": [],
   "include_colab_link": true,
   "name": "ArangoDB NetworkX Interface - Introduction.ipynb",
   "provenance": []
  },
  "kernelspec": {
   "display_name": "Python 3",
   "language": "python",
   "name": "python3"
  },
  "language_info": {
   "codemirror_mode": {
    "name": "ipython",
    "version": 3
   },
   "file_extension": ".py",
   "mimetype": "text/x-python",
   "name": "python",
   "nbconvert_exporter": "python",
   "pygments_lexer": "ipython3",
   "version": "3.7.6"
  }
 },
 "nbformat": 4,
 "nbformat_minor": 1
}
