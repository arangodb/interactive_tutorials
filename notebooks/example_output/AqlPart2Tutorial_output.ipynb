{
  "cells": [
    {
      "cell_type": "markdown",
      "source": [
        "![arangodb](https://github.com/arangodb/interactive_tutorials/blob/master/notebooks/img/ArangoDB_logo.png?raw=1)"
      ],
      "metadata": {
        "id": "rPAaNfMdd58S"
      }
    },
    {
      "cell_type": "markdown",
      "source": [
        "# AQL Tutorial Part 2"
      ],
      "metadata": {
        "id": "0mrikLW5d58U"
      }
    },
    {
      "cell_type": "markdown",
      "source": [
        "<a href=\"https://colab.research.google.com/github/arangodb/interactive_tutorials/blob/master/notebooks/AqlPart2Tutorial.ipynb\" target=\"_parent\"><img src=\"https://colab.research.google.com/assets/colab-badge.svg\" alt=\"Open In Colab\"/></a>"
      ],
      "metadata": {
        "id": "cvtPVb41d58V"
      }
    },
    {
      "cell_type": "markdown",
      "source": [
        "In the [first part of this tutorial](https://colab.research.google.com/github/joerg84/ArangoDBUniversity/blob/master/AqlCrudTutorial.ipynb) we have looked at basic CRUD queries. In this second part, we will look at some more advanced AQL features:\n",
        "\n",
        "* Filtering \n",
        "* Sorting\n",
        "* Limiting\n",
        "\n",
        "\n",
        "Recall, that in addition to the python interface, you can interact with ArangoDB using its web interface to manage collections and execute the queries."
      ],
      "metadata": {
        "id": "DVdEKfN1d58V"
      }
    },
    {
      "cell_type": "markdown",
      "source": [
        "# Setup "
      ],
      "metadata": {
        "id": "Xl78RI-ad58W"
      }
    },
    {
      "cell_type": "markdown",
      "source": [
        "Before getting started with ArangoDB we need to prepare our environment and create a temporary database on ArangoDB's managed Service Oasis."
      ],
      "metadata": {
        "id": "c1fnQho7d58W"
      }
    },
    {
      "cell_type": "code",
      "execution_count": 1,
      "source": [
        "%%capture\n",
        "!git clone -b oasis_connector --single-branch https://github.com/arangodb/interactive_tutorials.git\n",
        "!rsync -av interactive_tutorials/ ./ --exclude=.git\n",
        "!pip3 install pyarango\n",
        "!pip3 install \"python-arango>=5.0\""
      ],
      "outputs": [],
      "metadata": {
        "id": "qWEmtdrUd58W"
      }
    },
    {
      "cell_type": "code",
      "execution_count": 2,
      "source": [
        "import json\n",
        "import requests\n",
        "import sys\n",
        "import oasis\n",
        "import time\n",
        "\n",
        "from pyArango.connection import *\n",
        "from arango import ArangoClient"
      ],
      "outputs": [],
      "metadata": {
        "id": "vH0iB0cRd58X"
      }
    },
    {
      "cell_type": "markdown",
      "source": [
        "Create the temporary database:"
      ],
      "metadata": {
        "id": "6VYhYlOdd58Y"
      }
    },
    {
      "cell_type": "code",
      "execution_count": 3,
      "source": [
        "# Retrieve tmp credentials from ArangoDB Tutorial Service\n",
        "login = oasis.getTempCredentials(tutorialName=\"AqlPart2Tutorial\", credentialProvider='https://tutorials.arangodb.cloud:8529/_db/_system/tutorialDB/tutorialDB')\n",
        "\n",
        "# Connect to the temp database\n",
        "conn = oasis.connect(login)\n",
        "db = conn[login[\"dbName\"]] "
      ],
      "outputs": [
        {
          "output_type": "stream",
          "name": "stdout",
          "text": [
            "Requesting new temp credentials.\n",
            "Temp database ready to use.\n"
          ]
        }
      ],
      "metadata": {
        "colab": {
          "base_uri": "https://localhost:8080/"
        },
        "id": "Zf0IjA8kd58Z",
        "outputId": "4ebf3339-e877-4fb5-8162-0eb06c98a5a2"
      }
    },
    {
      "cell_type": "code",
      "source": [
        "python_arango_db = oasis.connect_python_arango(login)\n",
        "aql = python_arango_db.aql"
      ],
      "metadata": {
        "id": "2gby33vo3VG1"
      },
      "execution_count": 4,
      "outputs": []
    },
    {
      "cell_type": "code",
      "execution_count": 5,
      "source": [
        "print(\"https://{}:{}\".format(login[\"hostname\"], login[\"port\"]))\n",
        "print(\"Username: \" + login[\"username\"])\n",
        "print(\"Password: \" + login[\"password\"])\n",
        "print(\"Database: \" + login[\"dbName\"])"
      ],
      "outputs": [
        {
          "output_type": "stream",
          "name": "stdout",
          "text": [
            "https://tutorials.arangodb.cloud:8529\n",
            "Username: TUTnwpkbtvpo9e3y5gvmz76s8\n",
            "Password: TUTqrjonemjkgldj73dz3269\n",
            "Database: TUTff8g5rdebt9rf5zl2aaa2e\n"
          ]
        }
      ],
      "metadata": {
        "colab": {
          "base_uri": "https://localhost:8080/"
        },
        "id": "IUJFrZY9d58Z",
        "outputId": "167932b5-21c6-4c05-9bd1-f327f94d008e"
      }
    },
    {
      "cell_type": "markdown",
      "source": [
        "Feel free to use to above URL to checkout the UI!"
      ],
      "metadata": {
        "id": "26RZ62Fyd58Z"
      }
    },
    {
      "cell_type": "markdown",
      "source": [
        "##  Import Data"
      ],
      "metadata": {
        "id": "sYhOm6Bpd58a"
      }
    },
    {
      "cell_type": "markdown",
      "source": [
        "We will work with the same dataset as in the [first part of this tutorial](https://colab.research.google.com/github/joerg84/ArangoDBUniversity/blob/master/AqlCrudTutorial.ipynb). So let us quickly import that into our temporary database. "
      ],
      "metadata": {
        "id": "Q20g1u-ed58a"
      }
    },
    {
      "cell_type": "code",
      "execution_count": 6,
      "source": [
        "# Create collection using pyArango driver\n",
        "db.createCollection(name=\"Characters\")\n",
        "\n",
        "# Creating collections with python-arango\n",
        "# Since the collection is created above this should always pass\n",
        "if python_arango_db.has_collection(\"Characters\"):\n",
        "  pass\n",
        "else:\n",
        "  python_arango_db.create_collection(\"Characters\")"
      ],
      "outputs": [],
      "metadata": {
        "id": "cIbDDhNed58a"
      }
    },
    {
      "cell_type": "code",
      "execution_count": 7,
      "source": [
        "insert_query = \"\"\"\n",
        "LET data = [\n",
        "    { \"name\": \"Ned\", \"surname\": \"Stark\", \"alive\": true, \"age\": 41, \"traits\": [\"A\",\"H\",\"C\",\"N\",\"P\"] },\n",
        "    { \"name\": \"Robert\", \"surname\": \"Baratheon\", \"alive\": false, \"traits\": [\"A\",\"H\",\"C\"] },\n",
        "    { \"name\": \"Jaime\", \"surname\": \"Lannister\", \"alive\": true, \"age\": 36, \"traits\": [\"A\",\"F\",\"B\"] },\n",
        "    { \"name\": \"Catelyn\", \"surname\": \"Stark\", \"alive\": false, \"age\": 40, \"traits\": [\"D\",\"H\",\"C\"] },\n",
        "    { \"name\": \"Cersei\", \"surname\": \"Lannister\", \"alive\": true, \"age\": 36, \"traits\": [\"H\",\"E\",\"F\"] },\n",
        "    { \"name\": \"Daenerys\", \"surname\": \"Targaryen\", \"alive\": true, \"age\": 16, \"traits\": [\"D\",\"H\",\"C\"] },\n",
        "    { \"name\": \"Jorah\", \"surname\": \"Mormont\", \"alive\": false, \"traits\": [\"A\",\"B\",\"C\",\"F\"] },\n",
        "    { \"name\": \"Petyr\", \"surname\": \"Baelish\", \"alive\": false, \"traits\": [\"E\",\"G\",\"F\"] },\n",
        "    { \"name\": \"Viserys\", \"surname\": \"Targaryen\", \"alive\": false, \"traits\": [\"O\",\"L\",\"N\"] },\n",
        "    { \"name\": \"Jon\", \"surname\": \"Snow\", \"alive\": true, \"age\": 16, \"traits\": [\"A\",\"B\",\"C\",\"F\"] },\n",
        "    { \"name\": \"Sansa\", \"surname\": \"Stark\", \"alive\": true, \"age\": 13, \"traits\": [\"D\",\"I\",\"J\"] },\n",
        "    { \"name\": \"Arya\", \"surname\": \"Stark\", \"alive\": true, \"age\": 11, \"traits\": [\"C\",\"K\",\"L\"] },\n",
        "    { \"name\": \"Robb\", \"surname\": \"Stark\", \"alive\": false, \"traits\": [\"A\",\"B\",\"C\",\"K\"] },\n",
        "    { \"name\": \"Theon\", \"surname\": \"Greyjoy\", \"alive\": true, \"age\": 16, \"traits\": [\"E\",\"R\",\"K\"] },\n",
        "    { \"name\": \"Bran\", \"surname\": \"Stark\", \"alive\": true, \"age\": 10, \"traits\": [\"L\",\"J\"] },\n",
        "    { \"name\": \"Joffrey\", \"surname\": \"Baratheon\", \"alive\": false, \"age\": 19, \"traits\": [\"I\",\"L\",\"O\"] },\n",
        "    { \"name\": \"Sandor\", \"surname\": \"Clegane\", \"alive\": true, \"traits\": [\"A\",\"P\",\"K\",\"F\"] },\n",
        "    { \"name\": \"Tyrion\", \"surname\": \"Lannister\", \"alive\": true, \"age\": 32, \"traits\": [\"F\",\"K\",\"M\",\"N\"] },\n",
        "    { \"name\": \"Khal\", \"surname\": \"Drogo\", \"alive\": false, \"traits\": [\"A\",\"C\",\"O\",\"P\"] },\n",
        "    { \"name\": \"Tywin\", \"surname\": \"Lannister\", \"alive\": false, \"traits\": [\"O\",\"M\",\"H\",\"F\"] },\n",
        "    { \"name\": \"Davos\", \"surname\": \"Seaworth\", \"alive\": true, \"age\": 49, \"traits\": [\"C\",\"K\",\"P\",\"F\"] },\n",
        "    { \"name\": \"Samwell\", \"surname\": \"Tarly\", \"alive\": true, \"age\": 17, \"traits\": [\"C\",\"L\",\"I\"] },\n",
        "    { \"name\": \"Stannis\", \"surname\": \"Baratheon\", \"alive\": false, \"traits\": [\"H\",\"O\",\"P\",\"M\"] },\n",
        "    { \"name\": \"Melisandre\", \"alive\": true, \"traits\": [\"G\",\"E\",\"H\"] },\n",
        "    { \"name\": \"Margaery\", \"surname\": \"Tyrell\", \"alive\": false, \"traits\": [\"M\",\"D\",\"B\"] },\n",
        "    { \"name\": \"Jeor\", \"surname\": \"Mormont\", \"alive\": false, \"traits\": [\"C\",\"H\",\"M\",\"P\"] },\n",
        "    { \"name\": \"Bronn\", \"alive\": true, \"traits\": [\"K\",\"E\",\"C\"] },\n",
        "    { \"name\": \"Varys\", \"alive\": true, \"traits\": [\"M\",\"F\",\"N\",\"E\"] },\n",
        "    { \"name\": \"Shae\", \"alive\": false, \"traits\": [\"M\",\"D\",\"G\"] },\n",
        "    { \"name\": \"Talisa\", \"surname\": \"Maegyr\", \"alive\": false, \"traits\": [\"D\",\"C\",\"B\"] },\n",
        "    { \"name\": \"Gendry\", \"alive\": false, \"traits\": [\"K\",\"C\",\"A\"] },\n",
        "    { \"name\": \"Ygritte\", \"alive\": false, \"traits\": [\"A\",\"P\",\"K\"] },\n",
        "    { \"name\": \"Tormund\", \"surname\": \"Giantsbane\", \"alive\": true, \"traits\": [\"C\",\"P\",\"A\",\"I\"] },\n",
        "    { \"name\": \"Gilly\", \"alive\": true, \"traits\": [\"L\",\"J\"] },\n",
        "    { \"name\": \"Brienne\", \"surname\": \"Tarth\", \"alive\": true, \"age\": 32, \"traits\": [\"P\",\"C\",\"A\",\"K\"] },\n",
        "    { \"name\": \"Ramsay\", \"surname\": \"Bolton\", \"alive\": true, \"traits\": [\"E\",\"O\",\"G\",\"A\"] },\n",
        "    { \"name\": \"Ellaria\", \"surname\": \"Sand\", \"alive\": true, \"traits\": [\"P\",\"O\",\"A\",\"E\"] },\n",
        "    { \"name\": \"Daario\", \"surname\": \"Naharis\", \"alive\": true, \"traits\": [\"K\",\"P\",\"A\"] },\n",
        "    { \"name\": \"Missandei\", \"alive\": true, \"traits\": [\"D\",\"L\",\"C\",\"M\"] },\n",
        "    { \"name\": \"Tommen\", \"surname\": \"Baratheon\", \"alive\": true, \"traits\": [\"I\",\"L\",\"B\"] },\n",
        "    { \"name\": \"Jaqen\", \"surname\": \"H'ghar\", \"alive\": true, \"traits\": [\"H\",\"F\",\"K\"] },\n",
        "    { \"name\": \"Roose\", \"surname\": \"Bolton\", \"alive\": true, \"traits\": [\"H\",\"E\",\"F\",\"A\"] },\n",
        "    { \"name\": \"The High Sparrow\", \"alive\": true, \"traits\": [\"H\",\"M\",\"F\",\"O\"] }\n",
        "]\n",
        "\n",
        "FOR d IN data\n",
        "    INSERT d INTO Characters\n",
        "\"\"\"\n",
        "# python-arango\n",
        "aql.execute(insert_query)\n",
        "\n",
        "# pyArango\n",
        "# db.AQLQuery(insert_query)"
      ],
      "outputs": [
        {
          "output_type": "execute_result",
          "data": {
            "text/plain": [
              "<Cursor>"
            ]
          },
          "metadata": {},
          "execution_count": 7
        }
      ],
      "metadata": {
        "colab": {
          "base_uri": "https://localhost:8080/"
        },
        "id": "Kcmj1t6Ed58a",
        "outputId": "b76d5454-d8df-4ca2-f4e0-55a47a237fe4"
      }
    },
    {
      "cell_type": "markdown",
      "source": [
        "As before let us check the `Characters` collection:"
      ],
      "metadata": {
        "id": "tr4-7YaAd58f"
      }
    },
    {
      "cell_type": "code",
      "execution_count": 8,
      "source": [
        "all_characters_names = \"\"\"\n",
        "FOR c IN Characters\n",
        "    RETURN c.name\n",
        "\"\"\"\n",
        "# python-arango\n",
        "query_result = aql.execute(all_characters_names)\n",
        "\n",
        "# pyArango\n",
        "# query_result = db.AQLQuery(all_characters_names, rawResults=True)\n",
        "for doc in  query_result:\n",
        "    print(doc)\n",
        "    print()"
      ],
      "outputs": [
        {
          "output_type": "stream",
          "name": "stdout",
          "text": [
            "Ned\n",
            "\n",
            "Robert\n",
            "\n",
            "Jaime\n",
            "\n",
            "Catelyn\n",
            "\n",
            "Cersei\n",
            "\n",
            "Daenerys\n",
            "\n",
            "Jorah\n",
            "\n",
            "Petyr\n",
            "\n",
            "Viserys\n",
            "\n",
            "Jon\n",
            "\n",
            "Sansa\n",
            "\n",
            "Arya\n",
            "\n",
            "Robb\n",
            "\n",
            "Theon\n",
            "\n",
            "Bran\n",
            "\n",
            "Joffrey\n",
            "\n",
            "Sandor\n",
            "\n",
            "Tyrion\n",
            "\n",
            "Khal\n",
            "\n",
            "Tywin\n",
            "\n",
            "Davos\n",
            "\n",
            "Samwell\n",
            "\n",
            "Stannis\n",
            "\n",
            "Melisandre\n",
            "\n",
            "Margaery\n",
            "\n",
            "Jeor\n",
            "\n",
            "Bronn\n",
            "\n",
            "Varys\n",
            "\n",
            "Shae\n",
            "\n",
            "Talisa\n",
            "\n",
            "Gendry\n",
            "\n",
            "Ygritte\n",
            "\n",
            "Tormund\n",
            "\n",
            "Gilly\n",
            "\n",
            "Brienne\n",
            "\n",
            "Ramsay\n",
            "\n",
            "Ellaria\n",
            "\n",
            "Daario\n",
            "\n",
            "Missandei\n",
            "\n",
            "Tommen\n",
            "\n",
            "Jaqen\n",
            "\n",
            "Roose\n",
            "\n",
            "The High Sparrow\n",
            "\n"
          ]
        }
      ],
      "metadata": {
        "colab": {
          "base_uri": "https://localhost:8080/"
        },
        "id": "pOVTC-EGd58f",
        "outputId": "93d57eb0-9dff-445e-cd78-a0eb2d94c3e9"
      }
    },
    {
      "cell_type": "markdown",
      "source": [
        "# Filter"
      ],
      "metadata": {
        "id": "Rbph_lt8d58f"
      }
    },
    {
      "cell_type": "markdown",
      "source": [
        "To find documents that fulfill certain criteria more complex than key equality, there is the FILTER operation in AQL, which enables us to formulate arbitrary conditions for documents to match.\n",
        "We actually have used a filter condition before to find `Ned`:"
      ],
      "metadata": {
        "id": "qp7ryupfd58g"
      }
    },
    {
      "cell_type": "code",
      "execution_count": 9,
      "source": [
        "find_ned_query = \"\"\"\n",
        "FOR c IN Characters\n",
        "    FILTER c.name == \"Ned\"\n",
        "    RETURN c\n",
        "\"\"\"\n",
        "# python-arango\n",
        "query_result = aql.execute(find_ned_query)\n",
        "\n",
        "# pyArango\n",
        "# query_result = db.AQLQuery(find_ned_query, rawResults=True)\n",
        "for doc in  query_result:\n",
        "    print(doc)\n",
        "    print()"
      ],
      "outputs": [
        {
          "output_type": "stream",
          "name": "stdout",
          "text": [
            "{'_key': '266260862101', '_id': 'Characters/266260862101', '_rev': '_eU5mowG---', 'name': 'Ned', 'surname': 'Stark', 'alive': True, 'age': 41, 'traits': ['A', 'H', 'C', 'N', 'P']}\n",
            "\n"
          ]
        }
      ],
      "metadata": {
        "colab": {
          "base_uri": "https://localhost:8080/"
        },
        "id": "YyNyO9cNd58g",
        "outputId": "0e58bf32-4fb1-4792-e37b-073ddfda601c"
      }
    },
    {
      "cell_type": "markdown",
      "source": [
        "The filter condition reads like: “the attribute name of a character document must be equal to the string Ned”. If the condition applies, character document gets returned. This works with any attribute likewise:"
      ],
      "metadata": {
        "id": "erZlbP2Gd58g"
      }
    },
    {
      "cell_type": "code",
      "execution_count": 10,
      "source": [
        "find_ned_query = \"\"\"\n",
        "FOR c IN Characters\n",
        "    FILTER c.surname == \"Stark\"\n",
        "    RETURN c\n",
        "\"\"\"\n",
        "# python-arango\n",
        "query_result = aql.execute(find_ned_query)\n",
        "\n",
        "# pyArango\n",
        "# query_result = db.AQLQuery(find_ned_query, rawResults=True)\n",
        "for doc in  query_result:\n",
        "    print(doc)\n",
        "    print()"
      ],
      "outputs": [
        {
          "output_type": "stream",
          "name": "stdout",
          "text": [
            "{'_key': '266260862101', '_id': 'Characters/266260862101', '_rev': '_eU5mowG---', 'name': 'Ned', 'surname': 'Stark', 'alive': True, 'age': 41, 'traits': ['A', 'H', 'C', 'N', 'P']}\n",
            "\n",
            "{'_key': '266260862104', '_id': 'Characters/266260862104', '_rev': '_eU5mowG--B', 'name': 'Catelyn', 'surname': 'Stark', 'alive': False, 'age': 40, 'traits': ['D', 'H', 'C']}\n",
            "\n",
            "{'_key': '266260862111', '_id': 'Characters/266260862111', '_rev': '_eU5mowG--I', 'name': 'Sansa', 'surname': 'Stark', 'alive': True, 'age': 13, 'traits': ['D', 'I', 'J']}\n",
            "\n",
            "{'_key': '266260862112', '_id': 'Characters/266260862112', '_rev': '_eU5mowG--J', 'name': 'Arya', 'surname': 'Stark', 'alive': True, 'age': 11, 'traits': ['C', 'K', 'L']}\n",
            "\n",
            "{'_key': '266260862113', '_id': 'Characters/266260862113', '_rev': '_eU5mowG--K', 'name': 'Robb', 'surname': 'Stark', 'alive': False, 'traits': ['A', 'B', 'C', 'K']}\n",
            "\n",
            "{'_key': '266260862115', '_id': 'Characters/266260862115', '_rev': '_eU5mowG--M', 'name': 'Bran', 'surname': 'Stark', 'alive': True, 'age': 10, 'traits': ['L', 'J']}\n",
            "\n"
          ]
        }
      ],
      "metadata": {
        "colab": {
          "base_uri": "https://localhost:8080/"
        },
        "id": "vcSQ3qW7d58g",
        "outputId": "0cc817d6-7443-4f68-8c69-01ae83ad6de3"
      }
    },
    {
      "cell_type": "markdown",
      "source": [
        "## Range conditions\n",
        "Strict equality is one possible condition we can state. There are plenty of other conditions we can formulate however. For example, we could ask for all young characters:"
      ],
      "metadata": {
        "id": "Jts3GQNHd58g"
      }
    },
    {
      "cell_type": "code",
      "execution_count": 11,
      "source": [
        "find_adults_query = \"\"\"\n",
        "FOR c IN Characters\n",
        "    FILTER c.age >= 13\n",
        "    RETURN c.name\n",
        "\"\"\"\n",
        "# python-arango\n",
        "query_result = aql.execute(find_adults_query)\n",
        "\n",
        "# pyArango\n",
        "# query_result = db.AQLQuery(find_adults_query, rawResults=True)\n",
        "for doc in  query_result:\n",
        "    print(doc)\n",
        "    print()"
      ],
      "outputs": [
        {
          "output_type": "stream",
          "name": "stdout",
          "text": [
            "Ned\n",
            "\n",
            "Jaime\n",
            "\n",
            "Catelyn\n",
            "\n",
            "Cersei\n",
            "\n",
            "Daenerys\n",
            "\n",
            "Jon\n",
            "\n",
            "Sansa\n",
            "\n",
            "Theon\n",
            "\n",
            "Joffrey\n",
            "\n",
            "Tyrion\n",
            "\n",
            "Davos\n",
            "\n",
            "Samwell\n",
            "\n",
            "Brienne\n",
            "\n"
          ]
        }
      ],
      "metadata": {
        "colab": {
          "base_uri": "https://localhost:8080/"
        },
        "id": "GEbN30ODd58h",
        "outputId": "169669e7-24a6-48f0-8faf-6684b70de905"
      }
    },
    {
      "cell_type": "markdown",
      "source": [
        "The operator >= stands for greater-or-equal, so every character of age 13 or older is returned (only their name in the example). We can return names and age of all characters younger than 13 by changing the operator to less-than and using the object syntax to define a subset of attributes to return:"
      ],
      "metadata": {
        "id": "rbzHmSMld58h"
      }
    },
    {
      "cell_type": "code",
      "execution_count": 12,
      "source": [
        "find_young_query = \"\"\"\n",
        "FOR c IN Characters\n",
        "    FILTER c.age < 13\n",
        "    RETURN { name: c.name, age: c.age }\n",
        "\"\"\"\n",
        "# python-arango\n",
        "query_result = aql.execute(find_young_query)\n",
        "\n",
        "# pyArango\n",
        "# query_result = db.AQLQuery(find_young_query, rawResults=True)\n",
        "for doc in  query_result:\n",
        "    print(doc)\n",
        "    print()   "
      ],
      "outputs": [
        {
          "output_type": "stream",
          "name": "stdout",
          "text": [
            "{'name': 'Robert', 'age': None}\n",
            "\n",
            "{'name': 'Jorah', 'age': None}\n",
            "\n",
            "{'name': 'Petyr', 'age': None}\n",
            "\n",
            "{'name': 'Viserys', 'age': None}\n",
            "\n",
            "{'name': 'Arya', 'age': 11}\n",
            "\n",
            "{'name': 'Robb', 'age': None}\n",
            "\n",
            "{'name': 'Bran', 'age': 10}\n",
            "\n",
            "{'name': 'Sandor', 'age': None}\n",
            "\n",
            "{'name': 'Khal', 'age': None}\n",
            "\n",
            "{'name': 'Tywin', 'age': None}\n",
            "\n",
            "{'name': 'Stannis', 'age': None}\n",
            "\n",
            "{'name': 'Melisandre', 'age': None}\n",
            "\n",
            "{'name': 'Margaery', 'age': None}\n",
            "\n",
            "{'name': 'Jeor', 'age': None}\n",
            "\n",
            "{'name': 'Bronn', 'age': None}\n",
            "\n",
            "{'name': 'Varys', 'age': None}\n",
            "\n",
            "{'name': 'Shae', 'age': None}\n",
            "\n",
            "{'name': 'Talisa', 'age': None}\n",
            "\n",
            "{'name': 'Gendry', 'age': None}\n",
            "\n",
            "{'name': 'Ygritte', 'age': None}\n",
            "\n",
            "{'name': 'Tormund', 'age': None}\n",
            "\n",
            "{'name': 'Gilly', 'age': None}\n",
            "\n",
            "{'name': 'Ramsay', 'age': None}\n",
            "\n",
            "{'name': 'Ellaria', 'age': None}\n",
            "\n",
            "{'name': 'Daario', 'age': None}\n",
            "\n",
            "{'name': 'Missandei', 'age': None}\n",
            "\n",
            "{'name': 'Tommen', 'age': None}\n",
            "\n",
            "{'name': 'Jaqen', 'age': None}\n",
            "\n",
            "{'name': 'Roose', 'age': None}\n",
            "\n",
            "{'name': 'The High Sparrow', 'age': None}\n",
            "\n"
          ]
        }
      ],
      "metadata": {
        "colab": {
          "base_uri": "https://localhost:8080/"
        },
        "id": "42Ip9aDsd58h",
        "outputId": "82a445cf-ca09-4dc5-ddb8-8f44f347e616"
      }
    },
    {
      "cell_type": "markdown",
      "source": [
        "You may notice that it returns name and age of 30 characters, most with an age of null. The reason for this is, that null is the fallback value if an attribute is requested by the query, but no such attribute exists in the document, and the null is compares to numbers as lower (see [Type and value order](https://www.arangodb.com/docs/stable/aql/fundamentals-type-value-order.html)). Hence, it accidentally fulfills the age criterion c.age < 13 (null < 13). To not let documents pass the filter without an age attribute, we can add a second criterion:"
      ],
      "metadata": {
        "id": "digxI0nbd58h"
      }
    },
    {
      "cell_type": "code",
      "execution_count": 13,
      "source": [
        "find_young_query = \"\"\"\n",
        "FOR c IN Characters\n",
        "    FILTER c.age < 13\n",
        "    FILTER c.age != null\n",
        "    RETURN { name: c.name, age: c.age }\n",
        "\"\"\"\n",
        "# python-arango\n",
        "query_result = aql.execute(find_young_query)\n",
        "\n",
        "# pyArango\n",
        "# query_result = db.AQLQuery(find_young_query, rawResults=True)\n",
        "for doc in  query_result:\n",
        "    print(doc)\n",
        "    print()   "
      ],
      "outputs": [
        {
          "output_type": "stream",
          "name": "stdout",
          "text": [
            "{'name': 'Arya', 'age': 11}\n",
            "\n",
            "{'name': 'Bran', 'age': 10}\n",
            "\n"
          ]
        }
      ],
      "metadata": {
        "colab": {
          "base_uri": "https://localhost:8080/"
        },
        "id": "9NhdW447d58h",
        "outputId": "de84ed63-ad91-4d2f-99d5-b545e4046403"
      }
    },
    {
      "cell_type": "markdown",
      "source": [
        "This could equally be written with a boolean AND operator as:"
      ],
      "metadata": {
        "id": "oG_2mJMJd58h"
      }
    },
    {
      "cell_type": "code",
      "execution_count": 14,
      "source": [
        "find_young_query = \"\"\"\n",
        "FOR c IN Characters\n",
        "    FILTER c.age < 13 AND c.age != null\n",
        "    RETURN { name: c.name, age: c.age }\n",
        "\"\"\"\n",
        "# python-arango\n",
        "query_result = aql.execute(find_young_query)\n",
        "\n",
        "# pyArango\n",
        "# query_result = db.AQLQuery(find_young_query, rawResults=True)\n",
        "for doc in  query_result:\n",
        "    print(doc)\n",
        "    print()  "
      ],
      "outputs": [
        {
          "output_type": "stream",
          "name": "stdout",
          "text": [
            "{'name': 'Arya', 'age': 11}\n",
            "\n",
            "{'name': 'Bran', 'age': 10}\n",
            "\n"
          ]
        }
      ],
      "metadata": {
        "colab": {
          "base_uri": "https://localhost:8080/"
        },
        "id": "WIh4tl9td58i",
        "outputId": "596155bf-2e4c-43d2-8d3a-9ef9f9b11d88"
      }
    },
    {
      "cell_type": "markdown",
      "source": [
        "If you want documents to fulfill one or another condition, possibly for different attributes as well, use OR:"
      ],
      "metadata": {
        "id": "8_-8Y959d58i"
      }
    },
    {
      "cell_type": "code",
      "execution_count": 15,
      "source": [
        "find_joffrey_query = \"\"\"\n",
        "FOR c IN Characters\n",
        "    FILTER c.name == \"Jon\" OR c.name == \"Joffrey\"\n",
        "    RETURN { name: c.name, surname: c.surname }\n",
        "\"\"\"\n",
        "# python-arango\n",
        "query_result = aql.execute(find_joffrey_query)\n",
        "\n",
        "# pyArango\n",
        "# query_result = db.AQLQuery(find_joffrey_query, rawResults=True)\n",
        "for doc in  query_result:\n",
        "    print(doc)\n",
        "    print()  "
      ],
      "outputs": [
        {
          "output_type": "stream",
          "name": "stdout",
          "text": [
            "{'name': 'Jon', 'surname': 'Snow'}\n",
            "\n",
            "{'name': 'Joffrey', 'surname': 'Baratheon'}\n",
            "\n"
          ]
        }
      ],
      "metadata": {
        "colab": {
          "base_uri": "https://localhost:8080/"
        },
        "id": "6P0qL6ZEd58i",
        "outputId": "4627d581-4891-480b-c795-8ad9cd441900"
      }
    },
    {
      "cell_type": "markdown",
      "source": [
        "To learn more about Filter Operation check the [documentation](https://www.arangodb.com/docs/stable/aql/operations-filter.html)."
      ],
      "metadata": {
        "id": "AW3A9OD4d58i"
      }
    },
    {
      "cell_type": "markdown",
      "source": [
        "# Sorting"
      ],
      "metadata": {
        "id": "uPsfs_x8d58i"
      }
    },
    {
      "cell_type": "code",
      "execution_count": 16,
      "source": [
        "all_characters_names = \"\"\"\n",
        "FOR c IN Characters\n",
        "    RETURN c.name\n",
        "\"\"\"\n",
        "# python-arango\n",
        "query_result = aql.execute(all_characters_names)\n",
        "\n",
        "# pyArango\n",
        "# query_result = db.AQLQuery(all_characters_names, rawResults=True)\n",
        "for doc in  query_result:\n",
        "    print(doc)\n",
        "    print()"
      ],
      "outputs": [
        {
          "output_type": "stream",
          "name": "stdout",
          "text": [
            "Ned\n",
            "\n",
            "Robert\n",
            "\n",
            "Jaime\n",
            "\n",
            "Catelyn\n",
            "\n",
            "Cersei\n",
            "\n",
            "Daenerys\n",
            "\n",
            "Jorah\n",
            "\n",
            "Petyr\n",
            "\n",
            "Viserys\n",
            "\n",
            "Jon\n",
            "\n",
            "Sansa\n",
            "\n",
            "Arya\n",
            "\n",
            "Robb\n",
            "\n",
            "Theon\n",
            "\n",
            "Bran\n",
            "\n",
            "Joffrey\n",
            "\n",
            "Sandor\n",
            "\n",
            "Tyrion\n",
            "\n",
            "Khal\n",
            "\n",
            "Tywin\n",
            "\n",
            "Davos\n",
            "\n",
            "Samwell\n",
            "\n",
            "Stannis\n",
            "\n",
            "Melisandre\n",
            "\n",
            "Margaery\n",
            "\n",
            "Jeor\n",
            "\n",
            "Bronn\n",
            "\n",
            "Varys\n",
            "\n",
            "Shae\n",
            "\n",
            "Talisa\n",
            "\n",
            "Gendry\n",
            "\n",
            "Ygritte\n",
            "\n",
            "Tormund\n",
            "\n",
            "Gilly\n",
            "\n",
            "Brienne\n",
            "\n",
            "Ramsay\n",
            "\n",
            "Ellaria\n",
            "\n",
            "Daario\n",
            "\n",
            "Missandei\n",
            "\n",
            "Tommen\n",
            "\n",
            "Jaqen\n",
            "\n",
            "Roose\n",
            "\n",
            "The High Sparrow\n",
            "\n"
          ]
        }
      ],
      "metadata": {
        "colab": {
          "base_uri": "https://localhost:8080/"
        },
        "id": "_aMHigSWd58i",
        "outputId": "21026557-d6af-4c77-8ae9-a47e9e0da73d"
      }
    },
    {
      "cell_type": "markdown",
      "source": [
        "If we recall the above query, the order in which records were returned by the queries shown until is basically random. To return them in a defined order, we can add a SORT() operation."
      ],
      "metadata": {
        "id": "PHenmrPUd58i"
      }
    },
    {
      "cell_type": "code",
      "execution_count": 17,
      "source": [
        "all_characters_names = \"\"\"\n",
        "FOR c IN Characters\n",
        "    SORT c.name\n",
        "    RETURN c.name\n",
        "\"\"\"\n",
        "\n",
        "# python-arango\n",
        "query_result = aql.execute(all_characters_names)\n",
        "\n",
        "# pyArango\n",
        "# query_result = db.AQLQuery(all_characters_names, rawResults=True)\n",
        "for doc in  query_result:\n",
        "    print(doc)\n",
        "    print()"
      ],
      "outputs": [
        {
          "output_type": "stream",
          "name": "stdout",
          "text": [
            "Arya\n",
            "\n",
            "Bran\n",
            "\n",
            "Brienne\n",
            "\n",
            "Bronn\n",
            "\n",
            "Catelyn\n",
            "\n",
            "Cersei\n",
            "\n",
            "Daario\n",
            "\n",
            "Daenerys\n",
            "\n",
            "Davos\n",
            "\n",
            "Ellaria\n",
            "\n",
            "Gendry\n",
            "\n",
            "Gilly\n",
            "\n",
            "Jaime\n",
            "\n",
            "Jaqen\n",
            "\n",
            "Jeor\n",
            "\n",
            "Joffrey\n",
            "\n",
            "Jon\n",
            "\n",
            "Jorah\n",
            "\n",
            "Khal\n",
            "\n",
            "Margaery\n",
            "\n",
            "Melisandre\n",
            "\n",
            "Missandei\n",
            "\n",
            "Ned\n",
            "\n",
            "Petyr\n",
            "\n",
            "Ramsay\n",
            "\n",
            "Robb\n",
            "\n",
            "Robert\n",
            "\n",
            "Roose\n",
            "\n",
            "Samwell\n",
            "\n",
            "Sandor\n",
            "\n",
            "Sansa\n",
            "\n",
            "Shae\n",
            "\n",
            "Stannis\n",
            "\n",
            "Talisa\n",
            "\n",
            "The High Sparrow\n",
            "\n",
            "Theon\n",
            "\n",
            "Tommen\n",
            "\n",
            "Tormund\n",
            "\n",
            "Tyrion\n",
            "\n",
            "Tywin\n",
            "\n",
            "Varys\n",
            "\n",
            "Viserys\n",
            "\n",
            "Ygritte\n",
            "\n"
          ]
        }
      ],
      "metadata": {
        "colab": {
          "base_uri": "https://localhost:8080/"
        },
        "id": "ynaMFk_Rd58j",
        "outputId": "4955a7ee-ed41-4601-ee64-35b14f921af8"
      }
    },
    {
      "cell_type": "markdown",
      "source": [
        "See how it sorted by name, then returned the ten alphabetically first coming names. We can reverse the sort order with DESC like descending:"
      ],
      "metadata": {
        "id": "9Pn-stWjd58j"
      }
    },
    {
      "cell_type": "code",
      "execution_count": 18,
      "source": [
        "all_characters_names = \"\"\"\n",
        "FOR c IN Characters\n",
        "    SORT c.name DESC\n",
        "    RETURN c.name\n",
        "\"\"\"\n",
        "# python-arango\n",
        "query_result = aql.execute(all_characters_names)\n",
        "\n",
        "# pyArango\n",
        "# query_result = db.AQLQuery(all_characters_names, rawResults=True)\n",
        "for doc in  query_result:\n",
        "    print(doc)\n",
        "    print()"
      ],
      "outputs": [
        {
          "output_type": "stream",
          "name": "stdout",
          "text": [
            "Ygritte\n",
            "\n",
            "Viserys\n",
            "\n",
            "Varys\n",
            "\n",
            "Tywin\n",
            "\n",
            "Tyrion\n",
            "\n",
            "Tormund\n",
            "\n",
            "Tommen\n",
            "\n",
            "Theon\n",
            "\n",
            "The High Sparrow\n",
            "\n",
            "Talisa\n",
            "\n",
            "Stannis\n",
            "\n",
            "Shae\n",
            "\n",
            "Sansa\n",
            "\n",
            "Sandor\n",
            "\n",
            "Samwell\n",
            "\n",
            "Roose\n",
            "\n",
            "Robert\n",
            "\n",
            "Robb\n",
            "\n",
            "Ramsay\n",
            "\n",
            "Petyr\n",
            "\n",
            "Ned\n",
            "\n",
            "Missandei\n",
            "\n",
            "Melisandre\n",
            "\n",
            "Margaery\n",
            "\n",
            "Khal\n",
            "\n",
            "Jorah\n",
            "\n",
            "Jon\n",
            "\n",
            "Joffrey\n",
            "\n",
            "Jeor\n",
            "\n",
            "Jaqen\n",
            "\n",
            "Jaime\n",
            "\n",
            "Gilly\n",
            "\n",
            "Gendry\n",
            "\n",
            "Ellaria\n",
            "\n",
            "Davos\n",
            "\n",
            "Daenerys\n",
            "\n",
            "Daario\n",
            "\n",
            "Cersei\n",
            "\n",
            "Catelyn\n",
            "\n",
            "Bronn\n",
            "\n",
            "Brienne\n",
            "\n",
            "Bran\n",
            "\n",
            "Arya\n",
            "\n"
          ]
        }
      ],
      "metadata": {
        "colab": {
          "base_uri": "https://localhost:8080/"
        },
        "id": "O4Ja0M_9d58j",
        "outputId": "f95db188-c2f1-47a5-a61a-96d36280e8da"
      }
    },
    {
      "cell_type": "markdown",
      "source": [
        "The first sort was ascending, which is the default order. Because it is the default, it is not required to explicitly ask for ASC order."
      ],
      "metadata": {
        "id": "5x1hepgVd58j"
      }
    },
    {
      "cell_type": "markdown",
      "source": [
        "## Sort by multiple attributes\n",
        "Assume we want to sort by surname. Many of the characters share a surname. The result order among characters with the same surname is undefined. We can first sort by surname, then name to determine the order:\n",
        "\n"
      ],
      "metadata": {
        "id": "hm1Khn7ed58j"
      }
    },
    {
      "cell_type": "code",
      "execution_count": 19,
      "source": [
        "all_characters_names = \"\"\"\n",
        "FOR c IN Characters\n",
        "    FILTER c.surname\n",
        "    SORT c.surname, c.name\n",
        "    LIMIT 10\n",
        "    RETURN {\n",
        "        surname: c.surname,\n",
        "        name: c.name\n",
        "    }\n",
        "\"\"\"\n",
        "# python-arango\n",
        "query_result = aql.execute(all_characters_names)\n",
        "\n",
        "# pyArango\n",
        "# query_result = db.AQLQuery(all_characters_names, rawResults=True)\n",
        "for doc in  query_result:\n",
        "    print(doc)\n",
        "    print()"
      ],
      "outputs": [
        {
          "output_type": "stream",
          "name": "stdout",
          "text": [
            "{'surname': 'Baelish', 'name': 'Petyr'}\n",
            "\n",
            "{'surname': 'Baratheon', 'name': 'Joffrey'}\n",
            "\n",
            "{'surname': 'Baratheon', 'name': 'Robert'}\n",
            "\n",
            "{'surname': 'Baratheon', 'name': 'Stannis'}\n",
            "\n",
            "{'surname': 'Baratheon', 'name': 'Tommen'}\n",
            "\n",
            "{'surname': 'Bolton', 'name': 'Ramsay'}\n",
            "\n",
            "{'surname': 'Bolton', 'name': 'Roose'}\n",
            "\n",
            "{'surname': 'Clegane', 'name': 'Sandor'}\n",
            "\n",
            "{'surname': 'Drogo', 'name': 'Khal'}\n",
            "\n",
            "{'surname': 'Giantsbane', 'name': 'Tormund'}\n",
            "\n"
          ]
        }
      ],
      "metadata": {
        "colab": {
          "base_uri": "https://localhost:8080/"
        },
        "id": "bXcNxT8cd58j",
        "outputId": "8f9087af-c934-46d3-820c-259bd1aee131"
      }
    },
    {
      "cell_type": "markdown",
      "source": [
        "Overall, the documents are sorted by last name. If the surname is the same for two characters, the name values are compared and the result sorted.\n",
        "\n"
      ],
      "metadata": {
        "id": "wcPa0wiwd58j"
      }
    },
    {
      "cell_type": "markdown",
      "source": [
        "# Limiting"
      ],
      "metadata": {
        "id": "LVVbpgKed58k"
      }
    },
    {
      "cell_type": "markdown",
      "source": [
        "It may not always be necessary to return all documents, that a FOR loop would normally return. In those cases, we can limit the amount of documents with a LIMIT() operation:"
      ],
      "metadata": {
        "id": "-uFvqhdgd58k"
      }
    },
    {
      "cell_type": "code",
      "execution_count": 20,
      "source": [
        "sample_chars_query = \"\"\"\n",
        "FOR c IN Characters\n",
        "    SORT c.name\n",
        "    LIMIT 5\n",
        "    RETURN c.name\n",
        "\"\"\"\n",
        "# python-arango\n",
        "query_result = aql.execute(sample_chars_query)\n",
        "\n",
        "# pyArango\n",
        "# query_result = db.AQLQuery(sample_chars_query, rawResults=True)\n",
        "for doc in  query_result:\n",
        "    print(doc)\n",
        "    print()  "
      ],
      "outputs": [
        {
          "output_type": "stream",
          "name": "stdout",
          "text": [
            "Arya\n",
            "\n",
            "Bran\n",
            "\n",
            "Brienne\n",
            "\n",
            "Bronn\n",
            "\n",
            "Catelyn\n",
            "\n"
          ]
        }
      ],
      "metadata": {
        "colab": {
          "base_uri": "https://localhost:8080/"
        },
        "id": "p6BRyyVfd58k",
        "outputId": "0758e4d0-dbfa-4703-a203-11217d9429c5"
      }
    },
    {
      "cell_type": "markdown",
      "source": [
        "LIMIT is followed by a number for the maximum document count. There is a second syntax however, which allows you to skip a certain amount of record and return the next n documents:"
      ],
      "metadata": {
        "id": "JpCyKy5Jd58k"
      }
    },
    {
      "cell_type": "code",
      "execution_count": 21,
      "source": [
        "sample_chars_query = \"\"\"\n",
        "FOR c IN Characters\n",
        "    SORT c.name\n",
        "    LIMIT 2, 5\n",
        "    RETURN c.name\n",
        "\"\"\"\n",
        "# python-arango\n",
        "query_result = aql.execute(sample_chars_query)\n",
        "\n",
        "# pyArango\n",
        "# query_result = db.AQLQuery(sample_chars_query, rawResults=True)\n",
        "for doc in  query_result:\n",
        "    print(doc)\n",
        "    print()  "
      ],
      "outputs": [
        {
          "output_type": "stream",
          "name": "stdout",
          "text": [
            "Brienne\n",
            "\n",
            "Bronn\n",
            "\n",
            "Catelyn\n",
            "\n",
            "Cersei\n",
            "\n",
            "Daario\n",
            "\n"
          ]
        }
      ],
      "metadata": {
        "colab": {
          "base_uri": "https://localhost:8080/"
        },
        "id": "-mm_LtPsd58k",
        "outputId": "e377b510-c983-4ead-a80e-b3e5aceb03bc"
      }
    },
    {
      "cell_type": "markdown",
      "source": [
        "# Sort and Limit Combined"
      ],
      "metadata": {
        "id": "o-sHaGxWd58k"
      }
    },
    {
      "cell_type": "markdown",
      "source": [
        "The order can also be determined by a numeric value, such as the age:\n",
        "A filter is applied to avoid documents without age attribute. The remaining documents are sorted by age in ascending order, and the name and age of the ten youngest characters are returned."
      ],
      "metadata": {
        "id": "a7bmdlY6d58k"
      }
    },
    {
      "cell_type": "code",
      "execution_count": 22,
      "source": [
        "sample_chars_query = \"\"\"\n",
        "FOR c IN Characters\n",
        "    FILTER c.age\n",
        "    SORT c.age\n",
        "    LIMIT 10\n",
        "    RETURN {\n",
        "        name: c.name,\n",
        "        age: c.age\n",
        "    }\n",
        "\"\"\"\n",
        "# python-arango\n",
        "query_result = aql.execute(sample_chars_query)\n",
        "\n",
        "# pyArango\n",
        "# query_result = db.AQLQuery(sample_chars_query, rawResults=True)\n",
        "for doc in  query_result:\n",
        "    print(doc)\n",
        "    print()  "
      ],
      "outputs": [
        {
          "output_type": "stream",
          "name": "stdout",
          "text": [
            "{'name': 'Bran', 'age': 10}\n",
            "\n",
            "{'name': 'Arya', 'age': 11}\n",
            "\n",
            "{'name': 'Sansa', 'age': 13}\n",
            "\n",
            "{'name': 'Daenerys', 'age': 16}\n",
            "\n",
            "{'name': 'Jon', 'age': 16}\n",
            "\n",
            "{'name': 'Theon', 'age': 16}\n",
            "\n",
            "{'name': 'Samwell', 'age': 17}\n",
            "\n",
            "{'name': 'Joffrey', 'age': 19}\n",
            "\n",
            "{'name': 'Tyrion', 'age': 32}\n",
            "\n",
            "{'name': 'Brienne', 'age': 32}\n",
            "\n"
          ]
        }
      ],
      "metadata": {
        "colab": {
          "base_uri": "https://localhost:8080/"
        },
        "id": "mFVangeAd58k",
        "outputId": "fb1363e1-ed68-4d24-bfca-be145b60c331"
      }
    },
    {
      "cell_type": "markdown",
      "source": [
        "Please, refer to the documentation for [SORT operation](https://www.arangodb.com/docs/stable/aql/operations-sort.html) and [LIMIT operation](https://www.arangodb.com/docs/stable/aql/operations-limit.html)  for more details.\n"
      ],
      "metadata": {
        "id": "H736v_9xd58l"
      }
    },
    {
      "cell_type": "markdown",
      "source": [
        "# Next Steps"
      ],
      "metadata": {
        "id": "cg6HPTJfd58l"
      }
    },
    {
      "cell_type": "markdown",
      "source": [
        "To continue playing and working with ArangoDB beyond the temporary database, you can:\n",
        "\n",
        "* [Get a 2 week free Trial with the ArangoDB Cloud](https://cloud.arangodb.com/home?utm_source=AQLPart2&utm_medium=Github&utm_campaign=ArangoDB%20University)\n",
        "* [Download ArangoDB](https://www.arangodb.com/download-major/)\n",
        "* Keep Learning at thttps://www.arangodb.com/arangodb-training-center/"
      ],
      "metadata": {
        "id": "2INWK6osd58l"
      }
    },
    {
      "cell_type": "markdown",
      "source": [
        "# Further Links"
      ],
      "metadata": {
        "id": "zYNoMNVXd58l"
      }
    },
    {
      "cell_type": "markdown",
      "source": [
        "* https://www.arangodb.com/docs/stable/aql/tutorial.html"
      ],
      "metadata": {
        "id": "bctci4hkd58l"
      }
    }
  ],
  "metadata": {
    "kernelspec": {
      "display_name": "Python 3",
      "language": "python",
      "name": "python3"
    },
    "language_info": {
      "codemirror_mode": {
        "name": "ipython",
        "version": 3
      },
      "file_extension": ".py",
      "mimetype": "text/x-python",
      "name": "python",
      "nbconvert_exporter": "python",
      "pygments_lexer": "ipython3",
      "version": "3.7.7"
    },
    "colab": {
      "name": "AqlPart2Tutorial.ipynb",
      "provenance": []
    }
  },
  "nbformat": 4,
  "nbformat_minor": 0
}