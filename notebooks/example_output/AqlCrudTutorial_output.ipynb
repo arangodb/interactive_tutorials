{
  "cells": [
    {
      "cell_type": "markdown",
      "source": [
        "![arangodb](https://github.com/arangodb/interactive_tutorials/blob/master/notebooks/img/ArangoDB_logo.png?raw=1)"
      ],
      "metadata": {
        "id": "EjHT0pfkd50d"
      }
    },
    {
      "cell_type": "markdown",
      "source": [
        "# AQL CRUD Tutorial"
      ],
      "metadata": {
        "id": "XIHPS095d50h"
      }
    },
    {
      "cell_type": "markdown",
      "source": [
        "<a href=\"https://colab.research.google.com/github/arangodb/interactive_tutorials/blob/master/notebooks/AqlCrudTutorial.ipynb\" target=\"_parent\"><img src=\"https://colab.research.google.com/assets/colab-badge.svg\" alt=\"Open In Colab\"/></a>"
      ],
      "metadata": {
        "id": "AYr8DXPXd50h"
      }
    },
    {
      "cell_type": "markdown",
      "source": [
        "This is an introduction to ArangoDB’s query language AQL, built around a small dataset of characters from the novel and fantasy drama television series Game of Thrones (as of season 1). It includes character traits in two languages, some family relations, and last but not least a small set of filming locations, which makes for an interesting mix of data to work with.\n",
        "\n",
        "In addition to the python interface, you can interact with ArangoDB using its web interface to manage collections and execute the queries."
      ],
      "metadata": {
        "id": "Brl97lYwd50i"
      }
    },
    {
      "cell_type": "markdown",
      "source": [
        "# Setup "
      ],
      "metadata": {
        "id": "cTIT0ffjd50i"
      }
    },
    {
      "cell_type": "markdown",
      "source": [
        "Before getting started with ArangoDB we need to prepare our environment and create a temporary database on ArangoDB's managed Service Oasis."
      ],
      "metadata": {
        "id": "Pmp2AMIhd50j"
      }
    },
    {
      "cell_type": "code",
      "execution_count": 4,
      "source": [
        "%%capture\n",
        "!git clone -b oasis_connector --single-branch https://github.com/arangodb/interactive_tutorials.git\n",
        "!rsync -av interactive_tutorials/ ./ --exclude=.git\n",
        "!pip3 install pyarango\n",
        "!pip3 install \"python-arango>=5.0\""
      ],
      "outputs": [],
      "metadata": {
        "id": "kpjR5fLud50j"
      }
    },
    {
      "cell_type": "code",
      "execution_count": 5,
      "source": [
        "import json\n",
        "import requests\n",
        "import sys\n",
        "import oasis\n",
        "import time\n",
        "\n",
        "from pyArango.connection import *\n",
        "from arango import ArangoClient"
      ],
      "outputs": [],
      "metadata": {
        "id": "3d8W5BM3d50l"
      }
    },
    {
      "cell_type": "markdown",
      "source": [
        "Create the temporary database:"
      ],
      "metadata": {
        "id": "fuQ6phTMd50m"
      }
    },
    {
      "cell_type": "code",
      "execution_count": 6,
      "source": [
        "# Retrieve tmp credentials from ArangoDB Tutorial Service\n",
        "login = oasis.getTempCredentials(tutorialName=\"AQLCrudTutorial\", credentialProvider='https://tutorials.arangodb.cloud:8529/_db/_system/tutorialDB/tutorialDB')\n",
        "\n",
        "# Connect to the temp database\n",
        "conn = oasis.connect(login)\n",
        "pyAr_db = conn[login[\"dbName\"]]\n",
        "\n"
      ],
      "outputs": [
        {
          "output_type": "stream",
          "name": "stdout",
          "text": [
            "Requesting new temp credentials.\n",
            "Temp database ready to use.\n"
          ]
        }
      ],
      "metadata": {
        "colab": {
          "base_uri": "https://localhost:8080/"
        },
        "id": "jlUCnShWd50n",
        "outputId": "e66da06f-eab1-4d5a-e88f-5f43271e3b70"
      }
    },
    {
      "cell_type": "code",
      "source": [
        "python_arango_db = oasis.connect_python_arango(login)\n",
        "aql = python_arango_db.aql"
      ],
      "metadata": {
        "id": "HbLNM-PIwiHh"
      },
      "execution_count": 7,
      "outputs": []
    },
    {
      "cell_type": "code",
      "execution_count": 8,
      "source": [
        "print(\"https://{}:{}\".format(login[\"hostname\"], login[\"port\"]))\n",
        "print(\"Username: \" + login[\"username\"])\n",
        "print(\"Password: \" + login[\"password\"])\n",
        "print(\"Database: \" + login[\"dbName\"])"
      ],
      "outputs": [
        {
          "output_type": "stream",
          "name": "stdout",
          "text": [
            "https://tutorials.arangodb.cloud:8529\n",
            "Username: TUTrf3s5k1s3cv531qzues7f\n",
            "Password: TUT4g9busppywwqev1zwqvbf\n",
            "Database: TUTndg5mitk6n8b6tmklei8l\n"
          ]
        }
      ],
      "metadata": {
        "colab": {
          "base_uri": "https://localhost:8080/"
        },
        "id": "TH68crkDd50n",
        "outputId": "dab5d263-750c-42d8-d2f6-ff63e58f0c5f"
      }
    },
    {
      "cell_type": "markdown",
      "source": [
        "Feel free to use to above URL to checkout the UI!"
      ],
      "metadata": {
        "id": "7Q0YpfHvd50n"
      }
    },
    {
      "cell_type": "markdown",
      "source": [
        "##  Creating Collections"
      ],
      "metadata": {
        "id": "tsRp_icod50o"
      }
    },
    {
      "cell_type": "markdown",
      "source": [
        "Before we can insert documents with AQL, we need a place to put them in – a collection. Collections can be managed via the web interface, arangosh or a driver. It is not possible to do so with AQL however."
      ],
      "metadata": {
        "id": "fsO_ZUitd50o"
      }
    },
    {
      "cell_type": "code",
      "execution_count": 9,
      "source": [
        "# Create collection using pyArango driver\n",
        "pyAr_db.createCollection(name=\"Characters\")\n",
        "\n",
        "# Creating collections with python-arango\n",
        "# Since the collection is created above this should always pass\n",
        "if python_arango_db.has_collection(\"Characters\"):\n",
        "  pass\n",
        "else:\n",
        "  python_arango_db.create_collection(\"Characters\")"
      ],
      "outputs": [],
      "metadata": {
        "id": "t8htY3jrd50o"
      }
    },
    {
      "cell_type": "markdown",
      "source": [
        "##  Creating and Reading Documents"
      ],
      "metadata": {
        "id": "As_8QOgld50o"
      }
    },
    {
      "cell_type": "markdown",
      "source": [
        "The syntax for creating a new document is `INSERT document INTO collectionName`. The document is an object like you may know it from JavaScript or JSON, which is comprised of attribute key and value pairs. The quotes around the attribute keys are optional in AQL. Keys are always character sequences (strings), whereas attribute values can have different types:\n",
        "\n",
        "* null\n",
        "* boolean (true, false)\n",
        "* number (integer and floating point)\n",
        "* string\n",
        "* array\n",
        "* object\n",
        "\n",
        "Name and surname of the character document we inserted are both string values. The alive state uses a boolean. Age is a numeric value. The traits are an array of strings. The entire document is an object."
      ],
      "metadata": {
        "id": "-jfzubbNd50p"
      }
    },
    {
      "cell_type": "code",
      "execution_count": 10,
      "source": [
        "insert_query = \"\"\"\n",
        "INSERT {\n",
        "    \"name\": \"Ned\",\n",
        "    \"surname\": \"Stark\",\n",
        "    \"alive\": true,\n",
        "    \"age\": 41,\n",
        "    \"traits\": [\"A\",\"H\",\"C\",\"N\",\"P\"]\n",
        "} INTO Characters\n",
        "\"\"\"\n",
        "# python-arango\n",
        "aql.execute(insert_query)\n",
        "\n",
        "# pyArango\n",
        "#pyAr_db.AQLQuery(insert_query)"
      ],
      "outputs": [
        {
          "output_type": "execute_result",
          "data": {
            "text/plain": [
              "<Cursor>"
            ]
          },
          "metadata": {},
          "execution_count": 10
        }
      ],
      "metadata": {
        "colab": {
          "base_uri": "https://localhost:8080/"
        },
        "id": "2dh3NS6Pd50p",
        "outputId": "c7b576ca-4f76-486a-d5ed-5577660edc32"
      }
    },
    {
      "cell_type": "markdown",
      "source": [
        "*Note: You can also execute all the queries from the ArangoDB Web UI which you can access using the link and login information above.*"
      ],
      "metadata": {
        "id": "uj1Q7cpzd50p"
      }
    },
    {
      "cell_type": "markdown",
      "source": [
        "![ui](https://github.com/arangodb/interactive_tutorials/blob/master/notebooks/img/query_ui.png?raw=1)"
      ],
      "metadata": {
        "id": "lsaIxYlkd50p"
      }
    },
    {
      "cell_type": "markdown",
      "source": [
        "Let us check whether the insert was sucessfull querying the `Characters` collections. The syntax of the loop is `FOR variableName IN collectionName`. For each document in the collection, c is assigned a document, which is then returned as per the loop body."
      ],
      "metadata": {
        "id": "yUXQIb6sd50q"
      }
    },
    {
      "cell_type": "code",
      "execution_count": 11,
      "source": [
        "all_characters = \"\"\"\n",
        "FOR c IN Characters\n",
        "    RETURN c\n",
        "\"\"\"\n",
        "\n",
        "# python-arango\n",
        "query_result = aql.execute(all_characters)\n",
        "\n",
        "# pyArango\n",
        "# query_result = pyAr_db.AQLQuery(all_characters, rawResults=True)\n",
        "\n",
        "for doc in  query_result:\n",
        "    print(doc)\n",
        "    print()"
      ],
      "outputs": [
        {
          "output_type": "stream",
          "name": "stdout",
          "text": [
            "{'_key': '4118955087', '_id': 'Characters/4118955087', '_rev': '_eU5Zka6---', 'age': 41, 'alive': True, 'name': 'Ned', 'surname': 'Stark', 'traits': ['A', 'H', 'C', 'N', 'P']}\n",
            "\n"
          ]
        }
      ],
      "metadata": {
        "colab": {
          "base_uri": "https://localhost:8080/"
        },
        "id": "kg_rnnb2d50q",
        "outputId": "5b2e8f90-fb6e-460a-a69e-46be4659414f"
      }
    },
    {
      "cell_type": "markdown",
      "source": [
        "The document features the four attributes we stored, plus three more added by the database system. Each document needs a unique `_key`, which identifies it within a collection. The `_id` is a computed property, a concatenation of the collection name, a forward slash `/` and the document key. It uniquely identies a document within a database. `_rev` is a revision ID managed by the system. Older revisions of a document cannot be accessed.\n",
        "Document keys can be provided by the user upon document creation, or a unique value is assigned automatically. It can not be changed later. All three system attributes starting with an underscore `_` are read-only."
      ],
      "metadata": {
        "id": "khbGt6zud50q"
      }
    },
    {
      "cell_type": "markdown",
      "source": [
        "Next, let us add some more characters. The `LET` keyword defines a variable with name data and an array of objects as value, so `LET variableName = valueExpression` and the expression being a literal array definition like `[ {...}, {...}, ... ]`.\n",
        "\n",
        "`FOR variableName IN expression` is used to iterate over each element of the data array. In each loop, one element is assigned to the variable `d`. This variable is then used in the `INSERT` statement instead of a literal object definition. What is does is basically:"
      ],
      "metadata": {
        "id": "b9WJ-CDrd50q"
      }
    },
    {
      "cell_type": "code",
      "execution_count": 12,
      "source": [
        "insert_query = \"\"\"\n",
        "LET data = [\n",
        "    { \"name\": \"Robert\", \"surname\": \"Baratheon\", \"alive\": false, \"traits\": [\"A\",\"H\",\"C\"] },\n",
        "    { \"name\": \"Jaime\", \"surname\": \"Lannister\", \"alive\": true, \"age\": 36, \"traits\": [\"A\",\"F\",\"B\"] },\n",
        "    { \"name\": \"Catelyn\", \"surname\": \"Stark\", \"alive\": false, \"age\": 40, \"traits\": [\"D\",\"H\",\"C\"] },\n",
        "    { \"name\": \"Cersei\", \"surname\": \"Lannister\", \"alive\": true, \"age\": 36, \"traits\": [\"H\",\"E\",\"F\"] },\n",
        "    { \"name\": \"Daenerys\", \"surname\": \"Targaryen\", \"alive\": true, \"age\": 16, \"traits\": [\"D\",\"H\",\"C\"] },\n",
        "    { \"name\": \"Jorah\", \"surname\": \"Mormont\", \"alive\": false, \"traits\": [\"A\",\"B\",\"C\",\"F\"] },\n",
        "    { \"name\": \"Petyr\", \"surname\": \"Baelish\", \"alive\": false, \"traits\": [\"E\",\"G\",\"F\"] },\n",
        "    { \"name\": \"Viserys\", \"surname\": \"Targaryen\", \"alive\": false, \"traits\": [\"O\",\"L\",\"N\"] },\n",
        "    { \"name\": \"Jon\", \"surname\": \"Snow\", \"alive\": true, \"age\": 16, \"traits\": [\"A\",\"B\",\"C\",\"F\"] },\n",
        "    { \"name\": \"Sansa\", \"surname\": \"Stark\", \"alive\": true, \"age\": 13, \"traits\": [\"D\",\"I\",\"J\"] },\n",
        "    { \"name\": \"Arya\", \"surname\": \"Stark\", \"alive\": true, \"age\": 11, \"traits\": [\"C\",\"K\",\"L\"] },\n",
        "    { \"name\": \"Robb\", \"surname\": \"Stark\", \"alive\": false, \"traits\": [\"A\",\"B\",\"C\",\"K\"] },\n",
        "    { \"name\": \"Theon\", \"surname\": \"Greyjoy\", \"alive\": true, \"age\": 16, \"traits\": [\"E\",\"R\",\"K\"] },\n",
        "    { \"name\": \"Bran\", \"surname\": \"Stark\", \"alive\": true, \"age\": 10, \"traits\": [\"L\",\"J\"] },\n",
        "    { \"name\": \"Joffrey\", \"surname\": \"Baratheon\", \"alive\": false, \"age\": 19, \"traits\": [\"I\",\"L\",\"O\"] },\n",
        "    { \"name\": \"Sandor\", \"surname\": \"Clegane\", \"alive\": true, \"traits\": [\"A\",\"P\",\"K\",\"F\"] },\n",
        "    { \"name\": \"Tyrion\", \"surname\": \"Lannister\", \"alive\": true, \"age\": 32, \"traits\": [\"F\",\"K\",\"M\",\"N\"] },\n",
        "    { \"name\": \"Khal\", \"surname\": \"Drogo\", \"alive\": false, \"traits\": [\"A\",\"C\",\"O\",\"P\"] },\n",
        "    { \"name\": \"Tywin\", \"surname\": \"Lannister\", \"alive\": false, \"traits\": [\"O\",\"M\",\"H\",\"F\"] },\n",
        "    { \"name\": \"Davos\", \"surname\": \"Seaworth\", \"alive\": true, \"age\": 49, \"traits\": [\"C\",\"K\",\"P\",\"F\"] },\n",
        "    { \"name\": \"Samwell\", \"surname\": \"Tarly\", \"alive\": true, \"age\": 17, \"traits\": [\"C\",\"L\",\"I\"] },\n",
        "    { \"name\": \"Stannis\", \"surname\": \"Baratheon\", \"alive\": false, \"traits\": [\"H\",\"O\",\"P\",\"M\"] },\n",
        "    { \"name\": \"Melisandre\", \"alive\": true, \"traits\": [\"G\",\"E\",\"H\"] },\n",
        "    { \"name\": \"Margaery\", \"surname\": \"Tyrell\", \"alive\": false, \"traits\": [\"M\",\"D\",\"B\"] },\n",
        "    { \"name\": \"Jeor\", \"surname\": \"Mormont\", \"alive\": false, \"traits\": [\"C\",\"H\",\"M\",\"P\"] },\n",
        "    { \"name\": \"Bronn\", \"alive\": true, \"traits\": [\"K\",\"E\",\"C\"] },\n",
        "    { \"name\": \"Varys\", \"alive\": true, \"traits\": [\"M\",\"F\",\"N\",\"E\"] },\n",
        "    { \"name\": \"Shae\", \"alive\": false, \"traits\": [\"M\",\"D\",\"G\"] },\n",
        "    { \"name\": \"Talisa\", \"surname\": \"Maegyr\", \"alive\": false, \"traits\": [\"D\",\"C\",\"B\"] },\n",
        "    { \"name\": \"Gendry\", \"alive\": false, \"traits\": [\"K\",\"C\",\"A\"] },\n",
        "    { \"name\": \"Ygritte\", \"alive\": false, \"traits\": [\"A\",\"P\",\"K\"] },\n",
        "    { \"name\": \"Tormund\", \"surname\": \"Giantsbane\", \"alive\": true, \"traits\": [\"C\",\"P\",\"A\",\"I\"] },\n",
        "    { \"name\": \"Gilly\", \"alive\": true, \"traits\": [\"L\",\"J\"] },\n",
        "    { \"name\": \"Brienne\", \"surname\": \"Tarth\", \"alive\": true, \"age\": 32, \"traits\": [\"P\",\"C\",\"A\",\"K\"] },\n",
        "    { \"name\": \"Ramsay\", \"surname\": \"Bolton\", \"alive\": true, \"traits\": [\"E\",\"O\",\"G\",\"A\"] },\n",
        "    { \"name\": \"Ellaria\", \"surname\": \"Sand\", \"alive\": true, \"traits\": [\"P\",\"O\",\"A\",\"E\"] },\n",
        "    { \"name\": \"Daario\", \"surname\": \"Naharis\", \"alive\": true, \"traits\": [\"K\",\"P\",\"A\"] },\n",
        "    { \"name\": \"Missandei\", \"alive\": true, \"traits\": [\"D\",\"L\",\"C\",\"M\"] },\n",
        "    { \"name\": \"Tommen\", \"surname\": \"Baratheon\", \"alive\": true, \"traits\": [\"I\",\"L\",\"B\"] },\n",
        "    { \"name\": \"Jaqen\", \"surname\": \"H'ghar\", \"alive\": true, \"traits\": [\"H\",\"F\",\"K\"] },\n",
        "    { \"name\": \"Roose\", \"surname\": \"Bolton\", \"alive\": true, \"traits\": [\"H\",\"E\",\"F\",\"A\"] },\n",
        "    { \"name\": \"The High Sparrow\", \"alive\": true, \"traits\": [\"H\",\"M\",\"F\",\"O\"] }\n",
        "]\n",
        "\n",
        "FOR d IN data\n",
        "    INSERT d INTO Characters\n",
        "\"\"\"\n",
        "\n",
        "# python-arango\n",
        "aql.execute(insert_query)\n",
        "\n",
        "\n",
        "# pyArango\n",
        "# pyAr_db.AQLQuery(insert_query)"
      ],
      "outputs": [
        {
          "output_type": "execute_result",
          "data": {
            "text/plain": [
              "<Cursor>"
            ]
          },
          "metadata": {},
          "execution_count": 12
        }
      ],
      "metadata": {
        "colab": {
          "base_uri": "https://localhost:8080/"
        },
        "id": "vSC2GPdzd50r",
        "outputId": "c104fde9-84f5-48a5-f352-8c4837a9907c"
      }
    },
    {
      "cell_type": "markdown",
      "source": [
        "As before let us check the `Characters` collection, but this time only return each characters name:"
      ],
      "metadata": {
        "id": "7yaBXHLPd50r"
      }
    },
    {
      "cell_type": "code",
      "execution_count": 13,
      "source": [
        "all_characters_names = \"\"\"\n",
        "FOR c IN Characters\n",
        "    RETURN c.name\n",
        "\"\"\"\n",
        "# python-arango\n",
        "query_result = aql.execute(all_characters_names)\n",
        "\n",
        "\n",
        "# pyArango\n",
        "# query_result = pyAr_db.AQLQuery(all_characters_names, rawResults=True)\n",
        "\n",
        "for doc in  query_result:\n",
        "    print(doc)\n",
        "    print()"
      ],
      "outputs": [
        {
          "output_type": "stream",
          "name": "stdout",
          "text": [
            "Ned\n",
            "\n",
            "Robert\n",
            "\n",
            "Jaime\n",
            "\n",
            "Catelyn\n",
            "\n",
            "Cersei\n",
            "\n",
            "Daenerys\n",
            "\n",
            "Jorah\n",
            "\n",
            "Petyr\n",
            "\n",
            "Viserys\n",
            "\n",
            "Jon\n",
            "\n",
            "Sansa\n",
            "\n",
            "Arya\n",
            "\n",
            "Robb\n",
            "\n",
            "Theon\n",
            "\n",
            "Bran\n",
            "\n",
            "Joffrey\n",
            "\n",
            "Sandor\n",
            "\n",
            "Tyrion\n",
            "\n",
            "Khal\n",
            "\n",
            "Tywin\n",
            "\n",
            "Davos\n",
            "\n",
            "Samwell\n",
            "\n",
            "Stannis\n",
            "\n",
            "Melisandre\n",
            "\n",
            "Margaery\n",
            "\n",
            "Jeor\n",
            "\n",
            "Bronn\n",
            "\n",
            "Varys\n",
            "\n",
            "Shae\n",
            "\n",
            "Talisa\n",
            "\n",
            "Gendry\n",
            "\n",
            "Ygritte\n",
            "\n",
            "Tormund\n",
            "\n",
            "Gilly\n",
            "\n",
            "Brienne\n",
            "\n",
            "Ramsay\n",
            "\n",
            "Ellaria\n",
            "\n",
            "Daario\n",
            "\n",
            "Missandei\n",
            "\n",
            "Tommen\n",
            "\n",
            "Jaqen\n",
            "\n",
            "Roose\n",
            "\n",
            "The High Sparrow\n",
            "\n"
          ]
        }
      ],
      "metadata": {
        "colab": {
          "base_uri": "https://localhost:8080/"
        },
        "id": "F8MNatWzd50r",
        "outputId": "f5d60c0f-da83-404f-a0da-adf5bcade46c"
      }
    },
    {
      "cell_type": "markdown",
      "source": [
        "# Updating Documents"
      ],
      "metadata": {
        "id": "pVBvoGkId50s"
      }
    },
    {
      "cell_type": "markdown",
      "source": [
        "**Spoiler Warning!**\n",
        "\n",
        "According to our Ned Stark document, he is alive. When we get to know that he died, we need to change the alive attribute. Let us modify the existing document. For this we first identify the above `_key` attribute."
      ],
      "metadata": {
        "id": "gsHLqpWkd50s"
      }
    },
    {
      "cell_type": "code",
      "execution_count": 14,
      "source": [
        "find_ned_query = \"\"\"\n",
        "FOR c IN Characters\n",
        "    FILTER c.name == \"Ned\"\n",
        "    RETURN c._key\n",
        "\"\"\"\n",
        "\n",
        "neds_document_key = None\n",
        "\n",
        "# python-arango\n",
        "query_result = aql.execute(find_ned_query)\n",
        "\n",
        "# pyArango\n",
        "# query_result = pyAr_db.AQLQuery(find_ned_query, rawResults=True)\n",
        "\n",
        "for doc in  query_result:\n",
        "    print(\"_key: \" + str(doc))\n",
        "    neds_document_key = doc\n",
        "    print()"
      ],
      "outputs": [
        {
          "output_type": "stream",
          "name": "stdout",
          "text": [
            "_key: 4118955087\n",
            "\n"
          ]
        }
      ],
      "metadata": {
        "colab": {
          "base_uri": "https://localhost:8080/"
        },
        "id": "KXB5PpSJd50s",
        "outputId": "d35fdfc6-0b85-4809-8b87-b62d58b8b06e"
      }
    },
    {
      "cell_type": "markdown",
      "source": [
        "Using `key` we can update an existing document:"
      ],
      "metadata": {
        "id": "4LLZDtZ6d50s"
      }
    },
    {
      "cell_type": "code",
      "execution_count": 15,
      "source": [
        "kill_ned = \"\"\"\n",
        "UPDATE @key \n",
        "WITH { alive: false} \n",
        "IN Characters\n",
        "\"\"\"\n",
        "bindVars = {'key': neds_document_key}\n",
        "\n",
        "# python-arango\n",
        "aql.execute(kill_ned, batch_size=1, bind_vars=bindVars)\n",
        "\n",
        "\n",
        "# pyArango\n",
        "# pyAr_db.AQLQuery(kill_ned, rawResults=False, batchSize=1, bindVars=bindVars)\n",
        "\n",
        "\n",
        "find_ned_query = \"\"\"\n",
        "FOR c IN Characters\n",
        "    FILTER c.name == \"Ned\"\n",
        "    RETURN c\n",
        "\"\"\"\n",
        "\n",
        "# python-arango\n",
        "query_result = aql.execute(find_ned_query)\n",
        "\n",
        "\n",
        "# pyArango\n",
        "# query_result = pyAr_db.AQLQuery(find_ned_query, rawResults=True)\n",
        "\n",
        "for doc in  query_result:\n",
        "    print(doc)\n",
        "    print()"
      ],
      "outputs": [
        {
          "output_type": "stream",
          "name": "stdout",
          "text": [
            "{'_key': '4118955087', '_id': 'Characters/4118955087', '_rev': '_eU5Zk56--_', 'age': 41, 'alive': False, 'name': 'Ned', 'surname': 'Stark', 'traits': ['A', 'H', 'C', 'N', 'P']}\n",
            "\n"
          ]
        }
      ],
      "metadata": {
        "colab": {
          "base_uri": "https://localhost:8080/"
        },
        "id": "4FxFwUX_d50s",
        "outputId": "f6e41aaa-15ec-4d47-902d-fdf16699a166"
      }
    },
    {
      "cell_type": "markdown",
      "source": [
        "We could have also replaced the entire document content, using `REPLACE` instead of `UPDATE`:"
      ],
      "metadata": {
        "id": "-qHu6RkZd50s"
      }
    },
    {
      "cell_type": "code",
      "execution_count": 16,
      "source": [
        "kill_ned = \"\"\"\n",
        "REPLACE @key WITH {\n",
        "    name: \"Ned\",\n",
        "    surname: \"Stark\",\n",
        "    alive: false,\n",
        "    age: 41,\n",
        "    traits: [\"A\",\"H\",\"C\",\"N\",\"P\"]\n",
        "} IN Characters\n",
        "\"\"\"\n",
        "bindVars = {'key': neds_document_key}\n",
        "\n",
        "# python-arango\n",
        "aql.execute(kill_ned, batch_size=1, bind_vars=bindVars)\n",
        "\n",
        "# pyArango\n",
        "# pyAr_db.AQLQuery(kill_ned, rawResults=False, batchSize=1, bindVars=bindVars)\n",
        "\n",
        "# Check the updated Ned document \n",
        "find_ned_query = \"\"\"\n",
        "FOR c IN Characters\n",
        "    FILTER c.name == \"Ned\"\n",
        "    RETURN c\n",
        "\"\"\"\n",
        "# python-arango\n",
        "query_result = aql.execute(find_ned_query)\n",
        "\n",
        "\n",
        "# pyArango\n",
        "# query_result = pyAr_db.AQLQuery(find_ned_query, rawResults=True)\n",
        "for doc in  query_result:\n",
        "    print(doc)\n",
        "    print()"
      ],
      "outputs": [
        {
          "output_type": "stream",
          "name": "stdout",
          "text": [
            "{'_key': '4118955087', '_id': 'Characters/4118955087', '_rev': '_eU5ZlDW--A', 'age': 41, 'alive': False, 'name': 'Ned', 'surname': 'Stark', 'traits': ['A', 'H', 'C', 'N', 'P']}\n",
            "\n"
          ]
        }
      ],
      "metadata": {
        "colab": {
          "base_uri": "https://localhost:8080/"
        },
        "id": "lm-LEfsyd50u",
        "outputId": "4ab2a71a-1a72-412a-8a7b-65d6c78189b2"
      }
    },
    {
      "cell_type": "markdown",
      "source": [
        "We could again use the `FOR` loop construct from before to update all characters:"
      ],
      "metadata": {
        "id": "2bCwlG6_d50u"
      }
    },
    {
      "cell_type": "code",
      "execution_count": 17,
      "source": [
        "season_query = \"\"\"\n",
        "FOR c IN Characters\n",
        "    UPDATE c WITH { season: 1 } IN Characters\n",
        "\"\"\"\n",
        "# python-arango\n",
        "aql.execute(season_query)\n",
        "\n",
        "\n",
        "# pyArango\n",
        "# pyAr_db.AQLQuery(season_query, rawResults=False)\n",
        "    \n",
        "# Retrieve all characters and season they appeared    \n",
        "all_characters_names_season = \"\"\"\n",
        "FOR c IN Characters\n",
        "    RETURN {\"Name\" : c.name, \"Season\" : c.season}\n",
        "\"\"\"\n",
        "# python-arango\n",
        "query_result = aql.execute(all_characters_names_season)\n",
        "\n",
        "# pyArango\n",
        "# query_result = pyAr_db.AQLQuery(all_characters_names_season, rawResults=True)\n",
        "for doc in  query_result:\n",
        "    print(doc)\n",
        "    print()"
      ],
      "outputs": [
        {
          "output_type": "stream",
          "name": "stdout",
          "text": [
            "Robert\n",
            "\n",
            "Jaime\n",
            "\n",
            "Catelyn\n",
            "\n",
            "Cersei\n",
            "\n",
            "Daenerys\n",
            "\n",
            "Jorah\n",
            "\n",
            "Petyr\n",
            "\n",
            "Viserys\n",
            "\n",
            "Jon\n",
            "\n",
            "Sansa\n",
            "\n",
            "Arya\n",
            "\n",
            "Robb\n",
            "\n",
            "Theon\n",
            "\n",
            "Bran\n",
            "\n",
            "Joffrey\n",
            "\n",
            "Sandor\n",
            "\n",
            "Tyrion\n",
            "\n",
            "Khal\n",
            "\n",
            "Tywin\n",
            "\n",
            "Davos\n",
            "\n",
            "Samwell\n",
            "\n",
            "Stannis\n",
            "\n",
            "Melisandre\n",
            "\n",
            "Margaery\n",
            "\n",
            "Jeor\n",
            "\n",
            "Bronn\n",
            "\n",
            "Varys\n",
            "\n",
            "Shae\n",
            "\n",
            "Talisa\n",
            "\n",
            "Gendry\n",
            "\n",
            "Ygritte\n",
            "\n",
            "Tormund\n",
            "\n",
            "Gilly\n",
            "\n",
            "Brienne\n",
            "\n",
            "Ramsay\n",
            "\n",
            "Ellaria\n",
            "\n",
            "Daario\n",
            "\n",
            "Missandei\n",
            "\n",
            "Tommen\n",
            "\n",
            "Jaqen\n",
            "\n",
            "Roose\n",
            "\n",
            "The High Sparrow\n",
            "\n",
            "Ned\n",
            "\n"
          ]
        }
      ],
      "metadata": {
        "colab": {
          "base_uri": "https://localhost:8080/"
        },
        "id": "nbTz3z5Ud50v",
        "outputId": "8a87c8fc-f30b-43a0-f4da-aff1b87d9e24"
      }
    },
    {
      "cell_type": "markdown",
      "source": [
        "Note, that here we customized the `RETURN` to return a json document consisting of name and season."
      ],
      "metadata": {
        "id": "XRHqd22qd50v"
      }
    },
    {
      "cell_type": "markdown",
      "source": [
        "# Delete Documents"
      ],
      "metadata": {
        "id": "o9rhcAeid50v"
      }
    },
    {
      "cell_type": "markdown",
      "source": [
        "To fully remove documents from a collection, there is the `REMOVE` operation. It works similar to the other modification operations, yet without a WITH clause:"
      ],
      "metadata": {
        "id": "qy2izew-d50v"
      }
    },
    {
      "cell_type": "code",
      "execution_count": 18,
      "source": [
        "remove_ned = \"\"\"\n",
        "REMOVE @key IN Characters\n",
        "\"\"\"\n",
        "bindVars = {'key': neds_document_key}\n",
        "\n",
        "\n",
        "try:\n",
        "    # python-arango\n",
        "    aql.execute(remove_ned, bind_vars=bindVars)\n",
        "    \n",
        "    # pyArango\n",
        "    # pyAr_db.AQLQuery(remove_ned, rawResults=False, batchSize=1, bindVars=bindVars)\n",
        "except:\n",
        "    print(\"Ned already removed.\")\n",
        "\n",
        "# Check the updated Ned document, should be empty\n",
        "find_ned_query = \"\"\"\n",
        "FOR c IN Characters\n",
        "    FILTER c.name == \"Ned\"\n",
        "    RETURN c\n",
        "\"\"\"\n",
        "# python-arango\n",
        "query_result = aql.execute(find_ned_query, count=True)\n",
        "\n",
        "# pyArango\n",
        "# query_result = pyAr_db.AQLQuery(find_ned_query, rawResults=True)\n",
        "if len(query_result) == 0 :\n",
        "    print(\"Ned not found.\")"
      ],
      "outputs": [
        {
          "output_type": "stream",
          "name": "stdout",
          "text": [
            "Ned not found.\n"
          ]
        }
      ],
      "metadata": {
        "colab": {
          "base_uri": "https://localhost:8080/"
        },
        "id": "9-hQ_rlrd50v",
        "outputId": "e29e46c4-f654-4164-f3e9-5fbbe2cdf7e1"
      }
    },
    {
      "cell_type": "markdown",
      "source": [
        "As you might have already guessed we can again use a `FOR` loop if we want to perform this operation for the entire collection:"
      ],
      "metadata": {
        "id": "d3i2JnKdd50v"
      }
    },
    {
      "cell_type": "code",
      "execution_count": 19,
      "source": [
        "remove_all = \"\"\"\n",
        "FOR c IN Characters\n",
        "    REMOVE c IN Characters\n",
        "\"\"\"\n",
        "# python-arango\n",
        "aql.execute(remove_all)\n",
        "\n",
        "# pyArango\n",
        "# pyAr_db.AQLQuery(remove_all, rawResults=False)\n",
        "    \n",
        "all_characters_names = \"\"\"\n",
        "FOR c IN Characters\n",
        "    RETURN c\n",
        "\"\"\"\n",
        "# python-arango\n",
        "query_result = aql.execute(all_characters_names, count=True)\n",
        "\n",
        "# pyArango\n",
        "# query_result = pyAr_db.AQLQuery(all_characters_names, rawResults=True)\n",
        "if len(query_result) == 0 :\n",
        "    print(\"No characters left.\")"
      ],
      "outputs": [
        {
          "output_type": "stream",
          "name": "stdout",
          "text": [
            "No characters left.\n"
          ]
        }
      ],
      "metadata": {
        "colab": {
          "base_uri": "https://localhost:8080/"
        },
        "id": "0edRorbSd50v",
        "outputId": "780c72ae-554d-4a60-f8bb-1029657fdcf6"
      }
    },
    {
      "cell_type": "markdown",
      "source": [
        "# Next Steps"
      ],
      "metadata": {
        "id": "fIaMAl5-d50w"
      }
    },
    {
      "cell_type": "markdown",
      "source": [
        "To continue playing and learning with ArangoDB, you can:\n",
        "\n",
        "* [Get a 2 week free Trial with the ArangoDB Cloud](https://cloud.arangodb.com/home?utm_source=Basic%20AQL%20CRUD&utm_medium=Github&utm_campaign=ArangoDB%20University)\n",
        "* [Download ArangoDB](https://www.arangodb.com/download-major/)\n",
        "* Keep Learning at the ArangoDB [Training Center](https://www.arangodb.com/arangodb-training-center/)\n",
        "\n",
        "*Note: Recall that this notebook uses a temporary instance which will be autodeleted!*"
      ],
      "metadata": {
        "id": "gCD-nZvZd50w"
      }
    },
    {
      "cell_type": "markdown",
      "source": [
        "# Further Links"
      ],
      "metadata": {
        "id": "0p7ubJPjd50w"
      }
    },
    {
      "cell_type": "markdown",
      "source": [
        "* https://www.arangodb.com/docs/stable/aql/tutorial.html"
      ],
      "metadata": {
        "id": "L2moBhHpd50w"
      }
    }
  ],
  "metadata": {
    "kernelspec": {
      "name": "python3",
      "display_name": "Python 3.8.8 64-bit ('base': conda)"
    },
    "language_info": {
      "codemirror_mode": {
        "name": "ipython",
        "version": 3
      },
      "file_extension": ".py",
      "mimetype": "text/x-python",
      "name": "python",
      "nbconvert_exporter": "python",
      "pygments_lexer": "ipython3",
      "version": "3.8.8"
    },
    "interpreter": {
      "hash": "d30407bbe891b7f843345a9a4c271cb86b4a87dd0a6f0c259e0e843cc575520f"
    },
    "colab": {
      "name": "AqlCrudTutorial.ipynb",
      "provenance": []
    }
  },
  "nbformat": 4,
  "nbformat_minor": 0
}
