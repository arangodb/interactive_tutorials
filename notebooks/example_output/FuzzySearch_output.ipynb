{
  "nbformat": 4,
  "nbformat_minor": 2,
  "metadata": {
    "colab": {
      "name": "FuzzySearch.ipynb",
      "provenance": [],
      "toc_visible": true
    },
    "kernelspec": {
      "display_name": "Python 3",
      "name": "python3"
    }
  },
  "cells": [
    {
      "cell_type": "markdown",
      "source": [
        "![arangodb](https://github.com/arangodb/interactive_tutorials/blob/master/notebooks/img/ArangoDB_logo.png?raw=1)"
      ],
      "metadata": {
        "colab_type": "text",
        "id": "bfxiSjWR8Kmw"
      }
    },
    {
      "cell_type": "markdown",
      "source": [
        "# Fuzzy Search "
      ],
      "metadata": {
        "colab_type": "text",
        "id": "VE3KR8sW8Kmw"
      }
    },
    {
      "cell_type": "markdown",
      "source": [
        "<a href=\"https://colab.research.google.com/github/arangodb/interactive_tutorials/blob/master/notebooks/FuzzySearch.ipynb\" target=\"_parent\"><img src=\"https://colab.research.google.com/assets/colab-badge.svg\" alt=\"Open In Colab\"/></a>"
      ],
      "metadata": {
        "colab_type": "text",
        "id": "c3DiEFJE8Kmx"
      }
    },
    {
      "cell_type": "markdown",
      "source": [
        "[ArangoSearch](https://www.arangodb.com/why-arangodb/full-text-search-engine-arangosearch/) provides information retrieval features, natively integrated into ArangoDB’s query language and with support for all data models. It is primarily a full-text search engine, a much more powerful alternative to the full-text index type.\n",
        "Check this [ArangoSearch notebook](https://colab.research.google.com/github/joerg84/ArangoDBUniversity/blob/master/ArangoSearch.ipynb) for an introduction to ArangoSearch.\n",
        "\n",
        "When dealing with real-world text retrieval, we often not only care about exact matches to our search phrase but need to consider for example typos or alternative spellings.\n",
        "“Fuzzy search” is an umbrella term referring to a set of algorithms for such approximate matching. Usually such algorithms evaluate some similarity measure showing how close a search term is to the items in a dictionary. Then a search engine can make a decision on which results have to be shown first.\n",
        "\n",
        "If you'd like to learn the theoretical aspects of how fuzzy search works under the hood, be sure to read [this article](https://www.arangodb.com/2020/07/deep-and-fuzzy-dive-into-search/).\n",
        "\n",
        "In this notebook we will explore the different implementations of fuzzy search in [ArangoSearch](https://www.arangodb.com/why-arangodb/full-text-search-engine-arangosearch/):\n",
        "* [NGram Similarity](https://www.arangodb.com/docs/devel/aql/functions-arangosearch.html#ngram_match)\n",
        "* [NGram Positional Similarity](https://www.arangodb.com/docs/devel/aql/functions-string.html#ngram_positional_similarity)\n",
        "* [NGram Match](https://www.arangodb.com/docs/devel/aql/functions-arangosearch.html#ngram_match)\n",
        "* [Levenshtein Distance](https://www.arangodb.com/docs/devel/aql/functions-arangosearch.html#levenshtein_match\n",
        ")\n",
        "* [Levenshtein Match](https://www.arangodb.com/docs/devel/aql/functions-arangosearch.html#levenshtein_match)"
      ],
      "metadata": {
        "colab_type": "text",
        "id": "4o7Vn4Uo8Kmy"
      }
    },
    {
      "cell_type": "markdown",
      "source": [
        "# Setup "
      ],
      "metadata": {
        "colab_type": "text",
        "id": "ZlcbVfOs8Kmy"
      }
    },
    {
      "cell_type": "markdown",
      "source": [
        "Before getting started with ArangoSearch we need to prepare our environment and create a temporary database on ArangoDB's managed Service Oasis."
      ],
      "metadata": {
        "colab_type": "text",
        "id": "uoIFBPwp8Kmy"
      }
    },
    {
      "cell_type": "code",
      "execution_count": 1,
      "source": [
        "%%capture\r\n",
        "!git clone -b oasis_connector --single-branch https://github.com/arangodb/interactive_tutorials.git\r\n",
        "!rsync -av interactive_tutorials/ ./ --exclude=.git\r\n",
        "!chmod -R 755 ./tools\r\n",
        "!git clone -b imdb_no_ratings --single-branch https://github.com/arangodb/interactive_tutorials.git imdb_no_ratings\r\n",
        "!rsync -av imdb_no_ratings/data ./data\r\n",
        "!pip3 install pyarango\r\n",
        "!pip3 install \"python-arango>=5.0\""
      ],
      "outputs": [],
      "metadata": {
        "colab_type": "code",
        "id": "uXdL1FZe8Kmz",
        "colab": {}
      }
    },
    {
      "cell_type": "code",
      "execution_count": 2,
      "source": [
        "import json\r\n",
        "import requests\r\n",
        "import sys\r\n",
        "import oasis\r\n",
        "import time\r\n",
        "import textwrap\r\n",
        "\r\n",
        "from pyArango.connection import *\r\n",
        "from arango import ArangoClient"
      ],
      "outputs": [],
      "metadata": {
        "colab_type": "code",
        "id": "1pKXjdTS8Km2",
        "colab": {}
      }
    },
    {
      "cell_type": "markdown",
      "source": [
        "Create the temporary database:"
      ],
      "metadata": {
        "colab_type": "text",
        "id": "6968hvSs8Km3"
      }
    },
    {
      "cell_type": "code",
      "execution_count": 3,
      "source": [
        "# Retrieve tmp credentials from ArangoDB Tutorial Service\r\n",
        "login = oasis.getTempCredentials(tutorialName=\"FuzzyArangoSearch\", credentialProvider=\"https://tutorials.arangodb.cloud:8529/_db/_system/tutorialDB/tutorialDB\")\r\n",
        "\r\n",
        "# Connect to the temp database\r\n",
        "# Please note that we use the python-arango driver as it has better support for ArangoSearch \r\n",
        "database = oasis.connect_python_arango(login)"
      ],
      "outputs": [
        {
          "output_type": "stream",
          "name": "stdout",
          "text": [
            "Requesting new temp credentials.\n",
            "Temp database ready to use.\n"
          ]
        }
      ],
      "metadata": {
        "colab_type": "code",
        "id": "TaGHLin28Km4",
        "colab": {
          "base_uri": "https://localhost:8080/",
          "height": 51
        },
        "outputId": "e4e33b9c-cd63-4513-b209-d4825e5bb9d2"
      }
    },
    {
      "cell_type": "code",
      "execution_count": 4,
      "source": [
        "print(\"https://\"+login[\"hostname\"]+\":\"+str(login[\"port\"]))\r\n",
        "print(\"Username: \" + login[\"username\"])\r\n",
        "print(\"Password: \" + login[\"password\"])\r\n",
        "print(\"Database: \" + login[\"dbName\"])"
      ],
      "outputs": [
        {
          "output_type": "stream",
          "name": "stdout",
          "text": [
            "https://tutorials.arangodb.cloud:8529\n",
            "Username: TUTpnes5l8c2rrmh8uyxo9i5\n",
            "Password: TUTsq29hye6oly77utyiocpe\n",
            "Database: TUT59bjqu2a49xggql85kjqom\n"
          ]
        }
      ],
      "metadata": {
        "colab_type": "code",
        "id": "ECAfpWU48Km6",
        "colab": {
          "base_uri": "https://localhost:8080/",
          "height": 85
        },
        "outputId": "72d2ab3b-7540-4fdb-a331-d10c902ae199"
      }
    },
    {
      "cell_type": "markdown",
      "source": [
        "Feel free to use the above URL to checkout the ArangoDB WebUI!"
      ],
      "metadata": {
        "colab_type": "text",
        "id": "xZ0mydlq8Km8"
      }
    },
    {
      "cell_type": "markdown",
      "source": [
        "##  IMDB Example Dataset"
      ],
      "metadata": {
        "colab_type": "text",
        "id": "_vXqUK6L8Km9"
      }
    },
    {
      "cell_type": "markdown",
      "source": [
        "![imdb](https://github.com/arangodb/interactive_tutorials/blob/master/notebooks/img/IMDB_graph.png?raw=1)"
      ],
      "metadata": {
        "colab_type": "text",
        "id": "o9JQShDi8Km9"
      }
    },
    {
      "cell_type": "markdown",
      "source": [
        "Last, but not least we will import the [IMBD Example Dataset](https://github.com/arangodb/example-datasets/tree/master/Graphs/IMDB) including information about various movies, actors, directors, ... as a graph. \n",
        "*Note the included arangorestore will only work on Linux or Windows systems, if you want to run this notebook on a different OS please consider using the appropriate arangorestore from the [Download area](https://www.arangodb.com/download-major/) and for more information on how to use the ArangoDB client tools, [see the documentation](https://www.arangodb.com/docs/stable/programs.htmlhttps://www.arangodb.com/docs/stable/programs.html)."
      ],
      "metadata": {
        "colab_type": "text",
        "id": "SXkaey-g8Km9"
      }
    },
    {
      "cell_type": "markdown",
      "source": [
        "## Linux:"
      ],
      "metadata": {
        "colab_type": "text",
        "id": "bKM6jcXa8Km-"
      }
    },
    {
      "cell_type": "code",
      "execution_count": 5,
      "source": [
        "! ./tools/arangorestore -c none --server.endpoint http+ssl://{login[\"hostname\"]}:{login[\"port\"]} --server.username {login[\"username\"]} --server.database {login[\"dbName\"]} --server.password {login[\"password\"]} --default-replication-factor 3 --input-directory \"data/data/imdb\""
      ],
      "outputs": [
        {
          "output_type": "stream",
          "name": "stdout",
          "text": [
            "\u001b[0m2020-08-18T21:54:10Z [155] INFO [05c30] {restore} Connected to ArangoDB 'http+ssl://tutorials.arangodb.cloud:8529'\n",
            "\u001b[0m\u001b[0m2020-08-18T21:54:11Z [155] INFO [3b6a4] {restore} no properties object\n",
            "\u001b[0m\u001b[0m2020-08-18T21:54:11Z [155] INFO [9b414] {restore} # Re-creating document collection 'imdb_vertices'...\n",
            "\u001b[0m\u001b[0m2020-08-18T21:54:11Z [155] INFO [9b414] {restore} # Re-creating edge collection 'imdb_edges'...\n",
            "\u001b[0m\u001b[0m2020-08-18T21:54:11Z [155] INFO [6d69f] {restore} # Dispatched 2 job(s), using 2 worker(s)\n",
            "\u001b[0m\u001b[0m2020-08-18T21:54:11Z [155] INFO [d88c6] {restore} # Creating indexes for collection 'imdb_vertices'...\n",
            "\u001b[0m\u001b[0m2020-08-18T21:54:11Z [155] INFO [94913] {restore} # Loading data into edge collection 'imdb_edges', data size: 48957903 byte(s)\n",
            "\u001b[0m\u001b[0m2020-08-18T21:54:11Z [155] INFO [94913] {restore} # Loading data into document collection 'imdb_vertices', data size: 22665786 byte(s)\n",
            "\u001b[0m\u001b[0m2020-08-18T21:54:16Z [155] INFO [75e65] {restore} # Current restore progress: restored 0 of 2 collection(s), read 16777216 byte(s) from datafiles, sent 2 data batch(es) of 0 byte(s) total size, queued jobs: 0, workers: 2\n",
            "\u001b[0m\u001b[0m2020-08-18T21:54:21Z [155] INFO [75e65] {restore} # Current restore progress: restored 0 of 2 collection(s), read 16777216 byte(s) from datafiles, sent 2 data batch(es) of 0 byte(s) total size, queued jobs: 0, workers: 2\n",
            "\u001b[0m\u001b[0m2020-08-18T21:54:26Z [155] INFO [75e65] {restore} # Current restore progress: restored 0 of 2 collection(s), read 25165824 byte(s) from datafiles, sent 3 data batch(es) of 8388598 byte(s) total size, queued jobs: 0, workers: 2\n",
            "\u001b[0m\u001b[0m2020-08-18T21:54:31Z [155] INFO [75e65] {restore} # Current restore progress: restored 0 of 2 collection(s), read 33554432 byte(s) from datafiles, sent 4 data batch(es) of 16777139 byte(s) total size, queued jobs: 0, workers: 2\n",
            "\u001b[0m\u001b[0m2020-08-18T21:54:36Z [155] INFO [69a73] {restore} # Still loading data into edge collection 'imdb_edges', 16777216 of 48957903 byte(s) restored (34 %)\n",
            "\u001b[0m\u001b[0m2020-08-18T21:54:36Z [155] INFO [75e65] {restore} # Current restore progress: restored 0 of 2 collection(s), read 41943040 byte(s) from datafiles, sent 5 data batch(es) of 25165735 byte(s) total size, queued jobs: 0, workers: 2\n",
            "\u001b[0m\u001b[0m2020-08-18T21:54:41Z [155] INFO [75e65] {restore} # Current restore progress: restored 0 of 2 collection(s), read 41943040 byte(s) from datafiles, sent 5 data batch(es) of 25165735 byte(s) total size, queued jobs: 0, workers: 2\n",
            "\u001b[0m\u001b[0m2020-08-18T21:54:46Z [155] INFO [75e65] {restore} # Current restore progress: restored 0 of 2 collection(s), read 41943040 byte(s) from datafiles, sent 5 data batch(es) of 25165735 byte(s) total size, queued jobs: 0, workers: 2\n",
            "\u001b[0m\u001b[0m2020-08-18T21:54:51Z [155] INFO [75e65] {restore} # Current restore progress: restored 0 of 2 collection(s), read 50331648 byte(s) from datafiles, sent 6 data batch(es) of 33554165 byte(s) total size, queued jobs: 0, workers: 2\n",
            "\u001b[0m\u001b[0m2020-08-18T21:54:56Z [155] INFO [75e65] {restore} # Current restore progress: restored 0 of 2 collection(s), read 50331648 byte(s) from datafiles, sent 6 data batch(es) of 33554165 byte(s) total size, queued jobs: 0, workers: 2\n",
            "\u001b[0m\u001b[0m2020-08-18T21:55:01Z [155] INFO [75e65] {restore} # Current restore progress: restored 0 of 2 collection(s), read 50331648 byte(s) from datafiles, sent 6 data batch(es) of 33554165 byte(s) total size, queued jobs: 0, workers: 2\n",
            "\u001b[0m\u001b[0m2020-08-18T21:55:06Z [155] INFO [75e65] {restore} # Current restore progress: restored 0 of 2 collection(s), read 50331648 byte(s) from datafiles, sent 6 data batch(es) of 33554165 byte(s) total size, queued jobs: 0, workers: 2\n",
            "\u001b[0m\u001b[0m2020-08-18T21:55:11Z [155] INFO [75e65] {restore} # Current restore progress: restored 0 of 2 collection(s), read 50331648 byte(s) from datafiles, sent 6 data batch(es) of 33554165 byte(s) total size, queued jobs: 0, workers: 2\n",
            "\u001b[0m\u001b[0m2020-08-18T21:55:16Z [155] INFO [75e65] {restore} # Current restore progress: restored 0 of 2 collection(s), read 50331648 byte(s) from datafiles, sent 6 data batch(es) of 33554165 byte(s) total size, queued jobs: 0, workers: 2\n",
            "\u001b[0m\u001b[31m2020-08-18T21:55:17Z [155] ERROR [a89bf] {restore} Error while restoring data into collection 'imdb_vertices': got invalid response from server: 'Connection closed by remote' while executing restoring data\n",
            "\u001b[0m\u001b[31m2020-08-18T21:55:20Z [155] ERROR [a89bf] {restore} Error while restoring data into collection 'imdb_edges': got invalid response from server: 'Connection closed by remote' while executing restoring data\n",
            "\u001b[0m\u001b[31m2020-08-18T21:55:20Z [155] ERROR [cb69f] {restore} got invalid response from server: 'Connection closed by remote' while executing restoring data\n",
            "\u001b[0m\u001b[0m2020-08-18T21:55:20Z [155] INFO [a66e1] {restore} Processed 0 collection(s) in 70.549915 s, read 50331648 byte(s) from datafiles, sent 6 data batch(es) of 50331441 byte(s) total size\n",
            "\u001b[0m"
          ]
        }
      ],
      "metadata": {
        "colab_type": "code",
        "id": "VPqigG8H8Km-",
        "colab": {
          "base_uri": "https://localhost:8080/",
          "height": 479
        },
        "outputId": "40cf4439-55b1-41f1-ffe8-012c25f41a88"
      }
    },
    {
      "cell_type": "markdown",
      "source": [
        "# Create First View"
      ],
      "metadata": {
        "colab_type": "text",
        "id": "9yE_uMym8KnA"
      }
    },
    {
      "cell_type": "markdown",
      "source": [
        "As discussed above, an ArangoSearch view contains references to documents stored in different collections. \n",
        "This makes it possible to perform complex federated searches, even over a complete graph including vertex and edge collections."
      ],
      "metadata": {
        "colab_type": "text",
        "id": "GhQynyJJ8KnB"
      }
    },
    {
      "cell_type": "code",
      "execution_count": 7,
      "source": [
        "# Create an ArangoSearch view.\r\n",
        "database.create_arangosearch_view(\r\n",
        "    name='v_imdb'\r\n",
        ")"
      ],
      "outputs": [
        {
          "output_type": "execute_result",
          "data": {
            "text/plain": [
              "{'cleanup_interval_step': 2,\n",
              " 'commit_interval_msec': 1000,\n",
              " 'consolidation_interval_msec': 10000,\n",
              " 'consolidation_policy': {'min_score': 0,\n",
              "  'segments_bytes_floor': 2097152,\n",
              "  'segments_bytes_max': 5368709120,\n",
              "  'segments_max': 10,\n",
              "  'segments_min': 1,\n",
              "  'type': 'tier'},\n",
              " 'global_id': 'c190020010/',\n",
              " 'id': '190020010',\n",
              " 'links': [],\n",
              " 'name': 'v_imdb',\n",
              " 'primary_sort': [],\n",
              " 'type': 'arangosearch',\n",
              " 'writebuffer_active': 0,\n",
              " 'writebuffer_idle': 64,\n",
              " 'writebuffer_max_size': 33554432}"
            ]
          },
          "metadata": {
            "tags": []
          },
          "execution_count": 7
        }
      ],
      "metadata": {
        "colab_type": "code",
        "id": "B-koXo6C8KnB",
        "colab": {
          "base_uri": "https://localhost:8080/",
          "height": 323
        },
        "outputId": "fcb52d15-2560-4ed1-e502-2c8c9349ea45"
      }
    },
    {
      "cell_type": "markdown",
      "source": [
        "Let us check it is actually there:"
      ],
      "metadata": {
        "colab_type": "text",
        "id": "Dn3rKYKG8KnD"
      }
    },
    {
      "cell_type": "code",
      "execution_count": 8,
      "source": [
        "print(database[\"v_imdb\"])"
      ],
      "outputs": [
        {
          "output_type": "stream",
          "name": "stdout",
          "text": [
            "<StandardCollection v_imdb>\n"
          ]
        }
      ],
      "metadata": {
        "colab_type": "code",
        "id": "J5bwOthX8KnD",
        "colab": {
          "base_uri": "https://localhost:8080/",
          "height": 34
        },
        "outputId": "dc2797da-5d5a-4ed0-d304-e685a0d01aaf"
      }
    },
    {
      "cell_type": "markdown",
      "source": [
        "Next, we will create a [custom analyzer](https://www.arangodb.com/docs/stable/arangosearch-analyzers.html) to preprocess the values.\n",
        "Note that, in order to support ngram similarity the analyzer must have:\n",
        "* At least the \"position\" and \"frequency\" features enabled\n",
        "* The same min and max values\n",
        "* preserveOriginal set to False"
      ],
      "metadata": {
        "colab_type": "text",
        "id": "a7RJtPcu8KnF"
      }
    },
    {
      "cell_type": "code",
      "execution_count": 9,
      "source": [
        "# Delete in case analyzer existed before\r\n",
        "database.delete_analyzer('fuzzy_search_bigram', ignore_missing=True)\r\n",
        "\r\n",
        "database.create_analyzer(\r\n",
        "        name='fuzzy_search_bigram',\r\n",
        "        analyzer_type='ngram',\r\n",
        "        properties={  \r\n",
        "        \"min\": 2,  \r\n",
        "        \"max\": 2,  \r\n",
        "        \"preserveOriginal\": False \r\n",
        "        }, \r\n",
        "        features=[\"position\", \"frequency\", \"norm\"] \r\n",
        "    )"
      ],
      "outputs": [
        {
          "output_type": "execute_result",
          "data": {
            "text/plain": [
              "{'features': ['position', 'norm', 'frequency'],\n",
              " 'name': 'TUT59bjqu2a49xggql85kjqom::fuzzy_search_bigram',\n",
              " 'properties': {'endMarker': '',\n",
              "  'max': 2,\n",
              "  'min': 2,\n",
              "  'preserveOriginal': False,\n",
              "  'startMarker': '',\n",
              "  'streamType': 'binary'},\n",
              " 'type': 'ngram'}"
            ]
          },
          "metadata": {
            "tags": []
          },
          "execution_count": 9
        }
      ],
      "metadata": {
        "colab_type": "code",
        "id": "SSfISdj8kpd6",
        "colab": {
          "base_uri": "https://localhost:8080/",
          "height": 170
        },
        "outputId": "3ede47de-9eef-4f2c-d41d-c798af80c6b6"
      }
    },
    {
      "cell_type": "markdown",
      "source": [
        "Next, we need to link the view and our custom analyzer:"
      ],
      "metadata": {
        "colab_type": "text",
        "id": "EiCHaBtl4gkZ"
      }
    },
    {
      "cell_type": "code",
      "execution_count": 10,
      "source": [
        " link = { \r\n",
        "  \"includeAllFields\": True,\r\n",
        "  \"fields\" : { \r\n",
        "      \"title\" : { \"analyzers\" : [ \"fuzzy_search_bigram\"] },\r\n",
        "      \"description\" : { \"analyzers\" : [ \"fuzzy_search_bigram\"] }\r\n",
        "      }\r\n",
        "}\r\n",
        "\r\n",
        "\r\n",
        "database.update_arangosearch_view(\r\n",
        "    name='v_imdb',\r\n",
        "    properties={'links': { 'imdb_vertices': link }}\r\n",
        ")"
      ],
      "outputs": [
        {
          "output_type": "execute_result",
          "data": {
            "text/plain": [
              "{'cleanup_interval_step': 2,\n",
              " 'commit_interval_msec': 1000,\n",
              " 'consolidation_interval_msec': 10000,\n",
              " 'consolidation_policy': {'min_score': 0,\n",
              "  'segments_bytes_floor': 2097152,\n",
              "  'segments_bytes_max': 5368709120,\n",
              "  'segments_max': 10,\n",
              "  'segments_min': 1,\n",
              "  'type': 'tier'},\n",
              " 'global_id': 'c190020010/',\n",
              " 'id': '190020010',\n",
              " 'links': [{}],\n",
              " 'name': 'v_imdb',\n",
              " 'primary_sort': [],\n",
              " 'type': 'arangosearch',\n",
              " 'writebuffer_active': 0,\n",
              " 'writebuffer_idle': 64,\n",
              " 'writebuffer_max_size': 33554432}"
            ]
          },
          "metadata": {
            "tags": []
          },
          "execution_count": 10
        }
      ],
      "metadata": {
        "colab_type": "code",
        "id": "IL8GQTtQ8KnF",
        "colab": {
          "base_uri": "https://localhost:8080/",
          "height": 323
        },
        "outputId": "e108808e-1bb3-46fc-931b-29d4749c4d65"
      }
    },
    {
      "cell_type": "markdown",
      "source": [
        "As the indexing might take a few seconds, let us have a brief look at what is actually going on.\n",
        "\n",
        "When you link a collection to an ArangoSearch View, you can choose which individual fields to link or specify to link all fields. It might be helpful to think about linking fields in the same way you think about indexing attributes, although not exactly the same. When you link data to a view it is indexed in a way that allows for quick retrieval. This process also stores the data in a way that allows for the ArangoSearch-specific AQL functions to perform unique queries such as tokenizing, stemming, removing stop words, and as we will see in this notebook complex matching functions.\n",
        "\n",
        "An additional benefit and a difference to typical indexing is that you are able to link multiple collections to one view and apply the desired analyzers. The image below shows how the collections are linked, analyzed and then made available via the view. When performing queries you can use all the typical AQL functions against a view, the same way that you would with a collection name. Though, the real benefit comes when using ArangoSearch-specific functions and you start taking advanatage of features such as ranking."
      ],
      "metadata": {
        "colab_type": "text",
        "id": "tMZumewz8KnH"
      }
    },
    {
      "cell_type": "markdown",
      "source": [
        "![ArangoSearch](https://github.com/arangodb/interactive_tutorials/blob/master/notebooks/img/ArangoSearch_Arch.jpg?raw=1)"
      ],
      "metadata": {
        "colab_type": "text",
        "id": "89Xus7i28KnI"
      }
    },
    {
      "cell_type": "markdown",
      "source": [
        "By now our view should be ready, so let us issue the first test query and look for short Comedy Movies."
      ],
      "metadata": {
        "colab_type": "text",
        "id": "w8LsVW-LNIIU"
      }
    },
    {
      "cell_type": "code",
      "execution_count": 11,
      "source": [
        "cursor = database.aql.execute(\r\n",
        "  \"\"\"\r\n",
        "  FOR d IN v_imdb \r\n",
        "    SEARCH d.type == \"Movie\" \r\n",
        "    AND \r\n",
        "    d.genre == \"Comedy\" \r\n",
        "    AND \r\n",
        "    d.runtime IN 10..50 \r\n",
        "    RETURN d.title\r\n",
        "  \"\"\"\r\n",
        ")\r\n",
        "# Iterate through the result cursor\r\n",
        "print('\\033[4mMovie Titles\\033[0m ')\r\n",
        "\r\n",
        "for doc in cursor:\r\n",
        "  print(doc)"
      ],
      "outputs": [
        {
          "output_type": "stream",
          "name": "stdout",
          "text": [
            "\u001b[4mMovie Titles\u001b[0m \n"
          ]
        }
      ],
      "metadata": {
        "colab_type": "code",
        "id": "53oLsRFJNIZV",
        "colab": {
          "base_uri": "https://localhost:8080/",
          "height": 34
        },
        "outputId": "ee96fa6e-0659-4065-b391-f2dafa72bb88"
      }
    },
    {
      "cell_type": "markdown",
      "source": [
        "If we set up everything correctly there should be 13 results, containing comedies that are less than 50 minutes long, such as:\n",
        " * Finders Keepers\n",
        " * Stuart Dee\n",
        " * The Pawnshop\n",
        " * Robot Wrecks"
      ],
      "metadata": {
        "colab_type": "text",
        "id": "YFhVZYhcSejU"
      }
    },
    {
      "cell_type": "markdown",
      "source": [
        "Now that we have finished some of the setup, let's move on to the functions that make up Fuzzy search. \n",
        "As mentioned in the beginning of this notebook, Fuzzy search comes in the form of various [NGram similarity](https://www.arangodb.com/docs/devel/aql/functions-arangosearch.html#ngram_match) and [Levenshtein distance](https://www.arangodb.com/docs/devel/aql/functions-arangosearch.html#levenshtein_match\n",
        ") AQL functions. "
      ],
      "metadata": {
        "colab_type": "text",
        "id": "kInsH7LYSiEF"
      }
    },
    {
      "cell_type": "markdown",
      "source": [
        "# NGram Similarity"
      ],
      "metadata": {
        "colab_type": "text",
        "id": "SF3oT3gQfbB0"
      }
    },
    {
      "cell_type": "markdown",
      "source": [
        "`NGRAM_SIMILARITY(input, target, ngramSize) → similarity`\n",
        "\n",
        "NGram similarity is a measure for the difference between two strings represented by counting how long the longest sequence of matching ngrams is, divided by target’s total ngram count. To better understand this concept let's start with a simple example. The below query compares the phrase `quick fox` to the similar phrase of `quick foxx` (additional `x`). These are similar phrases and as such, they should have a high ngram similarity. \n",
        "\n",
        "```\n",
        "Case Conversion Note:\n",
        "NGram analyzers do not currently support case conversion. \n",
        "It's definitely worthwhile to have the input match the stored terms case, but even without it ngram_match can work, but will be less accurate\n",
        "```\n",
        "\n",
        "Go ahead and execute the query below:"
      ],
      "metadata": {
        "colab_type": "text",
        "id": "haexui4sDce2"
      }
    },
    {
      "cell_type": "code",
      "execution_count": 12,
      "source": [
        "cursor = database.aql.execute(\r\n",
        "\"\"\"\r\n",
        "RETURN NGRAM_SIMILARITY(\r\n",
        "\"quick fox\",\r\n",
        "\"quick foxx\", \r\n",
        "2)\"\"\"\r\n",
        ")\r\n",
        "# Iterate through the result cursor\r\n",
        "for doc in cursor:\r\n",
        "  print('\\033[4mNGRAM_SIMILARITY\\033[0m ')\r\n",
        "  print(doc)\r\n"
      ],
      "outputs": [
        {
          "output_type": "stream",
          "name": "stdout",
          "text": [
            "\u001b[4mNGRAM_SIMILARITY\u001b[0m \n",
            "0.8888888955116272\n"
          ]
        }
      ],
      "metadata": {
        "colab_type": "code",
        "id": "t4-VhEhgC6oM",
        "colab": {
          "base_uri": "https://localhost:8080/",
          "height": 51
        },
        "outputId": "eee8c12a-6074-4bf1-8346-e433e04b52bc"
      }
    },
    {
      "cell_type": "markdown",
      "source": [
        "With a ngram size of 2, the ngram similarity between both strings is 0.888, the closer the similarity is to 1 the more similar they are. Feel free experiment with other combinations such as `NGRAM_SIMILARITY( \"same string\",\"same string\", 2)` or vary the ngramSize.\n",
        "\n",
        "NGram functions such as this break apart the words using the supplied ngram size, 2 in our query above. This means that the function compares the two words broken up into their 2 letter ngrams:\n",
        "\n",
        "  ```\n",
        "  quick fox         --         quick foxx\n",
        "  ----------------------------------------\n",
        "  qu                --         qu (match)\n",
        "  ui                --         ui (match)\n",
        "  ic                --         ic (match)\n",
        "  ck                --         ck (match)\n",
        "  k                 --         k  (match)\n",
        "   f                --          f (match)\n",
        "  fo                --         fo (match)\n",
        "  ox                --         ox (match)\n",
        "  x                 --         xx (do not match)\n",
        "  ```\n",
        "If we use simple math here we can see that there is around an 85% match when an extra `x` is supplied. However, N-Gram Similarity and Distance is not as simple as this, but hopefully this provides a quick intro to the basic concept of ngram matching and similarity. If you would like to take a deep dive into this topic, a paper published by [Grzegorz Kondrak at the University of Alberta](https://webdocs.cs.ualberta.ca/~kondrak/papers/spire05.pdf) is a great resource."
      ],
      "metadata": {
        "colab_type": "text",
        "id": "HQlOtFJCfglL"
      }
    },
    {
      "cell_type": "markdown",
      "source": [
        "### NGram Positional Similarity\n",
        "`NGRAM_POSITIONAL_SIMILARITY(input, target, ngramSize) → similarity`\n",
        "\n",
        "While [NGRAM_SIMILARITY()](https://www.arangodb.com/docs/devel/aql/functions-string.html#ngram_similarity) only counts fully matching ngrams, [NGRAM_POSITIONAL_SIMILARITY()](https://www.arangodb.com/docs/devel/aql/functions-string.html#ngram_positional_similarity) also considers partially matching ones. Let us look at how that effects the returned scores. \n",
        "In this first example we are comparing `NGRAM_SIMILARITY` and `NGRAM_POSITIONAL_SIMILARITY` scores using the same two phrases as with our previous  example. These phrases are so similar that counting partial matches doesn't make any difference, thus we get the same scores."
      ],
      "metadata": {
        "colab_type": "text",
        "id": "POtg36jBTh5r"
      }
    },
    {
      "cell_type": "code",
      "execution_count": 13,
      "source": [
        "cursor = database.aql.execute(\r\n",
        "\"\"\"\r\n",
        "RETURN\r\n",
        "{\"NGRAM_SIMILARITY\" : NGRAM_SIMILARITY(\r\n",
        "\"quick fox\",\r\n",
        "\"quick foxx\", \r\n",
        "3),\r\n",
        "\"NGRAM_POSITIONAL_SIMILARITY\" : NGRAM_POSITIONAL_SIMILARITY(\r\n",
        "\"quick fox\",\r\n",
        "\"quick foxx\", \r\n",
        "3)}\"\"\"\r\n",
        ")\r\n",
        "# Iterate through the result cursor\r\n",
        "for doc in cursor:\r\n",
        "  print('\\033[4mNGRAM_SIMILARITY\\033[0m ', '\\033[4mNGRAM_POSITIONAL_SIMILARITY\\033[0m '.rjust(44))\r\n",
        "  print(doc['NGRAM_SIMILARITY'], str(doc['NGRAM_POSITIONAL_SIMILARITY']).rjust(25))"
      ],
      "outputs": [
        {
          "output_type": "stream",
          "name": "stdout",
          "text": [
            "\u001b[4mNGRAM_SIMILARITY\u001b[0m          \u001b[4mNGRAM_POSITIONAL_SIMILARITY\u001b[0m \n",
            "0.875                     0.875\n"
          ]
        }
      ],
      "metadata": {
        "colab_type": "code",
        "id": "g1Uj0IBbTlmR",
        "colab": {
          "base_uri": "https://localhost:8080/",
          "height": 51
        },
        "outputId": "6cbd00e7-8a42-4daf-d8d8-f4b1b21aca07"
      }
    },
    {
      "cell_type": "markdown",
      "source": [
        "If we start to change a few more letters in the phrases, the differences between the two functions becomes more clear. The score for `NGRAM_POSITIONAL_SIMILARITY` is nearly double that of `NGRAM_SIMILARITY`, due to the fact that it counted the partial matches. This provides us with some additional 'fuzziness' by allowing the matching requirement to be a bit more lenient."
      ],
      "metadata": {
        "colab_type": "text",
        "id": "izAPzIB8Tpw4"
      }
    },
    {
      "cell_type": "code",
      "execution_count": 14,
      "source": [
        "cursor = database.aql.execute(\r\n",
        "\"\"\"\r\n",
        "RETURN\r\n",
        "{\"NGRAM_SIMILARITY\" : NGRAM_SIMILARITY(\r\n",
        "\"quick fox\",\r\n",
        "\"quirky foxx\", \r\n",
        "3),\r\n",
        "\"NGRAM_POSITIONAL_SIMILARITY\" : NGRAM_POSITIONAL_SIMILARITY(\r\n",
        "\"quick fox\",\r\n",
        "\"quirky foxx\", \r\n",
        "3)}\"\"\"\r\n",
        ")\r\n",
        "# Iterate through the result cursor\r\n",
        "for doc in cursor:\r\n",
        "  print('\\033[4mNGRAM_SIMILARITY\\033[0m ', '\\033[4mNGRAM_POSITIONAL_SIMILARITY\\033[0m '.rjust(44))\r\n",
        "  print(doc['NGRAM_SIMILARITY'], str(doc['NGRAM_POSITIONAL_SIMILARITY']).rjust(25))"
      ],
      "outputs": [
        {
          "output_type": "stream",
          "name": "stdout",
          "text": [
            "\u001b[4mNGRAM_SIMILARITY\u001b[0m          \u001b[4mNGRAM_POSITIONAL_SIMILARITY\u001b[0m \n",
            "0.3333333432674408        0.5925925970077515\n"
          ]
        }
      ],
      "metadata": {
        "colab_type": "code",
        "id": "b1CgLWTeTtSF",
        "colab": {
          "base_uri": "https://localhost:8080/",
          "height": 51
        },
        "outputId": "2b11ae29-72a5-4d59-bf8d-fafd2933837f"
      }
    },
    {
      "cell_type": "markdown",
      "source": [
        "Depending on your requirements, the decision to count partially matching ngrams adds some 'fuzziness' that may help provide some context to your searches."
      ],
      "metadata": {
        "colab_type": "text",
        "id": "Z9KCiOw0TwSE"
      }
    },
    {
      "cell_type": "markdown",
      "source": [
        "[NGRAM_SIMILARITY](https://www.arangodb.com/docs/devel/aql/functions-arangosearch.html#ngram_similarity) and [NGRAM_POSITIONAL_SIMILARITY](https://www.arangodb.com/docs/devel/aql/functions-arangosearch.html#ngram_positional_similarity) are two new functions that come with ArangoDB 3.7 and can be used to improve text searches but have a drawback of not being able to utilize the indexing benefits of views. They are still very powerful string functions and can offer a lot of functionality for text queries.\n",
        "\n",
        "<br>"
      ],
      "metadata": {
        "colab_type": "text",
        "id": "4bZtMbZyT4Qn"
      }
    },
    {
      "cell_type": "markdown",
      "source": [
        "## NGram Match\n",
        "\n",
        "`NGRAM_MATCH(path, target, threshold, analyzer) -> bool`\n",
        "\n",
        "However, [NGRAM_MATCH](https://www.arangodb.com/docs/devel/aql/functions-arangosearch.html#ngram_match) is able to use the indexing of ArangoSearch views and is what we will look at next.\n",
        "\n",
        "Let us start by using the [NGRAM_MATCH](https://www.arangodb.com/docs/devel/aql/functions-arangosearch.html#ngram_match) function to find a movie using a phrase supplied by the user. \n",
        "\n",
        "The main takeaway from this example is that this exact phrase does not exist in the description and the search terms have quite a few typos as well. Instead, thanks to the ngram analyzer and the NGRAM_MATCH function, the search is able to find the movie based on the relevance of the words supplied. This is a good start and at the end of the notebook we will see how combining this with Levenshtein can really help to round out your fuzzy searches."
      ],
      "metadata": {
        "colab_type": "text",
        "id": "yXECHlaJ3jvZ"
      }
    },
    {
      "cell_type": "code",
      "execution_count": 15,
      "source": [
        "cursor = database.aql.execute(\r\n",
        "\"\"\"\r\n",
        "FOR d IN v_imdb \r\n",
        "  SEARCH NGRAM_MATCH(\r\n",
        "    d.description, \r\n",
        "    'rodo Same goo to Moardoor', \r\n",
        "    0.6, \r\n",
        "    'fuzzy_search_bigram'\r\n",
        "    )\r\n",
        "  LET score = BM25(d)\r\n",
        "  SORT score DESC\r\n",
        "  RETURN { \r\n",
        "    Title:d.title, \r\n",
        "    Description:d.description, \r\n",
        "    Score:score \r\n",
        "    }\r\n",
        "\"\"\"\r\n",
        ")\r\n",
        "# Iterate through the result cursor\r\n",
        "for doc in cursor:\r\n",
        "  print('\\033[4mTitle: ' + doc['Title'] + '\\033[0m')\r\n",
        "  print('\\033[4mDescription:\\033[0m ',textwrap.fill(doc['Description'], 90))\r\n",
        "  print('\\033[4mScore:\\033[0m ',str(doc['Score']))\r\n",
        "  print(' ')"
      ],
      "outputs": [
        {
          "output_type": "stream",
          "name": "stdout",
          "text": [
            "\u001b[4mTitle: The Lord of the Rings: The Return of the King\u001b[0m\n",
            "\u001b[4mDescription:\u001b[0m  Aragorn is revealed as the heir to the ancient kings as he, Gandalf and the other members\n",
            "of the broken fellowship struggle to save Gondor from Sauron's forces. Meanwhile, Frodo\n",
            "and Sam bring the ring closer to the heart of Mordor, the dark lord's realm.\n",
            "\u001b[4mScore:\u001b[0m  35.867916107177734\n",
            " \n",
            "\u001b[4mTitle: The Lord of the Rings: The Two Towers\u001b[0m\n",
            "\u001b[4mDescription:\u001b[0m  Frodo and Sam are trekking to Mordor to destroy the One Ring of Power while Gimli, Legolas\n",
            "and Aragorn  search for the orc-captured Merry and Pippin. All along, nefarious wizard\n",
            "Saruman awaits the Fellowship members at the Orthanc Tower in Isengard.\n",
            "\u001b[4mScore:\u001b[0m  35.867835998535156\n",
            " \n",
            "\u001b[4mTitle: How To Make An American Quilt\u001b[0m\n",
            "\u001b[4mDescription:\u001b[0m  Bride-to-be Finn Dodd hears tales of romance and sorrow from her elders as they construct\n",
            "a quilt.  Finn is a young graduate student, finishing a master's thesis, and preparing for\n",
            "marriage to her fiance Sam. But thoughts of the end of the free life, and a potential\n",
            "summer fling, intrude. She goes home to her grandmother, where, over the making of her\n",
            "wedding gift by a group of quilting-bee friends, laughter, bickering, love, and advice\n",
            "lead her toward a more open-eyed examination of her course.\n",
            "\u001b[4mScore:\u001b[0m  33.62835693359375\n",
            " \n",
            "\u001b[4mTitle: Just Married\u001b[0m\n",
            "\u001b[4mDescription:\u001b[0m  Tom Leezak and Sarah McNerney fall in love and plan to get married, despite opposition\n",
            "from Sarah's uptight, rich family. When they do get married, and get a chance to prove\n",
            "Sarah's family wrong, they go on a European honeymoon and run into disaster after\n",
            "disaster. They have to decide whether the honeymoon from hell and a few pre-marital\n",
            "mistakes are worth throwing away their love and marriage.\n",
            "\u001b[4mScore:\u001b[0m  33.6276969909668\n",
            " \n"
          ]
        }
      ],
      "metadata": {
        "colab_type": "code",
        "id": "b9_f99xRfvcZ",
        "colab": {
          "base_uri": "https://localhost:8080/",
          "height": 510
        },
        "outputId": "7bc3b3d3-c044-4ac1-fda1-8bfa3d380898"
      }
    },
    {
      "cell_type": "markdown",
      "source": [
        "The `NGRAM_MATCH` syntax follows typical ArangoSearch function structure. You first supply the field you would like to search, the search term(s), and then the next value is the threshold amount which must be between `0.0` and `1.0`, last is the analyzer to use on the search terms. The `.6` threshold amount is the new addition and is how much ‘fuzziness’ we are still considering to be a match.\n",
        "\n",
        "The similarity is calculated by counting how long the longest sequence of matching ngrams is, divided by the target’s total ngram count. Only fully matching ngrams are counted.\n",
        "\n",
        "The analyzer we used was configured with a min and max of 2, which means it looks at words 2 letters at a time. This is useful for determining the longest common sequence and context. The idea behind n-gram matching is searching for similar words, but not necessarily exact matches. One of the simplest ways of calculating similarity between two words is calculating the longest common sequence (LCS) of letters. The longer the LCS is the more similar the words are. However, this approach has one big disadvantage – absence of context. For example, words `connection` and `fonetica` have a long LCS (o-n-e-t-i) but very different meanings. To add some context, ngram sequences are used.\n",
        "\n",
        "Each word is split into a series of letter groups and these groups are then matched. If we use the same words, but calculate similarity based on 3-grams, an ngram with max and min of 3, we will get a better similarity measure: con-onn-nne-nec-ect-cti-tio-ion vs. fon-one-net-eti-tic-ica gives shorter LCS ( zero matches). To get rid of length differences we normalize the LCS length by word length. We calculate these matches to get a rating with a value between 0 (no match at all) and 1(fully matched). \n",
        "\n",
        "Increasing the ngram size is not always the best choice due to it also increasing the accuracy requirement of the search. Scores would be much lower for the above Star Wars search if we had chosen an ngram size of 3. We would need to decrease our threshold requirement which can have the impact of returning less relevant results.\n"
      ],
      "metadata": {
        "colab_type": "text",
        "id": "9XsTF8Mtfwaj"
      }
    },
    {
      "cell_type": "markdown",
      "source": [
        "# Levenshtein"
      ],
      "metadata": {
        "colab_type": "text",
        "id": "vUgcAWSpdl8l"
      }
    },
    {
      "cell_type": "markdown",
      "source": [
        "ArangoDB comes with two forms of the Levenshtein matching algorithm, [LEVENSHTEIN_DISTANCE](https://www.arangodb.com/docs/devel/aql/functions-string.html#levenshtein_distance) and [LEVENSHTEIN_MATCH](https://www.arangodb.com/docs/devel/aql/functions-arangosearch.html#levenshtein_match). These AQL functions provide two similar approaches for adding 'fuzziness' to your AQL queries. While the AQL functions are similar there are some important differences, which will discuss in this section, as well as showcase some examples. \n",
        "\n",
        "### Levenshtein Distance\n",
        "`LEVENSHTEIN_DISTANCE(value1, value2) → levenshteinDistance`\n",
        "\n",
        "[Levenshtein distance](https://en.wikipedia.org/wiki/Levenshtein_distance) is a another measure for the difference between two strings represented by the  minimum number of single-character transformations required to move from one string to the other. Let us consider a concrete example:"
      ],
      "metadata": {
        "colab_type": "text",
        "id": "1JisqzP5dflN"
      }
    },
    {
      "cell_type": "code",
      "execution_count": 16,
      "source": [
        "cursor = database.aql.execute(\r\n",
        "\"\"\"\r\n",
        "RETURN LEVENSHTEIN_DISTANCE(\r\n",
        "\"The quick brown fox jumps over the lazy dog\", \r\n",
        "\"The quick black dog jumps over the brown fox\")\"\"\"\r\n",
        ")\r\n",
        "# Iterate through the result cursor\r\n",
        "for doc in cursor:\r\n",
        "  print(\"Edit Distance Transoformations Required: \", doc)\r\n",
        "\r\n",
        "\r\n"
      ],
      "outputs": [
        {
          "output_type": "stream",
          "name": "stdout",
          "text": [
            "Edit Distance Transoformations Required:  13\n"
          ]
        }
      ],
      "metadata": {
        "colab_type": "code",
        "id": "pr-gqDa8de1I",
        "colab": {
          "base_uri": "https://localhost:8080/",
          "height": 34
        },
        "outputId": "cddb87bc-3f06-43cd-e7cb-a8d197343b90"
      }
    },
    {
      "cell_type": "markdown",
      "source": [
        "Here we need a minimum of 13 transformations to move from one string to the other. \n",
        "Feel free to find a minimum sequence for this transformation or experiment with other combinations such as `LEVENSHTEIN_DISTANCE(\"ab\", \"ba\")`. Once the distance has been calculated it can be used in other parts of your application logic and even with the same query. \n",
        "\n",
        "This functionality provides some added control over your text analysis by handling what to do with the distance measure once you have it. However, in most situations you may prefer to find the relevance, distance, and determine if the keywords or phrases match some user supplied input, with one function or statement. This functionality is where Levenshtein Match comes in and is what we will review next.\n",
        "\n",
        "Before we go and as a nice transition to looking at Levenshtein Match, here are some key differences:\n",
        "* Distance is considered a string function, not tied to ArangoSearch\n",
        "* Distance does not take advantage of ArangoSearch indexing\n",
        "* Distance uses Damerau and treats transpositions of 2 adjacent characters atomically\n",
        "* Match does not use Damerau by default, but can be optionally enabled"
      ],
      "metadata": {
        "colab_type": "text",
        "id": "0r1uwBXLBaMk"
      }
    },
    {
      "cell_type": "markdown",
      "source": [
        "### Levenshtein Match\n",
        "\n",
        "\n",
        "`LEVENSHTEIN_MATCH(path, target, distance, transpositions, maxTerms) -> bool`\n",
        "\n",
        "Levenshtein match, matches documents with a Levenshtein distance lower than or equal to a distance between a document value and provided search value. This takes the power of the above Levenshtein distance function and combines it with filtering and relevance matching.\n",
        "\n",
        "```\n",
        "Analyzer Note:\n",
        "For our LEVENSHTEIN_MATCH examples we will use a text analyzer, instead of ngram, that has stemming disabled.\n",
        "Stemming is disabled as a convenience to avoid terms not matching due to a stemmed word, ie: galaxy is galaxi when stemmed.\n",
        "```\n",
        "The following code block:\n",
        "* Creates the analyzer named `en_tokenizer`\n",
        "* Updates our link definition object\n",
        "* Updates the `v_imdb` view definition\n"
      ],
      "metadata": {
        "colab_type": "text",
        "id": "sm48Mt5jplnb"
      }
    },
    {
      "cell_type": "code",
      "execution_count": 17,
      "source": [
        " # Delete in case analyzer existed before\r\n",
        "database.delete_analyzer('en_tokenizer', ignore_missing=True)\r\n",
        "\r\n",
        "# Create a new english text analyzer to tokenize our text\r\n",
        "database.create_analyzer(\r\n",
        "        name='en_tokenizer',\r\n",
        "        analyzer_type='text',\r\n",
        "        properties={\r\n",
        "            'locale': 'en',\r\n",
        "            'stemming': False\r\n",
        "        }, \r\n",
        "        features=[\"position\",\"norm\", \"frequency\"] \r\n",
        "    )\r\n",
        "\r\n",
        "# Update the link definition object\r\n",
        " link = { \r\n",
        "  \"includeAllFields\": True,\r\n",
        "  \"fields\" : { \r\n",
        "      \"title\" : { \"analyzers\" : [ \"fuzzy_search_bigram\", \"en_tokenizer\"] },\r\n",
        "      \"description\" : { \"analyzers\" : [ \"fuzzy_search_bigram\", \"en_tokenizer\"] }\r\n",
        "      }\r\n",
        "}\r\n",
        "\r\n",
        "# Update the ArangoSearch view with the new link definition\r\n",
        "database.update_arangosearch_view(\r\n",
        "    name='v_imdb',\r\n",
        "    properties={'links': { 'imdb_vertices': link }}\r\n",
        ")"
      ],
      "outputs": [
        {
          "output_type": "execute_result",
          "data": {
            "text/plain": [
              "{'cleanup_interval_step': 2,\n",
              " 'commit_interval_msec': 1000,\n",
              " 'consolidation_interval_msec': 10000,\n",
              " 'consolidation_policy': {'min_score': 0,\n",
              "  'segments_bytes_floor': 2097152,\n",
              "  'segments_bytes_max': 5368709120,\n",
              "  'segments_max': 10,\n",
              "  'segments_min': 1,\n",
              "  'type': 'tier'},\n",
              " 'global_id': 'c190020010/',\n",
              " 'id': '190020010',\n",
              " 'links': [{}],\n",
              " 'name': 'v_imdb',\n",
              " 'primary_sort': [],\n",
              " 'type': 'arangosearch',\n",
              " 'writebuffer_active': 0,\n",
              " 'writebuffer_idle': 64,\n",
              " 'writebuffer_max_size': 33554432}"
            ]
          },
          "metadata": {
            "tags": []
          },
          "execution_count": 17
        }
      ],
      "metadata": {
        "colab_type": "code",
        "id": "jMiFXQMToVQV",
        "colab": {
          "base_uri": "https://localhost:8080/",
          "height": 323
        },
        "outputId": "f0679197-c927-45c7-b3a3-666996022930"
      }
    },
    {
      "cell_type": "markdown",
      "source": [
        "\n",
        "To continue exploring how Levenshtein Match can leverage edit distance scoring with term matching functionality, run the query below:"
      ],
      "metadata": {
        "colab_type": "text",
        "id": "zaqVAPE-ptcs"
      }
    },
    {
      "cell_type": "code",
      "execution_count": 18,
      "source": [
        "# Execute the query\r\n",
        "cursor = database.aql.execute(\r\n",
        "  \"\"\"\r\n",
        "  FOR d IN v_imdb\r\n",
        "    SEARCH ANALYZER(LEVENSHTEIN_MATCH(\r\n",
        "      d.title, \r\n",
        "      'galxy', \r\n",
        "      2,\r\n",
        "      true,\r\n",
        "      3\r\n",
        "      ), \r\n",
        "    \"en_tokenizer\")\r\n",
        "    SORT BM25(d) DESC \r\n",
        "    LIMIT 10\r\n",
        "    RETURN {\r\n",
        "      \"Title\": d.title,\r\n",
        "      \"Score\": BM25(d)\r\n",
        "      }\r\n",
        "      \"\"\")\r\n",
        "# Iterate through the result cursor\r\n",
        "for doc in cursor:\r\n",
        "  print('Title: ', doc['Title'], )\r\n",
        "  print('Score: ', str(doc['Score']))\r\n",
        "  print(' ')"
      ],
      "outputs": [
        {
          "output_type": "stream",
          "name": "stdout",
          "text": [
            "Title:  Galaxy Quest\n",
            "Score:  8.555624961853027\n",
            " \n",
            "Title:  When Harry Met Sally\n",
            "Score:  6.690903663635254\n",
            " \n",
            "Title:  The Life of David Gale\n",
            "Score:  5.63714599609375\n",
            " \n"
          ]
        }
      ],
      "metadata": {
        "colab_type": "code",
        "id": "IYzxDnGn8KnM",
        "colab": {
          "base_uri": "https://localhost:8080/",
          "height": 170
        },
        "outputId": "e3b4d0e2-c3f3-4e2a-c77c-058bcd447856"
      }
    },
    {
      "cell_type": "markdown",
      "source": [
        "The above query is an example of a user searching for a movie title but their search term contains a typo. The user intended to type `galaxy` but accidentally left out an `a`, easy mistake. Thanks to the [LEVENSHTEIN_MATCH](https://www.arangodb.com/docs/devel/aql/functions-arangosearch.html#levenshtein_match) function we have accommodated this very common scenario. \n",
        "\n",
        "The edit distance to add in an `a` would be less than `2`, which is the distance supplied in this query, so the term `galaxy` is also taken into account, not just the misspelled word.\n",
        "\n",
        "The `3` supplied here is optional and specifies the max number of terms, such as `galaxy`, to take into account. The higher this number is, the more results you are likely to get, this makes sorting by relevance very important."
      ],
      "metadata": {
        "colab_type": "text",
        "id": "ZnH-F3R6K-y4"
      }
    },
    {
      "cell_type": "markdown",
      "source": [
        "### Levenshtein Match + Phrase Search\n",
        "In practice it will be common to combine [LEVENSHTEIN_MATCH](https://www.arangodb.com/docs/devel/aql/functions-arangosearch.html#levenshtein_match) with other ArangoSearch AQL functions, [PHRASE](https://www.arangodb.com/docs/devel/aql/functions-arangosearch.html#phrase) being a likely choice.\n",
        "The Phrase function honors the postion of the search term, where Levenshtein Match just looks for the word to exist and evaluates it based on relevance to the term.\n",
        "\n",
        "This combination is so common that Levenshtein Match comes with a second syntax style that works perfectly with PHRASE. The array sytnax variant shown in the query below allows for omitting the intial path argument, as it is already supplied by the PHRASE function. This combination gives us the best of both worlds, precise control with the flexibility of fuzzy search.\n",
        "\n",
        "This query looks for movie titles starting with the word `star` and uses [LEVENSHTEIN_MATCH](https://www.arangodb.com/docs/devel/aql/functions-arangosearch.html#levenshtein_match) to match a second word, with Damerau transposition set to true."
      ],
      "metadata": {
        "colab_type": "text",
        "id": "KWo6D1topWRS"
      }
    },
    {
      "cell_type": "code",
      "execution_count": 19,
      "source": [
        "cursor = database.aql.execute(\r\n",
        "    \"\"\"\r\n",
        "FOR d IN v_imdb\r\n",
        "  SEARCH PHRASE(d.title, [ 'star', { LEVENSHTEIN_MATCH : ['wr', 2, true] } ], \"en_tokenizer\")\r\n",
        "    SORT BM25(d) DESC \r\n",
        "    RETURN d.title\r\n",
        "    \"\"\")\r\n",
        "for doc in cursor:\r\n",
        "  print(doc)"
      ],
      "outputs": [
        {
          "output_type": "stream",
          "name": "stdout",
          "text": [
            "Star Wars: Episode V: The Empire Strikes Back\n",
            "Star Wars: Episode III: Revenge of the Sith\n",
            "Star Wars: The Clone Wars\n",
            "Star Wars: Episode II - Attack of the Clones\n",
            "Star Wars: Episode VI - Return of the Jedi\n",
            "Star Wars: Episode IV - A New Hope\n",
            "Star Wars: Episode I - The Phantom Menace\n",
            "Star Wars Collection\n"
          ]
        }
      ],
      "metadata": {
        "colab_type": "code",
        "id": "jcgHY9pLLDHn",
        "colab": {
          "base_uri": "https://localhost:8080/",
          "height": 153
        },
        "outputId": "b5f58365-3b74-42f9-eb4b-b5f853cfa50d"
      }
    },
    {
      "cell_type": "markdown",
      "source": [
        "You can continue using multiple [LEVENSHTEIN_MATCH](https://www.arangodb.com/docs/devel/aql/functions-arangosearch.html#levenshtein_match) functions even in a single Phrase statement. This makes it possible to search for phrases where every word possibly has a typo, along with the additonal [PHRASE options](https://www.arangodb.com/docs/devel/aql/functions-arangosearch.html#phrase) such as skipTokens."
      ],
      "metadata": {
        "colab_type": "text",
        "id": "SbxujkbYupoM"
      }
    },
    {
      "cell_type": "code",
      "execution_count": 20,
      "source": [
        "cursor = database.aql.execute(\r\n",
        "\"\"\"\r\n",
        "LET phraseStructure = [ \r\n",
        "  { LEVENSHTEIN_MATCH : ['lrd', 1, true] }, \r\n",
        "  2, // offset between adjacent phrase parts\r\n",
        "  { LEVENSHTEIN_MATCH : ['rng', 2, true] }\r\n",
        "]\r\n",
        "FOR d IN v_imdb\r\n",
        "  SEARCH PHRASE(d.title, phraseStructure, \"en_tokenizer\")\r\n",
        "    SORT BM25(d) DESC \r\n",
        "    RETURN d.title\r\n",
        "\"\"\")\r\n",
        "for doc in cursor:\r\n",
        "  print(doc)"
      ],
      "outputs": [
        {
          "output_type": "stream",
          "name": "stdout",
          "text": [
            "The Lord of the Rings: The Fellowship of the Ring\n",
            "The Lord of the Rings: The Return of the King\n",
            "J.R.R. Tolkien's The Lord of the Rings\n",
            "The Lord of the Rings: The Two Towers\n",
            "The Lord of the Rings Trilogy\n"
          ]
        }
      ],
      "metadata": {
        "colab_type": "code",
        "id": "2AXztvTMLGNz",
        "colab": {
          "base_uri": "https://localhost:8080/",
          "height": 102
        },
        "outputId": "cc45e5ca-5f49-4322-de4c-593137381902"
      }
    },
    {
      "cell_type": "markdown",
      "source": [
        "### Combined Fuzzines\n",
        "\n",
        "#### Differences\n",
        "\n",
        "**Levenshtein**\n",
        "\n",
        "If your searches are typically single word searches, Levenshtein match is usually the better option. With these types of searches [NGRAM_MATCH](https://www.arangodb.com/docs/devel/aql/functions-arangosearch.html#ngram_match) is not as performant and adds more overhead to CPU. Also, when indexing, ngram analyzers store positional information, which results in larger sized indexes even for single and small words.\n",
        "\n",
        "**NGram**\n",
        "\n",
        "Ngram is better for longer search terms. Some use cases where using NGram functions are ideal include:\n",
        " * Genome Sequencing\n",
        " * Languages with longer words, such as German\n",
        " * Log and Sensor data that may have long connected strings"
      ],
      "metadata": {
        "colab_type": "text",
        "id": "FH3sEI2QB21G"
      }
    },
    {
      "cell_type": "markdown",
      "source": [
        "**Combination**\n",
        "\n",
        "While there are differences between the two, they can combine to bring a high level of fuzziness and accuracy to your searches.\n",
        "\n",
        "The below examples shows how you can use [NGRAM_MATCH](https://www.arangodb.com/docs/devel/aql/functions-arangosearch.html#ngram_match) to try and match portions of the words and use then [LEVENSHTEIN_MATCH](https://www.arangodb.com/docs/devel/aql/functions-arangosearch.html#levenshtein_match) to match to boost whole words and phrases. You gain the benefit of error checking and context from [NGRAM_MATCH](https://www.arangodb.com/docs/devel/aql/functions-arangosearch.html#ngram_match) while maintaining accuracy and relevance with [LEVENSHTEIN_MATCH](https://www.arangodb.com/docs/devel/aql/functions-arangosearch.html#levenshtein_match). Both functions contribute to the overall score, giving you a balance of both. \n",
        "\n",
        "Notice as well the sharp drop in the score for the movies whos description doesn't contain `Luke Skywalker`, this is BOOST and [LEVENSHTEIN_MATCH](https://www.arangodb.com/docs/devel/aql/functions-arangosearch.html#levenshtein_match) in action!\n",
        "\n",
        "Note: We parsed the `phraseStructure` separately here, just for convenience and readability. This all could have been done in-line, in the same statement."
      ],
      "metadata": {
        "colab_type": "text",
        "id": "tcmQcLkvy-_N"
      }
    },
    {
      "cell_type": "markdown",
      "source": [],
      "metadata": {
        "colab_type": "text",
        "id": "Hagvz6j_HRxx"
      }
    },
    {
      "cell_type": "code",
      "execution_count": 21,
      "source": [
        "cursor = database.aql.execute(\"\"\"\r\n",
        "LET input = \"Luk Skywlker\"\r\n",
        "LET phraseStructure = [\r\n",
        "    {\r\n",
        "      \"LEVENSHTEIN_MATCH\": [\r\n",
        "        \"luk\",\r\n",
        "        3,\r\n",
        "        true\r\n",
        "      ]\r\n",
        "    },\r\n",
        "    {\r\n",
        "      \"LEVENSHTEIN_MATCH\": [\r\n",
        "        \"skywlker\",\r\n",
        "        3,\r\n",
        "        true\r\n",
        "      ]\r\n",
        "    }\r\n",
        "  ]\r\n",
        "FOR d IN v_imdb \r\n",
        "  SEARCH NGRAM_MATCH(d.description, input, 0.6, 'fuzzy_search_bigram') // matches part of the words to provide context\r\n",
        "         OR\r\n",
        "         BOOST(PHRASE(d.description, phraseStructure, 'en_tokenizer'), 10) // matches whole words to boost documents containing the matched words\r\n",
        "  SORT BM25(d) DESC  \r\n",
        "  RETURN {\r\n",
        "    \"Title\" : d.title,\r\n",
        "    \"Description\": d.description, \"Score\":BM25(d)\r\n",
        "    }\"\"\"\r\n",
        ")\r\n",
        "for doc in cursor:\r\n",
        "  print('\\033[4mTitle: ' + doc['Title'] + '\\033[0m')\r\n",
        "  print('\\033[4mDescription:\\033[0m ',textwrap.fill(doc['Description'], 90))\r\n",
        "  print('\\033[4mScore:\\033[0m ',str(doc['Score']))\r\n",
        "  print(' ')"
      ],
      "outputs": [
        {
          "output_type": "stream",
          "name": "stdout",
          "text": [
            "\u001b[4mTitle: Star Wars: Episode V: The Empire Strikes Back\u001b[0m\n",
            "\u001b[4mDescription:\u001b[0m  The epic saga continues as Luke Skywalker, in hopes of defeating the evil Galactic Empire,\n",
            "learns the ways of the Jedi from aging master Yoda. But Darth Vader is more determined\n",
            "than ever to capture Luke. Meanwhile, rebel leader Princess Leia, cocky Han Solo,\n",
            "Chewbacca, and droids C-3PO and R2-D2 are thrown into various stages of capture, betrayal\n",
            "and despair.\n",
            "\u001b[4mScore:\u001b[0m  4319.775390625\n",
            " \n",
            "\u001b[4mTitle: Star Wars: Episode VI - Return of the Jedi\u001b[0m\n",
            "\u001b[4mDescription:\u001b[0m  As Rebel leaders map their strategy for an all-out attack on the Emperor's newer, bigger\n",
            "-- and dreaded --Death Star. Han Solo remains frozen in the cavernous desert fortress of\n",
            "Jabba the Hutt, the most loathsome outlaw in the universe, who is also keeping Princess\n",
            "Leia as a slave girl.Now a master of the Force, Luke Skywalker rescues his friends, but he\n",
            "cannot become a true Jedi Knight until he wages his own crucial battle against Darth\n",
            "Vader, who has sworn to win Luke over to the Dark side of\n",
            "\u001b[4mScore:\u001b[0m  3342.5458984375\n",
            " \n",
            "\u001b[4mTitle: Star Wars: Episode IV - A New Hope\u001b[0m\n",
            "\u001b[4mDescription:\u001b[0m  Princess Leia is captured and held hostage by the evil Imperial forces in their effort to\n",
            "take over the galactic Empire. Venturesome Luke Skywalker and dashing caption Han Solo\n",
            "team together with the loveable robot duo R2-D2 and C-3PO to rescue the beautiful princess\n",
            "and restore peace and justice in the Empire.\n",
            "\u001b[4mScore:\u001b[0m  3340.424560546875\n",
            " \n",
            "\u001b[4mTitle: Star Wars Collection\u001b[0m\n",
            "\u001b[4mDescription:\u001b[0m  A series of six films from the Director, Screenwriter, and Producer George Lucas. Luke\n",
            "Skywalker, Princess Leia, Darth Vader, C3PO, R2D2 and many other characters from the film\n",
            "are now household names from one of the most successful film projects of all time.\n",
            "\u001b[4mScore:\u001b[0m  3339.311767578125\n",
            " \n",
            "\u001b[4mTitle: Star Wars: Episode II - Attack of the Clones\u001b[0m\n",
            "\u001b[4mDescription:\u001b[0m  (22 Years Before Episode IV) Ten years after the events of the Battle of Naboo, not only\n",
            "has the galaxy undergone significant change, but so have Obi-Wan Kenobi, Padmé Amidala,\n",
            "and Anakin Skywalker as they are thrown together again for the first time since the Trade\n",
            "Federation invasion of Naboo. Anakin has grown into the accomplished Jedi apprentice of\n",
            "Obi-Wan, who himself has transitioned from student to teacher. The two Jedi are assigned\n",
            "to protect Padmé whose life is threatened by a faction o\n",
            "\u001b[4mScore:\u001b[0m  38.06172561645508\n",
            " \n",
            "\u001b[4mTitle: Star Wars: Episode I - The Phantom Menace\u001b[0m\n",
            "\u001b[4mDescription:\u001b[0m  (32 Years Before Episode IV) Stranded on the desert planet Tatooine after rescuing young\n",
            "Queen Amidala from the impending invasion of Naboo, Jedi apprentice Obi-Wan Kenobi and his\n",
            "Jedi Master discover nine-year-old Anakin Skywalker, a young slave unusually strong in the\n",
            "Force. Anakin wins a thrilling Podrace and with it his freedom as he leaves his home to be\n",
            "trained as a Jedi. The heroes return to Naboo where Anakin and the Queen face massive\n",
            "invasion forces while the two Jedi contend with a de\n",
            "\u001b[4mScore:\u001b[0m  38.06171417236328\n",
            " \n",
            "\u001b[4mTitle: Star Wars: Episode III: Revenge of the Sith\u001b[0m\n",
            "\u001b[4mDescription:\u001b[0m  (19 Years before Episode IV) Three years after the onset of the Clone Wars, the noble Jedi\n",
            "Knights have been leading a massive clone army into a galaxy-wide battle against the\n",
            "Separatists. When the sinister Sith unveil a thousand-year-old plot to rule the galaxy,\n",
            "the Republic crumbles and from its ashes rises the evil Galactic Empire. Jedi hero Anakin\n",
            "Skywalker is seduced by the dark side of the Force to become the Emperor's new apprentice\n",
            "- Darth Vader. The Jedi are decimated, as Obi-Wan Kenobi\n",
            "\u001b[4mScore:\u001b[0m  38.06171417236328\n",
            " \n",
            "\u001b[4mTitle: Fanboys\u001b[0m\n",
            "\u001b[4mDescription:\u001b[0m  \"Star Wars\" fans travel to Skywalker Ranch to steal an early copy of \"Episode I: The\n",
            "Phantom Menace\".\n",
            "\u001b[4mScore:\u001b[0m  38.05414962768555\n",
            " \n"
          ]
        }
      ],
      "metadata": {
        "colab_type": "code",
        "id": "O6xBEzxxHz-P",
        "colab": {
          "base_uri": "https://localhost:8080/",
          "height": 1000
        },
        "outputId": "9143eef4-3761-4d53-b0af-847a369caaf4"
      }
    },
    {
      "cell_type": "markdown",
      "source": [
        "# Further Links"
      ],
      "metadata": {
        "colab_type": "text",
        "id": "tWpH7oVb8KnW"
      }
    },
    {
      "cell_type": "markdown",
      "source": [
        "Hopefully, you can now see the potential that fuzzy search has with ArangoSearch. If you would like to continue learning more about ArangoDB and ArangoSearch here are some great next steps to get you started!\n",
        "\n",
        "* ArangoSearch Demo on Oasis (Just follow the onboarding guide)\n",
        "  * https://cloud.arangodb.com\n",
        "\n",
        "* ArangoSearch Documentation\n",
        "  * https://www.arangodb.com/docs/stable/arangosearch.html\n",
        "\n",
        "* ArangoSearch Training Center\n",
        "  * https://www.arangodb.com/arangodb-training-center/search/arangosearch/"
      ],
      "metadata": {
        "colab_type": "text",
        "id": "dP0KpLrK8KnW"
      }
    }
  ]
}