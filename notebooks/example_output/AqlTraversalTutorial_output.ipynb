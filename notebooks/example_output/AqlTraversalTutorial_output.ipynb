{
  "cells": [
    {
      "cell_type": "markdown",
      "metadata": {
        "id": "HaZHtmk2d6SP"
      },
      "source": [
        "![arangodb](https://github.com/arangodb/interactive_tutorials/blob/master/notebooks/img/ArangoDB_logo.png?raw=1)"
      ]
    },
    {
      "cell_type": "markdown",
      "metadata": {
        "id": "MlDtHGBYd6ST"
      },
      "source": [
        "# AQL Graph Traversal Tutorial"
      ]
    },
    {
      "cell_type": "markdown",
      "metadata": {
        "id": "MTOK-YObd6ST"
      },
      "source": [
        "<a href=\"https://colab.research.google.com/github/arangodb/interactive_tutorials/blob/master/notebooks/AqlTraversalTutorial.ipynb\" target=\"_parent\"><img src=\"https://colab.research.google.com/assets/colab-badge.svg\" alt=\"Open In Colab\"/></a>"
      ]
    },
    {
      "cell_type": "markdown",
      "metadata": {
        "id": "7oJHzFtpd6SU"
      },
      "source": [
        "In the previous parts of this AQL tutorial series, we have already covered a number of topics:\n",
        "* [Part 1: CRUD](https://colab.research.google.com/github/joerg84/ArangoDBUniversity/blob/master/AqlCrudTutorial.ipynb) \n",
        "* [Part 2: Limit, Sort, Filter](https://colab.research.google.com/github/joerg84/ArangoDBUniversity/blob/master/AqlPart2Tutorial.ipynb)\n",
        "* [Part 3: Join](https://colab.research.google.com/github/joerg84/ArangoDBUniversity/blob/master/AqlJoinTutorial.ipynb)\n",
        "\n",
        "In this part we move from a document data model to graphs und learn how AQL combines different data model in one query language.\n",
        "Please also note that there is an excellen [free Graph Course](https://www.arangodb.com/arangodb-graph-course) which goes into more detail!\n",
        "\n",
        "Recall, that in addition to the python interface, you can interact with ArangoDB using its web interface to manage collections and execute the queries."
      ]
    },
    {
      "cell_type": "markdown",
      "metadata": {
        "id": "LRwlnLrTd6SW"
      },
      "source": [
        "# Setup "
      ]
    },
    {
      "cell_type": "markdown",
      "metadata": {
        "id": "jbgB_Q82d6SY"
      },
      "source": [
        "Before getting started with ArangoDB we need to prepare our environment and create a temporary database on ArangoDB's managed Service Oasis."
      ]
    },
    {
      "cell_type": "code",
      "execution_count": 1,
      "metadata": {
        "id": "i-5e_buyd6SZ"
      },
      "outputs": [],
      "source": [
        "%%capture\n",
        "!git clone -b oasis_connector --single-branch https://github.com/arangodb/interactive_tutorials.git\n",
        "!rsync -av interactive_tutorials/ ./ --exclude=.git\n",
        "!pip3 install pyarango\n",
        "!pip3 install \"python-arango>=5.0\""
      ]
    },
    {
      "cell_type": "code",
      "execution_count": 2,
      "metadata": {
        "id": "sSIXobFKd6Sb"
      },
      "outputs": [],
      "source": [
        "import json\n",
        "import requests\n",
        "import sys\n",
        "import oasis\n",
        "import time\n",
        "from IPython.display import JSON\n",
        "\n",
        "from pyArango.connection import *\n",
        "from arango import ArangoClient"
      ]
    },
    {
      "cell_type": "markdown",
      "metadata": {
        "id": "ohkvRsm0d6Sb"
      },
      "source": [
        "Create the temporary database:"
      ]
    },
    {
      "cell_type": "code",
      "execution_count": 3,
      "metadata": {
        "colab": {
          "base_uri": "https://localhost:8080/"
        },
        "id": "W1Z89j8Cd6Sc",
        "outputId": "75278414-d64f-4689-e5db-406b9f98e791"
      },
      "outputs": [
        {
          "output_type": "stream",
          "name": "stdout",
          "text": [
            "Requesting new temp credentials.\n",
            "Temp database ready to use.\n"
          ]
        }
      ],
      "source": [
        "# Retrieve tmp credentials from ArangoDB Tutorial Service\n",
        "login = oasis.getTempCredentials(tutorialName=\"AqlTraversalTutorial\", credentialProvider='https://tutorials.arangodb.cloud:8529/_db/_system/tutorialDB/tutorialDB')\n",
        "\n",
        "# Connect to the temp database\n",
        "conn = oasis.connect(login)\n",
        "db = conn[login[\"dbName\"]] "
      ]
    },
    {
      "cell_type": "code",
      "source": [
        "python_arango_db = oasis.connect_python_arango(login)\n",
        "aql = python_arango_db.aql"
      ],
      "metadata": {
        "id": "53OFZgtj7s0_"
      },
      "execution_count": 4,
      "outputs": []
    },
    {
      "cell_type": "code",
      "execution_count": 5,
      "metadata": {
        "colab": {
          "base_uri": "https://localhost:8080/"
        },
        "id": "awXHdcDnd6Sc",
        "outputId": "e1be96b7-ec70-4281-cb26-c91cefcf2e0d"
      },
      "outputs": [
        {
          "output_type": "stream",
          "name": "stdout",
          "text": [
            "https://tutorials.arangodb.cloud:8529\n",
            "Username: TUTnuukl735happizebzuxta\n",
            "Password: TUTm2igv2a1rmdsn80osxlem\n",
            "Database: TUThk4j1br2ysi82aczlecczp\n"
          ]
        }
      ],
      "source": [
        "print(\"https://{}:{}\".format(login[\"hostname\"], login[\"port\"]))\n",
        "print(\"Username: \" + login[\"username\"])\n",
        "print(\"Password: \" + login[\"password\"])\n",
        "print(\"Database: \" + login[\"dbName\"])"
      ]
    },
    {
      "cell_type": "markdown",
      "metadata": {
        "id": "d1XwVGpPd6Sd"
      },
      "source": [
        "Feel free to use to above URL to checkout the UI!"
      ]
    },
    {
      "cell_type": "markdown",
      "metadata": {
        "id": "TUZJzP6jd6Sd"
      },
      "source": [
        "##  Import Data"
      ]
    },
    {
      "cell_type": "markdown",
      "metadata": {
        "id": "ImZHisyNd6Sd"
      },
      "source": [
        "We will work with the same dataset as in the [first part of this tutorial](https://colab.research.google.com/github/joerg84/ArangoDBUniversity/blob/master/AqlCrudTutorial.ipynb). So let us quickly import that into our temporary database. "
      ]
    },
    {
      "cell_type": "code",
      "execution_count": 6,
      "metadata": {
        "id": "3WCcoN4ld6Se"
      },
      "outputs": [],
      "source": [
        "# Create collection using pyArango driver\n",
        "db.createCollection(name=\"Characters\")\n",
        "\n",
        "# Creating collections with python-arango\n",
        "# Since the collection is created above this should always pass\n",
        "if python_arango_db.has_collection(\"Characters\"):\n",
        "  pass\n",
        "else:\n",
        "  python_arango_db.create_collection(\"Characters\")"
      ]
    },
    {
      "cell_type": "code",
      "execution_count": 7,
      "metadata": {
        "colab": {
          "base_uri": "https://localhost:8080/"
        },
        "id": "li2IWyQad6Se",
        "outputId": "dcd5d866-5ef3-4f80-fd04-3fe90aea6480"
      },
      "outputs": [
        {
          "output_type": "execute_result",
          "data": {
            "text/plain": [
              "<Cursor>"
            ]
          },
          "metadata": {},
          "execution_count": 7
        }
      ],
      "source": [
        "insert_query = \"\"\"\n",
        "LET data = [\n",
        "    { \"name\": \"Ned\", \"surname\": \"Stark\", \"alive\": true, \"age\": 41, \"traits\": [\"A\",\"H\",\"C\",\"N\",\"P\"] },\n",
        "    { \"name\": \"Robert\", \"surname\": \"Baratheon\", \"alive\": false, \"traits\": [\"A\",\"H\",\"C\"] },\n",
        "    { \"name\": \"Jaime\", \"surname\": \"Lannister\", \"alive\": true, \"age\": 36, \"traits\": [\"A\",\"F\",\"B\"] },\n",
        "    { \"name\": \"Catelyn\", \"surname\": \"Stark\", \"alive\": false, \"age\": 40, \"traits\": [\"D\",\"H\",\"C\"] },\n",
        "    { \"name\": \"Cersei\", \"surname\": \"Lannister\", \"alive\": true, \"age\": 36, \"traits\": [\"H\",\"E\",\"F\"] },\n",
        "    { \"name\": \"Daenerys\", \"surname\": \"Targaryen\", \"alive\": true, \"age\": 16, \"traits\": [\"D\",\"H\",\"C\"] },\n",
        "    { \"name\": \"Jorah\", \"surname\": \"Mormont\", \"alive\": false, \"traits\": [\"A\",\"B\",\"C\",\"F\"] },\n",
        "    { \"name\": \"Petyr\", \"surname\": \"Baelish\", \"alive\": false, \"traits\": [\"E\",\"G\",\"F\"] },\n",
        "    { \"name\": \"Viserys\", \"surname\": \"Targaryen\", \"alive\": false, \"traits\": [\"O\",\"L\",\"N\"] },\n",
        "    { \"name\": \"Jon\", \"surname\": \"Snow\", \"alive\": true, \"age\": 16, \"traits\": [\"A\",\"B\",\"C\",\"F\"] },\n",
        "    { \"name\": \"Sansa\", \"surname\": \"Stark\", \"alive\": true, \"age\": 13, \"traits\": [\"D\",\"I\",\"J\"] },\n",
        "    { \"name\": \"Arya\", \"surname\": \"Stark\", \"alive\": true, \"age\": 11, \"traits\": [\"C\",\"K\",\"L\"] },\n",
        "    { \"name\": \"Robb\", \"surname\": \"Stark\", \"alive\": false, \"traits\": [\"A\",\"B\",\"C\",\"K\"] },\n",
        "    { \"name\": \"Theon\", \"surname\": \"Greyjoy\", \"alive\": true, \"age\": 16, \"traits\": [\"E\",\"R\",\"K\"] },\n",
        "    { \"name\": \"Bran\", \"surname\": \"Stark\", \"alive\": true, \"age\": 10, \"traits\": [\"L\",\"J\"] },\n",
        "    { \"name\": \"Joffrey\", \"surname\": \"Baratheon\", \"alive\": false, \"age\": 19, \"traits\": [\"I\",\"L\",\"O\"] },\n",
        "    { \"name\": \"Sandor\", \"surname\": \"Clegane\", \"alive\": true, \"traits\": [\"A\",\"P\",\"K\",\"F\"] },\n",
        "    { \"name\": \"Tyrion\", \"surname\": \"Lannister\", \"alive\": true, \"age\": 32, \"traits\": [\"F\",\"K\",\"M\",\"N\"] },\n",
        "    { \"name\": \"Khal\", \"surname\": \"Drogo\", \"alive\": false, \"traits\": [\"A\",\"C\",\"O\",\"P\"] },\n",
        "    { \"name\": \"Tywin\", \"surname\": \"Lannister\", \"alive\": false, \"traits\": [\"O\",\"M\",\"H\",\"F\"] },\n",
        "    { \"name\": \"Davos\", \"surname\": \"Seaworth\", \"alive\": true, \"age\": 49, \"traits\": [\"C\",\"K\",\"P\",\"F\"] },\n",
        "    { \"name\": \"Samwell\", \"surname\": \"Tarly\", \"alive\": true, \"age\": 17, \"traits\": [\"C\",\"L\",\"I\"] },\n",
        "    { \"name\": \"Stannis\", \"surname\": \"Baratheon\", \"alive\": false, \"traits\": [\"H\",\"O\",\"P\",\"M\"] },\n",
        "    { \"name\": \"Melisandre\", \"alive\": true, \"traits\": [\"G\",\"E\",\"H\"] },\n",
        "    { \"name\": \"Margaery\", \"surname\": \"Tyrell\", \"alive\": false, \"traits\": [\"M\",\"D\",\"B\"] },\n",
        "    { \"name\": \"Jeor\", \"surname\": \"Mormont\", \"alive\": false, \"traits\": [\"C\",\"H\",\"M\",\"P\"] },\n",
        "    { \"name\": \"Bronn\", \"alive\": true, \"traits\": [\"K\",\"E\",\"C\"] },\n",
        "    { \"name\": \"Varys\", \"alive\": true, \"traits\": [\"M\",\"F\",\"N\",\"E\"] },\n",
        "    { \"name\": \"Shae\", \"alive\": false, \"traits\": [\"M\",\"D\",\"G\"] },\n",
        "    { \"name\": \"Talisa\", \"surname\": \"Maegyr\", \"alive\": false, \"traits\": [\"D\",\"C\",\"B\"] },\n",
        "    { \"name\": \"Gendry\", \"alive\": false, \"traits\": [\"K\",\"C\",\"A\"] },\n",
        "    { \"name\": \"Ygritte\", \"alive\": false, \"traits\": [\"A\",\"P\",\"K\"] },\n",
        "    { \"name\": \"Tormund\", \"surname\": \"Giantsbane\", \"alive\": true, \"traits\": [\"C\",\"P\",\"A\",\"I\"] },\n",
        "    { \"name\": \"Gilly\", \"alive\": true, \"traits\": [\"L\",\"J\"] },\n",
        "    { \"name\": \"Brienne\", \"surname\": \"Tarth\", \"alive\": true, \"age\": 32, \"traits\": [\"P\",\"C\",\"A\",\"K\"] },\n",
        "    { \"name\": \"Ramsay\", \"surname\": \"Bolton\", \"alive\": true, \"traits\": [\"E\",\"O\",\"G\",\"A\"] },\n",
        "    { \"name\": \"Ellaria\", \"surname\": \"Sand\", \"alive\": true, \"traits\": [\"P\",\"O\",\"A\",\"E\"] },\n",
        "    { \"name\": \"Daario\", \"surname\": \"Naharis\", \"alive\": true, \"traits\": [\"K\",\"P\",\"A\"] },\n",
        "    { \"name\": \"Missandei\", \"alive\": true, \"traits\": [\"D\",\"L\",\"C\",\"M\"] },\n",
        "    { \"name\": \"Tommen\", \"surname\": \"Baratheon\", \"alive\": true, \"traits\": [\"I\",\"L\",\"B\"] },\n",
        "    { \"name\": \"Jaqen\", \"surname\": \"H'ghar\", \"alive\": true, \"traits\": [\"H\",\"F\",\"K\"] },\n",
        "    { \"name\": \"Roose\", \"surname\": \"Bolton\", \"alive\": true, \"traits\": [\"H\",\"E\",\"F\",\"A\"] },\n",
        "    { \"name\": \"The High Sparrow\", \"alive\": true, \"traits\": [\"H\",\"M\",\"F\",\"O\"] }\n",
        "]\n",
        "\n",
        "FOR d IN data\n",
        "    INSERT d INTO Characters\n",
        "\"\"\"\n",
        "\n",
        "# python-arango\n",
        "aql.execute(insert_query)\n",
        "\n",
        "# pyArango\n",
        "# db.AQLQuery(insert_query)"
      ]
    },
    {
      "cell_type": "markdown",
      "metadata": {
        "id": "mjoyYBkbd6Sf"
      },
      "source": [
        "As before let us check the `Characters` collection:"
      ]
    },
    {
      "cell_type": "code",
      "execution_count": 8,
      "metadata": {
        "colab": {
          "base_uri": "https://localhost:8080/"
        },
        "id": "kwwdq9xwd6Sf",
        "outputId": "a279d322-e50f-4d4e-951c-1b3a5212d9bb"
      },
      "outputs": [
        {
          "output_type": "stream",
          "name": "stdout",
          "text": [
            "Ned\n",
            "\n",
            "Robert\n",
            "\n",
            "Jaime\n",
            "\n",
            "Catelyn\n",
            "\n",
            "Cersei\n",
            "\n",
            "Daenerys\n",
            "\n",
            "Jorah\n",
            "\n",
            "Petyr\n",
            "\n",
            "Viserys\n",
            "\n",
            "Jon\n",
            "\n",
            "Sansa\n",
            "\n",
            "Arya\n",
            "\n",
            "Robb\n",
            "\n",
            "Theon\n",
            "\n",
            "Bran\n",
            "\n",
            "Joffrey\n",
            "\n",
            "Sandor\n",
            "\n",
            "Tyrion\n",
            "\n",
            "Khal\n",
            "\n",
            "Tywin\n",
            "\n",
            "Davos\n",
            "\n",
            "Samwell\n",
            "\n",
            "Stannis\n",
            "\n",
            "Melisandre\n",
            "\n",
            "Margaery\n",
            "\n",
            "Jeor\n",
            "\n",
            "Bronn\n",
            "\n",
            "Varys\n",
            "\n",
            "Shae\n",
            "\n",
            "Talisa\n",
            "\n",
            "Gendry\n",
            "\n",
            "Ygritte\n",
            "\n",
            "Tormund\n",
            "\n",
            "Gilly\n",
            "\n",
            "Brienne\n",
            "\n",
            "Ramsay\n",
            "\n",
            "Ellaria\n",
            "\n",
            "Daario\n",
            "\n",
            "Missandei\n",
            "\n",
            "Tommen\n",
            "\n",
            "Jaqen\n",
            "\n",
            "Roose\n",
            "\n",
            "The High Sparrow\n",
            "\n"
          ]
        }
      ],
      "source": [
        "all_characters_names = \"\"\"\n",
        "FOR c IN Characters\n",
        "    RETURN c.name\n",
        "\"\"\"\n",
        "# python-arango\n",
        "query_result = aql.execute(all_characters_names)\n",
        "\n",
        "# pyArango\n",
        "# query_result = db.AQLQuery(all_characters_names, rawResults=True)\n",
        "for doc in  query_result:\n",
        "    print(doc)\n",
        "    print()"
      ]
    },
    {
      "cell_type": "markdown",
      "metadata": {
        "id": "oibdrFird6Sf"
      },
      "source": [
        "# Graph Traversals"
      ]
    },
    {
      "cell_type": "markdown",
      "metadata": {
        "id": "6aexrjJbd6Sg"
      },
      "source": [
        "Relations such as between parents and children can be modeled as graph. In ArangoDB, two documents (a parent and a child character document) can be linked by an edge document. Edge documents are stored in edge collections and have two additional attributes: `_from` and `_to`. They reference any two documents by their document IDs (`_id`)."
      ]
    },
    {
      "cell_type": "markdown",
      "metadata": {
        "id": "RZ43smgdd6Sg"
      },
      "source": [
        "Our characters have the following relations between parents and children (first names only for a better overview):"
      ]
    },
    {
      "cell_type": "markdown",
      "metadata": {
        "id": "9YwDGVgmd6Sg"
      },
      "source": [
        "|Child   | Parent  |\n",
        "|---|---|\n",
        "| Robb  | Ned  |\n",
        "| Sansa  |  Ned |\n",
        "| Arya  |  Ned |\n",
        "| Bran  |  Ned |\n",
        "| Jon  |  Ned |\n",
        "| Robb  |  Catelyn |\n",
        "| Sansa  | Catelyn  |\n",
        "| Arya  |  Catelyn |\n",
        "| Bran  |  Catelyn |\n",
        "| Jaime  | Tywin  |\n",
        "| Cersei  | Tywin  |\n",
        "| Tyrion  |  Tywin |\n",
        "| Joffrey  |  Jaime |\n",
        "| Joffrey  | Cersei  |\n"
      ]
    },
    {
      "cell_type": "markdown",
      "metadata": {
        "id": "2RAgZC7bd6Sh"
      },
      "source": [
        "We can visualize the same information in a graph, which often is easier to comprehend."
      ]
    },
    {
      "cell_type": "markdown",
      "metadata": {
        "id": "reTrlQjMd6Sh"
      },
      "source": [
        "![child_of](https://github.com/arangodb/interactive_tutorials/blob/master/notebooks/img/ChildOf_Graph.png?raw=1)"
      ]
    },
    {
      "cell_type": "markdown",
      "metadata": {
        "id": "vmKbZmpmd6Sh"
      },
      "source": [
        "# Creating Edges"
      ]
    },
    {
      "cell_type": "markdown",
      "metadata": {
        "id": "xaVCAzWEd6Sh"
      },
      "source": [
        "To create the required edge documents to store these relations in the database, we can run a query that combines joining and filtering to match up the right character documents, then use their `_id` attribute to insert an edge into an edge collection ChildOf."
      ]
    },
    {
      "cell_type": "code",
      "execution_count": 9,
      "metadata": {
        "id": "1LXAhP6Td6Sh"
      },
      "outputs": [],
      "source": [
        "# Create the Characters Collection \n",
        "db.createCollection(name=\"ChildOf\", className = 'Edges')\n",
        "\n",
        "# Creating collections with python-arango\n",
        "# Since the collection is created above this should always pass\n",
        "if python_arango_db.has_collection(\"ChildOf\"):\n",
        "  pass\n",
        "else:\n",
        "  python_arango_db.create_collection(\"ChildOf\", edge=True)"
      ]
    },
    {
      "cell_type": "markdown",
      "metadata": {
        "id": "bvEI3GAmd6Si"
      },
      "source": [
        "For creating the edges we face one challenge: The character documents don’t have user-defined keys. If they had, it would allow us to create the edges more easily like:\n",
        "\n",
        "```INSERT { _from: \"Characters/robb\", _to: \"Characters/ned\" } INTO ChildOf```\n",
        "\n",
        "\n",
        "However, creating the edges programmatically based on character names is a good exercise. Breakdown of the query:\n"
      ]
    },
    {
      "cell_type": "code",
      "execution_count": 10,
      "metadata": {
        "id": "ojm1UhB8d6Si"
      },
      "outputs": [],
      "source": [
        "create_edges_query = \"\"\"\n",
        "LET data = [\n",
        "    {\n",
        "        \"parent\": { \"name\": \"Ned\", \"surname\": \"Stark\" },\n",
        "        \"child\": { \"name\": \"Robb\", \"surname\": \"Stark\" }\n",
        "    }, {\n",
        "        \"parent\": { \"name\": \"Ned\", \"surname\": \"Stark\" },\n",
        "        \"child\": { \"name\": \"Sansa\", \"surname\": \"Stark\" }\n",
        "    }, {\n",
        "        \"parent\": { \"name\": \"Ned\", \"surname\": \"Stark\" },\n",
        "        \"child\": { \"name\": \"Arya\", \"surname\": \"Stark\" }\n",
        "    }, {\n",
        "        \"parent\": { \"name\": \"Ned\", \"surname\": \"Stark\" },\n",
        "        \"child\": { \"name\": \"Bran\", \"surname\": \"Stark\" }\n",
        "    }, {\n",
        "        \"parent\": { \"name\": \"Catelyn\", \"surname\": \"Stark\" },\n",
        "        \"child\": { \"name\": \"Robb\", \"surname\": \"Stark\" }\n",
        "    }, {\n",
        "        \"parent\": { \"name\": \"Catelyn\", \"surname\": \"Stark\" },\n",
        "        \"child\": { \"name\": \"Sansa\", \"surname\": \"Stark\" }\n",
        "    }, {\n",
        "        \"parent\": { \"name\": \"Catelyn\", \"surname\": \"Stark\" },\n",
        "        \"child\": { \"name\": \"Arya\", \"surname\": \"Stark\" }\n",
        "    }, {\n",
        "        \"parent\": { \"name\": \"Catelyn\", \"surname\": \"Stark\" },\n",
        "        \"child\": { \"name\": \"Bran\", \"surname\": \"Stark\" }\n",
        "    }, {\n",
        "        \"parent\": { \"name\": \"Ned\", \"surname\": \"Stark\" },\n",
        "        \"child\": { \"name\": \"Jon\", \"surname\": \"Snow\" }\n",
        "    }, {\n",
        "        \"parent\": { \"name\": \"Tywin\", \"surname\": \"Lannister\" },\n",
        "        \"child\": { \"name\": \"Jaime\", \"surname\": \"Lannister\" }\n",
        "    }, {\n",
        "        \"parent\": { \"name\": \"Tywin\", \"surname\": \"Lannister\" },\n",
        "        \"child\": { \"name\": \"Cersei\", \"surname\": \"Lannister\" }\n",
        "    }, {\n",
        "        \"parent\": { \"name\": \"Tywin\", \"surname\": \"Lannister\" },\n",
        "        \"child\": { \"name\": \"Tyrion\", \"surname\": \"Lannister\" }\n",
        "    }, {\n",
        "        \"parent\": { \"name\": \"Cersei\", \"surname\": \"Lannister\" },\n",
        "        \"child\": { \"name\": \"Joffrey\", \"surname\": \"Baratheon\" }\n",
        "    }, {\n",
        "        \"parent\": { \"name\": \"Jaime\", \"surname\": \"Lannister\" },\n",
        "        \"child\": { \"name\": \"Joffrey\", \"surname\": \"Baratheon\" }\n",
        "    }\n",
        "]\n",
        "\n",
        "FOR rel in data\n",
        "    LET parentId = FIRST(\n",
        "        FOR c IN Characters\n",
        "            FILTER c.name == rel.parent.name\n",
        "            FILTER c.surname == rel.parent.surname\n",
        "            LIMIT 1\n",
        "            RETURN c._id\n",
        "    )\n",
        "    LET childId = FIRST(\n",
        "        FOR c IN Characters\n",
        "            FILTER c.name == rel.child.name\n",
        "            FILTER c.surname == rel.child.surname\n",
        "            LIMIT 1\n",
        "            RETURN c._id\n",
        "    )\n",
        "    FILTER parentId != null AND childId != null\n",
        "    INSERT { _from: childId, _to: parentId } INTO ChildOf\n",
        "    RETURN NEW\n",
        "\"\"\"\n",
        "# python-arango\n",
        "query_result = aql.execute(create_edges_query)\n",
        "\n",
        "# pyArango\n",
        "# query_result = db.AQLQuery(create_edges_query)"
      ]
    },
    {
      "cell_type": "markdown",
      "metadata": {
        "id": "zpLPrtAEd6Si"
      },
      "source": [
        "# Graph Traversal"
      ]
    },
    {
      "cell_type": "markdown",
      "metadata": {
        "id": "YxmnZtYAd6Si"
      },
      "source": [
        "Now that edges link character documents (vertices), we have a graph we can query to find out who the parents are of another character – or in graph terms, we want to start at a vertex and follow the edges to other vertices in an [AQL graph traversal](https://www.arangodb.com/docs/stable/aql/graphs-traversals.html):"
      ]
    },
    {
      "cell_type": "code",
      "execution_count": 11,
      "metadata": {
        "colab": {
          "base_uri": "https://localhost:8080/"
        },
        "id": "pgGZyRj5d6Sj",
        "outputId": "a3a91fae-6b94-438c-b19c-b03720f05f80"
      },
      "outputs": [
        {
          "output_type": "stream",
          "name": "stdout",
          "text": [
            "Ned\n",
            "\n",
            "Catelyn\n",
            "\n"
          ]
        }
      ],
      "source": [
        "sansa_parents_query = \"\"\"\n",
        "// First find the start node, i.e., sansa\n",
        "FOR c IN Characters\n",
        "    FILTER c.name == \"Sansa\"\n",
        "    // Then start a Graph traversal from that start node\n",
        "    FOR v IN 1..1 OUTBOUND c ChildOf\n",
        "    RETURN v.name\n",
        "\"\"\"\n",
        "# python-arango\n",
        "query_result = aql.execute(sansa_parents_query)\n",
        "\n",
        "# pyArango\n",
        "# query_result = db.AQLQuery(sansa_parents_query, rawResults=True)\n",
        "for doc in  query_result:\n",
        "    print(doc)\n",
        "    print()"
      ]
    },
    {
      "cell_type": "markdown",
      "metadata": {
        "id": "CUPk7ADvd6Sj"
      },
      "source": [
        "We can traverse the Graph also in the reverse direction (i.e., `INBOUND`) to find someones children:"
      ]
    },
    {
      "cell_type": "code",
      "execution_count": 12,
      "metadata": {
        "colab": {
          "base_uri": "https://localhost:8080/"
        },
        "id": "-iP1h7Mgd6Sj",
        "outputId": "37701eca-cec7-4282-da2c-9fe77138aaaa"
      },
      "outputs": [
        {
          "output_type": "stream",
          "name": "stdout",
          "text": [
            "Robb\n",
            "\n",
            "Sansa\n",
            "\n",
            "Arya\n",
            "\n",
            "Bran\n",
            "\n",
            "Jon\n",
            "\n"
          ]
        }
      ],
      "source": [
        "ned_children_query = \"\"\"\n",
        "// First find the start node, i.e., ned\n",
        "FOR c IN Characters\n",
        "    FILTER c.name == \"Ned\"\n",
        "    // Then start a Graph traversal from that start node\n",
        "    FOR v IN 1..1 INBOUND c ChildOf\n",
        "    RETURN v.name\n",
        "\"\"\"\n",
        "# python-arango\n",
        "query_result = aql.execute(ned_children_query)\n",
        "\n",
        "# pyArango\n",
        "# query_result = db.AQLQuery(ned_children_query, rawResults=True)\n",
        "for doc in  query_result:\n",
        "    print(doc)\n",
        "    print()"
      ]
    },
    {
      "cell_type": "markdown",
      "metadata": {
        "id": "llbSmqowd6Sj"
      },
      "source": [
        "# Variable Length Traversals and Grandchildren "
      ]
    },
    {
      "cell_type": "markdown",
      "metadata": {
        "id": "9wicO_dxd6Sj"
      },
      "source": [
        "You might have wondered about the `IN 1..1 ` specification. This part actually specifies how many hops should be considered for the Traversal.\n",
        "For the Lannister family, we have relations that span from parent to grandchild. Let’s change the traversal depth to return grandchildren, which means to go exactly two steps:"
      ]
    },
    {
      "cell_type": "code",
      "execution_count": 13,
      "metadata": {
        "colab": {
          "base_uri": "https://localhost:8080/"
        },
        "id": "YRWmNQEmd6Sk",
        "outputId": "db6b5300-21ad-4065-c1bb-88e7c58f607c"
      },
      "outputs": [
        {
          "output_type": "stream",
          "name": "stdout",
          "text": [
            "Joffrey\n",
            "\n",
            "Joffrey\n",
            "\n"
          ]
        }
      ],
      "source": [
        "tywin_grandchildren_query = \"\"\"\n",
        "// First find the start node, i.e., ned\n",
        "FOR c IN Characters\n",
        "    FILTER c.name == \"Tywin\"\n",
        "    // Then start a Graph traversal from that start node\n",
        "    FOR v IN 2..2 INBOUND c ChildOf\n",
        "    RETURN v.name\n",
        "\"\"\"\n",
        "# python-arango\n",
        "query_result = aql.execute(tywin_grandchildren_query)\n",
        "\n",
        "# pyArango\n",
        "# query_result = db.AQLQuery(tywin_grandchildren_query, rawResults=True)\n",
        "for doc in  query_result:\n",
        "    print(doc)\n",
        "    print()"
      ]
    },
    {
      "cell_type": "markdown",
      "metadata": {
        "id": "VFFTjv1Qd6Sk"
      },
      "source": [
        "It might be a bit unexpected, that Joffrey is returned twice. However, if you look at the graph visualization, you can see that multiple paths lead from Joffrey (bottom right) to Tywin:"
      ]
    },
    {
      "cell_type": "markdown",
      "metadata": {
        "id": "7zIWIuMYd6Sl"
      },
      "source": [
        "![child_of](https://github.com/arangodb/interactive_tutorials/blob/master/notebooks/img/ChildOf_Graph.png?raw=1)"
      ]
    },
    {
      "cell_type": "markdown",
      "metadata": {
        "id": "BUEh3Pi-d6Sl"
      },
      "source": [
        "As a quick fix, change the last line of the query to RETURN DISTINCT v.name to return each value only once. Keep in mind though, that there are [traversal options](https://www.arangodb.com/docs/stable/aql/graphs-traversals.html#syntax) to suppress duplicate vertices early on."
      ]
    },
    {
      "cell_type": "code",
      "execution_count": 14,
      "metadata": {
        "colab": {
          "base_uri": "https://localhost:8080/"
        },
        "id": "8mgzaBf2d6Sl",
        "outputId": "22c22cf8-f8b3-49d3-9696-8be9dec66c2d"
      },
      "outputs": [
        {
          "output_type": "stream",
          "name": "stdout",
          "text": [
            "Joffrey\n",
            "\n"
          ]
        }
      ],
      "source": [
        "tywin_grandchildren_query = \"\"\"\n",
        "// First find the start node, i.e., ned\n",
        "FOR c IN Characters\n",
        "    FILTER c.name == \"Tywin\"\n",
        "    // Then start a Graph traversal from that start node\n",
        "    FOR v IN 2..2 INBOUND c ChildOf\n",
        "    RETURN DISTINCT v.name\n",
        "\"\"\"\n",
        "# python-arango\n",
        "query_result = aql.execute(tywin_grandchildren_query)\n",
        "\n",
        "# pyArango\n",
        "# query_result = db.AQLQuery(tywin_grandchildren_query, rawResults=True)\n",
        "for doc in  query_result:\n",
        "    print(doc)\n",
        "    print()"
      ]
    },
    {
      "cell_type": "markdown",
      "metadata": {
        "id": "5aqMRhkHd6Sl"
      },
      "source": [
        "To return the parents and grandparents of Joffrey, we can walk edges in OUTBOUND direction and adjust the traversal depth to go at least 1 step, and 2 at most (i.e., `IN 1..2`):"
      ]
    },
    {
      "cell_type": "code",
      "execution_count": 15,
      "metadata": {
        "colab": {
          "base_uri": "https://localhost:8080/"
        },
        "id": "gd1gnvcwd6Sm",
        "outputId": "dd0a363a-a825-4fdc-94b2-513dae442e68"
      },
      "outputs": [
        {
          "output_type": "stream",
          "name": "stdout",
          "text": [
            "Cersei\n",
            "\n",
            "Tywin\n",
            "\n",
            "Jaime\n",
            "\n"
          ]
        }
      ],
      "source": [
        "joffrey_ancestors_query = \"\"\"\n",
        "FOR c IN Characters\n",
        "    FILTER c.name == \"Joffrey\"\n",
        "    FOR v IN 1..2 OUTBOUND c ChildOf\n",
        "        RETURN DISTINCT v.name\n",
        "\"\"\"\n",
        "# python-arango\n",
        "query_result = aql.execute(joffrey_ancestors_query)\n",
        "\n",
        "# pyArango\n",
        "# query_result = db.AQLQuery(joffrey_ancestors_query, rawResults=True)\n",
        "for doc in  query_result:\n",
        "    print(doc)\n",
        "    print()"
      ]
    },
    {
      "cell_type": "markdown",
      "metadata": {
        "id": "Ow24OpKHd6Sm"
      },
      "source": [
        "With deeper family trees, it is only be a matter of changing the depth values to query for great-grandchildren and similar relations."
      ]
    },
    {
      "cell_type": "markdown",
      "metadata": {
        "id": "C1f6CNH4d6Sm"
      },
      "source": [
        "# Next Steps"
      ]
    },
    {
      "cell_type": "markdown",
      "metadata": {
        "id": "d9u7MV9Pd6Sm"
      },
      "source": [
        "To continue playing and working with ArangoDB beyond the temporary database, you can:\n",
        "\n",
        "* [Get a 2 week free Trial with the ArangoDB Cloud](https://cloud.arangodb.com/home?utm_source=AQLJoin&utm_medium=Github&utm_campaign=ArangoDB%20University)\n",
        "* Take the [free Graph Course](https://www.arangodb.com/arangodb-graph-course)  \n",
        "* [Download ArangoDB](https://www.arangodb.com/download-major/)\n",
        "* Keep Learning at https://www.arangodb.com/arangodb-training-center/"
      ]
    },
    {
      "cell_type": "markdown",
      "metadata": {
        "id": "GS9AFlwrd6Sn"
      },
      "source": [
        "# Further Links"
      ]
    },
    {
      "cell_type": "markdown",
      "metadata": {
        "id": "p6tv3G72d6Sn"
      },
      "source": [
        "* https://www.arangodb.com/docs/stable/aql/tutorial.html"
      ]
    }
  ],
  "metadata": {
    "kernelspec": {
      "display_name": "Python 3",
      "language": "python",
      "name": "python3"
    },
    "language_info": {
      "codemirror_mode": {
        "name": "ipython",
        "version": 3
      },
      "file_extension": ".py",
      "mimetype": "text/x-python",
      "name": "python",
      "nbconvert_exporter": "python",
      "pygments_lexer": "ipython3",
      "version": "3.7.7"
    },
    "colab": {
      "name": "AqlTraversalTutorial.ipynb",
      "provenance": []
    }
  },
  "nbformat": 4,
  "nbformat_minor": 0
}