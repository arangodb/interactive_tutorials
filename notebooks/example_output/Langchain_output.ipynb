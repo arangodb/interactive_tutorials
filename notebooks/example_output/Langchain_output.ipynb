{
  "cells": [
    {
      "cell_type": "markdown",
      "id": "c94240f5",
      "metadata": {
        "id": "c94240f5"
      },
      "source": [
        "# ArangoDB + LangChain\n",
        "\n",
        "[![Open In Collab](https://colab.research.google.com/assets/colab-badge.svg)](https://colab.research.google.com/github/arangodb/interactive_tutorials/blob/master/notebooks/Langchain.ipynb)\n",
        "\n",
        "Large language models (LLMs) are emerging as a transformative technology, enabling developers to build applications that they previously could not. However, using these LLMs in isolation is often insufficient for creating a truly powerful app - the real power comes when you can combine them with other sources of computation or knowledge.\n",
        "\n",
        "[LangChain](https://www.langchain.com/) is a framework for developing applications powered by language models. It enables applications that are:\n",
        "- Data-aware: connect a language model to other sources of data\n",
        "- Agentic: allow a language model to interact with its environment\n",
        "\n",
        "On July 25 2023, ArangoDB introduced the first release of the [ArangoGraphQAChain](https://langchain-langchain.vercel.app/docs/integrations/providers/arangodb) to the LangChain community, allowing you to leverage LLMs to provide a natural language interface for your ArangoDB data.\n",
        "\n",
        "**Please note**: This notebook uses the LangChain `ChatOpenAI` wrapper, which requires you to have a **paid** [OpenAI API Key](https://help.openai.com/en/articles/4936850-where-do-i-find-my-secret-api-key). However, other Chat Models are available as well: https://github.com/langchain-ai/langchain/tree/master/libs/langchain/langchain/chat_models"
      ]
    },
    {
      "cell_type": "markdown",
      "source": [
        "## Setup"
      ],
      "metadata": {
        "id": "WejTADc2L72f"
      },
      "id": "WejTADc2L72f"
    },
    {
      "cell_type": "code",
      "execution_count": 1,
      "id": "izi6YoFC8KRH",
      "metadata": {
        "id": "izi6YoFC8KRH"
      },
      "outputs": [],
      "source": [
        "%%capture\n",
        "\n",
        "# 1: Install the dependencies\n",
        "\n",
        "!pip install python-arango # The ArangoDB Python Driver\n",
        "!pip install adb-cloud-connector # The ArangoDB Cloud Instance provisioner\n",
        "!pip install openai==0.28.1\n",
        "!pip install langchain==0.0.314"
      ]
    },
    {
      "cell_type": "code",
      "execution_count": 4,
      "id": "62812aad",
      "metadata": {
        "id": "62812aad",
        "colab": {
          "base_uri": "https://localhost:8080/"
        },
        "outputId": "5e531c1a-ef0a-40ea-ea59-e77ee4723b47"
      },
      "outputs": [
        {
          "output_type": "stream",
          "name": "stdout",
          "text": [
            "Log: requesting new credentials...\n",
            "Succcess: new credentials acquired\n"
          ]
        },
        {
          "output_type": "execute_result",
          "data": {
            "text/plain": [
              "{'dbName': 'TUT5hi70sjppn72exqhqumy8a',\n",
              " 'username': 'TUT9vlxw42ppe5kp9i4kaenfa',\n",
              " 'password': 'TUTs0ft2thu7tkyi88fi0zs',\n",
              " 'hostname': 'tutorials.arangodb.cloud',\n",
              " 'port': 8529,\n",
              " 'url': 'https://tutorials.arangodb.cloud:8529'}"
            ]
          },
          "metadata": {},
          "execution_count": 4
        }
      ],
      "source": [
        "# 2: Provision a temporary ArangoDB Cloud instance\n",
        "\n",
        "from adb_cloud_connector import get_temp_credentials\n",
        "\n",
        "connection = get_temp_credentials(tutorialName=\"LangChain\")\n",
        "\n",
        "connection"
      ]
    },
    {
      "cell_type": "code",
      "execution_count": 5,
      "id": "0928915d",
      "metadata": {
        "id": "0928915d",
        "colab": {
          "base_uri": "https://localhost:8080/"
        },
        "outputId": "3d79089f-759a-4d9d-9b96-726e11c2831d"
      },
      "outputs": [
        {
          "output_type": "execute_result",
          "data": {
            "text/plain": [
              "<StandardDatabase TUT5hi70sjppn72exqhqumy8a>"
            ]
          },
          "metadata": {},
          "execution_count": 5
        }
      ],
      "source": [
        "# 3: Instantiate the ArangoDB-Python driver\n",
        "\n",
        "from arango import ArangoClient\n",
        "\n",
        "client = ArangoClient(hosts=connection[\"url\"])\n",
        "\n",
        "db = client.db(\n",
        "    connection[\"dbName\"],\n",
        "    connection[\"username\"],\n",
        "    connection[\"password\"],\n",
        "    verify=True\n",
        ")\n",
        "\n",
        "db"
      ]
    },
    {
      "cell_type": "code",
      "execution_count": 6,
      "id": "fedd26b9",
      "metadata": {
        "id": "fedd26b9",
        "colab": {
          "base_uri": "https://localhost:8080/"
        },
        "outputId": "517f1edb-8236-4c9e-ddb8-fb40d96214e2"
      },
      "outputs": [
        {
          "output_type": "execute_result",
          "data": {
            "text/plain": [
              "{'error': False,\n",
              " 'created': 15,\n",
              " 'errors': 0,\n",
              " 'empty': 0,\n",
              " 'updated': 0,\n",
              " 'ignored': 0,\n",
              " 'details': []}"
            ]
          },
          "metadata": {},
          "execution_count": 6
        }
      ],
      "source": [
        "# 4: Load sample data\n",
        "# We'll be relying on our Game Of Thrones dataset, representing the parent-child\n",
        "# relationships of certain characters from the GoT universe\n",
        "\n",
        "if db.has_graph(\"GameOfThrones\"):\n",
        "    db.delete_graph(\"GameOfThrones\", drop_collections=True)\n",
        "\n",
        "\n",
        "edge_definitions=[\n",
        "    {\n",
        "        \"edge_collection\": \"ChildOf\",\n",
        "        \"from_vertex_collections\": [\"Characters\"],\n",
        "        \"to_vertex_collections\": [\"Characters\"],\n",
        "    }\n",
        "]\n",
        "\n",
        "documents = [\n",
        "    # Starks (8)\n",
        "    {\"_key\": \"RickardStark\", \"name\": \"Rickard\", \"surname\": \"Stark\", \"alive\": False, \"age\": 60, \"gender\": \"male\"},\n",
        "    {\"_key\": \"LyarraStark\", \"name\": \"Lyarra\", \"surname\": \"Stark\", \"alive\": False, \"age\": 60, \"gender\": \"female\"},\n",
        "    {\"_key\": \"NedStark\", \"name\": \"Ned\", \"surname\": \"Stark\", \"alive\": True, \"age\": 41, \"gender\": \"male\"},\n",
        "    {\"_key\": \"CatelynStark\", \"name\": \"Catelyn\", \"surname\": \"Stark\", \"alive\": False, \"age\": 40, \"gender\": \"female\"},\n",
        "    {\"_key\": \"AryaStark\", \"name\": \"Arya\", \"surname\": \"Stark\", \"alive\": True, \"age\": 11, \"gender\": \"female\"},\n",
        "    {\"_key\": \"BranStark\", \"name\": \"Bran\", \"surname\": \"Stark\", \"alive\": True, \"age\": 10, \"gender\": \"male\"},\n",
        "    { \"_key\": \"RobbStark\", \"name\": \"Robb\", \"surname\": \"Stark\", \"alive\": False, \"age\": 16, \"gender\": \"male\"},\n",
        "    { \"_key\": \"SansaStark\", \"name\": \"Sansa\", \"surname\": \"Stark\", \"alive\": True, \"age\": 13, \"gender\": \"female\"},\n",
        "\n",
        "    # Lannisters (4)\n",
        "    { \"_key\": \"TywinLannister\", \"name\": \"Tywin\", \"surname\": \"Lannister\", \"alive\": False, \"age\": 67, \"gender\": \"male\" },\n",
        "    { \"_key\": \"JaimeLannister\", \"name\": \"Jaime\", \"surname\": \"Lannister\", \"alive\": True, \"age\": 36, \"gender\": \"male\" },\n",
        "    { \"_key\": \"CerseiLannister\", \"name\": \"Cersei\", \"surname\": \"Lannister\", \"alive\": True, \"age\": 36, \"gender\": \"female\" },\n",
        "    { \"_key\": \"TyrionLannister\", \"name\": \"Tyrion\", \"surname\": \"Lannister\", \"alive\": True, \"age\": 32, \"gender\": \"male\" },\n",
        "\n",
        "    # Baratheons (1)\n",
        "    { \"_key\": \"JoffreyBaratheon\", \"name\": \"Joffrey\", \"surname\": \"Baratheon\", \"alive\": False, \"age\": 19, \"gender\": \"male\"},\n",
        "]\n",
        "\n",
        "edges = [\n",
        "    {\"_to\": \"Characters/NedStark\", \"_from\": \"Characters/BranStark\"},\n",
        "    {\"_to\": \"Characters/NedStark\", \"_from\": \"Characters/RobbStark\" },\n",
        "    {\"_to\": \"Characters/NedStark\", \"_from\": \"Characters/SansaStark\" },\n",
        "    {\"_to\": \"Characters/NedStark\", \"_from\": \"Characters/AryaStark\" },\n",
        "    {\"_to\": \"Characters/CatelynStark\", \"_from\": \"Characters/AryaStark\"},\n",
        "    {\"_to\": \"Characters/CatelynStark\", \"_from\": \"Characters/BranStark\"},\n",
        "    {\"_to\": \"Characters/CatelynStark\", \"_from\": \"Characters/RobbStark\" },\n",
        "    {\"_to\": \"Characters/CatelynStark\", \"_from\": \"Characters/SansaStark\" },\n",
        "    {\"_to\": \"Characters/RickardStark\", \"_from\": \"Characters/NedStark\"},\n",
        "    {\"_to\": \"Characters/LyarraStark\", \"_from\": \"Characters/NedStark\"},\n",
        "\n",
        "    {\"_to\": \"Characters/TywinLannister\", \"_from\": \"Characters/JaimeLannister\" },\n",
        "    {\"_to\": \"Characters/TywinLannister\", \"_from\": \"Characters/CerseiLannister\" },\n",
        "    {\"_to\": \"Characters/TywinLannister\", \"_from\": \"Characters/TyrionLannister\" },\n",
        "    {\"_to\": \"Characters/CerseiLannister\", \"_from\": \"Characters/JoffreyBaratheon\" },\n",
        "    {\"_to\": \"Characters/JaimeLannister\", \"_from\": \"Characters/JoffreyBaratheon\" }\n",
        "]\n",
        "\n",
        "db.delete_graph(\"GameOfThrones\", ignore_missing=True, drop_collections=True)\n",
        "db.create_graph(\"GameOfThrones\", edge_definitions)\n",
        "db.collection(\"Characters\").import_bulk(documents)\n",
        "db.collection(\"ChildOf\").import_bulk(edges)"
      ]
    },
    {
      "cell_type": "code",
      "execution_count": 12,
      "id": "4e3de44f",
      "metadata": {
        "id": "4e3de44f",
        "colab": {
          "base_uri": "https://localhost:8080/"
        },
        "outputId": "93d60a3c-e091-46f0-fe45-738cb847a805"
      },
      "outputs": [
        {
          "output_type": "execute_result",
          "data": {
            "text/plain": [
              "{'Graph Schema': [{'graph_name': 'GameOfThrones',\n",
              "   'edge_definitions': [{'edge_collection': 'ChildOf',\n",
              "     'from_vertex_collections': ['Characters'],\n",
              "     'to_vertex_collections': ['Characters']}]}],\n",
              " 'Collection Schema': [{'collection_name': 'Characters',\n",
              "   'collection_type': 'document',\n",
              "   'document_properties': [{'name': '_key', 'type': 'str'},\n",
              "    {'name': '_id', 'type': 'str'},\n",
              "    {'name': '_rev', 'type': 'str'},\n",
              "    {'name': 'name', 'type': 'str'},\n",
              "    {'name': 'surname', 'type': 'str'},\n",
              "    {'name': 'alive', 'type': 'bool'},\n",
              "    {'name': 'age', 'type': 'int'},\n",
              "    {'name': 'gender', 'type': 'str'}],\n",
              "   'example_document': {'_key': 'RickardStark',\n",
              "    '_id': 'Characters/RickardStark',\n",
              "    '_rev': '_gw7CBWu---',\n",
              "    'name': 'Rickard',\n",
              "    'surname': 'Stark',\n",
              "    'alive': False,\n",
              "    'age': 60,\n",
              "    'gender': 'male'}},\n",
              "  {'collection_name': 'ChildOf',\n",
              "   'collection_type': 'edge',\n",
              "   'edge_properties': [{'name': '_key', 'type': 'str'},\n",
              "    {'name': '_id', 'type': 'str'},\n",
              "    {'name': '_from', 'type': 'str'},\n",
              "    {'name': '_to', 'type': 'str'},\n",
              "    {'name': '_rev', 'type': 'str'}],\n",
              "   'example_edge': {'_key': '266199645213',\n",
              "    '_id': 'ChildOf/266199645213',\n",
              "    '_from': 'Characters/BranStark',\n",
              "    '_to': 'Characters/NedStark',\n",
              "    '_rev': '_gw7CBZW---'}}]}"
            ]
          },
          "metadata": {},
          "execution_count": 12
        }
      ],
      "source": [
        "# 5: Instantiate the ArangoDB-LangChain Graph wrapper\n",
        "\n",
        "from langchain.graphs import ArangoGraph\n",
        "\n",
        "graph = ArangoGraph(db)\n",
        "\n",
        "graph.schema"
      ]
    },
    {
      "cell_type": "code",
      "execution_count": 13,
      "id": "mZ679anj_-Er",
      "metadata": {
        "id": "mZ679anj_-Er"
      },
      "outputs": [],
      "source": [
        "# 6: Set your OpenAI API Key\n",
        "# https://help.openai.com/en/articles/4936850-where-do-i-find-my-secret-api-key\n",
        "\n",
        "import os\n",
        "\n",
        "os.environ[\"OPENAI_API_KEY\"] = \"sk-...\""
      ]
    },
    {
      "cell_type": "code",
      "source": [
        "# 7: Instantiate the OpenAI Chat model\n",
        "# Note that other models can be used as well\n",
        "# Ref: https://github.com/langchain-ai/langchain/tree/master/libs/langchain/langchain/chat_models\n",
        "\n",
        "from langchain.chat_models import ChatOpenAI\n",
        "\n",
        "model = ChatOpenAI(temperature=0, model_name='gpt-4')"
      ],
      "metadata": {
        "id": "V1PMxRubKxmK"
      },
      "id": "V1PMxRubKxmK",
      "execution_count": 14,
      "outputs": []
    },
    {
      "cell_type": "code",
      "execution_count": 15,
      "id": "7476ce98",
      "metadata": {
        "id": "7476ce98"
      },
      "outputs": [],
      "source": [
        "# 8: Instantiate the LangChain Question-Answering Chain with\n",
        "# our **model** and **graph**\n",
        "\n",
        "from langchain.chains import ArangoGraphQAChain\n",
        "\n",
        "chain = ArangoGraphQAChain.from_llm(model, graph=graph, verbose=True)"
      ]
    },
    {
      "cell_type": "markdown",
      "source": [
        "## Prompting"
      ],
      "metadata": {
        "id": "MdTyIwWeL953"
      },
      "id": "MdTyIwWeL953"
    },
    {
      "cell_type": "code",
      "execution_count": 16,
      "id": "ef8ee27b",
      "metadata": {
        "id": "ef8ee27b",
        "colab": {
          "base_uri": "https://localhost:8080/",
          "height": 323
        },
        "outputId": "47f38cbc-7e6b-404f-8bfe-bbd527797471"
      },
      "outputs": [
        {
          "output_type": "stream",
          "name": "stdout",
          "text": [
            "\n",
            "\n",
            "\u001b[1m> Entering new ArangoGraphQAChain chain...\u001b[0m\n",
            "AQL Query (1):\u001b[32;1m\u001b[1;3m\n",
            "WITH Characters\n",
            "FOR character IN Characters\n",
            "SORT character.age ASC\n",
            "LIMIT 2\n",
            "RETURN character\n",
            "\u001b[0m\n",
            "AQL Result:\n",
            "\u001b[32;1m\u001b[1;3m[{'_key': 'BranStark', '_id': 'Characters/BranStark', '_rev': '_gw7CBWu--D', 'name': 'Bran', 'surname': 'Stark', 'alive': True, 'age': 10, 'gender': 'male'}, {'_key': 'AryaStark', '_id': 'Characters/AryaStark', '_rev': '_gw7CBWu--C', 'name': 'Arya', 'surname': 'Stark', 'alive': True, 'age': 11, 'gender': 'female'}]\u001b[0m\n",
            "\n",
            "\u001b[1m> Finished chain.\u001b[0m\n"
          ]
        },
        {
          "output_type": "execute_result",
          "data": {
            "text/plain": [
              "'The two youngest characters in the Game of Thrones database are Bran Stark, a 10-year-old male, and Arya Stark, an 11-year-old female. Both characters are currently alive.'"
            ],
            "application/vnd.google.colaboratory.intrinsic+json": {
              "type": "string"
            }
          },
          "metadata": {},
          "execution_count": 16
        }
      ],
      "source": [
        "chain.run(\"Who are the 2 youngest characters?\")"
      ]
    },
    {
      "cell_type": "code",
      "execution_count": 17,
      "id": "9CSig1BgA76q",
      "metadata": {
        "id": "9CSig1BgA76q",
        "colab": {
          "base_uri": "https://localhost:8080/",
          "height": 288
        },
        "outputId": "32d6879f-8814-438d-81c0-3456005fcdc6"
      },
      "outputs": [
        {
          "output_type": "stream",
          "name": "stdout",
          "text": [
            "\n",
            "\n",
            "\u001b[1m> Entering new ArangoGraphQAChain chain...\u001b[0m\n",
            "AQL Query (1):\u001b[32;1m\u001b[1;3m\n",
            "WITH Characters, ChildOf\n",
            "FOR v, e, p IN 1..10 ANY 'Characters/BranStark' ChildOf\n",
            "  FILTER p.vertices[-1]._key == 'AryaStark'\n",
            "  RETURN p\n",
            "\u001b[0m\n",
            "AQL Result:\n",
            "\u001b[32;1m\u001b[1;3m[{'vertices': [{'_key': 'BranStark', '_id': 'Characters/BranStark', '_rev': '_gw7CBWu--D', 'name': 'Bran', 'surname': 'Stark', 'alive': True, 'age': 10, 'gender': 'male'}, {'_key': 'CatelynStark', '_id': 'Characters/CatelynStark', '_rev': '_gw7CBWu--B', 'name': 'Catelyn', 'surname': 'Stark', 'alive': False, 'age': 40, 'gender': 'female'}, {'_key': 'SansaStark', '_id': 'Characters/SansaStark', '_rev': '_gw7CBWu--F', 'name': 'Sansa', 'surname': 'Stark', 'alive': True, 'age': 13, 'gender': 'female'}, {'_key': 'NedStark', '_id': 'Characters/NedStark', '_rev': '_gw7CBWu--A', 'name': 'Ned', 'surname': 'Stark', 'alive': True, 'age': 41, 'gender': 'male'}, {'_key': 'AryaStark', '_id': 'Characters/AryaStark', '_rev': '_gw7CBWu--C', 'name': 'Arya', 'surname': 'Stark', 'alive': True, 'age': 11, 'gender': 'female'}], 'edges': [{'_key': '266199645218', '_id': 'ChildOf/266199645218', '_from': 'Characters/BranStark', '_to': 'Characters/CatelynStark', '_rev': '_gw7CBZe--_'}, {'_key': '266199645220', '_id': 'ChildOf/266199645220', '_from': 'Characters/SansaStark', '_to': 'Characters/CatelynStark', '_rev': '_gw7CBZe--B'}, {'_key': '266199645215', '_id': 'ChildOf/266199645215', '_from': 'Characters/SansaStark', '_to': 'Characters/NedStark', '_rev': '_gw7CBZW--A'}, {'_key': '266199645216', '_id': 'ChildOf/266199645216', '_from': 'Characters/AryaStark', '_to': 'Characters/NedStark', '_rev': '_gw7CBZW--B'}], 'weights': [0, 1, 2, 3, 4]}, {'vertices': [{'_key': 'BranStark', '_id': 'Characters/BranStark', '_rev': '_gw7CBWu--D', 'name': 'Bran', 'surname': 'Stark', 'alive': True, 'age': 10, 'gender': 'male'}, {'_key': 'CatelynStark', '_id': 'Characters/CatelynStark', '_rev': '_gw7CBWu--B', 'name': 'Catelyn', 'surname': 'Stark', 'alive': False, 'age': 40, 'gender': 'female'}, {'_key': 'SansaStark', '_id': 'Characters/SansaStark', '_rev': '_gw7CBWu--F', 'name': 'Sansa', 'surname': 'Stark', 'alive': True, 'age': 13, 'gender': 'female'}, {'_key': 'NedStark', '_id': 'Characters/NedStark', '_rev': '_gw7CBWu--A', 'name': 'Ned', 'surname': 'Stark', 'alive': True, 'age': 41, 'gender': 'male'}, {'_key': 'RobbStark', '_id': 'Characters/RobbStark', '_rev': '_gw7CBWu--E', 'name': 'Robb', 'surname': 'Stark', 'alive': False, 'age': 16, 'gender': 'male'}, {'_key': 'CatelynStark', '_id': 'Characters/CatelynStark', '_rev': '_gw7CBWu--B', 'name': 'Catelyn', 'surname': 'Stark', 'alive': False, 'age': 40, 'gender': 'female'}, {'_key': 'AryaStark', '_id': 'Characters/AryaStark', '_rev': '_gw7CBWu--C', 'name': 'Arya', 'surname': 'Stark', 'alive': True, 'age': 11, 'gender': 'female'}], 'edges': [{'_key': '266199645218', '_id': 'ChildOf/266199645218', '_from': 'Characters/BranStark', '_to': 'Characters/CatelynStark', '_rev': '_gw7CBZe--_'}, {'_key': '266199645220', '_id': 'ChildOf/266199645220', '_from': 'Characters/SansaStark', '_to': 'Characters/CatelynStark', '_rev': '_gw7CBZe--B'}, {'_key': '266199645215', '_id': 'ChildOf/266199645215', '_from': 'Characters/SansaStark', '_to': 'Characters/NedStark', '_rev': '_gw7CBZW--A'}, {'_key': '266199645214', '_id': 'ChildOf/266199645214', '_from': 'Characters/RobbStark', '_to': 'Characters/NedStark', '_rev': '_gw7CBZW--_'}, {'_key': '266199645219', '_id': 'ChildOf/266199645219', '_from': 'Characters/RobbStark', '_to': 'Characters/CatelynStark', '_rev': '_gw7CBZe--A'}, {'_key': '266199645217', '_id': 'ChildOf/266199645217', '_from': 'Characters/AryaStark', '_to': 'Characters/CatelynStark', '_rev': '_gw7CBZe---'}], 'weights': [0, 1, 2, 3, 4, 5, 6]}, {'vertices': [{'_key': 'BranStark', '_id': 'Characters/BranStark', '_rev': '_gw7CBWu--D', 'name': 'Bran', 'surname': 'Stark', 'alive': True, 'age': 10, 'gender': 'male'}, {'_key': 'CatelynStark', '_id': 'Characters/CatelynStark', '_rev': '_gw7CBWu--B', 'name': 'Catelyn', 'surname': 'Stark', 'alive': False, 'age': 40, 'gender': 'female'}, {'_key': 'RobbStark', '_id': 'Characters/RobbStark', '_rev': '_gw7CBWu--E', 'name': 'Robb', 'surname': 'Stark', 'alive': False, 'age': 16, 'gender': 'male'}, {'_key': 'NedStark', '_id': 'Characters/NedStark', '_rev': '_gw7CBWu--A', 'name': 'Ned', 'surname': 'Stark', 'alive': True, 'age': 41, 'gender': 'male'}, {'_key': 'AryaStark', '_id': 'Characters/AryaStark', '_rev': '_gw7CBWu--C', 'name': 'Arya', 'surname': 'Stark', 'alive': True, 'age': 11, 'gender': 'female'}], 'edges': [{'_key': '266199645218', '_id': 'ChildOf/266199645218', '_from': 'Characters/BranStark', '_to': 'Characters/CatelynStark', '_rev': '_gw7CBZe--_'}, {'_key': '266199645219', '_id': 'ChildOf/266199645219', '_from': 'Characters/RobbStark', '_to': 'Characters/CatelynStark', '_rev': '_gw7CBZe--A'}, {'_key': '266199645214', '_id': 'ChildOf/266199645214', '_from': 'Characters/RobbStark', '_to': 'Characters/NedStark', '_rev': '_gw7CBZW--_'}, {'_key': '266199645216', '_id': 'ChildOf/266199645216', '_from': 'Characters/AryaStark', '_to': 'Characters/NedStark', '_rev': '_gw7CBZW--B'}], 'weights': [0, 1, 2, 3, 4]}, {'vertices': [{'_key': 'BranStark', '_id': 'Characters/BranStark', '_rev': '_gw7CBWu--D', 'name': 'Bran', 'surname': 'Stark', 'alive': True, 'age': 10, 'gender': 'male'}, {'_key': 'CatelynStark', '_id': 'Characters/CatelynStark', '_rev': '_gw7CBWu--B', 'name': 'Catelyn', 'surname': 'Stark', 'alive': False, 'age': 40, 'gender': 'female'}, {'_key': 'RobbStark', '_id': 'Characters/RobbStark', '_rev': '_gw7CBWu--E', 'name': 'Robb', 'surname': 'Stark', 'alive': False, 'age': 16, 'gender': 'male'}, {'_key': 'NedStark', '_id': 'Characters/NedStark', '_rev': '_gw7CBWu--A', 'name': 'Ned', 'surname': 'Stark', 'alive': True, 'age': 41, 'gender': 'male'}, {'_key': 'SansaStark', '_id': 'Characters/SansaStark', '_rev': '_gw7CBWu--F', 'name': 'Sansa', 'surname': 'Stark', 'alive': True, 'age': 13, 'gender': 'female'}, {'_key': 'CatelynStark', '_id': 'Characters/CatelynStark', '_rev': '_gw7CBWu--B', 'name': 'Catelyn', 'surname': 'Stark', 'alive': False, 'age': 40, 'gender': 'female'}, {'_key': 'AryaStark', '_id': 'Characters/AryaStark', '_rev': '_gw7CBWu--C', 'name': 'Arya', 'surname': 'Stark', 'alive': True, 'age': 11, 'gender': 'female'}], 'edges': [{'_key': '266199645218', '_id': 'ChildOf/266199645218', '_from': 'Characters/BranStark', '_to': 'Characters/CatelynStark', '_rev': '_gw7CBZe--_'}, {'_key': '266199645219', '_id': 'ChildOf/266199645219', '_from': 'Characters/RobbStark', '_to': 'Characters/CatelynStark', '_rev': '_gw7CBZe--A'}, {'_key': '266199645214', '_id': 'ChildOf/266199645214', '_from': 'Characters/RobbStark', '_to': 'Characters/NedStark', '_rev': '_gw7CBZW--_'}, {'_key': '266199645215', '_id': 'ChildOf/266199645215', '_from': 'Characters/SansaStark', '_to': 'Characters/NedStark', '_rev': '_gw7CBZW--A'}, {'_key': '266199645220', '_id': 'ChildOf/266199645220', '_from': 'Characters/SansaStark', '_to': 'Characters/CatelynStark', '_rev': '_gw7CBZe--B'}, {'_key': '266199645217', '_id': 'ChildOf/266199645217', '_from': 'Characters/AryaStark', '_to': 'Characters/CatelynStark', '_rev': '_gw7CBZe---'}], 'weights': [0, 1, 2, 3, 4, 5, 6]}, {'vertices': [{'_key': 'BranStark', '_id': 'Characters/BranStark', '_rev': '_gw7CBWu--D', 'name': 'Bran', 'surname': 'Stark', 'alive': True, 'age': 10, 'gender': 'male'}, {'_key': 'CatelynStark', '_id': 'Characters/CatelynStark', '_rev': '_gw7CBWu--B', 'name': 'Catelyn', 'surname': 'Stark', 'alive': False, 'age': 40, 'gender': 'female'}, {'_key': 'AryaStark', '_id': 'Characters/AryaStark', '_rev': '_gw7CBWu--C', 'name': 'Arya', 'surname': 'Stark', 'alive': True, 'age': 11, 'gender': 'female'}], 'edges': [{'_key': '266199645218', '_id': 'ChildOf/266199645218', '_from': 'Characters/BranStark', '_to': 'Characters/CatelynStark', '_rev': '_gw7CBZe--_'}, {'_key': '266199645217', '_id': 'ChildOf/266199645217', '_from': 'Characters/AryaStark', '_to': 'Characters/CatelynStark', '_rev': '_gw7CBZe---'}], 'weights': [0, 1, 2]}, {'vertices': [{'_key': 'BranStark', '_id': 'Characters/BranStark', '_rev': '_gw7CBWu--D', 'name': 'Bran', 'surname': 'Stark', 'alive': True, 'age': 10, 'gender': 'male'}, {'_key': 'NedStark', '_id': 'Characters/NedStark', '_rev': '_gw7CBWu--A', 'name': 'Ned', 'surname': 'Stark', 'alive': True, 'age': 41, 'gender': 'male'}, {'_key': 'AryaStark', '_id': 'Characters/AryaStark', '_rev': '_gw7CBWu--C', 'name': 'Arya', 'surname': 'Stark', 'alive': True, 'age': 11, 'gender': 'female'}], 'edges': [{'_key': '266199645213', '_id': 'ChildOf/266199645213', '_from': 'Characters/BranStark', '_to': 'Characters/NedStark', '_rev': '_gw7CBZW---'}, {'_key': '266199645216', '_id': 'ChildOf/266199645216', '_from': 'Characters/AryaStark', '_to': 'Characters/NedStark', '_rev': '_gw7CBZW--B'}], 'weights': [0, 1, 2]}, {'vertices': [{'_key': 'BranStark', '_id': 'Characters/BranStark', '_rev': '_gw7CBWu--D', 'name': 'Bran', 'surname': 'Stark', 'alive': True, 'age': 10, 'gender': 'male'}, {'_key': 'NedStark', '_id': 'Characters/NedStark', '_rev': '_gw7CBWu--A', 'name': 'Ned', 'surname': 'Stark', 'alive': True, 'age': 41, 'gender': 'male'}, {'_key': 'SansaStark', '_id': 'Characters/SansaStark', '_rev': '_gw7CBWu--F', 'name': 'Sansa', 'surname': 'Stark', 'alive': True, 'age': 13, 'gender': 'female'}, {'_key': 'CatelynStark', '_id': 'Characters/CatelynStark', '_rev': '_gw7CBWu--B', 'name': 'Catelyn', 'surname': 'Stark', 'alive': False, 'age': 40, 'gender': 'female'}, {'_key': 'RobbStark', '_id': 'Characters/RobbStark', '_rev': '_gw7CBWu--E', 'name': 'Robb', 'surname': 'Stark', 'alive': False, 'age': 16, 'gender': 'male'}, {'_key': 'NedStark', '_id': 'Characters/NedStark', '_rev': '_gw7CBWu--A', 'name': 'Ned', 'surname': 'Stark', 'alive': True, 'age': 41, 'gender': 'male'}, {'_key': 'AryaStark', '_id': 'Characters/AryaStark', '_rev': '_gw7CBWu--C', 'name': 'Arya', 'surname': 'Stark', 'alive': True, 'age': 11, 'gender': 'female'}], 'edges': [{'_key': '266199645213', '_id': 'ChildOf/266199645213', '_from': 'Characters/BranStark', '_to': 'Characters/NedStark', '_rev': '_gw7CBZW---'}, {'_key': '266199645215', '_id': 'ChildOf/266199645215', '_from': 'Characters/SansaStark', '_to': 'Characters/NedStark', '_rev': '_gw7CBZW--A'}, {'_key': '266199645220', '_id': 'ChildOf/266199645220', '_from': 'Characters/SansaStark', '_to': 'Characters/CatelynStark', '_rev': '_gw7CBZe--B'}, {'_key': '266199645219', '_id': 'ChildOf/266199645219', '_from': 'Characters/RobbStark', '_to': 'Characters/CatelynStark', '_rev': '_gw7CBZe--A'}, {'_key': '266199645214', '_id': 'ChildOf/266199645214', '_from': 'Characters/RobbStark', '_to': 'Characters/NedStark', '_rev': '_gw7CBZW--_'}, {'_key': '266199645216', '_id': 'ChildOf/266199645216', '_from': 'Characters/AryaStark', '_to': 'Characters/NedStark', '_rev': '_gw7CBZW--B'}], 'weights': [0, 1, 2, 3, 4, 5, 6]}, {'vertices': [{'_key': 'BranStark', '_id': 'Characters/BranStark', '_rev': '_gw7CBWu--D', 'name': 'Bran', 'surname': 'Stark', 'alive': True, 'age': 10, 'gender': 'male'}, {'_key': 'NedStark', '_id': 'Characters/NedStark', '_rev': '_gw7CBWu--A', 'name': 'Ned', 'surname': 'Stark', 'alive': True, 'age': 41, 'gender': 'male'}, {'_key': 'SansaStark', '_id': 'Characters/SansaStark', '_rev': '_gw7CBWu--F', 'name': 'Sansa', 'surname': 'Stark', 'alive': True, 'age': 13, 'gender': 'female'}, {'_key': 'CatelynStark', '_id': 'Characters/CatelynStark', '_rev': '_gw7CBWu--B', 'name': 'Catelyn', 'surname': 'Stark', 'alive': False, 'age': 40, 'gender': 'female'}, {'_key': 'AryaStark', '_id': 'Characters/AryaStark', '_rev': '_gw7CBWu--C', 'name': 'Arya', 'surname': 'Stark', 'alive': True, 'age': 11, 'gender': 'female'}], 'edges': [{'_key': '266199645213', '_id': 'ChildOf/266199645213', '_from': 'Characters/BranStark', '_to': 'Characters/NedStark', '_rev': '_gw7CBZW---'}, {'_key': '266199645215', '_id': 'ChildOf/266199645215', '_from': 'Characters/SansaStark', '_to': 'Characters/NedStark', '_rev': '_gw7CBZW--A'}, {'_key': '266199645220', '_id': 'ChildOf/266199645220', '_from': 'Characters/SansaStark', '_to': 'Characters/CatelynStark', '_rev': '_gw7CBZe--B'}, {'_key': '266199645217', '_id': 'ChildOf/266199645217', '_from': 'Characters/AryaStark', '_to': 'Characters/CatelynStark', '_rev': '_gw7CBZe---'}], 'weights': [0, 1, 2, 3, 4]}, {'vertices': [{'_key': 'BranStark', '_id': 'Characters/BranStark', '_rev': '_gw7CBWu--D', 'name': 'Bran', 'surname': 'Stark', 'alive': True, 'age': 10, 'gender': 'male'}, {'_key': 'NedStark', '_id': 'Characters/NedStark', '_rev': '_gw7CBWu--A', 'name': 'Ned', 'surname': 'Stark', 'alive': True, 'age': 41, 'gender': 'male'}, {'_key': 'RobbStark', '_id': 'Characters/RobbStark', '_rev': '_gw7CBWu--E', 'name': 'Robb', 'surname': 'Stark', 'alive': False, 'age': 16, 'gender': 'male'}, {'_key': 'CatelynStark', '_id': 'Characters/CatelynStark', '_rev': '_gw7CBWu--B', 'name': 'Catelyn', 'surname': 'Stark', 'alive': False, 'age': 40, 'gender': 'female'}, {'_key': 'SansaStark', '_id': 'Characters/SansaStark', '_rev': '_gw7CBWu--F', 'name': 'Sansa', 'surname': 'Stark', 'alive': True, 'age': 13, 'gender': 'female'}, {'_key': 'NedStark', '_id': 'Characters/NedStark', '_rev': '_gw7CBWu--A', 'name': 'Ned', 'surname': 'Stark', 'alive': True, 'age': 41, 'gender': 'male'}, {'_key': 'AryaStark', '_id': 'Characters/AryaStark', '_rev': '_gw7CBWu--C', 'name': 'Arya', 'surname': 'Stark', 'alive': True, 'age': 11, 'gender': 'female'}], 'edges': [{'_key': '266199645213', '_id': 'ChildOf/266199645213', '_from': 'Characters/BranStark', '_to': 'Characters/NedStark', '_rev': '_gw7CBZW---'}, {'_key': '266199645214', '_id': 'ChildOf/266199645214', '_from': 'Characters/RobbStark', '_to': 'Characters/NedStark', '_rev': '_gw7CBZW--_'}, {'_key': '266199645219', '_id': 'ChildOf/266199645219', '_from': 'Characters/RobbStark', '_to': 'Characters/CatelynStark', '_rev': '_gw7CBZe--A'}, {'_key': '266199645220', '_id': 'ChildOf/266199645220', '_from': 'Characters/SansaStark', '_to': 'Characters/CatelynStark', '_rev': '_gw7CBZe--B'}, {'_key': '266199645215', '_id': 'ChildOf/266199645215', '_from': 'Characters/SansaStark', '_to': 'Characters/NedStark', '_rev': '_gw7CBZW--A'}, {'_key': '266199645216', '_id': 'ChildOf/266199645216', '_from': 'Characters/AryaStark', '_to': 'Characters/NedStark', '_rev': '_gw7CBZW--B'}], 'weights': [0, 1, 2, 3, 4, 5, 6]}, {'vertices': [{'_key': 'BranStark', '_id': 'Characters/BranStark', '_rev': '_gw7CBWu--D', 'name': 'Bran', 'surname': 'Stark', 'alive': True, 'age': 10, 'gender': 'male'}, {'_key': 'NedStark', '_id': 'Characters/NedStark', '_rev': '_gw7CBWu--A', 'name': 'Ned', 'surname': 'Stark', 'alive': True, 'age': 41, 'gender': 'male'}, {'_key': 'RobbStark', '_id': 'Characters/RobbStark', '_rev': '_gw7CBWu--E', 'name': 'Robb', 'surname': 'Stark', 'alive': False, 'age': 16, 'gender': 'male'}, {'_key': 'CatelynStark', '_id': 'Characters/CatelynStark', '_rev': '_gw7CBWu--B', 'name': 'Catelyn', 'surname': 'Stark', 'alive': False, 'age': 40, 'gender': 'female'}, {'_key': 'AryaStark', '_id': 'Characters/AryaStark', '_rev': '_gw7CBWu--C', 'name': 'Arya', 'surname': 'Stark', 'alive': True, 'age': 11, 'gender': 'female'}], 'edges': [{'_key': '266199645213', '_id': 'ChildOf/266199645213', '_from': 'Characters/BranStark', '_to': 'Characters/NedStark', '_rev': '_gw7CBZW---'}, {'_key': '266199645214', '_id': 'ChildOf/266199645214', '_from': 'Characters/RobbStark', '_to': 'Characters/NedStark', '_rev': '_gw7CBZW--_'}, {'_key': '266199645219', '_id': 'ChildOf/266199645219', '_from': 'Characters/RobbStark', '_to': 'Characters/CatelynStark', '_rev': '_gw7CBZe--A'}, {'_key': '266199645217', '_id': 'ChildOf/266199645217', '_from': 'Characters/AryaStark', '_to': 'Characters/CatelynStark', '_rev': '_gw7CBZe---'}], 'weights': [0, 1, 2, 3, 4]}]\u001b[0m\n",
            "\n",
            "\u001b[1m> Finished chain.\u001b[0m\n"
          ]
        },
        {
          "output_type": "execute_result",
          "data": {
            "text/plain": [
              "'Bran Stark and Arya Stark are siblings. They are both children of Ned Stark and Catelyn Stark.'"
            ],
            "application/vnd.google.colaboratory.intrinsic+json": {
              "type": "string"
            }
          },
          "metadata": {},
          "execution_count": 17
        }
      ],
      "source": [
        "chain.run(\"How are Bran Stark and Arya Stark related?\")"
      ]
    },
    {
      "cell_type": "code",
      "execution_count": 18,
      "id": "9Fzdic_pA_4y",
      "metadata": {
        "id": "9Fzdic_pA_4y",
        "colab": {
          "base_uri": "https://localhost:8080/",
          "height": 250
        },
        "outputId": "08e430d4-963e-441d-80c1-a3e6e585c6f4"
      },
      "outputs": [
        {
          "output_type": "stream",
          "name": "stdout",
          "text": [
            "\n",
            "\n",
            "\u001b[1m> Entering new ArangoGraphQAChain chain...\u001b[0m\n",
            "AQL Query (1):\u001b[32;1m\u001b[1;3m\n",
            "WITH Characters, ChildOf\n",
            "FOR v, e IN 2..2 OUTBOUND 'Characters/BranStark' ChildOf\n",
            "RETURN v.name\n",
            "\u001b[0m\n",
            "AQL Result:\n",
            "\u001b[32;1m\u001b[1;3m['Lyarra', 'Rickard']\u001b[0m\n",
            "\n",
            "\u001b[1m> Finished chain.\u001b[0m\n"
          ]
        },
        {
          "output_type": "execute_result",
          "data": {
            "text/plain": [
              "\"Bran Stark's grandparents are Lyarra and Rickard.\""
            ],
            "application/vnd.google.colaboratory.intrinsic+json": {
              "type": "string"
            }
          },
          "metadata": {},
          "execution_count": 18
        }
      ],
      "source": [
        "chain.run(\"Who are Bran Stark’s grandparents?\")"
      ]
    },
    {
      "cell_type": "code",
      "execution_count": 19,
      "id": "zq_oeDpAOXpF",
      "metadata": {
        "id": "zq_oeDpAOXpF",
        "colab": {
          "base_uri": "https://localhost:8080/",
          "height": 285
        },
        "outputId": "0ea89f0b-6a19-4908-e8ba-2b8b6f31a61e"
      },
      "outputs": [
        {
          "output_type": "stream",
          "name": "stdout",
          "text": [
            "\n",
            "\n",
            "\u001b[1m> Entering new ArangoGraphQAChain chain...\u001b[0m\n",
            "AQL Query (1):\u001b[32;1m\u001b[1;3m\n",
            "WITH Characters\n",
            "FOR doc IN Characters\n",
            "COLLECT family = doc.surname WITH COUNT INTO characterCount\n",
            "RETURN { \"family\": family, \"characterCount\": characterCount }\n",
            "\u001b[0m\n",
            "AQL Result:\n",
            "\u001b[32;1m\u001b[1;3m[{'family': 'Baratheon', 'characterCount': 1}, {'family': 'Lannister', 'characterCount': 4}, {'family': 'Stark', 'characterCount': 8}]\u001b[0m\n",
            "\n",
            "\u001b[1m> Finished chain.\u001b[0m\n"
          ]
        },
        {
          "output_type": "execute_result",
          "data": {
            "text/plain": [
              "'The Game of Thrones database shows that there is 1 character from the Baratheon family, 4 characters from the Lannister family, and 8 characters from the Stark family.'"
            ],
            "application/vnd.google.colaboratory.intrinsic+json": {
              "type": "string"
            }
          },
          "metadata": {},
          "execution_count": 19
        }
      ],
      "source": [
        "chain.run(\"Fetch me the character count for each family\")"
      ]
    },
    {
      "cell_type": "code",
      "execution_count": 20,
      "id": "Qfi_e1_P_tKj",
      "metadata": {
        "id": "Qfi_e1_P_tKj",
        "colab": {
          "base_uri": "https://localhost:8080/",
          "height": 410
        },
        "outputId": "6a01676d-a692-4df0-8e5f-80b1eca25133"
      },
      "outputs": [
        {
          "output_type": "stream",
          "name": "stdout",
          "text": [
            "\n",
            "\n",
            "\u001b[1m> Entering new ArangoGraphQAChain chain...\u001b[0m\n",
            "AQL Query (1):\u001b[32;1m\u001b[1;3m\n",
            "WITH Characters\n",
            "LET RickardAge = (\n",
            "  FOR character IN Characters\n",
            "    FILTER character._key == 'RickardStark'\n",
            "    RETURN character.age\n",
            ")[0]\n",
            "LET AryaAge = (\n",
            "  FOR character IN Characters\n",
            "    FILTER character._key == 'AryaStark'\n",
            "    RETURN character.age\n",
            ")[0]\n",
            "RETURN RickardAge - AryaAge\n",
            "\u001b[0m\n",
            "AQL Result:\n",
            "\u001b[32;1m\u001b[1;3m[49]\u001b[0m\n",
            "\n",
            "\u001b[1m> Finished chain.\u001b[0m\n"
          ]
        },
        {
          "output_type": "execute_result",
          "data": {
            "text/plain": [
              "'The age difference between Rickard Stark and Arya Stark is 49 years.'"
            ],
            "application/vnd.google.colaboratory.intrinsic+json": {
              "type": "string"
            }
          },
          "metadata": {},
          "execution_count": 20
        }
      ],
      "source": [
        "chain.run(\"What is the age difference between Rickard Stark and Arya Stark?\")"
      ]
    },
    {
      "cell_type": "code",
      "execution_count": 21,
      "id": "pjTLW6ct_71q",
      "metadata": {
        "id": "pjTLW6ct_71q",
        "colab": {
          "base_uri": "https://localhost:8080/",
          "height": 268
        },
        "outputId": "492fa335-4777-430d-df99-d376f1efd620"
      },
      "outputs": [
        {
          "output_type": "stream",
          "name": "stdout",
          "text": [
            "\n",
            "\n",
            "\u001b[1m> Entering new ArangoGraphQAChain chain...\u001b[0m\n",
            "AQL Query (1):\u001b[32;1m\u001b[1;3m\n",
            "WITH Characters\n",
            "FOR character IN Characters\n",
            "    FILTER character.name == 'Rickard' AND character.surname == 'Stark'\n",
            "    RETURN character.age\n",
            "\u001b[0m\n",
            "AQL Result:\n",
            "\u001b[32;1m\u001b[1;3m[60]\u001b[0m\n",
            "\n",
            "\u001b[1m> Finished chain.\u001b[0m\n"
          ]
        },
        {
          "output_type": "execute_result",
          "data": {
            "text/plain": [
              "'Rickard Stark is 60 years old.'"
            ],
            "application/vnd.google.colaboratory.intrinsic+json": {
              "type": "string"
            }
          },
          "metadata": {},
          "execution_count": 21
        }
      ],
      "source": [
        "chain.run(\"Wie alt ist Rickard Stark?\") # (German: \"How old is Rickard Stark?\")"
      ]
    },
    {
      "cell_type": "code",
      "execution_count": 22,
      "id": "-VfkVtt4_9FK",
      "metadata": {
        "id": "-VfkVtt4_9FK",
        "colab": {
          "base_uri": "https://localhost:8080/",
          "height": 285
        },
        "outputId": "b718d045-9f29-4ce8-ed12-caf7bf889422"
      },
      "outputs": [
        {
          "output_type": "stream",
          "name": "stdout",
          "text": [
            "\n",
            "\n",
            "\u001b[1m> Entering new ArangoGraphQAChain chain...\u001b[0m\n",
            "AQL Query (1):\u001b[32;1m\u001b[1;3m\n",
            "WITH Characters\n",
            "FOR character IN Characters\n",
            "    FILTER character.surname == 'Stark'\n",
            "    COLLECT AGGREGATE avgAge = AVG(character.age)\n",
            "    RETURN avgAge\n",
            "\u001b[0m\n",
            "AQL Result:\n",
            "\u001b[32;1m\u001b[1;3m[31.375]\u001b[0m\n",
            "\n",
            "\u001b[1m> Finished chain.\u001b[0m\n"
          ]
        },
        {
          "output_type": "execute_result",
          "data": {
            "text/plain": [
              "'The average age of the Stark family members in the Game of Thrones database is approximately 31.4 years.'"
            ],
            "application/vnd.google.colaboratory.intrinsic+json": {
              "type": "string"
            }
          },
          "metadata": {},
          "execution_count": 22
        }
      ],
      "source": [
        "chain.run(\"What is the average age within the Stark family?\")"
      ]
    },
    {
      "cell_type": "code",
      "execution_count": 23,
      "id": "89-QJ87m__ol",
      "metadata": {
        "id": "89-QJ87m__ol",
        "colab": {
          "base_uri": "https://localhost:8080/",
          "height": 288
        },
        "outputId": "b869d5f7-aee9-44db-fcea-cbcbc8888fee"
      },
      "outputs": [
        {
          "output_type": "stream",
          "name": "stdout",
          "text": [
            "\n",
            "\n",
            "\u001b[1m> Entering new ArangoGraphQAChain chain...\u001b[0m\n",
            "AQL Query (1):\u001b[32;1m\u001b[1;3m\n",
            "WITH Characters, ChildOf\n",
            "FOR v, e IN 1..1 OUTBOUND 'Characters/BranStark' ChildOf\n",
            "FILTER v.alive == false\n",
            "RETURN v\n",
            "\u001b[0m\n",
            "AQL Result:\n",
            "\u001b[32;1m\u001b[1;3m[{'_key': 'CatelynStark', '_id': 'Characters/CatelynStark', '_rev': '_gw7CBWu--B', 'name': 'Catelyn', 'surname': 'Stark', 'alive': False, 'age': 40, 'gender': 'female'}]\u001b[0m\n",
            "\n",
            "\u001b[1m> Finished chain.\u001b[0m\n"
          ]
        },
        {
          "output_type": "execute_result",
          "data": {
            "text/plain": [
              "'Yes, Bran Stark does have a deceased parent. His mother, Catelyn Stark, is no longer alive.'"
            ],
            "application/vnd.google.colaboratory.intrinsic+json": {
              "type": "string"
            }
          },
          "metadata": {},
          "execution_count": 23
        }
      ],
      "source": [
        "chain.run(\"Does Bran Stark have a dead parent?\")"
      ]
    },
    {
      "cell_type": "code",
      "execution_count": 26,
      "id": "MV6ENBJVAB-w",
      "metadata": {
        "id": "MV6ENBJVAB-w",
        "colab": {
          "base_uri": "https://localhost:8080/",
          "height": 377
        },
        "outputId": "9c47e38f-d428-4f9f-bd7e-e0e7cf3a7651"
      },
      "outputs": [
        {
          "output_type": "stream",
          "name": "stdout",
          "text": [
            "\n",
            "\n",
            "\u001b[1m> Entering new ArangoGraphQAChain chain...\u001b[0m\n",
            "AQL Query (1):\u001b[32;1m\u001b[1;3m\n",
            "WITH Characters, ChildOf\n",
            "FOR v IN Characters\n",
            "    FILTER v.name == 'Catelyn' AND v.surname == 'Stark'\n",
            "    FOR e IN ChildOf\n",
            "        FILTER e._to == v._id\n",
            "        FOR c IN Characters\n",
            "            FILTER c._id == e._from\n",
            "            RETURN c\n",
            "\u001b[0m\n",
            "AQL Result:\n",
            "\u001b[32;1m\u001b[1;3m[{'_key': 'AryaStark', '_id': 'Characters/AryaStark', '_rev': '_gw7CBWu--C', 'name': 'Arya', 'surname': 'Stark', 'alive': True, 'age': 11, 'gender': 'female'}, {'_key': 'BranStark', '_id': 'Characters/BranStark', '_rev': '_gw7CBWu--D', 'name': 'Bran', 'surname': 'Stark', 'alive': True, 'age': 10, 'gender': 'male'}, {'_key': 'RobbStark', '_id': 'Characters/RobbStark', '_rev': '_gw7CBWu--E', 'name': 'Robb', 'surname': 'Stark', 'alive': False, 'age': 16, 'gender': 'male'}, {'_key': 'SansaStark', '_id': 'Characters/SansaStark', '_rev': '_gw7CBWu--F', 'name': 'Sansa', 'surname': 'Stark', 'alive': True, 'age': 13, 'gender': 'female'}]\u001b[0m\n",
            "\n",
            "\u001b[1m> Finished chain.\u001b[0m\n"
          ]
        },
        {
          "output_type": "execute_result",
          "data": {
            "text/plain": [
              "'Catelyn Stark has four children. Arya Stark, a female, is 11 years old and currently alive. Bran Stark, a male, is 10 years old and also alive. Robb Stark, a male, was 16 years old but is now deceased. Lastly, Sansa Stark, a female, is 13 years old and currently alive.'"
            ],
            "application/vnd.google.colaboratory.intrinsic+json": {
              "type": "string"
            }
          },
          "metadata": {},
          "execution_count": 26
        }
      ],
      "source": [
        "chain.run(\"Who are Catelyn Stark's children?\")"
      ]
    },
    {
      "cell_type": "code",
      "execution_count": 27,
      "id": "_2maN0_sAFCO",
      "metadata": {
        "id": "_2maN0_sAFCO",
        "colab": {
          "base_uri": "https://localhost:8080/",
          "height": 357
        },
        "outputId": "1b5b1f62-57fa-4d22-d3eb-14ca5cff1c1f"
      },
      "outputs": [
        {
          "output_type": "stream",
          "name": "stdout",
          "text": [
            "\n",
            "\n",
            "\u001b[1m> Entering new ArangoGraphQAChain chain...\u001b[0m\n",
            "AQL Query (1):\u001b[32;1m\u001b[1;3m\n",
            "WITH Characters\n",
            "INSERT {\n",
            "  \"_key\": \"JonSnow\",\n",
            "  \"name\": \"Jon\",\n",
            "  \"surname\": \"Snow\",\n",
            "  \"alive\": true,\n",
            "  \"age\": 31,\n",
            "  \"gender\": \"male\"\n",
            "} INTO Characters\n",
            "\u001b[0m\n",
            "AQL Result:\n",
            "\u001b[32;1m\u001b[1;3m[]\u001b[0m\n",
            "\n",
            "\u001b[1m> Finished chain.\u001b[0m\n"
          ]
        },
        {
          "output_type": "execute_result",
          "data": {
            "text/plain": [
              "'Summary:\\nThe character Jon Snow, a 31-year-old male, has been successfully added to the database.'"
            ],
            "application/vnd.google.colaboratory.intrinsic+json": {
              "type": "string"
            }
          },
          "metadata": {},
          "execution_count": 27
        }
      ],
      "source": [
        "chain.run(\"Add Jon Snow, 31, a male character\")"
      ]
    },
    {
      "cell_type": "code",
      "source": [
        "chain.run(\"Create a ChildOf edge from Jon Snow to Ned Stark\")"
      ],
      "metadata": {
        "id": "_MHWiAVeM3Cg",
        "colab": {
          "base_uri": "https://localhost:8080/",
          "height": 232
        },
        "outputId": "73b4e8df-ede4-465d-8af3-f719baa8d3c8"
      },
      "id": "_MHWiAVeM3Cg",
      "execution_count": 29,
      "outputs": [
        {
          "output_type": "stream",
          "name": "stdout",
          "text": [
            "\n",
            "\n",
            "\u001b[1m> Entering new ArangoGraphQAChain chain...\u001b[0m\n",
            "AQL Query (1):\u001b[32;1m\u001b[1;3m\n",
            "WITH Characters, ChildOf\n",
            "INSERT {_from: \"Characters/JonSnow\", _to: \"Characters/NedStark\"} INTO ChildOf\n",
            "\u001b[0m\n",
            "AQL Result:\n",
            "\u001b[32;1m\u001b[1;3m[]\u001b[0m\n",
            "\n",
            "\u001b[1m> Finished chain.\u001b[0m\n"
          ]
        },
        {
          "output_type": "execute_result",
          "data": {
            "text/plain": [
              "'Summary:\\n\\nA relationship has been successfully established in the Game of Thrones graph, indicating that Jon Snow is a child of Ned Stark.'"
            ],
            "application/vnd.google.colaboratory.intrinsic+json": {
              "type": "string"
            }
          },
          "metadata": {},
          "execution_count": 29
        }
      ]
    },
    {
      "cell_type": "code",
      "source": [
        "chain.run(\"Who is related to Ned Stark?\")"
      ],
      "metadata": {
        "id": "3mU0MyGsM6gX",
        "colab": {
          "base_uri": "https://localhost:8080/",
          "height": 305
        },
        "outputId": "8f9f281d-d524-459c-c4cc-947d547f2795"
      },
      "id": "3mU0MyGsM6gX",
      "execution_count": 30,
      "outputs": [
        {
          "output_type": "stream",
          "name": "stdout",
          "text": [
            "\n",
            "\n",
            "\u001b[1m> Entering new ArangoGraphQAChain chain...\u001b[0m\n",
            "AQL Query (1):\u001b[32;1m\u001b[1;3m\n",
            "WITH Characters, ChildOf\n",
            "FOR v, e IN 1..1 ANY 'Characters/NedStark' ChildOf\n",
            "RETURN v\n",
            "\u001b[0m\n",
            "AQL Result:\n",
            "\u001b[32;1m\u001b[1;3m[{'_key': 'JonSnow', '_id': 'Characters/JonSnow', '_rev': '_gw7E4km--A', 'name': 'Jon', 'surname': 'Snow', 'alive': True, 'age': 31, 'gender': 'male'}, {'_key': 'AryaStark', '_id': 'Characters/AryaStark', '_rev': '_gw7CBWu--C', 'name': 'Arya', 'surname': 'Stark', 'alive': True, 'age': 11, 'gender': 'female'}, {'_key': 'SansaStark', '_id': 'Characters/SansaStark', '_rev': '_gw7CBWu--F', 'name': 'Sansa', 'surname': 'Stark', 'alive': True, 'age': 13, 'gender': 'female'}, {'_key': 'RobbStark', '_id': 'Characters/RobbStark', '_rev': '_gw7CBWu--E', 'name': 'Robb', 'surname': 'Stark', 'alive': False, 'age': 16, 'gender': 'male'}, {'_key': 'BranStark', '_id': 'Characters/BranStark', '_rev': '_gw7CBWu--D', 'name': 'Bran', 'surname': 'Stark', 'alive': True, 'age': 10, 'gender': 'male'}, {'_key': 'JonSnow', '_id': 'Characters/JonSnow', '_rev': '_gw7E4km--A', 'name': 'Jon', 'surname': 'Snow', 'alive': True, 'age': 31, 'gender': 'male'}, {'_key': 'LyarraStark', '_id': 'Characters/LyarraStark', '_rev': '_gw7CBWu--_', 'name': 'Lyarra', 'surname': 'Stark', 'alive': False, 'age': 60, 'gender': 'female'}, {'_key': 'RickardStark', '_id': 'Characters/RickardStark', '_rev': '_gw7CBWu---', 'name': 'Rickard', 'surname': 'Stark', 'alive': False, 'age': 60, 'gender': 'male'}]\u001b[0m\n",
            "\n",
            "\u001b[1m> Finished chain.\u001b[0m\n"
          ]
        },
        {
          "output_type": "execute_result",
          "data": {
            "text/plain": [
              "'Ned Stark is related to several characters. His children are Jon Snow, a 31-year-old male who is alive; Arya Stark, an 11-year-old female who is alive; Sansa Stark, a 13-year-old female who is alive; Robb Stark, a 16-year-old male who is deceased; and Bran Stark, a 10-year-old male who is alive. He is also related to Lyarra Stark, a 60-year-old female who is deceased, and Rickard Stark, a 60-year-old male who is deceased.'"
            ],
            "application/vnd.google.colaboratory.intrinsic+json": {
              "type": "string"
            }
          },
          "metadata": {},
          "execution_count": 30
        }
      ]
    },
    {
      "cell_type": "code",
      "source": [
        "chain.run(\"What can you tell me about the characters?\")"
      ],
      "metadata": {
        "id": "jpK1CTypN0s6",
        "colab": {
          "base_uri": "https://localhost:8080/",
          "height": 359
        },
        "outputId": "a38af56d-0f05-4bba-d913-c63301d0d8d0"
      },
      "id": "jpK1CTypN0s6",
      "execution_count": 31,
      "outputs": [
        {
          "output_type": "stream",
          "name": "stdout",
          "text": [
            "\n",
            "\n",
            "\u001b[1m> Entering new ArangoGraphQAChain chain...\u001b[0m\n",
            "AQL Query (1):\u001b[32;1m\u001b[1;3m\n",
            "WITH Characters\n",
            "FOR character IN Characters\n",
            "    RETURN character\n",
            "\u001b[0m\n",
            "AQL Result:\n",
            "\u001b[32;1m\u001b[1;3m[{'_key': 'RickardStark', '_id': 'Characters/RickardStark', '_rev': '_gw7CBWu---', 'name': 'Rickard', 'surname': 'Stark', 'alive': False, 'age': 60, 'gender': 'male'}, {'_key': 'LyarraStark', '_id': 'Characters/LyarraStark', '_rev': '_gw7CBWu--_', 'name': 'Lyarra', 'surname': 'Stark', 'alive': False, 'age': 60, 'gender': 'female'}, {'_key': 'NedStark', '_id': 'Characters/NedStark', '_rev': '_gw7CBWu--A', 'name': 'Ned', 'surname': 'Stark', 'alive': True, 'age': 41, 'gender': 'male'}, {'_key': 'CatelynStark', '_id': 'Characters/CatelynStark', '_rev': '_gw7CBWu--B', 'name': 'Catelyn', 'surname': 'Stark', 'alive': False, 'age': 40, 'gender': 'female'}, {'_key': 'AryaStark', '_id': 'Characters/AryaStark', '_rev': '_gw7CBWu--C', 'name': 'Arya', 'surname': 'Stark', 'alive': True, 'age': 11, 'gender': 'female'}, {'_key': 'BranStark', '_id': 'Characters/BranStark', '_rev': '_gw7CBWu--D', 'name': 'Bran', 'surname': 'Stark', 'alive': True, 'age': 10, 'gender': 'male'}, {'_key': 'RobbStark', '_id': 'Characters/RobbStark', '_rev': '_gw7CBWu--E', 'name': 'Robb', 'surname': 'Stark', 'alive': False, 'age': 16, 'gender': 'male'}, {'_key': 'SansaStark', '_id': 'Characters/SansaStark', '_rev': '_gw7CBWu--F', 'name': 'Sansa', 'surname': 'Stark', 'alive': True, 'age': 13, 'gender': 'female'}, {'_key': 'TywinLannister', '_id': 'Characters/TywinLannister', '_rev': '_gw7CBWu--G', 'name': 'Tywin', 'surname': 'Lannister', 'alive': False, 'age': 67, 'gender': 'male'}, {'_key': 'JaimeLannister', '_id': 'Characters/JaimeLannister', '_rev': '_gw7CBWu--H', 'name': 'Jaime', 'surname': 'Lannister', 'alive': True, 'age': 36, 'gender': 'male'}]\u001b[0m\n",
            "\n",
            "\u001b[1m> Finished chain.\u001b[0m\n"
          ]
        },
        {
          "output_type": "execute_result",
          "data": {
            "text/plain": [
              "'The database contains information about several characters. Here are some of them:\\n\\n1. Rickard Stark, a male character who is not alive. He was 60 years old.\\n2. Lyarra Stark, a female character who is also not alive. She was 60 years old.\\n3. Ned Stark, a male character who is alive and 41 years old.\\n4. Catelyn Stark, a female character who is not alive. She was 40 years old.\\n5. Arya Stark, a female character who is alive and 11 years old.\\n6. Bran Stark, a male character who is alive and 10 years old.\\n7. Robb Stark, a male character who is not alive. He was 16 years old.\\n8. Sansa Stark, a female character who is alive and 13 years old.\\n9. Tywin Lannister, a male character who is not alive. He was 67 years old.\\n10. Jaime Lannister, a male character who is alive and 36 years old.'"
            ],
            "application/vnd.google.colaboratory.intrinsic+json": {
              "type": "string"
            }
          },
          "metadata": {},
          "execution_count": 31
        }
      ]
    },
    {
      "cell_type": "code",
      "source": [
        "chain.run(\"What is the shortest path from Bran Stark to Rickard Stark?\")"
      ],
      "metadata": {
        "id": "rjJd8BCMN6TE",
        "colab": {
          "base_uri": "https://localhost:8080/",
          "height": 288
        },
        "outputId": "9aa8448d-a879-43eb-a3b9-3a8c4e78faa0"
      },
      "id": "rjJd8BCMN6TE",
      "execution_count": 32,
      "outputs": [
        {
          "output_type": "stream",
          "name": "stdout",
          "text": [
            "\n",
            "\n",
            "\u001b[1m> Entering new ArangoGraphQAChain chain...\u001b[0m\n",
            "AQL Query (1):\u001b[32;1m\u001b[1;3m\n",
            "WITH Characters, ChildOf\n",
            "FOR v, e IN ANY SHORTEST_PATH 'Characters/BranStark' TO 'Characters/RickardStark' ChildOf\n",
            "RETURN {vertices: v, edges: e}\n",
            "\u001b[0m\n",
            "AQL Result:\n",
            "\u001b[32;1m\u001b[1;3m[{'vertices': {'_key': 'BranStark', '_id': 'Characters/BranStark', '_rev': '_gw7CBWu--D', 'name': 'Bran', 'surname': 'Stark', 'alive': True, 'age': 10, 'gender': 'male'}, 'edges': None}, {'vertices': {'_key': 'NedStark', '_id': 'Characters/NedStark', '_rev': '_gw7CBWu--A', 'name': 'Ned', 'surname': 'Stark', 'alive': True, 'age': 41, 'gender': 'male'}, 'edges': {'_key': '266199645213', '_id': 'ChildOf/266199645213', '_from': 'Characters/BranStark', '_to': 'Characters/NedStark', '_rev': '_gw7CBZW---'}}, {'vertices': {'_key': 'RickardStark', '_id': 'Characters/RickardStark', '_rev': '_gw7CBWu---', 'name': 'Rickard', 'surname': 'Stark', 'alive': False, 'age': 60, 'gender': 'male'}, 'edges': {'_key': '266199645221', '_id': 'ChildOf/266199645221', '_from': 'Characters/NedStark', '_to': 'Characters/RickardStark', '_rev': '_gw7CBZe--C'}}]\u001b[0m\n",
            "\n",
            "\u001b[1m> Finished chain.\u001b[0m\n"
          ]
        },
        {
          "output_type": "execute_result",
          "data": {
            "text/plain": [
              "'The shortest path from Bran Stark to Rickard Stark in the Game of Thrones universe is through Ned Stark. Bran Stark is the son of Ned Stark, who in turn is the son of Rickard Stark.'"
            ],
            "application/vnd.google.colaboratory.intrinsic+json": {
              "type": "string"
            }
          },
          "metadata": {},
          "execution_count": 32
        }
      ]
    },
    {
      "cell_type": "code",
      "source": [
        "chain.run(\"What is th family tree of Joffrey Baratheon?\")"
      ],
      "metadata": {
        "id": "h1OgY3LbOZmI",
        "colab": {
          "base_uri": "https://localhost:8080/",
          "height": 288
        },
        "outputId": "f0ec4dd7-3851-41ef-e767-d4526d714119"
      },
      "id": "h1OgY3LbOZmI",
      "execution_count": 39,
      "outputs": [
        {
          "output_type": "stream",
          "name": "stdout",
          "text": [
            "\n",
            "\n",
            "\u001b[1m> Entering new ArangoGraphQAChain chain...\u001b[0m\n",
            "AQL Query (1):\u001b[32;1m\u001b[1;3m\n",
            "WITH Characters, ChildOf\n",
            "FOR v, e, p IN 1..100 OUTBOUND 'Characters/JoffreyBaratheon' ChildOf\n",
            "RETURN p.vertices\n",
            "\u001b[0m\n",
            "AQL Result:\n",
            "\u001b[32;1m\u001b[1;3m[[{'_key': 'JoffreyBaratheon', '_id': 'Characters/JoffreyBaratheon', '_rev': '_gw7CBWu--L', 'name': 'Joffrey', 'surname': 'Baratheon', 'alive': False, 'age': 19, 'gender': 'male'}, {'_key': 'JaimeLannister', '_id': 'Characters/JaimeLannister', '_rev': '_gw7CBWu--H', 'name': 'Jaime', 'surname': 'Lannister', 'alive': True, 'age': 36, 'gender': 'male'}], [{'_key': 'JoffreyBaratheon', '_id': 'Characters/JoffreyBaratheon', '_rev': '_gw7CBWu--L', 'name': 'Joffrey', 'surname': 'Baratheon', 'alive': False, 'age': 19, 'gender': 'male'}, {'_key': 'JaimeLannister', '_id': 'Characters/JaimeLannister', '_rev': '_gw7CBWu--H', 'name': 'Jaime', 'surname': 'Lannister', 'alive': True, 'age': 36, 'gender': 'male'}, {'_key': 'TywinLannister', '_id': 'Characters/TywinLannister', '_rev': '_gw7CBWu--G', 'name': 'Tywin', 'surname': 'Lannister', 'alive': False, 'age': 67, 'gender': 'male'}], [{'_key': 'JoffreyBaratheon', '_id': 'Characters/JoffreyBaratheon', '_rev': '_gw7CBWu--L', 'name': 'Joffrey', 'surname': 'Baratheon', 'alive': False, 'age': 19, 'gender': 'male'}, {'_key': 'CerseiLannister', '_id': 'Characters/CerseiLannister', '_rev': '_gw7CBWu--I', 'name': 'Cersei', 'surname': 'Lannister', 'alive': True, 'age': 36, 'gender': 'female'}], [{'_key': 'JoffreyBaratheon', '_id': 'Characters/JoffreyBaratheon', '_rev': '_gw7CBWu--L', 'name': 'Joffrey', 'surname': 'Baratheon', 'alive': False, 'age': 19, 'gender': 'male'}, {'_key': 'CerseiLannister', '_id': 'Characters/CerseiLannister', '_rev': '_gw7CBWu--I', 'name': 'Cersei', 'surname': 'Lannister', 'alive': True, 'age': 36, 'gender': 'female'}, {'_key': 'TywinLannister', '_id': 'Characters/TywinLannister', '_rev': '_gw7CBWu--G', 'name': 'Tywin', 'surname': 'Lannister', 'alive': False, 'age': 67, 'gender': 'male'}]]\u001b[0m\n",
            "\n",
            "\u001b[1m> Finished chain.\u001b[0m\n"
          ]
        },
        {
          "output_type": "execute_result",
          "data": {
            "text/plain": [
              "'The family tree of Joffrey Baratheon includes his parents and his grandfather. His father is Jaime Lannister, who is currently alive and 36 years old. His mother is Cersei Lannister, who is also alive and 36 years old. His grandfather is Tywin Lannister, who is no longer alive and was 67 years old.'"
            ],
            "application/vnd.google.colaboratory.intrinsic+json": {
              "type": "string"
            }
          },
          "metadata": {},
          "execution_count": 39
        }
      ]
    },
    {
      "cell_type": "code",
      "source": [
        "chain.run(\"What is the relationship between Bran Stark and Rickard Stark?\")"
      ],
      "metadata": {
        "id": "BOcwm5eIN795",
        "colab": {
          "base_uri": "https://localhost:8080/",
          "height": 288
        },
        "outputId": "02f90bfd-310d-491a-8103-673675f8b436"
      },
      "id": "BOcwm5eIN795",
      "execution_count": 40,
      "outputs": [
        {
          "output_type": "stream",
          "name": "stdout",
          "text": [
            "\n",
            "\n",
            "\u001b[1m> Entering new ArangoGraphQAChain chain...\u001b[0m\n",
            "AQL Query (1):\u001b[32;1m\u001b[1;3m\n",
            "WITH Characters, ChildOf\n",
            "FOR v, e IN 1..10 ANY 'Characters/BranStark' ChildOf\n",
            "  FILTER v._key == 'RickardStark'\n",
            "  RETURN e\n",
            "\u001b[0m\n",
            "AQL Result:\n",
            "\u001b[32;1m\u001b[1;3m[{'_key': '266199645221', '_id': 'ChildOf/266199645221', '_from': 'Characters/NedStark', '_to': 'Characters/RickardStark', '_rev': '_gw7CBZe--C'}, {'_key': '266199645221', '_id': 'ChildOf/266199645221', '_from': 'Characters/NedStark', '_to': 'Characters/RickardStark', '_rev': '_gw7CBZe--C'}, {'_key': '266199645221', '_id': 'ChildOf/266199645221', '_from': 'Characters/NedStark', '_to': 'Characters/RickardStark', '_rev': '_gw7CBZe--C'}, {'_key': '266199645221', '_id': 'ChildOf/266199645221', '_from': 'Characters/NedStark', '_to': 'Characters/RickardStark', '_rev': '_gw7CBZe--C'}, {'_key': '266199645221', '_id': 'ChildOf/266199645221', '_from': 'Characters/NedStark', '_to': 'Characters/RickardStark', '_rev': '_gw7CBZe--C'}, {'_key': '266199645221', '_id': 'ChildOf/266199645221', '_from': 'Characters/NedStark', '_to': 'Characters/RickardStark', '_rev': '_gw7CBZe--C'}, {'_key': '266199645221', '_id': 'ChildOf/266199645221', '_from': 'Characters/NedStark', '_to': 'Characters/RickardStark', '_rev': '_gw7CBZe--C'}, {'_key': '266199645221', '_id': 'ChildOf/266199645221', '_from': 'Characters/NedStark', '_to': 'Characters/RickardStark', '_rev': '_gw7CBZe--C'}, {'_key': '266199645221', '_id': 'ChildOf/266199645221', '_from': 'Characters/NedStark', '_to': 'Characters/RickardStark', '_rev': '_gw7CBZe--C'}, {'_key': '266199645221', '_id': 'ChildOf/266199645221', '_from': 'Characters/NedStark', '_to': 'Characters/RickardStark', '_rev': '_gw7CBZe--C'}]\u001b[0m\n",
            "\n",
            "\u001b[1m> Finished chain.\u001b[0m\n"
          ]
        },
        {
          "output_type": "execute_result",
          "data": {
            "text/plain": [
              "'Bran Stark and Rickard Stark are related through Ned Stark. Ned Stark is the son of Rickard Stark and the father of Bran Stark.'"
            ],
            "application/vnd.google.colaboratory.intrinsic+json": {
              "type": "string"
            }
          },
          "metadata": {},
          "execution_count": 40
        }
      ]
    },
    {
      "cell_type": "code",
      "source": [
        "chain.run(\"Are Arya Stark and Ned Stark related?\")"
      ],
      "metadata": {
        "id": "vxZYOwH5ORVp",
        "colab": {
          "base_uri": "https://localhost:8080/",
          "height": 288
        },
        "outputId": "65ff944a-f13d-4e41-9005-8619c1dc02ae"
      },
      "id": "vxZYOwH5ORVp",
      "execution_count": 43,
      "outputs": [
        {
          "output_type": "stream",
          "name": "stdout",
          "text": [
            "\n",
            "\n",
            "\u001b[1m> Entering new ArangoGraphQAChain chain...\u001b[0m\n",
            "AQL Query (1):\u001b[32;1m\u001b[1;3m\n",
            "WITH Characters, ChildOf\n",
            "FOR v, e IN 1..10 ANY 'Characters/AryaStark' ChildOf\n",
            "  FILTER v._key == 'NedStark'\n",
            "  RETURN v\n",
            "\u001b[0m\n",
            "AQL Result:\n",
            "\u001b[32;1m\u001b[1;3m[{'_key': 'NedStark', '_id': 'Characters/NedStark', '_rev': '_gw7CBWu--A', 'name': 'Ned', 'surname': 'Stark', 'alive': True, 'age': 41, 'gender': 'male'}, {'_key': 'NedStark', '_id': 'Characters/NedStark', '_rev': '_gw7CBWu--A', 'name': 'Ned', 'surname': 'Stark', 'alive': True, 'age': 41, 'gender': 'male'}, {'_key': 'NedStark', '_id': 'Characters/NedStark', '_rev': '_gw7CBWu--A', 'name': 'Ned', 'surname': 'Stark', 'alive': True, 'age': 41, 'gender': 'male'}, {'_key': 'NedStark', '_id': 'Characters/NedStark', '_rev': '_gw7CBWu--A', 'name': 'Ned', 'surname': 'Stark', 'alive': True, 'age': 41, 'gender': 'male'}, {'_key': 'NedStark', '_id': 'Characters/NedStark', '_rev': '_gw7CBWu--A', 'name': 'Ned', 'surname': 'Stark', 'alive': True, 'age': 41, 'gender': 'male'}, {'_key': 'NedStark', '_id': 'Characters/NedStark', '_rev': '_gw7CBWu--A', 'name': 'Ned', 'surname': 'Stark', 'alive': True, 'age': 41, 'gender': 'male'}, {'_key': 'NedStark', '_id': 'Characters/NedStark', '_rev': '_gw7CBWu--A', 'name': 'Ned', 'surname': 'Stark', 'alive': True, 'age': 41, 'gender': 'male'}, {'_key': 'NedStark', '_id': 'Characters/NedStark', '_rev': '_gw7CBWu--A', 'name': 'Ned', 'surname': 'Stark', 'alive': True, 'age': 41, 'gender': 'male'}, {'_key': 'NedStark', '_id': 'Characters/NedStark', '_rev': '_gw7CBWu--A', 'name': 'Ned', 'surname': 'Stark', 'alive': True, 'age': 41, 'gender': 'male'}, {'_key': 'NedStark', '_id': 'Characters/NedStark', '_rev': '_gw7CBWu--A', 'name': 'Ned', 'surname': 'Stark', 'alive': True, 'age': 41, 'gender': 'male'}]\u001b[0m\n",
            "\n",
            "\u001b[1m> Finished chain.\u001b[0m\n"
          ]
        },
        {
          "output_type": "execute_result",
          "data": {
            "text/plain": [
              "'Yes, Arya Stark and Ned Stark are related. Ned Stark, who is alive and 41 years old, is a relative of Arya Stark.'"
            ],
            "application/vnd.google.colaboratory.intrinsic+json": {
              "type": "string"
            }
          },
          "metadata": {},
          "execution_count": 43
        }
      ]
    },
    {
      "cell_type": "code",
      "source": [
        "chain.run(\"Is Ned Stark alive?\")"
      ],
      "metadata": {
        "id": "0qYH7IG1OWFm",
        "colab": {
          "base_uri": "https://localhost:8080/",
          "height": 268
        },
        "outputId": "62cf974f-28da-4dc9-e881-1877c59794bc"
      },
      "id": "0qYH7IG1OWFm",
      "execution_count": 44,
      "outputs": [
        {
          "output_type": "stream",
          "name": "stdout",
          "text": [
            "\n",
            "\n",
            "\u001b[1m> Entering new ArangoGraphQAChain chain...\u001b[0m\n",
            "AQL Query (1):\u001b[32;1m\u001b[1;3m\n",
            "WITH Characters\n",
            "FOR character IN Characters\n",
            "    FILTER character._key == 'NedStark'\n",
            "    RETURN character.alive\n",
            "\u001b[0m\n",
            "AQL Result:\n",
            "\u001b[32;1m\u001b[1;3m[True]\u001b[0m\n",
            "\n",
            "\u001b[1m> Finished chain.\u001b[0m\n"
          ]
        },
        {
          "output_type": "execute_result",
          "data": {
            "text/plain": [
              "'Yes, according to the database, Ned Stark is alive.'"
            ],
            "application/vnd.google.colaboratory.intrinsic+json": {
              "type": "string"
            }
          },
          "metadata": {},
          "execution_count": 44
        }
      ]
    },
    {
      "cell_type": "code",
      "source": [
        "chain.run(\"Ned Stark has died. Update the data\")"
      ],
      "metadata": {
        "id": "H_k57SLRODIv",
        "colab": {
          "base_uri": "https://localhost:8080/",
          "height": 232
        },
        "outputId": "dd457f27-2e49-4e5c-de80-9cc004ecf8c5"
      },
      "id": "H_k57SLRODIv",
      "execution_count": 46,
      "outputs": [
        {
          "output_type": "stream",
          "name": "stdout",
          "text": [
            "\n",
            "\n",
            "\u001b[1m> Entering new ArangoGraphQAChain chain...\u001b[0m\n",
            "AQL Query (1):\u001b[32;1m\u001b[1;3m\n",
            "WITH Characters\n",
            "UPDATE \"NedStark\" WITH { alive: false } IN Characters\n",
            "\u001b[0m\n",
            "AQL Result:\n",
            "\u001b[32;1m\u001b[1;3m[]\u001b[0m\n",
            "\n",
            "\u001b[1m> Finished chain.\u001b[0m\n"
          ]
        },
        {
          "output_type": "execute_result",
          "data": {
            "text/plain": [
              "'The data has been updated successfully. Ned Stark is now marked as deceased in the database.'"
            ],
            "application/vnd.google.colaboratory.intrinsic+json": {
              "type": "string"
            }
          },
          "metadata": {},
          "execution_count": 46
        }
      ]
    },
    {
      "cell_type": "code",
      "source": [
        "chain.run(\"How many characters are alive? How many characters are dead?\")"
      ],
      "metadata": {
        "id": "ghVJEfZuOMcK",
        "colab": {
          "base_uri": "https://localhost:8080/",
          "height": 268
        },
        "outputId": "8eee9960-01f4-4bb6-cf0b-819b21eaea90"
      },
      "id": "ghVJEfZuOMcK",
      "execution_count": 48,
      "outputs": [
        {
          "output_type": "stream",
          "name": "stdout",
          "text": [
            "\n",
            "\n",
            "\u001b[1m> Entering new ArangoGraphQAChain chain...\u001b[0m\n",
            "AQL Query (1):\u001b[32;1m\u001b[1;3m\n",
            "WITH Characters\n",
            "FOR character IN Characters\n",
            "    COLLECT status = character.alive WITH COUNT INTO count\n",
            "    RETURN { \"status\": status, \"count\": count }\n",
            "\u001b[0m\n",
            "AQL Result:\n",
            "\u001b[32;1m\u001b[1;3m[{'status': False, 'count': 7}, {'status': True, 'count': 7}]\u001b[0m\n",
            "\n",
            "\u001b[1m> Finished chain.\u001b[0m\n"
          ]
        },
        {
          "output_type": "execute_result",
          "data": {
            "text/plain": [
              "'In the Game of Thrones database, there are 7 characters who are currently alive and 7 characters who are deceased.'"
            ],
            "application/vnd.google.colaboratory.intrinsic+json": {
              "type": "string"
            }
          },
          "metadata": {},
          "execution_count": 48
        }
      ]
    },
    {
      "cell_type": "code",
      "source": [
        "chain.run(\"Is Arya Stark an orphan?\")"
      ],
      "metadata": {
        "id": "NmR7P693ONPl",
        "colab": {
          "base_uri": "https://localhost:8080/",
          "height": 288
        },
        "outputId": "1e59c88e-ab95-40cf-fc95-2dfc1faee66d"
      },
      "id": "NmR7P693ONPl",
      "execution_count": 52,
      "outputs": [
        {
          "output_type": "stream",
          "name": "stdout",
          "text": [
            "\n",
            "\n",
            "\u001b[1m> Entering new ArangoGraphQAChain chain...\u001b[0m\n",
            "AQL Query (1):\u001b[32;1m\u001b[1;3m\n",
            "WITH Characters, ChildOf\n",
            "FOR v, e IN 1..1 ANY 'Characters/AryaStark' ChildOf\n",
            "  FILTER v.alive == false\n",
            "  RETURN v\n",
            "\u001b[0m\n",
            "AQL Result:\n",
            "\u001b[32;1m\u001b[1;3m[{'_key': 'CatelynStark', '_id': 'Characters/CatelynStark', '_rev': '_gw7CBWu--B', 'name': 'Catelyn', 'surname': 'Stark', 'alive': False, 'age': 40, 'gender': 'female'}, {'_key': 'NedStark', '_id': 'Characters/NedStark', '_rev': '_gw7KMqO--_', 'name': 'Ned', 'surname': 'Stark', 'alive': False, 'age': 41, 'gender': 'male'}]\u001b[0m\n",
            "\n",
            "\u001b[1m> Finished chain.\u001b[0m\n"
          ]
        },
        {
          "output_type": "execute_result",
          "data": {
            "text/plain": [
              "'Yes, Arya Stark is an orphan. Both of her parents, Catelyn Stark and Ned Stark, are deceased.'"
            ],
            "application/vnd.google.colaboratory.intrinsic+json": {
              "type": "string"
            }
          },
          "metadata": {},
          "execution_count": 52
        }
      ]
    },
    {
      "cell_type": "markdown",
      "id": "Ob_3aGauGd7d",
      "metadata": {
        "id": "Ob_3aGauGd7d"
      },
      "source": [
        "## Prompt Modifiers"
      ]
    },
    {
      "cell_type": "markdown",
      "id": "3P490E2dGiBp",
      "metadata": {
        "id": "3P490E2dGiBp"
      },
      "source": [
        "You can alter the values of the following `ArangoDBGraphQAChain` class variables to modify the behaviour of your chain results\n"
      ]
    },
    {
      "cell_type": "code",
      "source": [
        "# Notice how the following prompt returns nothing;\n",
        "chain.run(\"Who are the grandchildren of Rickard Stark?\")"
      ],
      "metadata": {
        "id": "Q7zxc0kBPhpg",
        "colab": {
          "base_uri": "https://localhost:8080/",
          "height": 250
        },
        "outputId": "d3568780-931d-43d5-8b10-5a71b306e1ee"
      },
      "id": "Q7zxc0kBPhpg",
      "execution_count": 54,
      "outputs": [
        {
          "output_type": "stream",
          "name": "stdout",
          "text": [
            "\n",
            "\n",
            "\u001b[1m> Entering new ArangoGraphQAChain chain...\u001b[0m\n",
            "AQL Query (1):\u001b[32;1m\u001b[1;3m\n",
            "WITH Characters, ChildOf\n",
            "FOR v, e IN 2..2 OUTBOUND 'Characters/RickardStark' ChildOf\n",
            "RETURN v\n",
            "\u001b[0m\n",
            "AQL Result:\n",
            "\u001b[32;1m\u001b[1;3m[]\u001b[0m\n",
            "\n",
            "\u001b[1m> Finished chain.\u001b[0m\n"
          ]
        },
        {
          "output_type": "execute_result",
          "data": {
            "text/plain": [
              "'Based on the information available, Rickard Stark does not have any grandchildren recorded in the database.'"
            ],
            "application/vnd.google.colaboratory.intrinsic+json": {
              "type": "string"
            }
          },
          "metadata": {},
          "execution_count": 54
        }
      ]
    },
    {
      "cell_type": "code",
      "source": [
        "# A simple reminder to use INBOUND (instead of OUTBOUND) returns the correct result;\n",
        "chain.run(\"Who are the grandchildren of Rickard Stark? Remember to use INBOUND\")"
      ],
      "metadata": {
        "id": "zoxZwQh5Pj4J",
        "colab": {
          "base_uri": "https://localhost:8080/",
          "height": 305
        },
        "outputId": "4cdf5564-5dee-4e1b-e0f1-c3e3f07a8ca9"
      },
      "id": "zoxZwQh5Pj4J",
      "execution_count": 55,
      "outputs": [
        {
          "output_type": "stream",
          "name": "stdout",
          "text": [
            "\n",
            "\n",
            "\u001b[1m> Entering new ArangoGraphQAChain chain...\u001b[0m\n",
            "AQL Query (1):\u001b[32;1m\u001b[1;3m\n",
            "WITH Characters, ChildOf\n",
            "FOR v, e IN 2..2 INBOUND 'Characters/RickardStark' GRAPH 'GameOfThrones'\n",
            "RETURN v\n",
            "\u001b[0m\n",
            "AQL Result:\n",
            "\u001b[32;1m\u001b[1;3m[{'_key': 'JonSnow', '_id': 'Characters/JonSnow', '_rev': '_gw7E4km--A', 'name': 'Jon', 'surname': 'Snow', 'alive': True, 'age': 31, 'gender': 'male'}, {'_key': 'AryaStark', '_id': 'Characters/AryaStark', '_rev': '_gw7CBWu--C', 'name': 'Arya', 'surname': 'Stark', 'alive': True, 'age': 11, 'gender': 'female'}, {'_key': 'SansaStark', '_id': 'Characters/SansaStark', '_rev': '_gw7CBWu--F', 'name': 'Sansa', 'surname': 'Stark', 'alive': True, 'age': 13, 'gender': 'female'}, {'_key': 'RobbStark', '_id': 'Characters/RobbStark', '_rev': '_gw7CBWu--E', 'name': 'Robb', 'surname': 'Stark', 'alive': False, 'age': 16, 'gender': 'male'}, {'_key': 'BranStark', '_id': 'Characters/BranStark', '_rev': '_gw7CBWu--D', 'name': 'Bran', 'surname': 'Stark', 'alive': True, 'age': 10, 'gender': 'male'}]\u001b[0m\n",
            "\n",
            "\u001b[1m> Finished chain.\u001b[0m\n"
          ]
        },
        {
          "output_type": "execute_result",
          "data": {
            "text/plain": [
              "'The grandchildren of Rickard Stark are Jon Snow, Arya Stark, Sansa Stark, Robb Stark, and Bran Stark. Jon Snow is 31 years old and is alive. Arya Stark is 11 years old and is also alive. Sansa Stark is 13 years old and is alive. Robb Stark was 16 years old but is no longer alive. Bran Stark is 10 years old and is alive.'"
            ],
            "application/vnd.google.colaboratory.intrinsic+json": {
              "type": "string"
            }
          },
          "metadata": {},
          "execution_count": 55
        }
      ]
    },
    {
      "cell_type": "code",
      "source": [
        "# We can solidify this pattern by making using of **chain.aql_examples**\n",
        "\n",
        "# The AQL Examples modifier instructs the LLM to adapt its AQL-completion style\n",
        "# to the user’s examples. These examples arepassed to the AQL Generation Prompt\n",
        "# Template to promote few-shot-learning.\n",
        "\n",
        "chain.aql_examples = \"\"\"\n",
        "# Who are the grandchildren of Rickard Stark?\n",
        "WITH Characters, ChildOf\n",
        "FOR v, e IN 2..2 INBOUND 'Characters/RickardStark' ChildOf\n",
        "  RETURN v\n",
        "\n",
        "# Is Ned Stark alive?\n",
        "RETURN DOCUMENT('Characters/NedStark').alive\n",
        "\"\"\"\n",
        "\n",
        "# Note how we are no longer specifying the use of INBOUND\n",
        "chain.run(\"Who is the grandchildren of Tywin Lannister?\")"
      ],
      "metadata": {
        "id": "7WHxkGPPPk8-",
        "colab": {
          "base_uri": "https://localhost:8080/",
          "height": 270
        },
        "outputId": "d927feea-73c1-4f50-db6c-d0b9afbfe8d0"
      },
      "id": "7WHxkGPPPk8-",
      "execution_count": 57,
      "outputs": [
        {
          "output_type": "stream",
          "name": "stdout",
          "text": [
            "\n",
            "\n",
            "\u001b[1m> Entering new ArangoGraphQAChain chain...\u001b[0m\n",
            "AQL Query (1):\u001b[32;1m\u001b[1;3m\n",
            "WITH Characters, ChildOf\n",
            "FOR v, e IN 2..2 INBOUND 'Characters/TywinLannister' ChildOf\n",
            "  RETURN v\n",
            "\u001b[0m\n",
            "AQL Result:\n",
            "\u001b[32;1m\u001b[1;3m[{'_key': 'JoffreyBaratheon', '_id': 'Characters/JoffreyBaratheon', '_rev': '_gw7CBWu--L', 'name': 'Joffrey', 'surname': 'Baratheon', 'alive': False, 'age': 19, 'gender': 'male'}, {'_key': 'JoffreyBaratheon', '_id': 'Characters/JoffreyBaratheon', '_rev': '_gw7CBWu--L', 'name': 'Joffrey', 'surname': 'Baratheon', 'alive': False, 'age': 19, 'gender': 'male'}]\u001b[0m\n",
            "\n",
            "\u001b[1m> Finished chain.\u001b[0m\n"
          ]
        },
        {
          "output_type": "execute_result",
          "data": {
            "text/plain": [
              "'The grandchildren of Tywin Lannister is Joffrey Baratheon.'"
            ],
            "application/vnd.google.colaboratory.intrinsic+json": {
              "type": "string"
            }
          },
          "metadata": {},
          "execution_count": 57
        }
      ]
    },
    {
      "cell_type": "code",
      "execution_count": 58,
      "id": "1B9h3PvzJ41T",
      "metadata": {
        "id": "1B9h3PvzJ41T"
      },
      "outputs": [],
      "source": [
        "# Other modifiers include:\n",
        "\n",
        "# Specify the maximum number of AQL Query Results to return\n",
        "chain.top_k = 5\n",
        "\n",
        "# Specify the maximum amount of AQL Generation attempts that should be made\n",
        "# before returning an error\n",
        "chain.max_aql_generation_attempts = 5\n",
        "\n",
        "# Specify whether or not to return the AQL Query in the output dictionary\n",
        "# Use `chain(\"...\")` instead of `chain.run(\"...\")` to see this change\n",
        "chain.return_aql_query = True\n",
        "\n",
        "# Specify whether or not to return the AQL JSON Result in the output dictionary\n",
        "# Use `chain(\"...\")` instead of `chain.run(\"...\")` to see this change\n",
        "chain.return_aql_result = True"
      ]
    },
    {
      "cell_type": "markdown",
      "source": [
        "## Prompting via Gradio"
      ],
      "metadata": {
        "id": "7waPnt2pLx16"
      },
      "id": "7waPnt2pLx16"
    },
    {
      "cell_type": "code",
      "source": [
        "%%capture\n",
        "!pip install gradio"
      ],
      "metadata": {
        "id": "Cor0i0y4L0s2"
      },
      "id": "Cor0i0y4L0s2",
      "execution_count": 59,
      "outputs": []
    },
    {
      "cell_type": "code",
      "source": [
        "import gradio as gr\n",
        "\n",
        "demo = gr.Interface(chain.run, inputs=gr.Textbox(label=\"Chat\"), outputs=gr.Textbox(label=\"Output\"))\n",
        "\n",
        "demo.launch(share=True)"
      ],
      "metadata": {
        "id": "w_nJmVYPL3Ub",
        "colab": {
          "base_uri": "https://localhost:8080/",
          "height": 612
        },
        "outputId": "1d46ed94-ab75-48ea-cb3d-9eac637da41c"
      },
      "id": "w_nJmVYPL3Ub",
      "execution_count": 60,
      "outputs": [
        {
          "output_type": "stream",
          "name": "stdout",
          "text": [
            "Colab notebook detected. To show errors in colab notebook, set debug=True in launch()\n",
            "Running on public URL: https://5c781b651452226c9f.gradio.live\n",
            "\n",
            "This share link expires in 72 hours. For free permanent hosting and GPU upgrades, run `gradio deploy` from Terminal to deploy to Spaces (https://huggingface.co/spaces)\n"
          ]
        },
        {
          "output_type": "display_data",
          "data": {
            "text/plain": [
              "<IPython.core.display.HTML object>"
            ],
            "text/html": [
              "<div><iframe src=\"https://5c781b651452226c9f.gradio.live\" width=\"100%\" height=\"500\" allow=\"autoplay; camera; microphone; clipboard-read; clipboard-write;\" frameborder=\"0\" allowfullscreen></iframe></div>"
            ]
          },
          "metadata": {}
        },
        {
          "output_type": "execute_result",
          "data": {
            "text/plain": []
          },
          "metadata": {},
          "execution_count": 60
        }
      ]
    }
  ],
  "metadata": {
    "colab": {
      "collapsed_sections": [
        "WejTADc2L72f",
        "MdTyIwWeL953",
        "Ob_3aGauGd7d",
        "7waPnt2pLx16"
      ],
      "provenance": []
    },
    "kernelspec": {
      "display_name": "Python 3 (ipykernel)",
      "language": "python",
      "name": "python3"
    },
    "language_info": {
      "codemirror_mode": {
        "name": "ipython",
        "version": 3
      },
      "file_extension": ".py",
      "mimetype": "text/x-python",
      "name": "python",
      "nbconvert_exporter": "python",
      "pygments_lexer": "ipython3",
      "version": "3.8.8"
    }
  },
  "nbformat": 4,
  "nbformat_minor": 5
}