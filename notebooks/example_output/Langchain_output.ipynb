{
  "cells": [
    {
      "cell_type": "markdown",
      "id": "c94240f5",
      "metadata": {
        "id": "c94240f5"
      },
      "source": [
        "# ArangoDB + LangChain\n",
        "\n",
        "[![Open In Collab](https://colab.research.google.com/assets/colab-badge.svg)](https://colab.research.google.com/github/arangodb/interactive_tutorials/blob/master/notebooks/Langchain.ipynb)\n",
        "\n",
        "Large language models (LLMs) are emerging as a transformative technology, enabling developers to build applications that they previously could not. However, using these LLMs in isolation is often insufficient for creating a truly powerful app - the real power comes when you can combine them with other sources of computation or knowledge.\n",
        "\n",
        "[LangChain](https://www.langchain.com/) is a framework for developing applications powered by language models. It enables applications that are:\n",
        "- Data-aware: connect a language model to other sources of data\n",
        "- Agentic: allow a language model to interact with its environment\n",
        "\n",
        "On July 25 2023, ArangoDB introduced the first release of the [ArangoGraphQAChain](https://langchain-langchain.vercel.app/docs/integrations/providers/arangodb) to the LangChain community, allowing you to leverage LLMs to provide a natural language interface for your ArangoDB data.\n",
        "\n",
        "Please note: This notebook uses the LangChain `ChatOpenAI` wrapper, which requires you to have a **paid** [OpenAI API Key](https://help.openai.com/en/articles/4936850-where-do-i-find-my-secret-api-key). However, other Chat Models are available as well: https://github.com/langchain-ai/langchain/tree/master/libs/langchain/langchain/chat_models "
      ]
    },
    {
      "cell_type": "markdown",
      "id": "dbc0ee68",
      "metadata": {
        "id": "dbc0ee68"
      },
      "source": [
        "You can get a local ArangoDB instance running via the [ArangoDB Docker image](https://hub.docker.com/_/arangodb):  \n",
        "\n",
        "```\n",
        "docker run -p 8529:8529 -e ARANGO_ROOT_PASSWORD= arangodb/arangodb\n",
        "```\n",
        "\n",
        "An alternative is to use the [ArangoDB Cloud Connector package](https://github.com/arangodb/adb-cloud-connector#readme) to get a temporary cloud instance running:"
      ]
    },
    {
      "cell_type": "code",
      "execution_count": 1,
      "id": "izi6YoFC8KRH",
      "metadata": {
        "id": "izi6YoFC8KRH"
      },
      "outputs": [],
      "source": [
        "%%capture\n",
        "!pip install python-arango # The ArangoDB Python Driver\n",
        "!pip install adb-cloud-connector # The ArangoDB Cloud Instance provisioner\n",
        "!pip install openai\n",
        "!pip install langchain==0.0.242"
      ]
    },
    {
      "cell_type": "code",
      "execution_count": 2,
      "id": "62812aad",
      "metadata": {
        "colab": {
          "base_uri": "https://localhost:8080/"
        },
        "id": "62812aad",
        "outputId": "7476c894-2de9-43bc-cee9-28b4a22cc620"
      },
      "outputs": [
        {
          "name": "stdout",
          "output_type": "stream",
          "text": [
            "Log: requesting new credentials...\n",
            "Succcess: new credentials acquired\n",
            "{\n",
            "  \"dbName\": \"TUTn5g8q1l6xwbxpo4v8tjpr9\",\n",
            "  \"username\": \"TUTil17b1x7h8uyp4q99qign\",\n",
            "  \"password\": \"TUTsix7e9lh57pg2mton2hhns\",\n",
            "  \"hostname\": \"tutorials.arangodb.cloud\",\n",
            "  \"port\": 8529,\n",
            "  \"url\": \"https://tutorials.arangodb.cloud:8529\"\n",
            "}\n"
          ]
        }
      ],
      "source": [
        "# Instantiate ArangoDB Database\n",
        "import json\n",
        "from arango import ArangoClient\n",
        "from adb_cloud_connector import get_temp_credentials\n",
        "\n",
        "con = get_temp_credentials(tutorialName=\"LangChain\")\n",
        "\n",
        "db = ArangoClient(hosts=con[\"url\"]).db(\n",
        "    con[\"dbName\"], con[\"username\"], con[\"password\"], verify=True\n",
        ")\n",
        "\n",
        "print(json.dumps(con, indent=2))"
      ]
    },
    {
      "cell_type": "code",
      "execution_count": 3,
      "id": "0928915d",
      "metadata": {
        "id": "0928915d"
      },
      "outputs": [],
      "source": [
        "# Instantiate the ArangoDB-LangChain Graph\n",
        "from langchain.graphs import ArangoGraph\n",
        "\n",
        "graph = ArangoGraph(db)"
      ]
    },
    {
      "cell_type": "markdown",
      "id": "995ea9b9",
      "metadata": {
        "id": "995ea9b9"
      },
      "source": [
        "## Populating the Database\n",
        "\n",
        "We will rely on the Python Driver to import our [GameOfThrones](https://github.com/arangodb/example-datasets/tree/master/GameOfThrones) data into our database."
      ]
    },
    {
      "cell_type": "code",
      "execution_count": 4,
      "id": "fedd26b9",
      "metadata": {
        "colab": {
          "base_uri": "https://localhost:8080/"
        },
        "id": "fedd26b9",
        "outputId": "7cc2fad3-77df-4fee-e08c-c8b654b7a959"
      },
      "outputs": [
        {
          "data": {
            "text/plain": [
              "{'error': False,\n",
              " 'created': 4,\n",
              " 'errors': 0,\n",
              " 'empty': 0,\n",
              " 'updated': 0,\n",
              " 'ignored': 0,\n",
              " 'details': []}"
            ]
          },
          "execution_count": 4,
          "metadata": {},
          "output_type": "execute_result"
        }
      ],
      "source": [
        "if db.has_graph(\"GameOfThrones\"):\n",
        "    db.delete_graph(\"GameOfThrones\", drop_collections=True)\n",
        "\n",
        "db.create_graph(\n",
        "    \"GameOfThrones\",\n",
        "    edge_definitions=[\n",
        "        {\n",
        "            \"edge_collection\": \"ChildOf\",\n",
        "            \"from_vertex_collections\": [\"Characters\"],\n",
        "            \"to_vertex_collections\": [\"Characters\"],\n",
        "        },\n",
        "    ],\n",
        ")\n",
        "\n",
        "documents = [\n",
        "    {\n",
        "        \"_key\": \"NedStark\",\n",
        "        \"name\": \"Ned\",\n",
        "        \"surname\": \"Stark\",\n",
        "        \"alive\": True,\n",
        "        \"age\": 41,\n",
        "        \"gender\": \"male\",\n",
        "    },\n",
        "    {\n",
        "        \"_key\": \"CatelynStark\",\n",
        "        \"name\": \"Catelyn\",\n",
        "        \"surname\": \"Stark\",\n",
        "        \"alive\": False,\n",
        "        \"age\": 40,\n",
        "        \"gender\": \"female\",\n",
        "    },\n",
        "    {\n",
        "        \"_key\": \"AryaStark\",\n",
        "        \"name\": \"Arya\",\n",
        "        \"surname\": \"Stark\",\n",
        "        \"alive\": True,\n",
        "        \"age\": 11,\n",
        "        \"gender\": \"female\",\n",
        "    },\n",
        "    {\n",
        "        \"_key\": \"BranStark\",\n",
        "        \"name\": \"Bran\",\n",
        "        \"surname\": \"Stark\",\n",
        "        \"alive\": True,\n",
        "        \"age\": 10,\n",
        "        \"gender\": \"male\",\n",
        "    },\n",
        "]\n",
        "\n",
        "edges = [\n",
        "    {\"_to\": \"Characters/NedStark\", \"_from\": \"Characters/AryaStark\"},\n",
        "    {\"_to\": \"Characters/NedStark\", \"_from\": \"Characters/BranStark\"},\n",
        "    {\"_to\": \"Characters/CatelynStark\", \"_from\": \"Characters/AryaStark\"},\n",
        "    {\"_to\": \"Characters/CatelynStark\", \"_from\": \"Characters/BranStark\"},\n",
        "]\n",
        "\n",
        "db.collection(\"Characters\").import_bulk(documents)\n",
        "db.collection(\"ChildOf\").import_bulk(edges)"
      ]
    },
    {
      "cell_type": "markdown",
      "id": "58c1a8ea",
      "metadata": {
        "id": "58c1a8ea"
      },
      "source": [
        "## Getting & Setting the ArangoDB Schema\n",
        "\n",
        "An initial ArangoDB Schema is generated upon instantiating the `ArangoDBGraph` object. Below are the schema's getter & setter methods should you be interested in viewing or modifying the schema:"
      ]
    },
    {
      "cell_type": "code",
      "execution_count": 5,
      "id": "4e3de44f",
      "metadata": {
        "colab": {
          "base_uri": "https://localhost:8080/"
        },
        "id": "4e3de44f",
        "outputId": "f096e3d2-aa7e-40e6-85c7-b66bc994feb7"
      },
      "outputs": [
        {
          "name": "stdout",
          "output_type": "stream",
          "text": [
            "{\n",
            "    \"Graph Schema\": [],\n",
            "    \"Collection Schema\": []\n",
            "}\n"
          ]
        }
      ],
      "source": [
        "# The schema should be empty here,\n",
        "# since `graph` was initialized prior to ArangoDB Data ingestion (see above).\n",
        "\n",
        "import json\n",
        "\n",
        "print(json.dumps(graph.schema, indent=4))"
      ]
    },
    {
      "cell_type": "code",
      "execution_count": 6,
      "id": "1fe76ccd",
      "metadata": {
        "id": "1fe76ccd"
      },
      "outputs": [],
      "source": [
        "graph.set_schema()"
      ]
    },
    {
      "cell_type": "code",
      "execution_count": 7,
      "id": "mZ679anj_-Er",
      "metadata": {
        "colab": {
          "base_uri": "https://localhost:8080/"
        },
        "id": "mZ679anj_-Er",
        "outputId": "f688fbcc-c796-4381-a14b-8f9fcbfa5e7c"
      },
      "outputs": [
        {
          "name": "stdout",
          "output_type": "stream",
          "text": [
            "{\n",
            "    \"Graph Schema\": [\n",
            "        {\n",
            "            \"graph_name\": \"GameOfThrones\",\n",
            "            \"edge_definitions\": [\n",
            "                {\n",
            "                    \"edge_collection\": \"ChildOf\",\n",
            "                    \"from_vertex_collections\": [\n",
            "                        \"Characters\"\n",
            "                    ],\n",
            "                    \"to_vertex_collections\": [\n",
            "                        \"Characters\"\n",
            "                    ]\n",
            "                }\n",
            "            ]\n",
            "        }\n",
            "    ],\n",
            "    \"Collection Schema\": [\n",
            "        {\n",
            "            \"collection_name\": \"ChildOf\",\n",
            "            \"collection_type\": \"edge\",\n",
            "            \"edge_properties\": [\n",
            "                {\n",
            "                    \"name\": \"_key\",\n",
            "                    \"type\": \"str\"\n",
            "                },\n",
            "                {\n",
            "                    \"name\": \"_id\",\n",
            "                    \"type\": \"str\"\n",
            "                },\n",
            "                {\n",
            "                    \"name\": \"_from\",\n",
            "                    \"type\": \"str\"\n",
            "                },\n",
            "                {\n",
            "                    \"name\": \"_to\",\n",
            "                    \"type\": \"str\"\n",
            "                },\n",
            "                {\n",
            "                    \"name\": \"_rev\",\n",
            "                    \"type\": \"str\"\n",
            "                }\n",
            "            ],\n",
            "            \"example_edge\": {\n",
            "                \"_key\": \"63349997\",\n",
            "                \"_id\": \"ChildOf/63349997\",\n",
            "                \"_from\": \"Characters/AryaStark\",\n",
            "                \"_to\": \"Characters/NedStark\",\n",
            "                \"_rev\": \"_gd7CuNi---\"\n",
            "            }\n",
            "        },\n",
            "        {\n",
            "            \"collection_name\": \"Characters\",\n",
            "            \"collection_type\": \"document\",\n",
            "            \"document_properties\": [\n",
            "                {\n",
            "                    \"name\": \"_key\",\n",
            "                    \"type\": \"str\"\n",
            "                },\n",
            "                {\n",
            "                    \"name\": \"_id\",\n",
            "                    \"type\": \"str\"\n",
            "                },\n",
            "                {\n",
            "                    \"name\": \"_rev\",\n",
            "                    \"type\": \"str\"\n",
            "                },\n",
            "                {\n",
            "                    \"name\": \"name\",\n",
            "                    \"type\": \"str\"\n",
            "                },\n",
            "                {\n",
            "                    \"name\": \"surname\",\n",
            "                    \"type\": \"str\"\n",
            "                },\n",
            "                {\n",
            "                    \"name\": \"alive\",\n",
            "                    \"type\": \"bool\"\n",
            "                },\n",
            "                {\n",
            "                    \"name\": \"age\",\n",
            "                    \"type\": \"int\"\n",
            "                },\n",
            "                {\n",
            "                    \"name\": \"gender\",\n",
            "                    \"type\": \"str\"\n",
            "                }\n",
            "            ],\n",
            "            \"example_document\": {\n",
            "                \"_key\": \"NedStark\",\n",
            "                \"_id\": \"Characters/NedStark\",\n",
            "                \"_rev\": \"_gd7CuMK---\",\n",
            "                \"name\": \"Ned\",\n",
            "                \"surname\": \"Stark\",\n",
            "                \"alive\": true,\n",
            "                \"age\": 41,\n",
            "                \"gender\": \"male\"\n",
            "            }\n",
            "        }\n",
            "    ]\n",
            "}\n"
          ]
        }
      ],
      "source": [
        "# We can now view the generated schema\n",
        "\n",
        "import json\n",
        "\n",
        "print(json.dumps(graph.schema, indent=4))"
      ]
    },
    {
      "cell_type": "markdown",
      "id": "68a3c677",
      "metadata": {
        "id": "68a3c677"
      },
      "source": [
        "## Querying the ArangoDB Database\n",
        "\n",
        "We can now use the ArangoDB Graph QA Chain to inquire about our data\n",
        "\n",
        "Please note: This notebook uses the LangChain `ChatOpenAI` wrapper, which requires you to have a **paid** [OpenAI API Key](https://help.openai.com/en/articles/4936850-where-do-i-find-my-secret-api-key)."
      ]
    },
    {
      "cell_type": "code",
      "execution_count": 8,
      "id": "635c4018",
      "metadata": {
        "id": "635c4018"
      },
      "outputs": [],
      "source": [
        "import os\n",
        "\n",
        "os.environ[\"OPENAI_API_KEY\"] = \"your-key-here\""
      ]
    },
    {
      "cell_type": "code",
      "execution_count": 9,
      "id": "7476ce98",
      "metadata": {
        "id": "7476ce98"
      },
      "outputs": [],
      "source": [
        "from langchain.chat_models import ChatOpenAI\n",
        "from langchain.chains import ArangoGraphQAChain\n",
        "\n",
        "chain = ArangoGraphQAChain.from_llm(\n",
        "    ChatOpenAI(temperature=0), graph=graph, verbose=True\n",
        ")"
      ]
    },
    {
      "cell_type": "code",
      "execution_count": 10,
      "id": "ef8ee27b",
      "metadata": {
        "colab": {
          "base_uri": "https://localhost:8080/",
          "height": 261
        },
        "id": "ef8ee27b",
        "outputId": "92770e47-8a5c-42ed-e1b1-0f0beafd27b0"
      },
      "outputs": [
        {
          "name": "stdout",
          "output_type": "stream",
          "text": [
            "\n",
            "\n",
            "\u001b[1m> Entering new ArangoGraphQAChain chain...\u001b[0m\n",
            "AQL Query (1):\u001b[32;1m\u001b[1;3m\n",
            "WITH Characters\n",
            "FOR character IN Characters\n",
            "FILTER character.name == \"Ned\" && character.surname == \"Stark\"\n",
            "RETURN character.alive\n",
            "\u001b[0m\n",
            "AQL Result:\n",
            "\u001b[32;1m\u001b[1;3m[True]\u001b[0m\n",
            "\n",
            "\u001b[1m> Finished chain.\u001b[0m\n"
          ]
        },
        {
          "data": {
            "application/vnd.google.colaboratory.intrinsic+json": {
              "type": "string"
            },
            "text/plain": [
              "'Ned Stark is alive.'"
            ]
          },
          "execution_count": 10,
          "metadata": {},
          "output_type": "execute_result"
        }
      ],
      "source": [
        "chain.run(\"Is Ned Stark alive?\")"
      ]
    },
    {
      "cell_type": "code",
      "execution_count": 11,
      "id": "9CSig1BgA76q",
      "metadata": {
        "colab": {
          "base_uri": "https://localhost:8080/",
          "height": 278
        },
        "id": "9CSig1BgA76q",
        "outputId": "eafcf3e3-3582-41bf-ace8-ef206271c805"
      },
      "outputs": [
        {
          "name": "stdout",
          "output_type": "stream",
          "text": [
            "\n",
            "\n",
            "\u001b[1m> Entering new ArangoGraphQAChain chain...\u001b[0m\n",
            "AQL Query (1):\u001b[32;1m\u001b[1;3m\n",
            "WITH Characters\n",
            "FOR character IN Characters\n",
            "SORT character.age DESC\n",
            "LIMIT 1\n",
            "RETURN character\n",
            "\u001b[0m\n",
            "AQL Result:\n",
            "\u001b[32;1m\u001b[1;3m[{'_key': 'NedStark', '_id': 'Characters/NedStark', '_rev': '_gd7CuMK---', 'name': 'Ned', 'surname': 'Stark', 'alive': True, 'age': 41, 'gender': 'male'}]\u001b[0m\n",
            "\n",
            "\u001b[1m> Finished chain.\u001b[0m\n"
          ]
        },
        {
          "data": {
            "application/vnd.google.colaboratory.intrinsic+json": {
              "type": "string"
            },
            "text/plain": [
              "'The oldest character in the database is Ned Stark. He is a male character who is currently alive and is 41 years old.'"
            ]
          },
          "execution_count": 11,
          "metadata": {},
          "output_type": "execute_result"
        }
      ],
      "source": [
        "chain.run(\"Who is the oldest character\")"
      ]
    },
    {
      "cell_type": "code",
      "execution_count": 12,
      "id": "9Fzdic_pA_4y",
      "metadata": {
        "colab": {
          "base_uri": "https://localhost:8080/",
          "height": 278
        },
        "id": "9Fzdic_pA_4y",
        "outputId": "ca13343d-6e45-42f1-bb38-56e04d826a67"
      },
      "outputs": [
        {
          "name": "stdout",
          "output_type": "stream",
          "text": [
            "\n",
            "\n",
            "\u001b[1m> Entering new ArangoGraphQAChain chain...\u001b[0m\n",
            "AQL Query (1):\u001b[32;1m\u001b[1;3m\n",
            "WITH Characters, ChildOf\n",
            "FOR v, e IN 1..1 OUTBOUND 'Characters/AryaStark' ChildOf\n",
            "FILTER v.alive == false\n",
            "RETURN e\n",
            "\u001b[0m\n",
            "AQL Result:\n",
            "\u001b[32;1m\u001b[1;3m[{'_key': '63349999', '_id': 'ChildOf/63349999', '_from': 'Characters/AryaStark', '_to': 'Characters/CatelynStark', '_rev': '_gd7CuNi--A'}]\u001b[0m\n",
            "\n",
            "\u001b[1m> Finished chain.\u001b[0m\n"
          ]
        },
        {
          "data": {
            "application/vnd.google.colaboratory.intrinsic+json": {
              "type": "string"
            },
            "text/plain": [
              "'Yes, Arya Stark does have a dead parent. According to the information in the database, Arya Stark is connected to Catelyn Stark through the \"ChildOf\" relationship. The result of the query shows that there is an edge between Arya Stark and Catelyn Stark, indicating that Catelyn Stark is Arya\\'s parent.'"
            ]
          },
          "execution_count": 12,
          "metadata": {},
          "output_type": "execute_result"
        }
      ],
      "source": [
        "chain.run(\"Does Arya Stark have a dead parent?\")"
      ]
    },
    {
      "cell_type": "code",
      "execution_count": 13,
      "id": "zq_oeDpAOXpF",
      "metadata": {
        "colab": {
          "base_uri": "https://localhost:8080/",
          "height": 281
        },
        "id": "zq_oeDpAOXpF",
        "outputId": "6780703b-67ec-4778-9f87-c07774f05f8d"
      },
      "outputs": [
        {
          "name": "stdout",
          "output_type": "stream",
          "text": [
            "\n",
            "\n",
            "\u001b[1m> Entering new ArangoGraphQAChain chain...\u001b[0m\n",
            "AQL Query (1):\u001b[32;1m\u001b[1;3m\n",
            "WITH Characters, ChildOf\n",
            "FOR v, e, p IN 1..1 OUTBOUND 'Characters/AryaStark' ChildOf\n",
            "    FILTER p.vertices[1]._key == 'NedStark'\n",
            "    RETURN p\n",
            "\u001b[0m\n",
            "AQL Result:\n",
            "\u001b[32;1m\u001b[1;3m[{'vertices': [{'_key': 'AryaStark', '_id': 'Characters/AryaStark', '_rev': '_gd7CuMK--A', 'name': 'Arya', 'surname': 'Stark', 'alive': True, 'age': 11, 'gender': 'female'}, {'_key': 'NedStark', '_id': 'Characters/NedStark', '_rev': '_gd7CuMK---', 'name': 'Ned', 'surname': 'Stark', 'alive': True, 'age': 41, 'gender': 'male'}], 'edges': [{'_key': '63349997', '_id': 'ChildOf/63349997', '_from': 'Characters/AryaStark', '_to': 'Characters/NedStark', '_rev': '_gd7CuNi---'}], 'weights': [0, 1]}]\u001b[0m\n",
            "\n",
            "\u001b[1m> Finished chain.\u001b[0m\n"
          ]
        },
        {
          "data": {
            "application/vnd.google.colaboratory.intrinsic+json": {
              "type": "string"
            },
            "text/plain": [
              "'Yes, Arya Stark and Ned Stark are related. They are connected through the \"ChildOf\" relationship. Arya Stark is the child of Ned Stark.'"
            ]
          },
          "execution_count": 13,
          "metadata": {},
          "output_type": "execute_result"
        }
      ],
      "source": [
        "chain.run(\"Are Arya Stark and Ned Stark related?\")"
      ]
    },
    {
      "cell_type": "code",
      "execution_count": 14,
      "id": "Qfi_e1_P_tKj",
      "metadata": {
        "colab": {
          "base_uri": "https://localhost:8080/",
          "height": 278
        },
        "id": "Qfi_e1_P_tKj",
        "outputId": "cc3e39b9-de46-4fba-b50b-4c712ef32aae"
      },
      "outputs": [
        {
          "name": "stdout",
          "output_type": "stream",
          "text": [
            "\n",
            "\n",
            "\u001b[1m> Entering new ArangoGraphQAChain chain...\u001b[0m\n",
            "AQL Query (1):\u001b[32;1m\u001b[1;3m\n",
            "WITH Characters, ChildOf\n",
            "FOR v, e, p IN 1..1 INBOUND 'Characters/NedStark' ChildOf\n",
            "SORT v.age ASC\n",
            "LIMIT 1\n",
            "RETURN v\n",
            "\u001b[0m\n",
            "AQL Result:\n",
            "\u001b[32;1m\u001b[1;3m[{'_key': 'BranStark', '_id': 'Characters/BranStark', '_rev': '_gd7CuMK--C', 'name': 'Bran', 'surname': 'Stark', 'alive': True, 'age': 10, 'gender': 'male'}]\u001b[0m\n",
            "\n",
            "\u001b[1m> Finished chain.\u001b[0m\n"
          ]
        },
        {
          "data": {
            "application/vnd.google.colaboratory.intrinsic+json": {
              "type": "string"
            },
            "text/plain": [
              "'The youngest child of Ned Stark is Bran Stark. He is 10 years old and is alive.'"
            ]
          },
          "execution_count": 14,
          "metadata": {},
          "output_type": "execute_result"
        }
      ],
      "source": [
        "chain.run(\"Who is the youngest child of Ned Stark? Use INBOUND\")"
      ]
    },
    {
      "cell_type": "code",
      "execution_count": 15,
      "id": "pjTLW6ct_71q",
      "metadata": {
        "colab": {
          "base_uri": "https://localhost:8080/",
          "height": 348
        },
        "id": "pjTLW6ct_71q",
        "outputId": "a998b139-eb3b-4d51-a038-d643d2dae1b7"
      },
      "outputs": [
        {
          "name": "stdout",
          "output_type": "stream",
          "text": [
            "\n",
            "\n",
            "\u001b[1m> Entering new ArangoGraphQAChain chain...\u001b[0m\n",
            "AQL Query (1):\u001b[32;1m\u001b[1;3m\n",
            "WITH Characters\n",
            "INSERT {\n",
            "  \"_key\": \"JohnSnow\",\n",
            "  \"name\": \"John\",\n",
            "  \"surname\": \"Snow\",\n",
            "  \"alive\": true,\n",
            "  \"age\": 31,\n",
            "  \"gender\": \"male\"\n",
            "} INTO Characters\n",
            "\u001b[0m\n",
            "AQL Result:\n",
            "\u001b[32;1m\u001b[1;3m[]\u001b[0m\n",
            "\n",
            "\u001b[1m> Finished chain.\u001b[0m\n"
          ]
        },
        {
          "data": {
            "application/vnd.google.colaboratory.intrinsic+json": {
              "type": "string"
            },
            "text/plain": [
              "'Summary: \\nJohn Snow has been successfully added as a new male character with an age of 31.'"
            ]
          },
          "execution_count": 15,
          "metadata": {},
          "output_type": "execute_result"
        }
      ],
      "source": [
        "chain.run(\"Add John Snow as a new male character (age 31)\")"
      ]
    },
    {
      "cell_type": "code",
      "execution_count": 16,
      "id": "-VfkVtt4_9FK",
      "metadata": {
        "colab": {
          "base_uri": "https://localhost:8080/",
          "height": 348
        },
        "id": "-VfkVtt4_9FK",
        "outputId": "39ef638a-0136-4ad7-ee87-6ae96df95c35"
      },
      "outputs": [
        {
          "name": "stdout",
          "output_type": "stream",
          "text": [
            "\n",
            "\n",
            "\u001b[1m> Entering new ArangoGraphQAChain chain...\u001b[0m\n",
            "AQL Query (1):\u001b[32;1m\u001b[1;3m\n",
            "WITH Characters\n",
            "INSERT {\n",
            "  \"_key\": \"EddardStark\",\n",
            "  \"name\": \"Eddard\",\n",
            "  \"surname\": \"Stark\",\n",
            "  \"alive\": true,\n",
            "  \"age\": 60,\n",
            "  \"gender\": \"male\"\n",
            "} INTO Characters\n",
            "\u001b[0m\n",
            "AQL Result:\n",
            "\u001b[32;1m\u001b[1;3m[]\u001b[0m\n",
            "\n",
            "\u001b[1m> Finished chain.\u001b[0m\n"
          ]
        },
        {
          "data": {
            "application/vnd.google.colaboratory.intrinsic+json": {
              "type": "string"
            },
            "text/plain": [
              "'Based on your request, I have successfully added a new character named Eddard Stark to the database. Eddard Stark is a 60-year-old male.'"
            ]
          },
          "execution_count": 16,
          "metadata": {},
          "output_type": "execute_result"
        }
      ],
      "source": [
        "chain.run(\"Add Eddard Stark, a 60-year old male\")"
      ]
    },
    {
      "cell_type": "code",
      "execution_count": 17,
      "id": "89-QJ87m__ol",
      "metadata": {
        "colab": {
          "base_uri": "https://localhost:8080/",
          "height": 278
        },
        "id": "89-QJ87m__ol",
        "outputId": "b12d6f23-a90a-4f14-b6f7-446c50387daa"
      },
      "outputs": [
        {
          "name": "stdout",
          "output_type": "stream",
          "text": [
            "\n",
            "\n",
            "\u001b[1m> Entering new ArangoGraphQAChain chain...\u001b[0m\n",
            "AQL Query (1):\u001b[32;1m\u001b[1;3m\n",
            "WITH Characters, ChildOf\n",
            "INSERT {\n",
            "  \"_from\": \"Characters/JohnSnow\",\n",
            "  \"_to\": \"Characters/EddardStark\"\n",
            "} INTO ChildOf\n",
            "\u001b[0m\n",
            "AQL Result:\n",
            "\u001b[32;1m\u001b[1;3m[]\u001b[0m\n",
            "\n",
            "\u001b[1m> Finished chain.\u001b[0m\n"
          ]
        },
        {
          "data": {
            "application/vnd.google.colaboratory.intrinsic+json": {
              "type": "string"
            },
            "text/plain": [
              "'A ChildOf edge has been successfully created from the character John Snow to Eddard Stark.'"
            ]
          },
          "execution_count": 17,
          "metadata": {},
          "output_type": "execute_result"
        }
      ],
      "source": [
        "chain.run(\"Create a ChildOf edge from Characters/JohnSnow to Characters/EddardStark\")"
      ]
    },
    {
      "cell_type": "code",
      "execution_count": 18,
      "id": "MV6ENBJVAB-w",
      "metadata": {
        "colab": {
          "base_uri": "https://localhost:8080/",
          "height": 420
        },
        "id": "MV6ENBJVAB-w",
        "outputId": "b0d0ea76-3dd1-4a2e-ab93-cc751d746b8d"
      },
      "outputs": [
        {
          "name": "stdout",
          "output_type": "stream",
          "text": [
            "\n",
            "\n",
            "\u001b[1m> Entering new ArangoGraphQAChain chain...\u001b[0m\n",
            "AQL Query (1):\u001b[32;1m\u001b[1;3m\n",
            "WITH Characters\n",
            "RETURN Characters\n",
            "\u001b[0m\n",
            "AQL Query Execution Error: \n",
            "\u001b[33;1m\u001b[1;3mAQL: collection 'Characters' used as expression operand (while instantiating plan)\u001b[0m\n",
            "\n",
            "AQL Query (2):\u001b[32;1m\u001b[1;3m\n",
            "FOR character IN Characters\n",
            "RETURN character\n",
            "\u001b[0m\n",
            "AQL Result:\n",
            "\u001b[32;1m\u001b[1;3m[{'_key': 'NedStark', '_id': 'Characters/NedStark', '_rev': '_gd7CuMK---', 'name': 'Ned', 'surname': 'Stark', 'alive': True, 'age': 41, 'gender': 'male'}, {'_key': 'CatelynStark', '_id': 'Characters/CatelynStark', '_rev': '_gd7CuMK--_', 'name': 'Catelyn', 'surname': 'Stark', 'alive': False, 'age': 40, 'gender': 'female'}, {'_key': 'AryaStark', '_id': 'Characters/AryaStark', '_rev': '_gd7CuMK--A', 'name': 'Arya', 'surname': 'Stark', 'alive': True, 'age': 11, 'gender': 'female'}, {'_key': 'BranStark', '_id': 'Characters/BranStark', '_rev': '_gd7CuMK--C', 'name': 'Bran', 'surname': 'Stark', 'alive': True, 'age': 10, 'gender': 'male'}, {'_key': 'JohnSnow', '_id': 'Characters/JohnSnow', '_rev': '_gd7D_zy--A', 'name': 'John', 'surname': 'Snow', 'alive': True, 'age': 31, 'gender': 'male'}, {'_key': 'EddardStark', '_id': 'Characters/EddardStark', '_rev': '_gd7DDQe--A', 'name': 'Eddard', 'surname': 'Stark', 'alive': True, 'age': 60, 'gender': 'male'}]\u001b[0m\n",
            "\n",
            "\u001b[1m> Finished chain.\u001b[0m\n"
          ]
        },
        {
          "data": {
            "application/vnd.google.colaboratory.intrinsic+json": {
              "type": "string"
            },
            "text/plain": [
              "'The characters in the database include Ned Stark, Catelyn Stark, Arya Stark, Bran Stark, Jon Snow, and Eddard Stark. Ned Stark is a male character who is alive and 41 years old. Catelyn Stark is a female character who is deceased and 40 years old. Arya Stark is a female character who is alive and 11 years old. Bran Stark is a male character who is alive and 10 years old. Jon Snow is a male character who is alive and 31 years old. Eddard Stark is a male character who is alive and 60 years old.'"
            ]
          },
          "execution_count": 18,
          "metadata": {},
          "output_type": "execute_result"
        }
      ],
      "source": [
        "chain.run(\"What can you tell me about the characters?\")"
      ]
    },
    {
      "cell_type": "code",
      "execution_count": 19,
      "id": "_2maN0_sAFCO",
      "metadata": {
        "colab": {
          "base_uri": "https://localhost:8080/",
          "height": 402
        },
        "id": "_2maN0_sAFCO",
        "outputId": "53285a6f-97cf-4985-9a66-d89ec9679b68"
      },
      "outputs": [
        {
          "name": "stdout",
          "output_type": "stream",
          "text": [
            "\n",
            "\n",
            "\u001b[1m> Entering new ArangoGraphQAChain chain...\u001b[0m\n",
            "AQL Query (1):\u001b[32;1m\u001b[1;3m\n",
            "WITH ChildOf\n",
            "RETURN ChildOf\n",
            "\u001b[0m\n",
            "AQL Query Execution Error: \n",
            "\u001b[33;1m\u001b[1;3mAQL: collection 'ChildOf' used as expression operand (while instantiating plan)\u001b[0m\n",
            "\n",
            "AQL Query (2):\u001b[32;1m\u001b[1;3m\n",
            "FOR c IN ChildOf\n",
            "RETURN c\n",
            "\u001b[0m\n",
            "AQL Result:\n",
            "\u001b[32;1m\u001b[1;3m[{'_key': '63349997', '_id': 'ChildOf/63349997', '_from': 'Characters/AryaStark', '_to': 'Characters/NedStark', '_rev': '_gd7CuNi---'}, {'_key': '63349998', '_id': 'ChildOf/63349998', '_from': 'Characters/BranStark', '_to': 'Characters/NedStark', '_rev': '_gd7CuNi--_'}, {'_key': '63349999', '_id': 'ChildOf/63349999', '_from': 'Characters/AryaStark', '_to': 'Characters/CatelynStark', '_rev': '_gd7CuNi--A'}, {'_key': '63350000', '_id': 'ChildOf/63350000', '_from': 'Characters/BranStark', '_to': 'Characters/CatelynStark', '_rev': '_gd7CuNi--C'}, {'_key': '63350022', '_id': 'ChildOf/63350022', '_from': 'Characters/JohnSnow', '_to': 'Characters/EddardStark', '_rev': '_gd7DGnW--A'}]\u001b[0m\n",
            "\n",
            "\u001b[1m> Finished chain.\u001b[0m\n"
          ]
        },
        {
          "data": {
            "application/vnd.google.colaboratory.intrinsic+json": {
              "type": "string"
            },
            "text/plain": [
              "'The edges in the database represent relationships between different characters. Based on the AQL query, the result shows the details of the edges. For example, we can see that Arya Stark is a child of Ned Stark, Bran Stark is also a child of Ned Stark, and so on. The AQL result provides the key, ID, from_vertex, to_vertex, and revision information for each edge.'"
            ]
          },
          "execution_count": 19,
          "metadata": {},
          "output_type": "execute_result"
        }
      ],
      "source": [
        "chain.run(\"What can you tell me about the edges?\")"
      ]
    },
    {
      "cell_type": "markdown",
      "id": "Ob_3aGauGd7d",
      "metadata": {
        "id": "Ob_3aGauGd7d"
      },
      "source": [
        "## Chain Modifiers"
      ]
    },
    {
      "cell_type": "markdown",
      "id": "3P490E2dGiBp",
      "metadata": {
        "id": "3P490E2dGiBp"
      },
      "source": [
        "You can alter the values of the following `ArangoDBGraphQAChain` class variables to modify the behaviour of your chain results\n"
      ]
    },
    {
      "cell_type": "code",
      "execution_count": 22,
      "id": "1B9h3PvzJ41T",
      "metadata": {
        "id": "1B9h3PvzJ41T"
      },
      "outputs": [],
      "source": [
        "# Specify the maximum number of AQL Query Results to return\n",
        "chain.top_k = 10\n",
        "\n",
        "# Specify whether or not to return the AQL Query in the output dictionary\n",
        "chain.return_aql_query = True\n",
        "\n",
        "# Specify whether or not to return the AQL JSON Result in the output dictionary\n",
        "chain.return_aql_result = True\n",
        "\n",
        "# Specify the maximum amount of AQL Generation attempts that should be made\n",
        "chain.max_aql_generation_attempts = 5\n",
        "\n",
        "# Specify a set of AQL Query Examples, which are passed to\n",
        "# the AQL Generation Prompt Template to promote few-shot-learning.\n",
        "# Defaults to an empty string.\n",
        "chain.aql_examples = \"\"\"\n",
        "# Is Ned Stark alive?\n",
        "RETURN DOCUMENT('Characters/NedStark').alive\n",
        "\n",
        "# Is Arya Stark the child of Ned Stark?\n",
        "FOR e IN ChildOf\n",
        "    FILTER e._from == \"Characters/AryaStark\" AND e._to == \"Characters/NedStark\"\n",
        "    RETURN e\n",
        "\"\"\""
      ]
    },
    {
      "cell_type": "code",
      "execution_count": 23,
      "id": "49cnjYV-PUv3",
      "metadata": {
        "colab": {
          "base_uri": "https://localhost:8080/",
          "height": 226
        },
        "id": "49cnjYV-PUv3",
        "outputId": "c5d3e106-7ecf-403c-9759-6297fe36b50a"
      },
      "outputs": [
        {
          "name": "stdout",
          "output_type": "stream",
          "text": [
            "\n",
            "\n",
            "\u001b[1m> Entering new ArangoGraphQAChain chain...\u001b[0m\n",
            "AQL Query (1):\u001b[32;1m\u001b[1;3m\n",
            "WITH Characters\n",
            "RETURN DOCUMENT('Characters/NedStark').alive\n",
            "\u001b[0m\n",
            "AQL Result:\n",
            "\u001b[32;1m\u001b[1;3m[True]\u001b[0m\n",
            "\n",
            "\u001b[1m> Finished chain.\u001b[0m\n"
          ]
        },
        {
          "data": {
            "application/vnd.google.colaboratory.intrinsic+json": {
              "type": "string"
            },
            "text/plain": [
              "'Yes, Ned Stark is alive.'"
            ]
          },
          "execution_count": 23,
          "metadata": {},
          "output_type": "execute_result"
        }
      ],
      "source": [
        "chain.run(\"Is Ned Stark alive?\")\n",
        "\n",
        "# chain(\"Is Ned Stark alive?\") # Returns a dictionary with the AQL Query & AQL Result"
      ]
    },
    {
      "cell_type": "code",
      "execution_count": 24,
      "id": "nWfALJ8dPczE",
      "metadata": {
        "colab": {
          "base_uri": "https://localhost:8080/",
          "height": 261
        },
        "id": "nWfALJ8dPczE",
        "outputId": "8fdf63f2-aa2c-494f-833d-914e9f553b98"
      },
      "outputs": [
        {
          "name": "stdout",
          "output_type": "stream",
          "text": [
            "\n",
            "\n",
            "\u001b[1m> Entering new ArangoGraphQAChain chain...\u001b[0m\n",
            "AQL Query (1):\u001b[32;1m\u001b[1;3m\n",
            "WITH ChildOf, Characters\n",
            "FOR e IN ChildOf\n",
            "    FILTER e._from == \"Characters/BranStark\" AND e._to == \"Characters/NedStark\"\n",
            "    RETURN e\n",
            "\u001b[0m\n",
            "AQL Result:\n",
            "\u001b[32;1m\u001b[1;3m[{'_key': '63349998', '_id': 'ChildOf/63349998', '_from': 'Characters/BranStark', '_to': 'Characters/NedStark', '_rev': '_gd7CuNi--_'}]\u001b[0m\n",
            "\n",
            "\u001b[1m> Finished chain.\u001b[0m\n"
          ]
        },
        {
          "data": {
            "application/vnd.google.colaboratory.intrinsic+json": {
              "type": "string"
            },
            "text/plain": [
              "'Yes, Bran Stark is indeed the child of Ned Stark.'"
            ]
          },
          "execution_count": 24,
          "metadata": {},
          "output_type": "execute_result"
        }
      ],
      "source": [
        "chain.run(\"Is Bran Stark the child of Ned Stark?\")"
      ]
    }
  ],
  "metadata": {
    "colab": {
      "collapsed_sections": [
        "995ea9b9"
      ],
      "provenance": []
    },
    "kernelspec": {
      "display_name": "Python 3 (ipykernel)",
      "language": "python",
      "name": "python3"
    },
    "language_info": {
      "codemirror_mode": {
        "name": "ipython",
        "version": 3
      },
      "file_extension": ".py",
      "mimetype": "text/x-python",
      "name": "python",
      "nbconvert_exporter": "python",
      "pygments_lexer": "ipython3",
      "version": "3.8.8"
    }
  },
  "nbformat": 4,
  "nbformat_minor": 5
}
