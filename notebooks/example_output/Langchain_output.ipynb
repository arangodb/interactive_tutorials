{
  "cells": [
    {
      "cell_type": "markdown",
      "id": "c94240f5",
      "metadata": {
        "id": "c94240f5"
      },
      "source": [
        "# ArangoDB 🥑 + LangChain 🦜🔗 (Simple)\n",
        "\n",
        "[![Open In Collab](https://colab.research.google.com/assets/colab-badge.svg)](https://colab.research.google.com/github/arangodb/interactive_tutorials/blob/master/notebooks/example_output/Langchain_output.ipynb)\n",
        "\n",
        "**Looking for the full notebook? Check out [LangChain_Full_output.ipynb](https://colab.research.google.com/github/arangodb/interactive_tutorials/blob/master/notebooks/example_output/Langchain_Full_output.ipynb).**\n",
        "\n",
        "Large language models (LLMs) are emerging as a transformative technology, enabling developers to build applications that they previously could not. However, using these LLMs in isolation is often insufficient for creating a truly powerful app - the real power comes when you can combine them with other sources of computation or knowledge.\n",
        "\n",
        "[LangChain](https://www.langchain.com/) is a framework for developing applications powered by language models. It enables applications that are:\n",
        "- Data-aware: connect a language model to other sources of data\n",
        "- Agentic: allow a language model to interact with its environment\n",
        "\n",
        "On July 25 2023, ArangoDB introduced the first release of the [ArangoGraphQAChain](https://langchain-langchain.vercel.app/docs/integrations/providers/arangodb) to the LangChain community, allowing you to leverage LLMs to provide a natural language interface for your ArangoDB data.\n",
        "\n",
        "**Please note**: This notebook uses the LangChain `ChatOpenAI` wrapper, which requires you to have a **paid** [OpenAI API Key](https://help.openai.com/en/articles/4936850-where-do-i-find-my-secret-api-key). However, other Chat Models are available as well: https://github.com/langchain-ai/langchain/tree/master/libs/langchain/langchain/chat_models"
      ]
    },
    {
      "cell_type": "markdown",
      "id": "WejTADc2L72f",
      "metadata": {
        "id": "WejTADc2L72f"
      },
      "source": [
        "## Setup"
      ]
    },
    {
      "cell_type": "code",
      "execution_count": 1,
      "id": "izi6YoFC8KRH",
      "metadata": {
        "id": "izi6YoFC8KRH"
      },
      "outputs": [],
      "source": [
        "%%capture\n",
        "\n",
        "# 1: Install the dependencies\n",
        "\n",
        "!pip install python-arango # The ArangoDB Python Driver\n",
        "!pip install adb-cloud-connector # The ArangoDB Cloud Instance provisioner\n",
        "!pip install openai==1.6.1\n",
        "!pip install langchain==0.1.0"
      ]
    },
    {
      "cell_type": "code",
      "execution_count": 4,
      "id": "62812aad",
      "metadata": {
        "colab": {
          "base_uri": "https://localhost:8080/"
        },
        "id": "62812aad",
        "outputId": "5e531c1a-ef0a-40ea-ea59-e77ee4723b47"
      },
      "outputs": [
        {
          "name": "stdout",
          "output_type": "stream",
          "text": [
            "Log: requesting new credentials...\n",
            "Succcess: new credentials acquired\n"
          ]
        },
        {
          "data": {
            "text/plain": [
              "{'dbName': 'TUT5hi70sjppn72exqhqumy8a',\n",
              " 'username': 'TUT9vlxw42ppe5kp9i4kaenfa',\n",
              " 'password': 'TUTs0ft2thu7tkyi88fi0zs',\n",
              " 'hostname': 'tutorials.arangodb.cloud',\n",
              " 'port': 8529,\n",
              " 'url': 'https://tutorials.arangodb.cloud:8529'}"
            ]
          },
          "execution_count": 4,
          "metadata": {},
          "output_type": "execute_result"
        }
      ],
      "source": [
        "# 2: Provision a temporary ArangoDB Cloud instance\n",
        "\n",
        "from adb_cloud_connector import get_temp_credentials\n",
        "\n",
        "connection = get_temp_credentials(tutorialName=\"LangChain\")\n",
        "\n",
        "connection"
      ]
    },
    {
      "cell_type": "code",
      "execution_count": 5,
      "id": "0928915d",
      "metadata": {
        "colab": {
          "base_uri": "https://localhost:8080/"
        },
        "id": "0928915d",
        "outputId": "3d79089f-759a-4d9d-9b96-726e11c2831d"
      },
      "outputs": [
        {
          "data": {
            "text/plain": [
              "<StandardDatabase TUT5hi70sjppn72exqhqumy8a>"
            ]
          },
          "execution_count": 5,
          "metadata": {},
          "output_type": "execute_result"
        }
      ],
      "source": [
        "# 3: Instantiate the ArangoDB-Python driver\n",
        "\n",
        "from arango import ArangoClient\n",
        "\n",
        "client = ArangoClient(hosts=connection[\"url\"])\n",
        "\n",
        "db = client.db(\n",
        "    connection[\"dbName\"],\n",
        "    connection[\"username\"],\n",
        "    connection[\"password\"],\n",
        "    verify=True\n",
        ")\n",
        "\n",
        "db"
      ]
    },
    {
      "cell_type": "code",
      "execution_count": null,
      "id": "fedd26b9",
      "metadata": {
        "colab": {
          "base_uri": "https://localhost:8080/"
        },
        "id": "fedd26b9",
        "outputId": "517f1edb-8236-4c9e-ddb8-fb40d96214e2"
      },
      "outputs": [],
      "source": [
        "# 4: Load sample data\n",
        "# We'll be relying on our Game Of Thrones dataset, representing the parent-child\n",
        "# relationships of certain characters from the GoT universe\n",
        "\n",
        "from arango_datasets.datasets import Datasets\n",
        "\n",
        "Datasets(db).load(\"GAME_OF_THRONES\")"
      ]
    },
    {
      "cell_type": "code",
      "execution_count": 12,
      "id": "4e3de44f",
      "metadata": {
        "colab": {
          "base_uri": "https://localhost:8080/"
        },
        "id": "4e3de44f",
        "outputId": "93d60a3c-e091-46f0-fe45-738cb847a805"
      },
      "outputs": [
        {
          "data": {
            "text/plain": [
              "{'Graph Schema': [{'graph_name': 'GameOfThrones',\n",
              "   'edge_definitions': [{'edge_collection': 'ChildOf',\n",
              "     'from_vertex_collections': ['Characters'],\n",
              "     'to_vertex_collections': ['Characters']}]}],\n",
              " 'Collection Schema': [{'collection_name': 'Characters',\n",
              "   'collection_type': 'document',\n",
              "   'document_properties': [{'name': '_key', 'type': 'str'},\n",
              "    {'name': '_id', 'type': 'str'},\n",
              "    {'name': '_rev', 'type': 'str'},\n",
              "    {'name': 'name', 'type': 'str'},\n",
              "    {'name': 'surname', 'type': 'str'},\n",
              "    {'name': 'alive', 'type': 'bool'},\n",
              "    {'name': 'age', 'type': 'int'},\n",
              "    {'name': 'gender', 'type': 'str'}],\n",
              "   'example_document': {'_key': 'RickardStark',\n",
              "    '_id': 'Characters/RickardStark',\n",
              "    '_rev': '_gw7CBWu---',\n",
              "    'name': 'Rickard',\n",
              "    'surname': 'Stark',\n",
              "    'alive': False,\n",
              "    'age': 60,\n",
              "    'gender': 'male'}},\n",
              "  {'collection_name': 'ChildOf',\n",
              "   'collection_type': 'edge',\n",
              "   'edge_properties': [{'name': '_key', 'type': 'str'},\n",
              "    {'name': '_id', 'type': 'str'},\n",
              "    {'name': '_from', 'type': 'str'},\n",
              "    {'name': '_to', 'type': 'str'},\n",
              "    {'name': '_rev', 'type': 'str'}],\n",
              "   'example_edge': {'_key': '266199645213',\n",
              "    '_id': 'ChildOf/266199645213',\n",
              "    '_from': 'Characters/BranStark',\n",
              "    '_to': 'Characters/NedStark',\n",
              "    '_rev': '_gw7CBZW---'}}]}"
            ]
          },
          "execution_count": 12,
          "metadata": {},
          "output_type": "execute_result"
        }
      ],
      "source": [
        "# 5: Instantiate the ArangoDB-LangChain Graph wrapper\n",
        "\n",
        "from langchain.graphs import ArangoGraph\n",
        "\n",
        "graph = ArangoGraph(db)\n",
        "\n",
        "graph.schema"
      ]
    },
    {
      "cell_type": "code",
      "execution_count": 13,
      "id": "mZ679anj_-Er",
      "metadata": {
        "id": "mZ679anj_-Er"
      },
      "outputs": [],
      "source": [
        "# 6: Set your OpenAI API Key\n",
        "# https://help.openai.com/en/articles/4936850-where-do-i-find-my-secret-api-key\n",
        "\n",
        "import os\n",
        "\n",
        "os.environ[\"OPENAI_API_KEY\"] = \"sk-...\""
      ]
    },
    {
      "cell_type": "code",
      "execution_count": 14,
      "id": "V1PMxRubKxmK",
      "metadata": {
        "id": "V1PMxRubKxmK"
      },
      "outputs": [],
      "source": [
        "# 7: Instantiate the OpenAI Chat model\n",
        "# Note that other models can be used as well\n",
        "# Ref: https://github.com/langchain-ai/langchain/tree/master/libs/langchain/langchain/chat_models\n",
        "\n",
        "from langchain.chat_models import ChatOpenAI\n",
        "\n",
        "model = ChatOpenAI(temperature=0, model_name='gpt-4')"
      ]
    },
    {
      "cell_type": "code",
      "execution_count": 15,
      "id": "7476ce98",
      "metadata": {
        "id": "7476ce98"
      },
      "outputs": [],
      "source": [
        "# 8: Instantiate the LangChain Question-Answering Chain with\n",
        "# our **model** and **graph**\n",
        "\n",
        "from langchain.chains import ArangoGraphQAChain\n",
        "\n",
        "chain = ArangoGraphQAChain.from_llm(model, graph=graph, verbose=True)"
      ]
    },
    {
      "cell_type": "markdown",
      "id": "MdTyIwWeL953",
      "metadata": {
        "id": "MdTyIwWeL953"
      },
      "source": [
        "## Prompting"
      ]
    },
    {
      "cell_type": "markdown",
      "metadata": {},
      "source": [
        "\"Prompting\" is the process of providing a language model with a set of text-based instructions to achieve some arbitrary output. The text can be as simple as a single word, or as complex as a full paragraph. The model is responsible for generating a response based on the content of the prompt.\n",
        "\n",
        "This section will utilize the [ChatOpenAI](https://python.langchain.com/docs/integrations/chat/openai) wrapper under the hood to translate Natural Language into ArangoDB Query Language (AQL) queries. In fact, the `chain` object we've created is responsible for the following steps:\n",
        "1. Translate the Natural Language Prompt into an AQL Query\n",
        "2. Execute the AQL Query against the ArangoDB database to retrieve a JSON Result\n",
        "3. If a query error occurs, go back to step 1 with a modified prompt to include the error message\n",
        "3. Translate the JSON Result to a Natural Language answer\n",
        "\n",
        "Let's take a look at how this works in practice."
      ]
    },
    {
      "cell_type": "code",
      "execution_count": 16,
      "id": "ef8ee27b",
      "metadata": {
        "colab": {
          "base_uri": "https://localhost:8080/",
          "height": 323
        },
        "id": "ef8ee27b",
        "outputId": "47f38cbc-7e6b-404f-8bfe-bbd527797471"
      },
      "outputs": [
        {
          "name": "stdout",
          "output_type": "stream",
          "text": [
            "\n",
            "\n",
            "\u001b[1m> Entering new ArangoGraphQAChain chain...\u001b[0m\n",
            "AQL Query (1):\u001b[32;1m\u001b[1;3m\n",
            "WITH Characters\n",
            "FOR character IN Characters\n",
            "SORT character.age ASC\n",
            "LIMIT 2\n",
            "RETURN character\n",
            "\u001b[0m\n",
            "AQL Result:\n",
            "\u001b[32;1m\u001b[1;3m[{'_key': 'BranStark', '_id': 'Characters/BranStark', '_rev': '_gw7CBWu--D', 'name': 'Bran', 'surname': 'Stark', 'alive': True, 'age': 10, 'gender': 'male'}, {'_key': 'AryaStark', '_id': 'Characters/AryaStark', '_rev': '_gw7CBWu--C', 'name': 'Arya', 'surname': 'Stark', 'alive': True, 'age': 11, 'gender': 'female'}]\u001b[0m\n",
            "\n",
            "\u001b[1m> Finished chain.\u001b[0m\n"
          ]
        },
        {
          "data": {
            "application/vnd.google.colaboratory.intrinsic+json": {
              "type": "string"
            },
            "text/plain": [
              "'The two youngest characters in the Game of Thrones database are Bran Stark, a 10-year-old male, and Arya Stark, an 11-year-old female. Both characters are currently alive.'"
            ]
          },
          "execution_count": 16,
          "metadata": {},
          "output_type": "execute_result"
        }
      ],
      "source": [
        "chain.invoke(\"Who are the 2 youngest characters?\")"
      ]
    },
    {
      "cell_type": "code",
      "execution_count": 17,
      "id": "9CSig1BgA76q",
      "metadata": {
        "colab": {
          "base_uri": "https://localhost:8080/",
          "height": 288
        },
        "id": "9CSig1BgA76q",
        "outputId": "32d6879f-8814-438d-81c0-3456005fcdc6"
      },
      "outputs": [
        {
          "name": "stdout",
          "output_type": "stream",
          "text": [
            "\n",
            "\n",
            "\u001b[1m> Entering new ArangoGraphQAChain chain...\u001b[0m\n",
            "AQL Query (1):\u001b[32;1m\u001b[1;3m\n",
            "WITH Characters, ChildOf\n",
            "FOR v, e, p IN 1..10 ANY 'Characters/BranStark' ChildOf\n",
            "  FILTER p.vertices[-1]._key == 'AryaStark'\n",
            "  RETURN p\n",
            "\u001b[0m\n",
            "AQL Result:\n",
            "\u001b[32;1m\u001b[1;3m[{'vertices': [{'_key': 'BranStark', '_id': 'Characters/BranStark', '_rev': '_gw7CBWu--D', 'name': 'Bran', 'surname': 'Stark', 'alive': True, 'age': 10, 'gender': 'male'}, {'_key': 'CatelynStark', '_id': 'Characters/CatelynStark', '_rev': '_gw7CBWu--B', 'name': 'Catelyn', 'surname': 'Stark', 'alive': False, 'age': 40, 'gender': 'female'}, {'_key': 'SansaStark', '_id': 'Characters/SansaStark', '_rev': '_gw7CBWu--F', 'name': 'Sansa', 'surname': 'Stark', 'alive': True, 'age': 13, 'gender': 'female'}, {'_key': 'NedStark', '_id': 'Characters/NedStark', '_rev': '_gw7CBWu--A', 'name': 'Ned', 'surname': 'Stark', 'alive': True, 'age': 41, 'gender': 'male'}, {'_key': 'AryaStark', '_id': 'Characters/AryaStark', '_rev': '_gw7CBWu--C', 'name': 'Arya', 'surname': 'Stark', 'alive': True, 'age': 11, 'gender': 'female'}], 'edges': [{'_key': '266199645218', '_id': 'ChildOf/266199645218', '_from': 'Characters/BranStark', '_to': 'Characters/CatelynStark', '_rev': '_gw7CBZe--_'}, {'_key': '266199645220', '_id': 'ChildOf/266199645220', '_from': 'Characters/SansaStark', '_to': 'Characters/CatelynStark', '_rev': '_gw7CBZe--B'}, {'_key': '266199645215', '_id': 'ChildOf/266199645215', '_from': 'Characters/SansaStark', '_to': 'Characters/NedStark', '_rev': '_gw7CBZW--A'}, {'_key': '266199645216', '_id': 'ChildOf/266199645216', '_from': 'Characters/AryaStark', '_to': 'Characters/NedStark', '_rev': '_gw7CBZW--B'}], 'weights': [0, 1, 2, 3, 4]}, {'vertices': [{'_key': 'BranStark', '_id': 'Characters/BranStark', '_rev': '_gw7CBWu--D', 'name': 'Bran', 'surname': 'Stark', 'alive': True, 'age': 10, 'gender': 'male'}, {'_key': 'CatelynStark', '_id': 'Characters/CatelynStark', '_rev': '_gw7CBWu--B', 'name': 'Catelyn', 'surname': 'Stark', 'alive': False, 'age': 40, 'gender': 'female'}, {'_key': 'SansaStark', '_id': 'Characters/SansaStark', '_rev': '_gw7CBWu--F', 'name': 'Sansa', 'surname': 'Stark', 'alive': True, 'age': 13, 'gender': 'female'}, {'_key': 'NedStark', '_id': 'Characters/NedStark', '_rev': '_gw7CBWu--A', 'name': 'Ned', 'surname': 'Stark', 'alive': True, 'age': 41, 'gender': 'male'}, {'_key': 'RobbStark', '_id': 'Characters/RobbStark', '_rev': '_gw7CBWu--E', 'name': 'Robb', 'surname': 'Stark', 'alive': False, 'age': 16, 'gender': 'male'}, {'_key': 'CatelynStark', '_id': 'Characters/CatelynStark', '_rev': '_gw7CBWu--B', 'name': 'Catelyn', 'surname': 'Stark', 'alive': False, 'age': 40, 'gender': 'female'}, {'_key': 'AryaStark', '_id': 'Characters/AryaStark', '_rev': '_gw7CBWu--C', 'name': 'Arya', 'surname': 'Stark', 'alive': True, 'age': 11, 'gender': 'female'}], 'edges': [{'_key': '266199645218', '_id': 'ChildOf/266199645218', '_from': 'Characters/BranStark', '_to': 'Characters/CatelynStark', '_rev': '_gw7CBZe--_'}, {'_key': '266199645220', '_id': 'ChildOf/266199645220', '_from': 'Characters/SansaStark', '_to': 'Characters/CatelynStark', '_rev': '_gw7CBZe--B'}, {'_key': '266199645215', '_id': 'ChildOf/266199645215', '_from': 'Characters/SansaStark', '_to': 'Characters/NedStark', '_rev': '_gw7CBZW--A'}, {'_key': '266199645214', '_id': 'ChildOf/266199645214', '_from': 'Characters/RobbStark', '_to': 'Characters/NedStark', '_rev': '_gw7CBZW--_'}, {'_key': '266199645219', '_id': 'ChildOf/266199645219', '_from': 'Characters/RobbStark', '_to': 'Characters/CatelynStark', '_rev': '_gw7CBZe--A'}, {'_key': '266199645217', '_id': 'ChildOf/266199645217', '_from': 'Characters/AryaStark', '_to': 'Characters/CatelynStark', '_rev': '_gw7CBZe---'}], 'weights': [0, 1, 2, 3, 4, 5, 6]}, {'vertices': [{'_key': 'BranStark', '_id': 'Characters/BranStark', '_rev': '_gw7CBWu--D', 'name': 'Bran', 'surname': 'Stark', 'alive': True, 'age': 10, 'gender': 'male'}, {'_key': 'CatelynStark', '_id': 'Characters/CatelynStark', '_rev': '_gw7CBWu--B', 'name': 'Catelyn', 'surname': 'Stark', 'alive': False, 'age': 40, 'gender': 'female'}, {'_key': 'RobbStark', '_id': 'Characters/RobbStark', '_rev': '_gw7CBWu--E', 'name': 'Robb', 'surname': 'Stark', 'alive': False, 'age': 16, 'gender': 'male'}, {'_key': 'NedStark', '_id': 'Characters/NedStark', '_rev': '_gw7CBWu--A', 'name': 'Ned', 'surname': 'Stark', 'alive': True, 'age': 41, 'gender': 'male'}, {'_key': 'AryaStark', '_id': 'Characters/AryaStark', '_rev': '_gw7CBWu--C', 'name': 'Arya', 'surname': 'Stark', 'alive': True, 'age': 11, 'gender': 'female'}], 'edges': [{'_key': '266199645218', '_id': 'ChildOf/266199645218', '_from': 'Characters/BranStark', '_to': 'Characters/CatelynStark', '_rev': '_gw7CBZe--_'}, {'_key': '266199645219', '_id': 'ChildOf/266199645219', '_from': 'Characters/RobbStark', '_to': 'Characters/CatelynStark', '_rev': '_gw7CBZe--A'}, {'_key': '266199645214', '_id': 'ChildOf/266199645214', '_from': 'Characters/RobbStark', '_to': 'Characters/NedStark', '_rev': '_gw7CBZW--_'}, {'_key': '266199645216', '_id': 'ChildOf/266199645216', '_from': 'Characters/AryaStark', '_to': 'Characters/NedStark', '_rev': '_gw7CBZW--B'}], 'weights': [0, 1, 2, 3, 4]}, {'vertices': [{'_key': 'BranStark', '_id': 'Characters/BranStark', '_rev': '_gw7CBWu--D', 'name': 'Bran', 'surname': 'Stark', 'alive': True, 'age': 10, 'gender': 'male'}, {'_key': 'CatelynStark', '_id': 'Characters/CatelynStark', '_rev': '_gw7CBWu--B', 'name': 'Catelyn', 'surname': 'Stark', 'alive': False, 'age': 40, 'gender': 'female'}, {'_key': 'RobbStark', '_id': 'Characters/RobbStark', '_rev': '_gw7CBWu--E', 'name': 'Robb', 'surname': 'Stark', 'alive': False, 'age': 16, 'gender': 'male'}, {'_key': 'NedStark', '_id': 'Characters/NedStark', '_rev': '_gw7CBWu--A', 'name': 'Ned', 'surname': 'Stark', 'alive': True, 'age': 41, 'gender': 'male'}, {'_key': 'SansaStark', '_id': 'Characters/SansaStark', '_rev': '_gw7CBWu--F', 'name': 'Sansa', 'surname': 'Stark', 'alive': True, 'age': 13, 'gender': 'female'}, {'_key': 'CatelynStark', '_id': 'Characters/CatelynStark', '_rev': '_gw7CBWu--B', 'name': 'Catelyn', 'surname': 'Stark', 'alive': False, 'age': 40, 'gender': 'female'}, {'_key': 'AryaStark', '_id': 'Characters/AryaStark', '_rev': '_gw7CBWu--C', 'name': 'Arya', 'surname': 'Stark', 'alive': True, 'age': 11, 'gender': 'female'}], 'edges': [{'_key': '266199645218', '_id': 'ChildOf/266199645218', '_from': 'Characters/BranStark', '_to': 'Characters/CatelynStark', '_rev': '_gw7CBZe--_'}, {'_key': '266199645219', '_id': 'ChildOf/266199645219', '_from': 'Characters/RobbStark', '_to': 'Characters/CatelynStark', '_rev': '_gw7CBZe--A'}, {'_key': '266199645214', '_id': 'ChildOf/266199645214', '_from': 'Characters/RobbStark', '_to': 'Characters/NedStark', '_rev': '_gw7CBZW--_'}, {'_key': '266199645215', '_id': 'ChildOf/266199645215', '_from': 'Characters/SansaStark', '_to': 'Characters/NedStark', '_rev': '_gw7CBZW--A'}, {'_key': '266199645220', '_id': 'ChildOf/266199645220', '_from': 'Characters/SansaStark', '_to': 'Characters/CatelynStark', '_rev': '_gw7CBZe--B'}, {'_key': '266199645217', '_id': 'ChildOf/266199645217', '_from': 'Characters/AryaStark', '_to': 'Characters/CatelynStark', '_rev': '_gw7CBZe---'}], 'weights': [0, 1, 2, 3, 4, 5, 6]}, {'vertices': [{'_key': 'BranStark', '_id': 'Characters/BranStark', '_rev': '_gw7CBWu--D', 'name': 'Bran', 'surname': 'Stark', 'alive': True, 'age': 10, 'gender': 'male'}, {'_key': 'CatelynStark', '_id': 'Characters/CatelynStark', '_rev': '_gw7CBWu--B', 'name': 'Catelyn', 'surname': 'Stark', 'alive': False, 'age': 40, 'gender': 'female'}, {'_key': 'AryaStark', '_id': 'Characters/AryaStark', '_rev': '_gw7CBWu--C', 'name': 'Arya', 'surname': 'Stark', 'alive': True, 'age': 11, 'gender': 'female'}], 'edges': [{'_key': '266199645218', '_id': 'ChildOf/266199645218', '_from': 'Characters/BranStark', '_to': 'Characters/CatelynStark', '_rev': '_gw7CBZe--_'}, {'_key': '266199645217', '_id': 'ChildOf/266199645217', '_from': 'Characters/AryaStark', '_to': 'Characters/CatelynStark', '_rev': '_gw7CBZe---'}], 'weights': [0, 1, 2]}, {'vertices': [{'_key': 'BranStark', '_id': 'Characters/BranStark', '_rev': '_gw7CBWu--D', 'name': 'Bran', 'surname': 'Stark', 'alive': True, 'age': 10, 'gender': 'male'}, {'_key': 'NedStark', '_id': 'Characters/NedStark', '_rev': '_gw7CBWu--A', 'name': 'Ned', 'surname': 'Stark', 'alive': True, 'age': 41, 'gender': 'male'}, {'_key': 'AryaStark', '_id': 'Characters/AryaStark', '_rev': '_gw7CBWu--C', 'name': 'Arya', 'surname': 'Stark', 'alive': True, 'age': 11, 'gender': 'female'}], 'edges': [{'_key': '266199645213', '_id': 'ChildOf/266199645213', '_from': 'Characters/BranStark', '_to': 'Characters/NedStark', '_rev': '_gw7CBZW---'}, {'_key': '266199645216', '_id': 'ChildOf/266199645216', '_from': 'Characters/AryaStark', '_to': 'Characters/NedStark', '_rev': '_gw7CBZW--B'}], 'weights': [0, 1, 2]}, {'vertices': [{'_key': 'BranStark', '_id': 'Characters/BranStark', '_rev': '_gw7CBWu--D', 'name': 'Bran', 'surname': 'Stark', 'alive': True, 'age': 10, 'gender': 'male'}, {'_key': 'NedStark', '_id': 'Characters/NedStark', '_rev': '_gw7CBWu--A', 'name': 'Ned', 'surname': 'Stark', 'alive': True, 'age': 41, 'gender': 'male'}, {'_key': 'SansaStark', '_id': 'Characters/SansaStark', '_rev': '_gw7CBWu--F', 'name': 'Sansa', 'surname': 'Stark', 'alive': True, 'age': 13, 'gender': 'female'}, {'_key': 'CatelynStark', '_id': 'Characters/CatelynStark', '_rev': '_gw7CBWu--B', 'name': 'Catelyn', 'surname': 'Stark', 'alive': False, 'age': 40, 'gender': 'female'}, {'_key': 'RobbStark', '_id': 'Characters/RobbStark', '_rev': '_gw7CBWu--E', 'name': 'Robb', 'surname': 'Stark', 'alive': False, 'age': 16, 'gender': 'male'}, {'_key': 'NedStark', '_id': 'Characters/NedStark', '_rev': '_gw7CBWu--A', 'name': 'Ned', 'surname': 'Stark', 'alive': True, 'age': 41, 'gender': 'male'}, {'_key': 'AryaStark', '_id': 'Characters/AryaStark', '_rev': '_gw7CBWu--C', 'name': 'Arya', 'surname': 'Stark', 'alive': True, 'age': 11, 'gender': 'female'}], 'edges': [{'_key': '266199645213', '_id': 'ChildOf/266199645213', '_from': 'Characters/BranStark', '_to': 'Characters/NedStark', '_rev': '_gw7CBZW---'}, {'_key': '266199645215', '_id': 'ChildOf/266199645215', '_from': 'Characters/SansaStark', '_to': 'Characters/NedStark', '_rev': '_gw7CBZW--A'}, {'_key': '266199645220', '_id': 'ChildOf/266199645220', '_from': 'Characters/SansaStark', '_to': 'Characters/CatelynStark', '_rev': '_gw7CBZe--B'}, {'_key': '266199645219', '_id': 'ChildOf/266199645219', '_from': 'Characters/RobbStark', '_to': 'Characters/CatelynStark', '_rev': '_gw7CBZe--A'}, {'_key': '266199645214', '_id': 'ChildOf/266199645214', '_from': 'Characters/RobbStark', '_to': 'Characters/NedStark', '_rev': '_gw7CBZW--_'}, {'_key': '266199645216', '_id': 'ChildOf/266199645216', '_from': 'Characters/AryaStark', '_to': 'Characters/NedStark', '_rev': '_gw7CBZW--B'}], 'weights': [0, 1, 2, 3, 4, 5, 6]}, {'vertices': [{'_key': 'BranStark', '_id': 'Characters/BranStark', '_rev': '_gw7CBWu--D', 'name': 'Bran', 'surname': 'Stark', 'alive': True, 'age': 10, 'gender': 'male'}, {'_key': 'NedStark', '_id': 'Characters/NedStark', '_rev': '_gw7CBWu--A', 'name': 'Ned', 'surname': 'Stark', 'alive': True, 'age': 41, 'gender': 'male'}, {'_key': 'SansaStark', '_id': 'Characters/SansaStark', '_rev': '_gw7CBWu--F', 'name': 'Sansa', 'surname': 'Stark', 'alive': True, 'age': 13, 'gender': 'female'}, {'_key': 'CatelynStark', '_id': 'Characters/CatelynStark', '_rev': '_gw7CBWu--B', 'name': 'Catelyn', 'surname': 'Stark', 'alive': False, 'age': 40, 'gender': 'female'}, {'_key': 'AryaStark', '_id': 'Characters/AryaStark', '_rev': '_gw7CBWu--C', 'name': 'Arya', 'surname': 'Stark', 'alive': True, 'age': 11, 'gender': 'female'}], 'edges': [{'_key': '266199645213', '_id': 'ChildOf/266199645213', '_from': 'Characters/BranStark', '_to': 'Characters/NedStark', '_rev': '_gw7CBZW---'}, {'_key': '266199645215', '_id': 'ChildOf/266199645215', '_from': 'Characters/SansaStark', '_to': 'Characters/NedStark', '_rev': '_gw7CBZW--A'}, {'_key': '266199645220', '_id': 'ChildOf/266199645220', '_from': 'Characters/SansaStark', '_to': 'Characters/CatelynStark', '_rev': '_gw7CBZe--B'}, {'_key': '266199645217', '_id': 'ChildOf/266199645217', '_from': 'Characters/AryaStark', '_to': 'Characters/CatelynStark', '_rev': '_gw7CBZe---'}], 'weights': [0, 1, 2, 3, 4]}, {'vertices': [{'_key': 'BranStark', '_id': 'Characters/BranStark', '_rev': '_gw7CBWu--D', 'name': 'Bran', 'surname': 'Stark', 'alive': True, 'age': 10, 'gender': 'male'}, {'_key': 'NedStark', '_id': 'Characters/NedStark', '_rev': '_gw7CBWu--A', 'name': 'Ned', 'surname': 'Stark', 'alive': True, 'age': 41, 'gender': 'male'}, {'_key': 'RobbStark', '_id': 'Characters/RobbStark', '_rev': '_gw7CBWu--E', 'name': 'Robb', 'surname': 'Stark', 'alive': False, 'age': 16, 'gender': 'male'}, {'_key': 'CatelynStark', '_id': 'Characters/CatelynStark', '_rev': '_gw7CBWu--B', 'name': 'Catelyn', 'surname': 'Stark', 'alive': False, 'age': 40, 'gender': 'female'}, {'_key': 'SansaStark', '_id': 'Characters/SansaStark', '_rev': '_gw7CBWu--F', 'name': 'Sansa', 'surname': 'Stark', 'alive': True, 'age': 13, 'gender': 'female'}, {'_key': 'NedStark', '_id': 'Characters/NedStark', '_rev': '_gw7CBWu--A', 'name': 'Ned', 'surname': 'Stark', 'alive': True, 'age': 41, 'gender': 'male'}, {'_key': 'AryaStark', '_id': 'Characters/AryaStark', '_rev': '_gw7CBWu--C', 'name': 'Arya', 'surname': 'Stark', 'alive': True, 'age': 11, 'gender': 'female'}], 'edges': [{'_key': '266199645213', '_id': 'ChildOf/266199645213', '_from': 'Characters/BranStark', '_to': 'Characters/NedStark', '_rev': '_gw7CBZW---'}, {'_key': '266199645214', '_id': 'ChildOf/266199645214', '_from': 'Characters/RobbStark', '_to': 'Characters/NedStark', '_rev': '_gw7CBZW--_'}, {'_key': '266199645219', '_id': 'ChildOf/266199645219', '_from': 'Characters/RobbStark', '_to': 'Characters/CatelynStark', '_rev': '_gw7CBZe--A'}, {'_key': '266199645220', '_id': 'ChildOf/266199645220', '_from': 'Characters/SansaStark', '_to': 'Characters/CatelynStark', '_rev': '_gw7CBZe--B'}, {'_key': '266199645215', '_id': 'ChildOf/266199645215', '_from': 'Characters/SansaStark', '_to': 'Characters/NedStark', '_rev': '_gw7CBZW--A'}, {'_key': '266199645216', '_id': 'ChildOf/266199645216', '_from': 'Characters/AryaStark', '_to': 'Characters/NedStark', '_rev': '_gw7CBZW--B'}], 'weights': [0, 1, 2, 3, 4, 5, 6]}, {'vertices': [{'_key': 'BranStark', '_id': 'Characters/BranStark', '_rev': '_gw7CBWu--D', 'name': 'Bran', 'surname': 'Stark', 'alive': True, 'age': 10, 'gender': 'male'}, {'_key': 'NedStark', '_id': 'Characters/NedStark', '_rev': '_gw7CBWu--A', 'name': 'Ned', 'surname': 'Stark', 'alive': True, 'age': 41, 'gender': 'male'}, {'_key': 'RobbStark', '_id': 'Characters/RobbStark', '_rev': '_gw7CBWu--E', 'name': 'Robb', 'surname': 'Stark', 'alive': False, 'age': 16, 'gender': 'male'}, {'_key': 'CatelynStark', '_id': 'Characters/CatelynStark', '_rev': '_gw7CBWu--B', 'name': 'Catelyn', 'surname': 'Stark', 'alive': False, 'age': 40, 'gender': 'female'}, {'_key': 'AryaStark', '_id': 'Characters/AryaStark', '_rev': '_gw7CBWu--C', 'name': 'Arya', 'surname': 'Stark', 'alive': True, 'age': 11, 'gender': 'female'}], 'edges': [{'_key': '266199645213', '_id': 'ChildOf/266199645213', '_from': 'Characters/BranStark', '_to': 'Characters/NedStark', '_rev': '_gw7CBZW---'}, {'_key': '266199645214', '_id': 'ChildOf/266199645214', '_from': 'Characters/RobbStark', '_to': 'Characters/NedStark', '_rev': '_gw7CBZW--_'}, {'_key': '266199645219', '_id': 'ChildOf/266199645219', '_from': 'Characters/RobbStark', '_to': 'Characters/CatelynStark', '_rev': '_gw7CBZe--A'}, {'_key': '266199645217', '_id': 'ChildOf/266199645217', '_from': 'Characters/AryaStark', '_to': 'Characters/CatelynStark', '_rev': '_gw7CBZe---'}], 'weights': [0, 1, 2, 3, 4]}]\u001b[0m\n",
            "\n",
            "\u001b[1m> Finished chain.\u001b[0m\n"
          ]
        },
        {
          "data": {
            "application/vnd.google.colaboratory.intrinsic+json": {
              "type": "string"
            },
            "text/plain": [
              "'Bran Stark and Arya Stark are siblings. They are both children of Ned Stark and Catelyn Stark.'"
            ]
          },
          "execution_count": 17,
          "metadata": {},
          "output_type": "execute_result"
        }
      ],
      "source": [
        "chain.invoke(\"How are Bran Stark and Arya Stark related?\")"
      ]
    },
    {
      "cell_type": "code",
      "execution_count": 18,
      "id": "9Fzdic_pA_4y",
      "metadata": {
        "colab": {
          "base_uri": "https://localhost:8080/",
          "height": 250
        },
        "id": "9Fzdic_pA_4y",
        "outputId": "08e430d4-963e-441d-80c1-a3e6e585c6f4"
      },
      "outputs": [
        {
          "name": "stdout",
          "output_type": "stream",
          "text": [
            "\n",
            "\n",
            "\u001b[1m> Entering new ArangoGraphQAChain chain...\u001b[0m\n",
            "AQL Query (1):\u001b[32;1m\u001b[1;3m\n",
            "WITH Characters, ChildOf\n",
            "FOR v, e IN 2..2 OUTBOUND 'Characters/BranStark' ChildOf\n",
            "RETURN v.name\n",
            "\u001b[0m\n",
            "AQL Result:\n",
            "\u001b[32;1m\u001b[1;3m['Lyarra', 'Rickard']\u001b[0m\n",
            "\n",
            "\u001b[1m> Finished chain.\u001b[0m\n"
          ]
        },
        {
          "data": {
            "application/vnd.google.colaboratory.intrinsic+json": {
              "type": "string"
            },
            "text/plain": [
              "\"Bran Stark's grandparents are Lyarra and Rickard.\""
            ]
          },
          "execution_count": 18,
          "metadata": {},
          "output_type": "execute_result"
        }
      ],
      "source": [
        "chain.invoke(\"Who are Bran Stark’s grandparents?\")"
      ]
    },
    {
      "cell_type": "code",
      "execution_count": 19,
      "id": "zq_oeDpAOXpF",
      "metadata": {
        "colab": {
          "base_uri": "https://localhost:8080/",
          "height": 285
        },
        "id": "zq_oeDpAOXpF",
        "outputId": "0ea89f0b-6a19-4908-e8ba-2b8b6f31a61e"
      },
      "outputs": [
        {
          "name": "stdout",
          "output_type": "stream",
          "text": [
            "\n",
            "\n",
            "\u001b[1m> Entering new ArangoGraphQAChain chain...\u001b[0m\n",
            "AQL Query (1):\u001b[32;1m\u001b[1;3m\n",
            "WITH Characters\n",
            "FOR doc IN Characters\n",
            "COLLECT family = doc.surname WITH COUNT INTO characterCount\n",
            "RETURN { \"family\": family, \"characterCount\": characterCount }\n",
            "\u001b[0m\n",
            "AQL Result:\n",
            "\u001b[32;1m\u001b[1;3m[{'family': 'Baratheon', 'characterCount': 1}, {'family': 'Lannister', 'characterCount': 4}, {'family': 'Stark', 'characterCount': 8}]\u001b[0m\n",
            "\n",
            "\u001b[1m> Finished chain.\u001b[0m\n"
          ]
        },
        {
          "data": {
            "application/vnd.google.colaboratory.intrinsic+json": {
              "type": "string"
            },
            "text/plain": [
              "'The Game of Thrones database shows that there is 1 character from the Baratheon family, 4 characters from the Lannister family, and 8 characters from the Stark family.'"
            ]
          },
          "execution_count": 19,
          "metadata": {},
          "output_type": "execute_result"
        }
      ],
      "source": [
        "chain.invoke(\"Fetch me the character count for each family\")"
      ]
    },
    {
      "cell_type": "code",
      "execution_count": 20,
      "id": "Qfi_e1_P_tKj",
      "metadata": {
        "colab": {
          "base_uri": "https://localhost:8080/",
          "height": 410
        },
        "id": "Qfi_e1_P_tKj",
        "outputId": "6a01676d-a692-4df0-8e5f-80b1eca25133"
      },
      "outputs": [
        {
          "name": "stdout",
          "output_type": "stream",
          "text": [
            "\n",
            "\n",
            "\u001b[1m> Entering new ArangoGraphQAChain chain...\u001b[0m\n",
            "AQL Query (1):\u001b[32;1m\u001b[1;3m\n",
            "WITH Characters\n",
            "LET RickardAge = (\n",
            "  FOR character IN Characters\n",
            "    FILTER character._key == 'RickardStark'\n",
            "    RETURN character.age\n",
            ")[0]\n",
            "LET AryaAge = (\n",
            "  FOR character IN Characters\n",
            "    FILTER character._key == 'AryaStark'\n",
            "    RETURN character.age\n",
            ")[0]\n",
            "RETURN RickardAge - AryaAge\n",
            "\u001b[0m\n",
            "AQL Result:\n",
            "\u001b[32;1m\u001b[1;3m[49]\u001b[0m\n",
            "\n",
            "\u001b[1m> Finished chain.\u001b[0m\n"
          ]
        },
        {
          "data": {
            "application/vnd.google.colaboratory.intrinsic+json": {
              "type": "string"
            },
            "text/plain": [
              "'The age difference between Rickard Stark and Arya Stark is 49 years.'"
            ]
          },
          "execution_count": 20,
          "metadata": {},
          "output_type": "execute_result"
        }
      ],
      "source": [
        "chain.invoke(\"What is the age difference between Rickard Stark and Arya Stark?\")"
      ]
    },
    {
      "cell_type": "code",
      "execution_count": 21,
      "id": "pjTLW6ct_71q",
      "metadata": {
        "colab": {
          "base_uri": "https://localhost:8080/",
          "height": 268
        },
        "id": "pjTLW6ct_71q",
        "outputId": "492fa335-4777-430d-df99-d376f1efd620"
      },
      "outputs": [
        {
          "name": "stdout",
          "output_type": "stream",
          "text": [
            "\n",
            "\n",
            "\u001b[1m> Entering new ArangoGraphQAChain chain...\u001b[0m\n",
            "AQL Query (1):\u001b[32;1m\u001b[1;3m\n",
            "WITH Characters\n",
            "FOR character IN Characters\n",
            "    FILTER character.name == 'Rickard' AND character.surname == 'Stark'\n",
            "    RETURN character.age\n",
            "\u001b[0m\n",
            "AQL Result:\n",
            "\u001b[32;1m\u001b[1;3m[60]\u001b[0m\n",
            "\n",
            "\u001b[1m> Finished chain.\u001b[0m\n"
          ]
        },
        {
          "data": {
            "application/vnd.google.colaboratory.intrinsic+json": {
              "type": "string"
            },
            "text/plain": [
              "'Rickard Stark is 60 years old.'"
            ]
          },
          "execution_count": 21,
          "metadata": {},
          "output_type": "execute_result"
        }
      ],
      "source": [
        "chain.invoke(\"Wie alt ist Rickard Stark?\") # (German: \"How old is Rickard Stark?\")"
      ]
    },
    {
      "cell_type": "code",
      "execution_count": 22,
      "id": "-VfkVtt4_9FK",
      "metadata": {
        "colab": {
          "base_uri": "https://localhost:8080/",
          "height": 285
        },
        "id": "-VfkVtt4_9FK",
        "outputId": "b718d045-9f29-4ce8-ed12-caf7bf889422"
      },
      "outputs": [
        {
          "name": "stdout",
          "output_type": "stream",
          "text": [
            "\n",
            "\n",
            "\u001b[1m> Entering new ArangoGraphQAChain chain...\u001b[0m\n",
            "AQL Query (1):\u001b[32;1m\u001b[1;3m\n",
            "WITH Characters\n",
            "FOR character IN Characters\n",
            "    FILTER character.surname == 'Stark'\n",
            "    COLLECT AGGREGATE avgAge = AVG(character.age)\n",
            "    RETURN avgAge\n",
            "\u001b[0m\n",
            "AQL Result:\n",
            "\u001b[32;1m\u001b[1;3m[31.375]\u001b[0m\n",
            "\n",
            "\u001b[1m> Finished chain.\u001b[0m\n"
          ]
        },
        {
          "data": {
            "application/vnd.google.colaboratory.intrinsic+json": {
              "type": "string"
            },
            "text/plain": [
              "'The average age of the Stark family members in the Game of Thrones database is approximately 31.4 years.'"
            ]
          },
          "execution_count": 22,
          "metadata": {},
          "output_type": "execute_result"
        }
      ],
      "source": [
        "chain.invoke(\"What is the average age within the Stark family?\")"
      ]
    },
    {
      "cell_type": "code",
      "execution_count": 23,
      "id": "89-QJ87m__ol",
      "metadata": {
        "colab": {
          "base_uri": "https://localhost:8080/",
          "height": 288
        },
        "id": "89-QJ87m__ol",
        "outputId": "b869d5f7-aee9-44db-fcea-cbcbc8888fee"
      },
      "outputs": [
        {
          "name": "stdout",
          "output_type": "stream",
          "text": [
            "\n",
            "\n",
            "\u001b[1m> Entering new ArangoGraphQAChain chain...\u001b[0m\n",
            "AQL Query (1):\u001b[32;1m\u001b[1;3m\n",
            "WITH Characters, ChildOf\n",
            "FOR v, e IN 1..1 OUTBOUND 'Characters/BranStark' ChildOf\n",
            "FILTER v.alive == false\n",
            "RETURN v\n",
            "\u001b[0m\n",
            "AQL Result:\n",
            "\u001b[32;1m\u001b[1;3m[{'_key': 'CatelynStark', '_id': 'Characters/CatelynStark', '_rev': '_gw7CBWu--B', 'name': 'Catelyn', 'surname': 'Stark', 'alive': False, 'age': 40, 'gender': 'female'}]\u001b[0m\n",
            "\n",
            "\u001b[1m> Finished chain.\u001b[0m\n"
          ]
        },
        {
          "data": {
            "application/vnd.google.colaboratory.intrinsic+json": {
              "type": "string"
            },
            "text/plain": [
              "'Yes, Bran Stark does have a deceased parent. His mother, Catelyn Stark, is no longer alive.'"
            ]
          },
          "execution_count": 23,
          "metadata": {},
          "output_type": "execute_result"
        }
      ],
      "source": [
        "chain.invoke(\"Does Bran Stark have a dead parent?\")"
      ]
    },
    {
      "cell_type": "code",
      "execution_count": 26,
      "id": "MV6ENBJVAB-w",
      "metadata": {
        "colab": {
          "base_uri": "https://localhost:8080/",
          "height": 377
        },
        "id": "MV6ENBJVAB-w",
        "outputId": "9c47e38f-d428-4f9f-bd7e-e0e7cf3a7651"
      },
      "outputs": [
        {
          "name": "stdout",
          "output_type": "stream",
          "text": [
            "\n",
            "\n",
            "\u001b[1m> Entering new ArangoGraphQAChain chain...\u001b[0m\n",
            "AQL Query (1):\u001b[32;1m\u001b[1;3m\n",
            "WITH Characters, ChildOf\n",
            "FOR v IN Characters\n",
            "    FILTER v.name == 'Catelyn' AND v.surname == 'Stark'\n",
            "    FOR e IN ChildOf\n",
            "        FILTER e._to == v._id\n",
            "        FOR c IN Characters\n",
            "            FILTER c._id == e._from\n",
            "            RETURN c\n",
            "\u001b[0m\n",
            "AQL Result:\n",
            "\u001b[32;1m\u001b[1;3m[{'_key': 'AryaStark', '_id': 'Characters/AryaStark', '_rev': '_gw7CBWu--C', 'name': 'Arya', 'surname': 'Stark', 'alive': True, 'age': 11, 'gender': 'female'}, {'_key': 'BranStark', '_id': 'Characters/BranStark', '_rev': '_gw7CBWu--D', 'name': 'Bran', 'surname': 'Stark', 'alive': True, 'age': 10, 'gender': 'male'}, {'_key': 'RobbStark', '_id': 'Characters/RobbStark', '_rev': '_gw7CBWu--E', 'name': 'Robb', 'surname': 'Stark', 'alive': False, 'age': 16, 'gender': 'male'}, {'_key': 'SansaStark', '_id': 'Characters/SansaStark', '_rev': '_gw7CBWu--F', 'name': 'Sansa', 'surname': 'Stark', 'alive': True, 'age': 13, 'gender': 'female'}]\u001b[0m\n",
            "\n",
            "\u001b[1m> Finished chain.\u001b[0m\n"
          ]
        },
        {
          "data": {
            "application/vnd.google.colaboratory.intrinsic+json": {
              "type": "string"
            },
            "text/plain": [
              "'Catelyn Stark has four children. Arya Stark, a female, is 11 years old and currently alive. Bran Stark, a male, is 10 years old and also alive. Robb Stark, a male, was 16 years old but is now deceased. Lastly, Sansa Stark, a female, is 13 years old and currently alive.'"
            ]
          },
          "execution_count": 26,
          "metadata": {},
          "output_type": "execute_result"
        }
      ],
      "source": [
        "chain.invoke(\"Who are Catelyn Stark's children?\")"
      ]
    },
    {
      "cell_type": "code",
      "execution_count": 27,
      "id": "_2maN0_sAFCO",
      "metadata": {
        "colab": {
          "base_uri": "https://localhost:8080/",
          "height": 357
        },
        "id": "_2maN0_sAFCO",
        "outputId": "1b5b1f62-57fa-4d22-d3eb-14ca5cff1c1f"
      },
      "outputs": [
        {
          "name": "stdout",
          "output_type": "stream",
          "text": [
            "\n",
            "\n",
            "\u001b[1m> Entering new ArangoGraphQAChain chain...\u001b[0m\n",
            "AQL Query (1):\u001b[32;1m\u001b[1;3m\n",
            "WITH Characters\n",
            "INSERT {\n",
            "  \"_key\": \"JonSnow\",\n",
            "  \"name\": \"Jon\",\n",
            "  \"surname\": \"Snow\",\n",
            "  \"alive\": true,\n",
            "  \"age\": 31,\n",
            "  \"gender\": \"male\"\n",
            "} INTO Characters\n",
            "\u001b[0m\n",
            "AQL Result:\n",
            "\u001b[32;1m\u001b[1;3m[]\u001b[0m\n",
            "\n",
            "\u001b[1m> Finished chain.\u001b[0m\n"
          ]
        },
        {
          "data": {
            "application/vnd.google.colaboratory.intrinsic+json": {
              "type": "string"
            },
            "text/plain": [
              "'Summary:\\nThe character Jon Snow, a 31-year-old male, has been successfully added to the database.'"
            ]
          },
          "execution_count": 27,
          "metadata": {},
          "output_type": "execute_result"
        }
      ],
      "source": [
        "chain.invoke(\"Add Jon Snow, 31, a male character\")"
      ]
    },
    {
      "cell_type": "code",
      "execution_count": 29,
      "id": "_MHWiAVeM3Cg",
      "metadata": {
        "colab": {
          "base_uri": "https://localhost:8080/",
          "height": 232
        },
        "id": "_MHWiAVeM3Cg",
        "outputId": "73b4e8df-ede4-465d-8af3-f719baa8d3c8"
      },
      "outputs": [
        {
          "name": "stdout",
          "output_type": "stream",
          "text": [
            "\n",
            "\n",
            "\u001b[1m> Entering new ArangoGraphQAChain chain...\u001b[0m\n",
            "AQL Query (1):\u001b[32;1m\u001b[1;3m\n",
            "WITH Characters, ChildOf\n",
            "INSERT {_from: \"Characters/JonSnow\", _to: \"Characters/NedStark\"} INTO ChildOf\n",
            "\u001b[0m\n",
            "AQL Result:\n",
            "\u001b[32;1m\u001b[1;3m[]\u001b[0m\n",
            "\n",
            "\u001b[1m> Finished chain.\u001b[0m\n"
          ]
        },
        {
          "data": {
            "application/vnd.google.colaboratory.intrinsic+json": {
              "type": "string"
            },
            "text/plain": [
              "'Summary:\\n\\nA relationship has been successfully established in the Game of Thrones graph, indicating that Jon Snow is a child of Ned Stark.'"
            ]
          },
          "execution_count": 29,
          "metadata": {},
          "output_type": "execute_result"
        }
      ],
      "source": [
        "chain.invoke(\"Create a ChildOf edge from Jon Snow to Ned Stark\")"
      ]
    },
    {
      "cell_type": "code",
      "execution_count": 30,
      "id": "3mU0MyGsM6gX",
      "metadata": {
        "colab": {
          "base_uri": "https://localhost:8080/",
          "height": 305
        },
        "id": "3mU0MyGsM6gX",
        "outputId": "8f9f281d-d524-459c-c4cc-947d547f2795"
      },
      "outputs": [
        {
          "name": "stdout",
          "output_type": "stream",
          "text": [
            "\n",
            "\n",
            "\u001b[1m> Entering new ArangoGraphQAChain chain...\u001b[0m\n",
            "AQL Query (1):\u001b[32;1m\u001b[1;3m\n",
            "WITH Characters, ChildOf\n",
            "FOR v, e IN 1..1 ANY 'Characters/NedStark' ChildOf\n",
            "RETURN v\n",
            "\u001b[0m\n",
            "AQL Result:\n",
            "\u001b[32;1m\u001b[1;3m[{'_key': 'JonSnow', '_id': 'Characters/JonSnow', '_rev': '_gw7E4km--A', 'name': 'Jon', 'surname': 'Snow', 'alive': True, 'age': 31, 'gender': 'male'}, {'_key': 'AryaStark', '_id': 'Characters/AryaStark', '_rev': '_gw7CBWu--C', 'name': 'Arya', 'surname': 'Stark', 'alive': True, 'age': 11, 'gender': 'female'}, {'_key': 'SansaStark', '_id': 'Characters/SansaStark', '_rev': '_gw7CBWu--F', 'name': 'Sansa', 'surname': 'Stark', 'alive': True, 'age': 13, 'gender': 'female'}, {'_key': 'RobbStark', '_id': 'Characters/RobbStark', '_rev': '_gw7CBWu--E', 'name': 'Robb', 'surname': 'Stark', 'alive': False, 'age': 16, 'gender': 'male'}, {'_key': 'BranStark', '_id': 'Characters/BranStark', '_rev': '_gw7CBWu--D', 'name': 'Bran', 'surname': 'Stark', 'alive': True, 'age': 10, 'gender': 'male'}, {'_key': 'JonSnow', '_id': 'Characters/JonSnow', '_rev': '_gw7E4km--A', 'name': 'Jon', 'surname': 'Snow', 'alive': True, 'age': 31, 'gender': 'male'}, {'_key': 'LyarraStark', '_id': 'Characters/LyarraStark', '_rev': '_gw7CBWu--_', 'name': 'Lyarra', 'surname': 'Stark', 'alive': False, 'age': 60, 'gender': 'female'}, {'_key': 'RickardStark', '_id': 'Characters/RickardStark', '_rev': '_gw7CBWu---', 'name': 'Rickard', 'surname': 'Stark', 'alive': False, 'age': 60, 'gender': 'male'}]\u001b[0m\n",
            "\n",
            "\u001b[1m> Finished chain.\u001b[0m\n"
          ]
        },
        {
          "data": {
            "application/vnd.google.colaboratory.intrinsic+json": {
              "type": "string"
            },
            "text/plain": [
              "'Ned Stark is related to several characters. His children are Jon Snow, a 31-year-old male who is alive; Arya Stark, an 11-year-old female who is alive; Sansa Stark, a 13-year-old female who is alive; Robb Stark, a 16-year-old male who is deceased; and Bran Stark, a 10-year-old male who is alive. He is also related to Lyarra Stark, a 60-year-old female who is deceased, and Rickard Stark, a 60-year-old male who is deceased.'"
            ]
          },
          "execution_count": 30,
          "metadata": {},
          "output_type": "execute_result"
        }
      ],
      "source": [
        "chain.invoke(\"Who is related to Ned Stark?\")"
      ]
    },
    {
      "cell_type": "code",
      "execution_count": 31,
      "id": "jpK1CTypN0s6",
      "metadata": {
        "colab": {
          "base_uri": "https://localhost:8080/",
          "height": 359
        },
        "id": "jpK1CTypN0s6",
        "outputId": "a38af56d-0f05-4bba-d913-c63301d0d8d0"
      },
      "outputs": [
        {
          "name": "stdout",
          "output_type": "stream",
          "text": [
            "\n",
            "\n",
            "\u001b[1m> Entering new ArangoGraphQAChain chain...\u001b[0m\n",
            "AQL Query (1):\u001b[32;1m\u001b[1;3m\n",
            "WITH Characters\n",
            "FOR character IN Characters\n",
            "    RETURN character\n",
            "\u001b[0m\n",
            "AQL Result:\n",
            "\u001b[32;1m\u001b[1;3m[{'_key': 'RickardStark', '_id': 'Characters/RickardStark', '_rev': '_gw7CBWu---', 'name': 'Rickard', 'surname': 'Stark', 'alive': False, 'age': 60, 'gender': 'male'}, {'_key': 'LyarraStark', '_id': 'Characters/LyarraStark', '_rev': '_gw7CBWu--_', 'name': 'Lyarra', 'surname': 'Stark', 'alive': False, 'age': 60, 'gender': 'female'}, {'_key': 'NedStark', '_id': 'Characters/NedStark', '_rev': '_gw7CBWu--A', 'name': 'Ned', 'surname': 'Stark', 'alive': True, 'age': 41, 'gender': 'male'}, {'_key': 'CatelynStark', '_id': 'Characters/CatelynStark', '_rev': '_gw7CBWu--B', 'name': 'Catelyn', 'surname': 'Stark', 'alive': False, 'age': 40, 'gender': 'female'}, {'_key': 'AryaStark', '_id': 'Characters/AryaStark', '_rev': '_gw7CBWu--C', 'name': 'Arya', 'surname': 'Stark', 'alive': True, 'age': 11, 'gender': 'female'}, {'_key': 'BranStark', '_id': 'Characters/BranStark', '_rev': '_gw7CBWu--D', 'name': 'Bran', 'surname': 'Stark', 'alive': True, 'age': 10, 'gender': 'male'}, {'_key': 'RobbStark', '_id': 'Characters/RobbStark', '_rev': '_gw7CBWu--E', 'name': 'Robb', 'surname': 'Stark', 'alive': False, 'age': 16, 'gender': 'male'}, {'_key': 'SansaStark', '_id': 'Characters/SansaStark', '_rev': '_gw7CBWu--F', 'name': 'Sansa', 'surname': 'Stark', 'alive': True, 'age': 13, 'gender': 'female'}, {'_key': 'TywinLannister', '_id': 'Characters/TywinLannister', '_rev': '_gw7CBWu--G', 'name': 'Tywin', 'surname': 'Lannister', 'alive': False, 'age': 67, 'gender': 'male'}, {'_key': 'JaimeLannister', '_id': 'Characters/JaimeLannister', '_rev': '_gw7CBWu--H', 'name': 'Jaime', 'surname': 'Lannister', 'alive': True, 'age': 36, 'gender': 'male'}]\u001b[0m\n",
            "\n",
            "\u001b[1m> Finished chain.\u001b[0m\n"
          ]
        },
        {
          "data": {
            "application/vnd.google.colaboratory.intrinsic+json": {
              "type": "string"
            },
            "text/plain": [
              "'The database contains information about several characters. Here are some of them:\\n\\n1. Rickard Stark, a male character who is not alive. He was 60 years old.\\n2. Lyarra Stark, a female character who is also not alive. She was 60 years old.\\n3. Ned Stark, a male character who is alive and 41 years old.\\n4. Catelyn Stark, a female character who is not alive. She was 40 years old.\\n5. Arya Stark, a female character who is alive and 11 years old.\\n6. Bran Stark, a male character who is alive and 10 years old.\\n7. Robb Stark, a male character who is not alive. He was 16 years old.\\n8. Sansa Stark, a female character who is alive and 13 years old.\\n9. Tywin Lannister, a male character who is not alive. He was 67 years old.\\n10. Jaime Lannister, a male character who is alive and 36 years old.'"
            ]
          },
          "execution_count": 31,
          "metadata": {},
          "output_type": "execute_result"
        }
      ],
      "source": [
        "chain.invoke(\"What can you tell me about the characters?\")"
      ]
    },
    {
      "cell_type": "code",
      "execution_count": 32,
      "id": "rjJd8BCMN6TE",
      "metadata": {
        "colab": {
          "base_uri": "https://localhost:8080/",
          "height": 288
        },
        "id": "rjJd8BCMN6TE",
        "outputId": "9aa8448d-a879-43eb-a3b9-3a8c4e78faa0"
      },
      "outputs": [
        {
          "name": "stdout",
          "output_type": "stream",
          "text": [
            "\n",
            "\n",
            "\u001b[1m> Entering new ArangoGraphQAChain chain...\u001b[0m\n",
            "AQL Query (1):\u001b[32;1m\u001b[1;3m\n",
            "WITH Characters, ChildOf\n",
            "FOR v, e IN ANY SHORTEST_PATH 'Characters/BranStark' TO 'Characters/RickardStark' ChildOf\n",
            "RETURN {vertices: v, edges: e}\n",
            "\u001b[0m\n",
            "AQL Result:\n",
            "\u001b[32;1m\u001b[1;3m[{'vertices': {'_key': 'BranStark', '_id': 'Characters/BranStark', '_rev': '_gw7CBWu--D', 'name': 'Bran', 'surname': 'Stark', 'alive': True, 'age': 10, 'gender': 'male'}, 'edges': None}, {'vertices': {'_key': 'NedStark', '_id': 'Characters/NedStark', '_rev': '_gw7CBWu--A', 'name': 'Ned', 'surname': 'Stark', 'alive': True, 'age': 41, 'gender': 'male'}, 'edges': {'_key': '266199645213', '_id': 'ChildOf/266199645213', '_from': 'Characters/BranStark', '_to': 'Characters/NedStark', '_rev': '_gw7CBZW---'}}, {'vertices': {'_key': 'RickardStark', '_id': 'Characters/RickardStark', '_rev': '_gw7CBWu---', 'name': 'Rickard', 'surname': 'Stark', 'alive': False, 'age': 60, 'gender': 'male'}, 'edges': {'_key': '266199645221', '_id': 'ChildOf/266199645221', '_from': 'Characters/NedStark', '_to': 'Characters/RickardStark', '_rev': '_gw7CBZe--C'}}]\u001b[0m\n",
            "\n",
            "\u001b[1m> Finished chain.\u001b[0m\n"
          ]
        },
        {
          "data": {
            "application/vnd.google.colaboratory.intrinsic+json": {
              "type": "string"
            },
            "text/plain": [
              "'The shortest path from Bran Stark to Rickard Stark in the Game of Thrones universe is through Ned Stark. Bran Stark is the son of Ned Stark, who in turn is the son of Rickard Stark.'"
            ]
          },
          "execution_count": 32,
          "metadata": {},
          "output_type": "execute_result"
        }
      ],
      "source": [
        "chain.invoke(\"What is the shortest path from Bran Stark to Rickard Stark?\")"
      ]
    },
    {
      "cell_type": "code",
      "execution_count": 39,
      "id": "h1OgY3LbOZmI",
      "metadata": {
        "colab": {
          "base_uri": "https://localhost:8080/",
          "height": 288
        },
        "id": "h1OgY3LbOZmI",
        "outputId": "f0ec4dd7-3851-41ef-e767-d4526d714119"
      },
      "outputs": [
        {
          "name": "stdout",
          "output_type": "stream",
          "text": [
            "\n",
            "\n",
            "\u001b[1m> Entering new ArangoGraphQAChain chain...\u001b[0m\n",
            "AQL Query (1):\u001b[32;1m\u001b[1;3m\n",
            "WITH Characters, ChildOf\n",
            "FOR v, e, p IN 1..100 OUTBOUND 'Characters/JoffreyBaratheon' ChildOf\n",
            "RETURN p.vertices\n",
            "\u001b[0m\n",
            "AQL Result:\n",
            "\u001b[32;1m\u001b[1;3m[[{'_key': 'JoffreyBaratheon', '_id': 'Characters/JoffreyBaratheon', '_rev': '_gw7CBWu--L', 'name': 'Joffrey', 'surname': 'Baratheon', 'alive': False, 'age': 19, 'gender': 'male'}, {'_key': 'JaimeLannister', '_id': 'Characters/JaimeLannister', '_rev': '_gw7CBWu--H', 'name': 'Jaime', 'surname': 'Lannister', 'alive': True, 'age': 36, 'gender': 'male'}], [{'_key': 'JoffreyBaratheon', '_id': 'Characters/JoffreyBaratheon', '_rev': '_gw7CBWu--L', 'name': 'Joffrey', 'surname': 'Baratheon', 'alive': False, 'age': 19, 'gender': 'male'}, {'_key': 'JaimeLannister', '_id': 'Characters/JaimeLannister', '_rev': '_gw7CBWu--H', 'name': 'Jaime', 'surname': 'Lannister', 'alive': True, 'age': 36, 'gender': 'male'}, {'_key': 'TywinLannister', '_id': 'Characters/TywinLannister', '_rev': '_gw7CBWu--G', 'name': 'Tywin', 'surname': 'Lannister', 'alive': False, 'age': 67, 'gender': 'male'}], [{'_key': 'JoffreyBaratheon', '_id': 'Characters/JoffreyBaratheon', '_rev': '_gw7CBWu--L', 'name': 'Joffrey', 'surname': 'Baratheon', 'alive': False, 'age': 19, 'gender': 'male'}, {'_key': 'CerseiLannister', '_id': 'Characters/CerseiLannister', '_rev': '_gw7CBWu--I', 'name': 'Cersei', 'surname': 'Lannister', 'alive': True, 'age': 36, 'gender': 'female'}], [{'_key': 'JoffreyBaratheon', '_id': 'Characters/JoffreyBaratheon', '_rev': '_gw7CBWu--L', 'name': 'Joffrey', 'surname': 'Baratheon', 'alive': False, 'age': 19, 'gender': 'male'}, {'_key': 'CerseiLannister', '_id': 'Characters/CerseiLannister', '_rev': '_gw7CBWu--I', 'name': 'Cersei', 'surname': 'Lannister', 'alive': True, 'age': 36, 'gender': 'female'}, {'_key': 'TywinLannister', '_id': 'Characters/TywinLannister', '_rev': '_gw7CBWu--G', 'name': 'Tywin', 'surname': 'Lannister', 'alive': False, 'age': 67, 'gender': 'male'}]]\u001b[0m\n",
            "\n",
            "\u001b[1m> Finished chain.\u001b[0m\n"
          ]
        },
        {
          "data": {
            "application/vnd.google.colaboratory.intrinsic+json": {
              "type": "string"
            },
            "text/plain": [
              "'The family tree of Joffrey Baratheon includes his parents and his grandfather. His father is Jaime Lannister, who is currently alive and 36 years old. His mother is Cersei Lannister, who is also alive and 36 years old. His grandfather is Tywin Lannister, who is no longer alive and was 67 years old.'"
            ]
          },
          "execution_count": 39,
          "metadata": {},
          "output_type": "execute_result"
        }
      ],
      "source": [
        "chain.invoke(\"What is th family tree of Joffrey Baratheon?\")"
      ]
    },
    {
      "cell_type": "code",
      "execution_count": 40,
      "id": "BOcwm5eIN795",
      "metadata": {
        "colab": {
          "base_uri": "https://localhost:8080/",
          "height": 288
        },
        "id": "BOcwm5eIN795",
        "outputId": "02f90bfd-310d-491a-8103-673675f8b436"
      },
      "outputs": [
        {
          "name": "stdout",
          "output_type": "stream",
          "text": [
            "\n",
            "\n",
            "\u001b[1m> Entering new ArangoGraphQAChain chain...\u001b[0m\n",
            "AQL Query (1):\u001b[32;1m\u001b[1;3m\n",
            "WITH Characters, ChildOf\n",
            "FOR v, e IN 1..10 ANY 'Characters/BranStark' ChildOf\n",
            "  FILTER v._key == 'RickardStark'\n",
            "  RETURN e\n",
            "\u001b[0m\n",
            "AQL Result:\n",
            "\u001b[32;1m\u001b[1;3m[{'_key': '266199645221', '_id': 'ChildOf/266199645221', '_from': 'Characters/NedStark', '_to': 'Characters/RickardStark', '_rev': '_gw7CBZe--C'}, {'_key': '266199645221', '_id': 'ChildOf/266199645221', '_from': 'Characters/NedStark', '_to': 'Characters/RickardStark', '_rev': '_gw7CBZe--C'}, {'_key': '266199645221', '_id': 'ChildOf/266199645221', '_from': 'Characters/NedStark', '_to': 'Characters/RickardStark', '_rev': '_gw7CBZe--C'}, {'_key': '266199645221', '_id': 'ChildOf/266199645221', '_from': 'Characters/NedStark', '_to': 'Characters/RickardStark', '_rev': '_gw7CBZe--C'}, {'_key': '266199645221', '_id': 'ChildOf/266199645221', '_from': 'Characters/NedStark', '_to': 'Characters/RickardStark', '_rev': '_gw7CBZe--C'}, {'_key': '266199645221', '_id': 'ChildOf/266199645221', '_from': 'Characters/NedStark', '_to': 'Characters/RickardStark', '_rev': '_gw7CBZe--C'}, {'_key': '266199645221', '_id': 'ChildOf/266199645221', '_from': 'Characters/NedStark', '_to': 'Characters/RickardStark', '_rev': '_gw7CBZe--C'}, {'_key': '266199645221', '_id': 'ChildOf/266199645221', '_from': 'Characters/NedStark', '_to': 'Characters/RickardStark', '_rev': '_gw7CBZe--C'}, {'_key': '266199645221', '_id': 'ChildOf/266199645221', '_from': 'Characters/NedStark', '_to': 'Characters/RickardStark', '_rev': '_gw7CBZe--C'}, {'_key': '266199645221', '_id': 'ChildOf/266199645221', '_from': 'Characters/NedStark', '_to': 'Characters/RickardStark', '_rev': '_gw7CBZe--C'}]\u001b[0m\n",
            "\n",
            "\u001b[1m> Finished chain.\u001b[0m\n"
          ]
        },
        {
          "data": {
            "application/vnd.google.colaboratory.intrinsic+json": {
              "type": "string"
            },
            "text/plain": [
              "'Bran Stark and Rickard Stark are related through Ned Stark. Ned Stark is the son of Rickard Stark and the father of Bran Stark.'"
            ]
          },
          "execution_count": 40,
          "metadata": {},
          "output_type": "execute_result"
        }
      ],
      "source": [
        "chain.invoke(\"What is the relationship between Bran Stark and Rickard Stark?\")"
      ]
    },
    {
      "cell_type": "code",
      "execution_count": 43,
      "id": "vxZYOwH5ORVp",
      "metadata": {
        "colab": {
          "base_uri": "https://localhost:8080/",
          "height": 288
        },
        "id": "vxZYOwH5ORVp",
        "outputId": "65ff944a-f13d-4e41-9005-8619c1dc02ae"
      },
      "outputs": [
        {
          "name": "stdout",
          "output_type": "stream",
          "text": [
            "\n",
            "\n",
            "\u001b[1m> Entering new ArangoGraphQAChain chain...\u001b[0m\n",
            "AQL Query (1):\u001b[32;1m\u001b[1;3m\n",
            "WITH Characters, ChildOf\n",
            "FOR v, e IN 1..10 ANY 'Characters/AryaStark' ChildOf\n",
            "  FILTER v._key == 'NedStark'\n",
            "  RETURN v\n",
            "\u001b[0m\n",
            "AQL Result:\n",
            "\u001b[32;1m\u001b[1;3m[{'_key': 'NedStark', '_id': 'Characters/NedStark', '_rev': '_gw7CBWu--A', 'name': 'Ned', 'surname': 'Stark', 'alive': True, 'age': 41, 'gender': 'male'}, {'_key': 'NedStark', '_id': 'Characters/NedStark', '_rev': '_gw7CBWu--A', 'name': 'Ned', 'surname': 'Stark', 'alive': True, 'age': 41, 'gender': 'male'}, {'_key': 'NedStark', '_id': 'Characters/NedStark', '_rev': '_gw7CBWu--A', 'name': 'Ned', 'surname': 'Stark', 'alive': True, 'age': 41, 'gender': 'male'}, {'_key': 'NedStark', '_id': 'Characters/NedStark', '_rev': '_gw7CBWu--A', 'name': 'Ned', 'surname': 'Stark', 'alive': True, 'age': 41, 'gender': 'male'}, {'_key': 'NedStark', '_id': 'Characters/NedStark', '_rev': '_gw7CBWu--A', 'name': 'Ned', 'surname': 'Stark', 'alive': True, 'age': 41, 'gender': 'male'}, {'_key': 'NedStark', '_id': 'Characters/NedStark', '_rev': '_gw7CBWu--A', 'name': 'Ned', 'surname': 'Stark', 'alive': True, 'age': 41, 'gender': 'male'}, {'_key': 'NedStark', '_id': 'Characters/NedStark', '_rev': '_gw7CBWu--A', 'name': 'Ned', 'surname': 'Stark', 'alive': True, 'age': 41, 'gender': 'male'}, {'_key': 'NedStark', '_id': 'Characters/NedStark', '_rev': '_gw7CBWu--A', 'name': 'Ned', 'surname': 'Stark', 'alive': True, 'age': 41, 'gender': 'male'}, {'_key': 'NedStark', '_id': 'Characters/NedStark', '_rev': '_gw7CBWu--A', 'name': 'Ned', 'surname': 'Stark', 'alive': True, 'age': 41, 'gender': 'male'}, {'_key': 'NedStark', '_id': 'Characters/NedStark', '_rev': '_gw7CBWu--A', 'name': 'Ned', 'surname': 'Stark', 'alive': True, 'age': 41, 'gender': 'male'}]\u001b[0m\n",
            "\n",
            "\u001b[1m> Finished chain.\u001b[0m\n"
          ]
        },
        {
          "data": {
            "application/vnd.google.colaboratory.intrinsic+json": {
              "type": "string"
            },
            "text/plain": [
              "'Yes, Arya Stark and Ned Stark are related. Ned Stark, who is alive and 41 years old, is a relative of Arya Stark.'"
            ]
          },
          "execution_count": 43,
          "metadata": {},
          "output_type": "execute_result"
        }
      ],
      "source": [
        "chain.invoke(\"Are Arya Stark and Ned Stark related?\")"
      ]
    },
    {
      "cell_type": "code",
      "execution_count": 44,
      "id": "0qYH7IG1OWFm",
      "metadata": {
        "colab": {
          "base_uri": "https://localhost:8080/",
          "height": 268
        },
        "id": "0qYH7IG1OWFm",
        "outputId": "62cf974f-28da-4dc9-e881-1877c59794bc"
      },
      "outputs": [
        {
          "name": "stdout",
          "output_type": "stream",
          "text": [
            "\n",
            "\n",
            "\u001b[1m> Entering new ArangoGraphQAChain chain...\u001b[0m\n",
            "AQL Query (1):\u001b[32;1m\u001b[1;3m\n",
            "WITH Characters\n",
            "FOR character IN Characters\n",
            "    FILTER character._key == 'NedStark'\n",
            "    RETURN character.alive\n",
            "\u001b[0m\n",
            "AQL Result:\n",
            "\u001b[32;1m\u001b[1;3m[True]\u001b[0m\n",
            "\n",
            "\u001b[1m> Finished chain.\u001b[0m\n"
          ]
        },
        {
          "data": {
            "application/vnd.google.colaboratory.intrinsic+json": {
              "type": "string"
            },
            "text/plain": [
              "'Yes, according to the database, Ned Stark is alive.'"
            ]
          },
          "execution_count": 44,
          "metadata": {},
          "output_type": "execute_result"
        }
      ],
      "source": [
        "chain.invoke(\"Is Ned Stark alive?\")"
      ]
    },
    {
      "cell_type": "code",
      "execution_count": 46,
      "id": "H_k57SLRODIv",
      "metadata": {
        "colab": {
          "base_uri": "https://localhost:8080/",
          "height": 232
        },
        "id": "H_k57SLRODIv",
        "outputId": "dd457f27-2e49-4e5c-de80-9cc004ecf8c5"
      },
      "outputs": [
        {
          "name": "stdout",
          "output_type": "stream",
          "text": [
            "\n",
            "\n",
            "\u001b[1m> Entering new ArangoGraphQAChain chain...\u001b[0m\n",
            "AQL Query (1):\u001b[32;1m\u001b[1;3m\n",
            "WITH Characters\n",
            "UPDATE \"NedStark\" WITH { alive: false } IN Characters\n",
            "\u001b[0m\n",
            "AQL Result:\n",
            "\u001b[32;1m\u001b[1;3m[]\u001b[0m\n",
            "\n",
            "\u001b[1m> Finished chain.\u001b[0m\n"
          ]
        },
        {
          "data": {
            "application/vnd.google.colaboratory.intrinsic+json": {
              "type": "string"
            },
            "text/plain": [
              "'The data has been updated successfully. Ned Stark is now marked as deceased in the database.'"
            ]
          },
          "execution_count": 46,
          "metadata": {},
          "output_type": "execute_result"
        }
      ],
      "source": [
        "chain.invoke(\"Ned Stark has died. Update the data\")"
      ]
    },
    {
      "cell_type": "code",
      "execution_count": 48,
      "id": "ghVJEfZuOMcK",
      "metadata": {
        "colab": {
          "base_uri": "https://localhost:8080/",
          "height": 268
        },
        "id": "ghVJEfZuOMcK",
        "outputId": "8eee9960-01f4-4bb6-cf0b-819b21eaea90"
      },
      "outputs": [
        {
          "name": "stdout",
          "output_type": "stream",
          "text": [
            "\n",
            "\n",
            "\u001b[1m> Entering new ArangoGraphQAChain chain...\u001b[0m\n",
            "AQL Query (1):\u001b[32;1m\u001b[1;3m\n",
            "WITH Characters\n",
            "FOR character IN Characters\n",
            "    COLLECT status = character.alive WITH COUNT INTO count\n",
            "    RETURN { \"status\": status, \"count\": count }\n",
            "\u001b[0m\n",
            "AQL Result:\n",
            "\u001b[32;1m\u001b[1;3m[{'status': False, 'count': 7}, {'status': True, 'count': 7}]\u001b[0m\n",
            "\n",
            "\u001b[1m> Finished chain.\u001b[0m\n"
          ]
        },
        {
          "data": {
            "application/vnd.google.colaboratory.intrinsic+json": {
              "type": "string"
            },
            "text/plain": [
              "'In the Game of Thrones database, there are 7 characters who are currently alive and 7 characters who are deceased.'"
            ]
          },
          "execution_count": 48,
          "metadata": {},
          "output_type": "execute_result"
        }
      ],
      "source": [
        "chain.invoke(\"How many characters are alive? How many characters are dead?\")"
      ]
    },
    {
      "cell_type": "code",
      "execution_count": 52,
      "id": "NmR7P693ONPl",
      "metadata": {
        "colab": {
          "base_uri": "https://localhost:8080/",
          "height": 288
        },
        "id": "NmR7P693ONPl",
        "outputId": "1e59c88e-ab95-40cf-fc95-2dfc1faee66d"
      },
      "outputs": [
        {
          "name": "stdout",
          "output_type": "stream",
          "text": [
            "\n",
            "\n",
            "\u001b[1m> Entering new ArangoGraphQAChain chain...\u001b[0m\n",
            "AQL Query (1):\u001b[32;1m\u001b[1;3m\n",
            "WITH Characters, ChildOf\n",
            "FOR v, e IN 1..1 ANY 'Characters/AryaStark' ChildOf\n",
            "  FILTER v.alive == false\n",
            "  RETURN v\n",
            "\u001b[0m\n",
            "AQL Result:\n",
            "\u001b[32;1m\u001b[1;3m[{'_key': 'CatelynStark', '_id': 'Characters/CatelynStark', '_rev': '_gw7CBWu--B', 'name': 'Catelyn', 'surname': 'Stark', 'alive': False, 'age': 40, 'gender': 'female'}, {'_key': 'NedStark', '_id': 'Characters/NedStark', '_rev': '_gw7KMqO--_', 'name': 'Ned', 'surname': 'Stark', 'alive': False, 'age': 41, 'gender': 'male'}]\u001b[0m\n",
            "\n",
            "\u001b[1m> Finished chain.\u001b[0m\n"
          ]
        },
        {
          "data": {
            "application/vnd.google.colaboratory.intrinsic+json": {
              "type": "string"
            },
            "text/plain": [
              "'Yes, Arya Stark is an orphan. Both of her parents, Catelyn Stark and Ned Stark, are deceased.'"
            ]
          },
          "execution_count": 52,
          "metadata": {},
          "output_type": "execute_result"
        }
      ],
      "source": [
        "chain.invoke(\"Is Arya Stark an orphan?\")"
      ]
    },
    {
      "cell_type": "markdown",
      "id": "Ob_3aGauGd7d",
      "metadata": {
        "id": "Ob_3aGauGd7d"
      },
      "source": [
        "## Prompt Modifiers"
      ]
    },
    {
      "cell_type": "markdown",
      "metadata": {},
      "source": [
        "[Prompt Engineering](https://en.wikipedia.org/wiki/Prompt_engineering) can be defined as process of improving a prompt to achieve a better result from a language model.\n",
        "\n",
        "The `chain` object comes with a set of built-in prompt modifiers that can be used to improve the quality of the results. These modifiers are:\n",
        "- `top_k`: Limit the maximum number of results returned by the AQL Query execution\n",
        "- `max_aql_generation_attempts`: Limit the maximum number of times the AQL Query is generated before giving up (i.e if the query is invalid)\n",
        "- `return_aql_query`: Return the AQL Query as part of the output dictionary (useful for debugging)\n",
        "- `return_aql_result`: Return the AQL Query Result as part of the output dictionary (useful for debugging)\n",
        "- `aql_examples`: A list of AQL Examples for the model to learn from when generating the next AQL Query. This is a powerful tool for teaching the model how to generate AQL Queries for your specific dataset.\n",
        "\n",
        "Let's start by looking at the `aql_examples` modifier."
      ]
    },
    {
      "cell_type": "code",
      "execution_count": 54,
      "id": "Q7zxc0kBPhpg",
      "metadata": {
        "colab": {
          "base_uri": "https://localhost:8080/",
          "height": 250
        },
        "id": "Q7zxc0kBPhpg",
        "outputId": "d3568780-931d-43d5-8b10-5a71b306e1ee"
      },
      "outputs": [
        {
          "name": "stdout",
          "output_type": "stream",
          "text": [
            "\n",
            "\n",
            "\u001b[1m> Entering new ArangoGraphQAChain chain...\u001b[0m\n",
            "AQL Query (1):\u001b[32;1m\u001b[1;3m\n",
            "WITH Characters, ChildOf\n",
            "FOR v, e IN 2..2 OUTBOUND 'Characters/RickardStark' ChildOf\n",
            "RETURN v\n",
            "\u001b[0m\n",
            "AQL Result:\n",
            "\u001b[32;1m\u001b[1;3m[]\u001b[0m\n",
            "\n",
            "\u001b[1m> Finished chain.\u001b[0m\n"
          ]
        },
        {
          "data": {
            "application/vnd.google.colaboratory.intrinsic+json": {
              "type": "string"
            },
            "text/plain": [
              "'Based on the information available, Rickard Stark does not have any grandchildren recorded in the database.'"
            ]
          },
          "execution_count": 54,
          "metadata": {},
          "output_type": "execute_result"
        }
      ],
      "source": [
        "# Notice how the following prompt returns nothing;\n",
        "chain.invoke(\"Who are the grandchildren of Rickard Stark?\")"
      ]
    },
    {
      "cell_type": "code",
      "execution_count": 55,
      "id": "zoxZwQh5Pj4J",
      "metadata": {
        "colab": {
          "base_uri": "https://localhost:8080/",
          "height": 305
        },
        "id": "zoxZwQh5Pj4J",
        "outputId": "4cdf5564-5dee-4e1b-e0f1-c3e3f07a8ca9"
      },
      "outputs": [
        {
          "name": "stdout",
          "output_type": "stream",
          "text": [
            "\n",
            "\n",
            "\u001b[1m> Entering new ArangoGraphQAChain chain...\u001b[0m\n",
            "AQL Query (1):\u001b[32;1m\u001b[1;3m\n",
            "WITH Characters, ChildOf\n",
            "FOR v, e IN 2..2 INBOUND 'Characters/RickardStark' GRAPH 'GameOfThrones'\n",
            "RETURN v\n",
            "\u001b[0m\n",
            "AQL Result:\n",
            "\u001b[32;1m\u001b[1;3m[{'_key': 'JonSnow', '_id': 'Characters/JonSnow', '_rev': '_gw7E4km--A', 'name': 'Jon', 'surname': 'Snow', 'alive': True, 'age': 31, 'gender': 'male'}, {'_key': 'AryaStark', '_id': 'Characters/AryaStark', '_rev': '_gw7CBWu--C', 'name': 'Arya', 'surname': 'Stark', 'alive': True, 'age': 11, 'gender': 'female'}, {'_key': 'SansaStark', '_id': 'Characters/SansaStark', '_rev': '_gw7CBWu--F', 'name': 'Sansa', 'surname': 'Stark', 'alive': True, 'age': 13, 'gender': 'female'}, {'_key': 'RobbStark', '_id': 'Characters/RobbStark', '_rev': '_gw7CBWu--E', 'name': 'Robb', 'surname': 'Stark', 'alive': False, 'age': 16, 'gender': 'male'}, {'_key': 'BranStark', '_id': 'Characters/BranStark', '_rev': '_gw7CBWu--D', 'name': 'Bran', 'surname': 'Stark', 'alive': True, 'age': 10, 'gender': 'male'}]\u001b[0m\n",
            "\n",
            "\u001b[1m> Finished chain.\u001b[0m\n"
          ]
        },
        {
          "data": {
            "application/vnd.google.colaboratory.intrinsic+json": {
              "type": "string"
            },
            "text/plain": [
              "'The grandchildren of Rickard Stark are Jon Snow, Arya Stark, Sansa Stark, Robb Stark, and Bran Stark. Jon Snow is 31 years old and is alive. Arya Stark is 11 years old and is also alive. Sansa Stark is 13 years old and is alive. Robb Stark was 16 years old but is no longer alive. Bran Stark is 10 years old and is alive.'"
            ]
          },
          "execution_count": 55,
          "metadata": {},
          "output_type": "execute_result"
        }
      ],
      "source": [
        "# This is because the wrong AQL Traversal direction is used! LLMs can hallucinate.. \n",
        "# A simple reminder to use INBOUND (instead of OUTBOUND) returns the correct result;\n",
        "chain.invoke(\"Who are the grandchildren of Rickard Stark? Remember to use INBOUND\")"
      ]
    },
    {
      "cell_type": "code",
      "execution_count": 57,
      "id": "7WHxkGPPPk8-",
      "metadata": {
        "colab": {
          "base_uri": "https://localhost:8080/",
          "height": 270
        },
        "id": "7WHxkGPPPk8-",
        "outputId": "d927feea-73c1-4f50-db6c-d0b9afbfe8d0"
      },
      "outputs": [
        {
          "name": "stdout",
          "output_type": "stream",
          "text": [
            "\n",
            "\n",
            "\u001b[1m> Entering new ArangoGraphQAChain chain...\u001b[0m\n",
            "AQL Query (1):\u001b[32;1m\u001b[1;3m\n",
            "WITH Characters, ChildOf\n",
            "FOR v, e IN 2..2 INBOUND 'Characters/TywinLannister' ChildOf\n",
            "  RETURN v\n",
            "\u001b[0m\n",
            "AQL Result:\n",
            "\u001b[32;1m\u001b[1;3m[{'_key': 'JoffreyBaratheon', '_id': 'Characters/JoffreyBaratheon', '_rev': '_gw7CBWu--L', 'name': 'Joffrey', 'surname': 'Baratheon', 'alive': False, 'age': 19, 'gender': 'male'}, {'_key': 'JoffreyBaratheon', '_id': 'Characters/JoffreyBaratheon', '_rev': '_gw7CBWu--L', 'name': 'Joffrey', 'surname': 'Baratheon', 'alive': False, 'age': 19, 'gender': 'male'}]\u001b[0m\n",
            "\n",
            "\u001b[1m> Finished chain.\u001b[0m\n"
          ]
        },
        {
          "data": {
            "application/vnd.google.colaboratory.intrinsic+json": {
              "type": "string"
            },
            "text/plain": [
              "'The grandchildren of Tywin Lannister is Joffrey Baratheon.'"
            ]
          },
          "execution_count": 57,
          "metadata": {},
          "output_type": "execute_result"
        }
      ],
      "source": [
        "# We can solidify this pattern by making using of **chain.aql_examples**\n",
        "\n",
        "# The AQL Examples modifier instructs the LLM to adapt its AQL-completion style\n",
        "# to the user’s examples. These examples are passed to the AQL Generation Prompt\n",
        "# Template to promote few-shot-learning.\n",
        "\n",
        "chain.aql_examples = \"\"\"\n",
        "# Who are the grandchildren of Rickard Stark?\n",
        "WITH Characters, ChildOf\n",
        "FOR v, e IN 2..2 INBOUND 'Characters/RickardStark' ChildOf\n",
        "  RETURN v\n",
        "\n",
        "# Is Ned Stark alive?\n",
        "RETURN DOCUMENT('Characters/NedStark').alive\n",
        "\n",
        "...\n",
        "\"\"\"\n",
        "\n",
        "# Note how we are no longer specifying the use of INBOUND\n",
        "chain.invoke(\"Who is the grandchildren of Tywin Lannister?\")"
      ]
    },
    {
      "cell_type": "code",
      "execution_count": 58,
      "id": "1B9h3PvzJ41T",
      "metadata": {
        "id": "1B9h3PvzJ41T"
      },
      "outputs": [],
      "source": [
        "# Other modifiers include:\n",
        "\n",
        "# Specify the maximum number of AQL Query Results to return\n",
        "chain.top_k = 5\n",
        "\n",
        "# Specify the maximum amount of AQL Generation attempts that should be made\n",
        "# before returning an error\n",
        "chain.max_aql_generation_attempts = 5\n",
        "\n",
        "# Specify whether or not to return the AQL Query in the output dictionary\n",
        "# Use `chain(\"...\")` instead of `chain.invoke(\"...\")` to see this change\n",
        "chain.return_aql_query = True\n",
        "\n",
        "# Specify whether or not to return the AQL JSON Result in the output dictionary\n",
        "# Use `chain(\"...\")` instead of `chain.invoke(\"...\")` to see this change\n",
        "chain.return_aql_result = True"
      ]
    }
  ],
  "metadata": {
    "colab": {
      "collapsed_sections": [
        "WejTADc2L72f",
        "MdTyIwWeL953",
        "Ob_3aGauGd7d",
        "7waPnt2pLx16"
      ],
      "provenance": []
    },
    "kernelspec": {
      "display_name": "Python 3 (ipykernel)",
      "language": "python",
      "name": "python3"
    },
    "language_info": {
      "codemirror_mode": {
        "name": "ipython",
        "version": 3
      },
      "file_extension": ".py",
      "mimetype": "text/x-python",
      "name": "python",
      "nbconvert_exporter": "python",
      "pygments_lexer": "ipython3",
      "version": "3.8.8"
    }
  },
  "nbformat": 4,
  "nbformat_minor": 5
}
