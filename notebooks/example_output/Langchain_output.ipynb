{
  "cells": [
    {
      "cell_type": "markdown",
      "id": "c94240f5",
      "metadata": {
        "id": "c94240f5"
      },
      "source": [
        "# ArangoDB 🥑 + LangChain 🦜🔗\n",
        "\n",
        "[![Open In Collab](https://colab.research.google.com/assets/colab-badge.svg)](https://colab.research.google.com/github/arangodb/interactive_tutorials/blob/master/notebooks/Langchain.ipynb)\n",
        "\n",
        "Large language models (LLMs) ~are emerging~ have emerged as a transformative technology, enabling developers to build applications that they previously could not. However, using these LLMs in isolation is often insufficient for creating a truly powerful app - the real power comes when you can combine them with other sources of computation or knowledge.\n",
        "\n",
        "[LangChain](https://www.langchain.com/) is a framework for developing applications powered by language models. It enables applications that are:\n",
        "- Data-aware: connect a language model to other sources of data\n",
        "- Agentic: allow a language model to interact with its environment\n",
        "\n",
        "This notebook will leverage LLMs to provide a natural language interface to querying ArangoDB.\n",
        "\n",
        "**Please note**: We'll be using the LangChain `ChatOpenAI` wrapper, which requires you to have a **paid** [OpenAI API Key](https://help.openai.com/en/articles/4936850-where-do-i-find-my-secret-api-key). However, other Chat Models are available as well: https://github.com/langchain-ai/langchain/tree/master/libs/langchain/langchain/chat_models"
      ]
    },
    {
      "cell_type": "code",
      "source": [
        "%%capture\n",
        "\n",
        "# Set your OpenAI API Key\n",
        "# https://help.openai.com/en/articles/4936850-where-do-i-find-my-secret-api-key\n",
        "\n",
        "!pip install langchain==0.0.314\n",
        "!pip install openai==0.28.1\n",
        "\n",
        "import os\n",
        "\n",
        "os.environ[\"OPENAI_API_KEY\"] = \"sk-...\""
      ],
      "metadata": {
        "id": "_MEtRI43591y"
      },
      "id": "_MEtRI43591y",
      "execution_count": 1,
      "outputs": []
    },
    {
      "cell_type": "markdown",
      "source": [
        "\n",
        "## LangChain 101"
      ],
      "metadata": {
        "id": "_NG7Y2kSpSoj"
      },
      "id": "_NG7Y2kSpSoj"
    },
    {
      "cell_type": "markdown",
      "source": [
        "There are six basic components of Langchain:\n",
        "- **Models**: the library of LLMs to choose from\n",
        "- **Prompts**: text that guides the LLM to generate the desired output\n",
        "- **Chains**: sequences of instructions the LangChain framework executes to perform a task\n",
        "- **Memory**: a method of storing data for the LLM to access later\n",
        "- **Agents & Tools**: the essential components to perform specific tasks based on user context\n",
        "- **Indexes, Vectorstores, & Retrievers**: the essential components to building an app on your specific data"
      ],
      "metadata": {
        "id": "eOAl02kRDBR9"
      },
      "id": "eOAl02kRDBR9"
    },
    {
      "cell_type": "code",
      "source": [
        "# 1. Install dependencies\n",
        "\n",
        "%%capture\n",
        "!pip install wikipedia\n",
        "!pip install sentence_transformers\n",
        "!pip install faiss-cpu\n",
        "!pip install chromadb\n",
        "!pip install tiktoken"
      ],
      "metadata": {
        "id": "O2Ycdm9Ipqz_"
      },
      "execution_count": 2,
      "outputs": [],
      "id": "O2Ycdm9Ipqz_"
    },
    {
      "cell_type": "code",
      "source": [
        "# 2. Basic Prompting\n",
        "\n",
        "from langchain.llms import OpenAI\n",
        "\n",
        "model = OpenAI(temperature=0)\n",
        "\n",
        "print(model(\"What is ArangoDB?\"))"
      ],
      "metadata": {
        "id": "YfqvLCE3EIwt",
        "colab": {
          "base_uri": "https://localhost:8080/"
        },
        "outputId": "977394e6-89f7-4a43-f6bc-4ca03ad06559"
      },
      "execution_count": 3,
      "outputs": [
        {
          "output_type": "stream",
          "name": "stdout",
          "text": [
            "\n",
            "\n",
            "ArangoDB is an open source, multi-model NoSQL database that combines the power of graphs, documents, and key-value pairs. It is designed to provide developers with an easy-to-use, high-performance database for modern applications. ArangoDB is written in C++ and provides a flexible data model for documents, graphs, and key-value pairs. It also offers a powerful query language, AQL, for querying and manipulating data. ArangoDB is highly scalable and can be deployed on-premise, in the cloud, or as a service.\n"
          ]
        }
      ],
      "id": "YfqvLCE3EIwt"
    },
    {
      "cell_type": "code",
      "source": [
        "# 3. Prompting with Templates\n",
        "\n",
        "from langchain import PromptTemplate\n",
        "\n",
        "template = \"\"\"\n",
        "  Question: {question}\n",
        "  Use sarcasm!\n",
        "\"\"\"\n",
        "\n",
        "prompt = PromptTemplate(template=template, input_variables=[\"question\"])\n",
        "\n",
        "print(model(prompt.format(question=\"What is ArangoDB?\")))"
      ],
      "metadata": {
        "id": "-xLVOoPcJ24O",
        "colab": {
          "base_uri": "https://localhost:8080/"
        },
        "outputId": "b8cd392a-9121-4591-a4fa-7a611a59088e"
      },
      "execution_count": 4,
      "outputs": [
        {
          "output_type": "stream",
          "name": "stdout",
          "text": [
            "\n",
            "Answer: ArangoDB is the best database ever invented - NOT!\n"
          ]
        }
      ],
      "id": "-xLVOoPcJ24O"
    },
    {
      "cell_type": "code",
      "source": [
        "# 4. Prompting with Chains\n",
        "\n",
        "from langchain import LLMChain\n",
        "\n",
        "chain = LLMChain(prompt=prompt, llm=model)\n",
        "\n",
        "question = \"What is ArangoDB?\"\n",
        "\n",
        "print(chain.run(question))"
      ],
      "metadata": {
        "id": "SC1btK_8LLVN",
        "colab": {
          "base_uri": "https://localhost:8080/"
        },
        "outputId": "e41ee761-465b-4055-82a5-88501368165f"
      },
      "execution_count": 5,
      "outputs": [
        {
          "output_type": "stream",
          "name": "stdout",
          "text": [
            "\n",
            "Answer: ArangoDB is the best database ever invented - not!\n"
          ]
        }
      ],
      "id": "SC1btK_8LLVN"
    },
    {
      "cell_type": "code",
      "source": [
        "# 5. Prompting with Memory\n",
        "\n",
        "from langchain import OpenAI, ConversationChain\n",
        "\n",
        "model = OpenAI(temperature=0)\n",
        "\n",
        "conversation = ConversationChain(llm=model, verbose=True)\n",
        "\n",
        "conversation.predict(input=\"How old is C++?\")\n",
        "conversation.predict(input=\"Sorry I meant ArangoDB\")"
      ],
      "metadata": {
        "id": "gJWtrpBMOLtA",
        "colab": {
          "base_uri": "https://localhost:8080/",
          "height": 489
        },
        "outputId": "46b33f19-15eb-4fff-c1fb-bf5609acb671"
      },
      "execution_count": 6,
      "outputs": [
        {
          "output_type": "stream",
          "name": "stdout",
          "text": [
            "\n",
            "\n",
            "\u001b[1m> Entering new ConversationChain chain...\u001b[0m\n",
            "Prompt after formatting:\n",
            "\u001b[32;1m\u001b[1;3mThe following is a friendly conversation between a human and an AI. The AI is talkative and provides lots of specific details from its context. If the AI does not know the answer to a question, it truthfully says it does not know.\n",
            "\n",
            "Current conversation:\n",
            "\n",
            "Human: How old is C++?\n",
            "AI:\u001b[0m\n",
            "\n",
            "\u001b[1m> Finished chain.\u001b[0m\n",
            "\n",
            "\n",
            "\u001b[1m> Entering new ConversationChain chain...\u001b[0m\n",
            "Prompt after formatting:\n",
            "\u001b[32;1m\u001b[1;3mThe following is a friendly conversation between a human and an AI. The AI is talkative and provides lots of specific details from its context. If the AI does not know the answer to a question, it truthfully says it does not know.\n",
            "\n",
            "Current conversation:\n",
            "Human: How old is C++?\n",
            "AI:  C++ is a programming language that was first released in 1985, so it is 35 years old.\n",
            "Human: Sorry I meant ArangoDB\n",
            "AI:\u001b[0m\n",
            "\n",
            "\u001b[1m> Finished chain.\u001b[0m\n"
          ]
        },
        {
          "output_type": "execute_result",
          "data": {
            "text/plain": [
              "' ArangoDB is a multi-model NoSQL database system that was first released in 2013, so it is 7 years old.'"
            ],
            "application/vnd.google.colaboratory.intrinsic+json": {
              "type": "string"
            }
          },
          "metadata": {},
          "execution_count": 6
        }
      ],
      "id": "gJWtrpBMOLtA"
    },
    {
      "cell_type": "code",
      "source": [
        "# 6. Prompting via Agent\n",
        "\n",
        "from langchain.agents import load_tools\n",
        "from langchain.agents import initialize_agent\n",
        "\n",
        "model = OpenAI(temperature=0)\n",
        "\n",
        "tools = load_tools([\"wikipedia\", \"llm-math\"], llm=model)\n",
        "\n",
        "agent = initialize_agent(tools, model, agent=\"zero-shot-react-description\", verbose=True)\n",
        "\n",
        "agent.run(\"What is 2 + 2\")\n",
        "agent.run(\"How old is ArangoDB?\")"
      ],
      "metadata": {
        "id": "s0rAc-e8NOpF",
        "colab": {
          "base_uri": "https://localhost:8080/",
          "height": 226
        },
        "outputId": "d4a319b1-3884-4c1e-8047-771e392a09b7"
      },
      "execution_count": 7,
      "outputs": [
        {
          "output_type": "stream",
          "name": "stdout",
          "text": [
            "\n",
            "\n",
            "\u001b[1m> Entering new AgentExecutor chain...\u001b[0m\n",
            "\u001b[32;1m\u001b[1;3m I need to calculate this\n",
            "Action: Calculator\n",
            "Action Input: 2 + 2\u001b[0m\n",
            "Observation: \u001b[33;1m\u001b[1;3mAnswer: 4\u001b[0m\n",
            "Thought:\u001b[32;1m\u001b[1;3m I now know the final answer\n",
            "Final Answer: 2 + 2 = 4\u001b[0m\n",
            "\n",
            "\u001b[1m> Finished chain.\u001b[0m\n"
          ]
        },
        {
          "output_type": "execute_result",
          "data": {
            "text/plain": [
              "'2 + 2 = 4'"
            ],
            "application/vnd.google.colaboratory.intrinsic+json": {
              "type": "string"
            }
          },
          "metadata": {},
          "execution_count": 7
        }
      ],
      "id": "s0rAc-e8NOpF"
    },
    {
      "cell_type": "code",
      "source": [
        "# 7. Prompting with Indexes (1): Data Load\n",
        "\n",
        "# Using ChromaDB & LangChain to perform question answering over documents.\n",
        "\n",
        "from langchain.document_loaders import TextLoader\n",
        "import requests\n",
        "\n",
        "# Fetch some sample data\n",
        "url = \"https://raw.githubusercontent.com/hwchase17/chroma-langchain/master/state_of_the_union.txt\"\n",
        "res = requests.get(url)\n",
        "\n",
        "with open(\"state_of_the_union.txt\", \"w\") as f:\n",
        "  f.write(res.text)\n",
        "\n",
        "# Load documents\n",
        "loader = TextLoader('state_of_the_union.txt')\n",
        "documents = loader.load()\n",
        "\n",
        "len(documents)"
      ],
      "metadata": {
        "id": "CLxo4tSNO28B",
        "colab": {
          "base_uri": "https://localhost:8080/"
        },
        "outputId": "332e60df-40ca-4674-843c-00f426bee5d8"
      },
      "execution_count": 8,
      "outputs": [
        {
          "output_type": "execute_result",
          "data": {
            "text/plain": [
              "1"
            ]
          },
          "metadata": {},
          "execution_count": 8
        }
      ],
      "id": "CLxo4tSNO28B"
    },
    {
      "cell_type": "code",
      "source": [
        "# 7. Prompting with Indexes (2): Text Splitting\n",
        "\n",
        "# Next: splitting documents into small chunks.\n",
        "# This is so we can find the most relevant chunks\n",
        "# for a query and pass only those into the LLM.\n",
        "\n",
        "from langchain.text_splitter import RecursiveCharacterTextSplitter\n",
        "\n",
        "# Text Splitter\n",
        "text_splitter = RecursiveCharacterTextSplitter(chunk_size=1000, chunk_overlap=0)\n",
        "texts = text_splitter.split_documents(documents)\n",
        "\n",
        "len(texts)"
      ],
      "metadata": {
        "id": "2DP5wV2LRh0l",
        "colab": {
          "base_uri": "https://localhost:8080/"
        },
        "outputId": "6d7f6fbf-1373-4a0a-b16f-ad8f03f66ede"
      },
      "execution_count": 9,
      "outputs": [
        {
          "output_type": "execute_result",
          "data": {
            "text/plain": [
              "42"
            ]
          },
          "metadata": {},
          "execution_count": 9
        }
      ],
      "id": "2DP5wV2LRh0l"
    },
    {
      "cell_type": "code",
      "source": [
        "# 7. Prompting with Indexes (3): Initialize PeristedChromaDB\n",
        "\n",
        "# Create embeddings for each chunk and insert\n",
        "# into the Chroma vector database.\n",
        "# The persist_directory argument tells ChromaDB\n",
        "# where to store the database when it's persisted.\n",
        "\n",
        "from langchain.vectorstores import Chroma\n",
        "from langchain.embeddings import OpenAIEmbeddings\n",
        "\n",
        "# Embed and store the texts\n",
        "embedding = OpenAIEmbeddings()\n",
        "vectordb = Chroma.from_documents(documents=texts, embedding=embedding)\n",
        "\n",
        "vectordb"
      ],
      "metadata": {
        "id": "hrzInS6wSMYR",
        "colab": {
          "base_uri": "https://localhost:8080/"
        },
        "outputId": "6ca54691-37e8-4a54-bd07-43080c6517dc"
      },
      "execution_count": 10,
      "outputs": [
        {
          "output_type": "execute_result",
          "data": {
            "text/plain": [
              "<langchain.vectorstores.chroma.Chroma at 0x7f55f896ad10>"
            ]
          },
          "metadata": {},
          "execution_count": 10
        }
      ],
      "id": "hrzInS6wSMYR"
    },
    {
      "cell_type": "code",
      "source": [
        "# 7. Prompting with Indexes (5): Create the chain\n",
        "from langchain.chains.retrieval_qa.base import VectorDBQA\n",
        "\n",
        "chain = VectorDBQA.from_chain_type(llm=OpenAI(), chain_type=\"stuff\", vectorstore=vectordb)"
      ],
      "metadata": {
        "id": "yr6ljkDgTHIJ",
        "colab": {
          "base_uri": "https://localhost:8080/"
        },
        "outputId": "d841ee8c-db3e-458c-a8fc-f9784c277758"
      },
      "execution_count": 11,
      "outputs": [
        {
          "output_type": "stream",
          "name": "stderr",
          "text": [
            "/usr/local/lib/python3.10/dist-packages/langchain/chains/retrieval_qa/base.py:251: UserWarning: `VectorDBQA` is deprecated - please use `from langchain.chains import RetrievalQA`\n",
            "  warnings.warn(\n"
          ]
        }
      ],
      "id": "yr6ljkDgTHIJ"
    },
    {
      "cell_type": "code",
      "source": [
        "# 7. Prompting with Indexes (6): Asking questions\n",
        "\n",
        "print(chain.run(\"TL;DR the president's message for me\"))\n",
        "print('-'*100)\n",
        "print(chain.run(\"What did the president say specifically about Russian oligarchs?\"))\n",
        "print('-'*100)\n",
        "print(chain.run(\"How much did the President say the economy grew last year?\"))"
      ],
      "metadata": {
        "id": "-uzWEq61RsDa",
        "colab": {
          "base_uri": "https://localhost:8080/"
        },
        "outputId": "98531eb9-cadf-47a6-ef23-529be7fda823"
      },
      "execution_count": 12,
      "outputs": [
        {
          "output_type": "stream",
          "name": "stdout",
          "text": [
            " The president is optimistic about America's future and believes that together we can protect freedom and liberty, strengthen democracy, and have the capacity to do big things like beat the opioid epidemic.\n",
            "----------------------------------------------------------------------------------------------------\n",
            " The president said that the U.S. Department of Justice is assembling a dedicated task force to go after the crimes of Russian oligarchs and that they will join their European allies to find and seize their yachts, luxury apartments, and private jets.\n",
            "----------------------------------------------------------------------------------------------------\n",
            " The President said that the economy grew at a rate of 5.7% last year.\n"
          ]
        }
      ],
      "id": "-uzWEq61RsDa"
    },
    {
      "cell_type": "markdown",
      "source": [
        "- Question-Answering in LangChain: https://python.langchain.com/docs/use_cases/question_answering/\n",
        "- Integrations in LangChain: https://python.langchain.com/docs/integrations/providers"
      ],
      "metadata": {
        "id": "lkJAENgeVj2r"
      },
      "id": "lkJAENgeVj2r"
    },
    {
      "cell_type": "markdown",
      "source": [
        "---\n",
        "## Setup"
      ],
      "metadata": {
        "id": "ON2PBwvK-8e3"
      },
      "id": "ON2PBwvK-8e3"
    },
    {
      "cell_type": "markdown",
      "id": "WejTADc2L72f",
      "metadata": {
        "id": "WejTADc2L72f"
      },
      "source": [
        "### Preliminaries"
      ]
    },
    {
      "cell_type": "code",
      "execution_count": 13,
      "id": "izi6YoFC8KRH",
      "metadata": {
        "id": "izi6YoFC8KRH"
      },
      "outputs": [],
      "source": [
        "%%capture\n",
        "\n",
        "# 1: Install the dependencies\n",
        "\n",
        "!pip install python-arango # The ArangoDB Python Driver\n",
        "!pip install adb-cloud-connector # The ArangoDB Cloud Instance provisioner\n",
        "!pip install arango-datasets # Datasets package"
      ]
    },
    {
      "cell_type": "code",
      "source": [
        "# 2. Helper Function Definitions\n",
        "\n",
        "import json\n",
        "\n",
        "def pprint(data):\n",
        "  print(json.dumps(data, indent=4))\n",
        "\n",
        "def query(db, aql):\n",
        "  pprint(list(db.aql.execute(aql)))"
      ],
      "metadata": {
        "id": "8FuCEdR39nES"
      },
      "id": "8FuCEdR39nES",
      "execution_count": 14,
      "outputs": []
    },
    {
      "cell_type": "code",
      "execution_count": 15,
      "id": "62812aad",
      "metadata": {
        "colab": {
          "base_uri": "https://localhost:8080/"
        },
        "id": "62812aad",
        "outputId": "277601fe-3fd3-4159-cd9e-90d4f09844f1"
      },
      "outputs": [
        {
          "output_type": "stream",
          "name": "stdout",
          "text": [
            "Log: requesting new credentials...\n",
            "Succcess: new credentials acquired\n",
            "{\n",
            "    \"dbName\": \"TUT2cqh6w6r5hqtf9h8ckrfaf\",\n",
            "    \"username\": \"TUTee8jnivdjkqld7dzszvjme\",\n",
            "    \"password\": \"TUT89hkelkiyc8gvw0ja38dtc\",\n",
            "    \"hostname\": \"tutorials.arangodb.cloud\",\n",
            "    \"port\": 8529,\n",
            "    \"url\": \"https://tutorials.arangodb.cloud:8529\"\n",
            "}\n"
          ]
        }
      ],
      "source": [
        "# 3. Provisioning ArangoDB\n",
        "\n",
        "from adb_cloud_connector import get_temp_credentials\n",
        "\n",
        "credentials = get_temp_credentials()\n",
        "\n",
        "pprint(credentials)"
      ]
    },
    {
      "cell_type": "code",
      "execution_count": 16,
      "id": "0928915d",
      "metadata": {
        "colab": {
          "base_uri": "https://localhost:8080/"
        },
        "id": "0928915d",
        "outputId": "3730db71-a171-42d9-b0be-21b29a829709"
      },
      "outputs": [
        {
          "output_type": "execute_result",
          "data": {
            "text/plain": [
              "<StandardDatabase TUT2cqh6w6r5hqtf9h8ckrfaf>"
            ]
          },
          "metadata": {},
          "execution_count": 16
        }
      ],
      "source": [
        "# 4. Connecting to ArangoDB\n",
        "\n",
        "from arango import ArangoClient\n",
        "\n",
        "client = ArangoClient(credentials[\"url\"], request_timeout=None)\n",
        "\n",
        "db = client.db(\n",
        "    name=credentials[\"dbName\"],\n",
        "    username=credentials[\"username\"],\n",
        "    password=credentials[\"password\"],\n",
        "    verify=True\n",
        ")\n",
        "\n",
        "db"
      ]
    },
    {
      "cell_type": "markdown",
      "source": [
        "### Loading Datasets"
      ],
      "metadata": {
        "id": "EUMnPnbC9w4j"
      },
      "id": "EUMnPnbC9w4j"
    },
    {
      "cell_type": "markdown",
      "source": [
        "#### Game Of Thrones"
      ],
      "metadata": {
        "id": "VeMQefHb95dP"
      },
      "id": "VeMQefHb95dP"
    },
    {
      "cell_type": "markdown",
      "source": [
        "![image.png](data:image/png;base64,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)"
      ],
      "metadata": {
        "id": "s4BM4v1S-GCO"
      },
      "id": "s4BM4v1S-GCO"
    },
    {
      "cell_type": "code",
      "source": [
        "# (13 nodes, 15 edges)\n",
        "\n",
        "# This dataset represents the parent-child\n",
        "# relationships of certain characters from the GoT universe\n",
        "\n",
        "if db.has_graph(\"GameOfThrones\"):\n",
        "    db.delete_graph(\"GameOfThrones\", drop_collections=True)\n",
        "\n",
        "\n",
        "edge_definitions=[\n",
        "    {\n",
        "        \"edge_collection\": \"ChildOf\",\n",
        "        \"from_vertex_collections\": [\"Characters\"],\n",
        "        \"to_vertex_collections\": [\"Characters\"],\n",
        "    }\n",
        "]\n",
        "\n",
        "documents = [\n",
        "    # Starks (8)\n",
        "    {\"_key\": \"RickardStark\", \"name\": \"Rickard\", \"surname\": \"Stark\", \"alive\": False, \"age\": 60, \"gender\": \"male\"},\n",
        "    {\"_key\": \"LyarraStark\", \"name\": \"Lyarra\", \"surname\": \"Stark\", \"alive\": False, \"age\": 60, \"gender\": \"female\"},\n",
        "    {\"_key\": \"NedStark\", \"name\": \"Ned\", \"surname\": \"Stark\", \"alive\": True, \"age\": 41, \"gender\": \"male\"},\n",
        "    {\"_key\": \"CatelynStark\", \"name\": \"Catelyn\", \"surname\": \"Stark\", \"alive\": False, \"age\": 40, \"gender\": \"female\"},\n",
        "    {\"_key\": \"AryaStark\", \"name\": \"Arya\", \"surname\": \"Stark\", \"alive\": True, \"age\": 11, \"gender\": \"female\"},\n",
        "    {\"_key\": \"BranStark\", \"name\": \"Bran\", \"surname\": \"Stark\", \"alive\": True, \"age\": 10, \"gender\": \"male\"},\n",
        "    { \"_key\": \"RobbStark\", \"name\": \"Robb\", \"surname\": \"Stark\", \"alive\": False, \"age\": 16, \"gender\": \"male\"},\n",
        "    { \"_key\": \"SansaStark\", \"name\": \"Sansa\", \"surname\": \"Stark\", \"alive\": True, \"age\": 13, \"gender\": \"female\"},\n",
        "\n",
        "    # Lannisters (4)\n",
        "    { \"_key\": \"TywinLannister\", \"name\": \"Tywin\", \"surname\": \"Lannister\", \"alive\": False, \"age\": 67, \"gender\": \"male\" },\n",
        "    { \"_key\": \"JaimeLannister\", \"name\": \"Jaime\", \"surname\": \"Lannister\", \"alive\": True, \"age\": 36, \"gender\": \"male\" },\n",
        "    { \"_key\": \"CerseiLannister\", \"name\": \"Cersei\", \"surname\": \"Lannister\", \"alive\": True, \"age\": 36, \"gender\": \"female\" },\n",
        "    { \"_key\": \"TyrionLannister\", \"name\": \"Tyrion\", \"surname\": \"Lannister\", \"alive\": True, \"age\": 32, \"gender\": \"male\" },\n",
        "\n",
        "    # Baratheons (1)\n",
        "    { \"_key\": \"JoffreyBaratheon\", \"name\": \"Joffrey\", \"surname\": \"Baratheon\", \"alive\": False, \"age\": 19, \"gender\": \"male\"},\n",
        "]\n",
        "\n",
        "edges = [\n",
        "    {\"_to\": \"Characters/NedStark\", \"_from\": \"Characters/BranStark\"},\n",
        "    {\"_to\": \"Characters/NedStark\", \"_from\": \"Characters/RobbStark\" },\n",
        "    {\"_to\": \"Characters/NedStark\", \"_from\": \"Characters/SansaStark\" },\n",
        "    {\"_to\": \"Characters/NedStark\", \"_from\": \"Characters/AryaStark\" },\n",
        "    {\"_to\": \"Characters/CatelynStark\", \"_from\": \"Characters/AryaStark\"},\n",
        "    {\"_to\": \"Characters/CatelynStark\", \"_from\": \"Characters/BranStark\"},\n",
        "    {\"_to\": \"Characters/CatelynStark\", \"_from\": \"Characters/RobbStark\" },\n",
        "    {\"_to\": \"Characters/CatelynStark\", \"_from\": \"Characters/SansaStark\" },\n",
        "    {\"_to\": \"Characters/RickardStark\", \"_from\": \"Characters/NedStark\"},\n",
        "    {\"_to\": \"Characters/LyarraStark\", \"_from\": \"Characters/NedStark\"},\n",
        "\n",
        "    {\"_to\": \"Characters/TywinLannister\", \"_from\": \"Characters/JaimeLannister\" },\n",
        "    {\"_to\": \"Characters/TywinLannister\", \"_from\": \"Characters/CerseiLannister\" },\n",
        "    {\"_to\": \"Characters/TywinLannister\", \"_from\": \"Characters/TyrionLannister\" },\n",
        "    {\"_to\": \"Characters/CerseiLannister\", \"_from\": \"Characters/JoffreyBaratheon\" },\n",
        "    {\"_to\": \"Characters/JaimeLannister\", \"_from\": \"Characters/JoffreyBaratheon\" }\n",
        "]\n",
        "\n",
        "db.delete_graph(\"GameOfThrones\", ignore_missing=True, drop_collections=True)\n",
        "db.create_graph(\"GameOfThrones\", edge_definitions)\n",
        "\n",
        "db.collection(\"Characters\").import_bulk(documents)\n",
        "db.collection(\"ChildOf\").import_bulk(edges)"
      ],
      "metadata": {
        "colab": {
          "base_uri": "https://localhost:8080/"
        },
        "id": "D1q7VOIm9_Ko",
        "outputId": "b5869d2d-df1e-47de-c727-dd9ba39649de"
      },
      "id": "D1q7VOIm9_Ko",
      "execution_count": 17,
      "outputs": [
        {
          "output_type": "execute_result",
          "data": {
            "text/plain": [
              "{'error': False,\n",
              " 'created': 15,\n",
              " 'errors': 0,\n",
              " 'empty': 0,\n",
              " 'updated': 0,\n",
              " 'ignored': 0,\n",
              " 'details': []}"
            ]
          },
          "metadata": {},
          "execution_count": 17
        }
      ]
    },
    {
      "cell_type": "markdown",
      "source": [
        "#### GDELT Project (Open Intelligence)"
      ],
      "metadata": {
        "id": "nXU9d-d597lG"
      },
      "id": "nXU9d-d597lG"
    },
    {
      "cell_type": "markdown",
      "source": [
        "> GDELT monitors the world's news media from nearly every corner of every country\n",
        "in print, broadcast, and web formats, in over 100 languages,\n",
        "every moment of every day. [...] Put simply, the GDELT Project is a realtime open data global graph over human society as seen through the eyes of the world's news media, reaching deeply into local events, reaction, discourse, and emotions of the most remote corners of the world in near-realtime and making all of this available as an open data firehose to enable research over human society.\n"
      ],
      "metadata": {
        "id": "Y5bGLgmZCzsE"
      },
      "id": "Y5bGLgmZCzsE"
    },
    {
      "cell_type": "code",
      "source": [
        "# (~70k nodes, ~400 edges)\n",
        "# https://www.gdeltproject.org/\n",
        "\n",
        "from arango_datasets.datasets import Datasets\n",
        "\n",
        "Datasets(db).load(\"OPEN_INTELLIGENCE\")\n",
        "\n",
        "edge_definitions = [\n",
        "    {\n",
        "        \"edge_collection\": \"hasLocation\",\n",
        "        \"from_vertex_collections\": [\"Event\"],\n",
        "        \"to_vertex_collections\": [\"Location\"],\n",
        "    },\n",
        "    {\n",
        "        \"edge_collection\": \"hasSource\",\n",
        "        \"from_vertex_collections\": [\"Event\"],\n",
        "        \"to_vertex_collections\": [\"Source\"],\n",
        "    },\n",
        "    {\n",
        "        \"edge_collection\": \"inCountry\",\n",
        "        \"from_vertex_collections\": [\"Location\"],\n",
        "        \"to_vertex_collections\": [\"Country\"],\n",
        "    },\n",
        "    {\n",
        "        \"edge_collection\": \"inRegion\",\n",
        "        \"from_vertex_collections\": [\"Country\"],\n",
        "        \"to_vertex_collections\": [\"Region\"],\n",
        "    },\n",
        "    {\n",
        "        \"edge_collection\": \"eventActor\",\n",
        "        \"from_vertex_collections\": [\"Event\"],\n",
        "        \"to_vertex_collections\": [\"Actor\"],\n",
        "    },\n",
        "    {\n",
        "        \"edge_collection\": \"subClass\",\n",
        "        \"from_vertex_collections\": [\"Event\"],\n",
        "        \"to_vertex_collections\": [\"Class\"],\n",
        "    },\n",
        "    {\n",
        "        \"edge_collection\": \"type\",\n",
        "        \"from_vertex_collections\": [\"Event\"],\n",
        "        \"to_vertex_collections\": [\"Class\"],\n",
        "    },\n",
        "]\n",
        "\n",
        "db.create_graph(\"OpenIntelligence\", edge_definitions=edge_definitions)"
      ],
      "metadata": {
        "colab": {
          "base_uri": "https://localhost:8080/",
          "height": 520,
          "referenced_widgets": [
            "8fde743585434aa89eb7d5f7275e003c",
            "7c3528c18d374217816fc65137afa389",
            "560d060aca2b45d69bc225a0a793a7e1",
            "b2bc64a6840d4f078dd294065ebe4e44",
            "517ef2fba91c4c5e905f6c9a860ed2aa",
            "9bf64260e9f04c82963ee41002968c06",
            "29bb3cf50b0647829d929ec7227069a2",
            "7a069976ee77415b8439a2e3dd6e9883",
            "47ede69125dc4004bdda547ac8e096b0",
            "a8cc6940e2434af8aa7ab6b8ee84a7ff",
            "8b7da4be99a5409b99d09dffd3c69c1d",
            "a8314198f7594405a3fba82eb92edede",
            "7c5b12b61607436d91534e8255bbcaeb",
            "3daf2161467b4608a32bd25dd8c05c57",
            "ae64218a099d497dac6467f710626b60",
            "076c83319567450b814e1496d2921f25",
            "e8e740335a8f489bac8ddcb1e985ce23",
            "90f2fe9c17404bb1b269b19a8663e1ab",
            "800c84e0f8f34641afef24cc515e8b40",
            "038f63559c7e439f94eb5cf8f4ec61c7",
            "f469122192a2441397c6dd7415cf0461",
            "32670bf6bbda48fc8b16b3d66737f9e5",
            "0231e40df96f4685853af6be4c226ccd",
            "a4833a8b8ddf49a29e230b7633382c97",
            "9749b436eb4c4db589a4ee1bc6b2a4a1",
            "3f448d058e7f4026bb9472f6d75bb37d",
            "120ea4e65f1d4661a517124db27441ec",
            "7958f825e9f94deca633250b252f444e",
            "24aa0d592eb44e7383b75dd3cdd53c55",
            "d77eb15cca4c4ed785bfd36dc80abb85",
            "dd3c564baab74e5baec985b137adaf6a",
            "2e47e3ce6af646b1b1f61ef22b53d8ab",
            "f992c23ebdd24e0ea58442408b6821d4",
            "87f79b8f613a4fb6a914aa0308878492",
            "1383dbaf37f24289990c88a252be4ca4",
            "be89dae098644c8f810d284dc0edc7ad",
            "ce5b2d7dda82459286d50fc0a0700c4a",
            "e6b77da9e67243cdab922c19be2596e3",
            "87108df30d5445aab6d443a3641dd824",
            "ebdbfccc0a4e439495bc398f821a7481",
            "11d37f6a5f154b2ea99cb398d198ef23",
            "da186fa43306406586120a100da21cff",
            "ea2a5b835a6149259378c30f71296140",
            "95ba0920fc3f43df946074bbb81f2e5f",
            "9233228c73684a54afea4c38d09a0790",
            "ab1b569a1dd34f81921e4d05b79e9358",
            "22364486fe684838bf3ac7326252baa6",
            "4b1e42e764fc401ba470ec8aeeec39af",
            "f98bbd460dea43dd9a7fe51b2b5b4add",
            "317a372e1e8a4cb39bdacdef07c003ce",
            "c678edf8daf34790890de03480578742",
            "dc31334c4e924baaa1fb3dd31b0933fd",
            "e8644014369d43529c70f169eac63790",
            "459235f70a6b4d43ac612a663ae2a231",
            "11c6a44b5c234b2cb4131339b5dcf9b6",
            "5a66a228123c45ae9b41ae4ce9c5f918"
          ]
        },
        "id": "7CeBILoh97UC",
        "outputId": "7d9b3127-29e1-4af2-b6fc-8a213bf3dd80"
      },
      "id": "7CeBILoh97UC",
      "execution_count": 18,
      "outputs": [
        {
          "output_type": "display_data",
          "data": {
            "text/plain": [
              "Output()"
            ],
            "application/vnd.jupyter.widget-view+json": {
              "version_major": 2,
              "version_minor": 0,
              "model_id": "8fde743585434aa89eb7d5f7275e003c"
            }
          },
          "metadata": {}
        },
        {
          "output_type": "display_data",
          "data": {
            "text/plain": [],
            "text/html": [
              "<pre style=\"white-space:pre;overflow-x:auto;line-height:normal;font-family:Menlo,'DejaVu Sans Mono',consolas,'Courier New',monospace\"></pre>\n"
            ]
          },
          "metadata": {}
        },
        {
          "output_type": "display_data",
          "data": {
            "text/plain": [
              "\n"
            ],
            "text/html": [
              "<pre style=\"white-space:pre;overflow-x:auto;line-height:normal;font-family:Menlo,'DejaVu Sans Mono',consolas,'Courier New',monospace\">\n",
              "</pre>\n"
            ]
          },
          "metadata": {}
        },
        {
          "output_type": "display_data",
          "data": {
            "text/plain": [
              "Output()"
            ],
            "application/vnd.jupyter.widget-view+json": {
              "version_major": 2,
              "version_minor": 0,
              "model_id": "560d060aca2b45d69bc225a0a793a7e1"
            }
          },
          "metadata": {}
        },
        {
          "output_type": "stream",
          "name": "stdout",
          "text": [
            "Downloaded file for: eventActor, now importing... \n"
          ]
        },
        {
          "output_type": "display_data",
          "data": {
            "text/plain": [],
            "text/html": [
              "<pre style=\"white-space:pre;overflow-x:auto;line-height:normal;font-family:Menlo,'DejaVu Sans Mono',consolas,'Courier New',monospace\"></pre>\n"
            ]
          },
          "metadata": {}
        },
        {
          "output_type": "display_data",
          "data": {
            "text/plain": [
              "\n"
            ],
            "text/html": [
              "<pre style=\"white-space:pre;overflow-x:auto;line-height:normal;font-family:Menlo,'DejaVu Sans Mono',consolas,'Courier New',monospace\">\n",
              "</pre>\n"
            ]
          },
          "metadata": {}
        },
        {
          "output_type": "stream",
          "name": "stdout",
          "text": [
            "Finished loading current file for collection: eventActor\n"
          ]
        },
        {
          "output_type": "display_data",
          "data": {
            "text/plain": [
              "Output()"
            ],
            "application/vnd.jupyter.widget-view+json": {
              "version_major": 2,
              "version_minor": 0,
              "model_id": "517ef2fba91c4c5e905f6c9a860ed2aa"
            }
          },
          "metadata": {}
        },
        {
          "output_type": "display_data",
          "data": {
            "text/plain": [],
            "text/html": [
              "<pre style=\"white-space:pre;overflow-x:auto;line-height:normal;font-family:Menlo,'DejaVu Sans Mono',consolas,'Courier New',monospace\"></pre>\n"
            ]
          },
          "metadata": {}
        },
        {
          "output_type": "display_data",
          "data": {
            "text/plain": [
              "\n"
            ],
            "text/html": [
              "<pre style=\"white-space:pre;overflow-x:auto;line-height:normal;font-family:Menlo,'DejaVu Sans Mono',consolas,'Courier New',monospace\">\n",
              "</pre>\n"
            ]
          },
          "metadata": {}
        },
        {
          "output_type": "display_data",
          "data": {
            "text/plain": [
              "Output()"
            ],
            "application/vnd.jupyter.widget-view+json": {
              "version_major": 2,
              "version_minor": 0,
              "model_id": "29bb3cf50b0647829d929ec7227069a2"
            }
          },
          "metadata": {}
        },
        {
          "output_type": "stream",
          "name": "stdout",
          "text": [
            "Downloaded file for: hasLocation, now importing... \n"
          ]
        },
        {
          "output_type": "display_data",
          "data": {
            "text/plain": [],
            "text/html": [
              "<pre style=\"white-space:pre;overflow-x:auto;line-height:normal;font-family:Menlo,'DejaVu Sans Mono',consolas,'Courier New',monospace\"></pre>\n"
            ]
          },
          "metadata": {}
        },
        {
          "output_type": "display_data",
          "data": {
            "text/plain": [
              "\n"
            ],
            "text/html": [
              "<pre style=\"white-space:pre;overflow-x:auto;line-height:normal;font-family:Menlo,'DejaVu Sans Mono',consolas,'Courier New',monospace\">\n",
              "</pre>\n"
            ]
          },
          "metadata": {}
        },
        {
          "output_type": "stream",
          "name": "stdout",
          "text": [
            "Finished loading current file for collection: hasLocation\n"
          ]
        },
        {
          "output_type": "display_data",
          "data": {
            "text/plain": [
              "Output()"
            ],
            "application/vnd.jupyter.widget-view+json": {
              "version_major": 2,
              "version_minor": 0,
              "model_id": "47ede69125dc4004bdda547ac8e096b0"
            }
          },
          "metadata": {}
        },
        {
          "output_type": "display_data",
          "data": {
            "text/plain": [],
            "text/html": [
              "<pre style=\"white-space:pre;overflow-x:auto;line-height:normal;font-family:Menlo,'DejaVu Sans Mono',consolas,'Courier New',monospace\"></pre>\n"
            ]
          },
          "metadata": {}
        },
        {
          "output_type": "display_data",
          "data": {
            "text/plain": [
              "\n"
            ],
            "text/html": [
              "<pre style=\"white-space:pre;overflow-x:auto;line-height:normal;font-family:Menlo,'DejaVu Sans Mono',consolas,'Courier New',monospace\">\n",
              "</pre>\n"
            ]
          },
          "metadata": {}
        },
        {
          "output_type": "display_data",
          "data": {
            "text/plain": [
              "Output()"
            ],
            "application/vnd.jupyter.widget-view+json": {
              "version_major": 2,
              "version_minor": 0,
              "model_id": "8b7da4be99a5409b99d09dffd3c69c1d"
            }
          },
          "metadata": {}
        },
        {
          "output_type": "stream",
          "name": "stdout",
          "text": [
            "Downloaded file for: hasSource, now importing... \n"
          ]
        },
        {
          "output_type": "display_data",
          "data": {
            "text/plain": [],
            "text/html": [
              "<pre style=\"white-space:pre;overflow-x:auto;line-height:normal;font-family:Menlo,'DejaVu Sans Mono',consolas,'Courier New',monospace\"></pre>\n"
            ]
          },
          "metadata": {}
        },
        {
          "output_type": "display_data",
          "data": {
            "text/plain": [
              "\n"
            ],
            "text/html": [
              "<pre style=\"white-space:pre;overflow-x:auto;line-height:normal;font-family:Menlo,'DejaVu Sans Mono',consolas,'Courier New',monospace\">\n",
              "</pre>\n"
            ]
          },
          "metadata": {}
        },
        {
          "output_type": "stream",
          "name": "stdout",
          "text": [
            "Finished loading current file for collection: hasSource\n"
          ]
        },
        {
          "output_type": "display_data",
          "data": {
            "text/plain": [
              "Output()"
            ],
            "application/vnd.jupyter.widget-view+json": {
              "version_major": 2,
              "version_minor": 0,
              "model_id": "7c5b12b61607436d91534e8255bbcaeb"
            }
          },
          "metadata": {}
        },
        {
          "output_type": "display_data",
          "data": {
            "text/plain": [],
            "text/html": [
              "<pre style=\"white-space:pre;overflow-x:auto;line-height:normal;font-family:Menlo,'DejaVu Sans Mono',consolas,'Courier New',monospace\"></pre>\n"
            ]
          },
          "metadata": {}
        },
        {
          "output_type": "display_data",
          "data": {
            "text/plain": [
              "\n"
            ],
            "text/html": [
              "<pre style=\"white-space:pre;overflow-x:auto;line-height:normal;font-family:Menlo,'DejaVu Sans Mono',consolas,'Courier New',monospace\">\n",
              "</pre>\n"
            ]
          },
          "metadata": {}
        },
        {
          "output_type": "display_data",
          "data": {
            "text/plain": [
              "Output()"
            ],
            "application/vnd.jupyter.widget-view+json": {
              "version_major": 2,
              "version_minor": 0,
              "model_id": "ae64218a099d497dac6467f710626b60"
            }
          },
          "metadata": {}
        },
        {
          "output_type": "stream",
          "name": "stdout",
          "text": [
            "Downloaded file for: inCountry, now importing... \n"
          ]
        },
        {
          "output_type": "display_data",
          "data": {
            "text/plain": [],
            "text/html": [
              "<pre style=\"white-space:pre;overflow-x:auto;line-height:normal;font-family:Menlo,'DejaVu Sans Mono',consolas,'Courier New',monospace\"></pre>\n"
            ]
          },
          "metadata": {}
        },
        {
          "output_type": "display_data",
          "data": {
            "text/plain": [
              "\n"
            ],
            "text/html": [
              "<pre style=\"white-space:pre;overflow-x:auto;line-height:normal;font-family:Menlo,'DejaVu Sans Mono',consolas,'Courier New',monospace\">\n",
              "</pre>\n"
            ]
          },
          "metadata": {}
        },
        {
          "output_type": "stream",
          "name": "stdout",
          "text": [
            "Finished loading current file for collection: inCountry\n"
          ]
        },
        {
          "output_type": "display_data",
          "data": {
            "text/plain": [
              "Output()"
            ],
            "application/vnd.jupyter.widget-view+json": {
              "version_major": 2,
              "version_minor": 0,
              "model_id": "e8e740335a8f489bac8ddcb1e985ce23"
            }
          },
          "metadata": {}
        },
        {
          "output_type": "display_data",
          "data": {
            "text/plain": [],
            "text/html": [
              "<pre style=\"white-space:pre;overflow-x:auto;line-height:normal;font-family:Menlo,'DejaVu Sans Mono',consolas,'Courier New',monospace\"></pre>\n"
            ]
          },
          "metadata": {}
        },
        {
          "output_type": "display_data",
          "data": {
            "text/plain": [
              "\n"
            ],
            "text/html": [
              "<pre style=\"white-space:pre;overflow-x:auto;line-height:normal;font-family:Menlo,'DejaVu Sans Mono',consolas,'Courier New',monospace\">\n",
              "</pre>\n"
            ]
          },
          "metadata": {}
        },
        {
          "output_type": "display_data",
          "data": {
            "text/plain": [
              "Output()"
            ],
            "application/vnd.jupyter.widget-view+json": {
              "version_major": 2,
              "version_minor": 0,
              "model_id": "800c84e0f8f34641afef24cc515e8b40"
            }
          },
          "metadata": {}
        },
        {
          "output_type": "stream",
          "name": "stdout",
          "text": [
            "Downloaded file for: inRegion, now importing... \n"
          ]
        },
        {
          "output_type": "display_data",
          "data": {
            "text/plain": [],
            "text/html": [
              "<pre style=\"white-space:pre;overflow-x:auto;line-height:normal;font-family:Menlo,'DejaVu Sans Mono',consolas,'Courier New',monospace\"></pre>\n"
            ]
          },
          "metadata": {}
        },
        {
          "output_type": "display_data",
          "data": {
            "text/plain": [
              "\n"
            ],
            "text/html": [
              "<pre style=\"white-space:pre;overflow-x:auto;line-height:normal;font-family:Menlo,'DejaVu Sans Mono',consolas,'Courier New',monospace\">\n",
              "</pre>\n"
            ]
          },
          "metadata": {}
        },
        {
          "output_type": "stream",
          "name": "stdout",
          "text": [
            "Finished loading current file for collection: inRegion\n"
          ]
        },
        {
          "output_type": "display_data",
          "data": {
            "text/plain": [
              "Output()"
            ],
            "application/vnd.jupyter.widget-view+json": {
              "version_major": 2,
              "version_minor": 0,
              "model_id": "f469122192a2441397c6dd7415cf0461"
            }
          },
          "metadata": {}
        },
        {
          "output_type": "display_data",
          "data": {
            "text/plain": [],
            "text/html": [
              "<pre style=\"white-space:pre;overflow-x:auto;line-height:normal;font-family:Menlo,'DejaVu Sans Mono',consolas,'Courier New',monospace\"></pre>\n"
            ]
          },
          "metadata": {}
        },
        {
          "output_type": "display_data",
          "data": {
            "text/plain": [
              "\n"
            ],
            "text/html": [
              "<pre style=\"white-space:pre;overflow-x:auto;line-height:normal;font-family:Menlo,'DejaVu Sans Mono',consolas,'Courier New',monospace\">\n",
              "</pre>\n"
            ]
          },
          "metadata": {}
        },
        {
          "output_type": "display_data",
          "data": {
            "text/plain": [
              "Output()"
            ],
            "application/vnd.jupyter.widget-view+json": {
              "version_major": 2,
              "version_minor": 0,
              "model_id": "0231e40df96f4685853af6be4c226ccd"
            }
          },
          "metadata": {}
        },
        {
          "output_type": "stream",
          "name": "stdout",
          "text": [
            "Downloaded file for: subClass, now importing... \n"
          ]
        },
        {
          "output_type": "display_data",
          "data": {
            "text/plain": [],
            "text/html": [
              "<pre style=\"white-space:pre;overflow-x:auto;line-height:normal;font-family:Menlo,'DejaVu Sans Mono',consolas,'Courier New',monospace\"></pre>\n"
            ]
          },
          "metadata": {}
        },
        {
          "output_type": "display_data",
          "data": {
            "text/plain": [
              "\n"
            ],
            "text/html": [
              "<pre style=\"white-space:pre;overflow-x:auto;line-height:normal;font-family:Menlo,'DejaVu Sans Mono',consolas,'Courier New',monospace\">\n",
              "</pre>\n"
            ]
          },
          "metadata": {}
        },
        {
          "output_type": "stream",
          "name": "stdout",
          "text": [
            "Finished loading current file for collection: subClass\n"
          ]
        },
        {
          "output_type": "display_data",
          "data": {
            "text/plain": [
              "Output()"
            ],
            "application/vnd.jupyter.widget-view+json": {
              "version_major": 2,
              "version_minor": 0,
              "model_id": "9749b436eb4c4db589a4ee1bc6b2a4a1"
            }
          },
          "metadata": {}
        },
        {
          "output_type": "display_data",
          "data": {
            "text/plain": [],
            "text/html": [
              "<pre style=\"white-space:pre;overflow-x:auto;line-height:normal;font-family:Menlo,'DejaVu Sans Mono',consolas,'Courier New',monospace\"></pre>\n"
            ]
          },
          "metadata": {}
        },
        {
          "output_type": "display_data",
          "data": {
            "text/plain": [
              "\n"
            ],
            "text/html": [
              "<pre style=\"white-space:pre;overflow-x:auto;line-height:normal;font-family:Menlo,'DejaVu Sans Mono',consolas,'Courier New',monospace\">\n",
              "</pre>\n"
            ]
          },
          "metadata": {}
        },
        {
          "output_type": "display_data",
          "data": {
            "text/plain": [
              "Output()"
            ],
            "application/vnd.jupyter.widget-view+json": {
              "version_major": 2,
              "version_minor": 0,
              "model_id": "120ea4e65f1d4661a517124db27441ec"
            }
          },
          "metadata": {}
        },
        {
          "output_type": "stream",
          "name": "stdout",
          "text": [
            "Downloaded file for: type, now importing... \n"
          ]
        },
        {
          "output_type": "display_data",
          "data": {
            "text/plain": [],
            "text/html": [
              "<pre style=\"white-space:pre;overflow-x:auto;line-height:normal;font-family:Menlo,'DejaVu Sans Mono',consolas,'Courier New',monospace\"></pre>\n"
            ]
          },
          "metadata": {}
        },
        {
          "output_type": "display_data",
          "data": {
            "text/plain": [
              "\n"
            ],
            "text/html": [
              "<pre style=\"white-space:pre;overflow-x:auto;line-height:normal;font-family:Menlo,'DejaVu Sans Mono',consolas,'Courier New',monospace\">\n",
              "</pre>\n"
            ]
          },
          "metadata": {}
        },
        {
          "output_type": "stream",
          "name": "stdout",
          "text": [
            "Finished loading current file for collection: type\n"
          ]
        },
        {
          "output_type": "display_data",
          "data": {
            "text/plain": [
              "Output()"
            ],
            "application/vnd.jupyter.widget-view+json": {
              "version_major": 2,
              "version_minor": 0,
              "model_id": "24aa0d592eb44e7383b75dd3cdd53c55"
            }
          },
          "metadata": {}
        },
        {
          "output_type": "display_data",
          "data": {
            "text/plain": [],
            "text/html": [
              "<pre style=\"white-space:pre;overflow-x:auto;line-height:normal;font-family:Menlo,'DejaVu Sans Mono',consolas,'Courier New',monospace\"></pre>\n"
            ]
          },
          "metadata": {}
        },
        {
          "output_type": "display_data",
          "data": {
            "text/plain": [
              "\n"
            ],
            "text/html": [
              "<pre style=\"white-space:pre;overflow-x:auto;line-height:normal;font-family:Menlo,'DejaVu Sans Mono',consolas,'Courier New',monospace\">\n",
              "</pre>\n"
            ]
          },
          "metadata": {}
        },
        {
          "output_type": "display_data",
          "data": {
            "text/plain": [
              "Output()"
            ],
            "application/vnd.jupyter.widget-view+json": {
              "version_major": 2,
              "version_minor": 0,
              "model_id": "dd3c564baab74e5baec985b137adaf6a"
            }
          },
          "metadata": {}
        },
        {
          "output_type": "stream",
          "name": "stdout",
          "text": [
            "Downloaded file for: Actor, now importing... \n"
          ]
        },
        {
          "output_type": "display_data",
          "data": {
            "text/plain": [],
            "text/html": [
              "<pre style=\"white-space:pre;overflow-x:auto;line-height:normal;font-family:Menlo,'DejaVu Sans Mono',consolas,'Courier New',monospace\"></pre>\n"
            ]
          },
          "metadata": {}
        },
        {
          "output_type": "display_data",
          "data": {
            "text/plain": [
              "\n"
            ],
            "text/html": [
              "<pre style=\"white-space:pre;overflow-x:auto;line-height:normal;font-family:Menlo,'DejaVu Sans Mono',consolas,'Courier New',monospace\">\n",
              "</pre>\n"
            ]
          },
          "metadata": {}
        },
        {
          "output_type": "stream",
          "name": "stdout",
          "text": [
            "Finished loading current file for collection: Actor\n"
          ]
        },
        {
          "output_type": "display_data",
          "data": {
            "text/plain": [
              "Output()"
            ],
            "application/vnd.jupyter.widget-view+json": {
              "version_major": 2,
              "version_minor": 0,
              "model_id": "f992c23ebdd24e0ea58442408b6821d4"
            }
          },
          "metadata": {}
        },
        {
          "output_type": "display_data",
          "data": {
            "text/plain": [],
            "text/html": [
              "<pre style=\"white-space:pre;overflow-x:auto;line-height:normal;font-family:Menlo,'DejaVu Sans Mono',consolas,'Courier New',monospace\"></pre>\n"
            ]
          },
          "metadata": {}
        },
        {
          "output_type": "display_data",
          "data": {
            "text/plain": [
              "\n"
            ],
            "text/html": [
              "<pre style=\"white-space:pre;overflow-x:auto;line-height:normal;font-family:Menlo,'DejaVu Sans Mono',consolas,'Courier New',monospace\">\n",
              "</pre>\n"
            ]
          },
          "metadata": {}
        },
        {
          "output_type": "display_data",
          "data": {
            "text/plain": [
              "Output()"
            ],
            "application/vnd.jupyter.widget-view+json": {
              "version_major": 2,
              "version_minor": 0,
              "model_id": "1383dbaf37f24289990c88a252be4ca4"
            }
          },
          "metadata": {}
        },
        {
          "output_type": "stream",
          "name": "stdout",
          "text": [
            "Downloaded file for: Class, now importing... \n"
          ]
        },
        {
          "output_type": "display_data",
          "data": {
            "text/plain": [],
            "text/html": [
              "<pre style=\"white-space:pre;overflow-x:auto;line-height:normal;font-family:Menlo,'DejaVu Sans Mono',consolas,'Courier New',monospace\"></pre>\n"
            ]
          },
          "metadata": {}
        },
        {
          "output_type": "display_data",
          "data": {
            "text/plain": [
              "\n"
            ],
            "text/html": [
              "<pre style=\"white-space:pre;overflow-x:auto;line-height:normal;font-family:Menlo,'DejaVu Sans Mono',consolas,'Courier New',monospace\">\n",
              "</pre>\n"
            ]
          },
          "metadata": {}
        },
        {
          "output_type": "stream",
          "name": "stdout",
          "text": [
            "Finished loading current file for collection: Class\n"
          ]
        },
        {
          "output_type": "display_data",
          "data": {
            "text/plain": [
              "Output()"
            ],
            "application/vnd.jupyter.widget-view+json": {
              "version_major": 2,
              "version_minor": 0,
              "model_id": "ce5b2d7dda82459286d50fc0a0700c4a"
            }
          },
          "metadata": {}
        },
        {
          "output_type": "display_data",
          "data": {
            "text/plain": [],
            "text/html": [
              "<pre style=\"white-space:pre;overflow-x:auto;line-height:normal;font-family:Menlo,'DejaVu Sans Mono',consolas,'Courier New',monospace\"></pre>\n"
            ]
          },
          "metadata": {}
        },
        {
          "output_type": "display_data",
          "data": {
            "text/plain": [
              "\n"
            ],
            "text/html": [
              "<pre style=\"white-space:pre;overflow-x:auto;line-height:normal;font-family:Menlo,'DejaVu Sans Mono',consolas,'Courier New',monospace\">\n",
              "</pre>\n"
            ]
          },
          "metadata": {}
        },
        {
          "output_type": "display_data",
          "data": {
            "text/plain": [
              "Output()"
            ],
            "application/vnd.jupyter.widget-view+json": {
              "version_major": 2,
              "version_minor": 0,
              "model_id": "87108df30d5445aab6d443a3641dd824"
            }
          },
          "metadata": {}
        },
        {
          "output_type": "stream",
          "name": "stdout",
          "text": [
            "Downloaded file for: Country, now importing... \n"
          ]
        },
        {
          "output_type": "display_data",
          "data": {
            "text/plain": [],
            "text/html": [
              "<pre style=\"white-space:pre;overflow-x:auto;line-height:normal;font-family:Menlo,'DejaVu Sans Mono',consolas,'Courier New',monospace\"></pre>\n"
            ]
          },
          "metadata": {}
        },
        {
          "output_type": "display_data",
          "data": {
            "text/plain": [
              "\n"
            ],
            "text/html": [
              "<pre style=\"white-space:pre;overflow-x:auto;line-height:normal;font-family:Menlo,'DejaVu Sans Mono',consolas,'Courier New',monospace\">\n",
              "</pre>\n"
            ]
          },
          "metadata": {}
        },
        {
          "output_type": "stream",
          "name": "stdout",
          "text": [
            "Finished loading current file for collection: Country\n"
          ]
        },
        {
          "output_type": "display_data",
          "data": {
            "text/plain": [
              "Output()"
            ],
            "application/vnd.jupyter.widget-view+json": {
              "version_major": 2,
              "version_minor": 0,
              "model_id": "11d37f6a5f154b2ea99cb398d198ef23"
            }
          },
          "metadata": {}
        },
        {
          "output_type": "display_data",
          "data": {
            "text/plain": [],
            "text/html": [
              "<pre style=\"white-space:pre;overflow-x:auto;line-height:normal;font-family:Menlo,'DejaVu Sans Mono',consolas,'Courier New',monospace\"></pre>\n"
            ]
          },
          "metadata": {}
        },
        {
          "output_type": "display_data",
          "data": {
            "text/plain": [
              "\n"
            ],
            "text/html": [
              "<pre style=\"white-space:pre;overflow-x:auto;line-height:normal;font-family:Menlo,'DejaVu Sans Mono',consolas,'Courier New',monospace\">\n",
              "</pre>\n"
            ]
          },
          "metadata": {}
        },
        {
          "output_type": "display_data",
          "data": {
            "text/plain": [
              "Output()"
            ],
            "application/vnd.jupyter.widget-view+json": {
              "version_major": 2,
              "version_minor": 0,
              "model_id": "ea2a5b835a6149259378c30f71296140"
            }
          },
          "metadata": {}
        },
        {
          "output_type": "stream",
          "name": "stdout",
          "text": [
            "Downloaded file for: Event, now importing... \n"
          ]
        },
        {
          "output_type": "display_data",
          "data": {
            "text/plain": [],
            "text/html": [
              "<pre style=\"white-space:pre;overflow-x:auto;line-height:normal;font-family:Menlo,'DejaVu Sans Mono',consolas,'Courier New',monospace\"></pre>\n"
            ]
          },
          "metadata": {}
        },
        {
          "output_type": "display_data",
          "data": {
            "text/plain": [
              "\n"
            ],
            "text/html": [
              "<pre style=\"white-space:pre;overflow-x:auto;line-height:normal;font-family:Menlo,'DejaVu Sans Mono',consolas,'Courier New',monospace\">\n",
              "</pre>\n"
            ]
          },
          "metadata": {}
        },
        {
          "output_type": "stream",
          "name": "stdout",
          "text": [
            "Finished loading current file for collection: Event\n"
          ]
        },
        {
          "output_type": "display_data",
          "data": {
            "text/plain": [
              "Output()"
            ],
            "application/vnd.jupyter.widget-view+json": {
              "version_major": 2,
              "version_minor": 0,
              "model_id": "9233228c73684a54afea4c38d09a0790"
            }
          },
          "metadata": {}
        },
        {
          "output_type": "display_data",
          "data": {
            "text/plain": [],
            "text/html": [
              "<pre style=\"white-space:pre;overflow-x:auto;line-height:normal;font-family:Menlo,'DejaVu Sans Mono',consolas,'Courier New',monospace\"></pre>\n"
            ]
          },
          "metadata": {}
        },
        {
          "output_type": "display_data",
          "data": {
            "text/plain": [
              "\n"
            ],
            "text/html": [
              "<pre style=\"white-space:pre;overflow-x:auto;line-height:normal;font-family:Menlo,'DejaVu Sans Mono',consolas,'Courier New',monospace\">\n",
              "</pre>\n"
            ]
          },
          "metadata": {}
        },
        {
          "output_type": "display_data",
          "data": {
            "text/plain": [
              "Output()"
            ],
            "application/vnd.jupyter.widget-view+json": {
              "version_major": 2,
              "version_minor": 0,
              "model_id": "22364486fe684838bf3ac7326252baa6"
            }
          },
          "metadata": {}
        },
        {
          "output_type": "stream",
          "name": "stdout",
          "text": [
            "Downloaded file for: Location, now importing... \n"
          ]
        },
        {
          "output_type": "display_data",
          "data": {
            "text/plain": [],
            "text/html": [
              "<pre style=\"white-space:pre;overflow-x:auto;line-height:normal;font-family:Menlo,'DejaVu Sans Mono',consolas,'Courier New',monospace\"></pre>\n"
            ]
          },
          "metadata": {}
        },
        {
          "output_type": "display_data",
          "data": {
            "text/plain": [
              "\n"
            ],
            "text/html": [
              "<pre style=\"white-space:pre;overflow-x:auto;line-height:normal;font-family:Menlo,'DejaVu Sans Mono',consolas,'Courier New',monospace\">\n",
              "</pre>\n"
            ]
          },
          "metadata": {}
        },
        {
          "output_type": "stream",
          "name": "stdout",
          "text": [
            "Finished loading current file for collection: Location\n"
          ]
        },
        {
          "output_type": "display_data",
          "data": {
            "text/plain": [
              "Output()"
            ],
            "application/vnd.jupyter.widget-view+json": {
              "version_major": 2,
              "version_minor": 0,
              "model_id": "f98bbd460dea43dd9a7fe51b2b5b4add"
            }
          },
          "metadata": {}
        },
        {
          "output_type": "display_data",
          "data": {
            "text/plain": [],
            "text/html": [
              "<pre style=\"white-space:pre;overflow-x:auto;line-height:normal;font-family:Menlo,'DejaVu Sans Mono',consolas,'Courier New',monospace\"></pre>\n"
            ]
          },
          "metadata": {}
        },
        {
          "output_type": "display_data",
          "data": {
            "text/plain": [
              "\n"
            ],
            "text/html": [
              "<pre style=\"white-space:pre;overflow-x:auto;line-height:normal;font-family:Menlo,'DejaVu Sans Mono',consolas,'Courier New',monospace\">\n",
              "</pre>\n"
            ]
          },
          "metadata": {}
        },
        {
          "output_type": "display_data",
          "data": {
            "text/plain": [
              "Output()"
            ],
            "application/vnd.jupyter.widget-view+json": {
              "version_major": 2,
              "version_minor": 0,
              "model_id": "c678edf8daf34790890de03480578742"
            }
          },
          "metadata": {}
        },
        {
          "output_type": "stream",
          "name": "stdout",
          "text": [
            "Downloaded file for: Region, now importing... \n"
          ]
        },
        {
          "output_type": "display_data",
          "data": {
            "text/plain": [],
            "text/html": [
              "<pre style=\"white-space:pre;overflow-x:auto;line-height:normal;font-family:Menlo,'DejaVu Sans Mono',consolas,'Courier New',monospace\"></pre>\n"
            ]
          },
          "metadata": {}
        },
        {
          "output_type": "display_data",
          "data": {
            "text/plain": [
              "\n"
            ],
            "text/html": [
              "<pre style=\"white-space:pre;overflow-x:auto;line-height:normal;font-family:Menlo,'DejaVu Sans Mono',consolas,'Courier New',monospace\">\n",
              "</pre>\n"
            ]
          },
          "metadata": {}
        },
        {
          "output_type": "stream",
          "name": "stdout",
          "text": [
            "Finished loading current file for collection: Region\n"
          ]
        },
        {
          "output_type": "display_data",
          "data": {
            "text/plain": [
              "Output()"
            ],
            "application/vnd.jupyter.widget-view+json": {
              "version_major": 2,
              "version_minor": 0,
              "model_id": "e8644014369d43529c70f169eac63790"
            }
          },
          "metadata": {}
        },
        {
          "output_type": "display_data",
          "data": {
            "text/plain": [],
            "text/html": [
              "<pre style=\"white-space:pre;overflow-x:auto;line-height:normal;font-family:Menlo,'DejaVu Sans Mono',consolas,'Courier New',monospace\"></pre>\n"
            ]
          },
          "metadata": {}
        },
        {
          "output_type": "display_data",
          "data": {
            "text/plain": [
              "\n"
            ],
            "text/html": [
              "<pre style=\"white-space:pre;overflow-x:auto;line-height:normal;font-family:Menlo,'DejaVu Sans Mono',consolas,'Courier New',monospace\">\n",
              "</pre>\n"
            ]
          },
          "metadata": {}
        },
        {
          "output_type": "display_data",
          "data": {
            "text/plain": [
              "Output()"
            ],
            "application/vnd.jupyter.widget-view+json": {
              "version_major": 2,
              "version_minor": 0,
              "model_id": "11c6a44b5c234b2cb4131339b5dcf9b6"
            }
          },
          "metadata": {}
        },
        {
          "output_type": "stream",
          "name": "stdout",
          "text": [
            "Downloaded file for: Source, now importing... \n"
          ]
        },
        {
          "output_type": "display_data",
          "data": {
            "text/plain": [],
            "text/html": [
              "<pre style=\"white-space:pre;overflow-x:auto;line-height:normal;font-family:Menlo,'DejaVu Sans Mono',consolas,'Courier New',monospace\"></pre>\n"
            ]
          },
          "metadata": {}
        },
        {
          "output_type": "display_data",
          "data": {
            "text/plain": [
              "\n"
            ],
            "text/html": [
              "<pre style=\"white-space:pre;overflow-x:auto;line-height:normal;font-family:Menlo,'DejaVu Sans Mono',consolas,'Courier New',monospace\">\n",
              "</pre>\n"
            ]
          },
          "metadata": {}
        },
        {
          "output_type": "stream",
          "name": "stdout",
          "text": [
            "Finished loading current file for collection: Source\n"
          ]
        },
        {
          "output_type": "execute_result",
          "data": {
            "text/plain": [
              "<Graph OpenIntelligence>"
            ]
          },
          "metadata": {},
          "execution_count": 18
        }
      ]
    },
    {
      "cell_type": "markdown",
      "source": [
        "### Configuring LangChain"
      ],
      "metadata": {
        "id": "CrwAgANK-vdy"
      },
      "id": "CrwAgANK-vdy"
    },
    {
      "cell_type": "code",
      "source": [
        "# 1: Instantiate the ArangoDB-LangChain Graph wrapper\n",
        "\n",
        "from langchain.graphs import ArangoGraph\n",
        "\n",
        "graph = ArangoGraph(db)\n",
        "\n",
        "pprint(graph.schema)"
      ],
      "metadata": {
        "id": "BjfJF6AV-zk7",
        "outputId": "791af171-3053-4098-e89a-aabcc3c875e7",
        "colab": {
          "base_uri": "https://localhost:8080/"
        }
      },
      "id": "BjfJF6AV-zk7",
      "execution_count": 19,
      "outputs": [
        {
          "output_type": "stream",
          "name": "stdout",
          "text": [
            "{\n",
            "    \"Graph Schema\": [\n",
            "        {\n",
            "            \"graph_name\": \"GameOfThrones\",\n",
            "            \"edge_definitions\": [\n",
            "                {\n",
            "                    \"edge_collection\": \"ChildOf\",\n",
            "                    \"from_vertex_collections\": [\n",
            "                        \"Characters\"\n",
            "                    ],\n",
            "                    \"to_vertex_collections\": [\n",
            "                        \"Characters\"\n",
            "                    ]\n",
            "                }\n",
            "            ]\n",
            "        },\n",
            "        {\n",
            "            \"graph_name\": \"OpenIntelligence\",\n",
            "            \"edge_definitions\": [\n",
            "                {\n",
            "                    \"edge_collection\": \"eventActor\",\n",
            "                    \"from_vertex_collections\": [\n",
            "                        \"Event\"\n",
            "                    ],\n",
            "                    \"to_vertex_collections\": [\n",
            "                        \"Actor\"\n",
            "                    ]\n",
            "                },\n",
            "                {\n",
            "                    \"edge_collection\": \"hasLocation\",\n",
            "                    \"from_vertex_collections\": [\n",
            "                        \"Event\"\n",
            "                    ],\n",
            "                    \"to_vertex_collections\": [\n",
            "                        \"Location\"\n",
            "                    ]\n",
            "                },\n",
            "                {\n",
            "                    \"edge_collection\": \"hasSource\",\n",
            "                    \"from_vertex_collections\": [\n",
            "                        \"Event\"\n",
            "                    ],\n",
            "                    \"to_vertex_collections\": [\n",
            "                        \"Source\"\n",
            "                    ]\n",
            "                },\n",
            "                {\n",
            "                    \"edge_collection\": \"inCountry\",\n",
            "                    \"from_vertex_collections\": [\n",
            "                        \"Location\"\n",
            "                    ],\n",
            "                    \"to_vertex_collections\": [\n",
            "                        \"Country\"\n",
            "                    ]\n",
            "                },\n",
            "                {\n",
            "                    \"edge_collection\": \"inRegion\",\n",
            "                    \"from_vertex_collections\": [\n",
            "                        \"Country\"\n",
            "                    ],\n",
            "                    \"to_vertex_collections\": [\n",
            "                        \"Region\"\n",
            "                    ]\n",
            "                },\n",
            "                {\n",
            "                    \"edge_collection\": \"subClass\",\n",
            "                    \"from_vertex_collections\": [\n",
            "                        \"Event\"\n",
            "                    ],\n",
            "                    \"to_vertex_collections\": [\n",
            "                        \"Class\"\n",
            "                    ]\n",
            "                },\n",
            "                {\n",
            "                    \"edge_collection\": \"type\",\n",
            "                    \"from_vertex_collections\": [\n",
            "                        \"Event\"\n",
            "                    ],\n",
            "                    \"to_vertex_collections\": [\n",
            "                        \"Class\"\n",
            "                    ]\n",
            "                }\n",
            "            ]\n",
            "        }\n",
            "    ],\n",
            "    \"Collection Schema\": [\n",
            "        {\n",
            "            \"collection_name\": \"Event\",\n",
            "            \"collection_type\": \"document\",\n",
            "            \"document_properties\": [\n",
            "                {\n",
            "                    \"name\": \"_key\",\n",
            "                    \"type\": \"str\"\n",
            "                },\n",
            "                {\n",
            "                    \"name\": \"_id\",\n",
            "                    \"type\": \"str\"\n",
            "                },\n",
            "                {\n",
            "                    \"name\": \"_rev\",\n",
            "                    \"type\": \"str\"\n",
            "                },\n",
            "                {\n",
            "                    \"name\": \"date\",\n",
            "                    \"type\": \"str\"\n",
            "                },\n",
            "                {\n",
            "                    \"name\": \"dateStamp\",\n",
            "                    \"type\": \"int\"\n",
            "                },\n",
            "                {\n",
            "                    \"name\": \"description\",\n",
            "                    \"type\": \"str\"\n",
            "                },\n",
            "                {\n",
            "                    \"name\": \"fatalities\",\n",
            "                    \"type\": \"int\"\n",
            "                },\n",
            "                {\n",
            "                    \"name\": \"geo\",\n",
            "                    \"type\": \"dict\"\n",
            "                },\n",
            "                {\n",
            "                    \"name\": \"name\",\n",
            "                    \"type\": \"str\"\n",
            "                },\n",
            "                {\n",
            "                    \"name\": \"label\",\n",
            "                    \"type\": \"str\"\n",
            "                }\n",
            "            ],\n",
            "            \"example_document\": {\n",
            "                \"_key\": \"ALG1\",\n",
            "                \"_id\": \"Event/ALG1\",\n",
            "                \"_rev\": \"_g4WWsuy---\",\n",
            "                \"date\": \"1997-01-01T00:00:00.000Z\",\n",
            "                \"dateStamp\": 852076800000,\n",
            "                \"description\": \"5 January: Beheading of 5 citizens in Douaouda (Tipaza).\",\n",
            "                \"fatalities\": 5,\n",
            "                \"geo\": {\n",
            "                    \"type\": \"Point\",\n",
            "                    \"coordinates\": [\n",
            "                        36.672,\n",
            "                        2.789\n",
            "                    ]\n",
            "                },\n",
            "                \"name\": \"Beheading of 5 citizens in Dou\",\n",
            "                \"label\": \"Violence_against_civilians\"\n",
            "            }\n",
            "        },\n",
            "        {\n",
            "            \"collection_name\": \"eventActor\",\n",
            "            \"collection_type\": \"edge\",\n",
            "            \"edge_properties\": [\n",
            "                {\n",
            "                    \"name\": \"_key\",\n",
            "                    \"type\": \"str\"\n",
            "                },\n",
            "                {\n",
            "                    \"name\": \"_id\",\n",
            "                    \"type\": \"str\"\n",
            "                },\n",
            "                {\n",
            "                    \"name\": \"_from\",\n",
            "                    \"type\": \"str\"\n",
            "                },\n",
            "                {\n",
            "                    \"name\": \"_to\",\n",
            "                    \"type\": \"str\"\n",
            "                },\n",
            "                {\n",
            "                    \"name\": \"_rev\",\n",
            "                    \"type\": \"str\"\n",
            "                }\n",
            "            ],\n",
            "            \"example_edge\": {\n",
            "                \"_key\": \"63500328\",\n",
            "                \"_id\": \"eventActor/63500328\",\n",
            "                \"_from\": \"Event/ALG1\",\n",
            "                \"_to\": \"Actor/b4226a92202dcdf01cdee130abd85928\",\n",
            "                \"_rev\": \"_g4WPsTa---\"\n",
            "            }\n",
            "        },\n",
            "        {\n",
            "            \"collection_name\": \"ChildOf\",\n",
            "            \"collection_type\": \"edge\",\n",
            "            \"edge_properties\": [\n",
            "                {\n",
            "                    \"name\": \"_key\",\n",
            "                    \"type\": \"str\"\n",
            "                },\n",
            "                {\n",
            "                    \"name\": \"_id\",\n",
            "                    \"type\": \"str\"\n",
            "                },\n",
            "                {\n",
            "                    \"name\": \"_from\",\n",
            "                    \"type\": \"str\"\n",
            "                },\n",
            "                {\n",
            "                    \"name\": \"_to\",\n",
            "                    \"type\": \"str\"\n",
            "                },\n",
            "                {\n",
            "                    \"name\": \"_rev\",\n",
            "                    \"type\": \"str\"\n",
            "                }\n",
            "            ],\n",
            "            \"example_edge\": {\n",
            "                \"_key\": \"266200823785\",\n",
            "                \"_id\": \"ChildOf/266200823785\",\n",
            "                \"_from\": \"Characters/BranStark\",\n",
            "                \"_to\": \"Characters/NedStark\",\n",
            "                \"_rev\": \"_g4WPpua---\"\n",
            "            }\n",
            "        },\n",
            "        {\n",
            "            \"collection_name\": \"subClass\",\n",
            "            \"collection_type\": \"edge\",\n",
            "            \"edge_properties\": [\n",
            "                {\n",
            "                    \"name\": \"_key\",\n",
            "                    \"type\": \"str\"\n",
            "                },\n",
            "                {\n",
            "                    \"name\": \"_id\",\n",
            "                    \"type\": \"str\"\n",
            "                },\n",
            "                {\n",
            "                    \"name\": \"_from\",\n",
            "                    \"type\": \"str\"\n",
            "                },\n",
            "                {\n",
            "                    \"name\": \"_to\",\n",
            "                    \"type\": \"str\"\n",
            "                },\n",
            "                {\n",
            "                    \"name\": \"_rev\",\n",
            "                    \"type\": \"str\"\n",
            "                }\n",
            "            ],\n",
            "            \"example_edge\": {\n",
            "                \"_key\": \"Violence_against_civilians-Attack\",\n",
            "                \"_id\": \"subClass/Violence_against_civilians-Attack\",\n",
            "                \"_from\": \"Class/Violence_against_civilians\",\n",
            "                \"_to\": \"Class/Attack\",\n",
            "                \"_rev\": \"_g4WVMXi---\"\n",
            "            }\n",
            "        },\n",
            "        {\n",
            "            \"collection_name\": \"inCountry\",\n",
            "            \"collection_type\": \"edge\",\n",
            "            \"edge_properties\": [\n",
            "                {\n",
            "                    \"name\": \"_key\",\n",
            "                    \"type\": \"str\"\n",
            "                },\n",
            "                {\n",
            "                    \"name\": \"_id\",\n",
            "                    \"type\": \"str\"\n",
            "                },\n",
            "                {\n",
            "                    \"name\": \"_from\",\n",
            "                    \"type\": \"str\"\n",
            "                },\n",
            "                {\n",
            "                    \"name\": \"_to\",\n",
            "                    \"type\": \"str\"\n",
            "                },\n",
            "                {\n",
            "                    \"name\": \"_rev\",\n",
            "                    \"type\": \"str\"\n",
            "                }\n",
            "            ],\n",
            "            \"example_edge\": {\n",
            "                \"_key\": \"61112d48fd89b4045a476e500a51bc5c-Algeria\",\n",
            "                \"_id\": \"inCountry/61112d48fd89b4045a476e500a51bc5c-Algeria\",\n",
            "                \"_from\": \"Location/61112d48fd89b4045a476e500a51bc5c\",\n",
            "                \"_to\": \"Country/Algeria\",\n",
            "                \"_rev\": \"_g4WV_NK---\"\n",
            "            }\n",
            "        },\n",
            "        {\n",
            "            \"collection_name\": \"Class\",\n",
            "            \"collection_type\": \"document\",\n",
            "            \"document_properties\": [\n",
            "                {\n",
            "                    \"name\": \"_key\",\n",
            "                    \"type\": \"str\"\n",
            "                },\n",
            "                {\n",
            "                    \"name\": \"_id\",\n",
            "                    \"type\": \"str\"\n",
            "                },\n",
            "                {\n",
            "                    \"name\": \"_rev\",\n",
            "                    \"type\": \"str\"\n",
            "                },\n",
            "                {\n",
            "                    \"name\": \"name\",\n",
            "                    \"type\": \"str\"\n",
            "                }\n",
            "            ],\n",
            "            \"example_document\": {\n",
            "                \"_key\": \"Violence_against_civilians\",\n",
            "                \"_id\": \"Class/Violence_against_civilians\",\n",
            "                \"_rev\": \"_g4WWoci---\",\n",
            "                \"name\": \"Violence against civilians\"\n",
            "            }\n",
            "        },\n",
            "        {\n",
            "            \"collection_name\": \"Region\",\n",
            "            \"collection_type\": \"document\",\n",
            "            \"document_properties\": [\n",
            "                {\n",
            "                    \"name\": \"_key\",\n",
            "                    \"type\": \"str\"\n",
            "                },\n",
            "                {\n",
            "                    \"name\": \"_id\",\n",
            "                    \"type\": \"str\"\n",
            "                },\n",
            "                {\n",
            "                    \"name\": \"_rev\",\n",
            "                    \"type\": \"str\"\n",
            "                },\n",
            "                {\n",
            "                    \"name\": \"name\",\n",
            "                    \"type\": \"str\"\n",
            "                }\n",
            "            ],\n",
            "            \"example_document\": {\n",
            "                \"_key\": \"Northern_Africa\",\n",
            "                \"_id\": \"Region/Northern_Africa\",\n",
            "                \"_rev\": \"_g4WYPlC---\",\n",
            "                \"name\": \"Northern Africa\"\n",
            "            }\n",
            "        },\n",
            "        {\n",
            "            \"collection_name\": \"Country\",\n",
            "            \"collection_type\": \"document\",\n",
            "            \"document_properties\": [\n",
            "                {\n",
            "                    \"name\": \"_key\",\n",
            "                    \"type\": \"str\"\n",
            "                },\n",
            "                {\n",
            "                    \"name\": \"_id\",\n",
            "                    \"type\": \"str\"\n",
            "                },\n",
            "                {\n",
            "                    \"name\": \"_rev\",\n",
            "                    \"type\": \"str\"\n",
            "                },\n",
            "                {\n",
            "                    \"name\": \"name\",\n",
            "                    \"type\": \"str\"\n",
            "                }\n",
            "            ],\n",
            "            \"example_document\": {\n",
            "                \"_key\": \"Algeria\",\n",
            "                \"_id\": \"Country/Algeria\",\n",
            "                \"_rev\": \"_g4WWpRC---\",\n",
            "                \"name\": \"Algeria\"\n",
            "            }\n",
            "        },\n",
            "        {\n",
            "            \"collection_name\": \"Characters\",\n",
            "            \"collection_type\": \"document\",\n",
            "            \"document_properties\": [\n",
            "                {\n",
            "                    \"name\": \"_key\",\n",
            "                    \"type\": \"str\"\n",
            "                },\n",
            "                {\n",
            "                    \"name\": \"_id\",\n",
            "                    \"type\": \"str\"\n",
            "                },\n",
            "                {\n",
            "                    \"name\": \"_rev\",\n",
            "                    \"type\": \"str\"\n",
            "                },\n",
            "                {\n",
            "                    \"name\": \"name\",\n",
            "                    \"type\": \"str\"\n",
            "                },\n",
            "                {\n",
            "                    \"name\": \"surname\",\n",
            "                    \"type\": \"str\"\n",
            "                },\n",
            "                {\n",
            "                    \"name\": \"alive\",\n",
            "                    \"type\": \"bool\"\n",
            "                },\n",
            "                {\n",
            "                    \"name\": \"age\",\n",
            "                    \"type\": \"int\"\n",
            "                },\n",
            "                {\n",
            "                    \"name\": \"gender\",\n",
            "                    \"type\": \"str\"\n",
            "                }\n",
            "            ],\n",
            "            \"example_document\": {\n",
            "                \"_key\": \"RickardStark\",\n",
            "                \"_id\": \"Characters/RickardStark\",\n",
            "                \"_rev\": \"_g4WPppS---\",\n",
            "                \"name\": \"Rickard\",\n",
            "                \"surname\": \"Stark\",\n",
            "                \"alive\": false,\n",
            "                \"age\": 60,\n",
            "                \"gender\": \"male\"\n",
            "            }\n",
            "        },\n",
            "        {\n",
            "            \"collection_name\": \"Location\",\n",
            "            \"collection_type\": \"document\",\n",
            "            \"document_properties\": [\n",
            "                {\n",
            "                    \"name\": \"_key\",\n",
            "                    \"type\": \"str\"\n",
            "                },\n",
            "                {\n",
            "                    \"name\": \"_id\",\n",
            "                    \"type\": \"str\"\n",
            "                },\n",
            "                {\n",
            "                    \"name\": \"_rev\",\n",
            "                    \"type\": \"str\"\n",
            "                },\n",
            "                {\n",
            "                    \"name\": \"name\",\n",
            "                    \"type\": \"str\"\n",
            "                }\n",
            "            ],\n",
            "            \"example_document\": {\n",
            "                \"_key\": \"61112d48fd89b4045a476e500a51bc5c\",\n",
            "                \"_id\": \"Location/61112d48fd89b4045a476e500a51bc5c\",\n",
            "                \"_rev\": \"_g4WYDji---\",\n",
            "                \"name\": \"Douaouda\"\n",
            "            }\n",
            "        },\n",
            "        {\n",
            "            \"collection_name\": \"Source\",\n",
            "            \"collection_type\": \"document\",\n",
            "            \"document_properties\": [\n",
            "                {\n",
            "                    \"name\": \"_key\",\n",
            "                    \"type\": \"str\"\n",
            "                },\n",
            "                {\n",
            "                    \"name\": \"_id\",\n",
            "                    \"type\": \"str\"\n",
            "                },\n",
            "                {\n",
            "                    \"name\": \"_rev\",\n",
            "                    \"type\": \"str\"\n",
            "                },\n",
            "                {\n",
            "                    \"name\": \"name\",\n",
            "                    \"type\": \"str\"\n",
            "                },\n",
            "                {\n",
            "                    \"name\": \"sourceScale\",\n",
            "                    \"type\": \"str\"\n",
            "                }\n",
            "            ],\n",
            "            \"example_document\": {\n",
            "                \"_key\": \"b30282f2374cee867a9f7e2a62deb1b5\",\n",
            "                \"_id\": \"Source/b30282f2374cee867a9f7e2a62deb1b5\",\n",
            "                \"_rev\": \"_g4WYQlm---\",\n",
            "                \"name\": \"Algeria Watch\",\n",
            "                \"sourceScale\": \"Other\"\n",
            "            }\n",
            "        },\n",
            "        {\n",
            "            \"collection_name\": \"hasSource\",\n",
            "            \"collection_type\": \"edge\",\n",
            "            \"edge_properties\": [\n",
            "                {\n",
            "                    \"name\": \"_key\",\n",
            "                    \"type\": \"str\"\n",
            "                },\n",
            "                {\n",
            "                    \"name\": \"_id\",\n",
            "                    \"type\": \"str\"\n",
            "                },\n",
            "                {\n",
            "                    \"name\": \"_from\",\n",
            "                    \"type\": \"str\"\n",
            "                },\n",
            "                {\n",
            "                    \"name\": \"_to\",\n",
            "                    \"type\": \"str\"\n",
            "                },\n",
            "                {\n",
            "                    \"name\": \"_rev\",\n",
            "                    \"type\": \"str\"\n",
            "                }\n",
            "            ],\n",
            "            \"example_edge\": {\n",
            "                \"_key\": \"ALG1-b30282f2374cee867a9f7e2a62deb1b5\",\n",
            "                \"_id\": \"hasSource/ALG1-b30282f2374cee867a9f7e2a62deb1b5\",\n",
            "                \"_from\": \"Event/ALG1\",\n",
            "                \"_to\": \"Source/b30282f2374cee867a9f7e2a62deb1b5\",\n",
            "                \"_rev\": \"_g4WTioy---\"\n",
            "            }\n",
            "        },\n",
            "        {\n",
            "            \"collection_name\": \"inRegion\",\n",
            "            \"collection_type\": \"edge\",\n",
            "            \"edge_properties\": [\n",
            "                {\n",
            "                    \"name\": \"_key\",\n",
            "                    \"type\": \"str\"\n",
            "                },\n",
            "                {\n",
            "                    \"name\": \"_id\",\n",
            "                    \"type\": \"str\"\n",
            "                },\n",
            "                {\n",
            "                    \"name\": \"_from\",\n",
            "                    \"type\": \"str\"\n",
            "                },\n",
            "                {\n",
            "                    \"name\": \"_to\",\n",
            "                    \"type\": \"str\"\n",
            "                },\n",
            "                {\n",
            "                    \"name\": \"_rev\",\n",
            "                    \"type\": \"str\"\n",
            "                }\n",
            "            ],\n",
            "            \"example_edge\": {\n",
            "                \"_key\": \"Angola-Middle_Africa\",\n",
            "                \"_id\": \"inRegion/Angola-Middle_Africa\",\n",
            "                \"_from\": \"Country/Angola\",\n",
            "                \"_to\": \"Region/Middle_Africa\",\n",
            "                \"_rev\": \"_g4WVLsa---\"\n",
            "            }\n",
            "        },\n",
            "        {\n",
            "            \"collection_name\": \"Actor\",\n",
            "            \"collection_type\": \"document\",\n",
            "            \"document_properties\": [\n",
            "                {\n",
            "                    \"name\": \"_key\",\n",
            "                    \"type\": \"str\"\n",
            "                },\n",
            "                {\n",
            "                    \"name\": \"_id\",\n",
            "                    \"type\": \"str\"\n",
            "                },\n",
            "                {\n",
            "                    \"name\": \"_rev\",\n",
            "                    \"type\": \"str\"\n",
            "                },\n",
            "                {\n",
            "                    \"name\": \"name\",\n",
            "                    \"type\": \"str\"\n",
            "                }\n",
            "            ],\n",
            "            \"example_document\": {\n",
            "                \"_key\": \"228e62bfcd97e3cb8a559cba8a9e7b27\",\n",
            "                \"_id\": \"Actor/228e62bfcd97e3cb8a559cba8a9e7b27\",\n",
            "                \"_rev\": \"_g4WWkyG---\",\n",
            "                \"name\": \"Zouar Communal Militia (Chad)\"\n",
            "            }\n",
            "        },\n",
            "        {\n",
            "            \"collection_name\": \"hasLocation\",\n",
            "            \"collection_type\": \"edge\",\n",
            "            \"edge_properties\": [\n",
            "                {\n",
            "                    \"name\": \"_key\",\n",
            "                    \"type\": \"str\"\n",
            "                },\n",
            "                {\n",
            "                    \"name\": \"_id\",\n",
            "                    \"type\": \"str\"\n",
            "                },\n",
            "                {\n",
            "                    \"name\": \"_from\",\n",
            "                    \"type\": \"str\"\n",
            "                },\n",
            "                {\n",
            "                    \"name\": \"_to\",\n",
            "                    \"type\": \"str\"\n",
            "                },\n",
            "                {\n",
            "                    \"name\": \"_rev\",\n",
            "                    \"type\": \"str\"\n",
            "                }\n",
            "            ],\n",
            "            \"example_edge\": {\n",
            "                \"_key\": \"ALG1-61112d48fd89b4045a476e500a51bc5c\",\n",
            "                \"_id\": \"hasLocation/ALG1-61112d48fd89b4045a476e500a51bc5c\",\n",
            "                \"_from\": \"Event/ALG1\",\n",
            "                \"_to\": \"Location/61112d48fd89b4045a476e500a51bc5c\",\n",
            "                \"_rev\": \"_g4WSGs2---\"\n",
            "            }\n",
            "        },\n",
            "        {\n",
            "            \"collection_name\": \"type\",\n",
            "            \"collection_type\": \"edge\",\n",
            "            \"edge_properties\": [\n",
            "                {\n",
            "                    \"name\": \"_key\",\n",
            "                    \"type\": \"str\"\n",
            "                },\n",
            "                {\n",
            "                    \"name\": \"_id\",\n",
            "                    \"type\": \"str\"\n",
            "                },\n",
            "                {\n",
            "                    \"name\": \"_from\",\n",
            "                    \"type\": \"str\"\n",
            "                },\n",
            "                {\n",
            "                    \"name\": \"_to\",\n",
            "                    \"type\": \"str\"\n",
            "                },\n",
            "                {\n",
            "                    \"name\": \"_rev\",\n",
            "                    \"type\": \"str\"\n",
            "                },\n",
            "                {\n",
            "                    \"name\": \"name\",\n",
            "                    \"type\": \"str\"\n",
            "                }\n",
            "            ],\n",
            "            \"example_edge\": {\n",
            "                \"_key\": \"143072967\",\n",
            "                \"_id\": \"type/143072967\",\n",
            "                \"_from\": \"Event/ALG1\",\n",
            "                \"_to\": \"Class/Violence_against_civilians\",\n",
            "                \"_rev\": \"_g4WVN3m---\",\n",
            "                \"name\": \"Violence against civilians\"\n",
            "            }\n",
            "        }\n",
            "    ]\n",
            "}\n"
          ]
        }
      ]
    },
    {
      "cell_type": "code",
      "execution_count": 20,
      "id": "4e3de44f",
      "metadata": {
        "id": "4e3de44f"
      },
      "outputs": [],
      "source": [
        "# 2: Instantiate the OpenAI Chat model\n",
        "# Note that other models can be used as well\n",
        "# Ref: https://github.com/langchain-ai/langchain/tree/master/libs/langchain/langchain/chat_models\n",
        "\n",
        "from langchain.chat_models import ChatOpenAI\n",
        "\n",
        "model = ChatOpenAI(temperature=0, model_name='gpt-4')"
      ]
    },
    {
      "cell_type": "code",
      "execution_count": 21,
      "id": "7476ce98",
      "metadata": {
        "id": "7476ce98"
      },
      "outputs": [],
      "source": [
        "# 3: Instantiate the LangChain Question-Answering Chain with\n",
        "# our **model** and **graph**\n",
        "\n",
        "from langchain.chains import ArangoGraphQAChain\n",
        "\n",
        "chain = ArangoGraphQAChain.from_llm(model, graph=graph, verbose=True)"
      ]
    },
    {
      "cell_type": "markdown",
      "id": "MdTyIwWeL953",
      "metadata": {
        "id": "MdTyIwWeL953"
      },
      "source": [
        "---\n",
        "## Prompting"
      ]
    },
    {
      "cell_type": "markdown",
      "source": [
        "#### Game Of Thrones"
      ],
      "metadata": {
        "id": "sEdHWYOB_Nj0"
      },
      "id": "sEdHWYOB_Nj0"
    },
    {
      "cell_type": "code",
      "execution_count": 22,
      "id": "ef8ee27b",
      "metadata": {
        "colab": {
          "base_uri": "https://localhost:8080/",
          "height": 298
        },
        "id": "ef8ee27b",
        "outputId": "73e1737b-34db-4235-f1e2-a81956f4768f"
      },
      "outputs": [
        {
          "output_type": "stream",
          "name": "stdout",
          "text": [
            "\n",
            "\n",
            "\u001b[1m> Entering new ArangoGraphQAChain chain...\u001b[0m\n",
            "AQL Query (1):\u001b[32;1m\u001b[1;3m\n",
            "WITH Characters\n",
            "FOR c IN Characters\n",
            "SORT c.age ASC\n",
            "LIMIT 2\n",
            "RETURN c\n",
            "\u001b[0m\n",
            "AQL Result:\n",
            "\u001b[32;1m\u001b[1;3m[{'_key': 'BranStark', '_id': 'Characters/BranStark', '_rev': '_g4WPppS--D', 'name': 'Bran', 'surname': 'Stark', 'alive': True, 'age': 10, 'gender': 'male'}, {'_key': 'AryaStark', '_id': 'Characters/AryaStark', '_rev': '_g4WPppS--C', 'name': 'Arya', 'surname': 'Stark', 'alive': True, 'age': 11, 'gender': 'female'}]\u001b[0m\n",
            "\n",
            "\u001b[1m> Finished chain.\u001b[0m\n"
          ]
        },
        {
          "output_type": "execute_result",
          "data": {
            "text/plain": [
              "'The two youngest characters are Bran Stark, who is 10 years old, and Arya Stark, who is 11 years old.'"
            ],
            "application/vnd.google.colaboratory.intrinsic+json": {
              "type": "string"
            }
          },
          "metadata": {},
          "execution_count": 22
        }
      ],
      "source": [
        "chain.run(\"Who are the 2 youngest characters?\")"
      ]
    },
    {
      "cell_type": "code",
      "execution_count": 23,
      "id": "9CSig1BgA76q",
      "metadata": {
        "colab": {
          "base_uri": "https://localhost:8080/",
          "height": 298
        },
        "id": "9CSig1BgA76q",
        "outputId": "fb75fc26-44b7-40ab-ec7f-d3e6cbe4d1a3"
      },
      "outputs": [
        {
          "output_type": "stream",
          "name": "stdout",
          "text": [
            "\n",
            "\n",
            "\u001b[1m> Entering new ArangoGraphQAChain chain...\u001b[0m\n",
            "AQL Query (1):\u001b[32;1m\u001b[1;3m\n",
            "WITH Characters, ChildOf\n",
            "FOR v, e IN 1..10 ANY 'Characters/BranStark' ChildOf\n",
            "  FILTER v._key == 'AryaStark'\n",
            "  RETURN v\n",
            "\u001b[0m\n",
            "AQL Result:\n",
            "\u001b[32;1m\u001b[1;3m[{'_key': 'AryaStark', '_id': 'Characters/AryaStark', '_rev': '_g4WPppS--C', 'name': 'Arya', 'surname': 'Stark', 'alive': True, 'age': 11, 'gender': 'female'}, {'_key': 'AryaStark', '_id': 'Characters/AryaStark', '_rev': '_g4WPppS--C', 'name': 'Arya', 'surname': 'Stark', 'alive': True, 'age': 11, 'gender': 'female'}, {'_key': 'AryaStark', '_id': 'Characters/AryaStark', '_rev': '_g4WPppS--C', 'name': 'Arya', 'surname': 'Stark', 'alive': True, 'age': 11, 'gender': 'female'}, {'_key': 'AryaStark', '_id': 'Characters/AryaStark', '_rev': '_g4WPppS--C', 'name': 'Arya', 'surname': 'Stark', 'alive': True, 'age': 11, 'gender': 'female'}, {'_key': 'AryaStark', '_id': 'Characters/AryaStark', '_rev': '_g4WPppS--C', 'name': 'Arya', 'surname': 'Stark', 'alive': True, 'age': 11, 'gender': 'female'}, {'_key': 'AryaStark', '_id': 'Characters/AryaStark', '_rev': '_g4WPppS--C', 'name': 'Arya', 'surname': 'Stark', 'alive': True, 'age': 11, 'gender': 'female'}, {'_key': 'AryaStark', '_id': 'Characters/AryaStark', '_rev': '_g4WPppS--C', 'name': 'Arya', 'surname': 'Stark', 'alive': True, 'age': 11, 'gender': 'female'}, {'_key': 'AryaStark', '_id': 'Characters/AryaStark', '_rev': '_g4WPppS--C', 'name': 'Arya', 'surname': 'Stark', 'alive': True, 'age': 11, 'gender': 'female'}, {'_key': 'AryaStark', '_id': 'Characters/AryaStark', '_rev': '_g4WPppS--C', 'name': 'Arya', 'surname': 'Stark', 'alive': True, 'age': 11, 'gender': 'female'}, {'_key': 'AryaStark', '_id': 'Characters/AryaStark', '_rev': '_g4WPppS--C', 'name': 'Arya', 'surname': 'Stark', 'alive': True, 'age': 11, 'gender': 'female'}]\u001b[0m\n",
            "\n",
            "\u001b[1m> Finished chain.\u001b[0m\n"
          ]
        },
        {
          "output_type": "execute_result",
          "data": {
            "text/plain": [
              "'Bran Stark and Arya Stark are related as siblings. Both characters belong to the Stark family in the Game of Thrones series. Arya Stark is a female character who is currently alive and 11 years old.'"
            ],
            "application/vnd.google.colaboratory.intrinsic+json": {
              "type": "string"
            }
          },
          "metadata": {},
          "execution_count": 23
        }
      ],
      "source": [
        "chain.run(\"How are Bran Stark and Arya Stark related?\")"
      ]
    },
    {
      "cell_type": "code",
      "execution_count": 24,
      "id": "9Fzdic_pA_4y",
      "metadata": {
        "colab": {
          "base_uri": "https://localhost:8080/",
          "height": 316
        },
        "id": "9Fzdic_pA_4y",
        "outputId": "f1e21dee-4af5-4ae1-8da2-1121cd3d269c"
      },
      "outputs": [
        {
          "output_type": "stream",
          "name": "stderr",
          "text": [
            "WARNING:langchain.llms.base:Retrying langchain.chat_models.openai.ChatOpenAI.completion_with_retry.<locals>._completion_with_retry in 4.0 seconds as it raised RateLimitError: Rate limit reached for gpt-4 in organization org-64PhSWcD9qZwtHC2EgGYxpxI on tokens per min. Limit: 10000 / min. Please try again in 6ms. Visit https://platform.openai.com/account/rate-limits to learn more..\n"
          ]
        },
        {
          "output_type": "stream",
          "name": "stdout",
          "text": [
            "\n",
            "\n",
            "\u001b[1m> Entering new ArangoGraphQAChain chain...\u001b[0m\n"
          ]
        },
        {
          "output_type": "stream",
          "name": "stderr",
          "text": [
            "WARNING:langchain.llms.base:Retrying langchain.chat_models.openai.ChatOpenAI.completion_with_retry.<locals>._completion_with_retry in 4.0 seconds as it raised RateLimitError: Rate limit reached for gpt-4 in organization org-64PhSWcD9qZwtHC2EgGYxpxI on tokens per min. Limit: 10000 / min. Please try again in 6ms. Visit https://platform.openai.com/account/rate-limits to learn more..\n"
          ]
        },
        {
          "output_type": "stream",
          "name": "stdout",
          "text": [
            "AQL Query (1):\u001b[32;1m\u001b[1;3m\n",
            "WITH Characters, ChildOf\n",
            "FOR v, e IN 2..2 OUTBOUND 'Characters/BranStark' ChildOf\n",
            "RETURN v\n",
            "\u001b[0m\n",
            "AQL Result:\n",
            "\u001b[32;1m\u001b[1;3m[{'_key': 'LyarraStark', '_id': 'Characters/LyarraStark', '_rev': '_g4WPppS--_', 'name': 'Lyarra', 'surname': 'Stark', 'alive': False, 'age': 60, 'gender': 'female'}, {'_key': 'RickardStark', '_id': 'Characters/RickardStark', '_rev': '_g4WPppS---', 'name': 'Rickard', 'surname': 'Stark', 'alive': False, 'age': 60, 'gender': 'male'}]\u001b[0m\n"
          ]
        },
        {
          "output_type": "stream",
          "name": "stderr",
          "text": [
            "WARNING:langchain.llms.base:Retrying langchain.chat_models.openai.ChatOpenAI.completion_with_retry.<locals>._completion_with_retry in 4.0 seconds as it raised RateLimitError: Rate limit reached for gpt-4 in organization org-64PhSWcD9qZwtHC2EgGYxpxI on tokens per min. Limit: 10000 / min. Please try again in 6ms. Visit https://platform.openai.com/account/rate-limits to learn more..\n"
          ]
        },
        {
          "output_type": "stream",
          "name": "stdout",
          "text": [
            "\n",
            "\u001b[1m> Finished chain.\u001b[0m\n"
          ]
        },
        {
          "output_type": "execute_result",
          "data": {
            "text/plain": [
              "\"Bran Stark's grandparents are Lyarra Stark and Rickard Stark.\""
            ],
            "application/vnd.google.colaboratory.intrinsic+json": {
              "type": "string"
            }
          },
          "metadata": {},
          "execution_count": 24
        }
      ],
      "source": [
        "chain.run(\"Who are Bran Stark’s grandparents?\")"
      ]
    },
    {
      "cell_type": "code",
      "execution_count": 25,
      "id": "zq_oeDpAOXpF",
      "metadata": {
        "colab": {
          "base_uri": "https://localhost:8080/",
          "height": 402
        },
        "id": "zq_oeDpAOXpF",
        "outputId": "c8f71246-1b21-4a72-f9d0-56797eeb82db"
      },
      "outputs": [
        {
          "output_type": "stream",
          "name": "stderr",
          "text": [
            "WARNING:langchain.llms.base:Retrying langchain.chat_models.openai.ChatOpenAI.completion_with_retry.<locals>._completion_with_retry in 4.0 seconds as it raised RateLimitError: Rate limit reached for gpt-4 in organization org-64PhSWcD9qZwtHC2EgGYxpxI on tokens per min. Limit: 10000 / min. Please try again in 6ms. Visit https://platform.openai.com/account/rate-limits to learn more..\n"
          ]
        },
        {
          "output_type": "stream",
          "name": "stdout",
          "text": [
            "\n",
            "\n",
            "\u001b[1m> Entering new ArangoGraphQAChain chain...\u001b[0m\n"
          ]
        },
        {
          "output_type": "stream",
          "name": "stderr",
          "text": [
            "WARNING:langchain.llms.base:Retrying langchain.chat_models.openai.ChatOpenAI.completion_with_retry.<locals>._completion_with_retry in 4.0 seconds as it raised RateLimitError: Rate limit reached for gpt-4 in organization org-64PhSWcD9qZwtHC2EgGYxpxI on tokens per min. Limit: 10000 / min. Please try again in 6ms. Visit https://platform.openai.com/account/rate-limits to learn more..\n",
            "WARNING:langchain.llms.base:Retrying langchain.chat_models.openai.ChatOpenAI.completion_with_retry.<locals>._completion_with_retry in 4.0 seconds as it raised RateLimitError: Rate limit reached for gpt-4 in organization org-64PhSWcD9qZwtHC2EgGYxpxI on tokens per min. Limit: 10000 / min. Please try again in 6ms. Visit https://platform.openai.com/account/rate-limits to learn more..\n",
            "WARNING:langchain.llms.base:Retrying langchain.chat_models.openai.ChatOpenAI.completion_with_retry.<locals>._completion_with_retry in 8.0 seconds as it raised RateLimitError: Rate limit reached for gpt-4 in organization org-64PhSWcD9qZwtHC2EgGYxpxI on tokens per min. Limit: 10000 / min. Please try again in 6ms. Visit https://platform.openai.com/account/rate-limits to learn more..\n",
            "WARNING:langchain.llms.base:Retrying langchain.chat_models.openai.ChatOpenAI.completion_with_retry.<locals>._completion_with_retry in 4.0 seconds as it raised RateLimitError: Rate limit reached for gpt-4 in organization org-64PhSWcD9qZwtHC2EgGYxpxI on tokens per min. Limit: 10000 / min. Please try again in 6ms. Visit https://platform.openai.com/account/rate-limits to learn more..\n"
          ]
        },
        {
          "output_type": "stream",
          "name": "stdout",
          "text": [
            "AQL Query (1):\u001b[32;1m\u001b[1;3m\n",
            "WITH Characters, ChildOf\n",
            "FOR character IN Characters\n",
            "    FILTER character.surname != null\n",
            "    COLLECT family = character.surname WITH COUNT INTO count\n",
            "    RETURN { \"family\": family, \"count\": count }\n",
            "\u001b[0m\n",
            "AQL Result:\n",
            "\u001b[32;1m\u001b[1;3m[{'family': 'Baratheon', 'count': 1}, {'family': 'Lannister', 'count': 4}, {'family': 'Stark', 'count': 8}]\u001b[0m\n",
            "\n",
            "\u001b[1m> Finished chain.\u001b[0m\n"
          ]
        },
        {
          "output_type": "execute_result",
          "data": {
            "text/plain": [
              "'The count of characters for each family in the database is as follows: There is 1 character from the Baratheon family, 4 characters from the Lannister family, and 8 characters from the Stark family.'"
            ],
            "application/vnd.google.colaboratory.intrinsic+json": {
              "type": "string"
            }
          },
          "metadata": {},
          "execution_count": 25
        }
      ],
      "source": [
        "chain.run(\"Fetch me the character count for each family\")"
      ]
    },
    {
      "cell_type": "code",
      "execution_count": 26,
      "id": "Qfi_e1_P_tKj",
      "metadata": {
        "colab": {
          "base_uri": "https://localhost:8080/",
          "height": 402
        },
        "id": "Qfi_e1_P_tKj",
        "outputId": "78233b6c-a9ec-4dcb-9e4f-cd6a29f53d15"
      },
      "outputs": [
        {
          "output_type": "stream",
          "name": "stderr",
          "text": [
            "WARNING:langchain.llms.base:Retrying langchain.chat_models.openai.ChatOpenAI.completion_with_retry.<locals>._completion_with_retry in 4.0 seconds as it raised RateLimitError: Rate limit reached for gpt-4 in organization org-64PhSWcD9qZwtHC2EgGYxpxI on tokens per min. Limit: 10000 / min. Please try again in 6ms. Visit https://platform.openai.com/account/rate-limits to learn more..\n"
          ]
        },
        {
          "output_type": "stream",
          "name": "stdout",
          "text": [
            "\n",
            "\n",
            "\u001b[1m> Entering new ArangoGraphQAChain chain...\u001b[0m\n"
          ]
        },
        {
          "output_type": "stream",
          "name": "stderr",
          "text": [
            "WARNING:langchain.llms.base:Retrying langchain.chat_models.openai.ChatOpenAI.completion_with_retry.<locals>._completion_with_retry in 4.0 seconds as it raised RateLimitError: Rate limit reached for gpt-4 in organization org-64PhSWcD9qZwtHC2EgGYxpxI on tokens per min. Limit: 10000 / min. Please try again in 6ms. Visit https://platform.openai.com/account/rate-limits to learn more..\n",
            "WARNING:langchain.llms.base:Retrying langchain.chat_models.openai.ChatOpenAI.completion_with_retry.<locals>._completion_with_retry in 4.0 seconds as it raised RateLimitError: Rate limit reached for gpt-4 in organization org-64PhSWcD9qZwtHC2EgGYxpxI on tokens per min. Limit: 10000 / min. Please try again in 6ms. Visit https://platform.openai.com/account/rate-limits to learn more..\n",
            "WARNING:langchain.llms.base:Retrying langchain.chat_models.openai.ChatOpenAI.completion_with_retry.<locals>._completion_with_retry in 4.0 seconds as it raised RateLimitError: Rate limit reached for gpt-4 in organization org-64PhSWcD9qZwtHC2EgGYxpxI on tokens per min. Limit: 10000 / min. Please try again in 6ms. Visit https://platform.openai.com/account/rate-limits to learn more..\n"
          ]
        },
        {
          "output_type": "stream",
          "name": "stdout",
          "text": [
            "AQL Query (1):\u001b[32;1m\u001b[1;3m\n",
            "WITH Characters\n",
            "FOR rickard IN Characters\n",
            "    FILTER rickard._key == 'RickardStark'\n",
            "FOR arya IN Characters\n",
            "    FILTER arya._key == 'AryaStark'\n",
            "RETURN ABS(rickard.age - arya.age)\n",
            "\u001b[0m\n",
            "AQL Result:\n",
            "\u001b[32;1m\u001b[1;3m[49]\u001b[0m\n"
          ]
        },
        {
          "output_type": "stream",
          "name": "stderr",
          "text": [
            "WARNING:langchain.llms.base:Retrying langchain.chat_models.openai.ChatOpenAI.completion_with_retry.<locals>._completion_with_retry in 4.0 seconds as it raised RateLimitError: Rate limit reached for gpt-4 in organization org-64PhSWcD9qZwtHC2EgGYxpxI on tokens per min. Limit: 10000 / min. Please try again in 6ms. Visit https://platform.openai.com/account/rate-limits to learn more..\n"
          ]
        },
        {
          "output_type": "stream",
          "name": "stdout",
          "text": [
            "\n",
            "\u001b[1m> Finished chain.\u001b[0m\n"
          ]
        },
        {
          "output_type": "execute_result",
          "data": {
            "text/plain": [
              "'The age difference between Rickard Stark and Arya Stark is 49 years.'"
            ],
            "application/vnd.google.colaboratory.intrinsic+json": {
              "type": "string"
            }
          },
          "metadata": {},
          "execution_count": 26
        }
      ],
      "source": [
        "chain.run(\"What is the age difference between Rickard Stark and Arya Stark?\")"
      ]
    },
    {
      "cell_type": "code",
      "execution_count": 27,
      "id": "pjTLW6ct_71q",
      "metadata": {
        "colab": {
          "base_uri": "https://localhost:8080/",
          "height": 385
        },
        "id": "pjTLW6ct_71q",
        "outputId": "f6a08b9d-50db-4d86-bb7b-05d89a711e64"
      },
      "outputs": [
        {
          "output_type": "stream",
          "name": "stderr",
          "text": [
            "WARNING:langchain.llms.base:Retrying langchain.chat_models.openai.ChatOpenAI.completion_with_retry.<locals>._completion_with_retry in 4.0 seconds as it raised RateLimitError: Rate limit reached for gpt-4 in organization org-64PhSWcD9qZwtHC2EgGYxpxI on tokens per min. Limit: 10000 / min. Please try again in 6ms. Visit https://platform.openai.com/account/rate-limits to learn more..\n"
          ]
        },
        {
          "output_type": "stream",
          "name": "stdout",
          "text": [
            "\n",
            "\n",
            "\u001b[1m> Entering new ArangoGraphQAChain chain...\u001b[0m\n"
          ]
        },
        {
          "output_type": "stream",
          "name": "stderr",
          "text": [
            "WARNING:langchain.llms.base:Retrying langchain.chat_models.openai.ChatOpenAI.completion_with_retry.<locals>._completion_with_retry in 4.0 seconds as it raised RateLimitError: Rate limit reached for gpt-4 in organization org-64PhSWcD9qZwtHC2EgGYxpxI on tokens per min. Limit: 10000 / min. Please try again in 6ms. Visit https://platform.openai.com/account/rate-limits to learn more..\n",
            "WARNING:langchain.llms.base:Retrying langchain.chat_models.openai.ChatOpenAI.completion_with_retry.<locals>._completion_with_retry in 4.0 seconds as it raised RateLimitError: Rate limit reached for gpt-4 in organization org-64PhSWcD9qZwtHC2EgGYxpxI on tokens per min. Limit: 10000 / min. Please try again in 6ms. Visit https://platform.openai.com/account/rate-limits to learn more..\n",
            "WARNING:langchain.llms.base:Retrying langchain.chat_models.openai.ChatOpenAI.completion_with_retry.<locals>._completion_with_retry in 8.0 seconds as it raised RateLimitError: Rate limit reached for gpt-4 in organization org-64PhSWcD9qZwtHC2EgGYxpxI on tokens per min. Limit: 10000 / min. Please try again in 6ms. Visit https://platform.openai.com/account/rate-limits to learn more..\n",
            "WARNING:langchain.llms.base:Retrying langchain.chat_models.openai.ChatOpenAI.completion_with_retry.<locals>._completion_with_retry in 4.0 seconds as it raised RateLimitError: Rate limit reached for gpt-4 in organization org-64PhSWcD9qZwtHC2EgGYxpxI on tokens per min. Limit: 10000 / min. Please try again in 6ms. Visit https://platform.openai.com/account/rate-limits to learn more..\n"
          ]
        },
        {
          "output_type": "stream",
          "name": "stdout",
          "text": [
            "AQL Query (1):\u001b[32;1m\u001b[1;3m\n",
            "WITH Characters\n",
            "FOR character IN Characters\n",
            "    FILTER character._key == 'RickardStark'\n",
            "    RETURN character.age\n",
            "\u001b[0m\n",
            "AQL Result:\n",
            "\u001b[32;1m\u001b[1;3m[60]\u001b[0m\n"
          ]
        },
        {
          "output_type": "stream",
          "name": "stderr",
          "text": [
            "WARNING:langchain.llms.base:Retrying langchain.chat_models.openai.ChatOpenAI.completion_with_retry.<locals>._completion_with_retry in 4.0 seconds as it raised RateLimitError: Rate limit reached for gpt-4 in organization org-64PhSWcD9qZwtHC2EgGYxpxI on tokens per min. Limit: 10000 / min. Please try again in 6ms. Visit https://platform.openai.com/account/rate-limits to learn more..\n"
          ]
        },
        {
          "output_type": "stream",
          "name": "stdout",
          "text": [
            "\n",
            "\u001b[1m> Finished chain.\u001b[0m\n"
          ]
        },
        {
          "output_type": "execute_result",
          "data": {
            "text/plain": [
              "'Rickard Stark ist 60 Jahre alt.'"
            ],
            "application/vnd.google.colaboratory.intrinsic+json": {
              "type": "string"
            }
          },
          "metadata": {},
          "execution_count": 27
        }
      ],
      "source": [
        "chain.run(\"Wie alt ist Rickard Stark?\") # (German: \"How old is Rickard Stark?\")"
      ]
    },
    {
      "cell_type": "code",
      "execution_count": 28,
      "id": "-VfkVtt4_9FK",
      "metadata": {
        "colab": {
          "base_uri": "https://localhost:8080/",
          "height": 402
        },
        "id": "-VfkVtt4_9FK",
        "outputId": "2ed1da3e-3763-4d11-b6e9-c0ae397002ad"
      },
      "outputs": [
        {
          "output_type": "stream",
          "name": "stderr",
          "text": [
            "WARNING:langchain.llms.base:Retrying langchain.chat_models.openai.ChatOpenAI.completion_with_retry.<locals>._completion_with_retry in 4.0 seconds as it raised RateLimitError: Rate limit reached for gpt-4 in organization org-64PhSWcD9qZwtHC2EgGYxpxI on tokens per min. Limit: 10000 / min. Please try again in 6ms. Visit https://platform.openai.com/account/rate-limits to learn more..\n"
          ]
        },
        {
          "output_type": "stream",
          "name": "stdout",
          "text": [
            "\n",
            "\n",
            "\u001b[1m> Entering new ArangoGraphQAChain chain...\u001b[0m\n"
          ]
        },
        {
          "output_type": "stream",
          "name": "stderr",
          "text": [
            "WARNING:langchain.llms.base:Retrying langchain.chat_models.openai.ChatOpenAI.completion_with_retry.<locals>._completion_with_retry in 4.0 seconds as it raised RateLimitError: Rate limit reached for gpt-4 in organization org-64PhSWcD9qZwtHC2EgGYxpxI on tokens per min. Limit: 10000 / min. Please try again in 6ms. Visit https://platform.openai.com/account/rate-limits to learn more..\n",
            "WARNING:langchain.llms.base:Retrying langchain.chat_models.openai.ChatOpenAI.completion_with_retry.<locals>._completion_with_retry in 4.0 seconds as it raised RateLimitError: Rate limit reached for gpt-4 in organization org-64PhSWcD9qZwtHC2EgGYxpxI on tokens per min. Limit: 10000 / min. Please try again in 6ms. Visit https://platform.openai.com/account/rate-limits to learn more..\n",
            "WARNING:langchain.llms.base:Retrying langchain.chat_models.openai.ChatOpenAI.completion_with_retry.<locals>._completion_with_retry in 4.0 seconds as it raised RateLimitError: Rate limit reached for gpt-4 in organization org-64PhSWcD9qZwtHC2EgGYxpxI on tokens per min. Limit: 10000 / min. Please try again in 6ms. Visit https://platform.openai.com/account/rate-limits to learn more..\n"
          ]
        },
        {
          "output_type": "stream",
          "name": "stdout",
          "text": [
            "AQL Query (1):\u001b[32;1m\u001b[1;3m\n",
            "WITH Characters\n",
            "FOR character IN Characters\n",
            "    FILTER character.surname == 'Stark'\n",
            "    COLLECT AGGREGATE avgAge = AVG(character.age)\n",
            "    RETURN avgAge\n",
            "\u001b[0m\n",
            "AQL Result:\n",
            "\u001b[32;1m\u001b[1;3m[31.375]\u001b[0m\n"
          ]
        },
        {
          "output_type": "stream",
          "name": "stderr",
          "text": [
            "WARNING:langchain.llms.base:Retrying langchain.chat_models.openai.ChatOpenAI.completion_with_retry.<locals>._completion_with_retry in 4.0 seconds as it raised RateLimitError: Rate limit reached for gpt-4 in organization org-64PhSWcD9qZwtHC2EgGYxpxI on tokens per min. Limit: 10000 / min. Please try again in 6ms. Visit https://platform.openai.com/account/rate-limits to learn more..\n",
            "WARNING:langchain.llms.base:Retrying langchain.chat_models.openai.ChatOpenAI.completion_with_retry.<locals>._completion_with_retry in 4.0 seconds as it raised RateLimitError: Rate limit reached for gpt-4 in organization org-64PhSWcD9qZwtHC2EgGYxpxI on tokens per min. Limit: 10000 / min. Please try again in 6ms. Visit https://platform.openai.com/account/rate-limits to learn more..\n"
          ]
        },
        {
          "output_type": "stream",
          "name": "stdout",
          "text": [
            "\n",
            "\u001b[1m> Finished chain.\u001b[0m\n"
          ]
        },
        {
          "output_type": "execute_result",
          "data": {
            "text/plain": [
              "'The average age within the Stark family is approximately 31.4 years.'"
            ],
            "application/vnd.google.colaboratory.intrinsic+json": {
              "type": "string"
            }
          },
          "metadata": {},
          "execution_count": 28
        }
      ],
      "source": [
        "chain.run(\"What is the average age within the Stark family?\")"
      ]
    },
    {
      "cell_type": "code",
      "execution_count": 29,
      "id": "89-QJ87m__ol",
      "metadata": {
        "colab": {
          "base_uri": "https://localhost:8080/",
          "height": 368
        },
        "id": "89-QJ87m__ol",
        "outputId": "10af878f-b261-46a1-b11b-68be02bf2588"
      },
      "outputs": [
        {
          "output_type": "stream",
          "name": "stderr",
          "text": [
            "WARNING:langchain.llms.base:Retrying langchain.chat_models.openai.ChatOpenAI.completion_with_retry.<locals>._completion_with_retry in 4.0 seconds as it raised RateLimitError: Rate limit reached for gpt-4 in organization org-64PhSWcD9qZwtHC2EgGYxpxI on tokens per min. Limit: 10000 / min. Please try again in 6ms. Visit https://platform.openai.com/account/rate-limits to learn more..\n"
          ]
        },
        {
          "output_type": "stream",
          "name": "stdout",
          "text": [
            "\n",
            "\n",
            "\u001b[1m> Entering new ArangoGraphQAChain chain...\u001b[0m\n"
          ]
        },
        {
          "output_type": "stream",
          "name": "stderr",
          "text": [
            "WARNING:langchain.llms.base:Retrying langchain.chat_models.openai.ChatOpenAI.completion_with_retry.<locals>._completion_with_retry in 4.0 seconds as it raised RateLimitError: Rate limit reached for gpt-4 in organization org-64PhSWcD9qZwtHC2EgGYxpxI on tokens per min. Limit: 10000 / min. Please try again in 6ms. Visit https://platform.openai.com/account/rate-limits to learn more..\n",
            "WARNING:langchain.llms.base:Retrying langchain.chat_models.openai.ChatOpenAI.completion_with_retry.<locals>._completion_with_retry in 4.0 seconds as it raised RateLimitError: Rate limit reached for gpt-4 in organization org-64PhSWcD9qZwtHC2EgGYxpxI on tokens per min. Limit: 10000 / min. Please try again in 6ms. Visit https://platform.openai.com/account/rate-limits to learn more..\n",
            "WARNING:langchain.llms.base:Retrying langchain.chat_models.openai.ChatOpenAI.completion_with_retry.<locals>._completion_with_retry in 4.0 seconds as it raised RateLimitError: Rate limit reached for gpt-4 in organization org-64PhSWcD9qZwtHC2EgGYxpxI on tokens per min. Limit: 10000 / min. Please try again in 6ms. Visit https://platform.openai.com/account/rate-limits to learn more..\n"
          ]
        },
        {
          "output_type": "stream",
          "name": "stdout",
          "text": [
            "AQL Query (1):\u001b[32;1m\u001b[1;3m\n",
            "WITH Characters, ChildOf\n",
            "FOR v, e IN 1..1 OUTBOUND 'Characters/BranStark' ChildOf\n",
            "FILTER v.alive == false\n",
            "RETURN v\n",
            "\u001b[0m\n",
            "AQL Result:\n",
            "\u001b[32;1m\u001b[1;3m[{'_key': 'CatelynStark', '_id': 'Characters/CatelynStark', '_rev': '_g4WPppS--B', 'name': 'Catelyn', 'surname': 'Stark', 'alive': False, 'age': 40, 'gender': 'female'}]\u001b[0m\n"
          ]
        },
        {
          "output_type": "stream",
          "name": "stderr",
          "text": [
            "WARNING:langchain.llms.base:Retrying langchain.chat_models.openai.ChatOpenAI.completion_with_retry.<locals>._completion_with_retry in 4.0 seconds as it raised RateLimitError: Rate limit reached for gpt-4 in organization org-64PhSWcD9qZwtHC2EgGYxpxI on tokens per min. Limit: 10000 / min. Please try again in 6ms. Visit https://platform.openai.com/account/rate-limits to learn more..\n"
          ]
        },
        {
          "output_type": "stream",
          "name": "stdout",
          "text": [
            "\n",
            "\u001b[1m> Finished chain.\u001b[0m\n"
          ]
        },
        {
          "output_type": "execute_result",
          "data": {
            "text/plain": [
              "'Yes, Bran Stark has a dead parent. His mother, Catelyn Stark, is deceased.'"
            ],
            "application/vnd.google.colaboratory.intrinsic+json": {
              "type": "string"
            }
          },
          "metadata": {},
          "execution_count": 29
        }
      ],
      "source": [
        "chain.run(\"Does Bran Stark have a dead parent?\")"
      ]
    },
    {
      "cell_type": "code",
      "execution_count": 30,
      "id": "MV6ENBJVAB-w",
      "metadata": {
        "colab": {
          "base_uri": "https://localhost:8080/",
          "height": 350
        },
        "id": "MV6ENBJVAB-w",
        "outputId": "adca143b-0f0c-42a2-ad32-c6ef9bef7c19"
      },
      "outputs": [
        {
          "output_type": "stream",
          "name": "stderr",
          "text": [
            "WARNING:langchain.llms.base:Retrying langchain.chat_models.openai.ChatOpenAI.completion_with_retry.<locals>._completion_with_retry in 4.0 seconds as it raised RateLimitError: Rate limit reached for gpt-4 in organization org-64PhSWcD9qZwtHC2EgGYxpxI on tokens per min. Limit: 10000 / min. Please try again in 6ms. Visit https://platform.openai.com/account/rate-limits to learn more..\n"
          ]
        },
        {
          "output_type": "stream",
          "name": "stdout",
          "text": [
            "\n",
            "\n",
            "\u001b[1m> Entering new ArangoGraphQAChain chain...\u001b[0m\n"
          ]
        },
        {
          "output_type": "stream",
          "name": "stderr",
          "text": [
            "WARNING:langchain.llms.base:Retrying langchain.chat_models.openai.ChatOpenAI.completion_with_retry.<locals>._completion_with_retry in 4.0 seconds as it raised RateLimitError: Rate limit reached for gpt-4 in organization org-64PhSWcD9qZwtHC2EgGYxpxI on tokens per min. Limit: 10000 / min. Please try again in 6ms. Visit https://platform.openai.com/account/rate-limits to learn more..\n",
            "WARNING:langchain.llms.base:Retrying langchain.chat_models.openai.ChatOpenAI.completion_with_retry.<locals>._completion_with_retry in 4.0 seconds as it raised RateLimitError: Rate limit reached for gpt-4 in organization org-64PhSWcD9qZwtHC2EgGYxpxI on tokens per min. Limit: 10000 / min. Please try again in 6ms. Visit https://platform.openai.com/account/rate-limits to learn more..\n",
            "WARNING:langchain.llms.base:Retrying langchain.chat_models.openai.ChatOpenAI.completion_with_retry.<locals>._completion_with_retry in 8.0 seconds as it raised RateLimitError: Rate limit reached for gpt-4 in organization org-64PhSWcD9qZwtHC2EgGYxpxI on tokens per min. Limit: 10000 / min. Please try again in 6ms. Visit https://platform.openai.com/account/rate-limits to learn more..\n",
            "WARNING:langchain.llms.base:Retrying langchain.chat_models.openai.ChatOpenAI.completion_with_retry.<locals>._completion_with_retry in 4.0 seconds as it raised RateLimitError: Rate limit reached for gpt-4 in organization org-64PhSWcD9qZwtHC2EgGYxpxI on tokens per min. Limit: 10000 / min. Please try again in 6ms. Visit https://platform.openai.com/account/rate-limits to learn more..\n"
          ]
        },
        {
          "output_type": "stream",
          "name": "stdout",
          "text": [
            "AQL Query (1):\u001b[32;1m\u001b[1;3m\n",
            "WITH Characters, ChildOf\n",
            "FOR v, e IN 1..1 OUTBOUND 'Characters/CatelynStark' ChildOf\n",
            "RETURN v\n",
            "\u001b[0m\n",
            "AQL Result:\n",
            "\u001b[32;1m\u001b[1;3m[]\u001b[0m\n",
            "\n",
            "\u001b[1m> Finished chain.\u001b[0m\n"
          ]
        },
        {
          "output_type": "execute_result",
          "data": {
            "text/plain": [
              "'Based on the data in the database, Catelyn Stark does not have any children recorded.'"
            ],
            "application/vnd.google.colaboratory.intrinsic+json": {
              "type": "string"
            }
          },
          "metadata": {},
          "execution_count": 30
        }
      ],
      "source": [
        "chain.run(\"Who are Catelyn Stark's children?\")"
      ]
    },
    {
      "cell_type": "code",
      "execution_count": 31,
      "id": "_2maN0_sAFCO",
      "metadata": {
        "colab": {
          "base_uri": "https://localhost:8080/",
          "height": 350
        },
        "id": "_2maN0_sAFCO",
        "outputId": "04330912-4bd1-4b9e-edcb-b765df1f7967"
      },
      "outputs": [
        {
          "output_type": "stream",
          "name": "stderr",
          "text": [
            "WARNING:langchain.llms.base:Retrying langchain.chat_models.openai.ChatOpenAI.completion_with_retry.<locals>._completion_with_retry in 4.0 seconds as it raised RateLimitError: Rate limit reached for gpt-4 in organization org-64PhSWcD9qZwtHC2EgGYxpxI on tokens per min. Limit: 10000 / min. Please try again in 6ms. Visit https://platform.openai.com/account/rate-limits to learn more..\n"
          ]
        },
        {
          "output_type": "stream",
          "name": "stdout",
          "text": [
            "\n",
            "\n",
            "\u001b[1m> Entering new ArangoGraphQAChain chain...\u001b[0m\n"
          ]
        },
        {
          "output_type": "stream",
          "name": "stderr",
          "text": [
            "WARNING:langchain.llms.base:Retrying langchain.chat_models.openai.ChatOpenAI.completion_with_retry.<locals>._completion_with_retry in 4.0 seconds as it raised RateLimitError: Rate limit reached for gpt-4 in organization org-64PhSWcD9qZwtHC2EgGYxpxI on tokens per min. Limit: 10000 / min. Please try again in 6ms. Visit https://platform.openai.com/account/rate-limits to learn more..\n",
            "WARNING:langchain.llms.base:Retrying langchain.chat_models.openai.ChatOpenAI.completion_with_retry.<locals>._completion_with_retry in 4.0 seconds as it raised RateLimitError: Rate limit reached for gpt-4 in organization org-64PhSWcD9qZwtHC2EgGYxpxI on tokens per min. Limit: 10000 / min. Please try again in 6ms. Visit https://platform.openai.com/account/rate-limits to learn more..\n",
            "WARNING:langchain.llms.base:Retrying langchain.chat_models.openai.ChatOpenAI.completion_with_retry.<locals>._completion_with_retry in 8.0 seconds as it raised RateLimitError: Rate limit reached for gpt-4 in organization org-64PhSWcD9qZwtHC2EgGYxpxI on tokens per min. Limit: 10000 / min. Please try again in 6ms. Visit https://platform.openai.com/account/rate-limits to learn more..\n",
            "WARNING:langchain.llms.base:Retrying langchain.chat_models.openai.ChatOpenAI.completion_with_retry.<locals>._completion_with_retry in 4.0 seconds as it raised RateLimitError: Rate limit reached for gpt-4 in organization org-64PhSWcD9qZwtHC2EgGYxpxI on tokens per min. Limit: 10000 / min. Please try again in 6ms. Visit https://platform.openai.com/account/rate-limits to learn more..\n"
          ]
        },
        {
          "output_type": "stream",
          "name": "stdout",
          "text": [
            "AQL Query (1):\u001b[32;1m\u001b[1;3m\n",
            "WITH Characters\n",
            "INSERT { \"_key\": \"JonSnow\", \"name\": \"Jon\", \"surname\": \"Snow\", \"alive\": true, \"age\": 31, \"gender\": \"male\" } INTO Characters\n",
            "\u001b[0m\n",
            "AQL Result:\n",
            "\u001b[32;1m\u001b[1;3m[]\u001b[0m\n"
          ]
        },
        {
          "output_type": "stream",
          "name": "stderr",
          "text": [
            "WARNING:langchain.llms.base:Retrying langchain.chat_models.openai.ChatOpenAI.completion_with_retry.<locals>._completion_with_retry in 4.0 seconds as it raised RateLimitError: Rate limit reached for gpt-4 in organization org-64PhSWcD9qZwtHC2EgGYxpxI on tokens per min. Limit: 10000 / min. Please try again in 6ms. Visit https://platform.openai.com/account/rate-limits to learn more..\n"
          ]
        },
        {
          "output_type": "stream",
          "name": "stdout",
          "text": [
            "\n",
            "\u001b[1m> Finished chain.\u001b[0m\n"
          ]
        },
        {
          "output_type": "execute_result",
          "data": {
            "text/plain": [
              "'Summary:\\nJon Snow, a 31-year-old male character, has been successfully added to the database.'"
            ],
            "application/vnd.google.colaboratory.intrinsic+json": {
              "type": "string"
            }
          },
          "metadata": {},
          "execution_count": 31
        }
      ],
      "source": [
        "chain.run(\"Add Jon Snow, 31, a male character\")"
      ]
    },
    {
      "cell_type": "code",
      "execution_count": 32,
      "id": "_MHWiAVeM3Cg",
      "metadata": {
        "colab": {
          "base_uri": "https://localhost:8080/",
          "height": 402
        },
        "id": "_MHWiAVeM3Cg",
        "outputId": "e5b0c6b8-7607-4e8e-bb4a-b3bbc01c46b4"
      },
      "outputs": [
        {
          "output_type": "stream",
          "name": "stderr",
          "text": [
            "WARNING:langchain.llms.base:Retrying langchain.chat_models.openai.ChatOpenAI.completion_with_retry.<locals>._completion_with_retry in 4.0 seconds as it raised RateLimitError: Rate limit reached for gpt-4 in organization org-64PhSWcD9qZwtHC2EgGYxpxI on tokens per min. Limit: 10000 / min. Please try again in 6ms. Visit https://platform.openai.com/account/rate-limits to learn more..\n"
          ]
        },
        {
          "output_type": "stream",
          "name": "stdout",
          "text": [
            "\n",
            "\n",
            "\u001b[1m> Entering new ArangoGraphQAChain chain...\u001b[0m\n"
          ]
        },
        {
          "output_type": "stream",
          "name": "stderr",
          "text": [
            "WARNING:langchain.llms.base:Retrying langchain.chat_models.openai.ChatOpenAI.completion_with_retry.<locals>._completion_with_retry in 4.0 seconds as it raised RateLimitError: Rate limit reached for gpt-4 in organization org-64PhSWcD9qZwtHC2EgGYxpxI on tokens per min. Limit: 10000 / min. Please try again in 6ms. Visit https://platform.openai.com/account/rate-limits to learn more..\n",
            "WARNING:langchain.llms.base:Retrying langchain.chat_models.openai.ChatOpenAI.completion_with_retry.<locals>._completion_with_retry in 4.0 seconds as it raised RateLimitError: Rate limit reached for gpt-4 in organization org-64PhSWcD9qZwtHC2EgGYxpxI on tokens per min. Limit: 10000 / min. Please try again in 6ms. Visit https://platform.openai.com/account/rate-limits to learn more..\n",
            "WARNING:langchain.llms.base:Retrying langchain.chat_models.openai.ChatOpenAI.completion_with_retry.<locals>._completion_with_retry in 4.0 seconds as it raised RateLimitError: Rate limit reached for gpt-4 in organization org-64PhSWcD9qZwtHC2EgGYxpxI on tokens per min. Limit: 10000 / min. Please try again in 6ms. Visit https://platform.openai.com/account/rate-limits to learn more..\n"
          ]
        },
        {
          "output_type": "stream",
          "name": "stdout",
          "text": [
            "AQL Query (1):\u001b[32;1m\u001b[1;3m\n",
            "WITH Characters, ChildOf\n",
            "INSERT {\n",
            "  _from: \"Characters/JonSnow\",\n",
            "  _to: \"Characters/NedStark\"\n",
            "} INTO ChildOf\n",
            "\u001b[0m\n",
            "AQL Result:\n",
            "\u001b[32;1m\u001b[1;3m[]\u001b[0m\n"
          ]
        },
        {
          "output_type": "stream",
          "name": "stderr",
          "text": [
            "WARNING:langchain.llms.base:Retrying langchain.chat_models.openai.ChatOpenAI.completion_with_retry.<locals>._completion_with_retry in 4.0 seconds as it raised RateLimitError: Rate limit reached for gpt-4 in organization org-64PhSWcD9qZwtHC2EgGYxpxI on tokens per min. Limit: 10000 / min. Please try again in 6ms. Visit https://platform.openai.com/account/rate-limits to learn more..\n",
            "WARNING:langchain.llms.base:Retrying langchain.chat_models.openai.ChatOpenAI.completion_with_retry.<locals>._completion_with_retry in 4.0 seconds as it raised RateLimitError: Rate limit reached for gpt-4 in organization org-64PhSWcD9qZwtHC2EgGYxpxI on tokens per min. Limit: 10000 / min. Please try again in 6ms. Visit https://platform.openai.com/account/rate-limits to learn more..\n"
          ]
        },
        {
          "output_type": "stream",
          "name": "stdout",
          "text": [
            "\n",
            "\u001b[1m> Finished chain.\u001b[0m\n"
          ]
        },
        {
          "output_type": "execute_result",
          "data": {
            "text/plain": [
              "'A relationship has been established in the database indicating that Jon Snow is a child of Ned Stark.'"
            ],
            "application/vnd.google.colaboratory.intrinsic+json": {
              "type": "string"
            }
          },
          "metadata": {},
          "execution_count": 32
        }
      ],
      "source": [
        "chain.run(\"Create a ChildOf edge from Jon Snow to Ned Stark\")"
      ]
    },
    {
      "cell_type": "code",
      "execution_count": 33,
      "id": "3mU0MyGsM6gX",
      "metadata": {
        "colab": {
          "base_uri": "https://localhost:8080/",
          "height": 420
        },
        "id": "3mU0MyGsM6gX",
        "outputId": "a31fc041-794f-421b-8e28-10f3cb9a2feb"
      },
      "outputs": [
        {
          "output_type": "stream",
          "name": "stderr",
          "text": [
            "WARNING:langchain.llms.base:Retrying langchain.chat_models.openai.ChatOpenAI.completion_with_retry.<locals>._completion_with_retry in 4.0 seconds as it raised RateLimitError: Rate limit reached for gpt-4 in organization org-64PhSWcD9qZwtHC2EgGYxpxI on tokens per min. Limit: 10000 / min. Please try again in 6ms. Visit https://platform.openai.com/account/rate-limits to learn more..\n"
          ]
        },
        {
          "output_type": "stream",
          "name": "stdout",
          "text": [
            "\n",
            "\n",
            "\u001b[1m> Entering new ArangoGraphQAChain chain...\u001b[0m\n"
          ]
        },
        {
          "output_type": "stream",
          "name": "stderr",
          "text": [
            "WARNING:langchain.llms.base:Retrying langchain.chat_models.openai.ChatOpenAI.completion_with_retry.<locals>._completion_with_retry in 4.0 seconds as it raised RateLimitError: Rate limit reached for gpt-4 in organization org-64PhSWcD9qZwtHC2EgGYxpxI on tokens per min. Limit: 10000 / min. Please try again in 6ms. Visit https://platform.openai.com/account/rate-limits to learn more..\n",
            "WARNING:langchain.llms.base:Retrying langchain.chat_models.openai.ChatOpenAI.completion_with_retry.<locals>._completion_with_retry in 4.0 seconds as it raised RateLimitError: Rate limit reached for gpt-4 in organization org-64PhSWcD9qZwtHC2EgGYxpxI on tokens per min. Limit: 10000 / min. Please try again in 6ms. Visit https://platform.openai.com/account/rate-limits to learn more..\n",
            "WARNING:langchain.llms.base:Retrying langchain.chat_models.openai.ChatOpenAI.completion_with_retry.<locals>._completion_with_retry in 4.0 seconds as it raised RateLimitError: Rate limit reached for gpt-4 in organization org-64PhSWcD9qZwtHC2EgGYxpxI on tokens per min. Limit: 10000 / min. Please try again in 6ms. Visit https://platform.openai.com/account/rate-limits to learn more..\n"
          ]
        },
        {
          "output_type": "stream",
          "name": "stdout",
          "text": [
            "AQL Query (1):\u001b[32;1m\u001b[1;3m\n",
            "WITH Characters, ChildOf\n",
            "FOR v, e IN 1..1 ANY 'Characters/NedStark' ChildOf\n",
            "RETURN v\n",
            "\u001b[0m\n",
            "AQL Result:\n",
            "\u001b[32;1m\u001b[1;3m[{'_key': 'JonSnow', '_id': 'Characters/JonSnow', '_rev': '_g4WcAvO---', 'name': 'Jon', 'surname': 'Snow', 'alive': True, 'age': 31, 'gender': 'male'}, {'_key': 'AryaStark', '_id': 'Characters/AryaStark', '_rev': '_g4WPppS--C', 'name': 'Arya', 'surname': 'Stark', 'alive': True, 'age': 11, 'gender': 'female'}, {'_key': 'SansaStark', '_id': 'Characters/SansaStark', '_rev': '_g4WPppS--F', 'name': 'Sansa', 'surname': 'Stark', 'alive': True, 'age': 13, 'gender': 'female'}, {'_key': 'RobbStark', '_id': 'Characters/RobbStark', '_rev': '_g4WPppS--E', 'name': 'Robb', 'surname': 'Stark', 'alive': False, 'age': 16, 'gender': 'male'}, {'_key': 'BranStark', '_id': 'Characters/BranStark', '_rev': '_g4WPppS--D', 'name': 'Bran', 'surname': 'Stark', 'alive': True, 'age': 10, 'gender': 'male'}, {'_key': 'LyarraStark', '_id': 'Characters/LyarraStark', '_rev': '_g4WPppS--_', 'name': 'Lyarra', 'surname': 'Stark', 'alive': False, 'age': 60, 'gender': 'female'}, {'_key': 'RickardStark', '_id': 'Characters/RickardStark', '_rev': '_g4WPppS---', 'name': 'Rickard', 'surname': 'Stark', 'alive': False, 'age': 60, 'gender': 'male'}]\u001b[0m\n"
          ]
        },
        {
          "output_type": "stream",
          "name": "stderr",
          "text": [
            "WARNING:langchain.llms.base:Retrying langchain.chat_models.openai.ChatOpenAI.completion_with_retry.<locals>._completion_with_retry in 4.0 seconds as it raised RateLimitError: Rate limit reached for gpt-4 in organization org-64PhSWcD9qZwtHC2EgGYxpxI on tokens per min. Limit: 10000 / min. Please try again in 6ms. Visit https://platform.openai.com/account/rate-limits to learn more..\n",
            "WARNING:langchain.llms.base:Retrying langchain.chat_models.openai.ChatOpenAI.completion_with_retry.<locals>._completion_with_retry in 4.0 seconds as it raised RateLimitError: Rate limit reached for gpt-4 in organization org-64PhSWcD9qZwtHC2EgGYxpxI on tokens per min. Limit: 10000 / min. Please try again in 6ms. Visit https://platform.openai.com/account/rate-limits to learn more..\n"
          ]
        },
        {
          "output_type": "stream",
          "name": "stdout",
          "text": [
            "\n",
            "\u001b[1m> Finished chain.\u001b[0m\n"
          ]
        },
        {
          "output_type": "execute_result",
          "data": {
            "text/plain": [
              "\"Ned Stark is related to several characters. His children are Jon Snow, Arya Stark, Sansa Stark, Robb Stark, and Bran Stark. Jon Snow is 31 years old and alive, Arya Stark is 11 years old and alive, Sansa Stark is 13 years old and alive, Robb Stark was 16 years old and is deceased, and Bran Stark is 10 years old and alive. Ned Stark's parents are Lyarra Stark and Rickard Stark, both of whom are deceased and were 60 years old.\""
            ],
            "application/vnd.google.colaboratory.intrinsic+json": {
              "type": "string"
            }
          },
          "metadata": {},
          "execution_count": 33
        }
      ],
      "source": [
        "chain.run(\"Who is related to Ned Stark?\")"
      ]
    },
    {
      "cell_type": "code",
      "execution_count": 34,
      "id": "jpK1CTypN0s6",
      "metadata": {
        "colab": {
          "base_uri": "https://localhost:8080/",
          "height": 0
        },
        "id": "jpK1CTypN0s6",
        "outputId": "84434188-3d21-4b63-ab75-8aba9da8f183"
      },
      "outputs": [
        {
          "output_type": "stream",
          "name": "stderr",
          "text": [
            "WARNING:langchain.llms.base:Retrying langchain.chat_models.openai.ChatOpenAI.completion_with_retry.<locals>._completion_with_retry in 4.0 seconds as it raised RateLimitError: Rate limit reached for gpt-4 in organization org-64PhSWcD9qZwtHC2EgGYxpxI on tokens per min. Limit: 10000 / min. Please try again in 6ms. Visit https://platform.openai.com/account/rate-limits to learn more..\n"
          ]
        },
        {
          "output_type": "stream",
          "name": "stdout",
          "text": [
            "\n",
            "\n",
            "\u001b[1m> Entering new ArangoGraphQAChain chain...\u001b[0m\n"
          ]
        },
        {
          "output_type": "stream",
          "name": "stderr",
          "text": [
            "WARNING:langchain.llms.base:Retrying langchain.chat_models.openai.ChatOpenAI.completion_with_retry.<locals>._completion_with_retry in 4.0 seconds as it raised RateLimitError: Rate limit reached for gpt-4 in organization org-64PhSWcD9qZwtHC2EgGYxpxI on tokens per min. Limit: 10000 / min. Please try again in 6ms. Visit https://platform.openai.com/account/rate-limits to learn more..\n",
            "WARNING:langchain.llms.base:Retrying langchain.chat_models.openai.ChatOpenAI.completion_with_retry.<locals>._completion_with_retry in 4.0 seconds as it raised RateLimitError: Rate limit reached for gpt-4 in organization org-64PhSWcD9qZwtHC2EgGYxpxI on tokens per min. Limit: 10000 / min. Please try again in 6ms. Visit https://platform.openai.com/account/rate-limits to learn more..\n"
          ]
        },
        {
          "output_type": "stream",
          "name": "stdout",
          "text": [
            "AQL Query (1):\u001b[32;1m\u001b[1;3m\n",
            "FOR character IN Characters\n",
            "RETURN character\n",
            "\u001b[0m\n",
            "AQL Result:\n",
            "\u001b[32;1m\u001b[1;3m[{'_key': 'RickardStark', '_id': 'Characters/RickardStark', '_rev': '_g4WPppS---', 'name': 'Rickard', 'surname': 'Stark', 'alive': False, 'age': 60, 'gender': 'male'}, {'_key': 'LyarraStark', '_id': 'Characters/LyarraStark', '_rev': '_g4WPppS--_', 'name': 'Lyarra', 'surname': 'Stark', 'alive': False, 'age': 60, 'gender': 'female'}, {'_key': 'NedStark', '_id': 'Characters/NedStark', '_rev': '_g4WPppS--A', 'name': 'Ned', 'surname': 'Stark', 'alive': True, 'age': 41, 'gender': 'male'}, {'_key': 'CatelynStark', '_id': 'Characters/CatelynStark', '_rev': '_g4WPppS--B', 'name': 'Catelyn', 'surname': 'Stark', 'alive': False, 'age': 40, 'gender': 'female'}, {'_key': 'AryaStark', '_id': 'Characters/AryaStark', '_rev': '_g4WPppS--C', 'name': 'Arya', 'surname': 'Stark', 'alive': True, 'age': 11, 'gender': 'female'}, {'_key': 'BranStark', '_id': 'Characters/BranStark', '_rev': '_g4WPppS--D', 'name': 'Bran', 'surname': 'Stark', 'alive': True, 'age': 10, 'gender': 'male'}, {'_key': 'RobbStark', '_id': 'Characters/RobbStark', '_rev': '_g4WPppS--E', 'name': 'Robb', 'surname': 'Stark', 'alive': False, 'age': 16, 'gender': 'male'}, {'_key': 'SansaStark', '_id': 'Characters/SansaStark', '_rev': '_g4WPppS--F', 'name': 'Sansa', 'surname': 'Stark', 'alive': True, 'age': 13, 'gender': 'female'}, {'_key': 'TywinLannister', '_id': 'Characters/TywinLannister', '_rev': '_g4WPppS--G', 'name': 'Tywin', 'surname': 'Lannister', 'alive': False, 'age': 67, 'gender': 'male'}, {'_key': 'JaimeLannister', '_id': 'Characters/JaimeLannister', '_rev': '_g4WPppS--H', 'name': 'Jaime', 'surname': 'Lannister', 'alive': True, 'age': 36, 'gender': 'male'}]\u001b[0m\n"
          ]
        },
        {
          "output_type": "stream",
          "name": "stderr",
          "text": [
            "WARNING:langchain.llms.base:Retrying langchain.chat_models.openai.ChatOpenAI.completion_with_retry.<locals>._completion_with_retry in 4.0 seconds as it raised RateLimitError: Rate limit reached for gpt-4 in organization org-64PhSWcD9qZwtHC2EgGYxpxI on tokens per min. Limit: 10000 / min. Please try again in 6ms. Visit https://platform.openai.com/account/rate-limits to learn more..\n",
            "WARNING:langchain.llms.base:Retrying langchain.chat_models.openai.ChatOpenAI.completion_with_retry.<locals>._completion_with_retry in 4.0 seconds as it raised RateLimitError: Rate limit reached for gpt-4 in organization org-64PhSWcD9qZwtHC2EgGYxpxI on tokens per min. Limit: 10000 / min. Please try again in 6ms. Visit https://platform.openai.com/account/rate-limits to learn more..\n"
          ]
        },
        {
          "output_type": "stream",
          "name": "stdout",
          "text": [
            "\n",
            "\u001b[1m> Finished chain.\u001b[0m\n"
          ]
        },
        {
          "output_type": "execute_result",
          "data": {
            "text/plain": [
              "'The database contains information about several characters. Here are some of them:\\n\\n1. Rickard Stark: He is a male character who is not alive. He was 60 years old.\\n2. Lyarra Stark: She is a female character who is not alive. She was 60 years old.\\n3. Ned Stark: He is a male character who is alive. He is 41 years old.\\n4. Catelyn Stark: She is a female character who is not alive. She was 40 years old.\\n5. Arya Stark: She is a female character who is alive. She is 11 years old.\\n6. Bran Stark: He is a male character who is alive. He is 10 years old.\\n7. Robb Stark: He is a male character who is not alive. He was 16 years old.\\n8. Sansa Stark: She is a female character who is alive. She is 13 years old.\\n9. Tywin Lannister: He is a male character who is not alive. He was 67 years old.\\n10. Jaime Lannister: He is a male character who is alive. He is 36 years old.'"
            ],
            "application/vnd.google.colaboratory.intrinsic+json": {
              "type": "string"
            }
          },
          "metadata": {},
          "execution_count": 34
        }
      ],
      "source": [
        "chain.run(\"What can you tell me about the characters?\")"
      ]
    },
    {
      "cell_type": "code",
      "execution_count": 35,
      "id": "rjJd8BCMN6TE",
      "metadata": {
        "colab": {
          "base_uri": "https://localhost:8080/",
          "height": 0
        },
        "id": "rjJd8BCMN6TE",
        "outputId": "77c83efe-b0dd-4857-aa0a-aec2a733250b"
      },
      "outputs": [
        {
          "output_type": "stream",
          "name": "stdout",
          "text": [
            "\n",
            "\n",
            "\u001b[1m> Entering new ArangoGraphQAChain chain...\u001b[0m\n"
          ]
        },
        {
          "output_type": "stream",
          "name": "stderr",
          "text": [
            "WARNING:langchain.llms.base:Retrying langchain.chat_models.openai.ChatOpenAI.completion_with_retry.<locals>._completion_with_retry in 4.0 seconds as it raised RateLimitError: Rate limit reached for gpt-4 in organization org-64PhSWcD9qZwtHC2EgGYxpxI on tokens per min. Limit: 10000 / min. Please try again in 6ms. Visit https://platform.openai.com/account/rate-limits to learn more..\n"
          ]
        },
        {
          "output_type": "stream",
          "name": "stdout",
          "text": [
            "AQL Query (1):\u001b[32;1m\u001b[1;3m\n",
            "WITH Characters, ChildOf\n",
            "FOR v, e IN 1..5 OUTBOUND 'Characters/BranStark' ChildOf\n",
            "  FILTER v._key == 'RickardStark'\n",
            "  LIMIT 1\n",
            "  RETURN v\n",
            "\u001b[0m\n",
            "AQL Result:\n",
            "\u001b[32;1m\u001b[1;3m[{'_key': 'RickardStark', '_id': 'Characters/RickardStark', '_rev': '_g4WPppS---', 'name': 'Rickard', 'surname': 'Stark', 'alive': False, 'age': 60, 'gender': 'male'}]\u001b[0m\n",
            "\n",
            "\u001b[1m> Finished chain.\u001b[0m\n"
          ]
        },
        {
          "output_type": "execute_result",
          "data": {
            "text/plain": [
              "'The shortest path from Bran Stark to Rickard Stark in the Game of Thrones graph is a direct connection. Rickard Stark, who is not alive, was 60 years old and male.'"
            ],
            "application/vnd.google.colaboratory.intrinsic+json": {
              "type": "string"
            }
          },
          "metadata": {},
          "execution_count": 35
        }
      ],
      "source": [
        "chain.run(\"What is the shortest path from Bran Stark to Rickard Stark?\")"
      ]
    },
    {
      "cell_type": "code",
      "execution_count": 36,
      "id": "h1OgY3LbOZmI",
      "metadata": {
        "colab": {
          "base_uri": "https://localhost:8080/",
          "height": 0
        },
        "id": "h1OgY3LbOZmI",
        "outputId": "5141cf90-3734-4278-a9e6-4432256b016e"
      },
      "outputs": [
        {
          "output_type": "stream",
          "name": "stderr",
          "text": [
            "WARNING:langchain.llms.base:Retrying langchain.chat_models.openai.ChatOpenAI.completion_with_retry.<locals>._completion_with_retry in 4.0 seconds as it raised RateLimitError: Rate limit reached for gpt-4 in organization org-64PhSWcD9qZwtHC2EgGYxpxI on tokens per min. Limit: 10000 / min. Please try again in 6ms. Visit https://platform.openai.com/account/rate-limits to learn more..\n"
          ]
        },
        {
          "output_type": "stream",
          "name": "stdout",
          "text": [
            "\n",
            "\n",
            "\u001b[1m> Entering new ArangoGraphQAChain chain...\u001b[0m\n"
          ]
        },
        {
          "output_type": "stream",
          "name": "stderr",
          "text": [
            "WARNING:langchain.llms.base:Retrying langchain.chat_models.openai.ChatOpenAI.completion_with_retry.<locals>._completion_with_retry in 4.0 seconds as it raised RateLimitError: Rate limit reached for gpt-4 in organization org-64PhSWcD9qZwtHC2EgGYxpxI on tokens per min. Limit: 10000 / min. Please try again in 6ms. Visit https://platform.openai.com/account/rate-limits to learn more..\n",
            "WARNING:langchain.llms.base:Retrying langchain.chat_models.openai.ChatOpenAI.completion_with_retry.<locals>._completion_with_retry in 4.0 seconds as it raised RateLimitError: Rate limit reached for gpt-4 in organization org-64PhSWcD9qZwtHC2EgGYxpxI on tokens per min. Limit: 10000 / min. Please try again in 6ms. Visit https://platform.openai.com/account/rate-limits to learn more..\n",
            "WARNING:langchain.llms.base:Retrying langchain.chat_models.openai.ChatOpenAI.completion_with_retry.<locals>._completion_with_retry in 4.0 seconds as it raised RateLimitError: Rate limit reached for gpt-4 in organization org-64PhSWcD9qZwtHC2EgGYxpxI on tokens per min. Limit: 10000 / min. Please try again in 6ms. Visit https://platform.openai.com/account/rate-limits to learn more..\n"
          ]
        },
        {
          "output_type": "stream",
          "name": "stdout",
          "text": [
            "AQL Query (1):\u001b[32;1m\u001b[1;3m\n",
            "WITH Characters, ChildOf\n",
            "FOR v, e IN 1..100 OUTBOUND 'Characters/JoffreyBaratheon' ChildOf\n",
            "RETURN { 'name': v.name, 'surname': v.surname, 'relation': 'ChildOf' }\n",
            "\u001b[0m\n",
            "AQL Result:\n",
            "\u001b[32;1m\u001b[1;3m[{'name': 'Jaime', 'surname': 'Lannister', 'relation': 'ChildOf'}, {'name': 'Tywin', 'surname': 'Lannister', 'relation': 'ChildOf'}, {'name': 'Cersei', 'surname': 'Lannister', 'relation': 'ChildOf'}, {'name': 'Tywin', 'surname': 'Lannister', 'relation': 'ChildOf'}]\u001b[0m\n"
          ]
        },
        {
          "output_type": "stream",
          "name": "stderr",
          "text": [
            "WARNING:langchain.llms.base:Retrying langchain.chat_models.openai.ChatOpenAI.completion_with_retry.<locals>._completion_with_retry in 4.0 seconds as it raised RateLimitError: Rate limit reached for gpt-4 in organization org-64PhSWcD9qZwtHC2EgGYxpxI on tokens per min. Limit: 10000 / min. Please try again in 6ms. Visit https://platform.openai.com/account/rate-limits to learn more..\n",
            "WARNING:langchain.llms.base:Retrying langchain.chat_models.openai.ChatOpenAI.completion_with_retry.<locals>._completion_with_retry in 4.0 seconds as it raised RateLimitError: Rate limit reached for gpt-4 in organization org-64PhSWcD9qZwtHC2EgGYxpxI on tokens per min. Limit: 10000 / min. Please try again in 6ms. Visit https://platform.openai.com/account/rate-limits to learn more..\n"
          ]
        },
        {
          "output_type": "stream",
          "name": "stdout",
          "text": [
            "\n",
            "\u001b[1m> Finished chain.\u001b[0m\n"
          ]
        },
        {
          "output_type": "execute_result",
          "data": {
            "text/plain": [
              "\"The family tree of Joffrey Baratheon includes his parents Jaime Lannister and Cersei Lannister. His grandparents are Tywin Lannister from both his mother's and father's side, as his parents are siblings.\""
            ],
            "application/vnd.google.colaboratory.intrinsic+json": {
              "type": "string"
            }
          },
          "metadata": {},
          "execution_count": 36
        }
      ],
      "source": [
        "chain.run(\"What is th family tree of Joffrey Baratheon?\")"
      ]
    },
    {
      "cell_type": "code",
      "execution_count": 37,
      "id": "BOcwm5eIN795",
      "metadata": {
        "colab": {
          "base_uri": "https://localhost:8080/",
          "height": 0
        },
        "id": "BOcwm5eIN795",
        "outputId": "b2de3cd1-e3ac-4b1b-f7cf-50b69b8fb105"
      },
      "outputs": [
        {
          "output_type": "stream",
          "name": "stderr",
          "text": [
            "WARNING:langchain.llms.base:Retrying langchain.chat_models.openai.ChatOpenAI.completion_with_retry.<locals>._completion_with_retry in 4.0 seconds as it raised RateLimitError: Rate limit reached for gpt-4 in organization org-64PhSWcD9qZwtHC2EgGYxpxI on tokens per min. Limit: 10000 / min. Please try again in 6ms. Visit https://platform.openai.com/account/rate-limits to learn more..\n"
          ]
        },
        {
          "output_type": "stream",
          "name": "stdout",
          "text": [
            "\n",
            "\n",
            "\u001b[1m> Entering new ArangoGraphQAChain chain...\u001b[0m\n"
          ]
        },
        {
          "output_type": "stream",
          "name": "stderr",
          "text": [
            "WARNING:langchain.llms.base:Retrying langchain.chat_models.openai.ChatOpenAI.completion_with_retry.<locals>._completion_with_retry in 4.0 seconds as it raised RateLimitError: Rate limit reached for gpt-4 in organization org-64PhSWcD9qZwtHC2EgGYxpxI on tokens per min. Limit: 10000 / min. Please try again in 6ms. Visit https://platform.openai.com/account/rate-limits to learn more..\n",
            "WARNING:langchain.llms.base:Retrying langchain.chat_models.openai.ChatOpenAI.completion_with_retry.<locals>._completion_with_retry in 4.0 seconds as it raised RateLimitError: Rate limit reached for gpt-4 in organization org-64PhSWcD9qZwtHC2EgGYxpxI on tokens per min. Limit: 10000 / min. Please try again in 6ms. Visit https://platform.openai.com/account/rate-limits to learn more..\n"
          ]
        },
        {
          "output_type": "stream",
          "name": "stdout",
          "text": [
            "AQL Query (1):\u001b[32;1m\u001b[1;3m\n",
            "WITH Characters, ChildOf\n",
            "FOR v, e IN 1..1 ANY 'Characters/BranStark' ChildOf\n",
            "    FILTER v._key == 'RickardStark'\n",
            "    RETURN { 'from': e._from, 'to': e._to }\n",
            "\u001b[0m\n",
            "AQL Result:\n",
            "\u001b[32;1m\u001b[1;3m[]\u001b[0m\n"
          ]
        },
        {
          "output_type": "stream",
          "name": "stderr",
          "text": [
            "WARNING:langchain.llms.base:Retrying langchain.chat_models.openai.ChatOpenAI.completion_with_retry.<locals>._completion_with_retry in 4.0 seconds as it raised RateLimitError: Rate limit reached for gpt-4 in organization org-64PhSWcD9qZwtHC2EgGYxpxI on tokens per min. Limit: 10000 / min. Please try again in 6ms. Visit https://platform.openai.com/account/rate-limits to learn more..\n",
            "WARNING:langchain.llms.base:Retrying langchain.chat_models.openai.ChatOpenAI.completion_with_retry.<locals>._completion_with_retry in 4.0 seconds as it raised RateLimitError: Rate limit reached for gpt-4 in organization org-64PhSWcD9qZwtHC2EgGYxpxI on tokens per min. Limit: 10000 / min. Please try again in 6ms. Visit https://platform.openai.com/account/rate-limits to learn more..\n"
          ]
        },
        {
          "output_type": "stream",
          "name": "stdout",
          "text": [
            "\n",
            "\u001b[1m> Finished chain.\u001b[0m\n"
          ]
        },
        {
          "output_type": "execute_result",
          "data": {
            "text/plain": [
              "'Based on the available data, there is no direct relationship between Bran Stark and Rickard Stark.'"
            ],
            "application/vnd.google.colaboratory.intrinsic+json": {
              "type": "string"
            }
          },
          "metadata": {},
          "execution_count": 37
        }
      ],
      "source": [
        "chain.run(\"What is the relationship between Bran Stark and Rickard Stark?\")"
      ]
    },
    {
      "cell_type": "code",
      "execution_count": 38,
      "id": "vxZYOwH5ORVp",
      "metadata": {
        "colab": {
          "base_uri": "https://localhost:8080/",
          "height": 0
        },
        "id": "vxZYOwH5ORVp",
        "outputId": "87a2e276-8bfe-4010-ecc2-2eca718b1a38"
      },
      "outputs": [
        {
          "output_type": "stream",
          "name": "stderr",
          "text": [
            "WARNING:langchain.llms.base:Retrying langchain.chat_models.openai.ChatOpenAI.completion_with_retry.<locals>._completion_with_retry in 4.0 seconds as it raised RateLimitError: Rate limit reached for gpt-4 in organization org-64PhSWcD9qZwtHC2EgGYxpxI on tokens per min. Limit: 10000 / min. Please try again in 6ms. Visit https://platform.openai.com/account/rate-limits to learn more..\n"
          ]
        },
        {
          "output_type": "stream",
          "name": "stdout",
          "text": [
            "\n",
            "\n",
            "\u001b[1m> Entering new ArangoGraphQAChain chain...\u001b[0m\n"
          ]
        },
        {
          "output_type": "stream",
          "name": "stderr",
          "text": [
            "WARNING:langchain.llms.base:Retrying langchain.chat_models.openai.ChatOpenAI.completion_with_retry.<locals>._completion_with_retry in 4.0 seconds as it raised RateLimitError: Rate limit reached for gpt-4 in organization org-64PhSWcD9qZwtHC2EgGYxpxI on tokens per min. Limit: 10000 / min. Please try again in 6ms. Visit https://platform.openai.com/account/rate-limits to learn more..\n",
            "WARNING:langchain.llms.base:Retrying langchain.chat_models.openai.ChatOpenAI.completion_with_retry.<locals>._completion_with_retry in 4.0 seconds as it raised RateLimitError: Rate limit reached for gpt-4 in organization org-64PhSWcD9qZwtHC2EgGYxpxI on tokens per min. Limit: 10000 / min. Please try again in 6ms. Visit https://platform.openai.com/account/rate-limits to learn more..\n",
            "WARNING:langchain.llms.base:Retrying langchain.chat_models.openai.ChatOpenAI.completion_with_retry.<locals>._completion_with_retry in 4.0 seconds as it raised RateLimitError: Rate limit reached for gpt-4 in organization org-64PhSWcD9qZwtHC2EgGYxpxI on tokens per min. Limit: 10000 / min. Please try again in 6ms. Visit https://platform.openai.com/account/rate-limits to learn more..\n"
          ]
        },
        {
          "output_type": "stream",
          "name": "stdout",
          "text": [
            "AQL Query (1):\u001b[32;1m\u001b[1;3m\n",
            "WITH Characters, ChildOf\n",
            "FOR v, e IN 1..10 ANY 'Characters/AryaStark' ChildOf\n",
            "    FILTER v._key == 'NedStark'\n",
            "    RETURN v\n",
            "\u001b[0m\n",
            "AQL Result:\n",
            "\u001b[32;1m\u001b[1;3m[{'_key': 'NedStark', '_id': 'Characters/NedStark', '_rev': '_g4WPppS--A', 'name': 'Ned', 'surname': 'Stark', 'alive': True, 'age': 41, 'gender': 'male'}, {'_key': 'NedStark', '_id': 'Characters/NedStark', '_rev': '_g4WPppS--A', 'name': 'Ned', 'surname': 'Stark', 'alive': True, 'age': 41, 'gender': 'male'}, {'_key': 'NedStark', '_id': 'Characters/NedStark', '_rev': '_g4WPppS--A', 'name': 'Ned', 'surname': 'Stark', 'alive': True, 'age': 41, 'gender': 'male'}, {'_key': 'NedStark', '_id': 'Characters/NedStark', '_rev': '_g4WPppS--A', 'name': 'Ned', 'surname': 'Stark', 'alive': True, 'age': 41, 'gender': 'male'}, {'_key': 'NedStark', '_id': 'Characters/NedStark', '_rev': '_g4WPppS--A', 'name': 'Ned', 'surname': 'Stark', 'alive': True, 'age': 41, 'gender': 'male'}, {'_key': 'NedStark', '_id': 'Characters/NedStark', '_rev': '_g4WPppS--A', 'name': 'Ned', 'surname': 'Stark', 'alive': True, 'age': 41, 'gender': 'male'}, {'_key': 'NedStark', '_id': 'Characters/NedStark', '_rev': '_g4WPppS--A', 'name': 'Ned', 'surname': 'Stark', 'alive': True, 'age': 41, 'gender': 'male'}, {'_key': 'NedStark', '_id': 'Characters/NedStark', '_rev': '_g4WPppS--A', 'name': 'Ned', 'surname': 'Stark', 'alive': True, 'age': 41, 'gender': 'male'}, {'_key': 'NedStark', '_id': 'Characters/NedStark', '_rev': '_g4WPppS--A', 'name': 'Ned', 'surname': 'Stark', 'alive': True, 'age': 41, 'gender': 'male'}, {'_key': 'NedStark', '_id': 'Characters/NedStark', '_rev': '_g4WPppS--A', 'name': 'Ned', 'surname': 'Stark', 'alive': True, 'age': 41, 'gender': 'male'}]\u001b[0m\n"
          ]
        },
        {
          "output_type": "stream",
          "name": "stderr",
          "text": [
            "WARNING:langchain.llms.base:Retrying langchain.chat_models.openai.ChatOpenAI.completion_with_retry.<locals>._completion_with_retry in 4.0 seconds as it raised RateLimitError: Rate limit reached for gpt-4 in organization org-64PhSWcD9qZwtHC2EgGYxpxI on tokens per min. Limit: 10000 / min. Please try again in 6ms. Visit https://platform.openai.com/account/rate-limits to learn more..\n",
            "WARNING:langchain.llms.base:Retrying langchain.chat_models.openai.ChatOpenAI.completion_with_retry.<locals>._completion_with_retry in 4.0 seconds as it raised RateLimitError: Rate limit reached for gpt-4 in organization org-64PhSWcD9qZwtHC2EgGYxpxI on tokens per min. Limit: 10000 / min. Please try again in 6ms. Visit https://platform.openai.com/account/rate-limits to learn more..\n"
          ]
        },
        {
          "output_type": "stream",
          "name": "stdout",
          "text": [
            "\n",
            "\u001b[1m> Finished chain.\u001b[0m\n"
          ]
        },
        {
          "output_type": "execute_result",
          "data": {
            "text/plain": [
              "'Yes, Arya Stark and Ned Stark are related. Ned Stark, who is alive and 41 years old, is a relative of Arya Stark.'"
            ],
            "application/vnd.google.colaboratory.intrinsic+json": {
              "type": "string"
            }
          },
          "metadata": {},
          "execution_count": 38
        }
      ],
      "source": [
        "chain.run(\"Are Arya Stark and Ned Stark related?\")"
      ]
    },
    {
      "cell_type": "code",
      "execution_count": 39,
      "id": "0qYH7IG1OWFm",
      "metadata": {
        "colab": {
          "base_uri": "https://localhost:8080/",
          "height": 0
        },
        "id": "0qYH7IG1OWFm",
        "outputId": "e892f491-1ca1-4408-ce88-b00d4ae08754"
      },
      "outputs": [
        {
          "output_type": "stream",
          "name": "stderr",
          "text": [
            "WARNING:langchain.llms.base:Retrying langchain.chat_models.openai.ChatOpenAI.completion_with_retry.<locals>._completion_with_retry in 4.0 seconds as it raised RateLimitError: Rate limit reached for gpt-4 in organization org-64PhSWcD9qZwtHC2EgGYxpxI on tokens per min. Limit: 10000 / min. Please try again in 6ms. Visit https://platform.openai.com/account/rate-limits to learn more..\n"
          ]
        },
        {
          "output_type": "stream",
          "name": "stdout",
          "text": [
            "\n",
            "\n",
            "\u001b[1m> Entering new ArangoGraphQAChain chain...\u001b[0m\n"
          ]
        },
        {
          "output_type": "stream",
          "name": "stderr",
          "text": [
            "WARNING:langchain.llms.base:Retrying langchain.chat_models.openai.ChatOpenAI.completion_with_retry.<locals>._completion_with_retry in 4.0 seconds as it raised RateLimitError: Rate limit reached for gpt-4 in organization org-64PhSWcD9qZwtHC2EgGYxpxI on tokens per min. Limit: 10000 / min. Please try again in 6ms. Visit https://platform.openai.com/account/rate-limits to learn more..\n",
            "WARNING:langchain.llms.base:Retrying langchain.chat_models.openai.ChatOpenAI.completion_with_retry.<locals>._completion_with_retry in 4.0 seconds as it raised RateLimitError: Rate limit reached for gpt-4 in organization org-64PhSWcD9qZwtHC2EgGYxpxI on tokens per min. Limit: 10000 / min. Please try again in 6ms. Visit https://platform.openai.com/account/rate-limits to learn more..\n",
            "WARNING:langchain.llms.base:Retrying langchain.chat_models.openai.ChatOpenAI.completion_with_retry.<locals>._completion_with_retry in 4.0 seconds as it raised RateLimitError: Rate limit reached for gpt-4 in organization org-64PhSWcD9qZwtHC2EgGYxpxI on tokens per min. Limit: 10000 / min. Please try again in 6ms. Visit https://platform.openai.com/account/rate-limits to learn more..\n"
          ]
        },
        {
          "output_type": "stream",
          "name": "stdout",
          "text": [
            "AQL Query (1):\u001b[32;1m\u001b[1;3m\n",
            "WITH Characters\n",
            "FOR character IN Characters\n",
            "    FILTER character._key == 'NedStark'\n",
            "    RETURN character.alive\n",
            "\u001b[0m\n",
            "AQL Result:\n",
            "\u001b[32;1m\u001b[1;3m[True]\u001b[0m\n"
          ]
        },
        {
          "output_type": "stream",
          "name": "stderr",
          "text": [
            "WARNING:langchain.llms.base:Retrying langchain.chat_models.openai.ChatOpenAI.completion_with_retry.<locals>._completion_with_retry in 4.0 seconds as it raised RateLimitError: Rate limit reached for gpt-4 in organization org-64PhSWcD9qZwtHC2EgGYxpxI on tokens per min. Limit: 10000 / min. Please try again in 6ms. Visit https://platform.openai.com/account/rate-limits to learn more..\n",
            "WARNING:langchain.llms.base:Retrying langchain.chat_models.openai.ChatOpenAI.completion_with_retry.<locals>._completion_with_retry in 4.0 seconds as it raised RateLimitError: Rate limit reached for gpt-4 in organization org-64PhSWcD9qZwtHC2EgGYxpxI on tokens per min. Limit: 10000 / min. Please try again in 6ms. Visit https://platform.openai.com/account/rate-limits to learn more..\n"
          ]
        },
        {
          "output_type": "stream",
          "name": "stdout",
          "text": [
            "\n",
            "\u001b[1m> Finished chain.\u001b[0m\n"
          ]
        },
        {
          "output_type": "execute_result",
          "data": {
            "text/plain": [
              "'Yes, Ned Stark is alive.'"
            ],
            "application/vnd.google.colaboratory.intrinsic+json": {
              "type": "string"
            }
          },
          "metadata": {},
          "execution_count": 39
        }
      ],
      "source": [
        "chain.run(\"Is Ned Stark alive?\")"
      ]
    },
    {
      "cell_type": "code",
      "execution_count": 40,
      "id": "H_k57SLRODIv",
      "metadata": {
        "colab": {
          "base_uri": "https://localhost:8080/",
          "height": 0
        },
        "id": "H_k57SLRODIv",
        "outputId": "7e952354-83ac-4743-df44-b40072268157"
      },
      "outputs": [
        {
          "output_type": "stream",
          "name": "stderr",
          "text": [
            "WARNING:langchain.llms.base:Retrying langchain.chat_models.openai.ChatOpenAI.completion_with_retry.<locals>._completion_with_retry in 4.0 seconds as it raised RateLimitError: Rate limit reached for gpt-4 in organization org-64PhSWcD9qZwtHC2EgGYxpxI on tokens per min. Limit: 10000 / min. Please try again in 6ms. Visit https://platform.openai.com/account/rate-limits to learn more..\n"
          ]
        },
        {
          "output_type": "stream",
          "name": "stdout",
          "text": [
            "\n",
            "\n",
            "\u001b[1m> Entering new ArangoGraphQAChain chain...\u001b[0m\n"
          ]
        },
        {
          "output_type": "stream",
          "name": "stderr",
          "text": [
            "WARNING:langchain.llms.base:Retrying langchain.chat_models.openai.ChatOpenAI.completion_with_retry.<locals>._completion_with_retry in 4.0 seconds as it raised RateLimitError: Rate limit reached for gpt-4 in organization org-64PhSWcD9qZwtHC2EgGYxpxI on tokens per min. Limit: 10000 / min. Please try again in 6ms. Visit https://platform.openai.com/account/rate-limits to learn more..\n",
            "WARNING:langchain.llms.base:Retrying langchain.chat_models.openai.ChatOpenAI.completion_with_retry.<locals>._completion_with_retry in 4.0 seconds as it raised RateLimitError: Rate limit reached for gpt-4 in organization org-64PhSWcD9qZwtHC2EgGYxpxI on tokens per min. Limit: 10000 / min. Please try again in 6ms. Visit https://platform.openai.com/account/rate-limits to learn more..\n",
            "WARNING:langchain.llms.base:Retrying langchain.chat_models.openai.ChatOpenAI.completion_with_retry.<locals>._completion_with_retry in 4.0 seconds as it raised RateLimitError: Rate limit reached for gpt-4 in organization org-64PhSWcD9qZwtHC2EgGYxpxI on tokens per min. Limit: 10000 / min. Please try again in 6ms. Visit https://platform.openai.com/account/rate-limits to learn more..\n"
          ]
        },
        {
          "output_type": "stream",
          "name": "stdout",
          "text": [
            "AQL Query (1):\u001b[32;1m\u001b[1;3m\n",
            "WITH Characters\n",
            "UPDATE \"NedStark\" WITH { alive: false } IN Characters\n",
            "\u001b[0m\n",
            "AQL Result:\n",
            "\u001b[32;1m\u001b[1;3m[]\u001b[0m\n"
          ]
        },
        {
          "output_type": "stream",
          "name": "stderr",
          "text": [
            "WARNING:langchain.llms.base:Retrying langchain.chat_models.openai.ChatOpenAI.completion_with_retry.<locals>._completion_with_retry in 4.0 seconds as it raised RateLimitError: Rate limit reached for gpt-4 in organization org-64PhSWcD9qZwtHC2EgGYxpxI on tokens per min. Limit: 10000 / min. Please try again in 6ms. Visit https://platform.openai.com/account/rate-limits to learn more..\n",
            "WARNING:langchain.llms.base:Retrying langchain.chat_models.openai.ChatOpenAI.completion_with_retry.<locals>._completion_with_retry in 4.0 seconds as it raised RateLimitError: Rate limit reached for gpt-4 in organization org-64PhSWcD9qZwtHC2EgGYxpxI on tokens per min. Limit: 10000 / min. Please try again in 6ms. Visit https://platform.openai.com/account/rate-limits to learn more..\n"
          ]
        },
        {
          "output_type": "stream",
          "name": "stdout",
          "text": [
            "\n",
            "\u001b[1m> Finished chain.\u001b[0m\n"
          ]
        },
        {
          "output_type": "execute_result",
          "data": {
            "text/plain": [
              "'The data has been updated. Ned Stark is now marked as deceased in the database.'"
            ],
            "application/vnd.google.colaboratory.intrinsic+json": {
              "type": "string"
            }
          },
          "metadata": {},
          "execution_count": 40
        }
      ],
      "source": [
        "chain.run(\"Ned Stark has died. Update the data\")"
      ]
    },
    {
      "cell_type": "code",
      "execution_count": 41,
      "id": "ghVJEfZuOMcK",
      "metadata": {
        "colab": {
          "base_uri": "https://localhost:8080/",
          "height": 0
        },
        "id": "ghVJEfZuOMcK",
        "outputId": "72b8c354-463d-4e23-a0c6-19292ae68cd6"
      },
      "outputs": [
        {
          "output_type": "stream",
          "name": "stderr",
          "text": [
            "WARNING:langchain.llms.base:Retrying langchain.chat_models.openai.ChatOpenAI.completion_with_retry.<locals>._completion_with_retry in 4.0 seconds as it raised RateLimitError: Rate limit reached for gpt-4 in organization org-64PhSWcD9qZwtHC2EgGYxpxI on tokens per min. Limit: 10000 / min. Please try again in 6ms. Visit https://platform.openai.com/account/rate-limits to learn more..\n"
          ]
        },
        {
          "output_type": "stream",
          "name": "stdout",
          "text": [
            "\n",
            "\n",
            "\u001b[1m> Entering new ArangoGraphQAChain chain...\u001b[0m\n"
          ]
        },
        {
          "output_type": "stream",
          "name": "stderr",
          "text": [
            "WARNING:langchain.llms.base:Retrying langchain.chat_models.openai.ChatOpenAI.completion_with_retry.<locals>._completion_with_retry in 4.0 seconds as it raised RateLimitError: Rate limit reached for gpt-4 in organization org-64PhSWcD9qZwtHC2EgGYxpxI on tokens per min. Limit: 10000 / min. Please try again in 6ms. Visit https://platform.openai.com/account/rate-limits to learn more..\n",
            "WARNING:langchain.llms.base:Retrying langchain.chat_models.openai.ChatOpenAI.completion_with_retry.<locals>._completion_with_retry in 4.0 seconds as it raised RateLimitError: Rate limit reached for gpt-4 in organization org-64PhSWcD9qZwtHC2EgGYxpxI on tokens per min. Limit: 10000 / min. Please try again in 6ms. Visit https://platform.openai.com/account/rate-limits to learn more..\n",
            "WARNING:langchain.llms.base:Retrying langchain.chat_models.openai.ChatOpenAI.completion_with_retry.<locals>._completion_with_retry in 4.0 seconds as it raised RateLimitError: Rate limit reached for gpt-4 in organization org-64PhSWcD9qZwtHC2EgGYxpxI on tokens per min. Limit: 10000 / min. Please try again in 6ms. Visit https://platform.openai.com/account/rate-limits to learn more..\n"
          ]
        },
        {
          "output_type": "stream",
          "name": "stdout",
          "text": [
            "AQL Query (1):\u001b[32;1m\u001b[1;3m\n",
            "WITH Characters\n",
            "FOR character IN Characters\n",
            "    COLLECT alive = character.alive WITH COUNT INTO total\n",
            "    RETURN { \"alive\": alive, \"total\": total }\n",
            "\u001b[0m\n",
            "AQL Result:\n",
            "\u001b[32;1m\u001b[1;3m[{'alive': False, 'total': 7}, {'alive': True, 'total': 7}]\u001b[0m\n"
          ]
        },
        {
          "output_type": "stream",
          "name": "stderr",
          "text": [
            "WARNING:langchain.llms.base:Retrying langchain.chat_models.openai.ChatOpenAI.completion_with_retry.<locals>._completion_with_retry in 4.0 seconds as it raised RateLimitError: Rate limit reached for gpt-4 in organization org-64PhSWcD9qZwtHC2EgGYxpxI on tokens per min. Limit: 10000 / min. Please try again in 6ms. Visit https://platform.openai.com/account/rate-limits to learn more..\n",
            "WARNING:langchain.llms.base:Retrying langchain.chat_models.openai.ChatOpenAI.completion_with_retry.<locals>._completion_with_retry in 4.0 seconds as it raised RateLimitError: Rate limit reached for gpt-4 in organization org-64PhSWcD9qZwtHC2EgGYxpxI on tokens per min. Limit: 10000 / min. Please try again in 6ms. Visit https://platform.openai.com/account/rate-limits to learn more..\n"
          ]
        },
        {
          "output_type": "stream",
          "name": "stdout",
          "text": [
            "\n",
            "\u001b[1m> Finished chain.\u001b[0m\n"
          ]
        },
        {
          "output_type": "execute_result",
          "data": {
            "text/plain": [
              "'There are 7 characters who are alive and 7 characters who are dead.'"
            ],
            "application/vnd.google.colaboratory.intrinsic+json": {
              "type": "string"
            }
          },
          "metadata": {},
          "execution_count": 41
        }
      ],
      "source": [
        "chain.run(\"How many characters are alive? How many characters are dead?\")"
      ]
    },
    {
      "cell_type": "code",
      "execution_count": 42,
      "id": "NmR7P693ONPl",
      "metadata": {
        "colab": {
          "base_uri": "https://localhost:8080/",
          "height": 0
        },
        "id": "NmR7P693ONPl",
        "outputId": "2d3a74b9-228b-4b8b-e60f-49a439c6f705"
      },
      "outputs": [
        {
          "output_type": "stream",
          "name": "stderr",
          "text": [
            "WARNING:langchain.llms.base:Retrying langchain.chat_models.openai.ChatOpenAI.completion_with_retry.<locals>._completion_with_retry in 4.0 seconds as it raised RateLimitError: Rate limit reached for gpt-4 in organization org-64PhSWcD9qZwtHC2EgGYxpxI on tokens per min. Limit: 10000 / min. Please try again in 6ms. Visit https://platform.openai.com/account/rate-limits to learn more..\n"
          ]
        },
        {
          "output_type": "stream",
          "name": "stdout",
          "text": [
            "\n",
            "\n",
            "\u001b[1m> Entering new ArangoGraphQAChain chain...\u001b[0m\n"
          ]
        },
        {
          "output_type": "stream",
          "name": "stderr",
          "text": [
            "WARNING:langchain.llms.base:Retrying langchain.chat_models.openai.ChatOpenAI.completion_with_retry.<locals>._completion_with_retry in 4.0 seconds as it raised RateLimitError: Rate limit reached for gpt-4 in organization org-64PhSWcD9qZwtHC2EgGYxpxI on tokens per min. Limit: 10000 / min. Please try again in 6ms. Visit https://platform.openai.com/account/rate-limits to learn more..\n",
            "WARNING:langchain.llms.base:Retrying langchain.chat_models.openai.ChatOpenAI.completion_with_retry.<locals>._completion_with_retry in 4.0 seconds as it raised RateLimitError: Rate limit reached for gpt-4 in organization org-64PhSWcD9qZwtHC2EgGYxpxI on tokens per min. Limit: 10000 / min. Please try again in 6ms. Visit https://platform.openai.com/account/rate-limits to learn more..\n",
            "WARNING:langchain.llms.base:Retrying langchain.chat_models.openai.ChatOpenAI.completion_with_retry.<locals>._completion_with_retry in 4.0 seconds as it raised RateLimitError: Rate limit reached for gpt-4 in organization org-64PhSWcD9qZwtHC2EgGYxpxI on tokens per min. Limit: 10000 / min. Please try again in 6ms. Visit https://platform.openai.com/account/rate-limits to learn more..\n"
          ]
        },
        {
          "output_type": "stream",
          "name": "stdout",
          "text": [
            "AQL Query (1):\u001b[32;1m\u001b[1;3m\n",
            "WITH Characters, ChildOf\n",
            "FOR v, e IN 1..1 OUTBOUND 'Characters/AryaStark' ChildOf\n",
            "FILTER v.alive == false\n",
            "RETURN { 'isOrphan': COUNT(v) == 2 }\n",
            "\u001b[0m\n",
            "AQL Result:\n",
            "\u001b[32;1m\u001b[1;3m[{'isOrphan': False}, {'isOrphan': False}]\u001b[0m\n"
          ]
        },
        {
          "output_type": "stream",
          "name": "stderr",
          "text": [
            "WARNING:langchain.llms.base:Retrying langchain.chat_models.openai.ChatOpenAI.completion_with_retry.<locals>._completion_with_retry in 4.0 seconds as it raised RateLimitError: Rate limit reached for gpt-4 in organization org-64PhSWcD9qZwtHC2EgGYxpxI on tokens per min. Limit: 10000 / min. Please try again in 6ms. Visit https://platform.openai.com/account/rate-limits to learn more..\n",
            "WARNING:langchain.llms.base:Retrying langchain.chat_models.openai.ChatOpenAI.completion_with_retry.<locals>._completion_with_retry in 4.0 seconds as it raised RateLimitError: Rate limit reached for gpt-4 in organization org-64PhSWcD9qZwtHC2EgGYxpxI on tokens per min. Limit: 10000 / min. Please try again in 6ms. Visit https://platform.openai.com/account/rate-limits to learn more..\n"
          ]
        },
        {
          "output_type": "stream",
          "name": "stdout",
          "text": [
            "\n",
            "\u001b[1m> Finished chain.\u001b[0m\n"
          ]
        },
        {
          "output_type": "execute_result",
          "data": {
            "text/plain": [
              "'No, Arya Stark is not an orphan. Both of her parents are alive.'"
            ],
            "application/vnd.google.colaboratory.intrinsic+json": {
              "type": "string"
            }
          },
          "metadata": {},
          "execution_count": 42
        }
      ],
      "source": [
        "chain.run(\"Is Arya Stark an orphan?\")"
      ]
    },
    {
      "cell_type": "markdown",
      "source": [
        "#### Open Intelligence"
      ],
      "metadata": {
        "id": "914ruYLu_Rsb"
      },
      "id": "914ruYLu_Rsb"
    },
    {
      "cell_type": "code",
      "source": [
        "# Set the maximum number of AQL Query Results to return to 5\n",
        "# This avoids burning the LLM token limit on JSON results\n",
        "chain.top_k = 5"
      ],
      "metadata": {
        "id": "kRxUagJ-BI3p"
      },
      "id": "kRxUagJ-BI3p",
      "execution_count": 43,
      "outputs": []
    },
    {
      "cell_type": "code",
      "execution_count": 44,
      "metadata": {
        "id": "j1otlhwbVbq-",
        "colab": {
          "base_uri": "https://localhost:8080/",
          "height": 489
        },
        "outputId": "87634fb3-870d-43c7-bbb7-a2beb446d01d"
      },
      "outputs": [
        {
          "output_type": "stream",
          "name": "stderr",
          "text": [
            "WARNING:langchain.llms.base:Retrying langchain.chat_models.openai.ChatOpenAI.completion_with_retry.<locals>._completion_with_retry in 4.0 seconds as it raised RateLimitError: Rate limit reached for gpt-4 in organization org-64PhSWcD9qZwtHC2EgGYxpxI on tokens per min. Limit: 10000 / min. Please try again in 6ms. Visit https://platform.openai.com/account/rate-limits to learn more..\n"
          ]
        },
        {
          "output_type": "stream",
          "name": "stdout",
          "text": [
            "\n",
            "\n",
            "\u001b[1m> Entering new ArangoGraphQAChain chain...\u001b[0m\n"
          ]
        },
        {
          "output_type": "stream",
          "name": "stderr",
          "text": [
            "WARNING:langchain.llms.base:Retrying langchain.chat_models.openai.ChatOpenAI.completion_with_retry.<locals>._completion_with_retry in 4.0 seconds as it raised RateLimitError: Rate limit reached for gpt-4 in organization org-64PhSWcD9qZwtHC2EgGYxpxI on tokens per min. Limit: 10000 / min. Please try again in 6ms. Visit https://platform.openai.com/account/rate-limits to learn more..\n",
            "WARNING:langchain.llms.base:Retrying langchain.chat_models.openai.ChatOpenAI.completion_with_retry.<locals>._completion_with_retry in 4.0 seconds as it raised RateLimitError: Rate limit reached for gpt-4 in organization org-64PhSWcD9qZwtHC2EgGYxpxI on tokens per min. Limit: 10000 / min. Please try again in 6ms. Visit https://platform.openai.com/account/rate-limits to learn more..\n",
            "WARNING:langchain.llms.base:Retrying langchain.chat_models.openai.ChatOpenAI.completion_with_retry.<locals>._completion_with_retry in 4.0 seconds as it raised RateLimitError: Rate limit reached for gpt-4 in organization org-64PhSWcD9qZwtHC2EgGYxpxI on tokens per min. Limit: 10000 / min. Please try again in 6ms. Visit https://platform.openai.com/account/rate-limits to learn more..\n"
          ]
        },
        {
          "output_type": "stream",
          "name": "stdout",
          "text": [
            "AQL Query (1):\u001b[32;1m\u001b[1;3m\n",
            "WITH Event\n",
            "FOR e IN Event\n",
            "FILTER DATE_MONTH(e.date) == 12 AND DATE_YEAR(e.date) == 2019\n",
            "LIMIT 3\n",
            "RETURN e\n",
            "\u001b[0m\n",
            "AQL Result:\n",
            "\u001b[32;1m\u001b[1;3m[{'_key': 'ALG7745', '_id': 'Event/ALG7745', '_rev': '_g4WW2de--b', 'date': '2019-12-01T00:00:00.000Z', 'dateStamp': 1575158400000, 'description': 'On 01 December 2019, UGTA members and workers marched in Algiers against foreign intervention and in favor of the army and the scheduled elections. [size=hundreds]', 'fatalities': 0, 'geo': {'type': 'Point', 'coordinates': [36.752, 3.042]}, 'name': 'On 01 December 2019, UGTA memb', 'label': 'Protests'}, {'_key': 'ALG7746', '_id': 'Event/ALG7746', '_rev': '_g4WW2de--c', 'date': '2019-12-02T00:00:00.000Z', 'dateStamp': 1575244800000, 'description': 'On 02 December 2019, workers protested against the company, Sour El-Ghozlane in Bouira for not distributing salaries in over 4 months. [size=260].', 'fatalities': 0, 'geo': {'type': 'Point', 'coordinates': [36.38, 3.901]}, 'name': 'On 02 December 2019, workers p', 'label': 'Protests'}, {'_key': 'ALG7747', '_id': 'Event/ALG7747', '_rev': '_g4WW2de--d', 'date': '2019-12-02T00:00:00.000Z', 'dateStamp': 1575244800000, 'description': \"On 02 December 2019, citizens protested in Jijel during a presidential candidate's speech against the elections. [size=no report]\", 'fatalities': 0, 'geo': {'type': 'Point', 'coordinates': [36.8, 5.767]}, 'name': 'On 02 December 2019, citizens ', 'label': 'Protests'}]\u001b[0m\n"
          ]
        },
        {
          "output_type": "stream",
          "name": "stderr",
          "text": [
            "WARNING:langchain.llms.base:Retrying langchain.chat_models.openai.ChatOpenAI.completion_with_retry.<locals>._completion_with_retry in 4.0 seconds as it raised RateLimitError: Rate limit reached for gpt-4 in organization org-64PhSWcD9qZwtHC2EgGYxpxI on tokens per min. Limit: 10000 / min. Please try again in 6ms. Visit https://platform.openai.com/account/rate-limits to learn more..\n",
            "WARNING:langchain.llms.base:Retrying langchain.chat_models.openai.ChatOpenAI.completion_with_retry.<locals>._completion_with_retry in 4.0 seconds as it raised RateLimitError: Rate limit reached for gpt-4 in organization org-64PhSWcD9qZwtHC2EgGYxpxI on tokens per min. Limit: 10000 / min. Please try again in 6ms. Visit https://platform.openai.com/account/rate-limits to learn more..\n"
          ]
        },
        {
          "output_type": "stream",
          "name": "stdout",
          "text": [
            "\n",
            "\u001b[1m> Finished chain.\u001b[0m\n"
          ]
        },
        {
          "output_type": "execute_result",
          "data": {
            "text/plain": [
              "\"In December 2019, three notable events occurred:\\n\\n1. On December 1st, UGTA members and workers marched in Algiers against foreign intervention and in favor of the army and the scheduled elections. The size of the protest was in the hundreds, and there were no reported fatalities.\\n\\n2. On December 2nd, workers protested against the company, Sour El-Ghozlane in Bouira. The protest was due to the company not distributing salaries for over 4 months. The protest size was approximately 260 people, and there were no reported fatalities.\\n\\n3. Also on December 2nd, citizens protested in Jijel during a presidential candidate's speech against the elections. The size of the protest was not reported, and there were no reported fatalities.\""
            ],
            "application/vnd.google.colaboratory.intrinsic+json": {
              "type": "string"
            }
          },
          "metadata": {},
          "execution_count": 44
        }
      ],
      "source": [
        "chain.run(\"Fetch me 3 events that happened in December 2019\")"
      ],
      "id": "j1otlhwbVbq-"
    },
    {
      "cell_type": "code",
      "execution_count": 45,
      "metadata": {
        "id": "wAZBzrj4V0Qa",
        "outputId": "cfd6e77c-5449-4e5f-b609-1a38fc19b9ed",
        "colab": {
          "base_uri": "https://localhost:8080/",
          "height": 420
        }
      },
      "outputs": [
        {
          "output_type": "stream",
          "name": "stdout",
          "text": [
            "\n",
            "\n",
            "\u001b[1m> Entering new ArangoGraphQAChain chain...\u001b[0m\n"
          ]
        },
        {
          "output_type": "stream",
          "name": "stderr",
          "text": [
            "WARNING:langchain.llms.base:Retrying langchain.chat_models.openai.ChatOpenAI.completion_with_retry.<locals>._completion_with_retry in 4.0 seconds as it raised RateLimitError: Rate limit reached for gpt-4 in organization org-64PhSWcD9qZwtHC2EgGYxpxI on tokens per min. Limit: 10000 / min. Please try again in 6ms. Visit https://platform.openai.com/account/rate-limits to learn more..\n"
          ]
        },
        {
          "output_type": "stream",
          "name": "stdout",
          "text": [
            "AQL Query (1):\u001b[32;1m\u001b[1;3m\n",
            "WITH Event, eventActor, Actor\n",
            "FOR event IN Event\n",
            "    FILTER event._id == 'Event/ANG3310'\n",
            "    FOR edge IN eventActor\n",
            "        FILTER edge._from == event._id\n",
            "        FOR actor IN Actor\n",
            "            FILTER actor._id == edge._to\n",
            "            RETURN actor\n",
            "\u001b[0m\n",
            "AQL Result:\n",
            "\u001b[32;1m\u001b[1;3m[{'_key': 'b401737cbe3391caf6afb021f675e694', '_id': 'Actor/b401737cbe3391caf6afb021f675e694', '_rev': '_g4WWk6a--n', 'name': 'Unidentified Armed Group (Angola)'}, {'_key': '49b99403d00b7815df01ad738d89db3f', '_id': 'Actor/49b99403d00b7815df01ad738d89db3f', '_rev': '_g4WWnPa--F', 'name': 'Civilians (Angola)'}]\u001b[0m\n"
          ]
        },
        {
          "output_type": "stream",
          "name": "stderr",
          "text": [
            "WARNING:langchain.llms.base:Retrying langchain.chat_models.openai.ChatOpenAI.completion_with_retry.<locals>._completion_with_retry in 4.0 seconds as it raised RateLimitError: Rate limit reached for gpt-4 in organization org-64PhSWcD9qZwtHC2EgGYxpxI on tokens per min. Limit: 10000 / min. Please try again in 6ms. Visit https://platform.openai.com/account/rate-limits to learn more..\n",
            "WARNING:langchain.llms.base:Retrying langchain.chat_models.openai.ChatOpenAI.completion_with_retry.<locals>._completion_with_retry in 4.0 seconds as it raised RateLimitError: Rate limit reached for gpt-4 in organization org-64PhSWcD9qZwtHC2EgGYxpxI on tokens per min. Limit: 10000 / min. Please try again in 6ms. Visit https://platform.openai.com/account/rate-limits to learn more..\n"
          ]
        },
        {
          "output_type": "stream",
          "name": "stdout",
          "text": [
            "\n",
            "\u001b[1m> Finished chain.\u001b[0m\n"
          ]
        },
        {
          "output_type": "execute_result",
          "data": {
            "text/plain": [
              "\"The event 'ANG3310' was carried out by the 'Unidentified Armed Group (Angola)'. The 'Civilians (Angola)' were also involved in this event.\""
            ],
            "application/vnd.google.colaboratory.intrinsic+json": {
              "type": "string"
            }
          },
          "metadata": {},
          "execution_count": 45
        }
      ],
      "source": [
        "chain.run(\"Who is responsible for 'Event/ANG3310'?\")"
      ],
      "id": "wAZBzrj4V0Qa"
    },
    {
      "cell_type": "code",
      "execution_count": 46,
      "metadata": {
        "id": "HUrtM-mJWWGc",
        "outputId": "37d9bb17-64d8-4b52-8ac1-6281a96b6a3c",
        "colab": {
          "base_uri": "https://localhost:8080/",
          "height": 402
        }
      },
      "outputs": [
        {
          "output_type": "stream",
          "name": "stderr",
          "text": [
            "WARNING:langchain.llms.base:Retrying langchain.chat_models.openai.ChatOpenAI.completion_with_retry.<locals>._completion_with_retry in 4.0 seconds as it raised RateLimitError: Rate limit reached for gpt-4 in organization org-64PhSWcD9qZwtHC2EgGYxpxI on tokens per min. Limit: 10000 / min. Please try again in 6ms. Visit https://platform.openai.com/account/rate-limits to learn more..\n"
          ]
        },
        {
          "output_type": "stream",
          "name": "stdout",
          "text": [
            "\n",
            "\n",
            "\u001b[1m> Entering new ArangoGraphQAChain chain...\u001b[0m\n"
          ]
        },
        {
          "output_type": "stream",
          "name": "stderr",
          "text": [
            "WARNING:langchain.llms.base:Retrying langchain.chat_models.openai.ChatOpenAI.completion_with_retry.<locals>._completion_with_retry in 4.0 seconds as it raised RateLimitError: Rate limit reached for gpt-4 in organization org-64PhSWcD9qZwtHC2EgGYxpxI on tokens per min. Limit: 10000 / min. Please try again in 6ms. Visit https://platform.openai.com/account/rate-limits to learn more..\n",
            "WARNING:langchain.llms.base:Retrying langchain.chat_models.openai.ChatOpenAI.completion_with_retry.<locals>._completion_with_retry in 4.0 seconds as it raised RateLimitError: Rate limit reached for gpt-4 in organization org-64PhSWcD9qZwtHC2EgGYxpxI on tokens per min. Limit: 10000 / min. Please try again in 6ms. Visit https://platform.openai.com/account/rate-limits to learn more..\n",
            "WARNING:langchain.llms.base:Retrying langchain.chat_models.openai.ChatOpenAI.completion_with_retry.<locals>._completion_with_retry in 4.0 seconds as it raised RateLimitError: Rate limit reached for gpt-4 in organization org-64PhSWcD9qZwtHC2EgGYxpxI on tokens per min. Limit: 10000 / min. Please try again in 6ms. Visit https://platform.openai.com/account/rate-limits to learn more..\n"
          ]
        },
        {
          "output_type": "stream",
          "name": "stdout",
          "text": [
            "AQL Query (1):\u001b[32;1m\u001b[1;3m\n",
            "WITH Event, hasLocation, Location\n",
            "FOR event IN Event\n",
            "    FILTER event._id == 'Event/ANG3310'\n",
            "    FOR v, e IN 1..1 OUTBOUND event._id hasLocation\n",
            "        RETURN v\n",
            "\u001b[0m\n",
            "AQL Result:\n",
            "\u001b[32;1m\u001b[1;3m[{'_key': 'eec78f7d78e17335aeb110f54b7decca', '_id': 'Location/eec78f7d78e17335aeb110f54b7decca', '_rev': '_g4WYFUW--V', 'name': 'Kilamba Kiaxi'}]\u001b[0m\n"
          ]
        },
        {
          "output_type": "stream",
          "name": "stderr",
          "text": [
            "WARNING:langchain.llms.base:Retrying langchain.chat_models.openai.ChatOpenAI.completion_with_retry.<locals>._completion_with_retry in 4.0 seconds as it raised RateLimitError: Rate limit reached for gpt-4 in organization org-64PhSWcD9qZwtHC2EgGYxpxI on tokens per min. Limit: 10000 / min. Please try again in 6ms. Visit https://platform.openai.com/account/rate-limits to learn more..\n",
            "WARNING:langchain.llms.base:Retrying langchain.chat_models.openai.ChatOpenAI.completion_with_retry.<locals>._completion_with_retry in 4.0 seconds as it raised RateLimitError: Rate limit reached for gpt-4 in organization org-64PhSWcD9qZwtHC2EgGYxpxI on tokens per min. Limit: 10000 / min. Please try again in 6ms. Visit https://platform.openai.com/account/rate-limits to learn more..\n"
          ]
        },
        {
          "output_type": "stream",
          "name": "stdout",
          "text": [
            "\n",
            "\u001b[1m> Finished chain.\u001b[0m\n"
          ]
        },
        {
          "output_type": "execute_result",
          "data": {
            "text/plain": [
              "\"The event with the identifier 'Event/ANG3310' took place in Kilamba Kiaxi.\""
            ],
            "application/vnd.google.colaboratory.intrinsic+json": {
              "type": "string"
            }
          },
          "metadata": {},
          "execution_count": 46
        }
      ],
      "source": [
        "chain.run(\"Where did 'Event/ANG3310' take place?\")"
      ],
      "id": "HUrtM-mJWWGc"
    },
    {
      "cell_type": "code",
      "execution_count": 47,
      "metadata": {
        "id": "PXd4dnUAaUL_",
        "outputId": "db19926d-3df5-415d-eb4a-726a53ebb20b",
        "colab": {
          "base_uri": "https://localhost:8080/",
          "height": 402
        }
      },
      "outputs": [
        {
          "output_type": "stream",
          "name": "stderr",
          "text": [
            "WARNING:langchain.llms.base:Retrying langchain.chat_models.openai.ChatOpenAI.completion_with_retry.<locals>._completion_with_retry in 4.0 seconds as it raised RateLimitError: Rate limit reached for gpt-4 in organization org-64PhSWcD9qZwtHC2EgGYxpxI on tokens per min. Limit: 10000 / min. Please try again in 6ms. Visit https://platform.openai.com/account/rate-limits to learn more..\n"
          ]
        },
        {
          "output_type": "stream",
          "name": "stdout",
          "text": [
            "\n",
            "\n",
            "\u001b[1m> Entering new ArangoGraphQAChain chain...\u001b[0m\n"
          ]
        },
        {
          "output_type": "stream",
          "name": "stderr",
          "text": [
            "WARNING:langchain.llms.base:Retrying langchain.chat_models.openai.ChatOpenAI.completion_with_retry.<locals>._completion_with_retry in 4.0 seconds as it raised RateLimitError: Rate limit reached for gpt-4 in organization org-64PhSWcD9qZwtHC2EgGYxpxI on tokens per min. Limit: 10000 / min. Please try again in 6ms. Visit https://platform.openai.com/account/rate-limits to learn more..\n",
            "WARNING:langchain.llms.base:Retrying langchain.chat_models.openai.ChatOpenAI.completion_with_retry.<locals>._completion_with_retry in 4.0 seconds as it raised RateLimitError: Rate limit reached for gpt-4 in organization org-64PhSWcD9qZwtHC2EgGYxpxI on tokens per min. Limit: 10000 / min. Please try again in 6ms. Visit https://platform.openai.com/account/rate-limits to learn more..\n",
            "WARNING:langchain.llms.base:Retrying langchain.chat_models.openai.ChatOpenAI.completion_with_retry.<locals>._completion_with_retry in 4.0 seconds as it raised RateLimitError: Rate limit reached for gpt-4 in organization org-64PhSWcD9qZwtHC2EgGYxpxI on tokens per min. Limit: 10000 / min. Please try again in 6ms. Visit https://platform.openai.com/account/rate-limits to learn more..\n"
          ]
        },
        {
          "output_type": "stream",
          "name": "stdout",
          "text": [
            "AQL Query (1):\u001b[32;1m\u001b[1;3m\n",
            "WITH Event, hasLocation, Location, inCountry, Country\n",
            "FOR event IN Event\n",
            "    FILTER event._id == 'Event/ANG3310'\n",
            "    FOR location IN 1..1 OUTBOUND event hasLocation\n",
            "        FOR country IN 1..1 OUTBOUND location inCountry\n",
            "            RETURN country.name\n",
            "\u001b[0m\n",
            "AQL Result:\n",
            "\u001b[32;1m\u001b[1;3m['Angola']\u001b[0m\n"
          ]
        },
        {
          "output_type": "stream",
          "name": "stderr",
          "text": [
            "WARNING:langchain.llms.base:Retrying langchain.chat_models.openai.ChatOpenAI.completion_with_retry.<locals>._completion_with_retry in 4.0 seconds as it raised RateLimitError: Rate limit reached for gpt-4 in organization org-64PhSWcD9qZwtHC2EgGYxpxI on tokens per min. Limit: 10000 / min. Please try again in 6ms. Visit https://platform.openai.com/account/rate-limits to learn more..\n"
          ]
        },
        {
          "output_type": "stream",
          "name": "stdout",
          "text": [
            "\n",
            "\u001b[1m> Finished chain.\u001b[0m\n"
          ]
        },
        {
          "output_type": "execute_result",
          "data": {
            "text/plain": [
              "\"The event with the identifier 'Event/ANG3310' took place in Angola.\""
            ],
            "application/vnd.google.colaboratory.intrinsic+json": {
              "type": "string"
            }
          },
          "metadata": {},
          "execution_count": 47
        }
      ],
      "source": [
        "chain.run(\"What country did 'Event/ANG3310' take place?\")"
      ],
      "id": "PXd4dnUAaUL_"
    },
    {
      "cell_type": "code",
      "execution_count": 48,
      "metadata": {
        "id": "CwrTgVjuaW-X",
        "outputId": "b48ec89e-33b0-4d52-fc35-0b7fe85f3312",
        "colab": {
          "base_uri": "https://localhost:8080/",
          "height": 420
        }
      },
      "outputs": [
        {
          "output_type": "stream",
          "name": "stderr",
          "text": [
            "WARNING:langchain.llms.base:Retrying langchain.chat_models.openai.ChatOpenAI.completion_with_retry.<locals>._completion_with_retry in 4.0 seconds as it raised RateLimitError: Rate limit reached for gpt-4 in organization org-64PhSWcD9qZwtHC2EgGYxpxI on tokens per min. Limit: 10000 / min. Please try again in 6ms. Visit https://platform.openai.com/account/rate-limits to learn more..\n"
          ]
        },
        {
          "output_type": "stream",
          "name": "stdout",
          "text": [
            "\n",
            "\n",
            "\u001b[1m> Entering new ArangoGraphQAChain chain...\u001b[0m\n"
          ]
        },
        {
          "output_type": "stream",
          "name": "stderr",
          "text": [
            "WARNING:langchain.llms.base:Retrying langchain.chat_models.openai.ChatOpenAI.completion_with_retry.<locals>._completion_with_retry in 4.0 seconds as it raised RateLimitError: Rate limit reached for gpt-4 in organization org-64PhSWcD9qZwtHC2EgGYxpxI on tokens per min. Limit: 10000 / min. Please try again in 6ms. Visit https://platform.openai.com/account/rate-limits to learn more..\n",
            "WARNING:langchain.llms.base:Retrying langchain.chat_models.openai.ChatOpenAI.completion_with_retry.<locals>._completion_with_retry in 4.0 seconds as it raised RateLimitError: Rate limit reached for gpt-4 in organization org-64PhSWcD9qZwtHC2EgGYxpxI on tokens per min. Limit: 10000 / min. Please try again in 6ms. Visit https://platform.openai.com/account/rate-limits to learn more..\n",
            "WARNING:langchain.llms.base:Retrying langchain.chat_models.openai.ChatOpenAI.completion_with_retry.<locals>._completion_with_retry in 4.0 seconds as it raised RateLimitError: Rate limit reached for gpt-4 in organization org-64PhSWcD9qZwtHC2EgGYxpxI on tokens per min. Limit: 10000 / min. Please try again in 6ms. Visit https://platform.openai.com/account/rate-limits to learn more..\n"
          ]
        },
        {
          "output_type": "stream",
          "name": "stdout",
          "text": [
            "AQL Query (1):\u001b[32;1m\u001b[1;3m\n",
            "WITH Event, hasLocation, Location, inCountry, Country, inRegion, Region\n",
            "FOR event IN Event\n",
            "    FILTER event._id == 'Event/ANG3310'\n",
            "    FOR location IN 1..1 OUTBOUND event hasLocation\n",
            "        FOR country IN 1..1 OUTBOUND location inCountry\n",
            "            FOR region IN 1..1 OUTBOUND country inRegion\n",
            "                RETURN region.name\n",
            "\u001b[0m\n",
            "AQL Result:\n",
            "\u001b[32;1m\u001b[1;3m['Middle Africa']\u001b[0m\n"
          ]
        },
        {
          "output_type": "stream",
          "name": "stderr",
          "text": [
            "WARNING:langchain.llms.base:Retrying langchain.chat_models.openai.ChatOpenAI.completion_with_retry.<locals>._completion_with_retry in 4.0 seconds as it raised RateLimitError: Rate limit reached for gpt-4 in organization org-64PhSWcD9qZwtHC2EgGYxpxI on tokens per min. Limit: 10000 / min. Please try again in 6ms. Visit https://platform.openai.com/account/rate-limits to learn more..\n"
          ]
        },
        {
          "output_type": "stream",
          "name": "stdout",
          "text": [
            "\n",
            "\u001b[1m> Finished chain.\u001b[0m\n"
          ]
        },
        {
          "output_type": "execute_result",
          "data": {
            "text/plain": [
              "\"The event with the identifier 'Event/ANG3310' took place in the region of Middle Africa.\""
            ],
            "application/vnd.google.colaboratory.intrinsic+json": {
              "type": "string"
            }
          },
          "metadata": {},
          "execution_count": 48
        }
      ],
      "source": [
        "chain.run(\"What region did 'Event/ANG3310' take place?\")"
      ],
      "id": "CwrTgVjuaW-X"
    },
    {
      "cell_type": "code",
      "execution_count": 49,
      "metadata": {
        "id": "-DVE9K3ZWmJp",
        "outputId": "0947ef54-64a1-476e-b9a7-90e0feff9f21",
        "colab": {
          "base_uri": "https://localhost:8080/",
          "height": 402
        }
      },
      "outputs": [
        {
          "output_type": "stream",
          "name": "stderr",
          "text": [
            "WARNING:langchain.llms.base:Retrying langchain.chat_models.openai.ChatOpenAI.completion_with_retry.<locals>._completion_with_retry in 4.0 seconds as it raised RateLimitError: Rate limit reached for gpt-4 in organization org-64PhSWcD9qZwtHC2EgGYxpxI on tokens per min. Limit: 10000 / min. Please try again in 6ms. Visit https://platform.openai.com/account/rate-limits to learn more..\n"
          ]
        },
        {
          "output_type": "stream",
          "name": "stdout",
          "text": [
            "\n",
            "\n",
            "\u001b[1m> Entering new ArangoGraphQAChain chain...\u001b[0m\n"
          ]
        },
        {
          "output_type": "stream",
          "name": "stderr",
          "text": [
            "WARNING:langchain.llms.base:Retrying langchain.chat_models.openai.ChatOpenAI.completion_with_retry.<locals>._completion_with_retry in 4.0 seconds as it raised RateLimitError: Rate limit reached for gpt-4 in organization org-64PhSWcD9qZwtHC2EgGYxpxI on tokens per min. Limit: 10000 / min. Please try again in 6ms. Visit https://platform.openai.com/account/rate-limits to learn more..\n",
            "WARNING:langchain.llms.base:Retrying langchain.chat_models.openai.ChatOpenAI.completion_with_retry.<locals>._completion_with_retry in 4.0 seconds as it raised RateLimitError: Rate limit reached for gpt-4 in organization org-64PhSWcD9qZwtHC2EgGYxpxI on tokens per min. Limit: 10000 / min. Please try again in 6ms. Visit https://platform.openai.com/account/rate-limits to learn more..\n",
            "WARNING:langchain.llms.base:Retrying langchain.chat_models.openai.ChatOpenAI.completion_with_retry.<locals>._completion_with_retry in 4.0 seconds as it raised RateLimitError: Rate limit reached for gpt-4 in organization org-64PhSWcD9qZwtHC2EgGYxpxI on tokens per min. Limit: 10000 / min. Please try again in 6ms. Visit https://platform.openai.com/account/rate-limits to learn more..\n"
          ]
        },
        {
          "output_type": "stream",
          "name": "stdout",
          "text": [
            "AQL Query (1):\u001b[32;1m\u001b[1;3m\n",
            "WITH Event, type, Class\n",
            "FOR event IN Event\n",
            "    FILTER event._id == 'Event/ANG3310'\n",
            "    FOR v, e IN 1..1 OUTBOUND event._id type\n",
            "        RETURN v.name\n",
            "\u001b[0m\n",
            "AQL Result:\n",
            "\u001b[32;1m\u001b[1;3m['Strategic developments']\u001b[0m\n"
          ]
        },
        {
          "output_type": "stream",
          "name": "stderr",
          "text": [
            "WARNING:langchain.llms.base:Retrying langchain.chat_models.openai.ChatOpenAI.completion_with_retry.<locals>._completion_with_retry in 4.0 seconds as it raised RateLimitError: Rate limit reached for gpt-4 in organization org-64PhSWcD9qZwtHC2EgGYxpxI on tokens per min. Limit: 10000 / min. Please try again in 6ms. Visit https://platform.openai.com/account/rate-limits to learn more..\n",
            "WARNING:langchain.llms.base:Retrying langchain.chat_models.openai.ChatOpenAI.completion_with_retry.<locals>._completion_with_retry in 4.0 seconds as it raised RateLimitError: Rate limit reached for gpt-4 in organization org-64PhSWcD9qZwtHC2EgGYxpxI on tokens per min. Limit: 10000 / min. Please try again in 6ms. Visit https://platform.openai.com/account/rate-limits to learn more..\n"
          ]
        },
        {
          "output_type": "stream",
          "name": "stdout",
          "text": [
            "\n",
            "\u001b[1m> Finished chain.\u001b[0m\n"
          ]
        },
        {
          "output_type": "execute_result",
          "data": {
            "text/plain": [
              "\"The event 'Event/ANG3310' is classified as a 'Strategic developments' type of event.\""
            ],
            "application/vnd.google.colaboratory.intrinsic+json": {
              "type": "string"
            }
          },
          "metadata": {},
          "execution_count": 49
        }
      ],
      "source": [
        "chain.run(\"What type of event is 'Event/ANG3310' classified as?\")"
      ],
      "id": "-DVE9K3ZWmJp"
    },
    {
      "cell_type": "code",
      "execution_count": 50,
      "metadata": {
        "id": "gu7aHookW3jA",
        "outputId": "336cf33f-9370-43fb-db54-cb1647a58471",
        "colab": {
          "base_uri": "https://localhost:8080/",
          "height": 420
        }
      },
      "outputs": [
        {
          "output_type": "stream",
          "name": "stderr",
          "text": [
            "WARNING:langchain.llms.base:Retrying langchain.chat_models.openai.ChatOpenAI.completion_with_retry.<locals>._completion_with_retry in 4.0 seconds as it raised RateLimitError: Rate limit reached for gpt-4 in organization org-64PhSWcD9qZwtHC2EgGYxpxI on tokens per min. Limit: 10000 / min. Please try again in 6ms. Visit https://platform.openai.com/account/rate-limits to learn more..\n"
          ]
        },
        {
          "output_type": "stream",
          "name": "stdout",
          "text": [
            "\n",
            "\n",
            "\u001b[1m> Entering new ArangoGraphQAChain chain...\u001b[0m\n"
          ]
        },
        {
          "output_type": "stream",
          "name": "stderr",
          "text": [
            "WARNING:langchain.llms.base:Retrying langchain.chat_models.openai.ChatOpenAI.completion_with_retry.<locals>._completion_with_retry in 4.0 seconds as it raised RateLimitError: Rate limit reached for gpt-4 in organization org-64PhSWcD9qZwtHC2EgGYxpxI on tokens per min. Limit: 10000 / min. Please try again in 6ms. Visit https://platform.openai.com/account/rate-limits to learn more..\n",
            "WARNING:langchain.llms.base:Retrying langchain.chat_models.openai.ChatOpenAI.completion_with_retry.<locals>._completion_with_retry in 4.0 seconds as it raised RateLimitError: Rate limit reached for gpt-4 in organization org-64PhSWcD9qZwtHC2EgGYxpxI on tokens per min. Limit: 10000 / min. Please try again in 6ms. Visit https://platform.openai.com/account/rate-limits to learn more..\n",
            "WARNING:langchain.llms.base:Retrying langchain.chat_models.openai.ChatOpenAI.completion_with_retry.<locals>._completion_with_retry in 4.0 seconds as it raised RateLimitError: Rate limit reached for gpt-4 in organization org-64PhSWcD9qZwtHC2EgGYxpxI on tokens per min. Limit: 10000 / min. Please try again in 6ms. Visit https://platform.openai.com/account/rate-limits to learn more..\n"
          ]
        },
        {
          "output_type": "stream",
          "name": "stdout",
          "text": [
            "AQL Query (1):\u001b[32;1m\u001b[1;3m\n",
            "WITH Class, subClass\n",
            "FOR doc IN Class\n",
            "    FILTER doc.name == 'Strategic developments'\n",
            "    FOR v, e IN 1..1 OUTBOUND doc._id subClass\n",
            "    RETURN v\n",
            "\u001b[0m\n",
            "AQL Result:\n",
            "\u001b[32;1m\u001b[1;3m[{'_key': 'Agreement', '_id': 'Class/Agreement', '_rev': '_g4WWocm--C', 'name': 'Agreement'}, {'_key': 'Headquarters_or_base_established', '_id': 'Class/Headquarters_or_base_established', '_rev': '_g4WWocm--B', 'name': 'Headquarters or base established'}, {'_key': 'Non-violent_transfer_of_territory', '_id': 'Class/Non-violent_transfer_of_territory', '_rev': '_g4WWocm--A', 'name': 'Non-violent transfer of territory'}, {'_key': 'Arrests', '_id': 'Class/Arrests', '_rev': '_g4WWoci--T', 'name': 'Arrests'}, {'_key': 'Other', '_id': 'Class/Other', '_rev': '_g4WWoci--S', 'name': 'Other'}]\u001b[0m\n"
          ]
        },
        {
          "output_type": "stream",
          "name": "stderr",
          "text": [
            "WARNING:langchain.llms.base:Retrying langchain.chat_models.openai.ChatOpenAI.completion_with_retry.<locals>._completion_with_retry in 4.0 seconds as it raised RateLimitError: Rate limit reached for gpt-4 in organization org-64PhSWcD9qZwtHC2EgGYxpxI on tokens per min. Limit: 10000 / min. Please try again in 6ms. Visit https://platform.openai.com/account/rate-limits to learn more..\n",
            "WARNING:langchain.llms.base:Retrying langchain.chat_models.openai.ChatOpenAI.completion_with_retry.<locals>._completion_with_retry in 4.0 seconds as it raised RateLimitError: Rate limit reached for gpt-4 in organization org-64PhSWcD9qZwtHC2EgGYxpxI on tokens per min. Limit: 10000 / min. Please try again in 6ms. Visit https://platform.openai.com/account/rate-limits to learn more..\n"
          ]
        },
        {
          "output_type": "stream",
          "name": "stdout",
          "text": [
            "\n",
            "\u001b[1m> Finished chain.\u001b[0m\n"
          ]
        },
        {
          "output_type": "execute_result",
          "data": {
            "text/plain": [
              "\"The subclasses of 'Strategic developments' are 'Agreement', 'Headquarters or base established', 'Non-violent transfer of territory', 'Arrests', and 'Other'.\""
            ],
            "application/vnd.google.colaboratory.intrinsic+json": {
              "type": "string"
            }
          },
          "metadata": {},
          "execution_count": 50
        }
      ],
      "source": [
        "chain.run(\"What are the subclasses of 'Strategic developments'?\")"
      ],
      "id": "gu7aHookW3jA"
    },
    {
      "cell_type": "code",
      "execution_count": 51,
      "metadata": {
        "id": "BP543aO1W7uP",
        "outputId": "4232a6f8-bbbf-4ef9-c1d9-3fc167c99fb2",
        "colab": {
          "base_uri": "https://localhost:8080/",
          "height": 368
        }
      },
      "outputs": [
        {
          "output_type": "stream",
          "name": "stderr",
          "text": [
            "WARNING:langchain.llms.base:Retrying langchain.chat_models.openai.ChatOpenAI.completion_with_retry.<locals>._completion_with_retry in 4.0 seconds as it raised RateLimitError: Rate limit reached for gpt-4 in organization org-64PhSWcD9qZwtHC2EgGYxpxI on tokens per min. Limit: 10000 / min. Please try again in 6ms. Visit https://platform.openai.com/account/rate-limits to learn more..\n"
          ]
        },
        {
          "output_type": "stream",
          "name": "stdout",
          "text": [
            "\n",
            "\n",
            "\u001b[1m> Entering new ArangoGraphQAChain chain...\u001b[0m\n"
          ]
        },
        {
          "output_type": "stream",
          "name": "stderr",
          "text": [
            "WARNING:langchain.llms.base:Retrying langchain.chat_models.openai.ChatOpenAI.completion_with_retry.<locals>._completion_with_retry in 4.0 seconds as it raised RateLimitError: Rate limit reached for gpt-4 in organization org-64PhSWcD9qZwtHC2EgGYxpxI on tokens per min. Limit: 10000 / min. Please try again in 6ms. Visit https://platform.openai.com/account/rate-limits to learn more..\n",
            "WARNING:langchain.llms.base:Retrying langchain.chat_models.openai.ChatOpenAI.completion_with_retry.<locals>._completion_with_retry in 4.0 seconds as it raised RateLimitError: Rate limit reached for gpt-4 in organization org-64PhSWcD9qZwtHC2EgGYxpxI on tokens per min. Limit: 10000 / min. Please try again in 6ms. Visit https://platform.openai.com/account/rate-limits to learn more..\n"
          ]
        },
        {
          "output_type": "stream",
          "name": "stdout",
          "text": [
            "AQL Query (1):\u001b[32;1m\u001b[1;3m\n",
            "WITH Event, hasSource, Source\n",
            "FOR event IN Event\n",
            "    FILTER event._id == 'Event/ANG3310'\n",
            "    FOR v, e IN 1..1 OUTBOUND event._id hasSource\n",
            "        RETURN v\n",
            "\u001b[0m\n",
            "AQL Result:\n",
            "\u001b[32;1m\u001b[1;3m[{'_key': '16d860ee739cdc9777cd6f2cd0b607ca', '_id': 'Source/16d860ee739cdc9777cd6f2cd0b607ca', '_rev': '_g4WYRXy--v', 'name': 'Angola Press Agency', 'sourceScale': 'National'}]\u001b[0m\n"
          ]
        },
        {
          "output_type": "stream",
          "name": "stderr",
          "text": [
            "WARNING:langchain.llms.base:Retrying langchain.chat_models.openai.ChatOpenAI.completion_with_retry.<locals>._completion_with_retry in 4.0 seconds as it raised RateLimitError: Rate limit reached for gpt-4 in organization org-64PhSWcD9qZwtHC2EgGYxpxI on tokens per min. Limit: 10000 / min. Please try again in 6ms. Visit https://platform.openai.com/account/rate-limits to learn more..\n"
          ]
        },
        {
          "output_type": "stream",
          "name": "stdout",
          "text": [
            "\n",
            "\u001b[1m> Finished chain.\u001b[0m\n"
          ]
        },
        {
          "output_type": "execute_result",
          "data": {
            "text/plain": [
              "\"The source of the event 'ANG3310' is the 'Angola Press Agency', which operates on a national scale.\""
            ],
            "application/vnd.google.colaboratory.intrinsic+json": {
              "type": "string"
            }
          },
          "metadata": {},
          "execution_count": 51
        }
      ],
      "source": [
        "chain.run(\"What is the source of 'Event/ANG3310'?\")"
      ],
      "id": "BP543aO1W7uP"
    },
    {
      "cell_type": "code",
      "execution_count": 52,
      "metadata": {
        "id": "wMkptOXrXGf7",
        "colab": {
          "base_uri": "https://localhost:8080/",
          "height": 454
        },
        "outputId": "89e43427-1375-4292-c205-a8402871d649"
      },
      "outputs": [
        {
          "output_type": "stream",
          "name": "stderr",
          "text": [
            "WARNING:langchain.llms.base:Retrying langchain.chat_models.openai.ChatOpenAI.completion_with_retry.<locals>._completion_with_retry in 4.0 seconds as it raised RateLimitError: Rate limit reached for gpt-4 in organization org-64PhSWcD9qZwtHC2EgGYxpxI on tokens per min. Limit: 10000 / min. Please try again in 6ms. Visit https://platform.openai.com/account/rate-limits to learn more..\n"
          ]
        },
        {
          "output_type": "stream",
          "name": "stdout",
          "text": [
            "\n",
            "\n",
            "\u001b[1m> Entering new ArangoGraphQAChain chain...\u001b[0m\n"
          ]
        },
        {
          "output_type": "stream",
          "name": "stderr",
          "text": [
            "WARNING:langchain.llms.base:Retrying langchain.chat_models.openai.ChatOpenAI.completion_with_retry.<locals>._completion_with_retry in 4.0 seconds as it raised RateLimitError: Rate limit reached for gpt-4 in organization org-64PhSWcD9qZwtHC2EgGYxpxI on tokens per min. Limit: 10000 / min. Please try again in 6ms. Visit https://platform.openai.com/account/rate-limits to learn more..\n",
            "WARNING:langchain.llms.base:Retrying langchain.chat_models.openai.ChatOpenAI.completion_with_retry.<locals>._completion_with_retry in 4.0 seconds as it raised RateLimitError: Rate limit reached for gpt-4 in organization org-64PhSWcD9qZwtHC2EgGYxpxI on tokens per min. Limit: 10000 / min. Please try again in 6ms. Visit https://platform.openai.com/account/rate-limits to learn more..\n"
          ]
        },
        {
          "output_type": "stream",
          "name": "stdout",
          "text": [
            "AQL Query (1):\u001b[32;1m\u001b[1;3m\n",
            "WITH Actor, Event, eventActor\n",
            "FOR actor IN Actor\n",
            "    LET eventCount = LENGTH(\n",
            "        FOR v, e IN INBOUND actor._id eventActor\n",
            "            RETURN 1\n",
            "    )\n",
            "    SORT eventCount DESC\n",
            "    LIMIT 1\n",
            "    RETURN actor\n",
            "\u001b[0m\n"
          ]
        },
        {
          "output_type": "stream",
          "name": "stderr",
          "text": [
            "WARNING:langchain.llms.base:Retrying langchain.chat_models.openai.ChatOpenAI.completion_with_retry.<locals>._completion_with_retry in 4.0 seconds as it raised RateLimitError: Rate limit reached for gpt-4 in organization org-64PhSWcD9qZwtHC2EgGYxpxI on tokens per min. Limit: 10000 / min. Please try again in 6ms. Visit https://platform.openai.com/account/rate-limits to learn more..\n"
          ]
        },
        {
          "output_type": "stream",
          "name": "stdout",
          "text": [
            "AQL Result:\n",
            "\u001b[32;1m\u001b[1;3m[{'_key': 'ce421379323f450c3369e23c705373a5', '_id': 'Actor/ce421379323f450c3369e23c705373a5', '_rev': '_g4WWnPW--c', 'name': 'Civilians (Democratic Republic of Congo)'}]\u001b[0m\n"
          ]
        },
        {
          "output_type": "stream",
          "name": "stderr",
          "text": [
            "WARNING:langchain.llms.base:Retrying langchain.chat_models.openai.ChatOpenAI.completion_with_retry.<locals>._completion_with_retry in 4.0 seconds as it raised RateLimitError: Rate limit reached for gpt-4 in organization org-64PhSWcD9qZwtHC2EgGYxpxI on tokens per min. Limit: 10000 / min. Please try again in 6ms. Visit https://platform.openai.com/account/rate-limits to learn more..\n"
          ]
        },
        {
          "output_type": "stream",
          "name": "stdout",
          "text": [
            "\n",
            "\u001b[1m> Finished chain.\u001b[0m\n"
          ]
        },
        {
          "output_type": "execute_result",
          "data": {
            "text/plain": [
              "\"The actor associated with the most events in the database is 'Civilians (Democratic Republic of Congo)'.\""
            ],
            "application/vnd.google.colaboratory.intrinsic+json": {
              "type": "string"
            }
          },
          "metadata": {},
          "execution_count": 52
        }
      ],
      "source": [
        "chain.run(\"Fetch me the Actor with the most associated events. Remember to use INBOUND for eventActor\")"
      ],
      "id": "wMkptOXrXGf7"
    },
    {
      "cell_type": "code",
      "execution_count": 53,
      "metadata": {
        "id": "1wakSJN5XdYn",
        "outputId": "889ac213-e36f-416c-e67c-94a0d5f4fe99",
        "colab": {
          "base_uri": "https://localhost:8080/",
          "height": 506
        }
      },
      "outputs": [
        {
          "output_type": "stream",
          "name": "stderr",
          "text": [
            "WARNING:langchain.llms.base:Retrying langchain.chat_models.openai.ChatOpenAI.completion_with_retry.<locals>._completion_with_retry in 4.0 seconds as it raised RateLimitError: Rate limit reached for gpt-4 in organization org-64PhSWcD9qZwtHC2EgGYxpxI on tokens per min. Limit: 10000 / min. Please try again in 6ms. Visit https://platform.openai.com/account/rate-limits to learn more..\n"
          ]
        },
        {
          "output_type": "stream",
          "name": "stdout",
          "text": [
            "\n",
            "\n",
            "\u001b[1m> Entering new ArangoGraphQAChain chain...\u001b[0m\n"
          ]
        },
        {
          "output_type": "stream",
          "name": "stderr",
          "text": [
            "WARNING:langchain.llms.base:Retrying langchain.chat_models.openai.ChatOpenAI.completion_with_retry.<locals>._completion_with_retry in 4.0 seconds as it raised RateLimitError: Rate limit reached for gpt-4 in organization org-64PhSWcD9qZwtHC2EgGYxpxI on tokens per min. Limit: 10000 / min. Please try again in 6ms. Visit https://platform.openai.com/account/rate-limits to learn more..\n",
            "WARNING:langchain.llms.base:Retrying langchain.chat_models.openai.ChatOpenAI.completion_with_retry.<locals>._completion_with_retry in 4.0 seconds as it raised RateLimitError: Rate limit reached for gpt-4 in organization org-64PhSWcD9qZwtHC2EgGYxpxI on tokens per min. Limit: 10000 / min. Please try again in 6ms. Visit https://platform.openai.com/account/rate-limits to learn more..\n",
            "WARNING:langchain.llms.base:Retrying langchain.chat_models.openai.ChatOpenAI.completion_with_retry.<locals>._completion_with_retry in 4.0 seconds as it raised RateLimitError: Rate limit reached for gpt-4 in organization org-64PhSWcD9qZwtHC2EgGYxpxI on tokens per min. Limit: 10000 / min. Please try again in 6ms. Visit https://platform.openai.com/account/rate-limits to learn more..\n"
          ]
        },
        {
          "output_type": "stream",
          "name": "stdout",
          "text": [
            "AQL Query (1):\u001b[32;1m\u001b[1;3m\n",
            "WITH Event\n",
            "FOR e IN Event\n",
            "    FILTER e.date LIKE \"2020%\"\n",
            "    SORT e.fatalities DESC\n",
            "    LIMIT 1\n",
            "    RETURN e\n",
            "\u001b[0m\n",
            "AQL Result:\n",
            "\u001b[32;1m\u001b[1;3m[{'_key': 'CHA1052', '_id': 'Event/CHA1052', '_rev': '_g4WXsGe--M', 'date': '2020-04-04T00:00:00.000Z', 'dateStamp': 1585958400000, 'description': 'Between 31 March and 8 April, the Chadian army carried out military operations against Boko Haram (or ISWAP) militants in the Lac Region. The military acknowledged that 52 Chadian soldiers were killed and 196 others wounded in the operations, claiming to have killed 1000 Boko Haram militants. The declared toll is assessed to be exaggerated and therefore revised and coded as 100.', 'fatalities': 152, 'geo': {'type': 'Point', 'coordinates': [13.533, 14.31]}, 'name': 'Between 31 March and 8 April, ', 'label': 'Battles'}]\u001b[0m\n"
          ]
        },
        {
          "output_type": "stream",
          "name": "stderr",
          "text": [
            "WARNING:langchain.llms.base:Retrying langchain.chat_models.openai.ChatOpenAI.completion_with_retry.<locals>._completion_with_retry in 4.0 seconds as it raised RateLimitError: Rate limit reached for gpt-4 in organization org-64PhSWcD9qZwtHC2EgGYxpxI on tokens per min. Limit: 10000 / min. Please try again in 6ms. Visit https://platform.openai.com/account/rate-limits to learn more..\n",
            "WARNING:langchain.llms.base:Retrying langchain.chat_models.openai.ChatOpenAI.completion_with_retry.<locals>._completion_with_retry in 4.0 seconds as it raised RateLimitError: Rate limit reached for gpt-4 in organization org-64PhSWcD9qZwtHC2EgGYxpxI on tokens per min. Limit: 10000 / min. Please try again in 6ms. Visit https://platform.openai.com/account/rate-limits to learn more..\n",
            "WARNING:langchain.llms.base:Retrying langchain.chat_models.openai.ChatOpenAI.completion_with_retry.<locals>._completion_with_retry in 8.0 seconds as it raised RateLimitError: Rate limit reached for gpt-4 in organization org-64PhSWcD9qZwtHC2EgGYxpxI on tokens per min. Limit: 10000 / min. Please try again in 6ms. Visit https://platform.openai.com/account/rate-limits to learn more..\n"
          ]
        },
        {
          "output_type": "stream",
          "name": "stdout",
          "text": [
            "\n",
            "\u001b[1m> Finished chain.\u001b[0m\n"
          ]
        },
        {
          "output_type": "execute_result",
          "data": {
            "text/plain": [
              "'The 2020 event with the largest number of fatalities was a military operation carried out by the Chadian army against Boko Haram (or ISWAP) militants in the Lac Region. This event occurred between March 31 and April 8. The military acknowledged that 52 Chadian soldiers were killed and 196 others were wounded in the operations, claiming to have killed 1000 Boko Haram militants. However, the declared toll is assessed to be exaggerated and therefore revised and coded as 100. This brings the total fatalities to 152.'"
            ],
            "application/vnd.google.colaboratory.intrinsic+json": {
              "type": "string"
            }
          },
          "metadata": {},
          "execution_count": 53
        }
      ],
      "source": [
        "chain.run(\"Which 2020 event has the largest number of fatalities?\")"
      ],
      "id": "1wakSJN5XdYn"
    },
    {
      "cell_type": "code",
      "source": [
        "chain.run(\"Return the first 3 countries with the most events\")"
      ],
      "metadata": {
        "id": "fkNB7YACuI3N",
        "outputId": "9e386f7e-7893-4033-f455-ba2df59513b3",
        "colab": {
          "base_uri": "https://localhost:8080/",
          "height": 437
        }
      },
      "execution_count": 54,
      "outputs": [
        {
          "output_type": "stream",
          "name": "stdout",
          "text": [
            "\n",
            "\n",
            "\u001b[1m> Entering new ArangoGraphQAChain chain...\u001b[0m\n",
            "AQL Query (1):\u001b[32;1m\u001b[1;3m\n",
            "WITH Event, hasLocation, Location, inCountry, Country\n",
            "FOR event IN Event\n",
            "    COLLECT countryId = event._id INTO groups\n",
            "    SORT LENGTH(groups) DESC\n",
            "    LIMIT 3\n",
            "    RETURN { \"country\": DOCUMENT(countryId), \"eventCount\": LENGTH(groups) }\n",
            "\u001b[0m\n"
          ]
        },
        {
          "output_type": "stream",
          "name": "stderr",
          "text": [
            "WARNING:langchain.llms.base:Retrying langchain.chat_models.openai.ChatOpenAI.completion_with_retry.<locals>._completion_with_retry in 4.0 seconds as it raised RateLimitError: Rate limit reached for gpt-4 in organization org-64PhSWcD9qZwtHC2EgGYxpxI on tokens per min. Limit: 10000 / min. Please try again in 6ms. Visit https://platform.openai.com/account/rate-limits to learn more..\n"
          ]
        },
        {
          "output_type": "stream",
          "name": "stdout",
          "text": [
            "AQL Result:\n",
            "\u001b[32;1m\u001b[1;3m[{'country': {'_key': 'LES97', '_id': 'Event/LES97', '_rev': '_g4WXjJ2--F', 'date': '2014-08-31T00:00:00.000Z', 'dateStamp': 1409443200000, 'description': 'Non-violent activity: Suspected armed soldiers attacked the home of the newly appointed commander of the Lesotho Defence Force, Lt.-Gen. Mahao just after the previous commander Kamoli (allegedly behind the attack) was dismissed by the King on Friday. It was believed to be an assassination attempt but no casualties were reported. Mahaos whereabouts are now unknown.', 'fatalities': 0, 'geo': {'type': 'Point', 'coordinates': [-29.317, 27.483]}, 'name': 'Suspected armed soldiers attac', 'label': 'Strategic_developments'}, 'eventCount': 1}, {'country': {'_key': 'LES98', '_id': 'Event/LES98', '_rev': '_g4WXjJ2--G', 'date': '2014-09-01T00:00:00.000Z', 'dateStamp': 1409529600000, 'description': 'Movement of forces: Former commander of the Lesotho armed forces Tladi Kamoli, who was fired by Lesothos PM, has \"emptied the countrys arsenal and led troops into the mountains\" following an alleged coup attempt.', 'fatalities': 0, 'geo': {'type': 'Point', 'coordinates': [-29.317, 27.483]}, 'name': 'Former commander of the Lesoth', 'label': 'Strategic_developments'}, 'eventCount': 1}, {'country': {'_key': 'LES99', '_id': 'Event/LES99', '_rev': '_g4WXjJ2--H', 'date': '2014-09-03T00:00:00.000Z', 'dateStamp': 1409702400000, 'description': 'Security Measures: South African special forces escorted PM Thabane back to Maseru, and are staying to protect his residence and those of key officials. South African police units are also in the capital bolstering the Lesotho police force, which has returned to their HQ for the first time since the alleged coup began.', 'fatalities': 0, 'geo': {'type': 'Point', 'coordinates': [-29.317, 27.483]}, 'name': 'South African special forces e', 'label': 'Strategic_developments'}, 'eventCount': 1}]\u001b[0m\n"
          ]
        },
        {
          "output_type": "stream",
          "name": "stderr",
          "text": [
            "WARNING:langchain.llms.base:Retrying langchain.chat_models.openai.ChatOpenAI.completion_with_retry.<locals>._completion_with_retry in 4.0 seconds as it raised RateLimitError: Rate limit reached for gpt-4 in organization org-64PhSWcD9qZwtHC2EgGYxpxI on tokens per min. Limit: 10000 / min. Please try again in 6ms. Visit https://platform.openai.com/account/rate-limits to learn more..\n"
          ]
        },
        {
          "output_type": "stream",
          "name": "stdout",
          "text": [
            "\n",
            "\u001b[1m> Finished chain.\u001b[0m\n"
          ]
        },
        {
          "output_type": "execute_result",
          "data": {
            "text/plain": [
              "\"The first three countries with the most events are Lesotho, Lesotho, and Lesotho. However, it's important to note that each of these countries only has one event recorded. The events in Lesotho include a non-violent activity where suspected armed soldiers attacked the home of the newly appointed commander of the Lesotho Defence Force, the movement of forces where the former commander of the Lesotho armed forces emptied the country's arsenal and led troops into the mountains following an alleged coup attempt, and a security measure where South African special forces escorted the Prime Minister back to Maseru and stayed to protect his residence and those of key officials.\""
            ],
            "application/vnd.google.colaboratory.intrinsic+json": {
              "type": "string"
            }
          },
          "metadata": {},
          "execution_count": 54
        }
      ],
      "id": "fkNB7YACuI3N"
    },
    {
      "cell_type": "code",
      "execution_count": 55,
      "metadata": {
        "id": "TFEu7Awe4OY5",
        "colab": {
          "base_uri": "https://localhost:8080/",
          "height": 420
        },
        "outputId": "83a693dc-e3ee-427b-c536-eaf65a793579"
      },
      "outputs": [
        {
          "output_type": "stream",
          "name": "stdout",
          "text": [
            "\n",
            "\n",
            "\u001b[1m> Entering new ArangoGraphQAChain chain...\u001b[0m\n",
            "AQL Query (1):\u001b[32;1m\u001b[1;3m\n",
            "WITH Event\n",
            "FOR doc IN EventView\n",
            "  SEARCH ANALYZER(doc.description IN TOKENS('assassination', 'text_en'), 'text_en')\n",
            "  RETURN doc\n",
            "\u001b[0m\n"
          ]
        },
        {
          "output_type": "stream",
          "name": "stderr",
          "text": [
            "WARNING:langchain.llms.base:Retrying langchain.chat_models.openai.ChatOpenAI.completion_with_retry.<locals>._completion_with_retry in 4.0 seconds as it raised RateLimitError: Rate limit reached for gpt-4 in organization org-64PhSWcD9qZwtHC2EgGYxpxI on tokens per min. Limit: 10000 / min. Please try again in 6ms. Visit https://platform.openai.com/account/rate-limits to learn more..\n"
          ]
        },
        {
          "output_type": "stream",
          "name": "stdout",
          "text": [
            "AQL Result:\n",
            "\u001b[32;1m\u001b[1;3m[{'_key': 'DRC7400', '_id': 'Event/DRC7400', '_rev': '_g4WX1A2--l', 'date': '2013-05-11T00:00:00.000Z', 'dateStamp': 1368230400000, 'description': 'The chief local political leader in Kalonge was assassinated by an armed group.', 'fatalities': 1, 'geo': {'type': 'Point', 'coordinates': [-2.331, 28.729]}, 'name': 'The chief local political lead', 'label': 'Violence_against_civilians'}, {'_key': 'DRC7799', '_id': 'Event/DRC7799', '_rev': '_g4WX1iG--g', 'date': '2013-11-15T00:00:00.000Z', 'dateStamp': 1384473600000, 'description': 'Armed men reportedly tried to assassinate a member of the Kyaghanda socio-cultural group in Kinshasa. He was beaten into a coma.', 'fatalities': 0, 'geo': {'type': 'Point', 'coordinates': [-4.325, 15.322]}, 'name': 'Armed men reportedly tried to ', 'label': 'Violence_against_civilians'}, {'_key': 'DRC7882', '_id': 'Event/DRC7882', '_rev': '_g4WX1qa--N', 'date': '2014-01-03T00:00:00.000Z', 'dateStamp': 1388707200000, 'description': 'Protesters gathered in Eringeti, protesting the assassination of Colonel Mamadou Ndala.', 'fatalities': 0, 'geo': {'type': 'Point', 'coordinates': [0.852, 29.612]}, 'name': 'Protesters gathered in Eringet', 'label': 'Protests'}, {'_key': 'DRC7883', '_id': 'Event/DRC7883', '_rev': '_g4WX1qa--O', 'date': '2014-01-03T00:00:00.000Z', 'dateStamp': 1388707200000, 'description': 'Protesters gathered in Mbau, protesting the assassination of Colonel Mamadou Ndala.', 'fatalities': 0, 'geo': {'type': 'Point', 'coordinates': [0.653, 29.496]}, 'name': 'Protesters gathered in Mbau, p', 'label': 'Protests'}, {'_key': 'DRC7884', '_id': 'Event/DRC7884', '_rev': '_g4WX1qa--P', 'date': '2014-01-03T00:00:00.000Z', 'dateStamp': 1388707200000, 'description': 'Protesters gathered in Muwanga, protesting the assassination of Colonel Mamadou Ndala.', 'fatalities': 0, 'geo': {'type': 'Point', 'coordinates': [0.333, 29.75]}, 'name': 'Protesters gathered in Muwanga', 'label': 'Protests'}]\u001b[0m\n"
          ]
        },
        {
          "output_type": "stream",
          "name": "stderr",
          "text": [
            "WARNING:langchain.llms.base:Retrying langchain.chat_models.openai.ChatOpenAI.completion_with_retry.<locals>._completion_with_retry in 4.0 seconds as it raised RateLimitError: Rate limit reached for gpt-4 in organization org-64PhSWcD9qZwtHC2EgGYxpxI on tokens per min. Limit: 10000 / min. Please try again in 6ms. Visit https://platform.openai.com/account/rate-limits to learn more..\n",
            "WARNING:langchain.llms.base:Retrying langchain.chat_models.openai.ChatOpenAI.completion_with_retry.<locals>._completion_with_retry in 4.0 seconds as it raised RateLimitError: Rate limit reached for gpt-4 in organization org-64PhSWcD9qZwtHC2EgGYxpxI on tokens per min. Limit: 10000 / min. Please try again in 6ms. Visit https://platform.openai.com/account/rate-limits to learn more..\n"
          ]
        },
        {
          "output_type": "stream",
          "name": "stdout",
          "text": [
            "\n",
            "\u001b[1m> Finished chain.\u001b[0m\n"
          ]
        },
        {
          "output_type": "execute_result",
          "data": {
            "text/plain": [
              "'The search for events related to assassinations returned five results. \\n\\n1. The first event took place on May 11, 2013, where the chief local political leader in Kalonge was assassinated by an armed group. This event resulted in one fatality.\\n\\n2. The second event occurred on November 15, 2013, in Kinshasa. Armed men reportedly tried to assassinate a member of the Kyaghanda socio-cultural group. The victim was beaten into a coma, but there were no fatalities.\\n\\n3. The third, fourth, and fifth events are related and took place on January 3, 2014. These events were protests in Eringeti, Mbau, and Muwanga, respectively, against the assassination of Colonel Mamadou Ndala. There were no fatalities reported in these protests.'"
            ],
            "application/vnd.google.colaboratory.intrinsic+json": {
              "type": "string"
            }
          },
          "metadata": {},
          "execution_count": 55
        }
      ],
      "source": [
        "# ArangoSearch + LangChain\n",
        "\n",
        "db.create_view(\n",
        "    \"EventView\",\n",
        "    \"arangosearch\",\n",
        "    {\n",
        "        \"links\": {\n",
        "            \"Event\": {\n",
        "                \"analyzers\": [\"text_en\"],\n",
        "                \"fields\": {\n",
        "                    \"description\": {\n",
        "                        \"analyzers\": [\"text_en\"],\n",
        "                    },\n",
        "                },\n",
        "                \"includeAllFields\": True,\n",
        "                \"storeValues\": \"none\",\n",
        "                \"trackListPositions\": False,\n",
        "            },\n",
        "        }\n",
        "    },\n",
        ")\n",
        "\n",
        "chain.run(\"ArangoSearch: Fetch me events related to some kind of assassination. Use the EventView\")"
      ],
      "id": "TFEu7Awe4OY5"
    },
    {
      "cell_type": "markdown",
      "metadata": {
        "id": "oxBOh1T1Xlpw"
      },
      "source": [
        "---\n",
        "## Prompt Engineering"
      ],
      "id": "oxBOh1T1Xlpw"
    },
    {
      "cell_type": "markdown",
      "metadata": {
        "id": "Za7SZWjzcH1K"
      },
      "source": [
        "##### via Prompt Modifiers"
      ],
      "id": "Za7SZWjzcH1K"
    },
    {
      "cell_type": "markdown",
      "source": [
        "You can alter the values of the following `ArangoDBGraphQAChain` class variables to modify the behaviour of your chain results\n"
      ],
      "metadata": {
        "id": "KQoClTt2A12u"
      },
      "id": "KQoClTt2A12u"
    },
    {
      "cell_type": "code",
      "execution_count": 56,
      "metadata": {
        "id": "UBisL7e4cULB",
        "colab": {
          "base_uri": "https://localhost:8080/",
          "height": 316
        },
        "outputId": "d939e9fc-9810-4fb5-f021-d057b64750cf"
      },
      "outputs": [
        {
          "output_type": "stream",
          "name": "stdout",
          "text": [
            "\n",
            "\n",
            "\u001b[1m> Entering new ArangoGraphQAChain chain...\u001b[0m\n"
          ]
        },
        {
          "output_type": "stream",
          "name": "stderr",
          "text": [
            "WARNING:langchain.llms.base:Retrying langchain.chat_models.openai.ChatOpenAI.completion_with_retry.<locals>._completion_with_retry in 4.0 seconds as it raised RateLimitError: Rate limit reached for gpt-4 in organization org-64PhSWcD9qZwtHC2EgGYxpxI on tokens per min. Limit: 10000 / min. Please try again in 6ms. Visit https://platform.openai.com/account/rate-limits to learn more..\n"
          ]
        },
        {
          "output_type": "stream",
          "name": "stdout",
          "text": [
            "AQL Query (1):\u001b[32;1m\u001b[1;3m\n",
            "WITH Characters, ChildOf\n",
            "FOR v, e IN 2..2 OUTBOUND 'Characters/RickardStark' ChildOf\n",
            "RETURN v\n",
            "\u001b[0m\n",
            "AQL Result:\n",
            "\u001b[32;1m\u001b[1;3m[]\u001b[0m\n"
          ]
        },
        {
          "output_type": "stream",
          "name": "stderr",
          "text": [
            "WARNING:langchain.llms.base:Retrying langchain.chat_models.openai.ChatOpenAI.completion_with_retry.<locals>._completion_with_retry in 4.0 seconds as it raised RateLimitError: Rate limit reached for gpt-4 in organization org-64PhSWcD9qZwtHC2EgGYxpxI on tokens per min. Limit: 10000 / min. Please try again in 6ms. Visit https://platform.openai.com/account/rate-limits to learn more..\n",
            "WARNING:langchain.llms.base:Retrying langchain.chat_models.openai.ChatOpenAI.completion_with_retry.<locals>._completion_with_retry in 4.0 seconds as it raised RateLimitError: Rate limit reached for gpt-4 in organization org-64PhSWcD9qZwtHC2EgGYxpxI on tokens per min. Limit: 10000 / min. Please try again in 6ms. Visit https://platform.openai.com/account/rate-limits to learn more..\n"
          ]
        },
        {
          "output_type": "stream",
          "name": "stdout",
          "text": [
            "\n",
            "\u001b[1m> Finished chain.\u001b[0m\n"
          ]
        },
        {
          "output_type": "execute_result",
          "data": {
            "text/plain": [
              "'Rickard Stark does not have any recorded grandchildren in the database.'"
            ],
            "application/vnd.google.colaboratory.intrinsic+json": {
              "type": "string"
            }
          },
          "metadata": {},
          "execution_count": 56
        }
      ],
      "source": [
        "# Notice how the following prompt returns nothing;\n",
        "chain.run(\"Who are the grandchildren of Rickard Stark?\")"
      ],
      "id": "UBisL7e4cULB"
    },
    {
      "cell_type": "code",
      "source": [
        "# A simple reminder to use INBOUND (instead of OUTBOUND) returns the correct result;\n",
        "chain.run(\"Who are the grandchildren of Rickard Stark? Remember to use INBOUND\")"
      ],
      "metadata": {
        "id": "mgbv2_MoAqHL",
        "outputId": "05d0f749-8b6e-4604-e55f-b79f51249939",
        "colab": {
          "base_uri": "https://localhost:8080/",
          "height": 368
        }
      },
      "id": "mgbv2_MoAqHL",
      "execution_count": 57,
      "outputs": [
        {
          "output_type": "stream",
          "name": "stderr",
          "text": [
            "WARNING:langchain.llms.base:Retrying langchain.chat_models.openai.ChatOpenAI.completion_with_retry.<locals>._completion_with_retry in 4.0 seconds as it raised RateLimitError: Rate limit reached for gpt-4 in organization org-64PhSWcD9qZwtHC2EgGYxpxI on tokens per min. Limit: 10000 / min. Please try again in 6ms. Visit https://platform.openai.com/account/rate-limits to learn more..\n"
          ]
        },
        {
          "output_type": "stream",
          "name": "stdout",
          "text": [
            "\n",
            "\n",
            "\u001b[1m> Entering new ArangoGraphQAChain chain...\u001b[0m\n"
          ]
        },
        {
          "output_type": "stream",
          "name": "stderr",
          "text": [
            "WARNING:langchain.llms.base:Retrying langchain.chat_models.openai.ChatOpenAI.completion_with_retry.<locals>._completion_with_retry in 4.0 seconds as it raised RateLimitError: Rate limit reached for gpt-4 in organization org-64PhSWcD9qZwtHC2EgGYxpxI on tokens per min. Limit: 10000 / min. Please try again in 6ms. Visit https://platform.openai.com/account/rate-limits to learn more..\n",
            "WARNING:langchain.llms.base:Retrying langchain.chat_models.openai.ChatOpenAI.completion_with_retry.<locals>._completion_with_retry in 4.0 seconds as it raised RateLimitError: Rate limit reached for gpt-4 in organization org-64PhSWcD9qZwtHC2EgGYxpxI on tokens per min. Limit: 10000 / min. Please try again in 6ms. Visit https://platform.openai.com/account/rate-limits to learn more..\n",
            "WARNING:langchain.llms.base:Retrying langchain.chat_models.openai.ChatOpenAI.completion_with_retry.<locals>._completion_with_retry in 4.0 seconds as it raised RateLimitError: Rate limit reached for gpt-4 in organization org-64PhSWcD9qZwtHC2EgGYxpxI on tokens per min. Limit: 10000 / min. Please try again in 6ms. Visit https://platform.openai.com/account/rate-limits to learn more..\n"
          ]
        },
        {
          "output_type": "stream",
          "name": "stdout",
          "text": [
            "AQL Query (1):\u001b[32;1m\u001b[1;3m\n",
            "WITH Characters, ChildOf\n",
            "FOR v, e IN 2..2 INBOUND 'Characters/RickardStark' ChildOf\n",
            "RETURN v\n",
            "\u001b[0m\n",
            "AQL Result:\n",
            "\u001b[32;1m\u001b[1;3m[{'_key': 'JonSnow', '_id': 'Characters/JonSnow', '_rev': '_g4WcAvO---', 'name': 'Jon', 'surname': 'Snow', 'alive': True, 'age': 31, 'gender': 'male'}, {'_key': 'AryaStark', '_id': 'Characters/AryaStark', '_rev': '_g4WPppS--C', 'name': 'Arya', 'surname': 'Stark', 'alive': True, 'age': 11, 'gender': 'female'}, {'_key': 'SansaStark', '_id': 'Characters/SansaStark', '_rev': '_g4WPppS--F', 'name': 'Sansa', 'surname': 'Stark', 'alive': True, 'age': 13, 'gender': 'female'}, {'_key': 'RobbStark', '_id': 'Characters/RobbStark', '_rev': '_g4WPppS--E', 'name': 'Robb', 'surname': 'Stark', 'alive': False, 'age': 16, 'gender': 'male'}, {'_key': 'BranStark', '_id': 'Characters/BranStark', '_rev': '_g4WPppS--D', 'name': 'Bran', 'surname': 'Stark', 'alive': True, 'age': 10, 'gender': 'male'}]\u001b[0m\n"
          ]
        },
        {
          "output_type": "stream",
          "name": "stderr",
          "text": [
            "WARNING:langchain.llms.base:Retrying langchain.chat_models.openai.ChatOpenAI.completion_with_retry.<locals>._completion_with_retry in 4.0 seconds as it raised RateLimitError: Rate limit reached for gpt-4 in organization org-64PhSWcD9qZwtHC2EgGYxpxI on tokens per min. Limit: 10000 / min. Please try again in 6ms. Visit https://platform.openai.com/account/rate-limits to learn more..\n",
            "WARNING:langchain.llms.base:Retrying langchain.chat_models.openai.ChatOpenAI.completion_with_retry.<locals>._completion_with_retry in 4.0 seconds as it raised RateLimitError: Rate limit reached for gpt-4 in organization org-64PhSWcD9qZwtHC2EgGYxpxI on tokens per min. Limit: 10000 / min. Please try again in 6ms. Visit https://platform.openai.com/account/rate-limits to learn more..\n"
          ]
        },
        {
          "output_type": "stream",
          "name": "stdout",
          "text": [
            "\n",
            "\u001b[1m> Finished chain.\u001b[0m\n"
          ]
        },
        {
          "output_type": "execute_result",
          "data": {
            "text/plain": [
              "'The grandchildren of Rickard Stark are Jon Snow, Arya Stark, Sansa Stark, Robb Stark, and Bran Stark.'"
            ],
            "application/vnd.google.colaboratory.intrinsic+json": {
              "type": "string"
            }
          },
          "metadata": {},
          "execution_count": 57
        }
      ]
    },
    {
      "cell_type": "code",
      "source": [
        "# We can solidify this pattern by making using of **chain.aql_examples**\n",
        "\n",
        "# The AQL Examples modifier instructs the LLM to adapt its AQL-completion style\n",
        "# to the user’s examples. These examples arepassed to the AQL Generation Prompt\n",
        "# Template to promote few-shot-learning.\n",
        "\n",
        "chain.aql_examples = \"\"\"\n",
        "# Who are the grandchildren of Rickard Stark?\n",
        "WITH Characters, ChildOf\n",
        "FOR v, e IN 2..2 INBOUND 'Characters/RickardStark' ChildOf\n",
        "  RETURN v\n",
        "\n",
        "# Is Ned Stark alive?\n",
        "RETURN DOCUMENT('Characters/NedStark').alive\n",
        "\"\"\"\n",
        "\n",
        "# Note how we are no longer specifying the use of INBOUND\n",
        "chain.run(\"Who is the grandchildren of Tywin Lannister?\")"
      ],
      "metadata": {
        "id": "ws1lZaVyAsFd",
        "outputId": "4c9d4973-7c21-45b3-b06f-d9d1d056b723",
        "colab": {
          "base_uri": "https://localhost:8080/",
          "height": 368
        }
      },
      "id": "ws1lZaVyAsFd",
      "execution_count": 58,
      "outputs": [
        {
          "output_type": "stream",
          "name": "stderr",
          "text": [
            "WARNING:langchain.llms.base:Retrying langchain.chat_models.openai.ChatOpenAI.completion_with_retry.<locals>._completion_with_retry in 4.0 seconds as it raised RateLimitError: Rate limit reached for gpt-4 in organization org-64PhSWcD9qZwtHC2EgGYxpxI on tokens per min. Limit: 10000 / min. Please try again in 6ms. Visit https://platform.openai.com/account/rate-limits to learn more..\n"
          ]
        },
        {
          "output_type": "stream",
          "name": "stdout",
          "text": [
            "\n",
            "\n",
            "\u001b[1m> Entering new ArangoGraphQAChain chain...\u001b[0m\n"
          ]
        },
        {
          "output_type": "stream",
          "name": "stderr",
          "text": [
            "WARNING:langchain.llms.base:Retrying langchain.chat_models.openai.ChatOpenAI.completion_with_retry.<locals>._completion_with_retry in 4.0 seconds as it raised RateLimitError: Rate limit reached for gpt-4 in organization org-64PhSWcD9qZwtHC2EgGYxpxI on tokens per min. Limit: 10000 / min. Please try again in 6ms. Visit https://platform.openai.com/account/rate-limits to learn more..\n",
            "WARNING:langchain.llms.base:Retrying langchain.chat_models.openai.ChatOpenAI.completion_with_retry.<locals>._completion_with_retry in 4.0 seconds as it raised RateLimitError: Rate limit reached for gpt-4 in organization org-64PhSWcD9qZwtHC2EgGYxpxI on tokens per min. Limit: 10000 / min. Please try again in 6ms. Visit https://platform.openai.com/account/rate-limits to learn more..\n",
            "WARNING:langchain.llms.base:Retrying langchain.chat_models.openai.ChatOpenAI.completion_with_retry.<locals>._completion_with_retry in 4.0 seconds as it raised RateLimitError: Rate limit reached for gpt-4 in organization org-64PhSWcD9qZwtHC2EgGYxpxI on tokens per min. Limit: 10000 / min. Please try again in 6ms. Visit https://platform.openai.com/account/rate-limits to learn more..\n"
          ]
        },
        {
          "output_type": "stream",
          "name": "stdout",
          "text": [
            "AQL Query (1):\u001b[32;1m\u001b[1;3m\n",
            "WITH Characters, ChildOf\n",
            "FOR v, e IN 2..2 INBOUND 'Characters/TywinLannister' ChildOf\n",
            "  RETURN v\n",
            "\u001b[0m\n",
            "AQL Result:\n",
            "\u001b[32;1m\u001b[1;3m[{'_key': 'JoffreyBaratheon', '_id': 'Characters/JoffreyBaratheon', '_rev': '_g4WPppS--L', 'name': 'Joffrey', 'surname': 'Baratheon', 'alive': False, 'age': 19, 'gender': 'male'}, {'_key': 'JoffreyBaratheon', '_id': 'Characters/JoffreyBaratheon', '_rev': '_g4WPppS--L', 'name': 'Joffrey', 'surname': 'Baratheon', 'alive': False, 'age': 19, 'gender': 'male'}]\u001b[0m\n"
          ]
        },
        {
          "output_type": "stream",
          "name": "stderr",
          "text": [
            "WARNING:langchain.llms.base:Retrying langchain.chat_models.openai.ChatOpenAI.completion_with_retry.<locals>._completion_with_retry in 4.0 seconds as it raised RateLimitError: Rate limit reached for gpt-4 in organization org-64PhSWcD9qZwtHC2EgGYxpxI on tokens per min. Limit: 10000 / min. Please try again in 6ms. Visit https://platform.openai.com/account/rate-limits to learn more..\n",
            "WARNING:langchain.llms.base:Retrying langchain.chat_models.openai.ChatOpenAI.completion_with_retry.<locals>._completion_with_retry in 4.0 seconds as it raised RateLimitError: Rate limit reached for gpt-4 in organization org-64PhSWcD9qZwtHC2EgGYxpxI on tokens per min. Limit: 10000 / min. Please try again in 6ms. Visit https://platform.openai.com/account/rate-limits to learn more..\n"
          ]
        },
        {
          "output_type": "stream",
          "name": "stdout",
          "text": [
            "\n",
            "\u001b[1m> Finished chain.\u001b[0m\n"
          ]
        },
        {
          "output_type": "execute_result",
          "data": {
            "text/plain": [
              "'The grandchild of Tywin Lannister is Joffrey Baratheon.'"
            ],
            "application/vnd.google.colaboratory.intrinsic+json": {
              "type": "string"
            }
          },
          "metadata": {},
          "execution_count": 58
        }
      ]
    },
    {
      "cell_type": "code",
      "source": [
        "# Other modifiers include:\n",
        "\n",
        "# Specify the maximum number of AQL Query Results to return\n",
        "chain.top_k = 5\n",
        "\n",
        "# Specify the maximum amount of AQL Generation attempts that should be made\n",
        "# before returning an error\n",
        "chain.max_aql_generation_attempts = 5\n",
        "\n",
        "# Specify whether or not to return the AQL Query in the output dictionary\n",
        "# Use `chain(\"...\")` instead of `chain.run(\"...\")` to see this change\n",
        "chain.return_aql_query = True\n",
        "\n",
        "# Specify whether or not to return the AQL JSON Result in the output dictionary\n",
        "# Use `chain(\"...\")` instead of `chain.run(\"...\")` to see this change\n",
        "chain.return_aql_result = True"
      ],
      "metadata": {
        "id": "5_uzV29wAt5t"
      },
      "id": "5_uzV29wAt5t",
      "execution_count": 59,
      "outputs": []
    },
    {
      "cell_type": "markdown",
      "metadata": {
        "id": "eVA5LO7ScQr4"
      },
      "source": [
        "##### via Prompt Templates"
      ],
      "id": "eVA5LO7ScQr4"
    },
    {
      "cell_type": "code",
      "execution_count": 60,
      "metadata": {
        "id": "n-T-pDdkXoN6"
      },
      "outputs": [],
      "source": [
        "from langchain.prompts import PromptTemplate"
      ],
      "id": "n-T-pDdkXoN6"
    },
    {
      "cell_type": "markdown",
      "metadata": {
        "id": "mDGWCXM5Zjdm"
      },
      "source": [
        "###### Natural Language to AQL Template"
      ],
      "id": "mDGWCXM5Zjdm"
    },
    {
      "cell_type": "code",
      "execution_count": 61,
      "metadata": {
        "id": "p1RWpBJ0ZPPt"
      },
      "outputs": [],
      "source": [
        "AQL_GENERATION_TEMPLATE = \"\"\"Task: Generate an ArangoDB Query Language (AQL) query from a User Input.\n",
        "\n",
        "You are an ArangoDB Query Language (AQL) expert responsible for translating a `User Input` into an ArangoDB Query Language (AQL) query.\n",
        "\n",
        "You are given an `ArangoDB Schema`. It is a JSON Object containing:\n",
        "1. `Graph Schema`: Lists all Graphs within the ArangoDB Database Instance, along with their Edge Relationships.\n",
        "2. `Collection Schema`: Lists all Collections within the ArangoDB Database Instance, along with their document/edge properties and a document/edge example.\n",
        "\n",
        "You may also be given a set of `AQL Query Examples` to help you create the `AQL Query`. If provided, the `AQL Query Examples` should be used as a reference, similar to how `ArangoDB Schema` should be used.\n",
        "\n",
        "Things you should do:\n",
        "- Think step by step.\n",
        "- Rely on `ArangoDB Schema` and `AQL Query Examples` (if provided) to generate the query.\n",
        "- Begin the `AQL Query` by the `WITH` AQL keyword to specify all of the ArangoDB Collections required.\n",
        "- Return the `AQL Query` wrapped in 3 backticks (```).\n",
        "- Use only the provided relationship types and properties in the `ArangoDB Schema` and any `AQL Query Examples` queries.\n",
        "- Only answer to requests related to generating an AQL Query.\n",
        "- If a request is unrelated to generating AQL Query, say that you cannot help the user.\n",
        "\n",
        "Things you should not do:\n",
        "- Do not use any properties/relationships that can't be inferred from the `ArangoDB Schema` or the `AQL Query Examples`.\n",
        "- Do not include any text except the generated AQL Query.\n",
        "- Do not provide explanations or apologies in your responses.\n",
        "- Do not generate an AQL Query that removes or deletes any data.\n",
        "\n",
        "Under no circumstance should you generate an AQL Query that deletes any data whatsoever.\n",
        "\n",
        "ArangoDB Schema:\n",
        "{adb_schema}\n",
        "\n",
        "AQL Query Examples (Optional):\n",
        "{aql_examples}\n",
        "\n",
        "User Input:\n",
        "{user_input}\n",
        "\n",
        "AQL Query:\n",
        "\"\"\"\n",
        "\n",
        "AQL_GENERATION_PROMPT = PromptTemplate(\n",
        "    input_variables=[\"adb_schema\", \"aql_examples\", \"user_input\"],\n",
        "    template=AQL_GENERATION_TEMPLATE,\n",
        ")"
      ],
      "id": "p1RWpBJ0ZPPt"
    },
    {
      "cell_type": "markdown",
      "metadata": {
        "id": "Vjq45lbBZmao"
      },
      "source": [
        "###### AQL to AQL Template"
      ],
      "id": "Vjq45lbBZmao"
    },
    {
      "cell_type": "code",
      "execution_count": 62,
      "metadata": {
        "id": "noebhVf-ZVyD"
      },
      "outputs": [],
      "source": [
        "AQL_FIX_TEMPLATE = \"\"\"Task: Address the ArangoDB Query Language (AQL) error message of an ArangoDB Query Language query.\n",
        "\n",
        "You are an ArangoDB Query Language (AQL) expert responsible for correcting the provided `AQL Query` based on the provided `AQL Error`.\n",
        "\n",
        "The `AQL Error` explains why the `AQL Query` could not be executed in the database.\n",
        "The `AQL Error` may also contain the position of the error relative to the total number of lines of the `AQL Query`.\n",
        "For example, 'error X at position 2:5' denotes that the error X occurs on line 2, column 5 of the `AQL Query`.\n",
        "\n",
        "You are also given the `ArangoDB Schema`. It is a JSON Object containing:\n",
        "1. `Graph Schema`: Lists all Graphs within the ArangoDB Database Instance, along with their Edge Relationships.\n",
        "2. `Collection Schema`: Lists all Collections within the ArangoDB Database Instance, along with their document/edge properties and a document/edge example.\n",
        "\n",
        "You will output the `Corrected AQL Query` wrapped in 3 backticks (```). Do not include any text except the Corrected AQL Query.\n",
        "\n",
        "Remember to think step by step.\n",
        "\n",
        "ArangoDB Schema:\n",
        "{adb_schema}\n",
        "\n",
        "AQL Query:\n",
        "{aql_query}\n",
        "\n",
        "AQL Error:\n",
        "{aql_error}\n",
        "\n",
        "Corrected AQL Query:\n",
        "\"\"\"\n",
        "\n",
        "AQL_FIX_PROMPT = PromptTemplate(\n",
        "    input_variables=[\"adb_schema\", \"aql_query\", \"aql_error\"],\n",
        "    template=AQL_FIX_TEMPLATE,\n",
        ")"
      ],
      "id": "noebhVf-ZVyD"
    },
    {
      "cell_type": "markdown",
      "metadata": {
        "id": "w6_a0kCTZvhf"
      },
      "source": [
        "###### JSON to Natural Language Template"
      ],
      "id": "w6_a0kCTZvhf"
    },
    {
      "cell_type": "code",
      "execution_count": 63,
      "metadata": {
        "id": "z0vOjuZsZhr1"
      },
      "outputs": [],
      "source": [
        "AQL_QA_TEMPLATE = \"\"\"Task: Generate a natural language `Summary` from the results of an ArangoDB Query Language query.\n",
        "\n",
        "You are an ArangoDB Query Language (AQL) expert responsible for creating a well-written `Summary` from the `User Input` and associated `AQL Result`.\n",
        "\n",
        "A user has executed an ArangoDB Query Language query, which has returned the AQL Result in JSON format.\n",
        "You are responsible for creating an `Summary` based on the AQL Result.\n",
        "\n",
        "You are given the following information:\n",
        "- `ArangoDB Schema`: contains a schema representation of the user's ArangoDB Database.\n",
        "- `User Input`: the original question/request of the user, which has been translated into an AQL Query.\n",
        "- `AQL Query`: the AQL equivalent of the `User Input`, translated by another AI Model. Should you deem it to be incorrect, suggest a different AQL Query.\n",
        "- `AQL Result`: the JSON output returned by executing the `AQL Query` within the ArangoDB Database.\n",
        "\n",
        "Remember to think step by step.\n",
        "\n",
        "Your `Summary` should sound like it is a response to the `User Input`.\n",
        "Your `Summary` should not include any mention of the `AQL Query` or the `AQL Result`.\n",
        "\n",
        "ArangoDB Schema:\n",
        "{adb_schema}\n",
        "\n",
        "User Input:\n",
        "{user_input}\n",
        "\n",
        "AQL Query:\n",
        "{aql_query}\n",
        "\n",
        "AQL Result:\n",
        "{aql_result}\n",
        "\n",
        "Use sarcasm in your answer!\n",
        "\"\"\"\n",
        "\n",
        "\n",
        "AQL_QA_PROMPT = PromptTemplate(\n",
        "    input_variables=[\"adb_schema\", \"user_input\", \"aql_query\", \"aql_result\"],\n",
        "    template=AQL_QA_TEMPLATE,\n",
        ")"
      ],
      "id": "z0vOjuZsZhr1"
    },
    {
      "cell_type": "markdown",
      "metadata": {
        "id": "3lfUWSTuZ3qD"
      },
      "source": [
        "###### Reconfiguring LangChain"
      ],
      "id": "3lfUWSTuZ3qD"
    },
    {
      "cell_type": "code",
      "execution_count": 64,
      "metadata": {
        "id": "vah2VqAFZ24n"
      },
      "outputs": [],
      "source": [
        "modified_prompt_template_chain = ArangoGraphQAChain.from_llm(\n",
        "    model,\n",
        "    aql_generation_prompt=AQL_GENERATION_PROMPT,\n",
        "    aql_fix_prompt=AQL_FIX_PROMPT,\n",
        "    qa_prompt=AQL_QA_PROMPT,\n",
        "    graph=graph,\n",
        "    verbose=True\n",
        ")"
      ],
      "id": "vah2VqAFZ24n"
    },
    {
      "cell_type": "code",
      "execution_count": 65,
      "metadata": {
        "id": "haVUTdY6agoY"
      },
      "outputs": [],
      "source": [
        "# modified_prompt_template_chain.run(...)"
      ],
      "id": "haVUTdY6agoY"
    },
    {
      "cell_type": "markdown",
      "metadata": {
        "id": "MnR_Tup11DsD"
      },
      "source": [
        "---\n",
        "## Fine-Tuning"
      ],
      "id": "MnR_Tup11DsD"
    },
    {
      "cell_type": "markdown",
      "source": [
        "https://platform.openai.com/docs/guides/fine-tuning/create-a-fine-tuned-model"
      ],
      "metadata": {
        "id": "3E59pSTtbgrf"
      },
      "id": "3E59pSTtbgrf"
    },
    {
      "cell_type": "code",
      "execution_count": null,
      "metadata": {
        "id": "n7-rORDh7CMt"
      },
      "outputs": [],
      "source": [
        "# 1. Load the Training Data\n",
        "\n",
        "import json\n",
        "\n",
        "training_data = [\n",
        "    {\"messages\": [\n",
        "        {\"role\": \"user\", \"content\": \"How old is Ned Stark?\"},\n",
        "        {\"role\": \"assistant\", \"content\": \"RETURN DOCUMENT('Characters/NedStark').age\"}\n",
        "    ]},\n",
        "    {\"messages\": [\n",
        "        {\"role\": \"user\", \"content\": \"When did 'Event/X' occur?\"},\n",
        "        {\"role\": \"assistant\", \"content\": \"RETURN DOCUMENT('Event/X').date\"}\n",
        "    ]},\n",
        "    # ...\n",
        "]\n",
        "\n",
        "with open('aql.jsonl', 'w') as f:\n",
        "    for entry in training_data:\n",
        "        json_str = json.dumps(entry)\n",
        "        f.write(json_str + '\\n')"
      ],
      "id": "n7-rORDh7CMt"
    },
    {
      "cell_type": "code",
      "execution_count": null,
      "metadata": {
        "id": "FaiSUxYQ5hs-"
      },
      "outputs": [],
      "source": [
        "# 2. Create the OpenAI File\n",
        "\n",
        "import os\n",
        "import openai\n",
        "\n",
        "openai.api_key = os.getenv(\"OPENAI_API_KEY\")\n",
        "\n",
        "openai_file = openai.File.create(\n",
        "  file=open(\"aql.jsonl\", \"rb\"),\n",
        "  purpose='fine-tune'\n",
        ")\n",
        "\n",
        "openai_file"
      ],
      "id": "FaiSUxYQ5hs-"
    },
    {
      "cell_type": "code",
      "execution_count": null,
      "metadata": {
        "id": "SfRpsk5P55fG"
      },
      "outputs": [],
      "source": [
        "# 3. Trigger the Fine Tuning Job\n",
        "\n",
        "job = openai.FineTuningJob.create(training_file=openai_file[\"id\"], model=\"gpt-3.5-turbo\")\n",
        "\n",
        "job"
      ],
      "id": "SfRpsk5P55fG"
    },
    {
      "cell_type": "code",
      "execution_count": null,
      "metadata": {
        "id": "5ViAMMD88Yr8"
      },
      "outputs": [],
      "source": [
        "# 4. Wait for the Job to complete\n",
        "\n",
        "import time\n",
        "from datetime import datetime\n",
        "from IPython.display import clear_output\n",
        "\n",
        "job_status = job['status']\n",
        "while job['finished_at'] == None:\n",
        "    print(datetime.now().isoformat(), job_status)\n",
        "\n",
        "    time.sleep(5)\n",
        "    clear_output(wait=True)\n",
        "\n",
        "    job = openai.FineTuningJob.retrieve(job[\"id\"])\n",
        "    job_status = job['status']\n",
        "\n",
        "print('done!')"
      ],
      "id": "5ViAMMD88Yr8"
    },
    {
      "cell_type": "code",
      "execution_count": null,
      "metadata": {
        "id": "nFuHjaLB48-A"
      },
      "outputs": [],
      "source": [
        "# 5. Instantiate the OpenAI wrapper with the fine-tuned model\n",
        "\n",
        "ft_model = ChatOpenAI(temperature=0, model=job.fine_tuned_model)"
      ],
      "id": "nFuHjaLB48-A"
    },
    {
      "cell_type": "code",
      "execution_count": null,
      "metadata": {
        "id": "KXPh7yHIA_U5"
      },
      "outputs": [],
      "source": [
        "# 6. Re-instantiate the ArangoGraphQAChain object\n",
        "\n",
        "ft_chain = ArangoGraphQAChain.from_llm(ft_model, graph=graph, verbose=True)"
      ],
      "id": "KXPh7yHIA_U5"
    },
    {
      "cell_type": "code",
      "source": [
        "chain.run(\"When did Event/ALG7745 occur?\")\n",
        "chain.run(\"How old is Ned Stark?\")"
      ],
      "metadata": {
        "id": "idH45PJecBVp"
      },
      "execution_count": null,
      "outputs": [],
      "id": "idH45PJecBVp"
    },
    {
      "cell_type": "code",
      "source": [
        "ft_chain.run(\"When did Event/ALG7745 occur?\")\n",
        "ft_chain.run(\"How old is Ned Stark?\")"
      ],
      "metadata": {
        "id": "CkwCdtFjZmcE"
      },
      "execution_count": null,
      "outputs": [],
      "id": "CkwCdtFjZmcE"
    },
    {
      "cell_type": "markdown",
      "source": [
        "---\n",
        "## More Info\n",
        "\n",
        "- [ArangoDB: LLMs + Knowledge Graphs](https://arangodb.com/llm-knowledge-graph/)\n",
        "\n",
        "- [ArangoDB Empowers Large Language Models for Real-World Applications](https://arangodb.com/2023/08/bridging-knowledge-and-language-arangodb-empowers-large-language-models-for-real-world-applications/)"
      ],
      "metadata": {
        "id": "1yKcNlVvCRE9"
      },
      "id": "1yKcNlVvCRE9"
    }
  ],
  "metadata": {
    "colab": {
      "collapsed_sections": [
        "WejTADc2L72f",
        "MdTyIwWeL953",
        "Ob_3aGauGd7d",
        "7waPnt2pLx16"
      ],
      "provenance": []
    },
    "kernelspec": {
      "display_name": "Python 3 (ipykernel)",
      "language": "python",
      "name": "python3"
    },
    "language_info": {
      "codemirror_mode": {
        "name": "ipython",
        "version": 3
      },
      "file_extension": ".py",
      "mimetype": "text/x-python",
      "name": "python",
      "nbconvert_exporter": "python",
      "pygments_lexer": "ipython3",
      "version": "3.8.8"
    },
    "widgets": {
      "application/vnd.jupyter.widget-state+json": {
        "8fde743585434aa89eb7d5f7275e003c": {
          "model_module": "@jupyter-widgets/output",
          "model_name": "OutputModel",
          "model_module_version": "1.0.0",
          "state": {
            "_dom_classes": [],
            "_model_module": "@jupyter-widgets/output",
            "_model_module_version": "1.0.0",
            "_model_name": "OutputModel",
            "_view_count": null,
            "_view_module": "@jupyter-widgets/output",
            "_view_module_version": "1.0.0",
            "_view_name": "OutputView",
            "layout": "IPY_MODEL_7c3528c18d374217816fc65137afa389",
            "msg_id": "",
            "outputs": [
              {
                "output_type": "display_data",
                "data": {
                  "text/plain": "Downloading file for: eventActor \u001b[38;2;91;192;222m▰▰▰▱▱▱▱\u001b[0m \u001b[33m0:00:01\u001b[0m\n",
                  "text/html": "<pre style=\"white-space:pre;overflow-x:auto;line-height:normal;font-family:Menlo,'DejaVu Sans Mono',consolas,'Courier New',monospace\">Downloading file for: eventActor <span style=\"color: #5bc0de; text-decoration-color: #5bc0de\">▰▰▰▱▱▱▱</span> <span style=\"color: #808000; text-decoration-color: #808000\">0:00:01</span>\n</pre>\n"
                },
                "metadata": {}
              }
            ]
          }
        },
        "7c3528c18d374217816fc65137afa389": {
          "model_module": "@jupyter-widgets/base",
          "model_name": "LayoutModel",
          "model_module_version": "1.2.0",
          "state": {
            "_model_module": "@jupyter-widgets/base",
            "_model_module_version": "1.2.0",
            "_model_name": "LayoutModel",
            "_view_count": null,
            "_view_module": "@jupyter-widgets/base",
            "_view_module_version": "1.2.0",
            "_view_name": "LayoutView",
            "align_content": null,
            "align_items": null,
            "align_self": null,
            "border": null,
            "bottom": null,
            "display": null,
            "flex": null,
            "flex_flow": null,
            "grid_area": null,
            "grid_auto_columns": null,
            "grid_auto_flow": null,
            "grid_auto_rows": null,
            "grid_column": null,
            "grid_gap": null,
            "grid_row": null,
            "grid_template_areas": null,
            "grid_template_columns": null,
            "grid_template_rows": null,
            "height": null,
            "justify_content": null,
            "justify_items": null,
            "left": null,
            "margin": null,
            "max_height": null,
            "max_width": null,
            "min_height": null,
            "min_width": null,
            "object_fit": null,
            "object_position": null,
            "order": null,
            "overflow": null,
            "overflow_x": null,
            "overflow_y": null,
            "padding": null,
            "right": null,
            "top": null,
            "visibility": null,
            "width": null
          }
        },
        "560d060aca2b45d69bc225a0a793a7e1": {
          "model_module": "@jupyter-widgets/output",
          "model_name": "OutputModel",
          "model_module_version": "1.0.0",
          "state": {
            "_dom_classes": [],
            "_model_module": "@jupyter-widgets/output",
            "_model_module_version": "1.0.0",
            "_model_name": "OutputModel",
            "_view_count": null,
            "_view_module": "@jupyter-widgets/output",
            "_view_module_version": "1.0.0",
            "_view_name": "OutputView",
            "layout": "IPY_MODEL_b2bc64a6840d4f078dd294065ebe4e44",
            "msg_id": "",
            "outputs": [
              {
                "output_type": "display_data",
                "data": {
                  "text/plain": "Collection: eventActor \u001b[38;2;91;192;222m▰▰▰▱▱▱▱\u001b[0m \u001b[33m0:02:36\u001b[0m\n",
                  "text/html": "<pre style=\"white-space:pre;overflow-x:auto;line-height:normal;font-family:Menlo,'DejaVu Sans Mono',consolas,'Courier New',monospace\">Collection: eventActor <span style=\"color: #5bc0de; text-decoration-color: #5bc0de\">▰▰▰▱▱▱▱</span> <span style=\"color: #808000; text-decoration-color: #808000\">0:02:36</span>\n</pre>\n"
                },
                "metadata": {}
              }
            ]
          }
        },
        "b2bc64a6840d4f078dd294065ebe4e44": {
          "model_module": "@jupyter-widgets/base",
          "model_name": "LayoutModel",
          "model_module_version": "1.2.0",
          "state": {
            "_model_module": "@jupyter-widgets/base",
            "_model_module_version": "1.2.0",
            "_model_name": "LayoutModel",
            "_view_count": null,
            "_view_module": "@jupyter-widgets/base",
            "_view_module_version": "1.2.0",
            "_view_name": "LayoutView",
            "align_content": null,
            "align_items": null,
            "align_self": null,
            "border": null,
            "bottom": null,
            "display": null,
            "flex": null,
            "flex_flow": null,
            "grid_area": null,
            "grid_auto_columns": null,
            "grid_auto_flow": null,
            "grid_auto_rows": null,
            "grid_column": null,
            "grid_gap": null,
            "grid_row": null,
            "grid_template_areas": null,
            "grid_template_columns": null,
            "grid_template_rows": null,
            "height": null,
            "justify_content": null,
            "justify_items": null,
            "left": null,
            "margin": null,
            "max_height": null,
            "max_width": null,
            "min_height": null,
            "min_width": null,
            "object_fit": null,
            "object_position": null,
            "order": null,
            "overflow": null,
            "overflow_x": null,
            "overflow_y": null,
            "padding": null,
            "right": null,
            "top": null,
            "visibility": null,
            "width": null
          }
        },
        "517ef2fba91c4c5e905f6c9a860ed2aa": {
          "model_module": "@jupyter-widgets/output",
          "model_name": "OutputModel",
          "model_module_version": "1.0.0",
          "state": {
            "_dom_classes": [],
            "_model_module": "@jupyter-widgets/output",
            "_model_module_version": "1.0.0",
            "_model_name": "OutputModel",
            "_view_count": null,
            "_view_module": "@jupyter-widgets/output",
            "_view_module_version": "1.0.0",
            "_view_name": "OutputView",
            "layout": "IPY_MODEL_9bf64260e9f04c82963ee41002968c06",
            "msg_id": "",
            "outputs": [
              {
                "output_type": "display_data",
                "data": {
                  "text/plain": "Downloading file for: hasLocation \u001b[38;2;91;192;222m▰▱▱▱▱▱▱\u001b[0m \u001b[33m0:00:01\u001b[0m\n",
                  "text/html": "<pre style=\"white-space:pre;overflow-x:auto;line-height:normal;font-family:Menlo,'DejaVu Sans Mono',consolas,'Courier New',monospace\">Downloading file for: hasLocation <span style=\"color: #5bc0de; text-decoration-color: #5bc0de\">▰▱▱▱▱▱▱</span> <span style=\"color: #808000; text-decoration-color: #808000\">0:00:01</span>\n</pre>\n"
                },
                "metadata": {}
              }
            ]
          }
        },
        "9bf64260e9f04c82963ee41002968c06": {
          "model_module": "@jupyter-widgets/base",
          "model_name": "LayoutModel",
          "model_module_version": "1.2.0",
          "state": {
            "_model_module": "@jupyter-widgets/base",
            "_model_module_version": "1.2.0",
            "_model_name": "LayoutModel",
            "_view_count": null,
            "_view_module": "@jupyter-widgets/base",
            "_view_module_version": "1.2.0",
            "_view_name": "LayoutView",
            "align_content": null,
            "align_items": null,
            "align_self": null,
            "border": null,
            "bottom": null,
            "display": null,
            "flex": null,
            "flex_flow": null,
            "grid_area": null,
            "grid_auto_columns": null,
            "grid_auto_flow": null,
            "grid_auto_rows": null,
            "grid_column": null,
            "grid_gap": null,
            "grid_row": null,
            "grid_template_areas": null,
            "grid_template_columns": null,
            "grid_template_rows": null,
            "height": null,
            "justify_content": null,
            "justify_items": null,
            "left": null,
            "margin": null,
            "max_height": null,
            "max_width": null,
            "min_height": null,
            "min_width": null,
            "object_fit": null,
            "object_position": null,
            "order": null,
            "overflow": null,
            "overflow_x": null,
            "overflow_y": null,
            "padding": null,
            "right": null,
            "top": null,
            "visibility": null,
            "width": null
          }
        },
        "29bb3cf50b0647829d929ec7227069a2": {
          "model_module": "@jupyter-widgets/output",
          "model_name": "OutputModel",
          "model_module_version": "1.0.0",
          "state": {
            "_dom_classes": [],
            "_model_module": "@jupyter-widgets/output",
            "_model_module_version": "1.0.0",
            "_model_name": "OutputModel",
            "_view_count": null,
            "_view_module": "@jupyter-widgets/output",
            "_view_module_version": "1.0.0",
            "_view_name": "OutputView",
            "layout": "IPY_MODEL_7a069976ee77415b8439a2e3dd6e9883",
            "msg_id": "",
            "outputs": [
              {
                "output_type": "display_data",
                "data": {
                  "text/plain": "Collection: hasLocation \u001b[38;2;91;192;222m▰▰▱▱▱▱▱\u001b[0m \u001b[33m0:01:28\u001b[0m\n",
                  "text/html": "<pre style=\"white-space:pre;overflow-x:auto;line-height:normal;font-family:Menlo,'DejaVu Sans Mono',consolas,'Courier New',monospace\">Collection: hasLocation <span style=\"color: #5bc0de; text-decoration-color: #5bc0de\">▰▰▱▱▱▱▱</span> <span style=\"color: #808000; text-decoration-color: #808000\">0:01:28</span>\n</pre>\n"
                },
                "metadata": {}
              }
            ]
          }
        },
        "7a069976ee77415b8439a2e3dd6e9883": {
          "model_module": "@jupyter-widgets/base",
          "model_name": "LayoutModel",
          "model_module_version": "1.2.0",
          "state": {
            "_model_module": "@jupyter-widgets/base",
            "_model_module_version": "1.2.0",
            "_model_name": "LayoutModel",
            "_view_count": null,
            "_view_module": "@jupyter-widgets/base",
            "_view_module_version": "1.2.0",
            "_view_name": "LayoutView",
            "align_content": null,
            "align_items": null,
            "align_self": null,
            "border": null,
            "bottom": null,
            "display": null,
            "flex": null,
            "flex_flow": null,
            "grid_area": null,
            "grid_auto_columns": null,
            "grid_auto_flow": null,
            "grid_auto_rows": null,
            "grid_column": null,
            "grid_gap": null,
            "grid_row": null,
            "grid_template_areas": null,
            "grid_template_columns": null,
            "grid_template_rows": null,
            "height": null,
            "justify_content": null,
            "justify_items": null,
            "left": null,
            "margin": null,
            "max_height": null,
            "max_width": null,
            "min_height": null,
            "min_width": null,
            "object_fit": null,
            "object_position": null,
            "order": null,
            "overflow": null,
            "overflow_x": null,
            "overflow_y": null,
            "padding": null,
            "right": null,
            "top": null,
            "visibility": null,
            "width": null
          }
        },
        "47ede69125dc4004bdda547ac8e096b0": {
          "model_module": "@jupyter-widgets/output",
          "model_name": "OutputModel",
          "model_module_version": "1.0.0",
          "state": {
            "_dom_classes": [],
            "_model_module": "@jupyter-widgets/output",
            "_model_module_version": "1.0.0",
            "_model_name": "OutputModel",
            "_view_count": null,
            "_view_module": "@jupyter-widgets/output",
            "_view_module_version": "1.0.0",
            "_view_name": "OutputView",
            "layout": "IPY_MODEL_a8cc6940e2434af8aa7ab6b8ee84a7ff",
            "msg_id": "",
            "outputs": [
              {
                "output_type": "display_data",
                "data": {
                  "text/plain": "Downloading file for: hasSource \u001b[38;2;91;192;222m▰▱▱▱▱▱▱\u001b[0m \u001b[33m0:00:01\u001b[0m\n",
                  "text/html": "<pre style=\"white-space:pre;overflow-x:auto;line-height:normal;font-family:Menlo,'DejaVu Sans Mono',consolas,'Courier New',monospace\">Downloading file for: hasSource <span style=\"color: #5bc0de; text-decoration-color: #5bc0de\">▰▱▱▱▱▱▱</span> <span style=\"color: #808000; text-decoration-color: #808000\">0:00:01</span>\n</pre>\n"
                },
                "metadata": {}
              }
            ]
          }
        },
        "a8cc6940e2434af8aa7ab6b8ee84a7ff": {
          "model_module": "@jupyter-widgets/base",
          "model_name": "LayoutModel",
          "model_module_version": "1.2.0",
          "state": {
            "_model_module": "@jupyter-widgets/base",
            "_model_module_version": "1.2.0",
            "_model_name": "LayoutModel",
            "_view_count": null,
            "_view_module": "@jupyter-widgets/base",
            "_view_module_version": "1.2.0",
            "_view_name": "LayoutView",
            "align_content": null,
            "align_items": null,
            "align_self": null,
            "border": null,
            "bottom": null,
            "display": null,
            "flex": null,
            "flex_flow": null,
            "grid_area": null,
            "grid_auto_columns": null,
            "grid_auto_flow": null,
            "grid_auto_rows": null,
            "grid_column": null,
            "grid_gap": null,
            "grid_row": null,
            "grid_template_areas": null,
            "grid_template_columns": null,
            "grid_template_rows": null,
            "height": null,
            "justify_content": null,
            "justify_items": null,
            "left": null,
            "margin": null,
            "max_height": null,
            "max_width": null,
            "min_height": null,
            "min_width": null,
            "object_fit": null,
            "object_position": null,
            "order": null,
            "overflow": null,
            "overflow_x": null,
            "overflow_y": null,
            "padding": null,
            "right": null,
            "top": null,
            "visibility": null,
            "width": null
          }
        },
        "8b7da4be99a5409b99d09dffd3c69c1d": {
          "model_module": "@jupyter-widgets/output",
          "model_name": "OutputModel",
          "model_module_version": "1.0.0",
          "state": {
            "_dom_classes": [],
            "_model_module": "@jupyter-widgets/output",
            "_model_module_version": "1.0.0",
            "_model_name": "OutputModel",
            "_view_count": null,
            "_view_module": "@jupyter-widgets/output",
            "_view_module_version": "1.0.0",
            "_view_name": "OutputView",
            "layout": "IPY_MODEL_a8314198f7594405a3fba82eb92edede",
            "msg_id": "",
            "outputs": [
              {
                "output_type": "display_data",
                "data": {
                  "text/plain": "Collection: hasSource \u001b[38;2;91;192;222m▰▱▱▱▱▱▱\u001b[0m \u001b[33m0:01:29\u001b[0m\n",
                  "text/html": "<pre style=\"white-space:pre;overflow-x:auto;line-height:normal;font-family:Menlo,'DejaVu Sans Mono',consolas,'Courier New',monospace\">Collection: hasSource <span style=\"color: #5bc0de; text-decoration-color: #5bc0de\">▰▱▱▱▱▱▱</span> <span style=\"color: #808000; text-decoration-color: #808000\">0:01:29</span>\n</pre>\n"
                },
                "metadata": {}
              }
            ]
          }
        },
        "a8314198f7594405a3fba82eb92edede": {
          "model_module": "@jupyter-widgets/base",
          "model_name": "LayoutModel",
          "model_module_version": "1.2.0",
          "state": {
            "_model_module": "@jupyter-widgets/base",
            "_model_module_version": "1.2.0",
            "_model_name": "LayoutModel",
            "_view_count": null,
            "_view_module": "@jupyter-widgets/base",
            "_view_module_version": "1.2.0",
            "_view_name": "LayoutView",
            "align_content": null,
            "align_items": null,
            "align_self": null,
            "border": null,
            "bottom": null,
            "display": null,
            "flex": null,
            "flex_flow": null,
            "grid_area": null,
            "grid_auto_columns": null,
            "grid_auto_flow": null,
            "grid_auto_rows": null,
            "grid_column": null,
            "grid_gap": null,
            "grid_row": null,
            "grid_template_areas": null,
            "grid_template_columns": null,
            "grid_template_rows": null,
            "height": null,
            "justify_content": null,
            "justify_items": null,
            "left": null,
            "margin": null,
            "max_height": null,
            "max_width": null,
            "min_height": null,
            "min_width": null,
            "object_fit": null,
            "object_position": null,
            "order": null,
            "overflow": null,
            "overflow_x": null,
            "overflow_y": null,
            "padding": null,
            "right": null,
            "top": null,
            "visibility": null,
            "width": null
          }
        },
        "7c5b12b61607436d91534e8255bbcaeb": {
          "model_module": "@jupyter-widgets/output",
          "model_name": "OutputModel",
          "model_module_version": "1.0.0",
          "state": {
            "_dom_classes": [],
            "_model_module": "@jupyter-widgets/output",
            "_model_module_version": "1.0.0",
            "_model_name": "OutputModel",
            "_view_count": null,
            "_view_module": "@jupyter-widgets/output",
            "_view_module_version": "1.0.0",
            "_view_name": "OutputView",
            "layout": "IPY_MODEL_3daf2161467b4608a32bd25dd8c05c57",
            "msg_id": "",
            "outputs": [
              {
                "output_type": "display_data",
                "data": {
                  "text/plain": "Downloading file for: inCountry \u001b[38;2;91;192;222m▰▰▰▱▱▱▱\u001b[0m \u001b[33m0:00:00\u001b[0m\n",
                  "text/html": "<pre style=\"white-space:pre;overflow-x:auto;line-height:normal;font-family:Menlo,'DejaVu Sans Mono',consolas,'Courier New',monospace\">Downloading file for: inCountry <span style=\"color: #5bc0de; text-decoration-color: #5bc0de\">▰▰▰▱▱▱▱</span> <span style=\"color: #808000; text-decoration-color: #808000\">0:00:00</span>\n</pre>\n"
                },
                "metadata": {}
              }
            ]
          }
        },
        "3daf2161467b4608a32bd25dd8c05c57": {
          "model_module": "@jupyter-widgets/base",
          "model_name": "LayoutModel",
          "model_module_version": "1.2.0",
          "state": {
            "_model_module": "@jupyter-widgets/base",
            "_model_module_version": "1.2.0",
            "_model_name": "LayoutModel",
            "_view_count": null,
            "_view_module": "@jupyter-widgets/base",
            "_view_module_version": "1.2.0",
            "_view_name": "LayoutView",
            "align_content": null,
            "align_items": null,
            "align_self": null,
            "border": null,
            "bottom": null,
            "display": null,
            "flex": null,
            "flex_flow": null,
            "grid_area": null,
            "grid_auto_columns": null,
            "grid_auto_flow": null,
            "grid_auto_rows": null,
            "grid_column": null,
            "grid_gap": null,
            "grid_row": null,
            "grid_template_areas": null,
            "grid_template_columns": null,
            "grid_template_rows": null,
            "height": null,
            "justify_content": null,
            "justify_items": null,
            "left": null,
            "margin": null,
            "max_height": null,
            "max_width": null,
            "min_height": null,
            "min_width": null,
            "object_fit": null,
            "object_position": null,
            "order": null,
            "overflow": null,
            "overflow_x": null,
            "overflow_y": null,
            "padding": null,
            "right": null,
            "top": null,
            "visibility": null,
            "width": null
          }
        },
        "ae64218a099d497dac6467f710626b60": {
          "model_module": "@jupyter-widgets/output",
          "model_name": "OutputModel",
          "model_module_version": "1.0.0",
          "state": {
            "_dom_classes": [],
            "_model_module": "@jupyter-widgets/output",
            "_model_module_version": "1.0.0",
            "_model_name": "OutputModel",
            "_view_count": null,
            "_view_module": "@jupyter-widgets/output",
            "_view_module_version": "1.0.0",
            "_view_name": "OutputView",
            "layout": "IPY_MODEL_076c83319567450b814e1496d2921f25",
            "msg_id": "",
            "outputs": [
              {
                "output_type": "display_data",
                "data": {
                  "text/plain": "Collection: inCountry \u001b[38;2;91;192;222m▰▰▰▰▰▰▰\u001b[0m \u001b[33m0:00:12\u001b[0m\n",
                  "text/html": "<pre style=\"white-space:pre;overflow-x:auto;line-height:normal;font-family:Menlo,'DejaVu Sans Mono',consolas,'Courier New',monospace\">Collection: inCountry <span style=\"color: #5bc0de; text-decoration-color: #5bc0de\">▰▰▰▰▰▰▰</span> <span style=\"color: #808000; text-decoration-color: #808000\">0:00:12</span>\n</pre>\n"
                },
                "metadata": {}
              }
            ]
          }
        },
        "076c83319567450b814e1496d2921f25": {
          "model_module": "@jupyter-widgets/base",
          "model_name": "LayoutModel",
          "model_module_version": "1.2.0",
          "state": {
            "_model_module": "@jupyter-widgets/base",
            "_model_module_version": "1.2.0",
            "_model_name": "LayoutModel",
            "_view_count": null,
            "_view_module": "@jupyter-widgets/base",
            "_view_module_version": "1.2.0",
            "_view_name": "LayoutView",
            "align_content": null,
            "align_items": null,
            "align_self": null,
            "border": null,
            "bottom": null,
            "display": null,
            "flex": null,
            "flex_flow": null,
            "grid_area": null,
            "grid_auto_columns": null,
            "grid_auto_flow": null,
            "grid_auto_rows": null,
            "grid_column": null,
            "grid_gap": null,
            "grid_row": null,
            "grid_template_areas": null,
            "grid_template_columns": null,
            "grid_template_rows": null,
            "height": null,
            "justify_content": null,
            "justify_items": null,
            "left": null,
            "margin": null,
            "max_height": null,
            "max_width": null,
            "min_height": null,
            "min_width": null,
            "object_fit": null,
            "object_position": null,
            "order": null,
            "overflow": null,
            "overflow_x": null,
            "overflow_y": null,
            "padding": null,
            "right": null,
            "top": null,
            "visibility": null,
            "width": null
          }
        },
        "e8e740335a8f489bac8ddcb1e985ce23": {
          "model_module": "@jupyter-widgets/output",
          "model_name": "OutputModel",
          "model_module_version": "1.0.0",
          "state": {
            "_dom_classes": [],
            "_model_module": "@jupyter-widgets/output",
            "_model_module_version": "1.0.0",
            "_model_name": "OutputModel",
            "_view_count": null,
            "_view_module": "@jupyter-widgets/output",
            "_view_module_version": "1.0.0",
            "_view_name": "OutputView",
            "layout": "IPY_MODEL_90f2fe9c17404bb1b269b19a8663e1ab",
            "msg_id": "",
            "outputs": [
              {
                "output_type": "display_data",
                "data": {
                  "text/plain": "Downloading file for: inRegion \u001b[38;2;91;192;222m▰▰▰▰▰▰▱\u001b[0m \u001b[33m0:00:00\u001b[0m\n",
                  "text/html": "<pre style=\"white-space:pre;overflow-x:auto;line-height:normal;font-family:Menlo,'DejaVu Sans Mono',consolas,'Courier New',monospace\">Downloading file for: inRegion <span style=\"color: #5bc0de; text-decoration-color: #5bc0de\">▰▰▰▰▰▰▱</span> <span style=\"color: #808000; text-decoration-color: #808000\">0:00:00</span>\n</pre>\n"
                },
                "metadata": {}
              }
            ]
          }
        },
        "90f2fe9c17404bb1b269b19a8663e1ab": {
          "model_module": "@jupyter-widgets/base",
          "model_name": "LayoutModel",
          "model_module_version": "1.2.0",
          "state": {
            "_model_module": "@jupyter-widgets/base",
            "_model_module_version": "1.2.0",
            "_model_name": "LayoutModel",
            "_view_count": null,
            "_view_module": "@jupyter-widgets/base",
            "_view_module_version": "1.2.0",
            "_view_name": "LayoutView",
            "align_content": null,
            "align_items": null,
            "align_self": null,
            "border": null,
            "bottom": null,
            "display": null,
            "flex": null,
            "flex_flow": null,
            "grid_area": null,
            "grid_auto_columns": null,
            "grid_auto_flow": null,
            "grid_auto_rows": null,
            "grid_column": null,
            "grid_gap": null,
            "grid_row": null,
            "grid_template_areas": null,
            "grid_template_columns": null,
            "grid_template_rows": null,
            "height": null,
            "justify_content": null,
            "justify_items": null,
            "left": null,
            "margin": null,
            "max_height": null,
            "max_width": null,
            "min_height": null,
            "min_width": null,
            "object_fit": null,
            "object_position": null,
            "order": null,
            "overflow": null,
            "overflow_x": null,
            "overflow_y": null,
            "padding": null,
            "right": null,
            "top": null,
            "visibility": null,
            "width": null
          }
        },
        "800c84e0f8f34641afef24cc515e8b40": {
          "model_module": "@jupyter-widgets/output",
          "model_name": "OutputModel",
          "model_module_version": "1.0.0",
          "state": {
            "_dom_classes": [],
            "_model_module": "@jupyter-widgets/output",
            "_model_module_version": "1.0.0",
            "_model_name": "OutputModel",
            "_view_count": null,
            "_view_module": "@jupyter-widgets/output",
            "_view_module_version": "1.0.0",
            "_view_name": "OutputView",
            "layout": "IPY_MODEL_038f63559c7e439f94eb5cf8f4ec61c7",
            "msg_id": "",
            "outputs": [
              {
                "output_type": "display_data",
                "data": {
                  "text/plain": "Collection: inRegion \u001b[38;2;91;192;222m▰▱▱▱▱▱▱\u001b[0m \u001b[33m0:00:00\u001b[0m\n",
                  "text/html": "<pre style=\"white-space:pre;overflow-x:auto;line-height:normal;font-family:Menlo,'DejaVu Sans Mono',consolas,'Courier New',monospace\">Collection: inRegion <span style=\"color: #5bc0de; text-decoration-color: #5bc0de\">▰▱▱▱▱▱▱</span> <span style=\"color: #808000; text-decoration-color: #808000\">0:00:00</span>\n</pre>\n"
                },
                "metadata": {}
              }
            ]
          }
        },
        "038f63559c7e439f94eb5cf8f4ec61c7": {
          "model_module": "@jupyter-widgets/base",
          "model_name": "LayoutModel",
          "model_module_version": "1.2.0",
          "state": {
            "_model_module": "@jupyter-widgets/base",
            "_model_module_version": "1.2.0",
            "_model_name": "LayoutModel",
            "_view_count": null,
            "_view_module": "@jupyter-widgets/base",
            "_view_module_version": "1.2.0",
            "_view_name": "LayoutView",
            "align_content": null,
            "align_items": null,
            "align_self": null,
            "border": null,
            "bottom": null,
            "display": null,
            "flex": null,
            "flex_flow": null,
            "grid_area": null,
            "grid_auto_columns": null,
            "grid_auto_flow": null,
            "grid_auto_rows": null,
            "grid_column": null,
            "grid_gap": null,
            "grid_row": null,
            "grid_template_areas": null,
            "grid_template_columns": null,
            "grid_template_rows": null,
            "height": null,
            "justify_content": null,
            "justify_items": null,
            "left": null,
            "margin": null,
            "max_height": null,
            "max_width": null,
            "min_height": null,
            "min_width": null,
            "object_fit": null,
            "object_position": null,
            "order": null,
            "overflow": null,
            "overflow_x": null,
            "overflow_y": null,
            "padding": null,
            "right": null,
            "top": null,
            "visibility": null,
            "width": null
          }
        },
        "f469122192a2441397c6dd7415cf0461": {
          "model_module": "@jupyter-widgets/output",
          "model_name": "OutputModel",
          "model_module_version": "1.0.0",
          "state": {
            "_dom_classes": [],
            "_model_module": "@jupyter-widgets/output",
            "_model_module_version": "1.0.0",
            "_model_name": "OutputModel",
            "_view_count": null,
            "_view_module": "@jupyter-widgets/output",
            "_view_module_version": "1.0.0",
            "_view_name": "OutputView",
            "layout": "IPY_MODEL_32670bf6bbda48fc8b16b3d66737f9e5",
            "msg_id": "",
            "outputs": [
              {
                "output_type": "display_data",
                "data": {
                  "text/plain": "Downloading file for: subClass \u001b[38;2;91;192;222m▰▰▰▰▱▱▱\u001b[0m \u001b[33m0:00:00\u001b[0m\n",
                  "text/html": "<pre style=\"white-space:pre;overflow-x:auto;line-height:normal;font-family:Menlo,'DejaVu Sans Mono',consolas,'Courier New',monospace\">Downloading file for: subClass <span style=\"color: #5bc0de; text-decoration-color: #5bc0de\">▰▰▰▰▱▱▱</span> <span style=\"color: #808000; text-decoration-color: #808000\">0:00:00</span>\n</pre>\n"
                },
                "metadata": {}
              }
            ]
          }
        },
        "32670bf6bbda48fc8b16b3d66737f9e5": {
          "model_module": "@jupyter-widgets/base",
          "model_name": "LayoutModel",
          "model_module_version": "1.2.0",
          "state": {
            "_model_module": "@jupyter-widgets/base",
            "_model_module_version": "1.2.0",
            "_model_name": "LayoutModel",
            "_view_count": null,
            "_view_module": "@jupyter-widgets/base",
            "_view_module_version": "1.2.0",
            "_view_name": "LayoutView",
            "align_content": null,
            "align_items": null,
            "align_self": null,
            "border": null,
            "bottom": null,
            "display": null,
            "flex": null,
            "flex_flow": null,
            "grid_area": null,
            "grid_auto_columns": null,
            "grid_auto_flow": null,
            "grid_auto_rows": null,
            "grid_column": null,
            "grid_gap": null,
            "grid_row": null,
            "grid_template_areas": null,
            "grid_template_columns": null,
            "grid_template_rows": null,
            "height": null,
            "justify_content": null,
            "justify_items": null,
            "left": null,
            "margin": null,
            "max_height": null,
            "max_width": null,
            "min_height": null,
            "min_width": null,
            "object_fit": null,
            "object_position": null,
            "order": null,
            "overflow": null,
            "overflow_x": null,
            "overflow_y": null,
            "padding": null,
            "right": null,
            "top": null,
            "visibility": null,
            "width": null
          }
        },
        "0231e40df96f4685853af6be4c226ccd": {
          "model_module": "@jupyter-widgets/output",
          "model_name": "OutputModel",
          "model_module_version": "1.0.0",
          "state": {
            "_dom_classes": [],
            "_model_module": "@jupyter-widgets/output",
            "_model_module_version": "1.0.0",
            "_model_name": "OutputModel",
            "_view_count": null,
            "_view_module": "@jupyter-widgets/output",
            "_view_module_version": "1.0.0",
            "_view_name": "OutputView",
            "layout": "IPY_MODEL_a4833a8b8ddf49a29e230b7633382c97",
            "msg_id": "",
            "outputs": [
              {
                "output_type": "display_data",
                "data": {
                  "text/plain": "Collection: subClass \u001b[38;2;91;192;222m▰▱▱▱▱▱▱\u001b[0m \u001b[33m0:00:00\u001b[0m\n",
                  "text/html": "<pre style=\"white-space:pre;overflow-x:auto;line-height:normal;font-family:Menlo,'DejaVu Sans Mono',consolas,'Courier New',monospace\">Collection: subClass <span style=\"color: #5bc0de; text-decoration-color: #5bc0de\">▰▱▱▱▱▱▱</span> <span style=\"color: #808000; text-decoration-color: #808000\">0:00:00</span>\n</pre>\n"
                },
                "metadata": {}
              }
            ]
          }
        },
        "a4833a8b8ddf49a29e230b7633382c97": {
          "model_module": "@jupyter-widgets/base",
          "model_name": "LayoutModel",
          "model_module_version": "1.2.0",
          "state": {
            "_model_module": "@jupyter-widgets/base",
            "_model_module_version": "1.2.0",
            "_model_name": "LayoutModel",
            "_view_count": null,
            "_view_module": "@jupyter-widgets/base",
            "_view_module_version": "1.2.0",
            "_view_name": "LayoutView",
            "align_content": null,
            "align_items": null,
            "align_self": null,
            "border": null,
            "bottom": null,
            "display": null,
            "flex": null,
            "flex_flow": null,
            "grid_area": null,
            "grid_auto_columns": null,
            "grid_auto_flow": null,
            "grid_auto_rows": null,
            "grid_column": null,
            "grid_gap": null,
            "grid_row": null,
            "grid_template_areas": null,
            "grid_template_columns": null,
            "grid_template_rows": null,
            "height": null,
            "justify_content": null,
            "justify_items": null,
            "left": null,
            "margin": null,
            "max_height": null,
            "max_width": null,
            "min_height": null,
            "min_width": null,
            "object_fit": null,
            "object_position": null,
            "order": null,
            "overflow": null,
            "overflow_x": null,
            "overflow_y": null,
            "padding": null,
            "right": null,
            "top": null,
            "visibility": null,
            "width": null
          }
        },
        "9749b436eb4c4db589a4ee1bc6b2a4a1": {
          "model_module": "@jupyter-widgets/output",
          "model_name": "OutputModel",
          "model_module_version": "1.0.0",
          "state": {
            "_dom_classes": [],
            "_model_module": "@jupyter-widgets/output",
            "_model_module_version": "1.0.0",
            "_model_name": "OutputModel",
            "_view_count": null,
            "_view_module": "@jupyter-widgets/output",
            "_view_module_version": "1.0.0",
            "_view_name": "OutputView",
            "layout": "IPY_MODEL_3f448d058e7f4026bb9472f6d75bb37d",
            "msg_id": "",
            "outputs": [
              {
                "output_type": "display_data",
                "data": {
                  "text/plain": "Downloading file for: type \u001b[38;2;91;192;222m▰▰▰▰▰▰▰\u001b[0m \u001b[33m0:00:01\u001b[0m\n",
                  "text/html": "<pre style=\"white-space:pre;overflow-x:auto;line-height:normal;font-family:Menlo,'DejaVu Sans Mono',consolas,'Courier New',monospace\">Downloading file for: type <span style=\"color: #5bc0de; text-decoration-color: #5bc0de\">▰▰▰▰▰▰▰</span> <span style=\"color: #808000; text-decoration-color: #808000\">0:00:01</span>\n</pre>\n"
                },
                "metadata": {}
              }
            ]
          }
        },
        "3f448d058e7f4026bb9472f6d75bb37d": {
          "model_module": "@jupyter-widgets/base",
          "model_name": "LayoutModel",
          "model_module_version": "1.2.0",
          "state": {
            "_model_module": "@jupyter-widgets/base",
            "_model_module_version": "1.2.0",
            "_model_name": "LayoutModel",
            "_view_count": null,
            "_view_module": "@jupyter-widgets/base",
            "_view_module_version": "1.2.0",
            "_view_name": "LayoutView",
            "align_content": null,
            "align_items": null,
            "align_self": null,
            "border": null,
            "bottom": null,
            "display": null,
            "flex": null,
            "flex_flow": null,
            "grid_area": null,
            "grid_auto_columns": null,
            "grid_auto_flow": null,
            "grid_auto_rows": null,
            "grid_column": null,
            "grid_gap": null,
            "grid_row": null,
            "grid_template_areas": null,
            "grid_template_columns": null,
            "grid_template_rows": null,
            "height": null,
            "justify_content": null,
            "justify_items": null,
            "left": null,
            "margin": null,
            "max_height": null,
            "max_width": null,
            "min_height": null,
            "min_width": null,
            "object_fit": null,
            "object_position": null,
            "order": null,
            "overflow": null,
            "overflow_x": null,
            "overflow_y": null,
            "padding": null,
            "right": null,
            "top": null,
            "visibility": null,
            "width": null
          }
        },
        "120ea4e65f1d4661a517124db27441ec": {
          "model_module": "@jupyter-widgets/output",
          "model_name": "OutputModel",
          "model_module_version": "1.0.0",
          "state": {
            "_dom_classes": [],
            "_model_module": "@jupyter-widgets/output",
            "_model_module_version": "1.0.0",
            "_model_name": "OutputModel",
            "_view_count": null,
            "_view_module": "@jupyter-widgets/output",
            "_view_module_version": "1.0.0",
            "_view_name": "OutputView",
            "layout": "IPY_MODEL_7958f825e9f94deca633250b252f444e",
            "msg_id": "",
            "outputs": [
              {
                "output_type": "display_data",
                "data": {
                  "text/plain": "Collection: type \u001b[38;2;91;192;222m▰▰▰▰▱▱▱\u001b[0m \u001b[33m0:01:27\u001b[0m\n",
                  "text/html": "<pre style=\"white-space:pre;overflow-x:auto;line-height:normal;font-family:Menlo,'DejaVu Sans Mono',consolas,'Courier New',monospace\">Collection: type <span style=\"color: #5bc0de; text-decoration-color: #5bc0de\">▰▰▰▰▱▱▱</span> <span style=\"color: #808000; text-decoration-color: #808000\">0:01:27</span>\n</pre>\n"
                },
                "metadata": {}
              }
            ]
          }
        },
        "7958f825e9f94deca633250b252f444e": {
          "model_module": "@jupyter-widgets/base",
          "model_name": "LayoutModel",
          "model_module_version": "1.2.0",
          "state": {
            "_model_module": "@jupyter-widgets/base",
            "_model_module_version": "1.2.0",
            "_model_name": "LayoutModel",
            "_view_count": null,
            "_view_module": "@jupyter-widgets/base",
            "_view_module_version": "1.2.0",
            "_view_name": "LayoutView",
            "align_content": null,
            "align_items": null,
            "align_self": null,
            "border": null,
            "bottom": null,
            "display": null,
            "flex": null,
            "flex_flow": null,
            "grid_area": null,
            "grid_auto_columns": null,
            "grid_auto_flow": null,
            "grid_auto_rows": null,
            "grid_column": null,
            "grid_gap": null,
            "grid_row": null,
            "grid_template_areas": null,
            "grid_template_columns": null,
            "grid_template_rows": null,
            "height": null,
            "justify_content": null,
            "justify_items": null,
            "left": null,
            "margin": null,
            "max_height": null,
            "max_width": null,
            "min_height": null,
            "min_width": null,
            "object_fit": null,
            "object_position": null,
            "order": null,
            "overflow": null,
            "overflow_x": null,
            "overflow_y": null,
            "padding": null,
            "right": null,
            "top": null,
            "visibility": null,
            "width": null
          }
        },
        "24aa0d592eb44e7383b75dd3cdd53c55": {
          "model_module": "@jupyter-widgets/output",
          "model_name": "OutputModel",
          "model_module_version": "1.0.0",
          "state": {
            "_dom_classes": [],
            "_model_module": "@jupyter-widgets/output",
            "_model_module_version": "1.0.0",
            "_model_name": "OutputModel",
            "_view_count": null,
            "_view_module": "@jupyter-widgets/output",
            "_view_module_version": "1.0.0",
            "_view_name": "OutputView",
            "layout": "IPY_MODEL_d77eb15cca4c4ed785bfd36dc80abb85",
            "msg_id": "",
            "outputs": [
              {
                "output_type": "display_data",
                "data": {
                  "text/plain": "Downloading file for: Actor \u001b[38;2;91;192;222m▰▱▱▱▱▱▱\u001b[0m \u001b[33m0:00:00\u001b[0m\n",
                  "text/html": "<pre style=\"white-space:pre;overflow-x:auto;line-height:normal;font-family:Menlo,'DejaVu Sans Mono',consolas,'Courier New',monospace\">Downloading file for: Actor <span style=\"color: #5bc0de; text-decoration-color: #5bc0de\">▰▱▱▱▱▱▱</span> <span style=\"color: #808000; text-decoration-color: #808000\">0:00:00</span>\n</pre>\n"
                },
                "metadata": {}
              }
            ]
          }
        },
        "d77eb15cca4c4ed785bfd36dc80abb85": {
          "model_module": "@jupyter-widgets/base",
          "model_name": "LayoutModel",
          "model_module_version": "1.2.0",
          "state": {
            "_model_module": "@jupyter-widgets/base",
            "_model_module_version": "1.2.0",
            "_model_name": "LayoutModel",
            "_view_count": null,
            "_view_module": "@jupyter-widgets/base",
            "_view_module_version": "1.2.0",
            "_view_name": "LayoutView",
            "align_content": null,
            "align_items": null,
            "align_self": null,
            "border": null,
            "bottom": null,
            "display": null,
            "flex": null,
            "flex_flow": null,
            "grid_area": null,
            "grid_auto_columns": null,
            "grid_auto_flow": null,
            "grid_auto_rows": null,
            "grid_column": null,
            "grid_gap": null,
            "grid_row": null,
            "grid_template_areas": null,
            "grid_template_columns": null,
            "grid_template_rows": null,
            "height": null,
            "justify_content": null,
            "justify_items": null,
            "left": null,
            "margin": null,
            "max_height": null,
            "max_width": null,
            "min_height": null,
            "min_width": null,
            "object_fit": null,
            "object_position": null,
            "order": null,
            "overflow": null,
            "overflow_x": null,
            "overflow_y": null,
            "padding": null,
            "right": null,
            "top": null,
            "visibility": null,
            "width": null
          }
        },
        "dd3c564baab74e5baec985b137adaf6a": {
          "model_module": "@jupyter-widgets/output",
          "model_name": "OutputModel",
          "model_module_version": "1.0.0",
          "state": {
            "_dom_classes": [],
            "_model_module": "@jupyter-widgets/output",
            "_model_module_version": "1.0.0",
            "_model_name": "OutputModel",
            "_view_count": null,
            "_view_module": "@jupyter-widgets/output",
            "_view_module_version": "1.0.0",
            "_view_name": "OutputView",
            "layout": "IPY_MODEL_2e47e3ce6af646b1b1f61ef22b53d8ab",
            "msg_id": "",
            "outputs": [
              {
                "output_type": "display_data",
                "data": {
                  "text/plain": "Collection: Actor \u001b[38;2;91;192;222m▰▰▰▰▰▰▱\u001b[0m \u001b[33m0:00:02\u001b[0m\n",
                  "text/html": "<pre style=\"white-space:pre;overflow-x:auto;line-height:normal;font-family:Menlo,'DejaVu Sans Mono',consolas,'Courier New',monospace\">Collection: Actor <span style=\"color: #5bc0de; text-decoration-color: #5bc0de\">▰▰▰▰▰▰▱</span> <span style=\"color: #808000; text-decoration-color: #808000\">0:00:02</span>\n</pre>\n"
                },
                "metadata": {}
              }
            ]
          }
        },
        "2e47e3ce6af646b1b1f61ef22b53d8ab": {
          "model_module": "@jupyter-widgets/base",
          "model_name": "LayoutModel",
          "model_module_version": "1.2.0",
          "state": {
            "_model_module": "@jupyter-widgets/base",
            "_model_module_version": "1.2.0",
            "_model_name": "LayoutModel",
            "_view_count": null,
            "_view_module": "@jupyter-widgets/base",
            "_view_module_version": "1.2.0",
            "_view_name": "LayoutView",
            "align_content": null,
            "align_items": null,
            "align_self": null,
            "border": null,
            "bottom": null,
            "display": null,
            "flex": null,
            "flex_flow": null,
            "grid_area": null,
            "grid_auto_columns": null,
            "grid_auto_flow": null,
            "grid_auto_rows": null,
            "grid_column": null,
            "grid_gap": null,
            "grid_row": null,
            "grid_template_areas": null,
            "grid_template_columns": null,
            "grid_template_rows": null,
            "height": null,
            "justify_content": null,
            "justify_items": null,
            "left": null,
            "margin": null,
            "max_height": null,
            "max_width": null,
            "min_height": null,
            "min_width": null,
            "object_fit": null,
            "object_position": null,
            "order": null,
            "overflow": null,
            "overflow_x": null,
            "overflow_y": null,
            "padding": null,
            "right": null,
            "top": null,
            "visibility": null,
            "width": null
          }
        },
        "f992c23ebdd24e0ea58442408b6821d4": {
          "model_module": "@jupyter-widgets/output",
          "model_name": "OutputModel",
          "model_module_version": "1.0.0",
          "state": {
            "_dom_classes": [],
            "_model_module": "@jupyter-widgets/output",
            "_model_module_version": "1.0.0",
            "_model_name": "OutputModel",
            "_view_count": null,
            "_view_module": "@jupyter-widgets/output",
            "_view_module_version": "1.0.0",
            "_view_name": "OutputView",
            "layout": "IPY_MODEL_87f79b8f613a4fb6a914aa0308878492",
            "msg_id": "",
            "outputs": [
              {
                "output_type": "display_data",
                "data": {
                  "text/plain": "Downloading file for: Class \u001b[38;2;91;192;222m▰▰▰▰▰▰▱\u001b[0m \u001b[33m0:00:00\u001b[0m\n",
                  "text/html": "<pre style=\"white-space:pre;overflow-x:auto;line-height:normal;font-family:Menlo,'DejaVu Sans Mono',consolas,'Courier New',monospace\">Downloading file for: Class <span style=\"color: #5bc0de; text-decoration-color: #5bc0de\">▰▰▰▰▰▰▱</span> <span style=\"color: #808000; text-decoration-color: #808000\">0:00:00</span>\n</pre>\n"
                },
                "metadata": {}
              }
            ]
          }
        },
        "87f79b8f613a4fb6a914aa0308878492": {
          "model_module": "@jupyter-widgets/base",
          "model_name": "LayoutModel",
          "model_module_version": "1.2.0",
          "state": {
            "_model_module": "@jupyter-widgets/base",
            "_model_module_version": "1.2.0",
            "_model_name": "LayoutModel",
            "_view_count": null,
            "_view_module": "@jupyter-widgets/base",
            "_view_module_version": "1.2.0",
            "_view_name": "LayoutView",
            "align_content": null,
            "align_items": null,
            "align_self": null,
            "border": null,
            "bottom": null,
            "display": null,
            "flex": null,
            "flex_flow": null,
            "grid_area": null,
            "grid_auto_columns": null,
            "grid_auto_flow": null,
            "grid_auto_rows": null,
            "grid_column": null,
            "grid_gap": null,
            "grid_row": null,
            "grid_template_areas": null,
            "grid_template_columns": null,
            "grid_template_rows": null,
            "height": null,
            "justify_content": null,
            "justify_items": null,
            "left": null,
            "margin": null,
            "max_height": null,
            "max_width": null,
            "min_height": null,
            "min_width": null,
            "object_fit": null,
            "object_position": null,
            "order": null,
            "overflow": null,
            "overflow_x": null,
            "overflow_y": null,
            "padding": null,
            "right": null,
            "top": null,
            "visibility": null,
            "width": null
          }
        },
        "1383dbaf37f24289990c88a252be4ca4": {
          "model_module": "@jupyter-widgets/output",
          "model_name": "OutputModel",
          "model_module_version": "1.0.0",
          "state": {
            "_dom_classes": [],
            "_model_module": "@jupyter-widgets/output",
            "_model_module_version": "1.0.0",
            "_model_name": "OutputModel",
            "_view_count": null,
            "_view_module": "@jupyter-widgets/output",
            "_view_module_version": "1.0.0",
            "_view_name": "OutputView",
            "layout": "IPY_MODEL_be89dae098644c8f810d284dc0edc7ad",
            "msg_id": "",
            "outputs": [
              {
                "output_type": "display_data",
                "data": {
                  "text/plain": "Collection: Class \u001b[38;2;91;192;222m▰▱▱▱▱▱▱\u001b[0m \u001b[33m0:00:00\u001b[0m\n",
                  "text/html": "<pre style=\"white-space:pre;overflow-x:auto;line-height:normal;font-family:Menlo,'DejaVu Sans Mono',consolas,'Courier New',monospace\">Collection: Class <span style=\"color: #5bc0de; text-decoration-color: #5bc0de\">▰▱▱▱▱▱▱</span> <span style=\"color: #808000; text-decoration-color: #808000\">0:00:00</span>\n</pre>\n"
                },
                "metadata": {}
              }
            ]
          }
        },
        "be89dae098644c8f810d284dc0edc7ad": {
          "model_module": "@jupyter-widgets/base",
          "model_name": "LayoutModel",
          "model_module_version": "1.2.0",
          "state": {
            "_model_module": "@jupyter-widgets/base",
            "_model_module_version": "1.2.0",
            "_model_name": "LayoutModel",
            "_view_count": null,
            "_view_module": "@jupyter-widgets/base",
            "_view_module_version": "1.2.0",
            "_view_name": "LayoutView",
            "align_content": null,
            "align_items": null,
            "align_self": null,
            "border": null,
            "bottom": null,
            "display": null,
            "flex": null,
            "flex_flow": null,
            "grid_area": null,
            "grid_auto_columns": null,
            "grid_auto_flow": null,
            "grid_auto_rows": null,
            "grid_column": null,
            "grid_gap": null,
            "grid_row": null,
            "grid_template_areas": null,
            "grid_template_columns": null,
            "grid_template_rows": null,
            "height": null,
            "justify_content": null,
            "justify_items": null,
            "left": null,
            "margin": null,
            "max_height": null,
            "max_width": null,
            "min_height": null,
            "min_width": null,
            "object_fit": null,
            "object_position": null,
            "order": null,
            "overflow": null,
            "overflow_x": null,
            "overflow_y": null,
            "padding": null,
            "right": null,
            "top": null,
            "visibility": null,
            "width": null
          }
        },
        "ce5b2d7dda82459286d50fc0a0700c4a": {
          "model_module": "@jupyter-widgets/output",
          "model_name": "OutputModel",
          "model_module_version": "1.0.0",
          "state": {
            "_dom_classes": [],
            "_model_module": "@jupyter-widgets/output",
            "_model_module_version": "1.0.0",
            "_model_name": "OutputModel",
            "_view_count": null,
            "_view_module": "@jupyter-widgets/output",
            "_view_module_version": "1.0.0",
            "_view_name": "OutputView",
            "layout": "IPY_MODEL_e6b77da9e67243cdab922c19be2596e3",
            "msg_id": "",
            "outputs": [
              {
                "output_type": "display_data",
                "data": {
                  "text/plain": "Downloading file for: Country \u001b[38;2;91;192;222m▰▰▰▰▰▰▱\u001b[0m \u001b[33m0:00:00\u001b[0m\n",
                  "text/html": "<pre style=\"white-space:pre;overflow-x:auto;line-height:normal;font-family:Menlo,'DejaVu Sans Mono',consolas,'Courier New',monospace\">Downloading file for: Country <span style=\"color: #5bc0de; text-decoration-color: #5bc0de\">▰▰▰▰▰▰▱</span> <span style=\"color: #808000; text-decoration-color: #808000\">0:00:00</span>\n</pre>\n"
                },
                "metadata": {}
              }
            ]
          }
        },
        "e6b77da9e67243cdab922c19be2596e3": {
          "model_module": "@jupyter-widgets/base",
          "model_name": "LayoutModel",
          "model_module_version": "1.2.0",
          "state": {
            "_model_module": "@jupyter-widgets/base",
            "_model_module_version": "1.2.0",
            "_model_name": "LayoutModel",
            "_view_count": null,
            "_view_module": "@jupyter-widgets/base",
            "_view_module_version": "1.2.0",
            "_view_name": "LayoutView",
            "align_content": null,
            "align_items": null,
            "align_self": null,
            "border": null,
            "bottom": null,
            "display": null,
            "flex": null,
            "flex_flow": null,
            "grid_area": null,
            "grid_auto_columns": null,
            "grid_auto_flow": null,
            "grid_auto_rows": null,
            "grid_column": null,
            "grid_gap": null,
            "grid_row": null,
            "grid_template_areas": null,
            "grid_template_columns": null,
            "grid_template_rows": null,
            "height": null,
            "justify_content": null,
            "justify_items": null,
            "left": null,
            "margin": null,
            "max_height": null,
            "max_width": null,
            "min_height": null,
            "min_width": null,
            "object_fit": null,
            "object_position": null,
            "order": null,
            "overflow": null,
            "overflow_x": null,
            "overflow_y": null,
            "padding": null,
            "right": null,
            "top": null,
            "visibility": null,
            "width": null
          }
        },
        "87108df30d5445aab6d443a3641dd824": {
          "model_module": "@jupyter-widgets/output",
          "model_name": "OutputModel",
          "model_module_version": "1.0.0",
          "state": {
            "_dom_classes": [],
            "_model_module": "@jupyter-widgets/output",
            "_model_module_version": "1.0.0",
            "_model_name": "OutputModel",
            "_view_count": null,
            "_view_module": "@jupyter-widgets/output",
            "_view_module_version": "1.0.0",
            "_view_name": "OutputView",
            "layout": "IPY_MODEL_ebdbfccc0a4e439495bc398f821a7481",
            "msg_id": "",
            "outputs": [
              {
                "output_type": "display_data",
                "data": {
                  "text/plain": "Collection: Country \u001b[38;2;91;192;222m▰▱▱▱▱▱▱\u001b[0m \u001b[33m0:00:00\u001b[0m\n",
                  "text/html": "<pre style=\"white-space:pre;overflow-x:auto;line-height:normal;font-family:Menlo,'DejaVu Sans Mono',consolas,'Courier New',monospace\">Collection: Country <span style=\"color: #5bc0de; text-decoration-color: #5bc0de\">▰▱▱▱▱▱▱</span> <span style=\"color: #808000; text-decoration-color: #808000\">0:00:00</span>\n</pre>\n"
                },
                "metadata": {}
              }
            ]
          }
        },
        "ebdbfccc0a4e439495bc398f821a7481": {
          "model_module": "@jupyter-widgets/base",
          "model_name": "LayoutModel",
          "model_module_version": "1.2.0",
          "state": {
            "_model_module": "@jupyter-widgets/base",
            "_model_module_version": "1.2.0",
            "_model_name": "LayoutModel",
            "_view_count": null,
            "_view_module": "@jupyter-widgets/base",
            "_view_module_version": "1.2.0",
            "_view_name": "LayoutView",
            "align_content": null,
            "align_items": null,
            "align_self": null,
            "border": null,
            "bottom": null,
            "display": null,
            "flex": null,
            "flex_flow": null,
            "grid_area": null,
            "grid_auto_columns": null,
            "grid_auto_flow": null,
            "grid_auto_rows": null,
            "grid_column": null,
            "grid_gap": null,
            "grid_row": null,
            "grid_template_areas": null,
            "grid_template_columns": null,
            "grid_template_rows": null,
            "height": null,
            "justify_content": null,
            "justify_items": null,
            "left": null,
            "margin": null,
            "max_height": null,
            "max_width": null,
            "min_height": null,
            "min_width": null,
            "object_fit": null,
            "object_position": null,
            "order": null,
            "overflow": null,
            "overflow_x": null,
            "overflow_y": null,
            "padding": null,
            "right": null,
            "top": null,
            "visibility": null,
            "width": null
          }
        },
        "11d37f6a5f154b2ea99cb398d198ef23": {
          "model_module": "@jupyter-widgets/output",
          "model_name": "OutputModel",
          "model_module_version": "1.0.0",
          "state": {
            "_dom_classes": [],
            "_model_module": "@jupyter-widgets/output",
            "_model_module_version": "1.0.0",
            "_model_name": "OutputModel",
            "_view_count": null,
            "_view_module": "@jupyter-widgets/output",
            "_view_module_version": "1.0.0",
            "_view_name": "OutputView",
            "layout": "IPY_MODEL_da186fa43306406586120a100da21cff",
            "msg_id": "",
            "outputs": [
              {
                "output_type": "display_data",
                "data": {
                  "text/plain": "Downloading file for: Event \u001b[38;2;91;192;222m▰▰▰▰▰▰▰\u001b[0m \u001b[33m0:00:03\u001b[0m\n",
                  "text/html": "<pre style=\"white-space:pre;overflow-x:auto;line-height:normal;font-family:Menlo,'DejaVu Sans Mono',consolas,'Courier New',monospace\">Downloading file for: Event <span style=\"color: #5bc0de; text-decoration-color: #5bc0de\">▰▰▰▰▰▰▰</span> <span style=\"color: #808000; text-decoration-color: #808000\">0:00:03</span>\n</pre>\n"
                },
                "metadata": {}
              }
            ]
          }
        },
        "da186fa43306406586120a100da21cff": {
          "model_module": "@jupyter-widgets/base",
          "model_name": "LayoutModel",
          "model_module_version": "1.2.0",
          "state": {
            "_model_module": "@jupyter-widgets/base",
            "_model_module_version": "1.2.0",
            "_model_name": "LayoutModel",
            "_view_count": null,
            "_view_module": "@jupyter-widgets/base",
            "_view_module_version": "1.2.0",
            "_view_name": "LayoutView",
            "align_content": null,
            "align_items": null,
            "align_self": null,
            "border": null,
            "bottom": null,
            "display": null,
            "flex": null,
            "flex_flow": null,
            "grid_area": null,
            "grid_auto_columns": null,
            "grid_auto_flow": null,
            "grid_auto_rows": null,
            "grid_column": null,
            "grid_gap": null,
            "grid_row": null,
            "grid_template_areas": null,
            "grid_template_columns": null,
            "grid_template_rows": null,
            "height": null,
            "justify_content": null,
            "justify_items": null,
            "left": null,
            "margin": null,
            "max_height": null,
            "max_width": null,
            "min_height": null,
            "min_width": null,
            "object_fit": null,
            "object_position": null,
            "order": null,
            "overflow": null,
            "overflow_x": null,
            "overflow_y": null,
            "padding": null,
            "right": null,
            "top": null,
            "visibility": null,
            "width": null
          }
        },
        "ea2a5b835a6149259378c30f71296140": {
          "model_module": "@jupyter-widgets/output",
          "model_name": "OutputModel",
          "model_module_version": "1.0.0",
          "state": {
            "_dom_classes": [],
            "_model_module": "@jupyter-widgets/output",
            "_model_module_version": "1.0.0",
            "_model_name": "OutputModel",
            "_view_count": null,
            "_view_module": "@jupyter-widgets/output",
            "_view_module_version": "1.0.0",
            "_view_name": "OutputView",
            "layout": "IPY_MODEL_95ba0920fc3f43df946074bbb81f2e5f",
            "msg_id": "",
            "outputs": [
              {
                "output_type": "display_data",
                "data": {
                  "text/plain": "Collection: Event \u001b[38;2;91;192;222m▰▱▱▱▱▱▱\u001b[0m \u001b[33m0:01:27\u001b[0m\n",
                  "text/html": "<pre style=\"white-space:pre;overflow-x:auto;line-height:normal;font-family:Menlo,'DejaVu Sans Mono',consolas,'Courier New',monospace\">Collection: Event <span style=\"color: #5bc0de; text-decoration-color: #5bc0de\">▰▱▱▱▱▱▱</span> <span style=\"color: #808000; text-decoration-color: #808000\">0:01:27</span>\n</pre>\n"
                },
                "metadata": {}
              }
            ]
          }
        },
        "95ba0920fc3f43df946074bbb81f2e5f": {
          "model_module": "@jupyter-widgets/base",
          "model_name": "LayoutModel",
          "model_module_version": "1.2.0",
          "state": {
            "_model_module": "@jupyter-widgets/base",
            "_model_module_version": "1.2.0",
            "_model_name": "LayoutModel",
            "_view_count": null,
            "_view_module": "@jupyter-widgets/base",
            "_view_module_version": "1.2.0",
            "_view_name": "LayoutView",
            "align_content": null,
            "align_items": null,
            "align_self": null,
            "border": null,
            "bottom": null,
            "display": null,
            "flex": null,
            "flex_flow": null,
            "grid_area": null,
            "grid_auto_columns": null,
            "grid_auto_flow": null,
            "grid_auto_rows": null,
            "grid_column": null,
            "grid_gap": null,
            "grid_row": null,
            "grid_template_areas": null,
            "grid_template_columns": null,
            "grid_template_rows": null,
            "height": null,
            "justify_content": null,
            "justify_items": null,
            "left": null,
            "margin": null,
            "max_height": null,
            "max_width": null,
            "min_height": null,
            "min_width": null,
            "object_fit": null,
            "object_position": null,
            "order": null,
            "overflow": null,
            "overflow_x": null,
            "overflow_y": null,
            "padding": null,
            "right": null,
            "top": null,
            "visibility": null,
            "width": null
          }
        },
        "9233228c73684a54afea4c38d09a0790": {
          "model_module": "@jupyter-widgets/output",
          "model_name": "OutputModel",
          "model_module_version": "1.0.0",
          "state": {
            "_dom_classes": [],
            "_model_module": "@jupyter-widgets/output",
            "_model_module_version": "1.0.0",
            "_model_name": "OutputModel",
            "_view_count": null,
            "_view_module": "@jupyter-widgets/output",
            "_view_module_version": "1.0.0",
            "_view_name": "OutputView",
            "layout": "IPY_MODEL_ab1b569a1dd34f81921e4d05b79e9358",
            "msg_id": "",
            "outputs": [
              {
                "output_type": "display_data",
                "data": {
                  "text/plain": "Downloading file for: Location \u001b[38;2;91;192;222m▰▰▰▱▱▱▱\u001b[0m \u001b[33m0:00:00\u001b[0m\n",
                  "text/html": "<pre style=\"white-space:pre;overflow-x:auto;line-height:normal;font-family:Menlo,'DejaVu Sans Mono',consolas,'Courier New',monospace\">Downloading file for: Location <span style=\"color: #5bc0de; text-decoration-color: #5bc0de\">▰▰▰▱▱▱▱</span> <span style=\"color: #808000; text-decoration-color: #808000\">0:00:00</span>\n</pre>\n"
                },
                "metadata": {}
              }
            ]
          }
        },
        "ab1b569a1dd34f81921e4d05b79e9358": {
          "model_module": "@jupyter-widgets/base",
          "model_name": "LayoutModel",
          "model_module_version": "1.2.0",
          "state": {
            "_model_module": "@jupyter-widgets/base",
            "_model_module_version": "1.2.0",
            "_model_name": "LayoutModel",
            "_view_count": null,
            "_view_module": "@jupyter-widgets/base",
            "_view_module_version": "1.2.0",
            "_view_name": "LayoutView",
            "align_content": null,
            "align_items": null,
            "align_self": null,
            "border": null,
            "bottom": null,
            "display": null,
            "flex": null,
            "flex_flow": null,
            "grid_area": null,
            "grid_auto_columns": null,
            "grid_auto_flow": null,
            "grid_auto_rows": null,
            "grid_column": null,
            "grid_gap": null,
            "grid_row": null,
            "grid_template_areas": null,
            "grid_template_columns": null,
            "grid_template_rows": null,
            "height": null,
            "justify_content": null,
            "justify_items": null,
            "left": null,
            "margin": null,
            "max_height": null,
            "max_width": null,
            "min_height": null,
            "min_width": null,
            "object_fit": null,
            "object_position": null,
            "order": null,
            "overflow": null,
            "overflow_x": null,
            "overflow_y": null,
            "padding": null,
            "right": null,
            "top": null,
            "visibility": null,
            "width": null
          }
        },
        "22364486fe684838bf3ac7326252baa6": {
          "model_module": "@jupyter-widgets/output",
          "model_name": "OutputModel",
          "model_module_version": "1.0.0",
          "state": {
            "_dom_classes": [],
            "_model_module": "@jupyter-widgets/output",
            "_model_module_version": "1.0.0",
            "_model_name": "OutputModel",
            "_view_count": null,
            "_view_module": "@jupyter-widgets/output",
            "_view_module_version": "1.0.0",
            "_view_name": "OutputView",
            "layout": "IPY_MODEL_4b1e42e764fc401ba470ec8aeeec39af",
            "msg_id": "",
            "outputs": [
              {
                "output_type": "display_data",
                "data": {
                  "text/plain": "Collection: Location \u001b[38;2;91;192;222m▰▰▰▱▱▱▱\u001b[0m \u001b[33m0:00:11\u001b[0m\n",
                  "text/html": "<pre style=\"white-space:pre;overflow-x:auto;line-height:normal;font-family:Menlo,'DejaVu Sans Mono',consolas,'Courier New',monospace\">Collection: Location <span style=\"color: #5bc0de; text-decoration-color: #5bc0de\">▰▰▰▱▱▱▱</span> <span style=\"color: #808000; text-decoration-color: #808000\">0:00:11</span>\n</pre>\n"
                },
                "metadata": {}
              }
            ]
          }
        },
        "4b1e42e764fc401ba470ec8aeeec39af": {
          "model_module": "@jupyter-widgets/base",
          "model_name": "LayoutModel",
          "model_module_version": "1.2.0",
          "state": {
            "_model_module": "@jupyter-widgets/base",
            "_model_module_version": "1.2.0",
            "_model_name": "LayoutModel",
            "_view_count": null,
            "_view_module": "@jupyter-widgets/base",
            "_view_module_version": "1.2.0",
            "_view_name": "LayoutView",
            "align_content": null,
            "align_items": null,
            "align_self": null,
            "border": null,
            "bottom": null,
            "display": null,
            "flex": null,
            "flex_flow": null,
            "grid_area": null,
            "grid_auto_columns": null,
            "grid_auto_flow": null,
            "grid_auto_rows": null,
            "grid_column": null,
            "grid_gap": null,
            "grid_row": null,
            "grid_template_areas": null,
            "grid_template_columns": null,
            "grid_template_rows": null,
            "height": null,
            "justify_content": null,
            "justify_items": null,
            "left": null,
            "margin": null,
            "max_height": null,
            "max_width": null,
            "min_height": null,
            "min_width": null,
            "object_fit": null,
            "object_position": null,
            "order": null,
            "overflow": null,
            "overflow_x": null,
            "overflow_y": null,
            "padding": null,
            "right": null,
            "top": null,
            "visibility": null,
            "width": null
          }
        },
        "f98bbd460dea43dd9a7fe51b2b5b4add": {
          "model_module": "@jupyter-widgets/output",
          "model_name": "OutputModel",
          "model_module_version": "1.0.0",
          "state": {
            "_dom_classes": [],
            "_model_module": "@jupyter-widgets/output",
            "_model_module_version": "1.0.0",
            "_model_name": "OutputModel",
            "_view_count": null,
            "_view_module": "@jupyter-widgets/output",
            "_view_module_version": "1.0.0",
            "_view_name": "OutputView",
            "layout": "IPY_MODEL_317a372e1e8a4cb39bdacdef07c003ce",
            "msg_id": "",
            "outputs": [
              {
                "output_type": "display_data",
                "data": {
                  "text/plain": "Downloading file for: Region \u001b[38;2;91;192;222m▰▰▰▰▱▱▱\u001b[0m \u001b[33m0:00:00\u001b[0m\n",
                  "text/html": "<pre style=\"white-space:pre;overflow-x:auto;line-height:normal;font-family:Menlo,'DejaVu Sans Mono',consolas,'Courier New',monospace\">Downloading file for: Region <span style=\"color: #5bc0de; text-decoration-color: #5bc0de\">▰▰▰▰▱▱▱</span> <span style=\"color: #808000; text-decoration-color: #808000\">0:00:00</span>\n</pre>\n"
                },
                "metadata": {}
              }
            ]
          }
        },
        "317a372e1e8a4cb39bdacdef07c003ce": {
          "model_module": "@jupyter-widgets/base",
          "model_name": "LayoutModel",
          "model_module_version": "1.2.0",
          "state": {
            "_model_module": "@jupyter-widgets/base",
            "_model_module_version": "1.2.0",
            "_model_name": "LayoutModel",
            "_view_count": null,
            "_view_module": "@jupyter-widgets/base",
            "_view_module_version": "1.2.0",
            "_view_name": "LayoutView",
            "align_content": null,
            "align_items": null,
            "align_self": null,
            "border": null,
            "bottom": null,
            "display": null,
            "flex": null,
            "flex_flow": null,
            "grid_area": null,
            "grid_auto_columns": null,
            "grid_auto_flow": null,
            "grid_auto_rows": null,
            "grid_column": null,
            "grid_gap": null,
            "grid_row": null,
            "grid_template_areas": null,
            "grid_template_columns": null,
            "grid_template_rows": null,
            "height": null,
            "justify_content": null,
            "justify_items": null,
            "left": null,
            "margin": null,
            "max_height": null,
            "max_width": null,
            "min_height": null,
            "min_width": null,
            "object_fit": null,
            "object_position": null,
            "order": null,
            "overflow": null,
            "overflow_x": null,
            "overflow_y": null,
            "padding": null,
            "right": null,
            "top": null,
            "visibility": null,
            "width": null
          }
        },
        "c678edf8daf34790890de03480578742": {
          "model_module": "@jupyter-widgets/output",
          "model_name": "OutputModel",
          "model_module_version": "1.0.0",
          "state": {
            "_dom_classes": [],
            "_model_module": "@jupyter-widgets/output",
            "_model_module_version": "1.0.0",
            "_model_name": "OutputModel",
            "_view_count": null,
            "_view_module": "@jupyter-widgets/output",
            "_view_module_version": "1.0.0",
            "_view_name": "OutputView",
            "layout": "IPY_MODEL_dc31334c4e924baaa1fb3dd31b0933fd",
            "msg_id": "",
            "outputs": [
              {
                "output_type": "display_data",
                "data": {
                  "text/plain": "Collection: Region \u001b[38;2;91;192;222m▰▱▱▱▱▱▱\u001b[0m \u001b[33m0:00:00\u001b[0m\n",
                  "text/html": "<pre style=\"white-space:pre;overflow-x:auto;line-height:normal;font-family:Menlo,'DejaVu Sans Mono',consolas,'Courier New',monospace\">Collection: Region <span style=\"color: #5bc0de; text-decoration-color: #5bc0de\">▰▱▱▱▱▱▱</span> <span style=\"color: #808000; text-decoration-color: #808000\">0:00:00</span>\n</pre>\n"
                },
                "metadata": {}
              }
            ]
          }
        },
        "dc31334c4e924baaa1fb3dd31b0933fd": {
          "model_module": "@jupyter-widgets/base",
          "model_name": "LayoutModel",
          "model_module_version": "1.2.0",
          "state": {
            "_model_module": "@jupyter-widgets/base",
            "_model_module_version": "1.2.0",
            "_model_name": "LayoutModel",
            "_view_count": null,
            "_view_module": "@jupyter-widgets/base",
            "_view_module_version": "1.2.0",
            "_view_name": "LayoutView",
            "align_content": null,
            "align_items": null,
            "align_self": null,
            "border": null,
            "bottom": null,
            "display": null,
            "flex": null,
            "flex_flow": null,
            "grid_area": null,
            "grid_auto_columns": null,
            "grid_auto_flow": null,
            "grid_auto_rows": null,
            "grid_column": null,
            "grid_gap": null,
            "grid_row": null,
            "grid_template_areas": null,
            "grid_template_columns": null,
            "grid_template_rows": null,
            "height": null,
            "justify_content": null,
            "justify_items": null,
            "left": null,
            "margin": null,
            "max_height": null,
            "max_width": null,
            "min_height": null,
            "min_width": null,
            "object_fit": null,
            "object_position": null,
            "order": null,
            "overflow": null,
            "overflow_x": null,
            "overflow_y": null,
            "padding": null,
            "right": null,
            "top": null,
            "visibility": null,
            "width": null
          }
        },
        "e8644014369d43529c70f169eac63790": {
          "model_module": "@jupyter-widgets/output",
          "model_name": "OutputModel",
          "model_module_version": "1.0.0",
          "state": {
            "_dom_classes": [],
            "_model_module": "@jupyter-widgets/output",
            "_model_module_version": "1.0.0",
            "_model_name": "OutputModel",
            "_view_count": null,
            "_view_module": "@jupyter-widgets/output",
            "_view_module_version": "1.0.0",
            "_view_name": "OutputView",
            "layout": "IPY_MODEL_459235f70a6b4d43ac612a663ae2a231",
            "msg_id": "",
            "outputs": [
              {
                "output_type": "display_data",
                "data": {
                  "text/plain": "Downloading file for: Source \u001b[38;2;91;192;222m▰▱▱▱▱▱▱\u001b[0m \u001b[33m0:00:00\u001b[0m\n",
                  "text/html": "<pre style=\"white-space:pre;overflow-x:auto;line-height:normal;font-family:Menlo,'DejaVu Sans Mono',consolas,'Courier New',monospace\">Downloading file for: Source <span style=\"color: #5bc0de; text-decoration-color: #5bc0de\">▰▱▱▱▱▱▱</span> <span style=\"color: #808000; text-decoration-color: #808000\">0:00:00</span>\n</pre>\n"
                },
                "metadata": {}
              }
            ]
          }
        },
        "459235f70a6b4d43ac612a663ae2a231": {
          "model_module": "@jupyter-widgets/base",
          "model_name": "LayoutModel",
          "model_module_version": "1.2.0",
          "state": {
            "_model_module": "@jupyter-widgets/base",
            "_model_module_version": "1.2.0",
            "_model_name": "LayoutModel",
            "_view_count": null,
            "_view_module": "@jupyter-widgets/base",
            "_view_module_version": "1.2.0",
            "_view_name": "LayoutView",
            "align_content": null,
            "align_items": null,
            "align_self": null,
            "border": null,
            "bottom": null,
            "display": null,
            "flex": null,
            "flex_flow": null,
            "grid_area": null,
            "grid_auto_columns": null,
            "grid_auto_flow": null,
            "grid_auto_rows": null,
            "grid_column": null,
            "grid_gap": null,
            "grid_row": null,
            "grid_template_areas": null,
            "grid_template_columns": null,
            "grid_template_rows": null,
            "height": null,
            "justify_content": null,
            "justify_items": null,
            "left": null,
            "margin": null,
            "max_height": null,
            "max_width": null,
            "min_height": null,
            "min_width": null,
            "object_fit": null,
            "object_position": null,
            "order": null,
            "overflow": null,
            "overflow_x": null,
            "overflow_y": null,
            "padding": null,
            "right": null,
            "top": null,
            "visibility": null,
            "width": null
          }
        },
        "11c6a44b5c234b2cb4131339b5dcf9b6": {
          "model_module": "@jupyter-widgets/output",
          "model_name": "OutputModel",
          "model_module_version": "1.0.0",
          "state": {
            "_dom_classes": [],
            "_model_module": "@jupyter-widgets/output",
            "_model_module_version": "1.0.0",
            "_model_name": "OutputModel",
            "_view_count": null,
            "_view_module": "@jupyter-widgets/output",
            "_view_module_version": "1.0.0",
            "_view_name": "OutputView",
            "layout": "IPY_MODEL_5a66a228123c45ae9b41ae4ce9c5f918",
            "msg_id": "",
            "outputs": [
              {
                "output_type": "display_data",
                "data": {
                  "text/plain": "Collection: Source \u001b[38;2;91;192;222m▰▰▱▱▱▱▱\u001b[0m \u001b[33m0:00:04\u001b[0m\n",
                  "text/html": "<pre style=\"white-space:pre;overflow-x:auto;line-height:normal;font-family:Menlo,'DejaVu Sans Mono',consolas,'Courier New',monospace\">Collection: Source <span style=\"color: #5bc0de; text-decoration-color: #5bc0de\">▰▰▱▱▱▱▱</span> <span style=\"color: #808000; text-decoration-color: #808000\">0:00:04</span>\n</pre>\n"
                },
                "metadata": {}
              }
            ]
          }
        },
        "5a66a228123c45ae9b41ae4ce9c5f918": {
          "model_module": "@jupyter-widgets/base",
          "model_name": "LayoutModel",
          "model_module_version": "1.2.0",
          "state": {
            "_model_module": "@jupyter-widgets/base",
            "_model_module_version": "1.2.0",
            "_model_name": "LayoutModel",
            "_view_count": null,
            "_view_module": "@jupyter-widgets/base",
            "_view_module_version": "1.2.0",
            "_view_name": "LayoutView",
            "align_content": null,
            "align_items": null,
            "align_self": null,
            "border": null,
            "bottom": null,
            "display": null,
            "flex": null,
            "flex_flow": null,
            "grid_area": null,
            "grid_auto_columns": null,
            "grid_auto_flow": null,
            "grid_auto_rows": null,
            "grid_column": null,
            "grid_gap": null,
            "grid_row": null,
            "grid_template_areas": null,
            "grid_template_columns": null,
            "grid_template_rows": null,
            "height": null,
            "justify_content": null,
            "justify_items": null,
            "left": null,
            "margin": null,
            "max_height": null,
            "max_width": null,
            "min_height": null,
            "min_width": null,
            "object_fit": null,
            "object_position": null,
            "order": null,
            "overflow": null,
            "overflow_x": null,
            "overflow_y": null,
            "padding": null,
            "right": null,
            "top": null,
            "visibility": null,
            "width": null
          }
        }
      }
    }
  },
  "nbformat": 4,
  "nbformat_minor": 5
}