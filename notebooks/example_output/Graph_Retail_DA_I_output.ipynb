{
  "nbformat": 4,
  "nbformat_minor": 0,
  "metadata": {
    "colab": {
      "name": "Graph_Retail_DA_I.ipynb",
      "provenance": [],
      "collapsed_sections": []
    },
    "kernelspec": {
      "display_name": "Python 3",
      "language": "python",
      "name": "python3"
    },
    "language_info": {
      "codemirror_mode": {
        "name": "ipython",
        "version": 3
      },
      "file_extension": ".py",
      "mimetype": "text/x-python",
      "name": "python",
      "nbconvert_exporter": "python",
      "pygments_lexer": "ipython3",
      "version": "3.7.6"
    }
  },
  "cells": [
    {
      "cell_type": "markdown",
      "metadata": {
        "id": "qStcba13duQl"
      },
      "source": [
        "<a href=\"https://colab.research.google.com/github/rajivsam/interactive_tutorials/blob/master/notebooks/Graph_Retail_DA_I.ipynb\" target=\"_parent\"><img src=\"https://colab.research.google.com/assets/colab-badge.svg\" alt=\"Open In Colab\"/></a>"
      ]
    },
    {
      "cell_type": "code",
      "metadata": {
        "id": "NHiPYjvmjnZT"
      },
      "source": [
        "\n",
        "%%capture\n",
        "!git clone -b retail_data_branch --single-branch https://github.com/arangodb/interactive_tutorials.git\n",
        "!rsync -av  interactive_tutorials/notebooks/data  rsync -av interactive_tutorials/notebooks/tools interactive_tutorials/notebooks/img ./ --exclude=.git\n",
        "!pip install python-arango\n",
        "!pip install arangopipe==0.0.70.0.0\n",
        "!pip install pandas PyYAML==5.1.1 sklearn2\n",
        "!pip install jsonpickle\n",
        "!pip3 install networkx\n",
        "!pip3 install matplotlib\n",
        "!pip3 install adbnx-adapter\n",
        "!chmod a+x tools/* \n"
      ],
      "execution_count": 1,
      "outputs": []
    },
    {
      "cell_type": "markdown",
      "metadata": {
        "id": "hPB7hYgo1elH"
      },
      "source": [
        "## Methodology Overview\n",
        "\n",
        "This notebook provides the descriptive features of the frequent customer group. These features are obtained by applying graph analytic concepts to the frequent customer group. To do so, we need to represent the frequent customer group as a graph. In particular, this group is modeled as a bi-partite graph with the customer nodes and item nodes forming the two disjoint vertex sets. The purchase of an item by a customer as part of an invoice is modeled as an edge.\n",
        "\n",
        "\n",
        "![](https://github.com/rajivsam/interactive_tutorials/blob/master/notebooks/img/bi_partite_graph.png?raw=1)\n",
        "\n",
        "\n",
        "This notebook will use ideas from:\n",
        "\n",
        "1.    [Statistical Analysis of Network Data](https://bigdata.unl.edu/documents/ASA_Workshop_Materials/Tutorial%20Statistical%20Analysis%20of%20Network%20Data.pdf): Provides a methodology for characterizing network structure\n",
        "2.   [Basic Notions for the Analysis of Affiliate Networks](https://github.com/arangoml/networkx-adapter/blob/master/bipartite_clustering.pdf) : Provides a methodology for analyzing bi-partite graphs\n",
        "\n",
        "The descriptive characteristics of the graph are captured by:\n",
        "\n",
        "\n",
        "1.   Vertex and Edge Characteristics\n",
        "2.   Network Cohesion\n",
        "\n",
        "These perspectives are important because:\n",
        "\n",
        "\n",
        "1.   They provide insights about customer behavior or the concept modeled by the graph\n",
        "2.   The provide the basis for developing other machine learning tasks for the problem. For example, we may be interested in the following:\n",
        "*    How can we develop a generative model for the graph \n",
        "*   How do we model the formation of links in the network\n",
        "\n",
        "These tasks tell us how customers make purchases. For details of developing a generative model on bipartite graphs, see [Bipartite Graphs as Models of Complex Networks](http://denif.ens-lyon.fr/data/algorithmique_reseaux_telecoms_enslyon/2007/cours/biparti.pdf) and [Measuring and Modeling Bipartite Graphs with Community Structure](https://www.osti.gov/servlets/purl/1561802). Developing these models requires the descriptive characterization of the graph, which is what is done in this notebook. This chararacterization provides information about properties such as degree distribution and clustering characteristics of nodes which are used to develop the models discussed.\n",
        "\n",
        "While summary statistics and distributions can be used to provide one descriptive perspective of the network (vertex and edge characteristics), information about grouping characteristics provides the complimentary perspective (network-cohesion). There are multiple ways to describe network-cohension. In this notebook, we will describe two ways to capture or describe cohesive tendencies in the notebook. These are the number of connected components in the graph and measurements describing clique formation in the graph.\n",
        "\n",
        "The rest of the notebook will provide the implementation of the methodology discussed here. There is one other conceptual idea that we require in the toolbox for the analysis of bi-partite graphs. This is the notion of a _projected graph_.  The two disjoint vertex sets are called the top and bottom vertex sets. The choice of which set to call the top set is arbitrary. It is possible to determine a _projection_ of a set of vertices belonging to either the top or bottom vertex set onto the opposite vertex set. In other words, it is possible to _project_ a set of top vertices on to the bottom vertex set, or, vice versa. The projection of the top set of vertices on to the bottom set, we connect two vertices of the bottom set in the projected graph if they are linked by a vertex in the opposite set. An example graph and the projection graph of the top set of vertices to the bottom set is shown below.\n",
        "\n",
        "\n",
        "![](https://github.com/rajivsam/interactive_tutorials/blob/master/notebooks/img/projection_graph.png?raw=1)\n",
        "\n",
        "The customer and the item projection graph have meaningful interpretations. This is discussed when these graphs are generated. The process followed in this notebook to implement this methodology is discussed above is shown below.\n",
        "\n",
        "\n"
      ]
    },
    {
      "cell_type": "markdown",
      "metadata": {
        "id": "NiTekYbJvgsI"
      },
      "source": [
        "![](https://github.com/rajivsam/interactive_tutorials/blob/master/notebooks/img/notebook_3_flow_chart.png?raw=1)"
      ]
    },
    {
      "cell_type": "markdown",
      "metadata": {
        "id": "XCnStoN4vuzv"
      },
      "source": [
        "## Read Graph Data\n",
        "\n",
        "An arango DB graph image from the previous excercise in this series is the starting point for this excercise. We connect to an Oasis instance that will be used for this excercise. "
      ]
    },
    {
      "cell_type": "code",
      "metadata": {
        "colab": {
          "base_uri": "https://localhost:8080/"
        },
        "id": "d2thBMSe5rGB",
        "outputId": "04f3617f-34ca-4bbc-b300-7f1e7e4a3c9a"
      },
      "source": [
        "from arangopipe.arangopipe_storage.arangopipe_api import ArangoPipe\n",
        "from arangopipe.arangopipe_storage.arangopipe_admin_api import ArangoPipeAdmin\n",
        "from arangopipe.arangopipe_storage.arangopipe_config import ArangoPipeConfig\n",
        "from arangopipe.arangopipe_storage.managed_service_conn_parameters import ManagedServiceConnParam\n",
        "mdb_config = ArangoPipeConfig()\n",
        "msc = ManagedServiceConnParam()\n",
        "conn_params = { msc.DB_SERVICE_HOST : \"arangoml.arangodb.cloud\", \\\n",
        "                        msc.DB_SERVICE_END_POINT : \"createDB\",\\\n",
        "                        msc.DB_SERVICE_NAME : \"createDB\",\\\n",
        "                        msc.DB_SERVICE_PORT : 8529,\\\n",
        "                        msc.DB_CONN_PROTOCOL : 'https',\\\n",
        "                        msc.DB_REPLICATION_FACTOR: 3}\n",
        "        \n",
        "mdb_config = mdb_config.create_connection_config(conn_params)\n",
        "admin = ArangoPipeAdmin(reuse_connection = False, config = mdb_config)\n",
        "ap_config = admin.get_config()\n",
        "ap = ArangoPipe(config = ap_config)\n",
        "proj_info = {\"name\": \"Retail_Graph_Analytics\"}\n",
        "proj_reg = admin.register_project(proj_info)\n",
        "mdb_config.get_cfg()"
      ],
      "execution_count": 2,
      "outputs": [
        {
          "output_type": "stream",
          "text": [
            "/usr/local/lib/python3.7/dist-packages/requests/__init__.py:91: RequestsDependencyWarning: urllib3 (1.26.6) or chardet (3.0.4) doesn't match a supported version!\n",
            "  RequestsDependencyWarning)\n"
          ],
          "name": "stderr"
        },
        {
          "output_type": "stream",
          "text": [
            "API endpoint: https://arangoml.arangodb.cloud:8529/_db/_system/createDB/createDB\n"
          ],
          "name": "stdout"
        },
        {
          "output_type": "stream",
          "text": [
            "/usr/local/lib/python3.7/dist-packages/urllib3/connectionpool.py:1020: InsecureRequestWarning: Unverified HTTPS request is being made to host 'arangoml.arangodb.cloud'. Adding certificate verification is strongly advised. See: https://urllib3.readthedocs.io/en/1.26.x/advanced-usage.html#ssl-warnings\n",
            "  InsecureRequestWarning,\n"
          ],
          "name": "stderr"
        },
        {
          "output_type": "stream",
          "text": [
            "Host Connection: https://arangoml.arangodb.cloud:8529\n"
          ],
          "name": "stdout"
        },
        {
          "output_type": "execute_result",
          "data": {
            "text/plain": [
              "{'arangodb': {'DB_end_point': 'createDB',\n",
              "  'DB_service_host': 'arangoml.arangodb.cloud',\n",
              "  'DB_service_name': 'createDB',\n",
              "  'DB_service_port': 8529,\n",
              "  'arangodb_replication_factor': 3,\n",
              "  'conn_protocol': 'https',\n",
              "  'dbName': 'MLfulvedvcszhg0mz4vfnawq',\n",
              "  'password': 'ML60jozas0p4slozj6bgvfuo',\n",
              "  'username': 'MLaja4nyilzh9d1sjzohqg2'},\n",
              " 'mlgraph': {'graphname': 'enterprise_ml_graph'}}"
            ]
          },
          "metadata": {
            "tags": []
          },
          "execution_count": 2
        }
      ]
    },
    {
      "cell_type": "code",
      "metadata": {
        "id": "4JTETOMT57Zq"
      },
      "source": [
        "conn = mdb_config.get_cfg()\n",
        "login = conn['arangodb']"
      ],
      "execution_count": 3,
      "outputs": []
    },
    {
      "cell_type": "code",
      "metadata": {
        "colab": {
          "base_uri": "https://localhost:8080/"
        },
        "id": "9CQmssQz6EtW",
        "outputId": "1910cb83-45e0-443e-a998-635a5d3925e5"
      },
      "source": [
        "login"
      ],
      "execution_count": 4,
      "outputs": [
        {
          "output_type": "execute_result",
          "data": {
            "text/plain": [
              "{'DB_end_point': 'createDB',\n",
              " 'DB_service_host': 'arangoml.arangodb.cloud',\n",
              " 'DB_service_name': 'createDB',\n",
              " 'DB_service_port': 8529,\n",
              " 'arangodb_replication_factor': 3,\n",
              " 'conn_protocol': 'https',\n",
              " 'dbName': 'MLfulvedvcszhg0mz4vfnawq',\n",
              " 'password': 'ML60jozas0p4slozj6bgvfuo',\n",
              " 'username': 'MLaja4nyilzh9d1sjzohqg2'}"
            ]
          },
          "metadata": {
            "tags": []
          },
          "execution_count": 4
        }
      ]
    },
    {
      "cell_type": "code",
      "metadata": {
        "colab": {
          "base_uri": "https://localhost:8080/"
        },
        "id": "_wg3ZKbunAwI",
        "outputId": "d41a072f-12c3-473c-aee1-a2b26bb1bc67"
      },
      "source": [
        "!pwd"
      ],
      "execution_count": 5,
      "outputs": [
        {
          "output_type": "stream",
          "text": [
            "/content\n"
          ],
          "name": "stdout"
        }
      ]
    },
    {
      "cell_type": "code",
      "metadata": {
        "colab": {
          "base_uri": "https://localhost:8080/"
        },
        "id": "8B_UyOPFmnhA",
        "outputId": "810ff1e6-c0c0-414d-e68d-fe0429965d28"
      },
      "source": [
        "# Restore an ArangoDB dump into the database.\n",
        "!./tools/arangorestore  -c none --server.endpoint  http+ssl://{login[\"DB_service_host\"]}:{login[\"DB_service_port\"]} --server.username {login[\"username\"]} \\\n",
        "--server.database {login[\"dbName\"]} \\\n",
        "--server.password {login[\"password\"]} \\\n",
        "--replication-factor 3  \\\n",
        "--input-directory \"data/retail_freq_cust_data_dump_eonb2\""
      ],
      "execution_count": 6,
      "outputs": [
        {
          "output_type": "stream",
          "text": [
            "\u001b[0m2021-07-01T08:01:49Z [199] INFO [05c30] {restore} Connected to ArangoDB 'http+ssl://arangoml.arangodb.cloud:8529'\n",
            "\u001b[0m\u001b[0m2021-07-01T08:01:50Z [199] INFO [abeb4] {restore} Database name in source dump is 'MLlsy9bo5km1qveu1018894'\n",
            "\u001b[0m\u001b[0m2021-07-01T08:01:50Z [199] INFO [9b414] {restore} # Re-creating document collection 'Customers'...\n",
            "\u001b[0m\u001b[0m2021-07-01T08:01:50Z [199] INFO [9b414] {restore} # Re-creating document collection 'datasets'...\n",
            "\u001b[0m\u001b[0m2021-07-01T08:01:51Z [199] INFO [9b414] {restore} # Re-creating document collection 'deployment'...\n",
            "\u001b[0m\u001b[0m2021-07-01T08:01:51Z [199] INFO [9b414] {restore} # Re-creating document collection 'devperf'...\n",
            "\u001b[0m\u001b[0m2021-07-01T08:01:52Z [199] INFO [9b414] {restore} # Re-creating document collection 'featuresets'...\n",
            "\u001b[0m\u001b[0m2021-07-01T08:01:52Z [199] INFO [9b414] {restore} # Re-creating document collection 'Items'...\n",
            "\u001b[0m\u001b[0m2021-07-01T08:01:53Z [199] INFO [9b414] {restore} # Re-creating document collection 'modelparams'...\n",
            "\u001b[0m\u001b[0m2021-07-01T08:01:53Z [199] INFO [9b414] {restore} # Re-creating document collection 'models'...\n",
            "\u001b[0m\u001b[0m2021-07-01T08:01:54Z [199] INFO [9b414] {restore} # Re-creating document collection 'project'...\n",
            "\u001b[0m\u001b[0m2021-07-01T08:01:54Z [199] INFO [9b414] {restore} # Re-creating document collection 'run'...\n",
            "\u001b[0m\u001b[0m2021-07-01T08:01:55Z [199] INFO [9b414] {restore} # Re-creating document collection 'servingperf'...\n",
            "\u001b[0m\u001b[0m2021-07-01T08:01:55Z [199] INFO [9b414] {restore} # Re-creating edge collection 'deployment_featureset'...\n",
            "\u001b[0m\u001b[0m2021-07-01T08:01:56Z [199] INFO [9b414] {restore} # Re-creating edge collection 'deployment_model'...\n",
            "\u001b[0m\u001b[0m2021-07-01T08:01:56Z [199] INFO [9b414] {restore} # Re-creating edge collection 'deployment_modelparams'...\n",
            "\u001b[0m\u001b[0m2021-07-01T08:01:57Z [199] INFO [9b414] {restore} # Re-creating edge collection 'deployment_servingperf'...\n",
            "\u001b[0m\u001b[0m2021-07-01T08:01:57Z [199] INFO [9b414] {restore} # Re-creating edge collection 'featureset_dataset'...\n",
            "\u001b[0m\u001b[0m2021-07-01T08:01:58Z [199] INFO [9b414] {restore} # Re-creating edge collection 'project_models'...\n",
            "\u001b[0m\u001b[0m2021-07-01T08:01:58Z [199] INFO [9b414] {restore} # Re-creating edge collection 'Purchases'...\n",
            "\u001b[0m\u001b[0m2021-07-01T08:01:59Z [199] INFO [9b414] {restore} # Re-creating edge collection 'run_datasets'...\n",
            "\u001b[0m\u001b[0m2021-07-01T08:01:59Z [199] INFO [9b414] {restore} # Re-creating edge collection 'run_devperf'...\n",
            "\u001b[0m\u001b[0m2021-07-01T08:02:00Z [199] INFO [9b414] {restore} # Re-creating edge collection 'run_featuresets'...\n",
            "\u001b[0m\u001b[0m2021-07-01T08:02:00Z [199] INFO [9b414] {restore} # Re-creating edge collection 'run_modelparams'...\n",
            "\u001b[0m\u001b[0m2021-07-01T08:02:01Z [199] INFO [9b414] {restore} # Re-creating edge collection 'run_models'...\n",
            "\u001b[0m\u001b[0m2021-07-01T08:02:01Z [199] INFO [6d69f] {restore} # Dispatched 23 job(s), using 2 worker(s)\n",
            "\u001b[0m\u001b[0m2021-07-01T08:02:01Z [199] INFO [94913] {restore} # Loading data into document collection 'Customers', data size: 4354 byte(s)\n",
            "\u001b[0m\u001b[0m2021-07-01T08:02:01Z [199] INFO [94913] {restore} # Loading data into document collection 'datasets', data size: 212 byte(s)\n",
            "\u001b[0m\u001b[0m2021-07-01T08:02:01Z [199] INFO [6ae09] {restore} # Successfully restored document collection 'datasets'\n",
            "\u001b[0m\u001b[0m2021-07-01T08:02:01Z [199] INFO [94913] {restore} # Loading data into document collection 'deployment', data size: 20 byte(s)\n",
            "\u001b[0m\u001b[0m2021-07-01T08:02:01Z [199] INFO [6ae09] {restore} # Successfully restored document collection 'deployment'\n",
            "\u001b[0m\u001b[0m2021-07-01T08:02:01Z [199] INFO [94913] {restore} # Loading data into document collection 'devperf', data size: 522 byte(s)\n",
            "\u001b[0m\u001b[0m2021-07-01T08:02:01Z [199] INFO [6ae09] {restore} # Successfully restored document collection 'Customers'\n",
            "\u001b[0m\u001b[0m2021-07-01T08:02:01Z [199] INFO [94913] {restore} # Loading data into document collection 'featuresets', data size: 226 byte(s)\n",
            "\u001b[0m\u001b[0m2021-07-01T08:02:01Z [199] INFO [6ae09] {restore} # Successfully restored document collection 'devperf'\n",
            "\u001b[0m\u001b[0m2021-07-01T08:02:01Z [199] INFO [94913] {restore} # Loading data into document collection 'Items', data size: 835 byte(s)\n",
            "\u001b[0m\u001b[0m2021-07-01T08:02:02Z [199] INFO [6ae09] {restore} # Successfully restored document collection 'featuresets'\n",
            "\u001b[0m\u001b[0m2021-07-01T08:02:02Z [199] INFO [94913] {restore} # Loading data into document collection 'modelparams', data size: 219 byte(s)\n",
            "\u001b[0m\u001b[0m2021-07-01T08:02:02Z [199] INFO [6ae09] {restore} # Successfully restored document collection 'Items'\n",
            "\u001b[0m\u001b[0m2021-07-01T08:02:02Z [199] INFO [94913] {restore} # Loading data into document collection 'models', data size: 216 byte(s)\n",
            "\u001b[0m\u001b[0m2021-07-01T08:02:02Z [199] INFO [6ae09] {restore} # Successfully restored document collection 'modelparams'\n",
            "\u001b[0m\u001b[0m2021-07-01T08:02:02Z [199] INFO [94913] {restore} # Loading data into document collection 'project', data size: 125 byte(s)\n",
            "\u001b[0m\u001b[0m2021-07-01T08:02:02Z [199] INFO [6ae09] {restore} # Successfully restored document collection 'models'\n",
            "\u001b[0m\u001b[0m2021-07-01T08:02:02Z [199] INFO [94913] {restore} # Loading data into document collection 'run', data size: 230 byte(s)\n",
            "\u001b[0m\u001b[0m2021-07-01T08:02:02Z [199] INFO [6ae09] {restore} # Successfully restored document collection 'project'\n",
            "\u001b[0m\u001b[0m2021-07-01T08:02:02Z [199] INFO [94913] {restore} # Loading data into document collection 'servingperf', data size: 20 byte(s)\n",
            "\u001b[0m\u001b[0m2021-07-01T08:02:02Z [199] INFO [6ae09] {restore} # Successfully restored document collection 'servingperf'\n",
            "\u001b[0m\u001b[0m2021-07-01T08:02:02Z [199] INFO [94913] {restore} # Loading data into edge collection 'deployment_featureset', data size: 20 byte(s)\n",
            "\u001b[0m\u001b[0m2021-07-01T08:02:02Z [199] INFO [6ae09] {restore} # Successfully restored edge collection 'deployment_featureset'\n",
            "\u001b[0m\u001b[0m2021-07-01T08:02:02Z [199] INFO [94913] {restore} # Loading data into edge collection 'deployment_model', data size: 20 byte(s)\n",
            "\u001b[0m\u001b[0m2021-07-01T08:02:02Z [199] INFO [6ae09] {restore} # Successfully restored edge collection 'deployment_model'\n",
            "\u001b[0m\u001b[0m2021-07-01T08:02:02Z [199] INFO [94913] {restore} # Loading data into edge collection 'deployment_modelparams', data size: 20 byte(s)\n",
            "\u001b[0m\u001b[0m2021-07-01T08:02:02Z [199] INFO [6ae09] {restore} # Successfully restored edge collection 'deployment_modelparams'\n",
            "\u001b[0m\u001b[0m2021-07-01T08:02:02Z [199] INFO [94913] {restore} # Loading data into edge collection 'deployment_servingperf', data size: 20 byte(s)\n",
            "\u001b[0m\u001b[0m2021-07-01T08:02:02Z [199] INFO [6ae09] {restore} # Successfully restored edge collection 'deployment_servingperf'\n",
            "\u001b[0m\u001b[0m2021-07-01T08:02:02Z [199] INFO [94913] {restore} # Loading data into edge collection 'featureset_dataset', data size: 129 byte(s)\n",
            "\u001b[0m\u001b[0m2021-07-01T08:02:02Z [199] INFO [6ae09] {restore} # Successfully restored document collection 'run'\n",
            "\u001b[0m\u001b[0m2021-07-01T08:02:02Z [199] INFO [94913] {restore} # Loading data into edge collection 'project_models', data size: 152 byte(s)\n",
            "\u001b[0m\u001b[0m2021-07-01T08:02:02Z [199] INFO [6ae09] {restore} # Successfully restored edge collection 'featureset_dataset'\n",
            "\u001b[0m\u001b[0m2021-07-01T08:02:02Z [199] INFO [94913] {restore} # Loading data into edge collection 'Purchases', data size: 75529 byte(s)\n",
            "\u001b[0m\u001b[0m2021-07-01T08:02:02Z [199] INFO [6ae09] {restore} # Successfully restored edge collection 'project_models'\n",
            "\u001b[0m\u001b[0m2021-07-01T08:02:02Z [199] INFO [94913] {restore} # Loading data into edge collection 'run_datasets', data size: 197 byte(s)\n",
            "\u001b[0m\u001b[0m2021-07-01T08:02:02Z [199] INFO [6ae09] {restore} # Successfully restored edge collection 'run_datasets'\n",
            "\u001b[0m\u001b[0m2021-07-01T08:02:02Z [199] INFO [94913] {restore} # Loading data into edge collection 'run_devperf', data size: 203 byte(s)\n",
            "\u001b[0m\u001b[0m2021-07-01T08:02:02Z [199] INFO [6ae09] {restore} # Successfully restored edge collection 'run_devperf'\n",
            "\u001b[0m\u001b[0m2021-07-01T08:02:02Z [199] INFO [94913] {restore} # Loading data into edge collection 'run_featuresets', data size: 201 byte(s)\n",
            "\u001b[0m\u001b[0m2021-07-01T08:02:02Z [199] INFO [6ae09] {restore} # Successfully restored edge collection 'run_featuresets'\n",
            "\u001b[0m\u001b[0m2021-07-01T08:02:02Z [199] INFO [94913] {restore} # Loading data into edge collection 'run_modelparams', data size: 207 byte(s)\n",
            "\u001b[0m\u001b[0m2021-07-01T08:02:02Z [199] INFO [6ae09] {restore} # Successfully restored edge collection 'run_modelparams'\n",
            "\u001b[0m\u001b[0m2021-07-01T08:02:02Z [199] INFO [94913] {restore} # Loading data into edge collection 'run_models', data size: 206 byte(s)\n",
            "\u001b[0m\u001b[0m2021-07-01T08:02:02Z [199] INFO [6ae09] {restore} # Successfully restored edge collection 'run_models'\n",
            "\u001b[0m\u001b[0m2021-07-01T08:02:02Z [199] INFO [6ae09] {restore} # Successfully restored edge collection 'Purchases'\n",
            "\u001b[0m\u001b[0m2021-07-01T08:02:02Z [199] INFO [a66e1] {restore} Processed 23 collection(s) in 13.767428 s, read 738550 byte(s) from datafiles, sent 17 data batch(es) of 738533 byte(s) total size\n",
            "\u001b[0m"
          ],
          "name": "stdout"
        }
      ]
    },
    {
      "cell_type": "markdown",
      "metadata": {
        "id": "67j8k6e-VONE"
      },
      "source": [
        "## Create Networkx Graph from ArangoDB Graph\n",
        "\n",
        "For this excercise, we will use the features of the Networkx library to perform the descriptive characterization of the graph. To do so, we will need a Networkx representation of the frequent customer graph. This can be obtained using the Networkx Adapter. To create the networkx graph, we need to provide the Networkx adapter with the following information:\n",
        "1. Connection information to the ArangoDB database that contains the graph that we want to covert to a Networkx graph\n",
        "2. Structural information to create the graph. A description of the vertex and edge collections of the graph in ArangoDB need to be provided.\n",
        "\n",
        "When this information is supplied to the adapter, the adapter creates an instance of a NetworkX graph and returns it. This instance is used for the rest of the analysis in this excercise.\n"
      ]
    },
    {
      "cell_type": "code",
      "metadata": {
        "id": "jfyCKdJ-pjza"
      },
      "source": [
        "import networkx as nx\n",
        "from adbnx_adapter.arangoDB_networkx_adapter import ArangoDB_Networkx_Adapter\n",
        "\n",
        "# Specify the connection to the ArangoDB Database\n",
        "con = {'dbName': login[\"dbName\"],\n",
        " 'username': login[\"username\"],\n",
        " 'password': login[\"password\"],\n",
        " 'hostname': login[\"DB_service_host\"],\n",
        " 'port': login[\"DB_service_port\"]}\n",
        "\n",
        "# Create Adapter instance\n",
        "ma = ArangoDB_Networkx_Adapter(conn = con)\n",
        "\n",
        "freq_customers = {'vertexCollections': {'Customers': {},\n",
        "                                         'Items': {}},\n",
        "                   'edgeCollections': {'Purchases': {'_from', '_to', 'spend'}}}\n",
        "\n",
        "# Export networkX graph                                  \n",
        "g = ma.create_networkx_graph(graph_name = '',  graph_attributes = freq_customers)\n"
      ],
      "execution_count": 7,
      "outputs": []
    },
    {
      "cell_type": "markdown",
      "metadata": {
        "id": "XJWpFl41zKcL"
      },
      "source": [
        "## Generate Vertex and Edge Characteristics\n",
        "\n",
        "In this section, the vertex and edge characteristics of frequent customer bi-partite graph are computed.\n",
        "\n",
        "To begin with we will compute the summary statistics of the bi-partite graph and we will generate the degree distribution of the two vertex sets, the customer and the item vertex sets for this graph. The details of performing this with Networkx are shown below. \n",
        "\n",
        "\n"
      ]
    },
    {
      "cell_type": "markdown",
      "metadata": {
        "id": "mvXc4Wh7-GNT"
      },
      "source": [
        "### Compute summary statistics for the bi-partite graph"
      ]
    },
    {
      "cell_type": "code",
      "metadata": {
        "id": "jUQ_y9eW63Wp"
      },
      "source": [
        "gp = g.to_undirected()"
      ],
      "execution_count": 8,
      "outputs": []
    },
    {
      "cell_type": "code",
      "metadata": {
        "id": "qdaTBIXT4hOH"
      },
      "source": [
        "cust_nodes = [n for n in g.nodes() if n.startswith(\"Customers\")]\n",
        "item_nodes = [n for n in g.nodes() if n.startswith(\"Items\")]"
      ],
      "execution_count": 9,
      "outputs": []
    },
    {
      "cell_type": "code",
      "metadata": {
        "colab": {
          "base_uri": "https://localhost:8080/"
        },
        "id": "hWxxHLaI4ipS",
        "outputId": "291b0ac0-c3c9-4928-b6ba-67f1e1a2088b"
      },
      "source": [
        "len(cust_nodes)"
      ],
      "execution_count": 10,
      "outputs": [
        {
          "output_type": "execute_result",
          "data": {
            "text/plain": [
              "447"
            ]
          },
          "metadata": {
            "tags": []
          },
          "execution_count": 10
        }
      ]
    },
    {
      "cell_type": "code",
      "metadata": {
        "colab": {
          "base_uri": "https://localhost:8080/"
        },
        "id": "CGf9Si2d4-GC",
        "outputId": "b9a981bd-a3b6-4a82-e5b5-d0b57a93c5c0"
      },
      "source": [
        "len(item_nodes)"
      ],
      "execution_count": 11,
      "outputs": [
        {
          "output_type": "execute_result",
          "data": {
            "text/plain": [
              "75"
            ]
          },
          "metadata": {
            "tags": []
          },
          "execution_count": 11
        }
      ]
    },
    {
      "cell_type": "code",
      "metadata": {
        "colab": {
          "base_uri": "https://localhost:8080/"
        },
        "id": "MkB7qoiVAMST",
        "outputId": "8b4704f3-bd31-41c2-fbe4-c47706583255"
      },
      "source": [
        "len(g.edges())"
      ],
      "execution_count": 12,
      "outputs": [
        {
          "output_type": "execute_result",
          "data": {
            "text/plain": [
              "4475"
            ]
          },
          "metadata": {
            "tags": []
          },
          "execution_count": 12
        }
      ]
    },
    {
      "cell_type": "code",
      "metadata": {
        "colab": {
          "base_uri": "https://localhost:8080/"
        },
        "id": "GVvvEr_H7iRW",
        "outputId": "25a19763-4625-4748-9168-11c29563a225"
      },
      "source": [
        "gp.is_directed()"
      ],
      "execution_count": 13,
      "outputs": [
        {
          "output_type": "execute_result",
          "data": {
            "text/plain": [
              "False"
            ]
          },
          "metadata": {
            "tags": []
          },
          "execution_count": 13
        }
      ]
    },
    {
      "cell_type": "markdown",
      "metadata": {
        "id": "c8y9l_xAA3mR"
      },
      "source": [
        "### Compute Distributions of Customer and Item Vertex Sets\n",
        "We first create a bi-partite version of the graph in networkx. The earlier graph did not discriminate the type of the node. We do that now using the bi-partite graph abstraction available in networkx."
      ]
    },
    {
      "cell_type": "code",
      "metadata": {
        "id": "1LHam5ea9Yp9"
      },
      "source": [
        "import networkx as nx\n",
        "B = nx.Graph()\n",
        "B.add_nodes_from(cust_nodes, bipartite=0)\n",
        "B.add_nodes_from(item_nodes, bipartite=1)\n",
        "B.add_edges_from(list(gp.edges()))"
      ],
      "execution_count": 14,
      "outputs": []
    },
    {
      "cell_type": "code",
      "metadata": {
        "id": "fH_e-XSCBzRS"
      },
      "source": [
        "from networkx.algorithms import bipartite\n",
        "degc, degi = bipartite.degrees(B, item_nodes)\n",
        "dc = [v for k,v in degc]\n",
        "di = [v for k,v in degi]"
      ],
      "execution_count": 15,
      "outputs": []
    },
    {
      "cell_type": "markdown",
      "metadata": {
        "id": "-ej8UNHSIEJp"
      },
      "source": [
        "#### Customer Degree Distribution"
      ]
    },
    {
      "cell_type": "code",
      "metadata": {
        "colab": {
          "base_uri": "https://localhost:8080/",
          "height": 605
        },
        "id": "ugD1w94xB_OQ",
        "outputId": "7cc4eb11-960f-4351-fedd-c0e6b2313c21"
      },
      "source": [
        "import seaborn as sns\n",
        "import matplotlib.pyplot as plt\n",
        "sns.set(rc={'figure.figsize':(11.7,8.27)})\n",
        "ax = sns.distplot(dc, hist = True)\n",
        "plt.title(\"Distribution of Customer Degree \")\n",
        "plt.xlabel(\"Customer Degree\")"
      ],
      "execution_count": 16,
      "outputs": [
        {
          "output_type": "stream",
          "text": [
            "/usr/local/lib/python3.7/dist-packages/seaborn/distributions.py:2557: FutureWarning: `distplot` is a deprecated function and will be removed in a future version. Please adapt your code to use either `displot` (a figure-level function with similar flexibility) or `histplot` (an axes-level function for histograms).\n",
            "  warnings.warn(msg, FutureWarning)\n"
          ],
          "name": "stderr"
        },
        {
          "output_type": "execute_result",
          "data": {
            "text/plain": [
              "Text(0.5, 0, 'Customer Degree')"
            ]
          },
          "metadata": {
            "tags": []
          },
          "execution_count": 16
        },
        {
          "output_type": "display_data",
          "data": {
            "image/png": "[encoded data removed]",
            "text/plain": [
              "<Figure size 842.4x595.44 with 1 Axes>"
            ]
          },
          "metadata": {
            "tags": []
          }
        }
      ]
    },
    {
      "cell_type": "markdown",
      "metadata": {
        "id": "BIxTXFdrIIVU"
      },
      "source": [
        "#### Item Degree Distribution"
      ]
    },
    {
      "cell_type": "code",
      "metadata": {
        "colab": {
          "base_uri": "https://localhost:8080/",
          "height": 605
        },
        "id": "Ex4Ks2qPCdt_",
        "outputId": "0e57bddf-786c-42d7-8cd7-ac0db5c689fe"
      },
      "source": [
        "sns.set(rc={'figure.figsize':(11.7,8.27)})\n",
        "ax = sns.distplot(di, hist = True)\n",
        "plt.title(\"Distribution of Item Degree \")\n",
        "plt.xlabel(\"Item Degree\")"
      ],
      "execution_count": 17,
      "outputs": [
        {
          "output_type": "stream",
          "text": [
            "/usr/local/lib/python3.7/dist-packages/seaborn/distributions.py:2557: FutureWarning: `distplot` is a deprecated function and will be removed in a future version. Please adapt your code to use either `displot` (a figure-level function with similar flexibility) or `histplot` (an axes-level function for histograms).\n",
            "  warnings.warn(msg, FutureWarning)\n"
          ],
          "name": "stderr"
        },
        {
          "output_type": "execute_result",
          "data": {
            "text/plain": [
              "Text(0.5, 0, 'Item Degree')"
            ]
          },
          "metadata": {
            "tags": []
          },
          "execution_count": 17
        },
        {
          "output_type": "display_data",
          "data": {
            "image/png": "[encoded data removed]",
            "text/plain": [
              "<Figure size 842.4x595.44 with 1 Axes>"
            ]
          },
          "metadata": {
            "tags": []
          }
        }
      ]
    },
    {
      "cell_type": "code",
      "metadata": {
        "id": "46I1hWd7CmH5"
      },
      "source": [
        "ci = bipartite.clustering(B, item_nodes)"
      ],
      "execution_count": 18,
      "outputs": []
    },
    {
      "cell_type": "code",
      "metadata": {
        "id": "7dwqP9_yFqaM"
      },
      "source": [
        "cv = [v for k, v in ci.items()]"
      ],
      "execution_count": 19,
      "outputs": []
    },
    {
      "cell_type": "code",
      "metadata": {
        "colab": {
          "base_uri": "https://localhost:8080/",
          "height": 605
        },
        "id": "yAL-ZAv9DMrL",
        "outputId": "c881763c-b85c-4183-93bf-03f6d2c66141"
      },
      "source": [
        "sns.set(rc={'figure.figsize':(11.7,8.27)})\n",
        "ax = sns.distplot(cv, hist = True)\n",
        "plt.title(\"Distribution of Item Clustering \")\n",
        "plt.xlabel(\"Item Clustering Coefficient\")"
      ],
      "execution_count": 20,
      "outputs": [
        {
          "output_type": "stream",
          "text": [
            "/usr/local/lib/python3.7/dist-packages/seaborn/distributions.py:2557: FutureWarning: `distplot` is a deprecated function and will be removed in a future version. Please adapt your code to use either `displot` (a figure-level function with similar flexibility) or `histplot` (an axes-level function for histograms).\n",
            "  warnings.warn(msg, FutureWarning)\n"
          ],
          "name": "stderr"
        },
        {
          "output_type": "execute_result",
          "data": {
            "text/plain": [
              "Text(0.5, 0, 'Item Clustering Coefficient')"
            ]
          },
          "metadata": {
            "tags": []
          },
          "execution_count": 20
        },
        {
          "output_type": "display_data",
          "data": {
            "image/png": "[encoded data removed]",
            "text/plain": [
              "<Figure size 842.4x595.44 with 1 Axes>"
            ]
          },
          "metadata": {
            "tags": []
          }
        }
      ]
    },
    {
      "cell_type": "markdown",
      "metadata": {
        "id": "l8LRI6esGY48"
      },
      "source": [
        "### Observations\n",
        "\n",
        "\n",
        "1.   Random networks (Erdos-Renyi) do not display clustering tendencies. An examination of the clustering coefficients associated with the item nodes clearly shows clustering tendencies. Therefore, this elminates a random graph as a possible genrative model for this graph.\n",
        "2.   The degree distribution for the customer and item nodes are non-monotonic as would be observed if either of these nodes show scale-free or power law behavior. In such a case a small set of nodes will act as hubs and have very high degress while most nodes have low degrees. Instead what we observe is that most nodes have similar degrees and a small set of nodes corresponding to both tails have either small or high degrees. This is consistent with _small world networks_ .\n",
        "3. This implies that most customers buy about the same range of items. For example, a review of the item degree graph shows that most items are bought between 25-75 people, but there a few items that are bought by many people and a few items that are not bought by many people.\n",
        "\n"
      ]
    },
    {
      "cell_type": "markdown",
      "metadata": {
        "id": "uDmM8mW6M7Wq"
      },
      "source": [
        "## Projection Graphs\n",
        "The other perspective in characterizing bipartite graphs are the characteristics of the projection graphs. The notion of the projection graph was described in the methodological overview section. We will now generate this projections for the frequent shopper group."
      ]
    },
    {
      "cell_type": "code",
      "metadata": {
        "id": "OeUcdsHcH08C"
      },
      "source": [
        "cust_graph = nx.bipartite.projected_graph(B, cust_nodes)\n",
        "item_graph = nx.bipartite.projected_graph(B, item_nodes)"
      ],
      "execution_count": 21,
      "outputs": []
    },
    {
      "cell_type": "markdown",
      "metadata": {
        "id": "SBApbM4hOF51"
      },
      "source": [
        "### Observations\n",
        "In the customer projection graph, two nodes are connected if they have purchased an item in common. Similarly, in the item projection graph, two items are connected if they have been purchased by a customer. This implies\n",
        "\n",
        "\n",
        "1.   The customer projection graph captures shared customer taste in purchases. If we pick any random node in the customer projection graph, then the users who are connected by an edge to him or her are those who share at least one purchase. A user who does not share an edge with a user is one whose shopping preferences are different. \n",
        "2.   The item projection graph captures copurchased behavior in items. If two items are connected in the item projection graph, it implies that these items were purchased by a customer. If we pick a random item in the item projection graph, following the edges connected to it tells us the items purchased with it. Items not connected to it are not purchased with it.\n",
        "\n",
        "\n"
      ]
    },
    {
      "cell_type": "markdown",
      "metadata": {
        "id": "xiNx2nzIS2K1"
      },
      "source": [
        "#### Degree distribution of Customer Graph"
      ]
    },
    {
      "cell_type": "code",
      "metadata": {
        "id": "FCKws03BQPRY"
      },
      "source": [
        "dc = nx.degree(cust_graph)\n",
        "dcv = [ v for k, v in dc]"
      ],
      "execution_count": 22,
      "outputs": []
    },
    {
      "cell_type": "markdown",
      "metadata": {
        "id": "t96IcTssI9-U"
      },
      "source": [
        "### Max Customer Projection Graph Degree"
      ]
    },
    {
      "cell_type": "code",
      "metadata": {
        "colab": {
          "base_uri": "https://localhost:8080/"
        },
        "id": "LooPeYSbIfhn",
        "outputId": "b4198bd2-41e9-4993-80ef-86cde955fc90"
      },
      "source": [
        "max(dcv)"
      ],
      "execution_count": 23,
      "outputs": [
        {
          "output_type": "execute_result",
          "data": {
            "text/plain": [
              "421"
            ]
          },
          "metadata": {
            "tags": []
          },
          "execution_count": 23
        }
      ]
    },
    {
      "cell_type": "markdown",
      "metadata": {
        "id": "jw8QNSX_JFQx"
      },
      "source": [
        "### Observation\n",
        "There is a customer whose purchasing habbits match 421 other customers!"
      ]
    },
    {
      "cell_type": "markdown",
      "metadata": {
        "id": "8qzI2UBSJXKM"
      },
      "source": [
        "### Min Customer Projection Graph Degree"
      ]
    },
    {
      "cell_type": "code",
      "metadata": {
        "colab": {
          "base_uri": "https://localhost:8080/"
        },
        "id": "MHrbrCQoJUAc",
        "outputId": "64fc265b-b28d-4a44-c34e-ca29db459542"
      },
      "source": [
        "min(dcv)"
      ],
      "execution_count": 24,
      "outputs": [
        {
          "output_type": "execute_result",
          "data": {
            "text/plain": [
              "0"
            ]
          },
          "metadata": {
            "tags": []
          },
          "execution_count": 24
        }
      ]
    },
    {
      "cell_type": "markdown",
      "metadata": {
        "id": "5JB258TYJfWv"
      },
      "source": [
        "### Observation\n",
        "There are customers whose purchasing habbits don't match any of the others in the group. These would be the outliers discussed later."
      ]
    },
    {
      "cell_type": "code",
      "metadata": {
        "colab": {
          "base_uri": "https://localhost:8080/"
        },
        "id": "YftR8bwmIDrn",
        "outputId": "29aa68f6-a254-41a0-d19a-8ff56d92126e"
      },
      "source": [
        "import numpy as np\n",
        "np.sum(dcv)/cust_graph.number_of_nodes()"
      ],
      "execution_count": 25,
      "outputs": [
        {
          "output_type": "execute_result",
          "data": {
            "text/plain": [
              "287.4765100671141"
            ]
          },
          "metadata": {
            "tags": []
          },
          "execution_count": 25
        }
      ]
    },
    {
      "cell_type": "markdown",
      "metadata": {
        "id": "ZnfKtJ6ZMVw8"
      },
      "source": [
        "Observation\n",
        "On average a user shares taste with 287 other users. A lot of shared taste. We should expect to see cliques in the graph"
      ]
    },
    {
      "cell_type": "code",
      "metadata": {
        "colab": {
          "base_uri": "https://localhost:8080/",
          "height": 605
        },
        "id": "idJnnF7GTDIL",
        "outputId": "bf7ea197-36c9-49be-dfcc-f901aef393e1"
      },
      "source": [
        "sns.set(rc={'figure.figsize':(11.7,8.27)})\n",
        "ax = sns.distplot(dcv, hist = True)\n",
        "plt.title(\"Degree distribution of Customer Graph \")\n",
        "plt.xlabel(\"Degree Distribution of Customer Projection Graph\")"
      ],
      "execution_count": 26,
      "outputs": [
        {
          "output_type": "stream",
          "text": [
            "/usr/local/lib/python3.7/dist-packages/seaborn/distributions.py:2557: FutureWarning: `distplot` is a deprecated function and will be removed in a future version. Please adapt your code to use either `displot` (a figure-level function with similar flexibility) or `histplot` (an axes-level function for histograms).\n",
            "  warnings.warn(msg, FutureWarning)\n"
          ],
          "name": "stderr"
        },
        {
          "output_type": "execute_result",
          "data": {
            "text/plain": [
              "Text(0.5, 0, 'Degree Distribution of Customer Projection Graph')"
            ]
          },
          "metadata": {
            "tags": []
          },
          "execution_count": 26
        },
        {
          "output_type": "display_data",
          "data": {
            "image/png": "[encoded data removed]",
            "text/plain": [
              "<Figure size 842.4x595.44 with 1 Axes>"
            ]
          },
          "metadata": {
            "tags": []
          }
        }
      ]
    },
    {
      "cell_type": "markdown",
      "metadata": {
        "id": "pqWEKW2BVBhk"
      },
      "source": [
        "#### Observation\n",
        "The frequent shopper group has a very high degree of shared taste. If we pick a random user in the graph, he or she is connected to hundreds (the peak density is at around 350) of other users. This implies they have a similar taste in products they purchase."
      ]
    },
    {
      "cell_type": "markdown",
      "metadata": {
        "id": "W_WTaRalULK9"
      },
      "source": [
        "#### Degree Distribution of the Item Projection Graph"
      ]
    },
    {
      "cell_type": "code",
      "metadata": {
        "id": "t-oZD8dGV7aR"
      },
      "source": [
        "di = nx.degree(item_graph)\n",
        "div = [ v for k, v in di]"
      ],
      "execution_count": 27,
      "outputs": []
    },
    {
      "cell_type": "markdown",
      "metadata": {
        "id": "CECIzHNiJtlp"
      },
      "source": [
        "### Max Item Projection Graph Degree"
      ]
    },
    {
      "cell_type": "code",
      "metadata": {
        "colab": {
          "base_uri": "https://localhost:8080/"
        },
        "id": "wYZciGvOJsuS",
        "outputId": "c5d9018f-d585-45e4-a733-283226c3b59a"
      },
      "source": [
        "max(div)"
      ],
      "execution_count": 28,
      "outputs": [
        {
          "output_type": "execute_result",
          "data": {
            "text/plain": [
              "74"
            ]
          },
          "metadata": {
            "tags": []
          },
          "execution_count": 28
        }
      ]
    },
    {
      "cell_type": "markdown",
      "metadata": {
        "id": "W9nWIcX3KMEU"
      },
      "source": [
        "### Observation\n",
        "There is an item that is bought with 74 of the 75 items"
      ]
    },
    {
      "cell_type": "markdown",
      "metadata": {
        "id": "FJOQ9x26KBbA"
      },
      "source": [
        "### Min Item Projection Graph Degree"
      ]
    },
    {
      "cell_type": "code",
      "metadata": {
        "colab": {
          "base_uri": "https://localhost:8080/"
        },
        "id": "WJ_Hs-VpKHhX",
        "outputId": "ed3d94ec-be41-474e-b594-32fd377bdd61"
      },
      "source": [
        "min(div)"
      ],
      "execution_count": 29,
      "outputs": [
        {
          "output_type": "execute_result",
          "data": {
            "text/plain": [
              "66"
            ]
          },
          "metadata": {
            "tags": []
          },
          "execution_count": 29
        }
      ]
    },
    {
      "cell_type": "markdown",
      "metadata": {
        "id": "6C6HRZ4uJ2oV"
      },
      "source": [
        "### Observation\n",
        "There is an item that is purchased with 66 of the 75 items purchased by the frequent shopper group. This suggests that there is a lot of shared taste in the frequent shopper group since at a minimum an item is purchased with 66 of the 75 inventory items."
      ]
    },
    {
      "cell_type": "code",
      "metadata": {
        "colab": {
          "base_uri": "https://localhost:8080/",
          "height": 605
        },
        "id": "MVrYtPdaWHdN",
        "outputId": "a194aa62-387d-4611-bcf2-904a4807785b"
      },
      "source": [
        "sns.set(rc={'figure.figsize':(11.7,8.27)})\n",
        "ax = sns.distplot(div, hist = True)\n",
        "plt.title(\"Degree distribution of Item Projection Graph \")\n",
        "plt.xlabel(\"Degree Distribution of Item Projection Graph\")"
      ],
      "execution_count": 30,
      "outputs": [
        {
          "output_type": "stream",
          "text": [
            "/usr/local/lib/python3.7/dist-packages/seaborn/distributions.py:2557: FutureWarning: `distplot` is a deprecated function and will be removed in a future version. Please adapt your code to use either `displot` (a figure-level function with similar flexibility) or `histplot` (an axes-level function for histograms).\n",
            "  warnings.warn(msg, FutureWarning)\n"
          ],
          "name": "stderr"
        },
        {
          "output_type": "execute_result",
          "data": {
            "text/plain": [
              "Text(0.5, 0, 'Degree Distribution of Item Projection Graph')"
            ]
          },
          "metadata": {
            "tags": []
          },
          "execution_count": 30
        },
        {
          "output_type": "display_data",
          "data": {
            "image/png": "[encoded data removed]",
            "text/plain": [
              "<Figure size 842.4x595.44 with 1 Axes>"
            ]
          },
          "metadata": {
            "tags": []
          }
        }
      ]
    },
    {
      "cell_type": "markdown",
      "metadata": {
        "id": "fYK_WhgwYlyC"
      },
      "source": [
        ""
      ]
    },
    {
      "cell_type": "markdown",
      "metadata": {
        "id": "XWDdjlTSg2an"
      },
      "source": [
        "#### Observation\n",
        "Since the customer and item projection graph are highly interconnected and since we know we are not working with a power law graph, we don't explore degree based centrality measures. Betweenness and Eigenvector centrality have useful interpretations\n"
      ]
    },
    {
      "cell_type": "code",
      "metadata": {
        "id": "LY01kuUnQjS-"
      },
      "source": [
        "evc_cust = nx.eigenvector_centrality(cust_graph)"
      ],
      "execution_count": 31,
      "outputs": []
    },
    {
      "cell_type": "code",
      "metadata": {
        "id": "I3sB1uBeSLfG"
      },
      "source": [
        "import operator\n",
        "sorted_evc = dict( sorted(evc_cust.items(), key=operator.itemgetter(1),reverse=True))"
      ],
      "execution_count": 32,
      "outputs": []
    },
    {
      "cell_type": "code",
      "metadata": {
        "colab": {
          "base_uri": "https://localhost:8080/"
        },
        "id": "HPdAJZpqSdeH",
        "outputId": "e104e40b-2e7a-4736-c4b5-6294d0ad5f1a"
      },
      "source": [
        "i = 0\n",
        "for k, v in sorted_evc.items():\n",
        "  evcs = \"Customer %s , eigenvalue centrality %.3f\" %(k,v)\n",
        "  print(evcs)\n",
        "  i = i + 1\n",
        "  if i == 10:\n",
        "    break \n"
      ],
      "execution_count": 33,
      "outputs": [
        {
          "output_type": "stream",
          "text": [
            "Customer Customers/14456 , eigenvalue centrality 0.062\n",
            "Customer Customers/16931 , eigenvalue centrality 0.062\n",
            "Customer Customers/17611 , eigenvalue centrality 0.062\n",
            "Customer Customers/16713 , eigenvalue centrality 0.062\n",
            "Customer Customers/17220 , eigenvalue centrality 0.062\n",
            "Customer Customers/18118 , eigenvalue centrality 0.062\n",
            "Customer Customers/16033 , eigenvalue centrality 0.061\n",
            "Customer Customers/15719 , eigenvalue centrality 0.061\n",
            "Customer Customers/13263 , eigenvalue centrality 0.061\n",
            "Customer Customers/15023 , eigenvalue centrality 0.061\n"
          ],
          "name": "stdout"
        }
      ]
    },
    {
      "cell_type": "markdown",
      "metadata": {
        "id": "_8v2L0s6TiQM"
      },
      "source": [
        "Observation: These customers are important because they are connected to customers who make a lot of purchases."
      ]
    },
    {
      "cell_type": "code",
      "metadata": {
        "id": "XljGWhVCT4OE"
      },
      "source": [
        "bc_cust = nx.betweenness_centrality(cust_graph)"
      ],
      "execution_count": 34,
      "outputs": []
    },
    {
      "cell_type": "code",
      "metadata": {
        "id": "fzan5a4EUMXl"
      },
      "source": [
        "import operator\n",
        "sorted_bc = dict( sorted(bc_cust.items(), key=operator.itemgetter(1),reverse=True))"
      ],
      "execution_count": 35,
      "outputs": []
    },
    {
      "cell_type": "code",
      "metadata": {
        "colab": {
          "base_uri": "https://localhost:8080/"
        },
        "id": "AIFt0ewpUL5y",
        "outputId": "51bd967a-4c92-42bf-cf2b-ca0b5e70ac33"
      },
      "source": [
        "i = 0\n",
        "for k, v in sorted_bc.items():\n",
        "  bcs = \"Customer %s , betweeness centrality %.3f\" %(k,v)\n",
        "  print(bcs)\n",
        "  i = i + 1\n",
        "  if i == 10:\n",
        "    break \n"
      ],
      "execution_count": 36,
      "outputs": [
        {
          "output_type": "stream",
          "text": [
            "Customer Customers/14456 , betweeness centrality 0.003\n",
            "Customer Customers/16931 , betweeness centrality 0.002\n",
            "Customer Customers/17813 , betweeness centrality 0.002\n",
            "Customer Customers/15547 , betweeness centrality 0.002\n",
            "Customer Customers/17611 , betweeness centrality 0.002\n",
            "Customer Customers/16686 , betweeness centrality 0.002\n",
            "Customer Customers/16033 , betweeness centrality 0.002\n",
            "Customer Customers/14502 , betweeness centrality 0.002\n",
            "Customer Customers/14546 , betweeness centrality 0.002\n",
            "Customer Customers/16713 , betweeness centrality 0.002\n"
          ],
          "name": "stdout"
        }
      ]
    },
    {
      "cell_type": "markdown",
      "metadata": {
        "id": "xcbEuKNoUiHG"
      },
      "source": [
        "Observation: These customers are important because they figure in the paths connecting customers. If these customers make new purchases, then their network could follow."
      ]
    },
    {
      "cell_type": "code",
      "metadata": {
        "id": "zAwuYMAxVk9t"
      },
      "source": [
        "evc_item = nx.eigenvector_centrality(item_graph)"
      ],
      "execution_count": 37,
      "outputs": []
    },
    {
      "cell_type": "code",
      "metadata": {
        "id": "Qb4V4pBxVk9t"
      },
      "source": [
        "import operator\n",
        "sorted_evi = dict( sorted(evc_item.items(), key=operator.itemgetter(1),reverse=True))"
      ],
      "execution_count": 38,
      "outputs": []
    },
    {
      "cell_type": "code",
      "metadata": {
        "colab": {
          "base_uri": "https://localhost:8080/"
        },
        "id": "rJ6vB1klVk9t",
        "outputId": "30db0cfd-882e-46b5-c154-1a9aabb1ca0f"
      },
      "source": [
        "i = 0\n",
        "for k, v in sorted_evi.items():\n",
        "  evis = \"Item %s , eigenvalue centrality %.3f\" %(k,v)\n",
        "  print(evis)\n",
        "  i = i + 1\n",
        "  if i == 10:\n",
        "    break \n"
      ],
      "execution_count": 39,
      "outputs": [
        {
          "output_type": "stream",
          "text": [
            "Item Items/21165 , eigenvalue centrality 0.117\n",
            "Item Items/21754 , eigenvalue centrality 0.117\n",
            "Item Items/22427 , eigenvalue centrality 0.117\n",
            "Item Items/22720 , eigenvalue centrality 0.117\n",
            "Item Items/22570 , eigenvalue centrality 0.117\n",
            "Item Items/22139 , eigenvalue centrality 0.117\n",
            "Item Items/48111 , eigenvalue centrality 0.117\n",
            "Item Items/82486 , eigenvalue centrality 0.117\n",
            "Item Items/23355 , eigenvalue centrality 0.117\n",
            "Item Items/22569 , eigenvalue centrality 0.117\n"
          ],
          "name": "stdout"
        }
      ]
    },
    {
      "cell_type": "markdown",
      "metadata": {
        "id": "_AGM4PG1V9LE"
      },
      "source": [
        "Observation: These items are important because they are connected to items purchased a lot."
      ]
    },
    {
      "cell_type": "code",
      "metadata": {
        "id": "vbmmzqCQWNkS"
      },
      "source": [
        "bc_item = nx.betweenness_centrality(item_graph)"
      ],
      "execution_count": 40,
      "outputs": []
    },
    {
      "cell_type": "code",
      "metadata": {
        "id": "NHv3k2-fWV7q"
      },
      "source": [
        "import operator\n",
        "sorted_bc = dict( sorted(bc_item.items(), key=operator.itemgetter(1),reverse=True))"
      ],
      "execution_count": 41,
      "outputs": []
    },
    {
      "cell_type": "code",
      "metadata": {
        "colab": {
          "base_uri": "https://localhost:8080/"
        },
        "id": "pEqGdaPrWhgf",
        "outputId": "51dbc66f-bc26-4b5c-b3fb-bf5f8d4a2b78"
      },
      "source": [
        "i = 0\n",
        "for k, v in sorted_bc.items():\n",
        "  bcs = \"Item %s , betweeness centrality %.6f\" %(k,v)\n",
        "  print(bcs)\n",
        "  i = i + 1\n",
        "  if i == 10:\n",
        "    break "
      ],
      "execution_count": 42,
      "outputs": [
        {
          "output_type": "stream",
          "text": [
            "Item Items/21165 , betweeness centrality 0.000233\n",
            "Item Items/21754 , betweeness centrality 0.000233\n",
            "Item Items/22427 , betweeness centrality 0.000233\n",
            "Item Items/22720 , betweeness centrality 0.000233\n",
            "Item Items/22570 , betweeness centrality 0.000233\n",
            "Item Items/22139 , betweeness centrality 0.000233\n",
            "Item Items/48111 , betweeness centrality 0.000233\n",
            "Item Items/82486 , betweeness centrality 0.000233\n",
            "Item Items/23355 , betweeness centrality 0.000233\n",
            "Item Items/22569 , betweeness centrality 0.000233\n"
          ],
          "name": "stdout"
        }
      ]
    },
    {
      "cell_type": "markdown",
      "metadata": {
        "id": "mlOFAGVuXWEk"
      },
      "source": [
        "Observation: As will be discussed in the section on Network cohesion, there are large cliques in the item projection graph. The notion of betweeness does not offer a useful interpretation with this structure because most items are co-purchased with other items"
      ]
    },
    {
      "cell_type": "markdown",
      "metadata": {
        "id": "4uJA1Nw8fDEE"
      },
      "source": [
        "## Network Cohesion\n",
        "\n",
        "We described the vertex and edge characteristics of the graph representation associated with the frequent shopper group. In doing so, we already discovered that this group is homogeneous with a lot of shared taste. The other perspective to characterize the graph is a description of cohesion. We will do that in this section."
      ]
    },
    {
      "cell_type": "markdown",
      "metadata": {
        "id": "mhRNRlCjka2y"
      },
      "source": [
        "#### Connected Components\n",
        "A fundamental question to determine the answer to is: \"Is the customer projection graph connected?\" This asks if we starting with any user we can reach another user in the projection graph. If we can reach this user in one hop, it means the user shares shopping preference with the user we are starting with. If we need two hops, it means there is no shared taste, but someone who the starting user shares taste with shares taste with this user. Can every customer in the frequent shopper group be related this way? Are there exceptions? We can find the answer by determining the connected components of the customer projection graph. This done below."
      ]
    },
    {
      "cell_type": "markdown",
      "metadata": {
        "id": "qj9lzFgKl5XJ"
      },
      "source": [
        "##### Check if the customer projection graph is connected"
      ]
    },
    {
      "cell_type": "code",
      "metadata": {
        "colab": {
          "base_uri": "https://localhost:8080/"
        },
        "id": "lNluSqChZpUo",
        "outputId": "30d98b2b-ef87-473f-98d8-74cd921cd489"
      },
      "source": [
        "nx.is_connected(cust_graph)"
      ],
      "execution_count": 43,
      "outputs": [
        {
          "output_type": "execute_result",
          "data": {
            "text/plain": [
              "False"
            ]
          },
          "metadata": {
            "tags": []
          },
          "execution_count": 43
        }
      ]
    },
    {
      "cell_type": "markdown",
      "metadata": {
        "id": "-NC_kLlXmAUi"
      },
      "source": [
        "#### Idenfify the connected components for the customer projected graph"
      ]
    },
    {
      "cell_type": "code",
      "metadata": {
        "colab": {
          "base_uri": "https://localhost:8080/"
        },
        "id": "C60iz2mtjm2f",
        "outputId": "08feb374-efd0-4f84-9d95-23256bb783fc"
      },
      "source": [
        "[len(c) for c in sorted(nx.connected_components(cust_graph), key=len, reverse=True)]"
      ],
      "execution_count": 44,
      "outputs": [
        {
          "output_type": "execute_result",
          "data": {
            "text/plain": [
              "[437, 1, 1, 1, 1, 1, 1, 1, 1, 1, 1]"
            ]
          },
          "metadata": {
            "tags": []
          },
          "execution_count": 44
        }
      ]
    },
    {
      "cell_type": "markdown",
      "metadata": {
        "id": "nXbsN-_z6Zq8"
      },
      "source": [
        "### Store the Customer and Item Projected Graph for Analysis\n",
        "\n",
        "These graphs will be analyzed in the next excercise."
      ]
    },
    {
      "cell_type": "code",
      "metadata": {
        "colab": {
          "base_uri": "https://localhost:8080/",
          "height": 205
        },
        "id": "NizN3qDacVPP",
        "outputId": "7c29c28b-db2d-4df5-dd58-ae7a3d4448ef"
      },
      "source": [
        "df_cgraph_comp1 = nx.to_pandas_edgelist(cust_graph.subgraph(next(nx.connected_components(cust_graph))))\n",
        "fp = \"data/customer_projected_graph.csv\"\n",
        "df_cgraph_comp1.to_csv(fp, index = False)\n",
        "df_cgraph_comp1.head()"
      ],
      "execution_count": 45,
      "outputs": [
        {
          "output_type": "execute_result",
          "data": {
            "text/html": [
              "<div>\n",
              "<style scoped>\n",
              "    .dataframe tbody tr th:only-of-type {\n",
              "        vertical-align: middle;\n",
              "    }\n",
              "\n",
              "    .dataframe tbody tr th {\n",
              "        vertical-align: top;\n",
              "    }\n",
              "\n",
              "    .dataframe thead th {\n",
              "        text-align: right;\n",
              "    }\n",
              "</style>\n",
              "<table border=\"1\" class=\"dataframe\">\n",
              "  <thead>\n",
              "    <tr style=\"text-align: right;\">\n",
              "      <th></th>\n",
              "      <th>source</th>\n",
              "      <th>target</th>\n",
              "    </tr>\n",
              "  </thead>\n",
              "  <tbody>\n",
              "    <tr>\n",
              "      <th>0</th>\n",
              "      <td>Customers/18237</td>\n",
              "      <td>Customers/13527</td>\n",
              "    </tr>\n",
              "    <tr>\n",
              "      <th>1</th>\n",
              "      <td>Customers/18237</td>\n",
              "      <td>Customers/16255</td>\n",
              "    </tr>\n",
              "    <tr>\n",
              "      <th>2</th>\n",
              "      <td>Customers/18237</td>\n",
              "      <td>Customers/14215</td>\n",
              "    </tr>\n",
              "    <tr>\n",
              "      <th>3</th>\n",
              "      <td>Customers/18237</td>\n",
              "      <td>Customers/14194</td>\n",
              "    </tr>\n",
              "    <tr>\n",
              "      <th>4</th>\n",
              "      <td>Customers/18237</td>\n",
              "      <td>Customers/14415</td>\n",
              "    </tr>\n",
              "  </tbody>\n",
              "</table>\n",
              "</div>"
            ],
            "text/plain": [
              "            source           target\n",
              "0  Customers/18237  Customers/13527\n",
              "1  Customers/18237  Customers/16255\n",
              "2  Customers/18237  Customers/14215\n",
              "3  Customers/18237  Customers/14194\n",
              "4  Customers/18237  Customers/14415"
            ]
          },
          "metadata": {
            "tags": []
          },
          "execution_count": 45
        }
      ]
    },
    {
      "cell_type": "code",
      "metadata": {
        "colab": {
          "base_uri": "https://localhost:8080/",
          "height": 205
        },
        "id": "Tx4YaryA6F4z",
        "outputId": "706aabd4-24cb-43b6-ffca-78e0140372b4"
      },
      "source": [
        "df_item_graph = nx.to_pandas_edgelist(item_graph)\n",
        "fp = \"data/item_projected_graph.csv\"\n",
        "df_item_graph.to_csv(fp, index = False)\n",
        "df_item_graph.head()"
      ],
      "execution_count": 46,
      "outputs": [
        {
          "output_type": "execute_result",
          "data": {
            "text/html": [
              "<div>\n",
              "<style scoped>\n",
              "    .dataframe tbody tr th:only-of-type {\n",
              "        vertical-align: middle;\n",
              "    }\n",
              "\n",
              "    .dataframe tbody tr th {\n",
              "        vertical-align: top;\n",
              "    }\n",
              "\n",
              "    .dataframe thead th {\n",
              "        text-align: right;\n",
              "    }\n",
              "</style>\n",
              "<table border=\"1\" class=\"dataframe\">\n",
              "  <thead>\n",
              "    <tr style=\"text-align: right;\">\n",
              "      <th></th>\n",
              "      <th>source</th>\n",
              "      <th>target</th>\n",
              "    </tr>\n",
              "  </thead>\n",
              "  <tbody>\n",
              "    <tr>\n",
              "      <th>0</th>\n",
              "      <td>Items/22771</td>\n",
              "      <td>Items/85175</td>\n",
              "    </tr>\n",
              "    <tr>\n",
              "      <th>1</th>\n",
              "      <td>Items/22771</td>\n",
              "      <td>Items/22077</td>\n",
              "    </tr>\n",
              "    <tr>\n",
              "      <th>2</th>\n",
              "      <td>Items/22771</td>\n",
              "      <td>Items/21754</td>\n",
              "    </tr>\n",
              "    <tr>\n",
              "      <th>3</th>\n",
              "      <td>Items/22771</td>\n",
              "      <td>Items/22749</td>\n",
              "    </tr>\n",
              "    <tr>\n",
              "      <th>4</th>\n",
              "      <td>Items/22771</td>\n",
              "      <td>Items/84375</td>\n",
              "    </tr>\n",
              "  </tbody>\n",
              "</table>\n",
              "</div>"
            ],
            "text/plain": [
              "        source       target\n",
              "0  Items/22771  Items/85175\n",
              "1  Items/22771  Items/22077\n",
              "2  Items/22771  Items/21754\n",
              "3  Items/22771  Items/22749\n",
              "4  Items/22771  Items/84375"
            ]
          },
          "metadata": {
            "tags": []
          },
          "execution_count": 46
        }
      ]
    },
    {
      "cell_type": "code",
      "metadata": {
        "id": "r3bkR7UrwKah"
      },
      "source": [
        ""
      ],
      "execution_count": 46,
      "outputs": []
    },
    {
      "cell_type": "markdown",
      "metadata": {
        "id": "P3nFYj8amake"
      },
      "source": [
        "### Observation\n",
        "There is a large group of customers (437) whose shopping tastes are related and a group of ten customers who are outliers. These ten customers have shopping taste that is different from the other group with related taste.\n"
      ]
    },
    {
      "cell_type": "markdown",
      "metadata": {
        "id": "9ni3ZXCZpYBE"
      },
      "source": [
        "#### Check if the item projection graph is connected"
      ]
    },
    {
      "cell_type": "code",
      "metadata": {
        "colab": {
          "base_uri": "https://localhost:8080/"
        },
        "id": "B15BssLimlk5",
        "outputId": "1092af87-b7b6-4ee2-eb61-e9c36387edda"
      },
      "source": [
        "nx.is_connected(item_graph)"
      ],
      "execution_count": 47,
      "outputs": [
        {
          "output_type": "execute_result",
          "data": {
            "text/plain": [
              "True"
            ]
          },
          "metadata": {
            "tags": []
          },
          "execution_count": 47
        }
      ]
    },
    {
      "cell_type": "markdown",
      "metadata": {
        "id": "k6u3cCrkpipf"
      },
      "source": [
        "##### Observation:\n",
        "This implies that item group can be related and there are no outliers like with the customers."
      ]
    },
    {
      "cell_type": "markdown",
      "metadata": {
        "id": "3sX2dkuAVKhz"
      },
      "source": [
        "### K Core \n",
        "Since the item and customer graph have high degrees associated with most nodes, we are likely to find cliques in both these projection graph. A clique is a graph where each node is conneted to the other nodes in the graph. A clique in the customer projection graph represent customers who buy the same items. The size of the clique captures the items they buy in common. Analogously, a clique in the item projection graph represents items that are purchased together. A clique can be identified using a K-Core of the graph. A K-Core of the graph represents a subgraph where the degree of each degree is at least K. To identify the largest clique we will start with the K set to the maximum degree and check if we can find a K core, if we cannot find a clique, we decrement K till we reach a K where a K core is found. The segments below illustrate this process for both the item and customer projection graphs.\n"
      ]
    },
    {
      "cell_type": "code",
      "metadata": {
        "id": "a4LO5Zjvptur"
      },
      "source": [
        "k = 400\n",
        "while True:\n",
        "  kg = nx.k_core(cust_graph, k)\n",
        "  if kg.number_of_nodes() > 0:\n",
        "    break\n",
        "  else:\n",
        "    k = k -1\n"
      ],
      "execution_count": 48,
      "outputs": []
    },
    {
      "cell_type": "code",
      "metadata": {
        "colab": {
          "base_uri": "https://localhost:8080/"
        },
        "id": "nH6Cd8mvNO6K",
        "outputId": "d852360b-822a-4e95-99c5-f6aca34c956b"
      },
      "source": [
        "print(\"Largest clique in customer graph is {} \".format(k))"
      ],
      "execution_count": 49,
      "outputs": [
        {
          "output_type": "stream",
          "text": [
            "Largest clique in customer graph is 224 \n"
          ],
          "name": "stdout"
        }
      ]
    },
    {
      "cell_type": "markdown",
      "metadata": {
        "id": "eQkhsR23WrTS"
      },
      "source": [
        "### Observation:\n",
        "We can find a group of users where each user is similar to 224 users in terms of purchasing habbits."
      ]
    },
    {
      "cell_type": "code",
      "metadata": {
        "colab": {
          "base_uri": "https://localhost:8080/"
        },
        "id": "1eC7OcV4Mojt",
        "outputId": "15e25ea5-f1aa-44b2-d08f-9c086b7af2b4"
      },
      "source": [
        "kg.number_of_nodes()"
      ],
      "execution_count": 50,
      "outputs": [
        {
          "output_type": "execute_result",
          "data": {
            "text/plain": [
              "288"
            ]
          },
          "metadata": {
            "tags": []
          },
          "execution_count": 50
        }
      ]
    },
    {
      "cell_type": "code",
      "metadata": {
        "id": "F01gQmRJWI0k"
      },
      "source": [
        "i = 75\n",
        "while True:\n",
        "  kg = nx.k_core(item_graph, i)\n",
        "  if kg.number_of_nodes() > 0:\n",
        "    break\n",
        "  else:\n",
        "    i = i -1"
      ],
      "execution_count": 51,
      "outputs": []
    },
    {
      "cell_type": "code",
      "metadata": {
        "colab": {
          "base_uri": "https://localhost:8080/"
        },
        "id": "DHbIObhkWZzv",
        "outputId": "75578518-c4ab-4dd3-f5bc-5e9b483eccc7"
      },
      "source": [
        "print(\"Largest clique in item graph is {} \".format(i))"
      ],
      "execution_count": 52,
      "outputs": [
        {
          "output_type": "stream",
          "text": [
            "Largest clique in item graph is 67 \n"
          ],
          "name": "stdout"
        }
      ]
    },
    {
      "cell_type": "markdown",
      "metadata": {
        "id": "K0nMuaWlXEKR"
      },
      "source": [
        "### Observation:\n",
        "We can find a group of 67 items in the store that are purchased together."
      ]
    },
    {
      "cell_type": "markdown",
      "metadata": {
        "id": "ojNPs0cfGGQ_"
      },
      "source": [
        "## Summary of Identified Facts"
      ]
    },
    {
      "cell_type": "markdown",
      "metadata": {
        "id": "iUzzS0inAFdY"
      },
      "source": [
        "\n",
        "\n",
        "*   The customer and item degree distributions show non-monotonic behavior. Most nodes have similar degrees. A small group of nodes have high and low degrees. This is suggestive of small world behavior. If the degree distributions showed a monotonic character with a small number of nodes having high degrees (hubs) with others having smaller degrees, that would suggest a power law network. Since we observe clustering tendencies in the graph we know that the graphs are not random graphs (which have no clustering tendencies).\n",
        "*   The customer and item projection graphs represent shared shopping taste and co-purchasing behavior. Shared taste implies users buy similar items. Copurchasing behavior captures items that are purchased together. Both of these behaviors are critical information to the business.\n",
        "*  Users adjacent to a customer in the customer projection graph are the users with similar to the user.\n",
        "* Users non-adjacent (more than one hop away) are disimilar to the user.\n",
        "* Items adjacent to an item in the item projection graph are the items co-purchased with the items.\n",
        "* Items not adjacent (more than one hop away) are not purchased with the item.\n",
        "* Diameter of the user projection graph identifies the most disimilar users in terms of taste.\n",
        "* Diameter of the item graph identifies items that are most unlikely to be purchased together.\n",
        "* There are a group of 10 customers with unique tastes. They are the outliers in the customer group.\n",
        "* Most nodes in the customer and item projection graph have high degrees. This implies that these graphs have cliques.\n",
        "* Cliques in the customer graph identify cohorts of customers with shared taste. The clique size can be used to specify the shared taste.\n",
        "* Cliques in the item projection identify cohorts of items purchased together. The clique size can be used to quantify the co-purchasing behavior\n"
      ]
    },
    {
      "cell_type": "markdown",
      "metadata": {
        "id": "MqQLri5S6our"
      },
      "source": [
        "## Log the Modeling Activity in Arangopipe"
      ]
    },
    {
      "cell_type": "code",
      "metadata": {
        "id": "EQRvMwxqXXZO"
      },
      "source": [
        "ds_info = {\"name\" : \"Frequent_Customer_Graph\",\\\n",
        "            \"description\": \"Frequent Customer Graph of Retail Dataset\",\\\n",
        "           \"source\": \"ArangoDB dump of Retail from Notebook II\" }\n",
        "ds_reg = ap.register_dataset(ds_info)"
      ],
      "execution_count": 53,
      "outputs": []
    },
    {
      "cell_type": "code",
      "metadata": {
        "id": "bnB4djrbX6HS"
      },
      "source": [
        "\n",
        "featureset = {\"name\": \"Features are attributes of the nodes\"}\n",
        "fs_reg = ap.register_featureset(featureset, ds_reg[\"_key\"]) "
      ],
      "execution_count": 54,
      "outputs": []
    },
    {
      "cell_type": "code",
      "metadata": {
        "id": "Xgk7np5mY1_E"
      },
      "source": [
        "import io\n",
        "import requests\n",
        "url = ('https://raw.githubusercontent.com/rajivsam/interactive_tutorials/master/notebooks/Graph_Retail_Descriptive_Analytics.ipynb')\n",
        "nbjson = requests.get(url).text"
      ],
      "execution_count": 55,
      "outputs": []
    },
    {
      "cell_type": "code",
      "metadata": {
        "id": "qp2QFmL_ZNcQ"
      },
      "source": [
        "\n",
        "model_info = {\"name\": \"Descriptive Analytics for Frequent Customers\",  \"task\": \"Exploratory Data Analysis\", 'notebook': nbjson}\n",
        "model_reg = ap.register_model(model_info, project = \"Retail_Graph_Analytics\")"
      ],
      "execution_count": 56,
      "outputs": []
    },
    {
      "cell_type": "code",
      "metadata": {
        "id": "2SqQmvicWe2T"
      },
      "source": [
        "import uuid\n",
        "import datetime\n",
        "#import jsonpickle\n",
        "\n",
        "ruuid = str(uuid.uuid4().int)\n",
        "model_perf = {'run_id': ruuid, \"timestamp\": str(datetime.datetime.now())}\n",
        "\n",
        "#mp = jsonpickle.encode(mp)\n",
        "model_params = {'run_id': ruuid, 'model_params': 'Not Applicable'}\n",
        "\n",
        "run_info = {\"dataset\" : ds_reg[\"_key\"],\\\n",
        "                    \"featureset\": fs_reg[\"_key\"],\\\n",
        "                    \"run_id\": ruuid,\\\n",
        "                    \"model\": model_reg[\"_key\"],\\\n",
        "                    \"model-params\": model_params,\\\n",
        "                    \"model-perf\": model_perf,\\\n",
        "                    \"tag\": \"Retail Descriptive Analytics Notebook\",\\\n",
        "                    \"project\": \"Retail_Graph_Analytics\"}\n",
        "ap.log_run(run_info)"
      ],
      "execution_count": 57,
      "outputs": []
    },
    {
      "cell_type": "code",
      "metadata": {
        "colab": {
          "base_uri": "https://localhost:8080/"
        },
        "id": "ACAGjdDFryRg",
        "outputId": "6c0c5033-e1b2-4213-9fb9-e22c04fc6600"
      },
      "source": [
        "!./tools/arangodump  -c none --server.endpoint http+ssl://{login[\"DB_service_host\"]}:{login[\"DB_service_port\"]} --server.username {login[\"username\"]} --server.database {login[\"dbName\"]} --server.password {login[\"password\"]} --overwrite true --output-directory \"data/retail_freq_cust_data_dump_eonb3\""
      ],
      "execution_count": 58,
      "outputs": [
        {
          "output_type": "stream",
          "text": [
            "\u001b[0m2021-07-01T08:02:48Z [218] INFO [f3a1f] {dump} Connected to ArangoDB 'http+ssl://arangoml.arangodb.cloud:8529', database: 'MLfulvedvcszhg0mz4vfnawq', username: 'MLaja4nyilzh9d1sjzohqg2'\n",
            "\u001b[0m\u001b[0m2021-07-01T08:02:48Z [218] INFO [5e989] {dump} Writing dump to output directory 'data/retail_freq_cust_data_dump_eonb3' with 2 thread(s)\n",
            "\u001b[0m\u001b[0m2021-07-01T08:02:49Z [218] INFO [e4134] {dump} Last tick provided by server is: 680061401\n",
            "\u001b[0m\u001b[0m2021-07-01T08:02:49Z [218] INFO [5239e] {dump} # Dumping collection 'run_devperf'...\n",
            "\u001b[0m\u001b[0m2021-07-01T08:02:49Z [218] INFO [a27be] {dump} # Dumping shard 's674642798' from DBserver 'PRMR-pz95kfpg' ...\n",
            "\u001b[0m\u001b[0m2021-07-01T08:02:49Z [218] INFO [5239e] {dump} # Dumping collection 'Purchases'...\n",
            "\u001b[0m\u001b[0m2021-07-01T08:02:49Z [218] INFO [a27be] {dump} # Dumping shard 's674642794' from DBserver 'PRMR-pz95kfpg' ...\n",
            "\u001b[0m\u001b[0m2021-07-01T08:02:49Z [218] INFO [5239e] {dump} # Dumping collection 'featureset_dataset'...\n",
            "\u001b[0m\u001b[0m2021-07-01T08:02:49Z [218] INFO [a27be] {dump} # Dumping shard 's674642790' from DBserver 'PRMR-pz95kfpg' ...\n",
            "\u001b[0m\u001b[0m2021-07-01T08:02:49Z [218] INFO [5239e] {dump} # Dumping collection 'run_modelparams'...\n",
            "\u001b[0m\u001b[0m2021-07-01T08:02:49Z [218] INFO [a27be] {dump} # Dumping shard 's674642804' from DBserver 'PRMR-pz95kfpg' ...\n",
            "\u001b[0m\u001b[0m2021-07-01T08:02:49Z [218] INFO [5239e] {dump} # Dumping collection 'deployment_servingperf'...\n",
            "\u001b[0m\u001b[0m2021-07-01T08:02:49Z [218] INFO [a27be] {dump} # Dumping shard 's674642788' from DBserver 'PRMR-pz95kfpg' ...\n",
            "\u001b[0m\u001b[0m2021-07-01T08:02:49Z [218] INFO [5239e] {dump} # Dumping collection 'Customers'...\n",
            "\u001b[0m\u001b[0m2021-07-01T08:02:49Z [218] INFO [a27be] {dump} # Dumping shard 's674642760' from DBserver 'PRMR-pz95kfpg' ...\n",
            "\u001b[0m\u001b[0m2021-07-01T08:02:50Z [218] INFO [5239e] {dump} # Dumping collection 'project'...\n",
            "\u001b[0m\u001b[0m2021-07-01T08:02:50Z [218] INFO [a27be] {dump} # Dumping shard 's674642776' from DBserver 'PRMR-pz95kfpg' ...\n",
            "\u001b[0m\u001b[0m2021-07-01T08:02:50Z [218] INFO [5239e] {dump} # Dumping collection 'run_featuresets'...\n",
            "\u001b[0m\u001b[0m2021-07-01T08:02:50Z [218] INFO [a27be] {dump} # Dumping shard 's674642802' from DBserver 'PRMR-pz95kfpg' ...\n",
            "\u001b[0m\u001b[0m2021-07-01T08:02:50Z [218] INFO [5239e] {dump} # Dumping collection 'datasets'...\n",
            "\u001b[0m\u001b[0m2021-07-01T08:02:50Z [218] INFO [a27be] {dump} # Dumping shard 's674642762' from DBserver 'PRMR-pz95kfpg' ...\n",
            "\u001b[0m\u001b[0m2021-07-01T08:02:50Z [218] INFO [5239e] {dump} # Dumping collection 'servingperf'...\n",
            "\u001b[0m\u001b[0m2021-07-01T08:02:50Z [218] INFO [a27be] {dump} # Dumping shard 's674642780' from DBserver 'PRMR-pz95kfpg' ...\n",
            "\u001b[0m\u001b[0m2021-07-01T08:02:50Z [218] INFO [5239e] {dump} # Dumping collection 'modelparams'...\n",
            "\u001b[0m\u001b[0m2021-07-01T08:02:50Z [218] INFO [a27be] {dump} # Dumping shard 's674642772' from DBserver 'PRMR-pz95kfpg' ...\n",
            "\u001b[0m\u001b[0m2021-07-01T08:02:50Z [218] INFO [5239e] {dump} # Dumping collection 'run'...\n",
            "\u001b[0m\u001b[0m2021-07-01T08:02:50Z [218] INFO [a27be] {dump} # Dumping shard 's674642778' from DBserver 'PRMR-pz95kfpg' ...\n",
            "\u001b[0m\u001b[0m2021-07-01T08:02:50Z [218] INFO [5239e] {dump} # Dumping collection 'run_models'...\n",
            "\u001b[0m\u001b[0m2021-07-01T08:02:50Z [218] INFO [a27be] {dump} # Dumping shard 's674642806' from DBserver 'PRMR-pz95kfpg' ...\n",
            "\u001b[0m\u001b[0m2021-07-01T08:02:50Z [218] INFO [5239e] {dump} # Dumping collection 'deployment_modelparams'...\n",
            "\u001b[0m\u001b[0m2021-07-01T08:02:50Z [218] INFO [a27be] {dump} # Dumping shard 's674642786' from DBserver 'PRMR-pz95kfpg' ...\n",
            "\u001b[0m\u001b[0m2021-07-01T08:02:50Z [218] INFO [5239e] {dump} # Dumping collection 'deployment_featureset'...\n",
            "\u001b[0m\u001b[0m2021-07-01T08:02:50Z [218] INFO [a27be] {dump} # Dumping shard 's674642782' from DBserver 'PRMR-pz95kfpg' ...\n",
            "\u001b[0m\u001b[0m2021-07-01T08:02:51Z [218] INFO [5239e] {dump} # Dumping collection 'deployment'...\n",
            "\u001b[0m\u001b[0m2021-07-01T08:02:51Z [218] INFO [a27be] {dump} # Dumping shard 's674642764' from DBserver 'PRMR-pz95kfpg' ...\n",
            "\u001b[0m\u001b[0m2021-07-01T08:02:51Z [218] INFO [5239e] {dump} # Dumping collection 'devperf'...\n",
            "\u001b[0m\u001b[0m2021-07-01T08:02:51Z [218] INFO [a27be] {dump} # Dumping shard 's674642766' from DBserver 'PRMR-pz95kfpg' ...\n",
            "\u001b[0m\u001b[0m2021-07-01T08:02:51Z [218] INFO [5239e] {dump} # Dumping collection 'featuresets'...\n",
            "\u001b[0m\u001b[0m2021-07-01T08:02:51Z [218] INFO [a27be] {dump} # Dumping shard 's674642768' from DBserver 'PRMR-pz95kfpg' ...\n",
            "\u001b[0m\u001b[0m2021-07-01T08:02:51Z [218] INFO [5239e] {dump} # Dumping collection 'run_datasets'...\n",
            "\u001b[0m\u001b[0m2021-07-01T08:02:51Z [218] INFO [a27be] {dump} # Dumping shard 's674642796' from DBserver 'PRMR-pz95kfpg' ...\n",
            "\u001b[0m\u001b[0m2021-07-01T08:02:51Z [218] INFO [5239e] {dump} # Dumping collection 'Items'...\n",
            "\u001b[0m\u001b[0m2021-07-01T08:02:51Z [218] INFO [a27be] {dump} # Dumping shard 's674642770' from DBserver 'PRMR-pz95kfpg' ...\n",
            "\u001b[0m\u001b[0m2021-07-01T08:02:51Z [218] INFO [5239e] {dump} # Dumping collection 'models'...\n",
            "\u001b[0m\u001b[0m2021-07-01T08:02:51Z [218] INFO [a27be] {dump} # Dumping shard 's674642774' from DBserver 'PRMR-pz95kfpg' ...\n",
            "\u001b[0m\u001b[0m2021-07-01T08:02:51Z [218] INFO [5239e] {dump} # Dumping collection 'project_models'...\n",
            "\u001b[0m\u001b[0m2021-07-01T08:02:51Z [218] INFO [a27be] {dump} # Dumping shard 's674642792' from DBserver 'PRMR-pz95kfpg' ...\n",
            "\u001b[0m\u001b[0m2021-07-01T08:02:51Z [218] INFO [5239e] {dump} # Dumping collection 'deployment_model'...\n",
            "\u001b[0m\u001b[0m2021-07-01T08:02:51Z [218] INFO [a27be] {dump} # Dumping shard 's674642784' from DBserver 'PRMR-pz95kfpg' ...\n",
            "\u001b[0m\u001b[0m2021-07-01T08:02:52Z [218] INFO [66c0e] {dump} Processed 23 collection(s) in 4.193106 s, wrote 741645 byte(s) into datafiles, sent 23 batch(es)\n",
            "\u001b[0m"
          ],
          "name": "stdout"
        }
      ]
    }
  ]
}