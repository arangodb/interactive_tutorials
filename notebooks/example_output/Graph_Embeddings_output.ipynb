{
  "nbformat": 4,
  "nbformat_minor": 0,
  "metadata": {
    "colab": {
      "name": "Copy of Graph_Embeddings.ipynb",
      "provenance": []
    },
    "kernelspec": {
      "display_name": "Python 3",
      "language": "python",
      "name": "python3"
    },
    "language_info": {
      "codemirror_mode": {
        "name": "ipython",
        "version": 3
      },
      "file_extension": ".py",
      "mimetype": "text/x-python",
      "name": "python",
      "nbconvert_exporter": "python",
      "pygments_lexer": "ipython3",
      "version": "3.7.6"
    },
    "widgets": {
      "application/vnd.jupyter.widget-state+json": {
        "a76aafe77f79463bb8630f5514b08daa": {
          "model_module": "@jupyter-widgets/controls",
          "model_name": "HBoxModel",
          "state": {
            "_view_name": "HBoxView",
            "_dom_classes": [],
            "_model_name": "HBoxModel",
            "_view_module": "@jupyter-widgets/controls",
            "_model_module_version": "1.5.0",
            "_view_count": null,
            "_view_module_version": "1.5.0",
            "box_style": "",
            "layout": "IPY_MODEL_64005355e4de48ed907bfe0363c526c4",
            "_model_module": "@jupyter-widgets/controls",
            "children": [
              "IPY_MODEL_e10ea9a0437c455bb2ede6c7020c7930",
              "IPY_MODEL_d020b901d06f44d5830d704a93141f3f"
            ]
          }
        },
        "64005355e4de48ed907bfe0363c526c4": {
          "model_module": "@jupyter-widgets/base",
          "model_name": "LayoutModel",
          "state": {
            "_view_name": "LayoutView",
            "grid_template_rows": null,
            "right": null,
            "justify_content": null,
            "_view_module": "@jupyter-widgets/base",
            "overflow": null,
            "_model_module_version": "1.2.0",
            "_view_count": null,
            "flex_flow": null,
            "width": null,
            "min_width": null,
            "border": null,
            "align_items": null,
            "bottom": null,
            "_model_module": "@jupyter-widgets/base",
            "top": null,
            "grid_column": null,
            "overflow_y": null,
            "overflow_x": null,
            "grid_auto_flow": null,
            "grid_area": null,
            "grid_template_columns": null,
            "flex": null,
            "_model_name": "LayoutModel",
            "justify_items": null,
            "grid_row": null,
            "max_height": null,
            "align_content": null,
            "visibility": null,
            "align_self": null,
            "height": null,
            "min_height": null,
            "padding": null,
            "grid_auto_rows": null,
            "grid_gap": null,
            "max_width": null,
            "order": null,
            "_view_module_version": "1.2.0",
            "grid_template_areas": null,
            "object_position": null,
            "object_fit": null,
            "grid_auto_columns": null,
            "margin": null,
            "display": null,
            "left": null
          }
        },
        "e10ea9a0437c455bb2ede6c7020c7930": {
          "model_module": "@jupyter-widgets/controls",
          "model_name": "FloatProgressModel",
          "state": {
            "_view_name": "ProgressView",
            "style": "IPY_MODEL_48b7ce61281046a2a98c2dae92e9e86e",
            "_dom_classes": [],
            "description": "Computing transition probabilities: 100%",
            "_model_name": "FloatProgressModel",
            "bar_style": "success",
            "max": 914,
            "_view_module": "@jupyter-widgets/controls",
            "_model_module_version": "1.5.0",
            "value": 914,
            "_view_count": null,
            "_view_module_version": "1.5.0",
            "orientation": "horizontal",
            "min": 0,
            "description_tooltip": null,
            "_model_module": "@jupyter-widgets/controls",
            "layout": "IPY_MODEL_060834a658d34df8b064b85e8dfce51d"
          }
        },
        "d020b901d06f44d5830d704a93141f3f": {
          "model_module": "@jupyter-widgets/controls",
          "model_name": "HTMLModel",
          "state": {
            "_view_name": "HTMLView",
            "style": "IPY_MODEL_d7cc41fe492c4c9d94d20206a5be8c8b",
            "_dom_classes": [],
            "description": "",
            "_model_name": "HTMLModel",
            "placeholder": "​",
            "_view_module": "@jupyter-widgets/controls",
            "_model_module_version": "1.5.0",
            "value": " 914/914 [00:32&lt;00:00, 27.72it/s]",
            "_view_count": null,
            "_view_module_version": "1.5.0",
            "description_tooltip": null,
            "_model_module": "@jupyter-widgets/controls",
            "layout": "IPY_MODEL_bd5d9ce35e8b44478a526ccb223db762"
          }
        },
        "48b7ce61281046a2a98c2dae92e9e86e": {
          "model_module": "@jupyter-widgets/controls",
          "model_name": "ProgressStyleModel",
          "state": {
            "_view_name": "StyleView",
            "_model_name": "ProgressStyleModel",
            "description_width": "initial",
            "_view_module": "@jupyter-widgets/base",
            "_model_module_version": "1.5.0",
            "_view_count": null,
            "_view_module_version": "1.2.0",
            "bar_color": null,
            "_model_module": "@jupyter-widgets/controls"
          }
        },
        "060834a658d34df8b064b85e8dfce51d": {
          "model_module": "@jupyter-widgets/base",
          "model_name": "LayoutModel",
          "state": {
            "_view_name": "LayoutView",
            "grid_template_rows": null,
            "right": null,
            "justify_content": null,
            "_view_module": "@jupyter-widgets/base",
            "overflow": null,
            "_model_module_version": "1.2.0",
            "_view_count": null,
            "flex_flow": null,
            "width": null,
            "min_width": null,
            "border": null,
            "align_items": null,
            "bottom": null,
            "_model_module": "@jupyter-widgets/base",
            "top": null,
            "grid_column": null,
            "overflow_y": null,
            "overflow_x": null,
            "grid_auto_flow": null,
            "grid_area": null,
            "grid_template_columns": null,
            "flex": null,
            "_model_name": "LayoutModel",
            "justify_items": null,
            "grid_row": null,
            "max_height": null,
            "align_content": null,
            "visibility": null,
            "align_self": null,
            "height": null,
            "min_height": null,
            "padding": null,
            "grid_auto_rows": null,
            "grid_gap": null,
            "max_width": null,
            "order": null,
            "_view_module_version": "1.2.0",
            "grid_template_areas": null,
            "object_position": null,
            "object_fit": null,
            "grid_auto_columns": null,
            "margin": null,
            "display": null,
            "left": null
          }
        },
        "d7cc41fe492c4c9d94d20206a5be8c8b": {
          "model_module": "@jupyter-widgets/controls",
          "model_name": "DescriptionStyleModel",
          "state": {
            "_view_name": "StyleView",
            "_model_name": "DescriptionStyleModel",
            "description_width": "",
            "_view_module": "@jupyter-widgets/base",
            "_model_module_version": "1.5.0",
            "_view_count": null,
            "_view_module_version": "1.2.0",
            "_model_module": "@jupyter-widgets/controls"
          }
        },
        "bd5d9ce35e8b44478a526ccb223db762": {
          "model_module": "@jupyter-widgets/base",
          "model_name": "LayoutModel",
          "state": {
            "_view_name": "LayoutView",
            "grid_template_rows": null,
            "right": null,
            "justify_content": null,
            "_view_module": "@jupyter-widgets/base",
            "overflow": null,
            "_model_module_version": "1.2.0",
            "_view_count": null,
            "flex_flow": null,
            "width": null,
            "min_width": null,
            "border": null,
            "align_items": null,
            "bottom": null,
            "_model_module": "@jupyter-widgets/base",
            "top": null,
            "grid_column": null,
            "overflow_y": null,
            "overflow_x": null,
            "grid_auto_flow": null,
            "grid_area": null,
            "grid_template_columns": null,
            "flex": null,
            "_model_name": "LayoutModel",
            "justify_items": null,
            "grid_row": null,
            "max_height": null,
            "align_content": null,
            "visibility": null,
            "align_self": null,
            "height": null,
            "min_height": null,
            "padding": null,
            "grid_auto_rows": null,
            "grid_gap": null,
            "max_width": null,
            "order": null,
            "_view_module_version": "1.2.0",
            "grid_template_areas": null,
            "object_position": null,
            "object_fit": null,
            "grid_auto_columns": null,
            "margin": null,
            "display": null,
            "left": null
          }
        }
      }
    }
  },
  "cells": [
    {
      "cell_type": "markdown",
      "metadata": {
        "id": "dy5TgYTJfKcX"
      },
      "source": [
        "<a href=\"https://colab.research.google.com/github/arangodb/interactive_tutorials/blob/master/notebooks/Graph_Embeddings.ipynb\" target=\"_parent\"><img src=\"https://colab.research.google.com/assets/colab-badge.svg\" alt=\"Open In Colab\"/></a>"
      ]
    },
    {
      "cell_type": "code",
      "metadata": {
        "id": "PCDeBByKW2nj"
      },
      "source": [
        "%%capture\n",
        "!git clone -b oasis_connector --single-branch https://github.com/arangodb/interactive_tutorials.git\n",
        "!git clone -b imdb_with_ratings https://github.com/arangodb/interactive_tutorials imdb_data\n",
        "!rsync -av interactive_tutorials/ ./ --exclude=.git\n",
        "!chmod -R 755 ./tools\n",
        "!pip3 install pyarango\n",
        "!pip3 install \"python-arango>=5.0\"\n",
        "!pip3 install networkx\n",
        "!pip3 install matplotlib\n",
        "!pip3 install adbnx-adapter==0.0.0.2.5.3.post1\n",
        "!pip install node2vec"
      ],
      "execution_count": null,
      "outputs": []
    },
    {
      "cell_type": "markdown",
      "metadata": {
        "id": "cO6lyKJo5o6U"
      },
      "source": [
        "Scope:\n",
        "1. What are Graph Embeddings\n",
        "2. Motivate the ideas used to develop a graph embedding\n",
        "3. What are the approaches to developing a graph embedding.\n",
        "4. What are the characteristics of each approach. \n",
        "5. What are the strengths and limitations of each approach."
      ]
    },
    {
      "cell_type": "markdown",
      "metadata": {
        "id": "BuPPHyUIXdxD"
      },
      "source": [
        "## Graph Embeddings\n",
        "Mathematically, a graph is a structure that captures a set of objects and the relations between them. This representation has had a remarkable versatility in the abstraction of a wide variety of scientific and business problems. Road, networks, water pipeline networks, traffic networks, oil/chemical networks, supply-chains, computer networks, recommender systems in electronic market places are all examples of graphs. Since graph structured data are pervasive, problems on graphs have been researched for a long time now. These solutions are exploited to provide very useful applications in many domains. Finding best delivery routes, identifying influential writers in content networks, detecting fraud in financial transactions are all examples. Many of these features are available as part of the ArangoDB analytics eco-system. With the current explosion of interest machine learning, there is a surge in interest in developing machine learning applications on graphs. In this post we will discuss one approach to performing machine learning on graphs. The material for this post comes from [this paper](https://www-cs.stanford.edu/people/jure/pubs/graphrepresentation-ieee17.pdf) and [these slides/notes](http://snap.stanford.edu/proj/embeddings-www/files/nrltutorial-part2-gnns.pdf).\n",
        "The key idea is to convert the data which has a representation as a graph to a representation commonly used machine learning. This representation is called the Euclidean representation. The crucial idea with this representation is that the notion of distance between two nodes exist. Nodes in the graph are transformed into points in a Euclidean representation. \n",
        "A basic template to learn this Euclidean representation is:\n",
        "1. Define the set of nodes which we deem to be similar. This is the notion of neighborhood of the node.\n",
        "2. Posit that nodes that are similar in the graph are similar in the Euclidean representation. In otherwords, the similarity in the set of nodes (ie., neighborhood) is preserved as go from the graph to Euclidean representation.\n",
        "3. Develop a neural network in which the set of nodes that are similar in the graph are provided as the input to the network and Euclidean representation is what is learned. The neural network represents an _encoder_ that uses a _similarity_ measure to determine a Euclidean representation. The parameters of the network are learned so that similarity in the graph representation is preserved in the Euclidean representation.\n",
        "\n",
        "As discussed in [the slides/notes](http://snap.stanford.edu/proj/embeddings-www/files/nrltutorial-part2-gnns.pdf), we can consider the following as the set of nodes for which similarity in the graph is evaluated:\n",
        "1. Nodes that are adjacent to a node\n",
        "2. Nodes that are reachable by $k$ hops from the node.\n",
        "3. Nodes that manifest in a random walk of a specified length starting at the node.\n",
        "\n",
        "    Each of these strategies have strengths and weakness and are particularly suited to certain applications as discussed in [goyal and ferrera, 2017](https://usc-isi-i2.github.io/papers/goyal18-knosys.pdf). The third approach is what we will discuss in this post. This approach of capturing the neighborhood of the node is called a _random-walk_. The Euclidean representation of the nodes obtained from the neural network are called _embeddings_. To obtain these embeddings, random walks of particular lengths are initiated from each node of the graph. The nodes visited by the walk are captured sequentially until a walk of the desired length is completed. The generated walks are fed as input to the neural network and the parameters of the neural network are learned as part of training the network. As a result of training, we obtain the Euclidean representation of the nodes of the graph. These node representations can be used to peform machine learning tasks such as _node_ _classification_ and _link_ _prediction_. A schematic illustrating the basic elements of an approach to obtaining embeddings from a graph is shown below. This illustration depicts using a _random walk_ of length 4 from each node of the graph. A sample of _random walks_ from node A and node B are shown. These _random walks_ are then used as input to a neural network. The embeddings are obtained as an output of the neural network. To determine the parameters (the weights and biases) of the neural network, we utilize the fact that nodes that are similar in the graph, such as those encountered in a _random walk_ are similar in the embeddeding. The output from the neural network is a vector. This is a mathematical object with co-ordinates or dimensions. The number of dimensions the embedding has is a parameter (actually, a _hyper parameter_, since this is not learned by the neural network) that we need to specify when the neural network is developed. Machine learning methods, for example, the [_t Stochastic Neighborhood Embedding(tSNE)_](https://distill.pub/2016/misread-tsne/), can be used to visualize a two-dimensional version of the embedding. Instead of using a neural network, it is also possible to use methods such as _graph factorization_ to obtain embeddings from the graph. ![](https://github.com/arangodb/interactive_tutorials/blob/master/notebooks/img/embedding_schematic.png?raw=1)\n",
        "\n",
        "\n",
        "\n"
      ]
    },
    {
      "cell_type": "markdown",
      "metadata": {
        "id": "-kxg1FtPLgrJ"
      },
      "source": [
        "The approach using just an _encoder_ function and a _similarity_ metric is an example of a _shallow_ approach to learning an embedding. Some of the drawbacks of using this approach are:\n",
        "1. Learning an embedding requires determining a large number of parameters - in the order of the number of nodes in a graph ($\\mathbf{O}(\\left|V\\right|)$, where $V$ represents the number of nodes in the graph).\n",
        "2. The learning is _transductive_. The embeddings that can be determined are limited to the nodes seen during training. We will not be able to determine an embedding for nodes that were not seen as part of the training process.\n",
        "3. Inability to incorporate node features in determining the embedding. \n",
        "\n",
        "Instead of just using a simple _encoder_ and _similarity_ measure to determine a Euclidean representation, it is possible to use more sophisticated approach to determining a representation for the graph. In contrast, we can use a _deeper_ approach using _Graph Neural Networks (GNN)_. In a _GNN_ nodes aggregate information from their neighbors using a _neural network_ . This approach eliminates some of the draw backs observed with the shallow approach. A schematic of the computational approach for _GNN's_ is shown below. ![](https://github.com/arangodb/interactive_tutorials/blob/master/notebooks/img/gnn_schematic.png?raw=1)\n",
        "\n",
        "\n",
        "This notebook illustrates the shallow approach to embedding using _Node2vec_. An illustration of the deeper approach will follow shortly."
      ]
    },
    {
      "cell_type": "code",
      "metadata": {
        "id": "Q-uk0VnZfKcd",
        "colab": {
          "base_uri": "https://localhost:8080/"
        },
        "outputId": "ba74deef-845d-4211-85e7-291305541107"
      },
      "source": [
        "import pprint\n",
        "import oasis"
      ],
      "execution_count": null,
      "outputs": [
        {
          "output_type": "stream",
          "text": [
            "/usr/local/lib/python3.7/dist-packages/requests/__init__.py:91: RequestsDependencyWarning: urllib3 (1.26.4) or chardet (3.0.4) doesn't match a supported version!\n",
            "  RequestsDependencyWarning)\n"
          ],
          "name": "stderr"
        }
      ]
    },
    {
      "cell_type": "code",
      "metadata": {
        "id": "oc6tNokGfKcd",
        "colab": {
          "base_uri": "https://localhost:8080/"
        },
        "outputId": "c0f506fa-7543-4ad0-fa5f-600e0fbf019e"
      },
      "source": [
        "pp = pprint.PrettyPrinter()\n",
        "\n",
        "## Retrieve tmp credentials from ArangoDB Tutorial Service\n",
        "login = oasis.getTempCredentials(credentialProvider='https://tutorials.arangodb.cloud:8529/_db/_system/tutorialDB/tutorialDB', tutorialName=\"GraphEmbeddings\")\n",
        "\n",
        "## Connect to the temp database\n",
        "test_db = oasis.connect_python_arango(login)"
      ],
      "execution_count": null,
      "outputs": [
        {
          "output_type": "stream",
          "text": [
            "Requesting new temp credentials.\n",
            "Temp database ready to use.\n"
          ],
          "name": "stdout"
        }
      ]
    },
    {
      "cell_type": "code",
      "metadata": {
        "id": "3oIOyTqwfKcd",
        "colab": {
          "base_uri": "https://localhost:8080/"
        },
        "outputId": "04065408-8629-481e-8d88-346f3399c00e"
      },
      "source": [
        "pp.pprint(login)"
      ],
      "execution_count": null,
      "outputs": [
        {
          "output_type": "stream",
          "text": [
            "{'dbName': 'TUT11u9u12g91hwqq4ydbqtc',\n",
            " 'hostname': 'tutorials.arangodb.cloud',\n",
            " 'password': 'TUT5tnc2m3x7n9arxuzmyvl4h',\n",
            " 'port': 8529,\n",
            " 'username': 'TUTy9qypqnm8xgrlrpof2yr0c'}\n"
          ],
          "name": "stdout"
        }
      ]
    },
    {
      "cell_type": "code",
      "metadata": {
        "id": "GkSUWOqUfKcd"
      },
      "source": [
        "if not test_db.has_graph(\"imdb_graph\"):\n",
        "    test_db.create_graph('imdb_graph', smart=True)\n",
        "\n",
        "if not test_db.has_graph(\"user_user_graph\"):\n",
        "    test_db.create_graph(\"user_user_graph\", smart=True)\n",
        "    \n",
        "imdb_graph = test_db.graph(\"imdb_graph\")\n",
        "user_user_graph = test_db.graph(\"user_user_graph\")\n",
        "\n",
        "if not test_db.has_collection(\"Users\"):\n",
        "    test_db.create_collection(\"Users\", replication_factor=3)\n",
        "if not imdb_graph.has_vertex_collection(\"Users\"):\n",
        "    imdb_graph.vertex_collection(\"Users\")\n",
        "\n",
        "if not test_db.has_collection(\"Movies\"):\n",
        "    test_db.create_collection(\"Movies\", replication_factor=3)\n",
        "if not imdb_graph.has_vertex_collection(\"Movies\"):\n",
        "    imdb_graph.vertex_collection(\"Movies\")\n",
        "    \n",
        "if not test_db.has_collection(\"Ratings\"):\n",
        "    test_db.create_collection(\"Ratings\", edge=True, replication_factor=3)\n",
        "if not imdb_graph.has_edge_definition(\"Ratings\"):\n",
        "    ratings = imdb_graph.create_edge_definition(\n",
        "        edge_collection='Ratings',\n",
        "        from_vertex_collections=['Users'],\n",
        "        to_vertex_collections=['Movies']\n",
        "    )\n",
        "if not test_db.has_collection(\"User_User_Sim\"):\n",
        "    test_db.create_collection(\"User_User_Sim\", edge=True, replication_factor=3)\n",
        "    \n",
        "if not user_user_graph.has_edge_definition(\"User_User_Sim\"):\n",
        "    user_user_sim = user_user_graph.create_edge_definition(\n",
        "        edge_collection='User_User_Sim',\n",
        "        from_vertex_collections=['Users'],\n",
        "        to_vertex_collections=['Users']\n",
        "    )"
      ],
      "execution_count": null,
      "outputs": []
    },
    {
      "cell_type": "code",
      "metadata": {
        "id": "ozsSBGcQfKce",
        "colab": {
          "base_uri": "https://localhost:8080/"
        },
        "outputId": "155e672c-99fb-400f-deb0-726bf15d1475"
      },
      "source": [
        "! ./tools/arangorestore -c none --create-collection true --server.endpoint http+ssl://{login[\"hostname\"]}:{login[\"port\"]} --server.username {login[\"username\"]} --server.database {login[\"dbName\"]} --server.password {login[\"password\"]} --default-replication-factor 3  --input-directory \"./imdb_data/data/imdb_with_ratings\""
      ],
      "execution_count": null,
      "outputs": [
        {
          "output_type": "stream",
          "text": [
            "\u001b[0m2021-05-17T15:06:00Z [469] INFO [05c30] {restore} Connected to ArangoDB 'http+ssl://tutorials.arangodb.cloud:8529'\n",
            "\u001b[0m\u001b[0m2021-05-17T15:06:00Z [469] INFO [abeb4] {restore} Database name in source dump is 'TUTdit9ohpgz1ntnbetsjstwi'\n",
            "\u001b[0m\u001b[0m2021-05-17T15:06:00Z [469] INFO [9b414] {restore} # Re-creating document collection 'Movies'...\n",
            "\u001b[0m\u001b[0m2021-05-17T15:06:01Z [469] INFO [9b414] {restore} # Re-creating document collection 'Users'...\n",
            "\u001b[0m\u001b[0m2021-05-17T15:06:02Z [469] INFO [9b414] {restore} # Re-creating edge collection 'Ratings'...\n",
            "\u001b[0m\u001b[0m2021-05-17T15:06:03Z [469] INFO [6d69f] {restore} # Dispatched 3 job(s), using 2 worker(s)\n",
            "\u001b[0m\u001b[0m2021-05-17T15:06:03Z [469] INFO [94913] {restore} # Loading data into document collection 'Movies', data size: 68107 byte(s)\n",
            "\u001b[0m\u001b[0m2021-05-17T15:06:03Z [469] INFO [94913] {restore} # Loading data into document collection 'Users', data size: 16717 byte(s)\n",
            "\u001b[0m\u001b[0m2021-05-17T15:06:03Z [469] INFO [6ae09] {restore} # Successfully restored document collection 'Users'\n",
            "\u001b[0m\u001b[0m2021-05-17T15:06:03Z [469] INFO [94913] {restore} # Loading data into edge collection 'Ratings', data size: 1407601 byte(s)\n",
            "\u001b[0m\u001b[0m2021-05-17T15:06:03Z [469] INFO [6ae09] {restore} # Successfully restored document collection 'Movies'\n",
            "\u001b[0m\u001b[0m2021-05-17T15:06:08Z [469] INFO [75e65] {restore} # Current restore progress: restored 2 of 3 collection(s), read 9270558 byte(s) from datafiles, sent 3 data batch(es) of 881948 byte(s) total size, queued jobs: 0, workers: 2\n",
            "\u001b[0m\u001b[0m2021-05-17T15:06:13Z [469] INFO [69a73] {restore} # Still loading data into edge collection 'Ratings', 10660073 byte(s) restored\n",
            "\u001b[0m\u001b[0m2021-05-17T15:06:13Z [469] INFO [6ae09] {restore} # Successfully restored edge collection 'Ratings'\n",
            "\u001b[0m\u001b[0m2021-05-17T15:06:13Z [469] INFO [a66e1] {restore} Processed 3 collection(s) in 12.570890 s, read 11542023 byte(s) from datafiles, sent 4 data batch(es) of 11542020 byte(s) total size\n",
            "\u001b[0m"
          ],
          "name": "stdout"
        }
      ]
    },
    {
      "cell_type": "code",
      "metadata": {
        "id": "Zl19CRTgfKce"
      },
      "source": [
        "con = {\"username\": login[\"username\"], \"password\": login[\"password\"],\\\n",
        "       \"dbName\": login[\"dbName\"], \"hostname\": login[\"hostname\"],\\\n",
        "       \"port\": login[\"port\"], \"protocol\": \"https\"}"
      ],
      "execution_count": null,
      "outputs": []
    },
    {
      "cell_type": "code",
      "metadata": {
        "id": "HBAq107MfKce"
      },
      "source": [
        "imdb_attributes = {'vertexCollections': {'Users': {},\n",
        "                                         'Movies': {}},\n",
        "                   'edgeCollections': {'Ratings': {'_from', '_to', 'ratings'}}}"
      ],
      "execution_count": null,
      "outputs": []
    },
    {
      "cell_type": "code",
      "metadata": {
        "id": "RU1NTP8cfKce"
      },
      "source": [
        "from adbnx_adapter.imdb_arangoDB_networkx_adapter import IMDBArangoDB_Networkx_Adapter\n",
        "ma = IMDBArangoDB_Networkx_Adapter(conn=con)\n",
        "g = ma.create_networkx_graph(\n",
        "    graph_name='IMDBGraph',  graph_attributes=imdb_attributes)"
      ],
      "execution_count": null,
      "outputs": []
    },
    {
      "cell_type": "code",
      "metadata": {
        "id": "YPmJO5FvfKcf"
      },
      "source": [
        "user_nodes = [n for n in g.nodes() if n.startswith(\"Users\")]\n",
        "movie_nodes = [n for n in g.nodes() if n.startswith(\"Movies\")]"
      ],
      "execution_count": null,
      "outputs": []
    },
    {
      "cell_type": "code",
      "metadata": {
        "id": "fjWo5tYbfKcf",
        "colab": {
          "base_uri": "https://localhost:8080/"
        },
        "outputId": "7c369d81-ad0f-4492-9c63-0db17948830f"
      },
      "source": [
        "print(\"Number of Users are %d\" % (len(user_nodes)))\n",
        "print(\"Number of Movies are %d\" % (len(movie_nodes)))\n",
        "print(\"Number of Ratings are %d\" % (len(list(g.edges()))))"
      ],
      "execution_count": null,
      "outputs": [
        {
          "output_type": "stream",
          "text": [
            "Number of Users are 943\n",
            "Number of Movies are 1682\n",
            "Number of Ratings are 65499\n"
          ],
          "name": "stdout"
        }
      ]
    },
    {
      "cell_type": "code",
      "metadata": {
        "id": "jrseH95CfKcf"
      },
      "source": [
        "import networkx as nx\n",
        "B = nx.Graph()\n",
        "B.add_nodes_from(user_nodes, bipartite=0)\n",
        "B.add_nodes_from(movie_nodes, bipartite=1)\n",
        "B.add_edges_from(list(g.edges()))"
      ],
      "execution_count": null,
      "outputs": []
    },
    {
      "cell_type": "code",
      "metadata": {
        "id": "Ob91ipxDfKcf"
      },
      "source": [
        "from networkx.algorithms import bipartite\n",
        "cr = bipartite.clustering(B)\n",
        "cu = {}\n",
        "cm = {}\n",
        "for k, v in sorted(cr.items(),reverse=True, key=lambda item: item[1]):\n",
        "    if k.startswith(\"Users\"):\n",
        "        cu[k] = v\n",
        "    else:\n",
        "        cm[k] = v\n",
        "\n",
        "del cr"
      ],
      "execution_count": null,
      "outputs": []
    },
    {
      "cell_type": "code",
      "metadata": {
        "id": "zHUNN1xDfKcf"
      },
      "source": [
        "t10cu = list(cu.keys())[:10]\n",
        "proj_user = nx.bipartite.projected_graph(B, t10cu)"
      ],
      "execution_count": null,
      "outputs": []
    },
    {
      "cell_type": "code",
      "metadata": {
        "id": "Gd924dc2fKcg",
        "colab": {
          "base_uri": "https://localhost:8080/"
        },
        "outputId": "fdc03d23-49f8-4cea-c344-cb790720258d"
      },
      "source": [
        "import json\n",
        "%time\n",
        "num_embs = proj_user.number_of_nodes()\n",
        "index = 0\n",
        "\n",
        "batch = []\n",
        "BATCH_SIZE = 500\n",
        "batch_idx = 1\n",
        "collection =test_db[\"User_User_Sim\"]\n",
        "el = proj_user.edges()\n",
        "for e in el:\n",
        "    insert_doc1 = {\"_from\": e[0], \"_to\": e[1]}\n",
        "    insert_doc2 = {\"_from\": e[1], \"_to\": e[0]}\n",
        "    batch.append(insert_doc1)\n",
        "    batch.append(insert_doc2)\n",
        "    index += 2\n",
        "    last_record = (index == (len(el) - 2)) \n",
        "    if index % BATCH_SIZE == 0:\n",
        "        print(\"Inserting batch %d\" % (batch_idx))\n",
        "        batch_idx += 1\n",
        "        collection.import_bulk(batch)\n",
        "        batch = []\n",
        "    if last_record and len(batch) > 0:\n",
        "        print(\"Inserting batch the last batch!\")\n",
        "        collection.import_bulk(batch)\n"
      ],
      "execution_count": null,
      "outputs": [
        {
          "output_type": "stream",
          "text": [
            "CPU times: user 2 µs, sys: 0 ns, total: 2 µs\n",
            "Wall time: 5.48 µs\n",
            "Inserting batch 1\n",
            "Inserting batch 2\n",
            "Inserting batch 3\n",
            "Inserting batch 4\n",
            "Inserting batch 5\n",
            "Inserting batch 6\n",
            "Inserting batch 7\n",
            "Inserting batch 8\n",
            "Inserting batch 9\n",
            "Inserting batch 10\n",
            "Inserting batch 11\n",
            "Inserting batch 12\n",
            "Inserting batch 13\n",
            "Inserting batch 14\n",
            "Inserting batch 15\n",
            "Inserting batch 16\n",
            "Inserting batch 17\n",
            "Inserting batch the last batch!\n",
            "Inserting batch 18\n",
            "Inserting batch 19\n",
            "Inserting batch 20\n",
            "Inserting batch 21\n",
            "Inserting batch 22\n",
            "Inserting batch 23\n",
            "Inserting batch 24\n",
            "Inserting batch 25\n",
            "Inserting batch 26\n",
            "Inserting batch 27\n",
            "Inserting batch 28\n",
            "Inserting batch 29\n",
            "Inserting batch 30\n",
            "Inserting batch 31\n",
            "Inserting batch 32\n",
            "Inserting batch 33\n",
            "Inserting batch 34\n",
            "Inserting batch 35\n"
          ],
          "name": "stdout"
        }
      ]
    },
    {
      "cell_type": "code",
      "metadata": {
        "id": "xH00qDdZfKcg",
        "colab": {
          "base_uri": "https://localhost:8080/",
          "height": 66,
          "referenced_widgets": [
            "a76aafe77f79463bb8630f5514b08daa",
            "64005355e4de48ed907bfe0363c526c4",
            "e10ea9a0437c455bb2ede6c7020c7930",
            "d020b901d06f44d5830d704a93141f3f",
            "48b7ce61281046a2a98c2dae92e9e86e",
            "060834a658d34df8b064b85e8dfce51d",
            "d7cc41fe492c4c9d94d20206a5be8c8b",
            "bd5d9ce35e8b44478a526ccb223db762"
          ]
        },
        "outputId": "d0e95b0a-4a2a-4f1d-b26c-3fde3b58848b"
      },
      "source": [
        "from node2vec import Node2Vec\n",
        "node2vec = Node2Vec(proj_user, dimensions=64, walk_length=10, num_walks=10, workers=4)\n",
        "model = node2vec.fit(window=10, min_count=1, batch_words=4)"
      ],
      "execution_count": null,
      "outputs": [
        {
          "output_type": "display_data",
          "data": {
            "application/vnd.jupyter.widget-view+json": {
              "model_id": "a76aafe77f79463bb8630f5514b08daa",
              "version_minor": 0,
              "version_major": 2
            },
            "text/plain": [
              "HBox(children=(FloatProgress(value=0.0, description='Computing transition probabilities', max=914.0, style=Pro…"
            ]
          },
          "metadata": {
            "tags": []
          }
        },
        {
          "output_type": "stream",
          "text": [
            "\n"
          ],
          "name": "stdout"
        }
      ]
    },
    {
      "cell_type": "code",
      "metadata": {
        "id": "RgY4-tY0fKcg"
      },
      "source": [
        "t10cu_emb = { n: list(map(float,model.wv.get_vector(n))) for n in proj_user.nodes()}"
      ],
      "execution_count": null,
      "outputs": []
    },
    {
      "cell_type": "code",
      "metadata": {
        "id": "rVa-5fGefKcg",
        "colab": {
          "base_uri": "https://localhost:8080/"
        },
        "outputId": "74d2f808-943f-4be8-ef42-ba4afe3b9ef7"
      },
      "source": [
        "import json\n",
        "%time\n",
        "num_embs = proj_user.number_of_nodes()\n",
        "index = 0\n",
        "collection =test_db[\"Users\"]\n",
        "batch = []\n",
        "BATCH_SIZE = 500\n",
        "batch_idx = 1\n",
        "for u, e in t10cu_emb.items():\n",
        "    update_doc = {}\n",
        "    the_key = u.split('/')[1]\n",
        "    update_doc['_id'] = u\n",
        "    update_doc['n2v_emb'] = e\n",
        "    batch.append(update_doc)\n",
        "    index += 1\n",
        "    last_record = (index == (num_embs - 1)) \n",
        "    if index % BATCH_SIZE == 0:\n",
        "        print(\"Inserting batch %d\" % (batch_idx))\n",
        "        batch_idx += 1\n",
        "        collection.update_many(batch)\n",
        "        batch = []\n",
        "    if last_record and len(batch) > 0:\n",
        "        print(\"Inserting batch the last batch!\")\n",
        "        collection.update_many(batch)"
      ],
      "execution_count": null,
      "outputs": [
        {
          "output_type": "stream",
          "text": [
            "CPU times: user 3 µs, sys: 0 ns, total: 3 µs\n",
            "Wall time: 7.87 µs\n",
            "Inserting batch 1\n",
            "Inserting batch the last batch!\n"
          ],
          "name": "stdout"
        }
      ]
    }
  ]
}