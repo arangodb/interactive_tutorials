{
 "cells": [
  {
   "cell_type": "markdown",
   "metadata": {
    "pycharm": {
     "name": "#%% md\n"
    }
   },
   "source": [
    "<a href=\"https://colab.research.google.com/github/ArangoDB/interactive_tutorials/blob/master/notebooks/Cookiecutter_Demo_Notebook.ipynb\" target=\"_parent\"><img src=\"https://colab.research.google.com/assets/colab-badge.svg\" alt=\"Open In Colab\"/></a>"
   ]
  },
  {
   "cell_type": "markdown",
   "metadata": {
    "pycharm": {
     "name": "#%% md\n"
    }
   },
   "source": [
    "# Cookiecutter Notebook\n",
    "This is a Notebook to explain the use of the Cookiecutter tool overall and the ArangomlFeatureStore template. It is split up in: <br>\n",
    "#### What is Cookiecutter\n",
    "#### Installing Cookiecutter\n",
    "#### Creating Projects from templates\n",
    "#### How to use Cookiecutter\n",
    "#### What does Cookiecutter do\n",
    "#### ArangomlFeatureStore\n",
    "#### ArangoDBTemplate\n",
    "#### Different use cases for Cookiecutter"
   ]
  },
  {
   "cell_type": "markdown",
   "metadata": {
    "pycharm": {
     "name": "#%% md\n"
    }
   },
   "source": [
    "## What is Cookiecutter\n",
    "Cookiecutter is a tool that enables you to download and customise pre-set templates. You simply have to install the Cookiecutter-Tool and you are good to go. When you apply the tool on a template it will prompt you for some input for the customisation, which will look close to this, depending on the Level of customisation: (This is a cutout of the ArangoMLFeatureStore-template, which we will cover later on)"
   ]
  },
  {
   "cell_type": "markdown",
   "metadata": {
    "pycharm": {
     "name": "#%% md\n"
    }
   },
   "source": [
    "> *full_name [Rajiv Sambasivan]: <br>\n",
    "email [hackers@arangodb.com]: <br>\n",
    "github_username [arangoml]: <br>\n",
    "project_name [arangomlFeatureStore]:  <br>\n",
    "project_slug [arangomlfeaturestore]:  <br>\n",
    "project_short_description [A python package to read and write ML features to ArangoDB]:  <br>\n",
    "pypi_username [arangoml]:  <br>\n",
    "version [0.0.7.5]:  <br>\n",
    "use_black [n]:  <br>\n",
    "use_pytest [n]:  <br>\n",
    "Select command_line_interface:  <br>\n",
    "1 - Click  <br>\n",
    "2 - Argparse  <br>\n",
    "3 - No command-line interface  <br>\n",
    "Choose from 1, 2, 3 [1]:  <br>\n",
    "create_author_file [y]:  <br>\n",
    "Select open_source_license:  <br>\n",
    "1 - MIT license  <br>\n",
    "2 - BSD license  <br>\n",
    "3 - ISC license  <br>\n",
    "4 - Apache Software License 2.0  <br>\n",
    "5 - GNU General Public License v3  <br>\n",
    "6 - Not open source  <br>\n",
    "Choose from 1, 2, 3, 4, 5, 6 [1]:  <br>*"
   ]
  },
  {
   "cell_type": "markdown",
   "metadata": {
    "pycharm": {
     "name": "#%% md\n"
    }
   },
   "source": [
    "Once you have answered these questions, you are good to go to start with you project. You will have a better understanding of what cookiecutter does, once you have used it. Which brings us to our next step, installing Cookiecutter."
   ]
  },
  {
   "cell_type": "markdown",
   "metadata": {
    "pycharm": {
     "name": "#%% md\n"
    }
   },
   "source": [
    "## Installing Cookiecutter\n",
    "For the installation we have to create a virtual enviroment and then install cookiecutter with pip."
   ]
  },
  {
   "cell_type": "code",
   "execution_count": null,
   "metadata": {
    "pycharm": {
     "name": "#%%\n"
    }
   },
   "outputs": [],
   "source": [
    "%%capture\n",
    "!mkdir CookiecutterProject\n",
    "!pip3 install virtualenv\n",
    "!venv CookiecutterProject/\n",
    "!pip3 install cookiecutter\n",
    "!cd CookiecutterProject\n",
    "!source CookiecutterProject/bin/active"
   ]
  },
  {
   "cell_type": "markdown",
   "metadata": {
    "pycharm": {
     "name": "#%% md\n"
    }
   },
   "source": [
    "## Creating Project from templates\n",
    "There are a lot of templates online for the various different projects you can do. You can find a good selection [here](https://cookiecutter-templates.sebastianruml.name/).\n",
    "The template used for this demo is this [PyPI-Package-Template](https://github.com/audreyfeldroy/cookiecutter-pypackage)\n",
    "Alternatively you have a [PyLibrary-Template](https://github.com/ionelmc/cookiecutter-pylibrary) or a [FastAPI-Template](https://github.com/s3rius/FastAPI-template).\n",
    "### Installing a template\n",
    "A template is very easy to install, you can select a github repo to clone like this (you have to be in a venv for it to work):"
   ]
  },
  {
   "cell_type": "code",
   "execution_count": null,
   "metadata": {
    "pycharm": {
     "name": "#%%\n"
    }
   },
   "outputs": [],
   "source": [
    "!cookiecutter https://github.com/audreyfeldroy/cookiecutter-pypackage.git"
   ]
  },
  {
   "cell_type": "markdown",
   "metadata": {
    "pycharm": {
     "name": "#%% md\n"
    }
   },
   "source": [
    "Alternatively you can select a cookiecutter Template, that you already have stored locally. Since this is a Notebook we still have to clone it but the process would be the same."
   ]
  },
  {
   "cell_type": "code",
   "execution_count": null,
   "metadata": {
    "pycharm": {
     "name": "#%%\n"
    }
   },
   "outputs": [],
   "source": [
    "%%capture\n",
    "!git clone https://github.com/audreyfeldroy/cookiecutter-pypackage.git"
   ]
  },
  {
   "cell_type": "markdown",
   "metadata": {
    "pycharm": {
     "name": "#%% md\n"
    }
   },
   "source": [
    "### How does Cookiecutter work/ What does it do\n",
    "> This is a good time to check out what cookiecutter does, or how it works. If you click on the files on the left, you can see the cookiecutter-pypackage folder, when you open it you will see a __cookiecutter.json__ file, which includes all the above-mentioned prompts. It looks like ![this](https://github.com/arangodb/interactive_tutorials/blob/master/notebooks/img/json_file.png?raw=1):\n",
    "All the keys on the left act as variables for the Cookiecutter-Tool, they have a pre-set values in the file, but those can be altered, once you run the tool. They can be accessed throughout the whole template by this name structure __{{cookiecutter.VarName}}__. This file format can also be found in GitHub workflows, if you want to access GitHub secrets, you would use {{secrets.name_of_the_secret}}. Once you have export the template, they will change to the specified name/value.\n",
    " The first example of this is the __{{cookiecutter.project_slug}}__ directory, if you want to check more of these \"variables\" out, you can find them in the __setup.py__ file or the __authors.rst__ file. If you would like to know more about cookiecutter, you can find the documentation [here](https://cookiecutter.readthedocs.io/en/stable/)<br>\n",
    " Now let us continue with local export."
   ]
  },
  {
   "cell_type": "code",
   "execution_count": null,
   "metadata": {
    "pycharm": {
     "name": "#%%\n"
    }
   },
   "outputs": [],
   "source": [
    "!cookiecutter cookiecutter-pypackage"
   ]
  },
  {
   "cell_type": "markdown",
   "metadata": {
    "pycharm": {
     "name": "#%% md\n"
    }
   },
   "source": [
    "> If you now take a look at folder you just created (it should have the name you put in at Project_Name) you can see it how it changed the __{{cookiecutter.project_slug}}__ directory into the Project_Name. Now you have the basic setup to push something to PyPI and you can start to code. Or you can see it here: <br>\n",
    "<img src=\"https://github.com/arangodb/interactive_tutorials/blob/master/notebooks/img/Before_Cookiecutter.png?raw=1\" width=\"300\"/> __->__ <img src=\"https://github.com/arangodb/interactive_tutorials/blob/master/notebooks/img/After_Cookiecutter.png?raw=1\" width=\"300\"/>"
   ]
  },
  {
   "cell_type": "markdown",
   "metadata": {
    "pycharm": {
     "name": "#%% md\n"
    }
   },
   "source": [
    "## The ArangomlFeatureStore template\n",
    "This installation is a bit different since it is not in the default branch of the FeautreStore repo. It is located in the felix_packaging_branch"
   ]
  },
  {
   "cell_type": "code",
   "execution_count": null,
   "metadata": {
    "pycharm": {
     "name": "#%%\n"
    }
   },
   "outputs": [],
   "source": [
    "%%capture\n",
    "!git clone -b felix_packaging_branch https://github.com/arangoml/arangomlFeatureStore templatedir"
   ]
  },
  {
   "cell_type": "markdown",
   "metadata": {
    "pycharm": {
     "name": "#%% md\n"
    }
   },
   "source": [
    "> In this clone we are first specifying the branch that includes the cookiecutter template, after that, we specify how the folder is named, in which we are cloning."
   ]
  },
  {
   "cell_type": "code",
   "execution_count": null,
   "metadata": {
    "pycharm": {
     "name": "#%%\n"
    }
   },
   "outputs": [],
   "source": [
    "!cookiecutter /content/templatedir"
   ]
  },
  {
   "cell_type": "markdown",
   "metadata": {
    "pycharm": {
     "name": "#%% md\n"
    }
   },
   "source": [
    "Once you have exported the template you should have the same layout as the Package_Branch directory from the Repo. From now you have two options on how you can Proceed.\n"
   ]
  },
  {
   "cell_type": "markdown",
   "metadata": {
    "pycharm": {
     "name": "#%% md\n"
    }
   },
   "source": [
    "# The ArangoDB Template\n",
    "> This template creates a basic project structure to get you started with any ArangoDB service. The setup works the same as the other templates mentioned above, although it is way more specific. Since there are a lot of ArangoDB projects. You can find the ReadTheDocs [here](https://readthedocs.org/projects/arangodbtemplate/)"
   ]
  },
  {
   "cell_type": "code",
   "execution_count": null,
   "metadata": {
    "pycharm": {
     "name": "#%%\n"
    }
   },
   "outputs": [],
   "source": [
    "!cookiecutter https://github.com/ArangoDB-Community/ArangoDBTemplate.git"
   ]
  },
  {
   "cell_type": "markdown",
   "metadata": {
    "pycharm": {
     "name": "#%% md\n"
    }
   },
   "source": [
    "## Use cases for Cookiecutter"
   ]
  },
  {
   "cell_type": "markdown",
   "metadata": {
    "pycharm": {
     "name": "#%% md\n"
    }
   },
   "source": [
    "### Use case 1:\n",
    "#### Internet template:\n",
    "> You can download a template from the Internet then export it, write your code push it to git, and be based of that."
   ]
  },
  {
   "cell_type": "markdown",
   "metadata": {
    "pycharm": {
     "name": "#%% md\n"
    }
   },
   "source": [
    "### Use case 2:\n",
    "#### Update your internet template:\n",
    "> Once you downloaded the Template exported it and coded in it, you modify the previously downloaded template and add your code to it so you or others are able to download it and base their new Project based on the template."
   ]
  },
  {
   "cell_type": "markdown",
   "metadata": {
    "pycharm": {
     "name": "#%% md\n"
    }
   },
   "source": [
    "### Use case 3:\n",
    "#### Create your own template:\n",
    ">If you have a lot of projects, that require the same project structure or working directories/packages etc. You can simply create your own template and add everything you need to it:\n"
   ]
  },
  {
   "cell_type": "code",
   "execution_count": null,
   "metadata": {
    "pycharm": {
     "name": "#%%\n"
    }
   },
   "outputs": [],
   "source": [
    "!mkdir MyTemplate\n",
    "!cd Mytemplate\n",
    "!mkdir {{cookiecutter.your_project_name}}\n",
    "!nano cookiecutter.json"
   ]
  },
  {
   "cell_type": "markdown",
   "metadata": {
    "pycharm": {
     "name": "#%% md\n"
    }
   },
   "source": [
    "In here you simply write all the variables you need like this:\n",
    ">*{ <br>\n",
    "  \"full_name\": \"Felix Riemen\", <br>\n",
    "  \"github_username\": \"ferie24\", <br>\n",
    "  \"your_project_name\": \"CookieCutterProject\", <br>\n",
    "  }* <br>\n"
   ]
  },
  {
   "cell_type": "markdown",
   "metadata": {
    "pycharm": {
     "name": "#%% md\n"
    }
   },
   "source": [
    "You can of course always add more variables for your project to further advance the customization, you can also create even more directories, for whatever structure you need. Once you are done, you can simply push the project or simply keep it local as a template.\n"
   ]
  },
  {
   "cell_type": "markdown",
   "metadata": {
    "pycharm": {
     "name": "#%% md\n"
    }
   },
   "source": [
    "### Summary\n",
    "In this Notebook you have now covered what cookiecutter is, how to install it, how to apply it and how to use the ArnagomlFeatureStore template."
   ]
  }
 ],
 "metadata": {
  "kernelspec": {
   "display_name": "Python 3 (ipykernel)",
   "language": "python",
   "name": "python3"
  },
  "language_info": {
   "codemirror_mode": {
    "name": "ipython",
    "version": 2
   },
   "file_extension": ".py",
   "mimetype": "text/x-python",
   "name": "python",
   "nbconvert_exporter": "python",
   "pygments_lexer": "ipython2",
   "version": "2.7.6"
  }
 },
 "nbformat": 4,
 "nbformat_minor": 1
}