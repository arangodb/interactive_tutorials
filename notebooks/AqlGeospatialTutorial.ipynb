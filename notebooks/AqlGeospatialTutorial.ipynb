{
 "cells": [
  {
   "cell_type": "markdown",
   "metadata": {},
   "source": [
    "![arangodb](https://github.com/arangodb/interactive_tutorials/blob/master/notebooks/img/ArangoDB_logo.png?raw=1)"
   ]
  },
  {
   "cell_type": "markdown",
   "metadata": {},
   "source": [
    "# AQL Geospatial Tutorial"
   ]
  },
  {
   "cell_type": "markdown",
   "metadata": {},
   "source": [
    "<a href=\"https://colab.research.google.com/github/arangodb/interactive_tutorials/blob/master/notebooks/AqlGeospatialTutorial.ipynb\" target=\"_parent\"><img src=\"https://colab.research.google.com/assets/colab-badge.svg\" alt=\"Open In Colab\"/></a>"
   ]
  },
  {
   "cell_type": "markdown",
   "metadata": {},
   "source": [
    "In the previous parts of this AQL tutorial series, we have already covered a number of topics:\n",
    "* [Part 1: CRUD](https://colab.research.google.com/github/joerg84/ArangoDBUniversity/blob/master/AqlCrudTutorial.ipynb) \n",
    "* [Part 2: Limit, Sort, Filter](https://colab.research.google.com/github/joerg84/ArangoDBUniversity/blob/master/AqlPart2Tutorial.ipynb)\n",
    "* [Part 3: Join](https://colab.research.google.com/github/joerg84/ArangoDBUniversity/blob/master/AqlJoinTutorial.ipynb)\n",
    "* [Part 4: Graph Traversals](https://colab.research.google.com/github/joerg84/ArangoDBUniversity/blob/master/AqlTraversalTutorial.ipynb)\n",
    "\n",
    "In this part we learn how AQL supports geospatial queries.\n",
    "Geospatial coordinates consisting of a latitude and longitude value can be stored either as two separate attributes, or as a single attribute in the form of an array with both numeric values. ArangoDB can index such coordinates for fast geospatial queries.\n",
    "\n",
    "Recall, that in addition to the python interface, you can interact with ArangoDB using its web interface to manage collections and execute the queries."
   ]
  },
  {
   "cell_type": "markdown",
   "metadata": {},
   "source": [
    "# Setup "
   ]
  },
  {
   "cell_type": "markdown",
   "metadata": {},
   "source": [
    "Before getting started with ArangoDB we need to prepare our environment and create a temporary database on ArangoDB's managed Service Oasis."
   ]
  },
  {
   "cell_type": "code",
   "execution_count": null,
   "metadata": {},
   "outputs": [],
   "source": [
    "%%capture\r\n",
    "!git clone -b oasis_connector --single-branch https://github.com/arangodb/interactive_tutorials.git\r\n",
    "!rsync -av interactive_tutorials/ ./ --exclude=.git\r\n",
    "!pip3 install pyarango\r\n",
    "!pip3 install \"python-arango>=5.0\""
   ]
  },
  {
   "cell_type": "code",
   "execution_count": null,
   "metadata": {},
   "outputs": [],
   "source": [
    "import json\r\n",
    "import requests\r\n",
    "import sys\r\n",
    "import oasis\r\n",
    "import time\r\n",
    "\r\n",
    "from pyArango.connection import *\r\n",
    "from arango import ArangoClient"
   ]
  },
  {
   "cell_type": "markdown",
   "metadata": {},
   "source": [
    "Create the temporary database:"
   ]
  },
  {
   "cell_type": "code",
   "execution_count": null,
   "metadata": {},
   "outputs": [],
   "source": [
    "# Retrieve tmp credentials from ArangoDB Tutorial Service\r\n",
    "login = oasis.getTempCredentials(tutorialName=\"AQLGeoSpatial\", credentialProvider='https://tutorials.arangodb.cloud:8529/_db/_system/tutorialDB/tutorialDB')\r\n",
    "\r\n",
    "# Connect to the temp database\r\n",
    "conn = oasis.connect(login)\r\n",
    "db = conn[login[\"dbName\"]] "
   ]
  },
  {
   "cell_type": "code",
   "execution_count": null,
   "metadata": {},
   "outputs": [],
   "source": [
    "print(\"https://{}:{}\".format(login[\"hostname\"], login[\"port\"]))\r\n",
    "print(\"Username: \" + login[\"username\"])\r\n",
    "print(\"Password: \" + login[\"password\"])\r\n",
    "print(\"Database: \" + login[\"dbName\"])"
   ]
  },
  {
   "cell_type": "markdown",
   "metadata": {},
   "source": [
    "Feel free to use to above URL to checkout the UI!"
   ]
  },
  {
   "cell_type": "markdown",
   "metadata": {},
   "source": [
    "##  Locations Data"
   ]
  },
  {
   "cell_type": "markdown",
   "metadata": {},
   "source": [
    "Let us create a collection with some filming locations for Games of Thrones."
   ]
  },
  {
   "cell_type": "markdown",
   "metadata": {},
   "source": [
    "![locations](https://github.com/arangodb/interactive_tutorials/blob/master/notebooks/img/Locations_Map.png?raw=1)"
   ]
  },
  {
   "cell_type": "code",
   "execution_count": null,
   "metadata": {},
   "outputs": [],
   "source": [
    "# Create the Locaions Collection \r\n",
    "db.createCollection(name=\"Locations\")"
   ]
  },
  {
   "cell_type": "code",
   "execution_count": null,
   "metadata": {},
   "outputs": [],
   "source": [
    "insert_query = \"\"\"\r\n",
    "LET places = [\r\n",
    "    { \"name\": \"Dragonstone\", \"coordinate\": [ 55.167801, -6.815096 ] },\r\n",
    "    { \"name\": \"King's Landing\", \"coordinate\": [ 42.639752, 18.110189 ] },\r\n",
    "    { \"name\": \"The Red Keep\", \"coordinate\": [ 35.896447, 14.446442 ] },\r\n",
    "    { \"name\": \"Yunkai\", \"coordinate\": [ 31.046642, -7.129532 ] },\r\n",
    "    { \"name\": \"Astapor\", \"coordinate\": [ 31.50974, -9.774249 ] },\r\n",
    "    { \"name\": \"Winterfell\", \"coordinate\": [ 54.368321, -5.581312 ] },\r\n",
    "    { \"name\": \"Vaes Dothrak\", \"coordinate\": [ 54.16776, -6.096125 ] },\r\n",
    "    { \"name\": \"Beyond the wall\", \"coordinate\": [ 64.265473, -21.094093 ] }\r\n",
    "]\r\n",
    "\r\n",
    "\r\n",
    "FOR place IN places\r\n",
    "    INSERT place INTO Locations\r\n",
    "\"\"\"\r\n",
    "\r\n",
    "db.AQLQuery(insert_query)"
   ]
  },
  {
   "cell_type": "markdown",
   "metadata": {},
   "source": [
    "As before let us check the `Locations` collection:"
   ]
  },
  {
   "cell_type": "code",
   "execution_count": null,
   "metadata": {},
   "outputs": [],
   "source": [
    "all_locations_names = \"\"\"\r\n",
    "FOR p IN Locations\r\n",
    "    RETURN p.name\r\n",
    "\"\"\"\r\n",
    "\r\n",
    "query_result = db.AQLQuery(all_locations_names, rawResults=True)\r\n",
    "for doc in  query_result:\r\n",
    "    print(doc)\r\n",
    "    print()"
   ]
  },
  {
   "cell_type": "markdown",
   "metadata": {},
   "source": [
    "# Geospatial Index"
   ]
  },
  {
   "cell_type": "markdown",
   "metadata": {},
   "source": [
    "To query based on coordinates, a [geo index](https://www.arangodb.com/docs/stable/indexing-geo.html) is required. It determines which fields contain the latitude and longitude values."
   ]
  },
  {
   "cell_type": "code",
   "execution_count": null,
   "metadata": {},
   "outputs": [],
   "source": [
    "db[\"Locations\"].ensureGeoIndex([\"coordinate\"])"
   ]
  },
  {
   "cell_type": "markdown",
   "metadata": {},
   "source": [
    "# Find nearby Locations"
   ]
  },
  {
   "cell_type": "markdown",
   "metadata": {},
   "source": [
    "A `FOR` loop is used to iterate over the results of a function call to NEAR() to find the n closest coordinates to a reference point, and return the documents with the nearby locations. The default for n is 100, which means 100 documents are returned at most, the closest matches first.\n",
    "\n",
    "In below example, the limit is set to 3. The origin (the reference point) is a coordinate somewhere downtown in Dublin, Ireland:"
   ]
  },
  {
   "cell_type": "code",
   "execution_count": null,
   "metadata": {},
   "outputs": [],
   "source": [
    "near_locations_names = \"\"\"\n",
    "FOR loc IN NEAR(Locations, 53.35, -6.26, 3)\n",
    "    RETURN {\n",
    "        name: loc.name,\n",
    "        latitude: loc.coordinate[0],\n",
    "        longitude: loc.coordinate[1]\n",
    "    }\n",
    "\"\"\"\n",
    "\n",
    "query_result = db.AQLQuery(near_locations_names, rawResults=True)\n",
    "for doc in  query_result:\n",
    "    print(doc)\n",
    "    print()    "
   ]
  },
  {
   "cell_type": "markdown",
   "metadata": {},
   "source": [
    "The query returns the location name, as well as the coordinate. The coordinate is returned as two separate attributes. You may use a simpler `RETURN loc` instead if you want."
   ]
  },
  {
   "cell_type": "markdown",
   "metadata": {},
   "source": [
    "To create the required edge documents to store these relations in the database, we can run a query that combines joining and filtering to match up the right character documents, then use their `_id` attribute to insert an edge into an edge collection ChildOf."
   ]
  },
  {
   "cell_type": "markdown",
   "metadata": {},
   "source": [
    "# Find locations within radius\n",
    "\n",
    "Instead of `NEAR()` we can also use `WITHIN()`, to search for locations within a given radius from a reference point. The syntax is the same as for `NEAR()`, except for the fourth parameter, which specifies the radius instead of a limit. The unit for the radius is meters. The example uses a radius of 200,000 meters (200 kilometers):"
   ]
  },
  {
   "cell_type": "code",
   "execution_count": null,
   "metadata": {},
   "outputs": [],
   "source": [
    "within_locations_names = \"\"\"\n",
    "FOR loc IN WITHIN(Locations, 53.35, -6.26, 200 * 1000)\n",
    "    RETURN {\n",
    "        name: loc.name,\n",
    "        latitude: loc.coordinate[0],\n",
    "        longitude: loc.coordinate[1]\n",
    "    }\n",
    "\"\"\"\n",
    "\n",
    "query_result = db.AQLQuery(within_locations_names, rawResults=True)\n",
    "for doc in  query_result:\n",
    "    print(doc)\n",
    "    print() "
   ]
  },
  {
   "cell_type": "markdown",
   "metadata": {},
   "source": [
    "# Calculating the Distance"
   ]
  },
  {
   "cell_type": "markdown",
   "metadata": {},
   "source": [
    "Both `NEAR()` and `WITHIN()` can return the distance to the reference point by adding an optional fifth parameter. It has to be a string, which will be used as attribute name for an additional attribute with the distance in meters:"
   ]
  },
  {
   "cell_type": "code",
   "execution_count": null,
   "metadata": {},
   "outputs": [],
   "source": [
    "near_locations_names = \"\"\"\n",
    "FOR loc IN NEAR(Locations, 53.35, -6.26, 3, \"distance\")\n",
    "    RETURN {\n",
    "        name: loc.name,\n",
    "        latitude: loc.coordinate[0],\n",
    "        longitude: loc.coordinate[1],\n",
    "        distance: loc.distance / 1000\n",
    "    }\n",
    "\"\"\"\n",
    "\n",
    "query_result = db.AQLQuery(near_locations_names, rawResults=True)\n",
    "for doc in  query_result:\n",
    "    print(doc)\n",
    "    print()    \n"
   ]
  },
  {
   "cell_type": "markdown",
   "metadata": {},
   "source": [
    "The extra attribute, here called distance, is returned as part of the loc variable, as if it was part of the location document. The value is divided by 1000 in the example query, to convert the unit to kilometers, simply to make it better readable."
   ]
  },
  {
   "cell_type": "markdown",
   "metadata": {},
   "source": [
    "# Next Steps"
   ]
  },
  {
   "cell_type": "markdown",
   "metadata": {},
   "source": [
    "To continue playing and working with ArangoDB beyond the temporary database, you can:\n",
    "\n",
    "* [Get a 2 week free Trial with the ArangoDB Cloud](https://cloud.arangodb.com/home?utm_source=AQLJoin&utm_medium=Github&utm_campaign=ArangoDB%20University)\n",
    "* Take the [free Graph Course](https://www.arangodb.com/arangodb-graph-course)  \n",
    "* [Download ArangoDB](https://www.arangodb.com/download-major/)\n",
    "* Keep Learning at thttps://www.arangodb.com/arangodb-training-center/"
   ]
  },
  {
   "cell_type": "markdown",
   "metadata": {},
   "source": [
    "# Further Links"
   ]
  },
  {
   "cell_type": "markdown",
   "metadata": {},
   "source": [
    "* https://www.arangodb.com/docs/stable/aql/tutorial.html"
   ]
  }
 ],
 "metadata": {
  "kernelspec": {
   "display_name": "Python 3",
   "language": "python",
   "name": "python3"
  },
  "language_info": {
   "codemirror_mode": {
    "name": "ipython",
    "version": 3
   },
   "file_extension": ".py",
   "mimetype": "text/x-python",
   "name": "python",
   "nbconvert_exporter": "python",
   "pygments_lexer": "ipython3",
   "version": "3.7.7"
  }
 },
 "nbformat": 4,
 "nbformat_minor": 4
}
