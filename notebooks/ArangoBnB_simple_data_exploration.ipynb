{
  "nbformat": 4,
  "nbformat_minor": 0,
  "metadata": {
    "colab": {
      "name": "ArangoBnB_simple_data_exploration.ipynb",
      "provenance": [],
      "collapsed_sections": [],
      "toc_visible": true,
      "include_colab_link": true
    },
    "language_info": {
      "name": "python"
    },
    "kernelspec": {
      "name": "python3",
      "display_name": "Python 3"
    }
  },
  "cells": [
    {
      "cell_type": "markdown",
      "metadata": {
        "id": "view-in-github",
        "colab_type": "text"
      },
      "source": [
        "<a href=\"https://colab.research.google.com/github/arangodb/interactive_tutorials/blob/master/notebooks/ArangoBnB_simple_data_exploration.ipynb\" target=\"_parent\"><img src=\"https://colab.research.google.com/assets/colab-badge.svg\" alt=\"Open In Colab\"/></a>"
      ]
    },
    {
      "cell_type": "markdown",
      "metadata": {
        "id": "MXQ-ZdgrCqev"
      },
      "source": [
        "# Brief Data Exploration of the Airbnb Dataset\n",
        "\n",
        "This notebook showcases an example of data exploration as a part of a data modeling activity. The original dataset is pulled from and maintained by [insideAirbnb](http://insideairbnb.com/). The goal is to show a different approach to data analysis and exploration, compared to AQL. The approaches should not be considered contradictory but instead complimentary. This notebook focuses on some basic overview data and some insights into the prices of listings. A more complete look at the listings of the Airbnb dataset can be found in the original article.\n",
        "\n",
        "This data was eventually used in the full stack JavaScript project, [ArangoBnB](https://github.com/cw00dw0rd/ArangoBnB). The ArangoBnB project has been created with the community and is always open to new contributors looking to learn more about ArangoDB, JavaScript, Vue, and/or React.\n",
        "\n",
        "Some objectives for this data exploration activity includes:\n",
        " * Learn about the included fields and data types\n",
        " * Evaluate completeness of the fields\n",
        " * Determine if the data can fulfill our application requirements\n",
        " * Attempt to gain some quick insights from listing prices\n",
        " * Discover any necessary transformations\n",
        "\n",
        "#### Application Requirements\n",
        "The following is a list of application requirements that were previously outlined in the associated data modeling article. During the activity we hope to determine the viability of some of these features. It isn't likely that we will find all features listed in this single file but it's a good idea to keep them in mind.\n",
        " * Search an AirBnB dataset to find rentals nearby a specified location\n",
        " * A draggable map that shows results based on position\n",
        " * Use ArangoSearch to keep everything fast\n",
        " * Search the dataset with GeoJSON coordinates\n",
        " * Filter results based on keywords, price, guests, etc\n",
        " * Natural language search (Ex: Houses in Florida with pools.)\n",
        " * Use AQL for all queries\n",
        " * Multi-lingual support\n"
      ]
    },
    {
      "cell_type": "markdown",
      "metadata": {
        "id": "1eyuIWCHCqez"
      },
      "source": [
        "## Install Prequisites"
      ]
    },
    {
      "cell_type": "code",
      "metadata": {
        "id": "TQwLopDECqez"
      },
      "source": [
        "%%capture\n",
        "!pip install python-arango\n",
        "!pip install arangopipe==0.0.70.0.0\n",
        "!pip install pandas"
      ],
      "execution_count": null,
      "outputs": []
    },
    {
      "cell_type": "markdown",
      "metadata": {
        "id": "B6u57DXk-TIW"
      },
      "source": [
        "## Download the Data\n",
        "Ideally, similar activities for each of the datasets would be performed and the collective insights would be used for development. For simplicity, this notebook will only look at a single collection, the `listings` collection. \n",
        "\n",
        "[insideAirbnb](http://insideairbnb.com/) provides two files named `listings`; one is essentially a summary of the larger file. The larger file is used in this example as it is only 40MB and provides a more complete view of the available data."
      ]
    },
    {
      "cell_type": "code",
      "metadata": {
        "id": "VBTVxya2-Sxg"
      },
      "source": [
        "!wget \"http://data.insideairbnb.com/germany/be/berlin/2020-12-21/data/listings.csv.gz\"\n",
        "!gunzip listings.csv.gz"
      ],
      "execution_count": null,
      "outputs": []
    },
    {
      "cell_type": "markdown",
      "metadata": {
        "id": "k4KwXJoWCqe0"
      },
      "source": [
        "## Read Data\n",
        "\n",
        "Now that we have downloaded and unzipped the `listings.csv.gz` file for Berlin from [insideAirbnb](http://insideairbnb.com/get-the-data.html) we can start working with it.\n",
        "\n",
        "To keep things easy we mostly stick with using [Pandas](https://pandas.pydata.org/docs/index.html) and [numPy](https://numpy.org/)."
      ]
    },
    {
      "cell_type": "code",
      "metadata": {
        "id": "leIXnMjXCqe0"
      },
      "source": [
        "import pandas as pd\n",
        "import numpy as np\n",
        "\n",
        "df = pd.read_csv(\"listings.csv\", error_bad_lines=False)"
      ],
      "execution_count": null,
      "outputs": []
    },
    {
      "cell_type": "markdown",
      "metadata": {
        "id": "ZhGjoqvOCqe0"
      },
      "source": [
        "## Generate Summaries\n",
        "First, we look at the document's head and tail to see what fields exist and get a quick view of how the data looks.\n",
        "\n",
        "Some immediate takeaways include:\n",
        " * Some values show `NaN`\n",
        " * Some fields contain HTML \n",
        " * Price appears to be a string with symbols\n",
        " \n",
        "Do you see anything else that needs attention?"
      ]
    },
    {
      "cell_type": "code",
      "metadata": {
        "id": "T6l8ffDXI-bX"
      },
      "source": [
        "df.head()"
      ],
      "execution_count": null,
      "outputs": []
    },
    {
      "cell_type": "code",
      "metadata": {
        "id": "Rs93VWVlHI-I"
      },
      "source": [
        "df.tail()"
      ],
      "execution_count": null,
      "outputs": []
    },
    {
      "cell_type": "markdown",
      "metadata": {
        "id": "_dMC8xxdJedq"
      },
      "source": [
        "We can get an idea of the data types for the various fields with the [info()](https://pandas.pydata.org/docs/reference/api/pandas.DataFrame.info.html) method which prints a summary of the dataframe. \n",
        "This summary includes:\n",
        " * Field(column) name\n",
        " * The number of non-null values\n",
        " * The field datatype"
      ]
    },
    {
      "cell_type": "code",
      "metadata": {
        "id": "8PXi6Qsb_ztx"
      },
      "source": [
        "df.info()"
      ],
      "execution_count": null,
      "outputs": []
    },
    {
      "cell_type": "markdown",
      "metadata": {
        "id": "bwwujfhyDPdc"
      },
      "source": [
        "A common method to start with is [describe()](https://pandas.pydata.org/docs/reference/api/pandas.DataFrame.describe.html) which generates descriptive statistics. This method may be more appropriate for other datasets but still provides some interesting stats that gets us a little more familiar with the data.\n",
        "\n",
        "For instance, values like `id`, `scrape_id`, `host_id`, "
      ]
    },
    {
      "cell_type": "code",
      "metadata": {
        "id": "6DByrYUFCqe0"
      },
      "source": [
        "df.describe()"
      ],
      "execution_count": null,
      "outputs": []
    },
    {
      "cell_type": "code",
      "metadata": {
        "id": "BMALqFEsHDDf"
      },
      "source": [
        "df.isna().any()"
      ],
      "execution_count": null,
      "outputs": []
    },
    {
      "cell_type": "code",
      "metadata": {
        "id": "f_sl1lM3DMdd"
      },
      "source": [
        "df.duplicated()"
      ],
      "execution_count": null,
      "outputs": []
    },
    {
      "cell_type": "markdown",
      "metadata": {
        "id": "bfjMrttR6Tp0"
      },
      "source": [
        "## Listing Price Insights"
      ]
    },
    {
      "cell_type": "code",
      "metadata": {
        "id": "xhlHD7DZsGeh"
      },
      "source": [
        "# Converts price from string to number and removes special characters\n",
        "df['price'] = df[\"price\"].replace('[\\$\\,]',\"\",regex=True).astype(float)\n",
        "\n",
        "# Sets sensible tick range for prices\n",
        "# Eventually isn't necessary as setting c and colormap does this for us\n",
        "ticks = np.arange(min(df['price']) ,max(df['price']), (max(df['price']) / 25))"
      ],
      "execution_count": null,
      "outputs": []
    },
    {
      "cell_type": "code",
      "metadata": {
        "id": "waPl9vveCqe0"
      },
      "source": [
        "plt = df.plot(x=\"price\", y=\"neighbourhood_group_cleansed\", s=100, kind=\"scatter\", c=\"price\", colormap='Set1', figsize=[20, 10], grid=True)"
      ],
      "execution_count": null,
      "outputs": []
    },
    {
      "cell_type": "markdown",
      "metadata": {
        "id": "6LR4kAYLLp1U"
      },
      "source": [
        "This seems to be indicating that there are prices reaching 8000?\n",
        "\n",
        "Using [max()](https://pandas.pydata.org/docs/reference/api/pandas.DataFrame.max.html) we can confirm this, as well as get some insights into other fields.\n",
        "Some interesting fields:\n",
        " * The max number of bedrooms is 50!\n",
        " * The max number of beds is 96!\n",
        " * The min/max nights seem to have some outliers of 1124/9999\n",
        " * The max review score is 10 in all categories "
      ]
    },
    {
      "cell_type": "code",
      "metadata": {
        "id": "Kb6wyEvHKRpv"
      },
      "source": [
        "df.max()"
      ],
      "execution_count": null,
      "outputs": []
    },
    {
      "cell_type": "code",
      "metadata": {
        "id": "vd-d26gBN2Qr"
      },
      "source": [
        "# Of the 22k listings, there are 430 different prices set\n",
        "len(pd.unique(df['price']))"
      ],
      "execution_count": null,
      "outputs": []
    },
    {
      "cell_type": "markdown",
      "metadata": {
        "id": "s-7FF9Z96gnD"
      },
      "source": [
        "This has been a quick look at using pandas to explore data.\n",
        "In this notebook we:\n",
        " * Gained an overview of the available data and their types\n",
        " * Got some insights into neighborhoods and prices\n",
        " * Transformed the price from a string into a useable number\n",
        " "
      ]
    }
  ]
}