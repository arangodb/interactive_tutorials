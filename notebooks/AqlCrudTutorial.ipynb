{
 "cells": [
  {
   "cell_type": "markdown",
   "metadata": {
    "id": "EjHT0pfkd50d"
   },
   "source": [
    "![arangodb](https://github.com/arangodb/interactive_tutorials/blob/master/notebooks/img/ArangoDB_logo.png?raw=1)"
   ]
  },
  {
   "cell_type": "markdown",
   "metadata": {
    "id": "XIHPS095d50h"
   },
   "source": [
    "# AQL CRUD Tutorial"
   ]
  },
  {
   "cell_type": "markdown",
   "metadata": {
    "id": "AYr8DXPXd50h"
   },
   "source": [
    "<a href=\"https://colab.research.google.com/github/arangodb/interactive_tutorials/blob/master/notebooks/AqlCrudTutorial.ipynb\" target=\"_parent\"><img src=\"https://colab.research.google.com/assets/colab-badge.svg\" alt=\"Open In Colab\"/></a>"
   ]
  },
  {
   "cell_type": "markdown",
   "metadata": {
    "id": "Brl97lYwd50i"
   },
   "source": [
    "This is an introduction to ArangoDB’s query language AQL, built around a small dataset of characters from the novel and fantasy drama television series Game of Thrones (as of season 1). It includes character traits in two languages, some family relations, and last but not least a small set of filming locations, which makes for an interesting mix of data to work with.\n",
    "\n",
    "In addition to the python interface, you can interact with ArangoDB using its web interface to manage collections and execute the queries."
   ]
  },
  {
   "cell_type": "markdown",
   "metadata": {
    "id": "cTIT0ffjd50i"
   },
   "source": [
    "# Setup "
   ]
  },
  {
   "cell_type": "markdown",
   "metadata": {
    "id": "Pmp2AMIhd50j"
   },
   "source": [
    "Before getting started with ArangoDB we need to prepare our environment and create a temporary database on ArangoDB's managed Service Oasis."
   ]
  },
  {
   "cell_type": "code",
   "execution_count": null,
   "metadata": {},
   "outputs": [],
   "source": [
    "%%capture\n",
    "!git clone -b oasis_connector --single-branch https://github.com/arangodb/interactive_tutorials.git\n",
    "!rsync -av interactive_tutorials/ ./ --exclude=.git\n",
    "!pip3 install pyarango\n",
    "!pip3 install \"python-arango>=5.0\""
   ]
  },
  {
   "cell_type": "code",
   "execution_count": null,
   "metadata": {},
   "outputs": [],
   "source": [
    "import json\n",
    "import requests\n",
    "import sys\n",
    "import oasis\n",
    "import time\n",
    "\n",
    "from pyArango.connection import *\n",
    "from arango import ArangoClient"
   ]
  },
  {
   "cell_type": "markdown",
   "metadata": {
    "id": "fuQ6phTMd50m"
   },
   "source": [
    "Create the temporary database:"
   ]
  },
  {
   "cell_type": "code",
   "execution_count": null,
   "metadata": {},
   "outputs": [],
   "source": [
    "# Retrieve tmp credentials from ArangoDB Tutorial Service\n",
    "login = oasis.getTempCredentials(tutorialName=\"AQLCrudTutorial\", credentialProvider='https://tutorials.arangodb.cloud:8529/_db/_system/tutorialDB/tutorialDB')\n",
    "\n",
    "# Connect to the temp database\n",
    "conn = oasis.connect(login)\n",
    "pyAr_db = conn[login[\"dbName\"]]\n",
    "\n"
   ]
  },
  {
   "cell_type": "code",
   "execution_count": null,
   "metadata": {},
   "outputs": [],
   "source": [
    "python_arango_db = oasis.connect_python_arango(login)\n",
    "aql = python_arango_db.aql"
   ]
  },
  {
   "cell_type": "code",
   "execution_count": null,
   "metadata": {},
   "outputs": [],
   "source": [
    "print(\"https://{}:{}\".format(login[\"hostname\"], login[\"port\"]))\n",
    "print(\"Username: \" + login[\"username\"])\n",
    "print(\"Password: \" + login[\"password\"])\n",
    "print(\"Database: \" + login[\"dbName\"])"
   ]
  },
  {
   "cell_type": "markdown",
   "metadata": {
    "id": "7Q0YpfHvd50n"
   },
   "source": [
    "Feel free to use to above URL to checkout the UI!"
   ]
  },
  {
   "cell_type": "markdown",
   "metadata": {
    "id": "tsRp_icod50o"
   },
   "source": [
    "##  Creating Collections"
   ]
  },
  {
   "cell_type": "markdown",
   "metadata": {
    "id": "fsO_ZUitd50o"
   },
   "source": [
    "Before we can insert documents with AQL, we need a place to put them in – a collection. Collections can be managed via the web interface, arangosh or a driver. It is not possible to do so with AQL however."
   ]
  },
  {
   "cell_type": "code",
   "execution_count": null,
   "metadata": {},
   "outputs": [],
   "source": [
    "# Create collection using pyArango driver\n",
    "pyAr_db.createCollection(name=\"Characters\")\n",
    "\n",
    "# Creating collections with python-arango\n",
    "# Since the collection is created above this should always pass\n",
    "if python_arango_db.has_collection(\"Characters\"):\n",
    "  pass\n",
    "else:\n",
    "  python_arango_db.create_collection(\"Characters\")"
   ]
  },
  {
   "cell_type": "markdown",
   "metadata": {
    "id": "As_8QOgld50o"
   },
   "source": [
    "##  Creating and Reading Documents"
   ]
  },
  {
   "cell_type": "markdown",
   "metadata": {
    "id": "-jfzubbNd50p"
   },
   "source": [
    "The syntax for creating a new document is `INSERT document INTO collectionName`. The document is an object like you may know it from JavaScript or JSON, which is comprised of attribute key and value pairs. The quotes around the attribute keys are optional in AQL. Keys are always character sequences (strings), whereas attribute values can have different types:\n",
    "\n",
    "* null\n",
    "* boolean (true, false)\n",
    "* number (integer and floating point)\n",
    "* string\n",
    "* array\n",
    "* object\n",
    "\n",
    "Name and surname of the character document we inserted are both string values. The alive state uses a boolean. Age is a numeric value. The traits are an array of strings. The entire document is an object."
   ]
  },
  {
   "cell_type": "code",
   "execution_count": null,
   "metadata": {},
   "outputs": [],
   "source": [
    "insert_query = \"\"\"\n",
    "INSERT {\n",
    "    \"name\": \"Ned\",\n",
    "    \"surname\": \"Stark\",\n",
    "    \"alive\": true,\n",
    "    \"age\": 41,\n",
    "    \"traits\": [\"A\",\"H\",\"C\",\"N\",\"P\"]\n",
    "} INTO Characters\n",
    "\"\"\"\n",
    "# python-arango\n",
    "aql.execute(insert_query)\n",
    "\n",
    "# pyArango\n",
    "#pyAr_db.AQLQuery(insert_query)"
   ]
  },
  {
   "cell_type": "markdown",
   "metadata": {
    "id": "uj1Q7cpzd50p"
   },
   "source": [
    "*Note: You can also execute all the queries from the ArangoDB Web UI which you can access using the link and login information above.*"
   ]
  },
  {
   "cell_type": "markdown",
   "metadata": {
    "id": "lsaIxYlkd50p"
   },
   "source": [
    "![ui](https://github.com/arangodb/interactive_tutorials/blob/master/notebooks/img/query_ui.png?raw=1)"
   ]
  },
  {
   "cell_type": "markdown",
   "metadata": {
    "id": "yUXQIb6sd50q"
   },
   "source": [
    "Let us check whether the insert was sucessfull querying the `Characters` collections. The syntax of the loop is `FOR variableName IN collectionName`. For each document in the collection, c is assigned a document, which is then returned as per the loop body."
   ]
  },
  {
   "cell_type": "code",
   "execution_count": null,
   "metadata": {},
   "outputs": [],
   "source": [
    "all_characters = \"\"\"\n",
    "FOR c IN Characters\n",
    "    RETURN c\n",
    "\"\"\"\n",
    "\n",
    "# python-arango\n",
    "query_result = aql.execute(all_characters)\n",
    "\n",
    "# pyArango\n",
    "# query_result = pyAr_db.AQLQuery(all_characters, rawResults=True)\n",
    "\n",
    "for doc in  query_result:\n",
    "    print(doc)\n",
    "    print()"
   ]
  },
  {
   "cell_type": "markdown",
   "metadata": {
    "id": "khbGt6zud50q"
   },
   "source": [
    "The document features the four attributes we stored, plus three more added by the database system. Each document needs a unique `_key`, which identifies it within a collection. The `_id` is a computed property, a concatenation of the collection name, a forward slash `/` and the document key. It uniquely identies a document within a database. `_rev` is a revision ID managed by the system. Older revisions of a document cannot be accessed.\n",
    "Document keys can be provided by the user upon document creation, or a unique value is assigned automatically. It can not be changed later. All three system attributes starting with an underscore `_` are read-only."
   ]
  },
  {
   "cell_type": "markdown",
   "metadata": {
    "id": "b9WJ-CDrd50q"
   },
   "source": [
    "Next, let us add some more characters. The `LET` keyword defines a variable with name data and an array of objects as value, so `LET variableName = valueExpression` and the expression being a literal array definition like `[ {...}, {...}, ... ]`.\n",
    "\n",
    "`FOR variableName IN expression` is used to iterate over each element of the data array. In each loop, one element is assigned to the variable `d`. This variable is then used in the `INSERT` statement instead of a literal object definition. What is does is basically:"
   ]
  },
  {
   "cell_type": "code",
   "execution_count": null,
   "metadata": {},
   "outputs": [],
   "source": [
    "insert_query = \"\"\"\n",
    "LET data = [\n",
    "    { \"name\": \"Robert\", \"surname\": \"Baratheon\", \"alive\": false, \"traits\": [\"A\",\"H\",\"C\"] },\n",
    "    { \"name\": \"Jaime\", \"surname\": \"Lannister\", \"alive\": true, \"age\": 36, \"traits\": [\"A\",\"F\",\"B\"] },\n",
    "    { \"name\": \"Catelyn\", \"surname\": \"Stark\", \"alive\": false, \"age\": 40, \"traits\": [\"D\",\"H\",\"C\"] },\n",
    "    { \"name\": \"Cersei\", \"surname\": \"Lannister\", \"alive\": true, \"age\": 36, \"traits\": [\"H\",\"E\",\"F\"] },\n",
    "    { \"name\": \"Daenerys\", \"surname\": \"Targaryen\", \"alive\": true, \"age\": 16, \"traits\": [\"D\",\"H\",\"C\"] },\n",
    "    { \"name\": \"Jorah\", \"surname\": \"Mormont\", \"alive\": false, \"traits\": [\"A\",\"B\",\"C\",\"F\"] },\n",
    "    { \"name\": \"Petyr\", \"surname\": \"Baelish\", \"alive\": false, \"traits\": [\"E\",\"G\",\"F\"] },\n",
    "    { \"name\": \"Viserys\", \"surname\": \"Targaryen\", \"alive\": false, \"traits\": [\"O\",\"L\",\"N\"] },\n",
    "    { \"name\": \"Jon\", \"surname\": \"Snow\", \"alive\": true, \"age\": 16, \"traits\": [\"A\",\"B\",\"C\",\"F\"] },\n",
    "    { \"name\": \"Sansa\", \"surname\": \"Stark\", \"alive\": true, \"age\": 13, \"traits\": [\"D\",\"I\",\"J\"] },\n",
    "    { \"name\": \"Arya\", \"surname\": \"Stark\", \"alive\": true, \"age\": 11, \"traits\": [\"C\",\"K\",\"L\"] },\n",
    "    { \"name\": \"Robb\", \"surname\": \"Stark\", \"alive\": false, \"traits\": [\"A\",\"B\",\"C\",\"K\"] },\n",
    "    { \"name\": \"Theon\", \"surname\": \"Greyjoy\", \"alive\": true, \"age\": 16, \"traits\": [\"E\",\"R\",\"K\"] },\n",
    "    { \"name\": \"Bran\", \"surname\": \"Stark\", \"alive\": true, \"age\": 10, \"traits\": [\"L\",\"J\"] },\n",
    "    { \"name\": \"Joffrey\", \"surname\": \"Baratheon\", \"alive\": false, \"age\": 19, \"traits\": [\"I\",\"L\",\"O\"] },\n",
    "    { \"name\": \"Sandor\", \"surname\": \"Clegane\", \"alive\": true, \"traits\": [\"A\",\"P\",\"K\",\"F\"] },\n",
    "    { \"name\": \"Tyrion\", \"surname\": \"Lannister\", \"alive\": true, \"age\": 32, \"traits\": [\"F\",\"K\",\"M\",\"N\"] },\n",
    "    { \"name\": \"Khal\", \"surname\": \"Drogo\", \"alive\": false, \"traits\": [\"A\",\"C\",\"O\",\"P\"] },\n",
    "    { \"name\": \"Tywin\", \"surname\": \"Lannister\", \"alive\": false, \"traits\": [\"O\",\"M\",\"H\",\"F\"] },\n",
    "    { \"name\": \"Davos\", \"surname\": \"Seaworth\", \"alive\": true, \"age\": 49, \"traits\": [\"C\",\"K\",\"P\",\"F\"] },\n",
    "    { \"name\": \"Samwell\", \"surname\": \"Tarly\", \"alive\": true, \"age\": 17, \"traits\": [\"C\",\"L\",\"I\"] },\n",
    "    { \"name\": \"Stannis\", \"surname\": \"Baratheon\", \"alive\": false, \"traits\": [\"H\",\"O\",\"P\",\"M\"] },\n",
    "    { \"name\": \"Melisandre\", \"alive\": true, \"traits\": [\"G\",\"E\",\"H\"] },\n",
    "    { \"name\": \"Margaery\", \"surname\": \"Tyrell\", \"alive\": false, \"traits\": [\"M\",\"D\",\"B\"] },\n",
    "    { \"name\": \"Jeor\", \"surname\": \"Mormont\", \"alive\": false, \"traits\": [\"C\",\"H\",\"M\",\"P\"] },\n",
    "    { \"name\": \"Bronn\", \"alive\": true, \"traits\": [\"K\",\"E\",\"C\"] },\n",
    "    { \"name\": \"Varys\", \"alive\": true, \"traits\": [\"M\",\"F\",\"N\",\"E\"] },\n",
    "    { \"name\": \"Shae\", \"alive\": false, \"traits\": [\"M\",\"D\",\"G\"] },\n",
    "    { \"name\": \"Talisa\", \"surname\": \"Maegyr\", \"alive\": false, \"traits\": [\"D\",\"C\",\"B\"] },\n",
    "    { \"name\": \"Gendry\", \"alive\": false, \"traits\": [\"K\",\"C\",\"A\"] },\n",
    "    { \"name\": \"Ygritte\", \"alive\": false, \"traits\": [\"A\",\"P\",\"K\"] },\n",
    "    { \"name\": \"Tormund\", \"surname\": \"Giantsbane\", \"alive\": true, \"traits\": [\"C\",\"P\",\"A\",\"I\"] },\n",
    "    { \"name\": \"Gilly\", \"alive\": true, \"traits\": [\"L\",\"J\"] },\n",
    "    { \"name\": \"Brienne\", \"surname\": \"Tarth\", \"alive\": true, \"age\": 32, \"traits\": [\"P\",\"C\",\"A\",\"K\"] },\n",
    "    { \"name\": \"Ramsay\", \"surname\": \"Bolton\", \"alive\": true, \"traits\": [\"E\",\"O\",\"G\",\"A\"] },\n",
    "    { \"name\": \"Ellaria\", \"surname\": \"Sand\", \"alive\": true, \"traits\": [\"P\",\"O\",\"A\",\"E\"] },\n",
    "    { \"name\": \"Daario\", \"surname\": \"Naharis\", \"alive\": true, \"traits\": [\"K\",\"P\",\"A\"] },\n",
    "    { \"name\": \"Missandei\", \"alive\": true, \"traits\": [\"D\",\"L\",\"C\",\"M\"] },\n",
    "    { \"name\": \"Tommen\", \"surname\": \"Baratheon\", \"alive\": true, \"traits\": [\"I\",\"L\",\"B\"] },\n",
    "    { \"name\": \"Jaqen\", \"surname\": \"H'ghar\", \"alive\": true, \"traits\": [\"H\",\"F\",\"K\"] },\n",
    "    { \"name\": \"Roose\", \"surname\": \"Bolton\", \"alive\": true, \"traits\": [\"H\",\"E\",\"F\",\"A\"] },\n",
    "    { \"name\": \"The High Sparrow\", \"alive\": true, \"traits\": [\"H\",\"M\",\"F\",\"O\"] }\n",
    "]\n",
    "\n",
    "FOR d IN data\n",
    "    INSERT d INTO Characters\n",
    "\"\"\"\n",
    "\n",
    "# python-arango\n",
    "aql.execute(insert_query)\n",
    "\n",
    "\n",
    "# pyArango\n",
    "# pyAr_db.AQLQuery(insert_query)"
   ]
  },
  {
   "cell_type": "markdown",
   "metadata": {
    "id": "7yaBXHLPd50r"
   },
   "source": [
    "As before let us check the `Characters` collection, but this time only return each characters name:"
   ]
  },
  {
   "cell_type": "code",
   "execution_count": null,
   "metadata": {},
   "outputs": [],
   "source": [
    "all_characters_names = \"\"\"\n",
    "FOR c IN Characters\n",
    "    RETURN c.name\n",
    "\"\"\"\n",
    "# python-arango\n",
    "query_result = aql.execute(all_characters_names)\n",
    "\n",
    "\n",
    "# pyArango\n",
    "# query_result = pyAr_db.AQLQuery(all_characters_names, rawResults=True)\n",
    "\n",
    "for doc in  query_result:\n",
    "    print(doc)\n",
    "    print()"
   ]
  },
  {
   "cell_type": "markdown",
   "metadata": {
    "id": "pVBvoGkId50s"
   },
   "source": [
    "# Updating Documents"
   ]
  },
  {
   "cell_type": "markdown",
   "metadata": {
    "id": "gsHLqpWkd50s"
   },
   "source": [
    "**Spoiler Warning!**\n",
    "\n",
    "According to our Ned Stark document, he is alive. When we get to know that he died, we need to change the alive attribute. Let us modify the existing document. For this we first identify the above `_key` attribute."
   ]
  },
  {
   "cell_type": "code",
   "execution_count": null,
   "metadata": {},
   "outputs": [],
   "source": [
    "find_ned_query = \"\"\"\n",
    "FOR c IN Characters\n",
    "    FILTER c.name == \"Ned\"\n",
    "    RETURN c._key\n",
    "\"\"\"\n",
    "\n",
    "neds_document_key = None\n",
    "\n",
    "# python-arango\n",
    "query_result = aql.execute(find_ned_query)\n",
    "\n",
    "# pyArango\n",
    "# query_result = pyAr_db.AQLQuery(find_ned_query, rawResults=True)\n",
    "\n",
    "for doc in  query_result:\n",
    "    print(\"_key: \" + str(doc))\n",
    "    neds_document_key = doc\n",
    "    print()"
   ]
  },
  {
   "cell_type": "markdown",
   "metadata": {
    "id": "4LLZDtZ6d50s"
   },
   "source": [
    "Using `key` we can update an existing document:"
   ]
  },
  {
   "cell_type": "code",
   "execution_count": null,
   "metadata": {},
   "outputs": [],
   "source": [
    "kill_ned = \"\"\"\n",
    "UPDATE @key \n",
    "WITH { alive: false} \n",
    "IN Characters\n",
    "\"\"\"\n",
    "bindVars = {'key': neds_document_key}\n",
    "\n",
    "# python-arango\n",
    "aql.execute(kill_ned, batch_size=1, bind_vars=bindVars)\n",
    "\n",
    "\n",
    "# pyArango\n",
    "# pyAr_db.AQLQuery(kill_ned, rawResults=False, batchSize=1, bindVars=bindVars)\n",
    "\n",
    "\n",
    "find_ned_query = \"\"\"\n",
    "FOR c IN Characters\n",
    "    FILTER c.name == \"Ned\"\n",
    "    RETURN c\n",
    "\"\"\"\n",
    "\n",
    "# python-arango\n",
    "query_result = aql.execute(find_ned_query)\n",
    "\n",
    "\n",
    "# pyArango\n",
    "# query_result = pyAr_db.AQLQuery(find_ned_query, rawResults=True)\n",
    "\n",
    "for doc in  query_result:\n",
    "    print(doc)\n",
    "    print()"
   ]
  },
  {
   "cell_type": "markdown",
   "metadata": {
    "id": "-qHu6RkZd50s"
   },
   "source": [
    "We could have also replaced the entire document content, using `REPLACE` instead of `UPDATE`:"
   ]
  },
  {
   "cell_type": "code",
   "execution_count": null,
   "metadata": {},
   "outputs": [],
   "source": [
    "kill_ned = \"\"\"\n",
    "REPLACE @key WITH {\n",
    "    name: \"Ned\",\n",
    "    surname: \"Stark\",\n",
    "    alive: false,\n",
    "    age: 41,\n",
    "    traits: [\"A\",\"H\",\"C\",\"N\",\"P\"]\n",
    "} IN Characters\n",
    "\"\"\"\n",
    "bindVars = {'key': neds_document_key}\n",
    "\n",
    "# python-arango\n",
    "aql.execute(kill_ned, batch_size=1, bind_vars=bindVars)\n",
    "\n",
    "# pyArango\n",
    "# pyAr_db.AQLQuery(kill_ned, rawResults=False, batchSize=1, bindVars=bindVars)\n",
    "\n",
    "# Check the updated Ned document \n",
    "find_ned_query = \"\"\"\n",
    "FOR c IN Characters\n",
    "    FILTER c.name == \"Ned\"\n",
    "    RETURN c\n",
    "\"\"\"\n",
    "# python-arango\n",
    "query_result = aql.execute(find_ned_query)\n",
    "\n",
    "\n",
    "# pyArango\n",
    "# query_result = pyAr_db.AQLQuery(find_ned_query, rawResults=True)\n",
    "for doc in  query_result:\n",
    "    print(doc)\n",
    "    print()"
   ]
  },
  {
   "cell_type": "markdown",
   "metadata": {
    "id": "2bCwlG6_d50u"
   },
   "source": [
    "We could again use the `FOR` loop construct from before to update all characters:"
   ]
  },
  {
   "cell_type": "code",
   "execution_count": null,
   "metadata": {},
   "outputs": [],
   "source": [
    "season_query = \"\"\"\n",
    "FOR c IN Characters\n",
    "    UPDATE c WITH { season: 1 } IN Characters\n",
    "\"\"\"\n",
    "# python-arango\n",
    "aql.execute(season_query)\n",
    "\n",
    "\n",
    "# pyArango\n",
    "# pyAr_db.AQLQuery(season_query, rawResults=False)\n",
    "    \n",
    "# Retrieve all characters and season they appeared    \n",
    "all_characters_names_season = \"\"\"\n",
    "FOR c IN Characters\n",
    "    RETURN {\"Name\" : c.name, \"Season\" : c.season}\n",
    "\"\"\"\n",
    "# python-arango\n",
    "query_result = aql.execute(all_characters_names_season)\n",
    "\n",
    "# pyArango\n",
    "# query_result = pyAr_db.AQLQuery(all_characters_names_season, rawResults=True)\n",
    "for doc in  query_result:\n",
    "    print(doc)\n",
    "    print()"
   ]
  },
  {
   "cell_type": "markdown",
   "metadata": {
    "id": "XRHqd22qd50v"
   },
   "source": [
    "Note, that here we customized the `RETURN` to return a json document consisting of name and season."
   ]
  },
  {
   "cell_type": "markdown",
   "metadata": {
    "id": "o9rhcAeid50v"
   },
   "source": [
    "# Delete Documents"
   ]
  },
  {
   "cell_type": "markdown",
   "metadata": {
    "id": "qy2izew-d50v"
   },
   "source": [
    "To fully remove documents from a collection, there is the `REMOVE` operation. It works similar to the other modification operations, yet without a WITH clause:"
   ]
  },
  {
   "cell_type": "code",
   "execution_count": null,
   "metadata": {},
   "outputs": [],
   "source": [
    "remove_ned = \"\"\"\n",
    "REMOVE @key IN Characters\n",
    "\"\"\"\n",
    "bindVars = {'key': neds_document_key}\n",
    "\n",
    "\n",
    "try:\n",
    "    # python-arango\n",
    "    aql.execute(remove_ned, bind_vars=bindVars)\n",
    "    \n",
    "    # pyArango\n",
    "    # pyAr_db.AQLQuery(remove_ned, rawResults=False, batchSize=1, bindVars=bindVars)\n",
    "except:\n",
    "    print(\"Ned already removed.\")\n",
    "\n",
    "# Check the updated Ned document, should be empty\n",
    "find_ned_query = \"\"\"\n",
    "FOR c IN Characters\n",
    "    FILTER c.name == \"Ned\"\n",
    "    RETURN c\n",
    "\"\"\"\n",
    "# python-arango\n",
    "query_result = aql.execute(find_ned_query, count=True)\n",
    "\n",
    "# pyArango\n",
    "# query_result = pyAr_db.AQLQuery(find_ned_query, rawResults=True)\n",
    "if len(query_result) == 0 :\n",
    "    print(\"Ned not found.\")"
   ]
  },
  {
   "cell_type": "markdown",
   "metadata": {
    "id": "d3i2JnKdd50v"
   },
   "source": [
    "As you might have already guessed we can again use a `FOR` loop if we want to perform this operation for the entire collection:"
   ]
  },
  {
   "cell_type": "code",
   "execution_count": null,
   "metadata": {},
   "outputs": [],
   "source": [
    "remove_all = \"\"\"\n",
    "FOR c IN Characters\n",
    "    REMOVE c IN Characters\n",
    "\"\"\"\n",
    "# python-arango\n",
    "aql.execute(remove_all)\n",
    "\n",
    "# pyArango\n",
    "# pyAr_db.AQLQuery(remove_all, rawResults=False)\n",
    "    \n",
    "all_characters_names = \"\"\"\n",
    "FOR c IN Characters\n",
    "    RETURN c\n",
    "\"\"\"\n",
    "# python-arango\n",
    "query_result = aql.execute(all_characters_names, count=True)\n",
    "\n",
    "# pyArango\n",
    "# query_result = pyAr_db.AQLQuery(all_characters_names, rawResults=True)\n",
    "if len(query_result) == 0 :\n",
    "    print(\"No characters left.\")"
   ]
  },
  {
   "cell_type": "markdown",
   "metadata": {
    "id": "fIaMAl5-d50w"
   },
   "source": [
    "# Next Steps"
   ]
  },
  {
   "cell_type": "markdown",
   "metadata": {
    "id": "gCD-nZvZd50w"
   },
   "source": [
    "To continue playing and learning with ArangoDB, you can:\n",
    "\n",
    "* [Get a 2 week free Trial with the ArangoDB Cloud](https://cloud.arangodb.com/home?utm_source=Basic%20AQL%20CRUD&utm_medium=Github&utm_campaign=ArangoDB%20University)\n",
    "* [Download ArangoDB](https://www.arangodb.com/download-major/)\n",
    "* Keep Learning at the ArangoDB [Training Center](https://www.arangodb.com/arangodb-training-center/)\n",
    "\n",
    "*Note: Recall that this notebook uses a temporary instance which will be autodeleted!*"
   ]
  },
  {
   "cell_type": "markdown",
   "metadata": {
    "id": "0p7ubJPjd50w"
   },
   "source": [
    "# Further Links"
   ]
  },
  {
   "cell_type": "markdown",
   "metadata": {
    "id": "L2moBhHpd50w"
   },
   "source": [
    "* https://www.arangodb.com/docs/stable/aql/tutorial.html"
   ]
  }
 ],
 "metadata": {
  "language_info": {
   "name": "python"
  }
 },
 "nbformat": 4,
 "nbformat_minor": 0
}
