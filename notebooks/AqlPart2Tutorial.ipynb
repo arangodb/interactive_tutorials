{
 "cells": [
  {
   "cell_type": "markdown",
   "metadata": {
    "id": "rPAaNfMdd58S"
   },
   "source": [
    "![arangodb](https://github.com/arangodb/interactive_tutorials/blob/master/notebooks/img/ArangoDB_logo.png?raw=1)"
   ]
  },
  {
   "cell_type": "markdown",
   "metadata": {
    "id": "0mrikLW5d58U"
   },
   "source": [
    "# AQL Tutorial Part 2"
   ]
  },
  {
   "cell_type": "markdown",
   "metadata": {
    "id": "cvtPVb41d58V"
   },
   "source": [
    "<a href=\"https://colab.research.google.com/github/arangodb/interactive_tutorials/blob/master/notebooks/AqlPart2Tutorial.ipynb\" target=\"_parent\"><img src=\"https://colab.research.google.com/assets/colab-badge.svg\" alt=\"Open In Colab\"/></a>"
   ]
  },
  {
   "cell_type": "markdown",
   "metadata": {
    "id": "DVdEKfN1d58V"
   },
   "source": [
    "In the [first part of this tutorial](https://colab.research.google.com/github/joerg84/ArangoDBUniversity/blob/master/AqlCrudTutorial.ipynb) we have looked at basic CRUD queries. In this second part, we will look at some more advanced AQL features:\n",
    "\n",
    "* Filtering \n",
    "* Sorting\n",
    "* Limiting\n",
    "\n",
    "\n",
    "Recall, that in addition to the python interface, you can interact with ArangoDB using its web interface to manage collections and execute the queries."
   ]
  },
  {
   "cell_type": "markdown",
   "metadata": {
    "id": "Xl78RI-ad58W"
   },
   "source": [
    "# Setup "
   ]
  },
  {
   "cell_type": "markdown",
   "metadata": {
    "id": "c1fnQho7d58W"
   },
   "source": [
    "Before getting started with ArangoDB we need to prepare our environment and create a temporary database on ArangoDB's managed Service Oasis."
   ]
  },
  {
   "cell_type": "code",
   "execution_count": null,
   "metadata": {
    "id": "qWEmtdrUd58W"
   },
   "outputs": [],
   "source": [
    "%%capture\n",
    "!git clone -b oasis_connector --single-branch https://github.com/arangodb/interactive_tutorials.git\n",
    "!rsync -av interactive_tutorials/ ./ --exclude=.git\n",
    "!pip3 install pyarango\n",
    "!pip3 install \"python-arango>=5.0\""
   ]
  },
  {
   "cell_type": "code",
   "execution_count": null,
   "metadata": {
    "id": "vH0iB0cRd58X"
   },
   "outputs": [],
   "source": [
    "import json\n",
    "import requests\n",
    "import sys\n",
    "import oasis\n",
    "import time\n",
    "\n",
    "from pyArango.connection import *\n",
    "from arango import ArangoClient"
   ]
  },
  {
   "cell_type": "markdown",
   "metadata": {
    "id": "6VYhYlOdd58Y"
   },
   "source": [
    "Create the temporary database:"
   ]
  },
  {
   "cell_type": "code",
   "execution_count": null,
   "metadata": {
    "colab": {
     "base_uri": "https://localhost:8080/"
    },
    "id": "Zf0IjA8kd58Z",
    "outputId": "4ebf3339-e877-4fb5-8162-0eb06c98a5a2"
   },
   "outputs": [],
   "source": [
    "# Retrieve tmp credentials from ArangoDB Tutorial Service\n",
    "login = oasis.getTempCredentials(tutorialName=\"AqlPart2Tutorial\", credentialProvider='https://tutorials.arangodb.cloud:8529/_db/_system/tutorialDB/tutorialDB')\n",
    "\n",
    "# Connect to the temp database\n",
    "conn = oasis.connect(login)\n",
    "db = conn[login[\"dbName\"]] "
   ]
  },
  {
   "cell_type": "code",
   "execution_count": null,
   "metadata": {
    "id": "2gby33vo3VG1"
   },
   "outputs": [],
   "source": [
    "python_arango_db = oasis.connect_python_arango(login)\n",
    "aql = python_arango_db.aql"
   ]
  },
  {
   "cell_type": "code",
   "execution_count": null,
   "metadata": {
    "colab": {
     "base_uri": "https://localhost:8080/"
    },
    "id": "IUJFrZY9d58Z",
    "outputId": "167932b5-21c6-4c05-9bd1-f327f94d008e"
   },
   "outputs": [],
   "source": [
    "print(\"https://{}:{}\".format(login[\"hostname\"], login[\"port\"]))\n",
    "print(\"Username: \" + login[\"username\"])\n",
    "print(\"Password: \" + login[\"password\"])\n",
    "print(\"Database: \" + login[\"dbName\"])"
   ]
  },
  {
   "cell_type": "markdown",
   "metadata": {
    "id": "26RZ62Fyd58Z"
   },
   "source": [
    "Feel free to use to above URL to checkout the UI!"
   ]
  },
  {
   "cell_type": "markdown",
   "metadata": {
    "id": "sYhOm6Bpd58a"
   },
   "source": [
    "##  Import Data"
   ]
  },
  {
   "cell_type": "markdown",
   "metadata": {
    "id": "Q20g1u-ed58a"
   },
   "source": [
    "We will work with the same dataset as in the [first part of this tutorial](https://colab.research.google.com/github/joerg84/ArangoDBUniversity/blob/master/AqlCrudTutorial.ipynb). So let us quickly import that into our temporary database. "
   ]
  },
  {
   "cell_type": "code",
   "execution_count": null,
   "metadata": {
    "id": "cIbDDhNed58a"
   },
   "outputs": [],
   "source": [
    "# Create collection using pyArango driver\n",
    "db.createCollection(name=\"Characters\")\n",
    "\n",
    "# Creating collections with python-arango\n",
    "# Since the collection is created above this should always pass\n",
    "if python_arango_db.has_collection(\"Characters\"):\n",
    "  pass\n",
    "else:\n",
    "  python_arango_db.create_collection(\"Characters\")"
   ]
  },
  {
   "cell_type": "code",
   "execution_count": null,
   "metadata": {
    "colab": {
     "base_uri": "https://localhost:8080/"
    },
    "id": "Kcmj1t6Ed58a",
    "outputId": "b76d5454-d8df-4ca2-f4e0-55a47a237fe4"
   },
   "outputs": [],
   "source": [
    "insert_query = \"\"\"\n",
    "LET data = [\n",
    "    { \"name\": \"Ned\", \"surname\": \"Stark\", \"alive\": true, \"age\": 41, \"traits\": [\"A\",\"H\",\"C\",\"N\",\"P\"] },\n",
    "    { \"name\": \"Robert\", \"surname\": \"Baratheon\", \"alive\": false, \"traits\": [\"A\",\"H\",\"C\"] },\n",
    "    { \"name\": \"Jaime\", \"surname\": \"Lannister\", \"alive\": true, \"age\": 36, \"traits\": [\"A\",\"F\",\"B\"] },\n",
    "    { \"name\": \"Catelyn\", \"surname\": \"Stark\", \"alive\": false, \"age\": 40, \"traits\": [\"D\",\"H\",\"C\"] },\n",
    "    { \"name\": \"Cersei\", \"surname\": \"Lannister\", \"alive\": true, \"age\": 36, \"traits\": [\"H\",\"E\",\"F\"] },\n",
    "    { \"name\": \"Daenerys\", \"surname\": \"Targaryen\", \"alive\": true, \"age\": 16, \"traits\": [\"D\",\"H\",\"C\"] },\n",
    "    { \"name\": \"Jorah\", \"surname\": \"Mormont\", \"alive\": false, \"traits\": [\"A\",\"B\",\"C\",\"F\"] },\n",
    "    { \"name\": \"Petyr\", \"surname\": \"Baelish\", \"alive\": false, \"traits\": [\"E\",\"G\",\"F\"] },\n",
    "    { \"name\": \"Viserys\", \"surname\": \"Targaryen\", \"alive\": false, \"traits\": [\"O\",\"L\",\"N\"] },\n",
    "    { \"name\": \"Jon\", \"surname\": \"Snow\", \"alive\": true, \"age\": 16, \"traits\": [\"A\",\"B\",\"C\",\"F\"] },\n",
    "    { \"name\": \"Sansa\", \"surname\": \"Stark\", \"alive\": true, \"age\": 13, \"traits\": [\"D\",\"I\",\"J\"] },\n",
    "    { \"name\": \"Arya\", \"surname\": \"Stark\", \"alive\": true, \"age\": 11, \"traits\": [\"C\",\"K\",\"L\"] },\n",
    "    { \"name\": \"Robb\", \"surname\": \"Stark\", \"alive\": false, \"traits\": [\"A\",\"B\",\"C\",\"K\"] },\n",
    "    { \"name\": \"Theon\", \"surname\": \"Greyjoy\", \"alive\": true, \"age\": 16, \"traits\": [\"E\",\"R\",\"K\"] },\n",
    "    { \"name\": \"Bran\", \"surname\": \"Stark\", \"alive\": true, \"age\": 10, \"traits\": [\"L\",\"J\"] },\n",
    "    { \"name\": \"Joffrey\", \"surname\": \"Baratheon\", \"alive\": false, \"age\": 19, \"traits\": [\"I\",\"L\",\"O\"] },\n",
    "    { \"name\": \"Sandor\", \"surname\": \"Clegane\", \"alive\": true, \"traits\": [\"A\",\"P\",\"K\",\"F\"] },\n",
    "    { \"name\": \"Tyrion\", \"surname\": \"Lannister\", \"alive\": true, \"age\": 32, \"traits\": [\"F\",\"K\",\"M\",\"N\"] },\n",
    "    { \"name\": \"Khal\", \"surname\": \"Drogo\", \"alive\": false, \"traits\": [\"A\",\"C\",\"O\",\"P\"] },\n",
    "    { \"name\": \"Tywin\", \"surname\": \"Lannister\", \"alive\": false, \"traits\": [\"O\",\"M\",\"H\",\"F\"] },\n",
    "    { \"name\": \"Davos\", \"surname\": \"Seaworth\", \"alive\": true, \"age\": 49, \"traits\": [\"C\",\"K\",\"P\",\"F\"] },\n",
    "    { \"name\": \"Samwell\", \"surname\": \"Tarly\", \"alive\": true, \"age\": 17, \"traits\": [\"C\",\"L\",\"I\"] },\n",
    "    { \"name\": \"Stannis\", \"surname\": \"Baratheon\", \"alive\": false, \"traits\": [\"H\",\"O\",\"P\",\"M\"] },\n",
    "    { \"name\": \"Melisandre\", \"alive\": true, \"traits\": [\"G\",\"E\",\"H\"] },\n",
    "    { \"name\": \"Margaery\", \"surname\": \"Tyrell\", \"alive\": false, \"traits\": [\"M\",\"D\",\"B\"] },\n",
    "    { \"name\": \"Jeor\", \"surname\": \"Mormont\", \"alive\": false, \"traits\": [\"C\",\"H\",\"M\",\"P\"] },\n",
    "    { \"name\": \"Bronn\", \"alive\": true, \"traits\": [\"K\",\"E\",\"C\"] },\n",
    "    { \"name\": \"Varys\", \"alive\": true, \"traits\": [\"M\",\"F\",\"N\",\"E\"] },\n",
    "    { \"name\": \"Shae\", \"alive\": false, \"traits\": [\"M\",\"D\",\"G\"] },\n",
    "    { \"name\": \"Talisa\", \"surname\": \"Maegyr\", \"alive\": false, \"traits\": [\"D\",\"C\",\"B\"] },\n",
    "    { \"name\": \"Gendry\", \"alive\": false, \"traits\": [\"K\",\"C\",\"A\"] },\n",
    "    { \"name\": \"Ygritte\", \"alive\": false, \"traits\": [\"A\",\"P\",\"K\"] },\n",
    "    { \"name\": \"Tormund\", \"surname\": \"Giantsbane\", \"alive\": true, \"traits\": [\"C\",\"P\",\"A\",\"I\"] },\n",
    "    { \"name\": \"Gilly\", \"alive\": true, \"traits\": [\"L\",\"J\"] },\n",
    "    { \"name\": \"Brienne\", \"surname\": \"Tarth\", \"alive\": true, \"age\": 32, \"traits\": [\"P\",\"C\",\"A\",\"K\"] },\n",
    "    { \"name\": \"Ramsay\", \"surname\": \"Bolton\", \"alive\": true, \"traits\": [\"E\",\"O\",\"G\",\"A\"] },\n",
    "    { \"name\": \"Ellaria\", \"surname\": \"Sand\", \"alive\": true, \"traits\": [\"P\",\"O\",\"A\",\"E\"] },\n",
    "    { \"name\": \"Daario\", \"surname\": \"Naharis\", \"alive\": true, \"traits\": [\"K\",\"P\",\"A\"] },\n",
    "    { \"name\": \"Missandei\", \"alive\": true, \"traits\": [\"D\",\"L\",\"C\",\"M\"] },\n",
    "    { \"name\": \"Tommen\", \"surname\": \"Baratheon\", \"alive\": true, \"traits\": [\"I\",\"L\",\"B\"] },\n",
    "    { \"name\": \"Jaqen\", \"surname\": \"H'ghar\", \"alive\": true, \"traits\": [\"H\",\"F\",\"K\"] },\n",
    "    { \"name\": \"Roose\", \"surname\": \"Bolton\", \"alive\": true, \"traits\": [\"H\",\"E\",\"F\",\"A\"] },\n",
    "    { \"name\": \"The High Sparrow\", \"alive\": true, \"traits\": [\"H\",\"M\",\"F\",\"O\"] }\n",
    "]\n",
    "\n",
    "FOR d IN data\n",
    "    INSERT d INTO Characters\n",
    "\"\"\"\n",
    "# python-arango\n",
    "aql.execute(insert_query)\n",
    "\n",
    "# pyArango\n",
    "# db.AQLQuery(insert_query)"
   ]
  },
  {
   "cell_type": "markdown",
   "metadata": {
    "id": "tr4-7YaAd58f"
   },
   "source": [
    "As before let us check the `Characters` collection:"
   ]
  },
  {
   "cell_type": "code",
   "execution_count": null,
   "metadata": {
    "colab": {
     "base_uri": "https://localhost:8080/"
    },
    "id": "pOVTC-EGd58f",
    "outputId": "93d57eb0-9dff-445e-cd78-a0eb2d94c3e9"
   },
   "outputs": [],
   "source": [
    "all_characters_names = \"\"\"\n",
    "FOR c IN Characters\n",
    "    RETURN c.name\n",
    "\"\"\"\n",
    "# python-arango\n",
    "query_result = aql.execute(all_characters_names)\n",
    "\n",
    "# pyArango\n",
    "# query_result = db.AQLQuery(all_characters_names, rawResults=True)\n",
    "for doc in  query_result:\n",
    "    print(doc)\n",
    "    print()"
   ]
  },
  {
   "cell_type": "markdown",
   "metadata": {
    "id": "Rbph_lt8d58f"
   },
   "source": [
    "# Filter"
   ]
  },
  {
   "cell_type": "markdown",
   "metadata": {
    "id": "qp7ryupfd58g"
   },
   "source": [
    "To find documents that fulfill certain criteria more complex than key equality, there is the FILTER operation in AQL, which enables us to formulate arbitrary conditions for documents to match.\n",
    "We actually have used a filter condition before to find `Ned`:"
   ]
  },
  {
   "cell_type": "code",
   "execution_count": null,
   "metadata": {
    "colab": {
     "base_uri": "https://localhost:8080/"
    },
    "id": "YyNyO9cNd58g",
    "outputId": "0e58bf32-4fb1-4792-e37b-073ddfda601c"
   },
   "outputs": [],
   "source": [
    "find_ned_query = \"\"\"\n",
    "FOR c IN Characters\n",
    "    FILTER c.name == \"Ned\"\n",
    "    RETURN c\n",
    "\"\"\"\n",
    "# python-arango\n",
    "query_result = aql.execute(find_ned_query)\n",
    "\n",
    "# pyArango\n",
    "# query_result = db.AQLQuery(find_ned_query, rawResults=True)\n",
    "for doc in  query_result:\n",
    "    print(doc)\n",
    "    print()"
   ]
  },
  {
   "cell_type": "markdown",
   "metadata": {
    "id": "erZlbP2Gd58g"
   },
   "source": [
    "The filter condition reads like: “the attribute name of a character document must be equal to the string Ned”. If the condition applies, character document gets returned. This works with any attribute likewise:"
   ]
  },
  {
   "cell_type": "code",
   "execution_count": null,
   "metadata": {
    "colab": {
     "base_uri": "https://localhost:8080/"
    },
    "id": "vcSQ3qW7d58g",
    "outputId": "0cc817d6-7443-4f68-8c69-01ae83ad6de3"
   },
   "outputs": [],
   "source": [
    "find_ned_query = \"\"\"\n",
    "FOR c IN Characters\n",
    "    FILTER c.surname == \"Stark\"\n",
    "    RETURN c\n",
    "\"\"\"\n",
    "# python-arango\n",
    "query_result = aql.execute(find_ned_query)\n",
    "\n",
    "# pyArango\n",
    "# query_result = db.AQLQuery(find_ned_query, rawResults=True)\n",
    "for doc in  query_result:\n",
    "    print(doc)\n",
    "    print()"
   ]
  },
  {
   "cell_type": "markdown",
   "metadata": {
    "id": "Jts3GQNHd58g"
   },
   "source": [
    "## Range conditions\n",
    "Strict equality is one possible condition we can state. There are plenty of other conditions we can formulate however. For example, we could ask for all young characters:"
   ]
  },
  {
   "cell_type": "code",
   "execution_count": null,
   "metadata": {
    "colab": {
     "base_uri": "https://localhost:8080/"
    },
    "id": "GEbN30ODd58h",
    "outputId": "169669e7-24a6-48f0-8faf-6684b70de905"
   },
   "outputs": [],
   "source": [
    "find_adults_query = \"\"\"\n",
    "FOR c IN Characters\n",
    "    FILTER c.age >= 13\n",
    "    RETURN c.name\n",
    "\"\"\"\n",
    "# python-arango\n",
    "query_result = aql.execute(find_adults_query)\n",
    "\n",
    "# pyArango\n",
    "# query_result = db.AQLQuery(find_adults_query, rawResults=True)\n",
    "for doc in  query_result:\n",
    "    print(doc)\n",
    "    print()"
   ]
  },
  {
   "cell_type": "markdown",
   "metadata": {
    "id": "rbzHmSMld58h"
   },
   "source": [
    "The operator >= stands for greater-or-equal, so every character of age 13 or older is returned (only their name in the example). We can return names and age of all characters younger than 13 by changing the operator to less-than and using the object syntax to define a subset of attributes to return:"
   ]
  },
  {
   "cell_type": "code",
   "execution_count": null,
   "metadata": {
    "colab": {
     "base_uri": "https://localhost:8080/"
    },
    "id": "42Ip9aDsd58h",
    "outputId": "82a445cf-ca09-4dc5-ddb8-8f44f347e616"
   },
   "outputs": [],
   "source": [
    "find_young_query = \"\"\"\n",
    "FOR c IN Characters\n",
    "    FILTER c.age < 13\n",
    "    RETURN { name: c.name, age: c.age }\n",
    "\"\"\"\n",
    "# python-arango\n",
    "query_result = aql.execute(find_young_query)\n",
    "\n",
    "# pyArango\n",
    "# query_result = db.AQLQuery(find_young_query, rawResults=True)\n",
    "for doc in  query_result:\n",
    "    print(doc)\n",
    "    print()   "
   ]
  },
  {
   "cell_type": "markdown",
   "metadata": {
    "id": "digxI0nbd58h"
   },
   "source": [
    "You may notice that it returns name and age of 30 characters, most with an age of null. The reason for this is, that null is the fallback value if an attribute is requested by the query, but no such attribute exists in the document, and the null is compares to numbers as lower (see [Type and value order](https://www.arangodb.com/docs/stable/aql/fundamentals-type-value-order.html)). Hence, it accidentally fulfills the age criterion c.age < 13 (null < 13). To not let documents pass the filter without an age attribute, we can add a second criterion:"
   ]
  },
  {
   "cell_type": "code",
   "execution_count": null,
   "metadata": {
    "colab": {
     "base_uri": "https://localhost:8080/"
    },
    "id": "9NhdW447d58h",
    "outputId": "de84ed63-ad91-4d2f-99d5-b545e4046403"
   },
   "outputs": [],
   "source": [
    "find_young_query = \"\"\"\n",
    "FOR c IN Characters\n",
    "    FILTER c.age < 13\n",
    "    FILTER c.age != null\n",
    "    RETURN { name: c.name, age: c.age }\n",
    "\"\"\"\n",
    "# python-arango\n",
    "query_result = aql.execute(find_young_query)\n",
    "\n",
    "# pyArango\n",
    "# query_result = db.AQLQuery(find_young_query, rawResults=True)\n",
    "for doc in  query_result:\n",
    "    print(doc)\n",
    "    print()   "
   ]
  },
  {
   "cell_type": "markdown",
   "metadata": {
    "id": "oG_2mJMJd58h"
   },
   "source": [
    "This could equally be written with a boolean AND operator as:"
   ]
  },
  {
   "cell_type": "code",
   "execution_count": null,
   "metadata": {
    "colab": {
     "base_uri": "https://localhost:8080/"
    },
    "id": "WIh4tl9td58i",
    "outputId": "596155bf-2e4c-43d2-8d3a-9ef9f9b11d88"
   },
   "outputs": [],
   "source": [
    "find_young_query = \"\"\"\n",
    "FOR c IN Characters\n",
    "    FILTER c.age < 13 AND c.age != null\n",
    "    RETURN { name: c.name, age: c.age }\n",
    "\"\"\"\n",
    "# python-arango\n",
    "query_result = aql.execute(find_young_query)\n",
    "\n",
    "# pyArango\n",
    "# query_result = db.AQLQuery(find_young_query, rawResults=True)\n",
    "for doc in  query_result:\n",
    "    print(doc)\n",
    "    print()  "
   ]
  },
  {
   "cell_type": "markdown",
   "metadata": {
    "id": "8_-8Y959d58i"
   },
   "source": [
    "If you want documents to fulfill one or another condition, possibly for different attributes as well, use OR:"
   ]
  },
  {
   "cell_type": "code",
   "execution_count": null,
   "metadata": {
    "colab": {
     "base_uri": "https://localhost:8080/"
    },
    "id": "6P0qL6ZEd58i",
    "outputId": "4627d581-4891-480b-c795-8ad9cd441900"
   },
   "outputs": [],
   "source": [
    "find_joffrey_query = \"\"\"\n",
    "FOR c IN Characters\n",
    "    FILTER c.name == \"Jon\" OR c.name == \"Joffrey\"\n",
    "    RETURN { name: c.name, surname: c.surname }\n",
    "\"\"\"\n",
    "# python-arango\n",
    "query_result = aql.execute(find_joffrey_query)\n",
    "\n",
    "# pyArango\n",
    "# query_result = db.AQLQuery(find_joffrey_query, rawResults=True)\n",
    "for doc in  query_result:\n",
    "    print(doc)\n",
    "    print()  "
   ]
  },
  {
   "cell_type": "markdown",
   "metadata": {
    "id": "AW3A9OD4d58i"
   },
   "source": [
    "To learn more about Filter Operation check the [documentation](https://www.arangodb.com/docs/stable/aql/operations-filter.html)."
   ]
  },
  {
   "cell_type": "markdown",
   "metadata": {
    "id": "uPsfs_x8d58i"
   },
   "source": [
    "# Sorting"
   ]
  },
  {
   "cell_type": "code",
   "execution_count": null,
   "metadata": {
    "colab": {
     "base_uri": "https://localhost:8080/"
    },
    "id": "_aMHigSWd58i",
    "outputId": "21026557-d6af-4c77-8ae9-a47e9e0da73d"
   },
   "outputs": [],
   "source": [
    "all_characters_names = \"\"\"\n",
    "FOR c IN Characters\n",
    "    RETURN c.name\n",
    "\"\"\"\n",
    "# python-arango\n",
    "query_result = aql.execute(all_characters_names)\n",
    "\n",
    "# pyArango\n",
    "# query_result = db.AQLQuery(all_characters_names, rawResults=True)\n",
    "for doc in  query_result:\n",
    "    print(doc)\n",
    "    print()"
   ]
  },
  {
   "cell_type": "markdown",
   "metadata": {
    "id": "PHenmrPUd58i"
   },
   "source": [
    "If we recall the above query, the order in which records were returned by the queries shown until is basically random. To return them in a defined order, we can add a SORT() operation."
   ]
  },
  {
   "cell_type": "code",
   "execution_count": null,
   "metadata": {
    "colab": {
     "base_uri": "https://localhost:8080/"
    },
    "id": "ynaMFk_Rd58j",
    "outputId": "4955a7ee-ed41-4601-ee64-35b14f921af8"
   },
   "outputs": [],
   "source": [
    "all_characters_names = \"\"\"\n",
    "FOR c IN Characters\n",
    "    SORT c.name\n",
    "    RETURN c.name\n",
    "\"\"\"\n",
    "\n",
    "# python-arango\n",
    "query_result = aql.execute(all_characters_names)\n",
    "\n",
    "# pyArango\n",
    "# query_result = db.AQLQuery(all_characters_names, rawResults=True)\n",
    "for doc in  query_result:\n",
    "    print(doc)\n",
    "    print()"
   ]
  },
  {
   "cell_type": "markdown",
   "metadata": {
    "id": "9Pn-stWjd58j"
   },
   "source": [
    "See how it sorted by name, then returned the ten alphabetically first coming names. We can reverse the sort order with DESC like descending:"
   ]
  },
  {
   "cell_type": "code",
   "execution_count": null,
   "metadata": {
    "colab": {
     "base_uri": "https://localhost:8080/"
    },
    "id": "O4Ja0M_9d58j",
    "outputId": "f95db188-c2f1-47a5-a61a-96d36280e8da"
   },
   "outputs": [],
   "source": [
    "all_characters_names = \"\"\"\n",
    "FOR c IN Characters\n",
    "    SORT c.name DESC\n",
    "    RETURN c.name\n",
    "\"\"\"\n",
    "# python-arango\n",
    "query_result = aql.execute(all_characters_names)\n",
    "\n",
    "# pyArango\n",
    "# query_result = db.AQLQuery(all_characters_names, rawResults=True)\n",
    "for doc in  query_result:\n",
    "    print(doc)\n",
    "    print()"
   ]
  },
  {
   "cell_type": "markdown",
   "metadata": {
    "id": "5x1hepgVd58j"
   },
   "source": [
    "The first sort was ascending, which is the default order. Because it is the default, it is not required to explicitly ask for ASC order."
   ]
  },
  {
   "cell_type": "markdown",
   "metadata": {
    "id": "hm1Khn7ed58j"
   },
   "source": [
    "## Sort by multiple attributes\n",
    "Assume we want to sort by surname. Many of the characters share a surname. The result order among characters with the same surname is undefined. We can first sort by surname, then name to determine the order:\n",
    "\n"
   ]
  },
  {
   "cell_type": "code",
   "execution_count": null,
   "metadata": {
    "colab": {
     "base_uri": "https://localhost:8080/"
    },
    "id": "bXcNxT8cd58j",
    "outputId": "8f9087af-c934-46d3-820c-259bd1aee131"
   },
   "outputs": [],
   "source": [
    "all_characters_names = \"\"\"\n",
    "FOR c IN Characters\n",
    "    FILTER c.surname\n",
    "    SORT c.surname, c.name\n",
    "    LIMIT 10\n",
    "    RETURN {\n",
    "        surname: c.surname,\n",
    "        name: c.name\n",
    "    }\n",
    "\"\"\"\n",
    "# python-arango\n",
    "query_result = aql.execute(all_characters_names)\n",
    "\n",
    "# pyArango\n",
    "# query_result = db.AQLQuery(all_characters_names, rawResults=True)\n",
    "for doc in  query_result:\n",
    "    print(doc)\n",
    "    print()"
   ]
  },
  {
   "cell_type": "markdown",
   "metadata": {
    "id": "wcPa0wiwd58j"
   },
   "source": [
    "Overall, the documents are sorted by last name. If the surname is the same for two characters, the name values are compared and the result sorted.\n",
    "\n"
   ]
  },
  {
   "cell_type": "markdown",
   "metadata": {
    "id": "LVVbpgKed58k"
   },
   "source": [
    "# Limiting"
   ]
  },
  {
   "cell_type": "markdown",
   "metadata": {
    "id": "-uFvqhdgd58k"
   },
   "source": [
    "It may not always be necessary to return all documents, that a FOR loop would normally return. In those cases, we can limit the amount of documents with a LIMIT() operation:"
   ]
  },
  {
   "cell_type": "code",
   "execution_count": null,
   "metadata": {
    "colab": {
     "base_uri": "https://localhost:8080/"
    },
    "id": "p6BRyyVfd58k",
    "outputId": "0758e4d0-dbfa-4703-a203-11217d9429c5"
   },
   "outputs": [],
   "source": [
    "sample_chars_query = \"\"\"\n",
    "FOR c IN Characters\n",
    "    SORT c.name\n",
    "    LIMIT 5\n",
    "    RETURN c.name\n",
    "\"\"\"\n",
    "# python-arango\n",
    "query_result = aql.execute(sample_chars_query)\n",
    "\n",
    "# pyArango\n",
    "# query_result = db.AQLQuery(sample_chars_query, rawResults=True)\n",
    "for doc in  query_result:\n",
    "    print(doc)\n",
    "    print()  "
   ]
  },
  {
   "cell_type": "markdown",
   "metadata": {
    "id": "JpCyKy5Jd58k"
   },
   "source": [
    "LIMIT is followed by a number for the maximum document count. There is a second syntax however, which allows you to skip a certain amount of record and return the next n documents:"
   ]
  },
  {
   "cell_type": "code",
   "execution_count": null,
   "metadata": {
    "colab": {
     "base_uri": "https://localhost:8080/"
    },
    "id": "-mm_LtPsd58k",
    "outputId": "e377b510-c983-4ead-a80e-b3e5aceb03bc"
   },
   "outputs": [],
   "source": [
    "sample_chars_query = \"\"\"\n",
    "FOR c IN Characters\n",
    "    SORT c.name\n",
    "    LIMIT 2, 5\n",
    "    RETURN c.name\n",
    "\"\"\"\n",
    "# python-arango\n",
    "query_result = aql.execute(sample_chars_query)\n",
    "\n",
    "# pyArango\n",
    "# query_result = db.AQLQuery(sample_chars_query, rawResults=True)\n",
    "for doc in  query_result:\n",
    "    print(doc)\n",
    "    print()  "
   ]
  },
  {
   "cell_type": "markdown",
   "metadata": {
    "id": "o-sHaGxWd58k"
   },
   "source": [
    "# Sort and Limit Combined"
   ]
  },
  {
   "cell_type": "markdown",
   "metadata": {
    "id": "a7bmdlY6d58k"
   },
   "source": [
    "The order can also be determined by a numeric value, such as the age:\n",
    "A filter is applied to avoid documents without age attribute. The remaining documents are sorted by age in ascending order, and the name and age of the ten youngest characters are returned."
   ]
  },
  {
   "cell_type": "code",
   "execution_count": null,
   "metadata": {
    "colab": {
     "base_uri": "https://localhost:8080/"
    },
    "id": "mFVangeAd58k",
    "outputId": "fb1363e1-ed68-4d24-bfca-be145b60c331"
   },
   "outputs": [],
   "source": [
    "sample_chars_query = \"\"\"\n",
    "FOR c IN Characters\n",
    "    FILTER c.age\n",
    "    SORT c.age\n",
    "    LIMIT 10\n",
    "    RETURN {\n",
    "        name: c.name,\n",
    "        age: c.age\n",
    "    }\n",
    "\"\"\"\n",
    "# python-arango\n",
    "query_result = aql.execute(sample_chars_query)\n",
    "\n",
    "# pyArango\n",
    "# query_result = db.AQLQuery(sample_chars_query, rawResults=True)\n",
    "for doc in  query_result:\n",
    "    print(doc)\n",
    "    print()  "
   ]
  },
  {
   "cell_type": "markdown",
   "metadata": {
    "id": "H736v_9xd58l"
   },
   "source": [
    "Please, refer to the documentation for [SORT operation](https://www.arangodb.com/docs/stable/aql/operations-sort.html) and [LIMIT operation](https://www.arangodb.com/docs/stable/aql/operations-limit.html)  for more details.\n"
   ]
  },
  {
   "cell_type": "markdown",
   "metadata": {
    "id": "cg6HPTJfd58l"
   },
   "source": [
    "# Next Steps"
   ]
  },
  {
   "cell_type": "markdown",
   "metadata": {
    "id": "2INWK6osd58l"
   },
   "source": [
    "To continue playing and working with ArangoDB beyond the temporary database, you can:\n",
    "\n",
    "* [Get a 2 week free Trial with the ArangoDB Cloud](https://cloud.arangodb.com/home?utm_source=AQLPart2&utm_medium=Github&utm_campaign=ArangoDB%20University)\n",
    "* [Download ArangoDB](https://www.arangodb.com/download-major/)\n",
    "* Keep Learning at thttps://www.arangodb.com/arangodb-training-center/"
   ]
  },
  {
   "cell_type": "markdown",
   "metadata": {
    "id": "zYNoMNVXd58l"
   },
   "source": [
    "# Further Links"
   ]
  },
  {
   "cell_type": "markdown",
   "metadata": {
    "id": "bctci4hkd58l"
   },
   "source": [
    "* https://www.arangodb.com/docs/stable/aql/tutorial.html"
   ]
  }
 ],
 "metadata": {
  "colab": {
   "name": "AqlPart2Tutorial.ipynb",
   "provenance": []
  },
  "language_info": {
   "codemirror_mode": {
    "name": "ipython"
   },
   "file_extension": ".py",
   "mimetype": "text/x-python",
   "name": "python",
   "nbconvert_exporter": "python"
  }
 },
 "nbformat": 4,
 "nbformat_minor": 0
}
