{
 "cells": [
  {
   "cell_type": "markdown",
   "source": [
    "![arangodb](https://github.com/arangodb/interactive_tutorials/blob/master/notebooks/img/ArangoDB_logo.png?raw=1)"
   ],
   "metadata": {
    "colab_type": "text",
    "id": "bfxiSjWR8Kmw"
   }
  },
  {
   "cell_type": "markdown",
   "source": [
    "# Fuzzy Search "
   ],
   "metadata": {
    "colab_type": "text",
    "id": "VE3KR8sW8Kmw"
   }
  },
  {
   "cell_type": "markdown",
   "source": [
    "<a href=\"https://colab.research.google.com/github/arangodb/interactive_tutorials/blob/master/notebooks/FuzzySearch.ipynb\" target=\"_parent\"><img src=\"https://colab.research.google.com/assets/colab-badge.svg\" alt=\"Open In Colab\"/></a>"
   ],
   "metadata": {
    "colab_type": "text",
    "id": "c3DiEFJE8Kmx"
   }
  },
  {
   "cell_type": "markdown",
   "source": [
    "[ArangoSearch](https://www.arangodb.com/why-arangodb/full-text-search-engine-arangosearch/) provides information retrieval features, natively integrated into ArangoDB’s query language and with support for all data models. It is primarily a full-text search engine, a much more powerful alternative to the full-text index type.\n",
    "Check this [ArangoSearch notebook](https://colab.research.google.com/github/arangodb/interactive_tutorials/blob/master/notebooks/ArangoSearch.ipynb) for an introduction to ArangoSearch.\n",
    "\n",
    "When dealing with real-world text retrieval, we often not only care about exact matches to our search phrase but need to consider for example typos or alternative spellings.\n",
    "“Fuzzy search” is an umbrella term referring to a set of algorithms for such approximate matching. Usually such algorithms evaluate some similarity measure showing how close a search term is to the items in a dictionary. Then a search engine can make a decision on which results have to be shown first.\n",
    "\n",
    "If you'd like to learn the theoretical aspects of how fuzzy search works under the hood, be sure to read [this article](https://www.arangodb.com/2020/07/deep-and-fuzzy-dive-into-search/).\n",
    "\n",
    "In this notebook we will explore the different implementations of fuzzy search in [ArangoSearch](https://www.arangodb.com/why-arangodb/full-text-search-engine-arangosearch/):\n",
    "* [N-Gram Similarity](https://www.arangodb.com/docs/stable/aql/functions-arangosearch.html#ngram_match)\n",
    "* [N-Gram Positional Similarity](https://www.arangodb.com/docs/stable/aql/functions-string.html#ngram_positional_similarity)\n",
    "* [N-Gram Match](https://www.arangodb.com/docs/stable/aql/functions-arangosearch.html#ngram_match)\n",
    "* [Levenshtein Distance](https://www.arangodb.com/docs/stable/aql/functions-arangosearch.html#levenshtein_match\n",
    ")\n",
    "* [Levenshtein Match](https://www.arangodb.com/docs/stable/aql/functions-arangosearch.html#levenshtein_match)"
   ],
   "metadata": {
    "colab_type": "text",
    "id": "4o7Vn4Uo8Kmy"
   }
  },
  {
   "cell_type": "markdown",
   "source": [
    "# Setup "
   ],
   "metadata": {
    "colab_type": "text",
    "id": "ZlcbVfOs8Kmy"
   }
  },
  {
   "cell_type": "markdown",
   "source": [
    "Before getting started with ArangoSearch we need to prepare our environment and create a temporary database on ArangoDB's managed Service Oasis."
   ],
   "metadata": {
    "colab_type": "text",
    "id": "uoIFBPwp8Kmy"
   }
  },
  {
   "cell_type": "code",
   "execution_count": null,
   "source": [
    "%%capture\r\n",
    "!git clone -b oasis_connector --single-branch https://github.com/arangodb/interactive_tutorials.git\r\n",
    "!rsync -av interactive_tutorials/ ./ --exclude=.git\r\n",
    "!chmod -R 755 ./tools\r\n",
    "!git clone -b imdb_no_ratings --single-branch https://github.com/arangodb/interactive_tutorials.git imdb_no_ratings\r\n",
    "!rsync -av imdb_no_ratings/data ./data\r\n",
    "!pip3 install pyarango\r\n",
    "!pip3 install \"python-arango>=5.0\""
   ],
   "outputs": [],
   "metadata": {
    "colab": {},
    "colab_type": "code",
    "id": "uXdL1FZe8Kmz"
   }
  },
  {
   "cell_type": "code",
   "execution_count": null,
   "source": [
    "import json\r\n",
    "import requests\r\n",
    "import sys\r\n",
    "import oasis\r\n",
    "import time\r\n",
    "import textwrap\r\n",
    "\r\n",
    "from pyArango.connection import *\r\n",
    "from arango import ArangoClient"
   ],
   "outputs": [],
   "metadata": {
    "colab": {},
    "colab_type": "code",
    "id": "1pKXjdTS8Km2"
   }
  },
  {
   "cell_type": "markdown",
   "source": [
    "Create the temporary database:"
   ],
   "metadata": {
    "colab_type": "text",
    "id": "6968hvSs8Km3"
   }
  },
  {
   "cell_type": "code",
   "execution_count": null,
   "source": [
    "# Retrieve tmp credentials from ArangoDB Tutorial Service\r\n",
    "login = oasis.getTempCredentials(tutorialName=\"FuzzyArangoSearch\", credentialProvider=\"https://tutorials.arangodb.cloud:8529/_db/_system/tutorialDB/tutorialDB\")\r\n",
    "\r\n",
    "# Connect to the temp database\r\n",
    "# Please note that we use the python-arango driver as it has better support for ArangoSearch \r\n",
    "database = oasis.connect_python_arango(login)"
   ],
   "outputs": [],
   "metadata": {
    "colab": {
     "base_uri": "https://localhost:8080/",
     "height": 51
    },
    "colab_type": "code",
    "id": "TaGHLin28Km4",
    "outputId": "5c7b5312-a3e6-48d9-b574-bc97014b7950"
   }
  },
  {
   "cell_type": "code",
   "execution_count": null,
   "source": [
    "print(\"https://\"+login[\"hostname\"]+\":\"+str(login[\"port\"]))\r\n",
    "print(\"Username: \" + login[\"username\"])\r\n",
    "print(\"Password: \" + login[\"password\"])\r\n",
    "print(\"Database: \" + login[\"dbName\"])"
   ],
   "outputs": [],
   "metadata": {
    "colab": {
     "base_uri": "https://localhost:8080/",
     "height": 85
    },
    "colab_type": "code",
    "id": "ECAfpWU48Km6",
    "outputId": "5f6da685-b8c7-43d3-9738-7760df37d2e7"
   }
  },
  {
   "cell_type": "markdown",
   "source": [
    "Feel free to use the above URL to checkout the ArangoDB WebUI!"
   ],
   "metadata": {
    "colab_type": "text",
    "id": "xZ0mydlq8Km8"
   }
  },
  {
   "cell_type": "markdown",
   "source": [
    "##  IMDB Example Dataset"
   ],
   "metadata": {
    "colab_type": "text",
    "id": "_vXqUK6L8Km9"
   }
  },
  {
   "cell_type": "markdown",
   "source": [
    "![imdb](https://github.com/arangodb/interactive_tutorials/blob/master/notebooks/img/IMDB_graph.png?raw=1)"
   ],
   "metadata": {
    "colab_type": "text",
    "id": "o9JQShDi8Km9"
   }
  },
  {
   "cell_type": "markdown",
   "source": [
    "Last, but not least we will import the [IMDB Example Dataset](https://github.com/arangodb/example-datasets/tree/master/Graphs/IMDB) including information about various movies, actors, directors, ... as a graph. \n",
    "*Note the included arangorestore will only work on Linux or Windows systems, if you want to run this notebook on a different OS please consider using the appropriate arangorestore from the [Download area](https://www.arangodb.com/download-major/) and for more information on how to use the ArangoDB client tools, [see the documentation](https://www.arangodb.com/docs/stable/programs.htmlhttps://www.arangodb.com/docs/stable/programs.html)."
   ],
   "metadata": {
    "colab_type": "text",
    "id": "SXkaey-g8Km9"
   }
  },
  {
   "cell_type": "markdown",
   "source": [
    "## Linux:"
   ],
   "metadata": {
    "colab_type": "text",
    "id": "bKM6jcXa8Km-"
   }
  },
  {
   "cell_type": "code",
   "execution_count": null,
   "source": [
    "! ./tools/arangorestore -c none --server.endpoint http+ssl://{login[\"hostname\"]}:{login[\"port\"]} --server.username {login[\"username\"]} --server.database {login[\"dbName\"]} --server.password {login[\"password\"]} --default-replication-factor 3  --input-directory \"data/data/imdb\""
   ],
   "outputs": [],
   "metadata": {
    "colab": {
     "base_uri": "https://localhost:8080/",
     "height": 496
    },
    "colab_type": "code",
    "id": "VPqigG8H8Km-",
    "outputId": "6d039164-df2a-41a1-cb8b-15ed5ab94b7e"
   }
  },
  {
   "cell_type": "markdown",
   "source": [
    "# Create First View"
   ],
   "metadata": {
    "colab_type": "text",
    "id": "9yE_uMym8KnA"
   }
  },
  {
   "cell_type": "markdown",
   "source": [
    "As discussed above, an ArangoSearch view contains references to documents stored in different collections. \n",
    "This makes it possible to perform complex federated searches, even over a complete graph including vertex and edge collections."
   ],
   "metadata": {
    "colab_type": "text",
    "id": "GhQynyJJ8KnB"
   }
  },
  {
   "cell_type": "code",
   "execution_count": null,
   "source": [
    "# Create an ArangoSearch view.\r\n",
    "database.create_arangosearch_view(\r\n",
    "    name='v_imdb'\r\n",
    ")"
   ],
   "outputs": [],
   "metadata": {
    "colab": {
     "base_uri": "https://localhost:8080/",
     "height": 323
    },
    "colab_type": "code",
    "id": "B-koXo6C8KnB",
    "outputId": "153a2148-2a51-468f-a45d-0fc44c47d49f"
   }
  },
  {
   "cell_type": "markdown",
   "source": [
    "Let us check it is actually there:"
   ],
   "metadata": {
    "colab_type": "text",
    "id": "Dn3rKYKG8KnD"
   }
  },
  {
   "cell_type": "code",
   "execution_count": null,
   "source": [
    "print(database[\"v_imdb\"])"
   ],
   "outputs": [],
   "metadata": {
    "colab": {
     "base_uri": "https://localhost:8080/",
     "height": 34
    },
    "colab_type": "code",
    "id": "J5bwOthX8KnD",
    "outputId": "963f5f5e-663a-4694-a690-fafe39f94ffc"
   }
  },
  {
   "cell_type": "markdown",
   "source": [
    "Next, we will create a [custom analyzer](https://www.arangodb.com/docs/stable/arangosearch-analyzers.html) to preprocess the values.\n",
    "Note that, in order to support n-gram similarity the analyzer must have:\n",
    "* At least the \"position\" and \"frequency\" features enabled\n",
    "* The same min and max values\n",
    "* preserveOriginal set to False"
   ],
   "metadata": {
    "colab_type": "text",
    "id": "a7RJtPcu8KnF"
   }
  },
  {
   "cell_type": "code",
   "execution_count": null,
   "source": [
    "# Delete in case analyzer existed before\r\n",
    "database.delete_analyzer('fuzzy_search_bigram', ignore_missing=True)\r\n",
    "\r\n",
    "database.create_analyzer(\r\n",
    "        name='fuzzy_search_bigram',\r\n",
    "        analyzer_type='ngram',\r\n",
    "        properties={  \r\n",
    "        \"min\": 2,  \r\n",
    "        \"max\": 2,  \r\n",
    "        \"preserveOriginal\": False \r\n",
    "        }, \r\n",
    "        features=[\"position\", \"frequency\", \"norm\"] \r\n",
    "    )"
   ],
   "outputs": [],
   "metadata": {
    "colab": {
     "base_uri": "https://localhost:8080/",
     "height": 170
    },
    "colab_type": "code",
    "id": "SSfISdj8kpd6",
    "outputId": "27532ece-09ef-4623-f53c-9ea79eda0972"
   }
  },
  {
   "cell_type": "markdown",
   "source": [
    "Next, we need to link the view and our custom analyzer:"
   ],
   "metadata": {
    "colab_type": "text",
    "id": "EiCHaBtl4gkZ"
   }
  },
  {
   "cell_type": "code",
   "execution_count": null,
   "source": [
    " link = { \r\n",
    "  \"includeAllFields\": True,\r\n",
    "  \"fields\" : { \r\n",
    "      \"title\" : { \"analyzers\" : [ \"fuzzy_search_bigram\"] },\r\n",
    "      \"description\" : { \"analyzers\" : [ \"fuzzy_search_bigram\"] }\r\n",
    "      }\r\n",
    "}\r\n",
    "\r\n",
    "\r\n",
    "database.update_arangosearch_view(\r\n",
    "    name='v_imdb',\r\n",
    "    properties={'links': { 'imdb_vertices': link }}\r\n",
    ")"
   ],
   "outputs": [],
   "metadata": {
    "colab": {
     "base_uri": "https://localhost:8080/",
     "height": 323
    },
    "colab_type": "code",
    "id": "IL8GQTtQ8KnF",
    "outputId": "40bb6887-a43b-4425-be0c-8d8b61fef25a"
   }
  },
  {
   "cell_type": "markdown",
   "source": [
    "As the indexing might take a few seconds, let us have a brief look at what is actually going on.\n",
    "\n",
    "When you link a collection to an ArangoSearch View, you can choose which individual fields to link or specify to link all fields. It might be helpful to think about linking fields in the same way you think about indexing attributes, although not exactly the same. When you link data to a view it is indexed in a way that allows for quick retrieval. This process also stores the data in a way that allows for the ArangoSearch-specific AQL functions to perform unique queries such as tokenizing, stemming, removing stop words, and as we will see in this notebook complex matching functions.\n",
    "\n",
    "An additional benefit and a difference to typical indexing is that you are able to link multiple collections to one view and apply the desired analyzers. The image below shows how the collections are linked, analyzed and then made available via the view. When performing queries you can use all the typical AQL functions against a view, the same way that you would with a collection name. Though, the real benefit comes when using ArangoSearch-specific functions and you start taking advantage of features such as ranking."
   ],
   "metadata": {
    "colab_type": "text",
    "id": "tMZumewz8KnH"
   }
  },
  {
   "cell_type": "markdown",
   "source": [
    "![ArangoSearch](https://github.com/arangodb/interactive_tutorials/blob/master/notebooks/img/ArangoSearch_Arch.jpg?raw=1)"
   ],
   "metadata": {
    "colab_type": "text",
    "id": "89Xus7i28KnI"
   }
  },
  {
   "cell_type": "markdown",
   "source": [
    "By now our view should be ready, so let us issue the first test query and look for short Comedy Movies."
   ],
   "metadata": {
    "colab_type": "text",
    "id": "w8LsVW-LNIIU"
   }
  },
  {
   "cell_type": "code",
   "execution_count": null,
   "source": [
    "cursor = database.aql.execute(\r\n",
    "  \"\"\"\r\n",
    "  FOR d IN v_imdb \r\n",
    "    SEARCH d.type == \"Movie\" \r\n",
    "    AND \r\n",
    "    d.genre == \"Comedy\" \r\n",
    "    AND \r\n",
    "    d.runtime IN 10..50 \r\n",
    "    RETURN d.title\r\n",
    "  \"\"\"\r\n",
    ")\r\n",
    "# Iterate through the result cursor\r\n",
    "print('\\033[4mMovie Titles\\033[0m ')\r\n",
    "\r\n",
    "for doc in cursor:\r\n",
    "  print(doc)"
   ],
   "outputs": [],
   "metadata": {
    "colab": {
     "base_uri": "https://localhost:8080/",
     "height": 272
    },
    "colab_type": "code",
    "id": "53oLsRFJNIZV",
    "outputId": "19c40c06-002d-4977-a1e1-497cb45cc89c"
   }
  },
  {
   "cell_type": "markdown",
   "source": [
    "If we set up everything correctly there should be 13 results, containing comedies that are less than 50 minutes long, such as:\n",
    " * Finders Keepers\n",
    " * Stuart Dee\n",
    " * The Pawnshop\n",
    " * Robot Wrecks"
   ],
   "metadata": {
    "colab_type": "text",
    "id": "YFhVZYhcSejU"
   }
  },
  {
   "cell_type": "markdown",
   "source": [
    "Now that we have finished some of the setup, let's move on to the functions that make up Fuzzy search. \n",
    "As mentioned in the beginning of this notebook, Fuzzy search comes in the form of various [N-Gram Similarity](https://www.arangodb.com/docs/stable/aql/functions-arangosearch.html#ngram_match) and [Levenshtein distance](https://www.arangodb.com/docs/stable/aql/functions-arangosearch.html#levenshtein_match\n",
    ") AQL functions. "
   ],
   "metadata": {
    "colab_type": "text",
    "id": "kInsH7LYSiEF"
   }
  },
  {
   "cell_type": "markdown",
   "source": [
    "# N-Gram Similarity"
   ],
   "metadata": {
    "colab_type": "text",
    "id": "SF3oT3gQfbB0"
   }
  },
  {
   "cell_type": "markdown",
   "source": [
    "`NGRAM_SIMILARITY(input, target, ngramSize) → similarity`\n",
    "\n",
    "N-gram similarity is a measure for the difference between two strings represented by counting how long the longest sequence of matching n-grams is, divided by target’s total n-gram count. To better understand this concept let's start with a simple example. The below query compares the phrase `quick fox` to the similar phrase of `quick foxx` (additional `x`). These are similar phrases and as such, they should have a high n-gram similarity. \n",
    "\n",
    "```\n",
    "Case Conversion Note:\n",
    "N-gram analyzers do not currently support case conversion. \n",
    "It's definitely worthwhile to have the input match the stored terms case, but even without it NGRAM_MATCH can work, but will be less accurate\n",
    "```\n",
    "\n",
    "Go ahead and execute the query below:"
   ],
   "metadata": {
    "colab_type": "text",
    "id": "haexui4sDce2"
   }
  },
  {
   "cell_type": "code",
   "execution_count": null,
   "source": [
    "cursor = database.aql.execute(\n",
    "\"\"\"\n",
    "RETURN NGRAM_SIMILARITY(\n",
    "\"quick fox\",\n",
    "\"quick foxx\", \n",
    "2)\"\"\"\n",
    ")\n",
    "# Iterate through the result cursor\n",
    "for doc in cursor:\n",
    "  print('\\033[4mNGRAM_SIMILARITY\\033[0m ')\n",
    "  print(doc)\n"
   ],
   "outputs": [],
   "metadata": {
    "colab": {
     "base_uri": "https://localhost:8080/",
     "height": 51
    },
    "colab_type": "code",
    "id": "t4-VhEhgC6oM",
    "outputId": "7f6d924a-8c6a-4c20-b8ca-2c4254b01833"
   }
  },
  {
   "cell_type": "markdown",
   "source": [
    "With an n-gram size of 2, the n-gram similarity between both strings is 0.888, the closer the similarity is to 1 the more similar they are. Feel free experiment with other combinations such as `NGRAM_SIMILARITY( \"same string\",\"same string\", 2)` or vary the ngramSize.\n",
    "\n",
    "N-gram functions such as this break apart the words using the supplied ngram size, 2 in our query above. This means that the function compares the two words broken up into their 2 letter n-grams:\n",
    "\n",
    "  ```\n",
    "  quick fox         --         quick foxx\n",
    "  ----------------------------------------\n",
    "  qu                --         qu (match)\n",
    "  ui                --         ui (match)\n",
    "  ic                --         ic (match)\n",
    "  ck                --         ck (match)\n",
    "  k                 --         k  (match)\n",
    "   f                --          f (match)\n",
    "  fo                --         fo (match)\n",
    "  ox                --         ox (match)\n",
    "  x                 --         xx (do not match)\n",
    "  ```\n",
    "If we use simple math here we can see that there is around an 85% match when an extra `x` is supplied. However, n-gram similarity and distance is not as simple as this, but hopefully this provides a quick intro to the basic concept of ngram matching and similarity. If you would like to take a deep dive into this topic, a paper published by [Grzegorz Kondrak at the University of Alberta](https://webdocs.cs.ualberta.ca/~kondrak/papers/spire05.pdf) is a great resource."
   ],
   "metadata": {
    "colab_type": "text",
    "id": "HQlOtFJCfglL"
   }
  },
  {
   "cell_type": "markdown",
   "source": [
    "### N-Gram Positional Similarity\n",
    "`NGRAM_POSITIONAL_SIMILARITY(input, target, ngramSize) → similarity`\n",
    "\n",
    "While [NGRAM_SIMILARITY()](https://www.arangodb.com/docs/stable/aql/functions-string.html#ngram_similarity) only counts fully matching n-grams, [NGRAM_POSITIONAL_SIMILARITY()](https://www.arangodb.com/docs/stable/aql/functions-string.html#ngram_positional_similarity) also considers partially matching ones. Let us look at how that effects the returned scores. \n",
    "In this first example we are comparing `NGRAM_SIMILARITY` and `NGRAM_POSITIONAL_SIMILARITY` scores using the same two phrases as with our previous  example. These phrases are so similar that counting partial matches doesn't make any difference, thus we get the same scores."
   ],
   "metadata": {
    "colab_type": "text",
    "id": "POtg36jBTh5r"
   }
  },
  {
   "cell_type": "code",
   "execution_count": null,
   "source": [
    "cursor = database.aql.execute(\n",
    "\"\"\"\n",
    "RETURN\n",
    "{\"NGRAM_SIMILARITY\" : NGRAM_SIMILARITY(\n",
    "\"quick fox\",\n",
    "\"quick foxx\", \n",
    "3),\n",
    "\"NGRAM_POSITIONAL_SIMILARITY\" : NGRAM_POSITIONAL_SIMILARITY(\n",
    "\"quick fox\",\n",
    "\"quick foxx\", \n",
    "3)}\"\"\"\n",
    ")\n",
    "# Iterate through the result cursor\n",
    "for doc in cursor:\n",
    "  print('\\033[4mNGRAM_SIMILARITY\\033[0m ', '\\033[4mNGRAM_POSITIONAL_SIMILARITY\\033[0m '.rjust(44))\n",
    "  print(doc['NGRAM_SIMILARITY'], str(doc['NGRAM_POSITIONAL_SIMILARITY']).rjust(25))"
   ],
   "outputs": [],
   "metadata": {
    "colab": {
     "base_uri": "https://localhost:8080/",
     "height": 51
    },
    "colab_type": "code",
    "id": "g1Uj0IBbTlmR",
    "outputId": "d239a527-441e-47b7-c9a1-f94fd1a215fc"
   }
  },
  {
   "cell_type": "markdown",
   "source": [
    "If we start to change a few more letters in the phrases, the differences between the two functions becomes more clear. The score for `NGRAM_POSITIONAL_SIMILARITY` is nearly double that of `NGRAM_SIMILARITY`, due to the fact that it counted the partial matches. This provides us with some additional 'fuzziness' by allowing the matching requirement to be a bit more lenient."
   ],
   "metadata": {
    "colab_type": "text",
    "id": "izAPzIB8Tpw4"
   }
  },
  {
   "cell_type": "code",
   "execution_count": null,
   "source": [
    "cursor = database.aql.execute(\n",
    "\"\"\"\n",
    "RETURN\n",
    "{\"NGRAM_SIMILARITY\" : NGRAM_SIMILARITY(\n",
    "\"quick fox\",\n",
    "\"quirky foxx\", \n",
    "3),\n",
    "\"NGRAM_POSITIONAL_SIMILARITY\" : NGRAM_POSITIONAL_SIMILARITY(\n",
    "\"quick fox\",\n",
    "\"quirky foxx\", \n",
    "3)}\"\"\"\n",
    ")\n",
    "# Iterate through the result cursor\n",
    "for doc in cursor:\n",
    "  print('\\033[4mNGRAM_SIMILARITY\\033[0m ', '\\033[4mNGRAM_POSITIONAL_SIMILARITY\\033[0m '.rjust(44))\n",
    "  print(doc['NGRAM_SIMILARITY'], str(doc['NGRAM_POSITIONAL_SIMILARITY']).rjust(25))"
   ],
   "outputs": [],
   "metadata": {
    "colab": {
     "base_uri": "https://localhost:8080/",
     "height": 51
    },
    "colab_type": "code",
    "id": "b1CgLWTeTtSF",
    "outputId": "f251fc93-8b4a-44da-b5b1-1ac976fd20ab"
   }
  },
  {
   "cell_type": "markdown",
   "source": [
    "Depending on your requirements, the decision to count partially matching n-grams adds some 'fuzziness' that may help provide some context to your searches."
   ],
   "metadata": {
    "colab_type": "text",
    "id": "Z9KCiOw0TwSE"
   }
  },
  {
   "cell_type": "markdown",
   "source": [
    "[NGRAM_SIMILARITY](https://www.arangodb.com/docs/stable/aql/functions-string.html#ngram_similarity) and [NGRAM_POSITIONAL_SIMILARITY](https://www.arangodb.com/docs/stable/aql/functions-string.html#ngram_positional_similarity) are two new functions that come with ArangoDB 3.7 and can be used to improve text searches but have a drawback of not being able to utilize the indexing benefits of views. They are still very powerful string functions and can offer a lot of functionality for text queries.\n",
    "\n",
    "<br>"
   ],
   "metadata": {
    "colab_type": "text",
    "id": "4bZtMbZyT4Qn"
   }
  },
  {
   "cell_type": "markdown",
   "source": [
    "## N-Gram Match\n",
    "\n",
    "`NGRAM_MATCH(path, target, threshold, analyzer) -> bool`\n",
    "\n",
    "However, [NGRAM_MATCH](https://www.arangodb.com/docs/stable/aql/functions-arangosearch.html#ngram_match) is able to use the indexing of ArangoSearch views and is what we will look at next.\n",
    "\n",
    "Let us start by using the [NGRAM_MATCH](https://www.arangodb.com/docs/stable/aql/functions-arangosearch.html#ngram_match) function to find a movie using a phrase supplied by the user. \n",
    "\n",
    "The main takeaway from this example is that this exact phrase does not exist in the description and the search terms have quite a few typos as well. Instead, thanks to the ngram analyzer and the NGRAM_MATCH function, the search is able to find the movie based on the relevance of the words supplied. This is a good start and at the end of the notebook we will see how combining this with Levenshtein can really help to round out your fuzzy searches."
   ],
   "metadata": {
    "colab_type": "text",
    "id": "yXECHlaJ3jvZ"
   }
  },
  {
   "cell_type": "code",
   "execution_count": null,
   "source": [
    "cursor = database.aql.execute(\n",
    "\"\"\"\n",
    "FOR d IN v_imdb \n",
    "  SEARCH NGRAM_MATCH(\n",
    "    d.description, \n",
    "    'rodo Same goo to Moardoor', \n",
    "    0.6, \n",
    "    'fuzzy_search_bigram'\n",
    "    )\n",
    "  LET score = BM25(d)\n",
    "  SORT score DESC\n",
    "  RETURN { \n",
    "    Title:d.title, \n",
    "    Description:d.description, \n",
    "    Score:score \n",
    "    }\n",
    "\"\"\"\n",
    ")\n",
    "# Iterate through the result cursor\n",
    "for doc in cursor:\n",
    "  print('\\033[4mTitle: ' + doc['Title'] + '\\033[0m')\n",
    "  print('\\033[4mDescription:\\033[0m ',textwrap.fill(doc['Description'], 90))\n",
    "  print('\\033[4mScore:\\033[0m ',str(doc['Score']))\n",
    "  print(' ')"
   ],
   "outputs": [],
   "metadata": {
    "colab": {
     "base_uri": "https://localhost:8080/",
     "height": 510
    },
    "colab_type": "code",
    "id": "b9_f99xRfvcZ",
    "outputId": "f41802f9-6603-4276-9e57-69dddd76780c"
   }
  },
  {
   "cell_type": "markdown",
   "source": [
    "The `NGRAM_MATCH` syntax follows typical ArangoSearch function structure. You first supply the field you would like to search, the search term(s), and then the next value is the threshold amount which must be between `0.0` and `1.0`, last is the analyzer to use on the search terms. The `.6` threshold amount is the new addition and is how much ‘fuzziness’ we are still considering to be a match.\n",
    "\n",
    "The similarity is calculated by counting how long the longest sequence of matching n-grams is, divided by the target’s total ngram count. Only fully matching n-grams are counted.\n",
    "\n",
    "The analyzer we used was configured with a min and max of 2, which means it looks at words 2 letters at a time. This is useful for determining the longest common sequence and context. The idea behind n-gram matching is searching for similar words, but not necessarily exact matches. One of the simplest ways of calculating similarity between two words is calculating the longest common sequence (LCS) of letters. The longer the LCS is the more similar the words are. However, this approach has one big disadvantage – absence of context. For example, words `connection` and `fonetica` have a long LCS (o-n-e-t-i) but very different meanings. To add some context, ngram sequences are used.\n",
    "\n",
    "Each word is split into a series of letter groups and these groups are then matched. If we use the same words, but calculate similarity based on 3-grams, an ngram with max and min of 3, we will get a better similarity measure: con-onn-nne-nec-ect-cti-tio-ion vs. fon-one-net-eti-tic-ica gives shorter LCS ( zero matches). To get rid of length differences we normalize the LCS length by word length. We calculate these matches to get a rating with a value between 0 (no match at all) and 1(fully matched). \n",
    "\n",
    "Increasing the ngram size is not always the best choice due to it also increasing the accuracy requirement of the search. Scores would be much lower for the above Star Wars search if we had chosen an ngram size of 3. We would need to decrease our threshold requirement which can have the impact of returning less relevant results.\n"
   ],
   "metadata": {
    "colab_type": "text",
    "id": "9XsTF8Mtfwaj"
   }
  },
  {
   "cell_type": "markdown",
   "source": [
    "# Levenshtein"
   ],
   "metadata": {
    "colab_type": "text",
    "id": "vUgcAWSpdl8l"
   }
  },
  {
   "cell_type": "markdown",
   "source": [
    "ArangoDB comes with two forms of the Levenshtein matching algorithm, [LEVENSHTEIN_DISTANCE](https://www.arangodb.com/docs/stable/aql/functions-string.html#levenshtein_distance) and [LEVENSHTEIN_MATCH](https://www.arangodb.com/docs/stable/aql/functions-arangosearch.html#levenshtein_match). These AQL functions provide two similar approaches for adding 'fuzziness' to your AQL queries. While the AQL functions are similar there are some important differences, which will discuss in this section, as well as showcase some examples. \n",
    "\n",
    "### Levenshtein Distance\n",
    "`LEVENSHTEIN_DISTANCE(value1, value2) → levenshteinDistance`\n",
    "\n",
    "[Levenshtein distance](https://en.wikipedia.org/wiki/Levenshtein_distance) is a another measure for the difference between two strings represented by the  minimum number of single-character transformations required to move from one string to the other. Let us consider a concrete example:"
   ],
   "metadata": {
    "colab_type": "text",
    "id": "1JisqzP5dflN"
   }
  },
  {
   "cell_type": "code",
   "execution_count": null,
   "source": [
    "cursor = database.aql.execute(\n",
    "\"\"\"\n",
    "RETURN LEVENSHTEIN_DISTANCE(\n",
    "\"The quick brown fox jumps over the lazy dog\", \n",
    "\"The quick black dog jumps over the brown fox\")\"\"\"\n",
    ")\n",
    "# Iterate through the result cursor\n",
    "for doc in cursor:\n",
    "  print(\"Edit Distance Transformations Required: \", doc)\n",
    "\n",
    "\n"
   ],
   "outputs": [],
   "metadata": {
    "colab": {
     "base_uri": "https://localhost:8080/",
     "height": 34
    },
    "colab_type": "code",
    "id": "pr-gqDa8de1I",
    "outputId": "4e9cb583-38a9-4a26-8690-4f830445c8db"
   }
  },
  {
   "cell_type": "markdown",
   "source": [
    "Here we need a minimum of 13 transformations to move from one string to the other. \n",
    "Feel free to find a minimum sequence for this transformation or experiment with other combinations such as `LEVENSHTEIN_DISTANCE(\"ab\", \"ba\")`. Once the distance has been calculated it can be used in other parts of your application logic and even with the same query. \n",
    "\n",
    "This functionality provides some added control over your text analysis by handling what to do with the distance measure once you have it. However, in most situations you may prefer to find the relevance, distance, and determine if the keywords or phrases match some user supplied input, with one function or statement. This functionality is where Levenshtein Match comes in and is what we will review next.\n",
    "\n",
    "Before we go and as a nice transition to looking at Levenshtein Match, here are some key differences:\n",
    "* Distance is considered a string function, not tied to ArangoSearch\n",
    "* Distance does not take advantage of ArangoSearch indexing\n",
    "* Distance uses Damerau and treats transpositions of 2 adjacent characters atomically\n",
    "* Match does not use Damerau by default, but can be optionally enabled"
   ],
   "metadata": {
    "colab_type": "text",
    "id": "0r1uwBXLBaMk"
   }
  },
  {
   "cell_type": "markdown",
   "source": [
    "### Levenshtein Match\n",
    "\n",
    "\n",
    "`LEVENSHTEIN_MATCH(path, target, distance, transpositions, maxTerms) -> bool`\n",
    "\n",
    "Levenshtein match, matches documents with a Levenshtein distance lower than or equal to a distance between a document value and provided search value. This takes the power of the above Levenshtein distance function and combines it with filtering and relevance matching.\n",
    "\n",
    "```\n",
    "Analyzer Note:\n",
    "For our LEVENSHTEIN_MATCH examples we will use a text analyzer, instead of ngram, that has stemming disabled.\n",
    "Stemming is disabled as a convenience to avoid terms not matching due to a stemmed word, ie: galaxy is galaxi when stemmed.\n",
    "```\n",
    "The following code block:\n",
    "* Creates the analyzer named `en_tokenizer`\n",
    "* Updates our link definition object\n",
    "* Updates the `v_imdb` view definition\n"
   ],
   "metadata": {
    "colab_type": "text",
    "id": "sm48Mt5jplnb"
   }
  },
  {
   "cell_type": "code",
   "execution_count": null,
   "source": [
    " # Delete in case analyzer existed before\n",
    "database.delete_analyzer('en_tokenizer', ignore_missing=True)\n",
    "\n",
    "# Create a new english text analyzer to tokenize our text\n",
    "database.create_analyzer(\n",
    "        name='en_tokenizer',\n",
    "        analyzer_type='text',\n",
    "        properties={\n",
    "            'locale': 'en',\n",
    "            'stemming': False\n",
    "        }, \n",
    "        features=[\"position\",\"norm\", \"frequency\"] \n",
    "    )\n",
    "\n",
    "# Update the link definition object\n",
    " link = { \n",
    "  \"includeAllFields\": True,\n",
    "  \"fields\" : { \n",
    "      \"title\" : { \"analyzers\" : [ \"fuzzy_search_bigram\", \"en_tokenizer\"] },\n",
    "      \"description\" : { \"analyzers\" : [ \"fuzzy_search_bigram\", \"en_tokenizer\"] }\n",
    "      }\n",
    "}\n",
    "\n",
    "# Update the ArangoSearch view with the new link definition\n",
    "database.update_arangosearch_view(\n",
    "    name='v_imdb',\n",
    "    properties={'links': { 'imdb_vertices': link }}\n",
    ")"
   ],
   "outputs": [],
   "metadata": {
    "colab": {
     "base_uri": "https://localhost:8080/",
     "height": 323
    },
    "colab_type": "code",
    "id": "jMiFXQMToVQV",
    "outputId": "fd78b0cb-dd18-4c71-c213-803e53159a33"
   }
  },
  {
   "cell_type": "markdown",
   "source": [
    "\n",
    "To continue exploring how Levenshtein Match can leverage edit distance scoring with term matching functionality, run the query below:"
   ],
   "metadata": {
    "colab_type": "text",
    "id": "zaqVAPE-ptcs"
   }
  },
  {
   "cell_type": "code",
   "execution_count": null,
   "source": [
    "# Execute the query\n",
    "cursor = database.aql.execute(\n",
    "  \"\"\"\n",
    "  FOR d IN v_imdb\n",
    "    SEARCH ANALYZER(LEVENSHTEIN_MATCH(\n",
    "      d.title, \n",
    "      'galxy', \n",
    "      2,\n",
    "      true,\n",
    "      3\n",
    "      ), \n",
    "    \"en_tokenizer\")\n",
    "    SORT BM25(d) DESC \n",
    "    LIMIT 10\n",
    "    RETURN {\n",
    "      \"Title\": d.title,\n",
    "      \"Score\": BM25(d)\n",
    "      }\n",
    "      \"\"\")\n",
    "# Iterate through the result cursor\n",
    "for doc in cursor:\n",
    "  print('Title: ', doc['Title'], )\n",
    "  print('Score: ', str(doc['Score']))\n",
    "  print(' ')"
   ],
   "outputs": [],
   "metadata": {
    "colab": {
     "base_uri": "https://localhost:8080/",
     "height": 221
    },
    "colab_type": "code",
    "id": "IYzxDnGn8KnM",
    "outputId": "845fb94c-c110-4e51-c404-bab312d13c7f"
   }
  },
  {
   "cell_type": "markdown",
   "source": [
    "The above query is an example of a user searching for a movie title but their search term contains a typo. The user intended to type `galaxy` but accidentally left out an `a`, easy mistake. Thanks to the [LEVENSHTEIN_MATCH](https://www.arangodb.com/docs/stable/aql/functions-arangosearch.html#levenshtein_match) function we have accommodated this very common scenario. \n",
    "\n",
    "The edit distance to add in an `a` would be less than `2`, which is the distance supplied in this query, so the term `galaxy` is also taken into account, not just the misspelled word.\n",
    "\n",
    "The `3` supplied here is optional and specifies the max number of terms, such as `galaxy`, to take into account. The higher this number is, the more results you are likely to get, this makes sorting by relevance very important."
   ],
   "metadata": {
    "colab_type": "text",
    "id": "ZnH-F3R6K-y4"
   }
  },
  {
   "cell_type": "markdown",
   "source": [
    "### Levenshtein Match + Phrase Search\n",
    "In practice it will be common to combine [LEVENSHTEIN_MATCH](https://www.arangodb.com/docs/stable/aql/functions-arangosearch.html#levenshtein_match) with other ArangoSearch AQL functions, [PHRASE](https://www.arangodb.com/docs/stable/aql/functions-arangosearch.html#phrase) being a likely choice.\n",
    "The Phrase function honors the position of the search term, where Levenshtein Match just looks for the word to exist and evaluates it based on relevance to the term.\n",
    "\n",
    "This combination is so common that Levenshtein Match comes with a second syntax style that works perfectly with PHRASE. The array syntax variant shown in the query below allows for omitting the initial path argument, as it is already supplied by the PHRASE function. This combination gives us the best of both worlds, precise control with the flexibility of fuzzy search.\n",
    "\n",
    "This query looks for movie titles starting with the word `star` and uses [LEVENSHTEIN_MATCH](https://www.arangodb.com/docs/stable/aql/functions-arangosearch.html#levenshtein_match) to match a second word, with Damerau transposition set to true."
   ],
   "metadata": {
    "colab_type": "text",
    "id": "KWo6D1topWRS"
   }
  },
  {
   "cell_type": "code",
   "execution_count": null,
   "source": [
    "cursor = database.aql.execute(\n",
    "    \"\"\"\n",
    "FOR d IN v_imdb\n",
    "  SEARCH PHRASE(d.title, [ 'star', { LEVENSHTEIN_MATCH : ['wr', 2, true] } ], \"en_tokenizer\")\n",
    "    SORT BM25(d) DESC \n",
    "    RETURN d.title\n",
    "    \"\"\")\n",
    "for doc in cursor:\n",
    "  print(doc)"
   ],
   "outputs": [],
   "metadata": {
    "colab": {
     "base_uri": "https://localhost:8080/",
     "height": 170
    },
    "colab_type": "code",
    "id": "jcgHY9pLLDHn",
    "outputId": "9d901f09-f5bc-4fa0-c3bf-abfc8329f3ac"
   }
  },
  {
   "cell_type": "markdown",
   "source": [
    "You can continue using multiple [LEVENSHTEIN_MATCH](https://www.arangodb.com/docs/stable/aql/functions-arangosearch.html#levenshtein_match) functions even in a single Phrase statement. This makes it possible to search for phrases where every word possibly has a typo, along with the additional [PHRASE options](https://www.arangodb.com/docs/stable/aql/functions-arangosearch.html#phrase) such as skipTokens."
   ],
   "metadata": {
    "colab_type": "text",
    "id": "SbxujkbYupoM"
   }
  },
  {
   "cell_type": "code",
   "execution_count": null,
   "source": [
    "cursor = database.aql.execute(\n",
    "\"\"\"\n",
    "LET phraseStructure = [ \n",
    "  { LEVENSHTEIN_MATCH : ['lrd', 1, true] }, \n",
    "  2, // offset between adjacent phrase parts\n",
    "  { LEVENSHTEIN_MATCH : ['rng', 2, true] }\n",
    "]\n",
    "FOR d IN v_imdb\n",
    "  SEARCH PHRASE(d.title, phraseStructure, \"en_tokenizer\")\n",
    "    SORT BM25(d) DESC \n",
    "    RETURN d.title\n",
    "\"\"\")\n",
    "for doc in cursor:\n",
    "  print(doc)"
   ],
   "outputs": [],
   "metadata": {
    "colab": {
     "base_uri": "https://localhost:8080/",
     "height": 102
    },
    "colab_type": "code",
    "id": "2AXztvTMLGNz",
    "outputId": "02db02b2-bf0b-4415-8ff2-24cc1e552ec6"
   }
  },
  {
   "cell_type": "markdown",
   "source": [
    "### Combined Fuzziness\n",
    "\n",
    "#### Differences\n",
    "\n",
    "**Levenshtein**\n",
    "\n",
    "If your searches are typically single word searches, Levenshtein match is usually the better option. With these types of searches [NGRAM_MATCH](https://www.arangodb.com/docs/stable/aql/functions-arangosearch.html#ngram_match) is not as performant and adds more overhead to CPU. Also, when indexing, ngram analyzers store positional information, which results in larger sized indexes even for single and small words.\n",
    "\n",
    "**N-Gram**\n",
    "\n",
    "N-gram is better for longer search terms. Some use cases where using n-gram functions are ideal include:\n",
    " * Genome Sequencing\n",
    " * Languages with longer words, such as German\n",
    " * Log and Sensor data that may have long connected strings"
   ],
   "metadata": {
    "colab_type": "text",
    "id": "FH3sEI2QB21G"
   }
  },
  {
   "cell_type": "markdown",
   "source": [
    "**Combination**\n",
    "\n",
    "While there are differences between the two, they can combine to bring a high level of fuzziness and accuracy to your searches.\n",
    "\n",
    "The below examples shows how you can use [NGRAM_MATCH](https://www.arangodb.com/docs/stable/aql/functions-arangosearch.html#ngram_match) to try and match portions of the words and use then [LEVENSHTEIN_MATCH](https://www.arangodb.com/docs/stable/aql/functions-arangosearch.html#levenshtein_match) to match to boost whole words and phrases. You gain the benefit of error checking and context from [NGRAM_MATCH](https://www.arangodb.com/docs/stable/aql/functions-arangosearch.html#ngram_match) while maintaining accuracy and relevance with [LEVENSHTEIN_MATCH](https://www.arangodb.com/docs/stable/aql/functions-arangosearch.html#levenshtein_match). Both functions contribute to the overall score, giving you a balance of both. \n",
    "\n",
    "Notice as well the sharp drop in the score for the movies whose description doesn't contain `Luke Skywalker`, this is BOOST and [LEVENSHTEIN_MATCH](https://www.arangodb.com/docs/stable/aql/functions-arangosearch.html#levenshtein_match) in action!\n",
    "\n",
    "Note: We parsed the `phraseStructure` separately here, just for convenience and readability. This all could have been done in-line, in the same statement."
   ],
   "metadata": {
    "colab_type": "text",
    "id": "tcmQcLkvy-_N"
   }
  },
  {
   "cell_type": "markdown",
   "source": [],
   "metadata": {
    "colab_type": "text",
    "id": "Hagvz6j_HRxx"
   }
  },
  {
   "cell_type": "code",
   "execution_count": null,
   "source": [
    "cursor = database.aql.execute(\"\"\"\n",
    "LET input = \"Luk Skywlker\"\n",
    "LET phraseStructure = [\n",
    "    {\n",
    "      \"LEVENSHTEIN_MATCH\": [\n",
    "        \"luk\",\n",
    "        3,\n",
    "        true\n",
    "      ]\n",
    "    },\n",
    "    {\n",
    "      \"LEVENSHTEIN_MATCH\": [\n",
    "        \"skywlker\",\n",
    "        3,\n",
    "        true\n",
    "      ]\n",
    "    }\n",
    "  ]\n",
    "FOR d IN v_imdb \n",
    "  SEARCH NGRAM_MATCH(d.description, input, 0.6, 'fuzzy_search_bigram') // matches part of the words to provide context\n",
    "         OR\n",
    "         BOOST(PHRASE(d.description, phraseStructure, 'en_tokenizer'), 10) // matches whole words to boost documents containing the matched words\n",
    "  SORT BM25(d) DESC  \n",
    "  RETURN {\n",
    "    \"Title\" : d.title,\n",
    "    \"Description\": d.description, \"Score\":BM25(d)\n",
    "    }\"\"\"\n",
    ")\n",
    "for doc in cursor:\n",
    "  print('\\033[4mTitle: ' + doc['Title'] + '\\033[0m')\n",
    "  print('\\033[4mDescription:\\033[0m ',textwrap.fill(doc['Description'], 90))\n",
    "  print('\\033[4mScore:\\033[0m ',str(doc['Score']))\n",
    "  print(' ')"
   ],
   "outputs": [],
   "metadata": {
    "colab": {
     "base_uri": "https://localhost:8080/",
     "height": 1000
    },
    "colab_type": "code",
    "id": "O6xBEzxxHz-P",
    "outputId": "dd5ca617-91d9-4f3f-a60d-89051f8866ac"
   }
  },
  {
   "cell_type": "markdown",
   "source": [
    "# Further Links"
   ],
   "metadata": {
    "colab_type": "text",
    "id": "tWpH7oVb8KnW"
   }
  },
  {
   "cell_type": "markdown",
   "source": [
    "Hopefully, you can now see the potential that fuzzy search has with ArangoSearch. If you would like to continue learning more about ArangoDB and ArangoSearch here are some great next steps to get you started!\n",
    "\n",
    "* ArangoSearch Demo on Oasis (Just follow the onboarding guide)\n",
    "  * https://cloud.arangodb.com\n",
    "\n",
    "* ArangoSearch Documentation\n",
    "  * https://www.arangodb.com/docs/stable/arangosearch.html\n",
    "\n",
    "* ArangoSearch Training Center\n",
    "  * https://www.arangodb.com/arangodb-training-center/search/arangosearch/"
   ],
   "metadata": {
    "colab_type": "text",
    "id": "dP0KpLrK8KnW"
   }
  }
 ],
 "metadata": {
  "colab": {
   "name": "FuzzySearch.ipynb",
   "provenance": [],
   "toc_visible": true
  },
  "kernelspec": {
   "display_name": "Python 3",
   "name": "python3"
  }
 },
 "nbformat": 4,
 "nbformat_minor": 2
}