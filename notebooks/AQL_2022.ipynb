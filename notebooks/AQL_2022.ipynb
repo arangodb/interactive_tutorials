{
  "cells": [
    {
      "cell_type": "markdown",
      "metadata": {
        "id": "QCixVdTF92-7"
      },
      "source": [
        "<a href=\"https://colab.research.google.com/github/arangodb/interactive_tutorials/blob/master/notebooks/aql_2022.ipynb\" target=\"_parent\"><img src=\"https://colab.research.google.com/assets/colab-badge.svg\" alt=\"Open In Colab\"/></a>"
      ]
    },
    {
      "cell_type": "markdown",
      "source": [
        "#AQL 2022 Review\n",
        "Happy New Year! \n",
        "In this notebook we will review some of the great AQL additions that came out in 2022. You can use this notebook to quickly get hands-on with these new features but be sure checkout the [release highlights](https://www.arangodb.com/docs/stable/release-notes.html#whats-new) for more info.\n",
        "\n",
        "This notebook accompanies the [AQL in 2022 webinar](https://hopin.com/events/aql-in-2023)."
      ],
      "metadata": {
        "id": "1AJU58HwMpp7"
      }
    },
    {
      "cell_type": "markdown",
      "metadata": {
        "id": "y59MPFIIpA52"
      },
      "source": [
        "# Setup"
      ]
    },
    {
      "cell_type": "markdown",
      "metadata": {
        "id": "rwTex7EUpHDd"
      },
      "source": [
        "Before getting started with ArangoDB, we need to prepare our environment and create a database on ArangoDB's managed Service Oasis."
      ]
    },
    {
      "cell_type": "code",
      "execution_count": null,
      "metadata": {
        "id": "jFvr9hapbdro"
      },
      "outputs": [],
      "source": [
        "%%capture\n",
        "!pip install adb-cloud-connector\n",
        "!pip3 install \"python-arango>=5.0\""
      ]
    },
    {
      "cell_type": "code",
      "source": [
        "from arango import ArangoClient\n",
        "\n",
        "from adb_cloud_connector import get_temp_credentials\n",
        "\n",
        "con = get_temp_credentials(tutorialName=\"AQL2022\")\n",
        "\n",
        "print(con)"
      ],
      "metadata": {
        "id": "fEkVW5GAJLI8"
      },
      "execution_count": null,
      "outputs": []
    },
    {
      "cell_type": "markdown",
      "source": [
        "You can access the WebUI via https://tutorials.arangodb.cloud:8529/ and use the credentials shown above."
      ],
      "metadata": {
        "id": "GKelB2LjYAXf"
      }
    },
    {
      "cell_type": "code",
      "source": [
        "client = ArangoClient(hosts=con['url'])\n",
        "database = client.db(con['dbName'], username=con['username'], password=con['password'])\n",
        "aql = database.aql"
      ],
      "metadata": {
        "id": "efpeePh4KPpl"
      },
      "execution_count": null,
      "outputs": []
    },
    {
      "cell_type": "code",
      "source": [
        "import requests\n",
        "def create_example_graph(graph_name):\n",
        "  if database.has_graph(graph_name):\n",
        "    database.delete_graph(graph_name, drop_collections=True) \n",
        "\n",
        "  req = requests.post(f\"https://tutorials.arangodb.cloud:8529/_db/{con['dbName']}/_admin/aardvark/graph-examples/create/{graph_name}\", auth=(con['username'], con['password']))\n",
        "  return req.status_code"
      ],
      "metadata": {
        "id": "fv6oG3uJFGvp"
      },
      "execution_count": null,
      "outputs": []
    },
    {
      "cell_type": "markdown",
      "metadata": {
        "id": "jPaekNLRDi1b"
      },
      "source": [
        "\n",
        "---\n",
        "\n"
      ]
    },
    {
      "cell_type": "markdown",
      "source": [
        "# New with 3.9 \n"
      ],
      "metadata": {
        "id": "Nog6lv7EzHQe"
      }
    },
    {
      "cell_type": "markdown",
      "source": [
        "## Decay Functions\n",
        "Decay functions calculate a score with a function that decays depending on the distance of a numeric value from a user given origin.\n",
        "\n",
        "### DECAY_EXP()\n",
        "\n",
        "Calculate the score for one or multiple values with an exponential function that decays depending on the distance of a numeric value from a user-given origin.\n",
        "\n",
        "### DECAY_LINEAR()\n",
        "\n",
        "Calculate the score for one or multiple values with a linear function that decays depending on the distance of a numeric value from a user-given origin.\n",
        "\n",
        "### DECAY_GAUSS()\n",
        "\n",
        "Calculate the score for one or multiple values with a Gaussian function that decays depending on the distance of a numeric value from a user-given origin."
      ],
      "metadata": {
        "id": "J1SYRcrFBRhO"
      }
    },
    {
      "cell_type": "code",
      "source": [
        "results = aql.execute(\n",
        "    \"\"\"\n",
        "    LET exponential = DECAY_EXP(2, 0, 10, 0, 0.2)\n",
        "    LET linear = DECAY_LINEAR(2, 0, 10, 0, 0.2) \n",
        "    LET gaussian = DECAY_GAUSS(2, 0, 10, 0, 0.2)\n",
        "    RETURN {\n",
        "      exponential,\n",
        "      linear,\n",
        "      gaussian\n",
        "    }\n",
        "\"\"\"\n",
        ")\n",
        "[res for res in results]"
      ],
      "metadata": {
        "id": "6O89ya2CJc3y"
      },
      "execution_count": null,
      "outputs": []
    },
    {
      "cell_type": "markdown",
      "source": [
        "## Vector Functions\n",
        "Added three new vector functions.\n",
        "\n",
        "COSINE_SIMILARITY()\n",
        "\n",
        "Return the cosine similarity between x and y.\n",
        "\n",
        "L1_DISTANCE()\n",
        "\n",
        "Return the Manhattan distance between x and y.\n",
        "\n",
        "L2_DISTANCE()\n",
        "\n",
        "Return the Euclidean distance between x and y."
      ],
      "metadata": {
        "id": "WZUjPdhbBZCY"
      }
    },
    {
      "cell_type": "code",
      "source": [
        "results = aql.execute(\n",
        "    \"\"\"\n",
        "    LET cosine_similarity = COSINE_SIMILARITY([[0,1,0,1],[1,0,0,1],[1,1,1,0],[0,0,0,1]], [1,1,1,1])\n",
        "    LET L1 = L1_DISTANCE([[0,1,0,1],[1,0,0,1],[1,1,1,0],[0,0,0,1]], [1,1,1,1])\n",
        "    LET L2 = L2_DISTANCE([[0,1,0,1],[1,0,0,1],[1,1,1,0],[0,0,0,1]], [1,1,1,1])\n",
        "    RETURN {\n",
        "      cosine_similarity,\n",
        "      L1,\n",
        "      L2\n",
        "    }\n",
        "\"\"\"\n",
        ")\n",
        "[res for res in results]"
      ],
      "metadata": {
        "id": "cjO06zkqNghQ"
      },
      "execution_count": null,
      "outputs": []
    },
    {
      "cell_type": "markdown",
      "source": [
        "Multi-dimensional indexes (experimental)\n",
        "\n",
        "Edge cache refilling (experimental)"
      ],
      "metadata": {
        "id": "kNXwlnywBbbk"
      }
    },
    {
      "cell_type": "markdown",
      "source": [
        "# New with 3.10"
      ],
      "metadata": {
        "id": "Hqb8vpTlBFU5"
      }
    },
    {
      "cell_type": "markdown",
      "source": [
        "# ALL_SHORTEST_PATH\n",
        "\n",
        "Find all paths of shortest length between a start and target vertex"
      ],
      "metadata": {
        "id": "NJra3tq7dwWU"
      }
    },
    {
      "cell_type": "code",
      "source": [
        "create_example_graph(\"kShortestPathsGraph\")"
      ],
      "metadata": {
        "id": "HQFvTZ54OYol"
      },
      "execution_count": null,
      "outputs": []
    },
    {
      "cell_type": "code",
      "source": [
        "create_example_graph(\"kShortestPathsGraph\")\n",
        "\n",
        "# Using K_SHORTEST_PATHS without path filtering returns ALL paths\n",
        "results = aql.execute(\n",
        "    \"\"\"\n",
        "    FOR p IN OUTBOUND K_SHORTEST_PATHS 'places/Carlisle' TO 'places/London'\n",
        "      GRAPH 'kShortestPathsGraph'\n",
        "    RETURN { places: p.vertices[*].label }\n",
        "    \"\"\"\n",
        ")\n",
        "[res for res in results]"
      ],
      "metadata": {
        "id": "egbcEUQU40gm"
      },
      "execution_count": null,
      "outputs": []
    },
    {
      "cell_type": "code",
      "source": [
        "# Using ALL_SHORTEST_PATHS returns only the list of shortest paths\n",
        "results = aql.execute(\n",
        "    \"\"\"\n",
        "    FOR p IN OUTBOUND ALL_SHORTEST_PATHS 'places/Carlisle' TO 'places/London'\n",
        "      GRAPH 'kShortestPathsGraph'\n",
        "    RETURN { places: p.vertices[*].label }\n",
        "    \"\"\"\n",
        ")\n",
        "[res for res in results]"
      ],
      "metadata": {
        "id": "mZStqBbA4W-B"
      },
      "execution_count": null,
      "outputs": []
    },
    {
      "cell_type": "markdown",
      "source": [
        "# AT LEAST\n",
        "\n",
        "You can now combine one of the supported comparison operators with the special AT LEAST (<expression>) operator to require an arbitrary number of elements to satisfy the condition to evaluate to true. You can use a static number or calculate it dynamically using an expression:"
      ],
      "metadata": {
        "id": "89CkPdDrdzoJ"
      }
    },
    {
      "cell_type": "code",
      "source": [
        "results = aql.execute(\n",
        "    \"\"\"\n",
        "    LET a = [ 1, 2, 3 ]  AT LEAST (2) IN  [ 2, 3, 4 ]  // true\n",
        "    LET b = [\"foo\", \"bar\"]  AT LEAST (1+1) ==  \"foo\"   // false\n",
        "    RETURN [a, b]\n",
        "\"\"\"\n",
        ")\n",
        "\n",
        "[res for res in results]"
      ],
      "metadata": {
        "id": "GFtr8Hqq7tDK"
      },
      "execution_count": null,
      "outputs": []
    },
    {
      "cell_type": "markdown",
      "source": [
        "# Question Mark Array Operator\n",
        "\n",
        "You can use the [? ... ] operator on arrays to check whether the elements fulfill certain criteria, and you can specify how often they should be satisfied. The operator is similar to an inline filter but with an additional length check and it evaluates to true or false."
      ],
      "metadata": {
        "id": "snbQDX8i_4Do"
      }
    },
    {
      "cell_type": "code",
      "source": [
        "results = aql.execute(\n",
        "    \"\"\"\n",
        "    LET arr = [0,1,2]\n",
        "    LET a = LENGTH(arr[*]) > 0\n",
        "    LET b = arr[?]\n",
        "    RETURN [a,b]\n",
        "    \"\"\"\n",
        ")\n",
        "[res for res in results]"
      ],
      "metadata": {
        "id": "-up2Edmx-aJC"
      },
      "execution_count": null,
      "outputs": []
    },
    {
      "cell_type": "code",
      "source": [
        "results = aql.execute(\n",
        "    \"\"\"\n",
        "    LET arr = [\n",
        "      {\n",
        "        \"name\": \"Chris\",\n",
        "        \"age\": 32\n",
        "      },\n",
        "      {\n",
        "        \"name\": \"Jon\",\n",
        "        \"age\": 30\n",
        "      }\n",
        "    ]\n",
        "    LET a = LENGTH(arr[* FILTER CURRENT.age > 30]) > 0\n",
        "    LET b = arr[? 0..2 FILTER CURRENT.age > 30]\n",
        "    RETURN [a,b]\n",
        "    \"\"\"\n",
        ")\n",
        "\n",
        "[res for res in results]"
      ],
      "metadata": {
        "id": "ypfgowGK_AtW"
      },
      "execution_count": null,
      "outputs": []
    },
    {
      "cell_type": "markdown",
      "source": [
        "## Parallelism for Sharded Graphs (Enterprise Edition)\n",
        "\n",
        "The 3.10 release supports traversal parallelism for Sharded Graphs, which means that traversals with many start vertices can now run in parallel. An almost linear performance improvement has been achieved, so the parallel processing of threads leads to faster results.\n",
        "\n",
        "This feature supports all types of graphs - General Graphs, SmartGraphs, EnterpriseGraphs (including Disjoint).\n",
        "\n",
        "Traversals with many start vertices can now run in parallel. A traversal always starts with one single start vertex and then explores the vertex neighborhood. When you want to explore the neighborhoods of multiple vertices, you now have the option to do multiple operations in parallel.\n",
        "\n",
        "A few items to note:\n",
        "* The following sets parallelism to 3, meaning we can execute up to 3 traversals in parallel\n",
        "* Due to our return statement only returning `name` we also benefit from [projections](https://www.arangodb.com/docs/stable/release-notes-new-features310.html#traversal-projections-enterprise-edition)"
      ],
      "metadata": {
        "id": "6r7b--qHQd2G"
      }
    },
    {
      "cell_type": "code",
      "source": [
        "create_example_graph(\"knows_graph\")\n",
        "\n",
        "# With parallelism of 3 we are now able to run our traversals in parallel \n",
        "# Our start vertices are persons in the person collection \n",
        "results = aql.execute(\n",
        "    \"\"\"\n",
        "    FOR startVertex IN persons\n",
        "    FOR v,e,p IN 1..1 OUTBOUND startVertex GRAPH \"knows_graph\" OPTIONS {parallelism: 3}\n",
        "    RETURN [p.vertices[0].name, 'Knows', p.vertices[1].name]\n",
        "\"\"\"\n",
        ")\n",
        "[res for res in results]"
      ],
      "metadata": {
        "id": "ZD1mHSKUPpkb"
      },
      "execution_count": null,
      "outputs": []
    },
    {
      "cell_type": "markdown",
      "source": [
        "AQL functions added to the 3.10 Enterprise Edition:\n",
        "\n",
        "[OFFSET_INFO()](https://www.arangodb.com/docs/stable/aql/functions-arangosearch.html#offset_info): An ArangoSearch function to get the start offsets and lengths of matches for search highlighting.\n",
        "\n",
        "[MINHASH()](https://www.arangodb.com/docs/stable/aql/functions-miscellaneous.html#minhash): A new function for locality-sensitive hashing to approximate the Jaccard similarity.\n",
        "\n",
        "[MINHASH_COUNT()](https://www.arangodb.com/docs/stable/aql/functions-miscellaneous.html#minhash_count): A helper function to calculate the number of hashes (MinHash signature size) needed to not exceed the specified error amount.\n",
        "\n",
        "[MINHASH_ERROR()](https://www.arangodb.com/docs/stable/aql/functions-miscellaneous.html#minhash_error): A helper function to calculate the error amount based on the number of hashes (MinHash signature size).\n",
        "\n",
        "[MINHASH_MATCH()](https://www.arangodb.com/docs/stable/aql/functions-arangosearch.html#minhash_match): A new ArangoSearch function to match documents with an approximate Jaccard similarity of at least the specified threshold that are indexed by a View.\n",
        "\n",
        "AQL functions added to all editions of 3.10:\n",
        "\n",
        "[SUBSTRING_BYTES()](https://www.arangodb.com/docs/stable/aql/functions-string.html#substring_bytes): A function to get a string subset using a start and length in bytes instead of in number of characters.\n",
        "\n",
        "[VALUE()](https://www.arangodb.com/docs/stable/aql/functions-document.html#value): A new document function to dynamically get an attribute value of an object, using an array to specify the path.\n",
        "\n",
        "[KEEP_RECURSIVE()](https://www.arangodb.com/docs/stable/aql/functions-document.html#keep_recursive): A document function to recursively keep attributes from objects/documents, as a counterpart to UNSET_RECURSIVE().\n",
        "\n",
        "AQL functions changed in 3.10:\n",
        "\n",
        "[MERGE_RECURSIVE()](https://www.arangodb.com/docs/stable/aql/functions-document.html#merge_recursive): You can now call the function with a single argument instead of at least two. It also accepts an array of objects now, matching the behavior of the MERGE() function.\n",
        "\n",
        "[EXISTS()](https://www.arangodb.com/docs/stable/aql/functions-arangosearch.html#testing-for-nested-fields): The function supports a new signature EXISTS(doc.attr, \"nested\") to check whether the specified attribute is indexed as nested field by a View or inverted index (introduced in v3.10.1)."
      ],
      "metadata": {
        "id": "bzg-4958TNCu"
      }
    }
  ],
  "metadata": {
    "colab": {
      "provenance": []
    },
    "language_info": {
      "name": "python"
    },
    "kernelspec": {
      "name": "python3",
      "display_name": "Python 3"
    },
    "gpuClass": "standard"
  },
  "nbformat": 4,
  "nbformat_minor": 0
}