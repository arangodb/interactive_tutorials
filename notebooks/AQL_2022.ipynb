{
 "cells": [
  {
   "cell_type": "markdown",
   "metadata": {
    "id": "QCixVdTF92-7"
   },
   "source": [
    "<a href=\"https://colab.research.google.com/github/arangodb/interactive_tutorials/blob/master/notebooks/aql_2022.ipynb\" target=\"_parent\"><img src=\"https://colab.research.google.com/assets/colab-badge.svg\" alt=\"Open In Colab\"/></a>"
   ]
  },
  {
   "cell_type": "markdown",
   "metadata": {
    "id": "1AJU58HwMpp7"
   },
   "source": [
    "#AQL 2022 Review\n",
    "Happy New Year! \n",
    "In this notebook we will review some of the great AQL additions that came out in 2022. You can use this notebook to quickly get hands-on with these new features but be sure checkout the [release highlights](https://www.arangodb.com/docs/stable/release-notes.html#whats-new) for more info.\n",
    "\n",
    "This notebook accompanies the [AQL in 2022 webinar](https://hopin.com/events/aql-in-2023)."
   ]
  },
  {
   "cell_type": "markdown",
   "metadata": {
    "id": "y59MPFIIpA52"
   },
   "source": [
    "# Setup"
   ]
  },
  {
   "cell_type": "markdown",
   "metadata": {
    "id": "rwTex7EUpHDd"
   },
   "source": [
    "Before getting started with ArangoDB, we need to prepare our environment and create a database on ArangoDB's managed Service Oasis."
   ]
  },
  {
   "cell_type": "code",
   "execution_count": null,
   "metadata": {
    "id": "jFvr9hapbdro"
   },
   "outputs": [],
   "source": [
    "%%capture\n",
    "!pip install adb-cloud-connector\n",
    "!pip3 install \"python-arango>=5.0\""
   ]
  },
  {
   "cell_type": "code",
   "execution_count": null,
   "metadata": {
    "id": "fEkVW5GAJLI8"
   },
   "outputs": [],
   "source": [
    "from arango import ArangoClient\n",
    "\n",
    "from adb_cloud_connector import get_temp_credentials\n",
    "\n",
    "con = get_temp_credentials(tutorialName=\"AQL2022\")\n",
    "\n",
    "print(con)"
   ]
  },
  {
   "cell_type": "markdown",
   "metadata": {
    "id": "GKelB2LjYAXf"
   },
   "source": [
    "You can access the WebUI via https://tutorials.arangodb.cloud:8529/ and use the credentials shown above."
   ]
  },
  {
   "cell_type": "code",
   "execution_count": null,
   "metadata": {
    "id": "efpeePh4KPpl"
   },
   "outputs": [],
   "source": [
    "client = ArangoClient(hosts=con['url'])\n",
    "database = client.db(con['dbName'], username=con['username'], password=con['password'])\n",
    "aql = database.aql"
   ]
  },
  {
   "cell_type": "code",
   "execution_count": null,
   "metadata": {
    "id": "fv6oG3uJFGvp"
   },
   "outputs": [],
   "source": [
    "import requests\n",
    "def create_example_graph(graph_name):\n",
    "  if database.has_graph(graph_name):\n",
    "    database.delete_graph(graph_name, drop_collections=True) \n",
    "\n",
    "  req = requests.post(f\"https://tutorials.arangodb.cloud:8529/_db/{con['dbName']}/_admin/aardvark/graph-examples/create/{graph_name}\", auth=(con['username'], con['password']))\n",
    "  return req.status_code"
   ]
  },
  {
   "cell_type": "markdown",
   "metadata": {
    "id": "jPaekNLRDi1b"
   },
   "source": [
    "\n",
    "---\n",
    "\n"
   ]
  },
  {
   "cell_type": "markdown",
   "metadata": {
    "id": "Nog6lv7EzHQe"
   },
   "source": [
    "# New with 3.9 \n"
   ]
  },
  {
   "cell_type": "markdown",
   "metadata": {
    "id": "J1SYRcrFBRhO"
   },
   "source": [
    "## Decay Functions\n",
    "Decay functions calculate a score with a function that decays depending on the distance of a numeric value from a user given origin.\n",
    "\n",
    "### DECAY_EXP()\n",
    "\n",
    "Calculate the score for one or multiple values with an exponential function that decays depending on the distance of a numeric value from a user-given origin.\n",
    "\n",
    "### DECAY_LINEAR()\n",
    "\n",
    "Calculate the score for one or multiple values with a linear function that decays depending on the distance of a numeric value from a user-given origin.\n",
    "\n",
    "### DECAY_GAUSS()\n",
    "\n",
    "Calculate the score for one or multiple values with a Gaussian function that decays depending on the distance of a numeric value from a user-given origin."
   ]
  },
  {
   "cell_type": "code",
   "execution_count": null,
   "metadata": {
    "id": "6O89ya2CJc3y"
   },
   "outputs": [],
   "source": [
    "results = aql.execute(\n",
    "    \"\"\"\n",
    "    LET exponential = DECAY_EXP(2, 0, 10, 0, 0.2)\n",
    "    LET linear = DECAY_LINEAR(2, 0, 10, 0, 0.2) \n",
    "    LET gaussian = DECAY_GAUSS(2, 0, 10, 0, 0.2)\n",
    "    RETURN {\n",
    "      exponential,\n",
    "      linear,\n",
    "      gaussian\n",
    "    }\n",
    "\"\"\"\n",
    ")\n",
    "[res for res in results]"
   ]
  },
  {
   "cell_type": "markdown",
   "metadata": {
    "id": "WZUjPdhbBZCY"
   },
   "source": [
    "## Vector Functions\n",
    "Added three new vector functions.\n",
    "\n",
    "COSINE_SIMILARITY()\n",
    "\n",
    "Return the cosine similarity between x and y.\n",
    "\n",
    "L1_DISTANCE()\n",
    "\n",
    "Return the Manhattan distance between x and y.\n",
    "\n",
    "L2_DISTANCE()\n",
    "\n",
    "Return the Euclidean distance between x and y."
   ]
  },
  {
   "cell_type": "code",
   "execution_count": null,
   "metadata": {
    "id": "cjO06zkqNghQ"
   },
   "outputs": [],
   "source": [
    "results = aql.execute(\n",
    "    \"\"\"\n",
    "    LET cosine_similarity = COSINE_SIMILARITY([[0,1,0,1],[1,0,0,1],[1,1,1,0],[0,0,0,1]], [1,1,1,1])\n",
    "    LET L1 = L1_DISTANCE([[0,1,0,1],[1,0,0,1],[1,1,1,0],[0,0,0,1]], [1,1,1,1])\n",
    "    LET L2 = L2_DISTANCE([[0,1,0,1],[1,0,0,1],[1,1,1,0],[0,0,0,1]], [1,1,1,1])\n",
    "    RETURN {\n",
    "      cosine_similarity,\n",
    "      L1,\n",
    "      L2\n",
    "    }\n",
    "\"\"\"\n",
    ")\n",
    "[res for res in results]"
   ]
  },
  {
   "cell_type": "markdown",
   "metadata": {
    "id": "kNXwlnywBbbk"
   },
   "source": [
    "Multi-dimensional indexes (experimental)\n",
    "\n",
    "Edge cache refilling (experimental)"
   ]
  },
  {
   "cell_type": "markdown",
   "metadata": {
    "id": "Hqb8vpTlBFU5"
   },
   "source": [
    "# New with 3.10"
   ]
  },
  {
   "cell_type": "markdown",
   "metadata": {
    "id": "NJra3tq7dwWU"
   },
   "source": [
    "# ALL_SHORTEST_PATH\n",
    "\n",
    "Find all paths of shortest length between a start and target vertex"
   ]
  },
  {
   "cell_type": "code",
   "execution_count": null,
   "metadata": {
    "id": "HQFvTZ54OYol"
   },
   "outputs": [],
   "source": [
    "create_example_graph(\"kShortestPathsGraph\")"
   ]
  },
  {
   "cell_type": "code",
   "execution_count": null,
   "metadata": {
    "id": "egbcEUQU40gm"
   },
   "outputs": [],
   "source": [
    "create_example_graph(\"kShortestPathsGraph\")\n",
    "\n",
    "# Using K_SHORTEST_PATHS without path filtering returns ALL paths\n",
    "results = aql.execute(\n",
    "    \"\"\"\n",
    "    FOR p IN OUTBOUND K_SHORTEST_PATHS 'places/Carlisle' TO 'places/London'\n",
    "      GRAPH 'kShortestPathsGraph'\n",
    "    RETURN { places: p.vertices[*].label }\n",
    "    \"\"\"\n",
    ")\n",
    "[res for res in results]"
   ]
  },
  {
   "cell_type": "code",
   "execution_count": null,
   "metadata": {
    "id": "mZStqBbA4W-B"
   },
   "outputs": [],
   "source": [
    "# Using ALL_SHORTEST_PATHS returns only the list of shortest paths\n",
    "results = aql.execute(\n",
    "    \"\"\"\n",
    "    FOR p IN OUTBOUND ALL_SHORTEST_PATHS 'places/Carlisle' TO 'places/London'\n",
    "      GRAPH 'kShortestPathsGraph'\n",
    "    RETURN { places: p.vertices[*].label }\n",
    "    \"\"\"\n",
    ")\n",
    "[res for res in results]"
   ]
  },
  {
   "cell_type": "markdown",
   "metadata": {
    "id": "89CkPdDrdzoJ"
   },
   "source": [
    "# AT LEAST\n",
    "\n",
    "You can now combine one of the supported comparison operators with the special AT LEAST (<expression>) operator to require an arbitrary number of elements to satisfy the condition to evaluate to true. You can use a static number or calculate it dynamically using an expression:"
   ]
  },
  {
   "cell_type": "code",
   "execution_count": null,
   "metadata": {
    "id": "GFtr8Hqq7tDK"
   },
   "outputs": [],
   "source": [
    "results = aql.execute(\n",
    "    \"\"\"\n",
    "    LET a = [ 1, 2, 3 ]  AT LEAST (2) IN  [ 2, 3, 4 ]  // true\n",
    "    LET b = [\"foo\", \"bar\"]  AT LEAST (1+1) ==  \"foo\"   // false\n",
    "    RETURN [a, b]\n",
    "\"\"\"\n",
    ")\n",
    "\n",
    "[res for res in results]"
   ]
  },
  {
   "cell_type": "markdown",
   "metadata": {
    "id": "snbQDX8i_4Do"
   },
   "source": [
    "# Question Mark Array Operator\n",
    "\n",
    "You can use the [? ... ] operator on arrays to check whether the elements fulfill certain criteria, and you can specify how often they should be satisfied. The operator is similar to an inline filter but with an additional length check and it evaluates to true or false."
   ]
  },
  {
   "cell_type": "code",
   "execution_count": null,
   "metadata": {
    "id": "-up2Edmx-aJC"
   },
   "outputs": [],
   "source": [
    "results = aql.execute(\n",
    "    \"\"\"\n",
    "    LET arr = [0,1,2]\n",
    "    LET a = LENGTH(arr[*]) > 0\n",
    "    LET b = arr[?]\n",
    "    RETURN [a,b]\n",
    "    \"\"\"\n",
    ")\n",
    "[res for res in results]"
   ]
  },
  {
   "cell_type": "code",
   "execution_count": null,
   "metadata": {
    "id": "ypfgowGK_AtW"
   },
   "outputs": [],
   "source": [
    "results = aql.execute(\n",
    "    \"\"\"\n",
    "    LET arr = [\n",
    "      {\n",
    "        \"name\": \"Chris\",\n",
    "        \"age\": 32\n",
    "      },\n",
    "      {\n",
    "        \"name\": \"Jon\",\n",
    "        \"age\": 30\n",
    "      }\n",
    "    ]\n",
    "    LET a = LENGTH(arr[* FILTER CURRENT.age > 30]) > 0\n",
    "    LET b = arr[? 0..2 FILTER CURRENT.age > 30]\n",
    "    RETURN [a,b]\n",
    "    \"\"\"\n",
    ")\n",
    "\n",
    "[res for res in results]"
   ]
  },
  {
   "cell_type": "markdown",
   "metadata": {
    "id": "6r7b--qHQd2G"
   },
   "source": [
    "## Parallelism for Sharded Graphs (Enterprise Edition)\n",
    "\n",
    "The 3.10 release supports traversal parallelism for Sharded Graphs, which means that traversals with many start vertices can now run in parallel. An almost linear performance improvement has been achieved, so the parallel processing of threads leads to faster results.\n",
    "\n",
    "This feature supports all types of graphs - General Graphs, SmartGraphs, EnterpriseGraphs (including Disjoint).\n",
    "\n",
    "Traversals with many start vertices can now run in parallel. A traversal always starts with one single start vertex and then explores the vertex neighborhood. When you want to explore the neighborhoods of multiple vertices, you now have the option to do multiple operations in parallel.\n",
    "\n",
    "A few items to note:\n",
    "* The following sets parallelism to 3, meaning we can execute up to 3 traversals in parallel\n",
    "* Due to our return statement only returning `name` we also benefit from [projections](https://www.arangodb.com/docs/stable/release-notes-new-features310.html#traversal-projections-enterprise-edition)"
   ]
  },
  {
   "cell_type": "code",
   "execution_count": null,
   "metadata": {
    "id": "ZD1mHSKUPpkb"
   },
   "outputs": [],
   "source": [
    "create_example_graph(\"knows_graph\")\n",
    "\n",
    "# With parallelism of 3 we are now able to run our traversals in parallel \n",
    "# Our start vertices are persons in the person collection \n",
    "results = aql.execute(\n",
    "    \"\"\"\n",
    "    FOR startVertex IN persons\n",
    "    FOR v,e,p IN 1..1 OUTBOUND startVertex GRAPH \"knows_graph\" OPTIONS {parallelism: 3}\n",
    "    RETURN [p.vertices[0].name, 'Knows', p.vertices[1].name]\n",
    "\"\"\"\n",
    ")\n",
    "[res for res in results]"
   ]
  },
  {
   "cell_type": "markdown",
   "metadata": {
    "id": "bzg-4958TNCu"
   },
   "source": [
    "AQL functions added to the 3.10 Enterprise Edition:\n",
    "\n",
    "[OFFSET_INFO()](https://www.arangodb.com/docs/stable/aql/functions-arangosearch.html#offset_info): An ArangoSearch function to get the start offsets and lengths of matches for search highlighting.\n",
    "\n",
    "[MINHASH()](https://www.arangodb.com/docs/stable/aql/functions-miscellaneous.html#minhash): A new function for locality-sensitive hashing to approximate the Jaccard similarity.\n",
    "\n",
    "[MINHASH_COUNT()](https://www.arangodb.com/docs/stable/aql/functions-miscellaneous.html#minhash_count): A helper function to calculate the number of hashes (MinHash signature size) needed to not exceed the specified error amount.\n",
    "\n",
    "[MINHASH_ERROR()](https://www.arangodb.com/docs/stable/aql/functions-miscellaneous.html#minhash_error): A helper function to calculate the error amount based on the number of hashes (MinHash signature size).\n",
    "\n",
    "[MINHASH_MATCH()](https://www.arangodb.com/docs/stable/aql/functions-arangosearch.html#minhash_match): A new ArangoSearch function to match documents with an approximate Jaccard similarity of at least the specified threshold that are indexed by a View.\n",
    "\n",
    "AQL functions added to all editions of 3.10:\n",
    "\n",
    "[SUBSTRING_BYTES()](https://www.arangodb.com/docs/stable/aql/functions-string.html#substring_bytes): A function to get a string subset using a start and length in bytes instead of in number of characters.\n",
    "\n",
    "[VALUE()](https://www.arangodb.com/docs/stable/aql/functions-document.html#value): A new document function to dynamically get an attribute value of an object, using an array to specify the path.\n",
    "\n",
    "[KEEP_RECURSIVE()](https://www.arangodb.com/docs/stable/aql/functions-document.html#keep_recursive): A document function to recursively keep attributes from objects/documents, as a counterpart to UNSET_RECURSIVE().\n",
    "\n",
    "AQL functions changed in 3.10:\n",
    "\n",
    "[MERGE_RECURSIVE()](https://www.arangodb.com/docs/stable/aql/functions-document.html#merge_recursive): You can now call the function with a single argument instead of at least two. It also accepts an array of objects now, matching the behavior of the MERGE() function.\n",
    "\n",
    "[EXISTS()](https://www.arangodb.com/docs/stable/aql/functions-arangosearch.html#testing-for-nested-fields): The function supports a new signature EXISTS(doc.attr, \"nested\") to check whether the specified attribute is indexed as nested field by a View or inverted index (introduced in v3.10.1)."
   ]
  }
 ],
 "metadata": {
  "colab": {
   "provenance": []
  },
  "gpuClass": "standard",
  "language_info": {
   "name": "python"
  }
 },
 "nbformat": 4,
 "nbformat_minor": 0
}
