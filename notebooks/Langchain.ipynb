{
 "cells": [
  {
   "cell_type": "markdown",
   "id": "c94240f5",
   "metadata": {
    "id": "c94240f5"
   },
   "source": [
    "# ArangoDB 🥑 + LangChain 🦜🔗\n",
    "\n",
    "[![Open In Collab](https://colab.research.google.com/assets/colab-badge.svg)](https://colab.research.google.com/github/arangodb/interactive_tutorials/blob/master/notebooks/Langchain.ipynb)\n",
    "\n",
    "Large language models (LLMs) ~are emerging~ have emerged as a transformative technology, enabling developers to build applications that they previously could not. However, using these LLMs in isolation is often insufficient for creating a truly powerful app - the real power comes when you can combine them with other sources of computation or knowledge.\n",
    "\n",
    "[LangChain](https://www.langchain.com/) is a framework for developing applications powered by language models. It enables applications that are:\n",
    "- Data-aware: connect a language model to other sources of data\n",
    "- Agentic: allow a language model to interact with its environment\n",
    "\n",
    "This notebook will leverage LLMs to provide a natural language interface to querying ArangoDB.\n",
    "\n",
    "**Please note**: We'll be using the LangChain `ChatOpenAI` wrapper, which requires you to have a **paid** [OpenAI API Key](https://help.openai.com/en/articles/4936850-where-do-i-find-my-secret-api-key). However, other Chat Models are available as well: https://github.com/langchain-ai/langchain/tree/master/libs/langchain/langchain/chat_models"
   ]
  },
  {
   "cell_type": "code",
   "execution_count": null,
   "id": "_MEtRI43591y",
   "metadata": {
    "id": "_MEtRI43591y"
   },
   "outputs": [],
   "source": [
    "%%capture\n",
    "\n",
    "# Set your OpenAI API Key\n",
    "# https://help.openai.com/en/articles/4936850-where-do-i-find-my-secret-api-key\n",
    "\n",
    "!pip install langchain==0.0.314\n",
    "!pip install openai==0.28.1\n",
    "\n",
    "import os\n",
    "\n",
    "os.environ[\"OPENAI_API_KEY\"] = \"sk-...\""
   ]
  },
  {
   "cell_type": "markdown",
   "id": "_NG7Y2kSpSoj",
   "metadata": {
    "id": "_NG7Y2kSpSoj"
   },
   "source": [
    "\n",
    "## LangChain 101"
   ]
  },
  {
   "cell_type": "markdown",
   "id": "eOAl02kRDBR9",
   "metadata": {
    "id": "eOAl02kRDBR9"
   },
   "source": [
    "There are six basic components of Langchain:\n",
    "- **Models**: the library of LLMs to choose from\n",
    "- **Prompts**: text that guides the LLM to generate the desired output\n",
    "- **Chains**: sequences of instructions the LangChain framework executes to perform a task\n",
    "- **Memory**: a method of storing data for the LLM to access later\n",
    "- **Agents & Tools**: the essential components to perform specific tasks based on user context\n",
    "- **Indexes, Vectorstores, & Retrievers**: the essential components to building an app on your specific data"
   ]
  },
  {
   "cell_type": "code",
   "execution_count": null,
   "id": "O2Ycdm9Ipqz_",
   "metadata": {
    "id": "O2Ycdm9Ipqz_"
   },
   "outputs": [],
   "source": [
    "# 1. Install dependencies\n",
    "\n",
    "%%capture\n",
    "!pip install wikipedia==1.4.0\n",
    "!pip install sentence_transformers==2.2.2\n",
    "!pip install faiss-cpu==1.7.4\n",
    "!pip install chromadb==0.4.15\n",
    "!pip install tiktoken==0.5.1"
   ]
  },
  {
   "cell_type": "code",
   "execution_count": null,
   "id": "YfqvLCE3EIwt",
   "metadata": {
    "colab": {
     "base_uri": "https://localhost:8080/"
    },
    "id": "YfqvLCE3EIwt",
    "outputId": "47449f7e-9ba3-45ae-a837-b0dd89c7f56f"
   },
   "outputs": [],
   "source": [
    "# 2. Basic Prompting\n",
    "\n",
    "from langchain.llms import OpenAI\n",
    "\n",
    "model = OpenAI(temperature=0)\n",
    "\n",
    "print(model(\"What is ArangoDB?\"))"
   ]
  },
  {
   "cell_type": "code",
   "execution_count": null,
   "id": "-xLVOoPcJ24O",
   "metadata": {
    "colab": {
     "base_uri": "https://localhost:8080/"
    },
    "id": "-xLVOoPcJ24O",
    "outputId": "44a397bd-98d5-48cc-941f-091f1d28a326"
   },
   "outputs": [],
   "source": [
    "# 3. Prompting with Templates\n",
    "\n",
    "from langchain import PromptTemplate\n",
    "\n",
    "template = \"\"\"\n",
    "  Question: {question}\n",
    "  Explain like I'm five!\n",
    "\"\"\"\n",
    "\n",
    "prompt = PromptTemplate(template=template, input_variables=[\"question\"])\n",
    "\n",
    "print(model(prompt.format(question=\"What is ArangoDB?\")))"
   ]
  },
  {
   "cell_type": "code",
   "execution_count": null,
   "id": "SC1btK_8LLVN",
   "metadata": {
    "colab": {
     "base_uri": "https://localhost:8080/"
    },
    "id": "SC1btK_8LLVN",
    "outputId": "bdfda7b8-1677-499a-8291-c146e3888b42"
   },
   "outputs": [],
   "source": [
    "# 4. Prompting with Chains\n",
    "\n",
    "from langchain import LLMChain\n",
    "\n",
    "chain = LLMChain(prompt=prompt, llm=model)\n",
    "\n",
    "question = \"What is ArangoDB?\"\n",
    "\n",
    "print(chain.run(question))"
   ]
  },
  {
   "cell_type": "code",
   "execution_count": null,
   "id": "gJWtrpBMOLtA",
   "metadata": {
    "colab": {
     "base_uri": "https://localhost:8080/",
     "height": 489
    },
    "id": "gJWtrpBMOLtA",
    "outputId": "337cdc2f-2246-439d-f182-797d7f42a7c7"
   },
   "outputs": [],
   "source": [
    "# 5. Prompting with Memory\n",
    "\n",
    "from langchain import OpenAI, ConversationChain\n",
    "\n",
    "model = OpenAI(temperature=0)\n",
    "\n",
    "conversation = ConversationChain(llm=model, verbose=True)\n",
    "\n",
    "conversation.predict(input=\"How old is C++?\")\n",
    "conversation.predict(input=\"Sorry I meant ArangoDB\")"
   ]
  },
  {
   "cell_type": "code",
   "execution_count": null,
   "id": "s0rAc-e8NOpF",
   "metadata": {
    "colab": {
     "base_uri": "https://localhost:8080/",
     "height": 732
    },
    "id": "s0rAc-e8NOpF",
    "outputId": "1810826b-cbfe-4260-afea-078275dfa3a4"
   },
   "outputs": [],
   "source": [
    "# 6. Prompting via Agent\n",
    "\n",
    "from langchain.agents import load_tools\n",
    "from langchain.agents import initialize_agent\n",
    "\n",
    "model = OpenAI(temperature=0)\n",
    "\n",
    "tools = load_tools([\"wikipedia\", \"llm-math\"], llm=model)\n",
    "\n",
    "agent = initialize_agent(tools, model, agent=\"zero-shot-react-description\", verbose=True)\n",
    "\n",
    "agent.run(\"What is 2 + 2\")\n",
    "agent.run(\"How old is ArangoDB?\")"
   ]
  },
  {
   "cell_type": "code",
   "execution_count": null,
   "id": "CLxo4tSNO28B",
   "metadata": {
    "colab": {
     "base_uri": "https://localhost:8080/"
    },
    "id": "CLxo4tSNO28B",
    "outputId": "24ef00f8-6be0-48c9-fae8-03f6fa7c3f47"
   },
   "outputs": [],
   "source": [
    "# 7. Prompting with Indexes (1): Data Load\n",
    "\n",
    "# Using ChromaDB & LangChain to perform question answering over documents.\n",
    "\n",
    "from langchain.document_loaders import TextLoader\n",
    "import requests\n",
    "\n",
    "# Fetch some sample data\n",
    "url = \"https://raw.githubusercontent.com/hwchase17/chroma-langchain/master/state_of_the_union.txt\"\n",
    "res = requests.get(url)\n",
    "\n",
    "with open(\"state_of_the_union.txt\", \"w\") as f:\n",
    "  f.write(res.text)\n",
    "\n",
    "# Load documents\n",
    "loader = TextLoader('state_of_the_union.txt')\n",
    "documents = loader.load()\n",
    "\n",
    "len(documents)"
   ]
  },
  {
   "cell_type": "code",
   "execution_count": null,
   "id": "2DP5wV2LRh0l",
   "metadata": {
    "colab": {
     "base_uri": "https://localhost:8080/"
    },
    "id": "2DP5wV2LRh0l",
    "outputId": "1110282f-8a97-4d00-d3d1-f40845d3117c"
   },
   "outputs": [],
   "source": [
    "# 7. Prompting with Indexes (2): Text Splitting\n",
    "\n",
    "# Next: splitting documents into small chunks.\n",
    "# This is so we can find the most relevant chunks\n",
    "# for a query and pass only those into the LLM.\n",
    "\n",
    "from langchain.text_splitter import RecursiveCharacterTextSplitter\n",
    "\n",
    "# Text Splitter\n",
    "text_splitter = RecursiveCharacterTextSplitter(chunk_size=1000, chunk_overlap=0)\n",
    "texts = text_splitter.split_documents(documents)\n",
    "\n",
    "len(texts)"
   ]
  },
  {
   "cell_type": "code",
   "execution_count": null,
   "id": "hrzInS6wSMYR",
   "metadata": {
    "colab": {
     "base_uri": "https://localhost:8080/"
    },
    "id": "hrzInS6wSMYR",
    "outputId": "ea6b6c5d-bfa9-4ff9-aa7e-4dcac1f0ae76"
   },
   "outputs": [],
   "source": [
    "# 7. Prompting with Indexes (3): Initialize PeristedChromaDB\n",
    "\n",
    "# Create embeddings for each chunk and insert\n",
    "# into the Chroma vector database.\n",
    "# The persist_directory argument tells ChromaDB\n",
    "# where to store the database when it's persisted.\n",
    "\n",
    "from langchain.vectorstores import Chroma\n",
    "from langchain.embeddings import OpenAIEmbeddings\n",
    "\n",
    "# Embed and store the texts\n",
    "embedding = OpenAIEmbeddings()\n",
    "vectordb = Chroma.from_documents(documents=texts, embedding=embedding)\n",
    "\n",
    "vectordb"
   ]
  },
  {
   "cell_type": "code",
   "execution_count": null,
   "id": "yr6ljkDgTHIJ",
   "metadata": {
    "colab": {
     "base_uri": "https://localhost:8080/"
    },
    "id": "yr6ljkDgTHIJ",
    "outputId": "1a716900-cea2-4061-978d-bd6052852b32"
   },
   "outputs": [],
   "source": [
    "# 7. Prompting with Indexes (5): Create the chain\n",
    "from langchain.chains.retrieval_qa.base import VectorDBQA\n",
    "\n",
    "chain = VectorDBQA.from_chain_type(llm=OpenAI(), chain_type=\"stuff\", vectorstore=vectordb)"
   ]
  },
  {
   "cell_type": "code",
   "execution_count": null,
   "id": "-uzWEq61RsDa",
   "metadata": {
    "colab": {
     "base_uri": "https://localhost:8080/"
    },
    "id": "-uzWEq61RsDa",
    "outputId": "f40384e4-2250-421d-cdcb-441b9984e761"
   },
   "outputs": [],
   "source": [
    "# 7. Prompting with Indexes (6): Asking questions\n",
    "\n",
    "print(chain.run(\"TL;DR the president's message for me\"))\n",
    "print('-'*100)\n",
    "print(chain.run(\"What did the president say specifically about Russian oligarchs?\"))\n",
    "print('-'*100)\n",
    "print(chain.run(\"How much did the President say the economy grew last year?\"))"
   ]
  },
  {
   "cell_type": "markdown",
   "id": "lkJAENgeVj2r",
   "metadata": {
    "id": "lkJAENgeVj2r"
   },
   "source": [
    "- Question-Answering in LangChain: https://python.langchain.com/docs/use_cases/question_answering/\n",
    "- Integrations in LangChain: https://python.langchain.com/docs/integrations/providers"
   ]
  },
  {
   "cell_type": "markdown",
   "id": "ON2PBwvK-8e3",
   "metadata": {
    "id": "ON2PBwvK-8e3"
   },
   "source": [
    "---\n",
    "## Setup"
   ]
  },
  {
   "cell_type": "markdown",
   "id": "WejTADc2L72f",
   "metadata": {
    "id": "WejTADc2L72f"
   },
   "source": [
    "### Preliminaries"
   ]
  },
  {
   "cell_type": "code",
   "execution_count": null,
   "id": "izi6YoFC8KRH",
   "metadata": {
    "id": "izi6YoFC8KRH"
   },
   "outputs": [],
   "source": [
    "%%capture\n",
    "\n",
    "# 1: Install the dependencies\n",
    "\n",
    "!pip install python-arango # The ArangoDB Python Driver\n",
    "!pip install adb-cloud-connector # The ArangoDB Cloud Instance provisioner\n",
    "!pip install arango-datasets # Datasets package"
   ]
  },
  {
   "cell_type": "code",
   "execution_count": null,
   "id": "8FuCEdR39nES",
   "metadata": {
    "id": "8FuCEdR39nES"
   },
   "outputs": [],
   "source": [
    "# 2. Helper Function Definitions\n",
    "\n",
    "import json\n",
    "\n",
    "def pprint(data):\n",
    "  print(json.dumps(data, indent=4))\n",
    "\n",
    "def query(db, aql):\n",
    "  pprint(list(db.aql.execute(aql)))"
   ]
  },
  {
   "cell_type": "code",
   "execution_count": null,
   "id": "62812aad",
   "metadata": {
    "colab": {
     "base_uri": "https://localhost:8080/"
    },
    "id": "62812aad",
    "outputId": "c9793c6c-8653-43c3-b29f-bb316bf2f837"
   },
   "outputs": [],
   "source": [
    "# 3. Provisioning ArangoDB\n",
    "\n",
    "from adb_cloud_connector import get_temp_credentials\n",
    "\n",
    "credentials = get_temp_credentials(tutorialName=\"LangChain\")\n",
    "\n",
    "pprint(credentials)"
   ]
  },
  {
   "cell_type": "code",
   "execution_count": null,
   "id": "0928915d",
   "metadata": {
    "colab": {
     "base_uri": "https://localhost:8080/"
    },
    "id": "0928915d",
    "outputId": "b7aaec34-a45a-4bd2-c5ce-c8c735e19973"
   },
   "outputs": [],
   "source": [
    "# 4. Connecting to ArangoDB\n",
    "\n",
    "from arango import ArangoClient\n",
    "\n",
    "client = ArangoClient(credentials[\"url\"], request_timeout=None)\n",
    "\n",
    "db = client.db(\n",
    "    name=credentials[\"dbName\"],\n",
    "    username=credentials[\"username\"],\n",
    "    password=credentials[\"password\"],\n",
    "    verify=True\n",
    ")\n",
    "\n",
    "db"
   ]
  },
  {
   "cell_type": "markdown",
   "id": "EUMnPnbC9w4j",
   "metadata": {
    "id": "EUMnPnbC9w4j"
   },
   "source": [
    "### Loading Datasets"
   ]
  },
  {
   "cell_type": "markdown",
   "id": "VeMQefHb95dP",
   "metadata": {
    "id": "VeMQefHb95dP"
   },
   "source": [
    "#### Game Of Thrones"
   ]
  },
  {
   "cell_type": "markdown",
   "id": "s4BM4v1S-GCO",
   "metadata": {
    "id": "s4BM4v1S-GCO"
   },
   "source": [
    "![image.png](data:image/png;base64,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)"
   ]
  },
  {
   "cell_type": "code",
   "execution_count": null,
   "id": "D1q7VOIm9_Ko",
   "metadata": {
    "colab": {
     "base_uri": "https://localhost:8080/"
    },
    "id": "D1q7VOIm9_Ko",
    "outputId": "681af10e-56fc-417b-f83f-dc25399a4f1f"
   },
   "outputs": [],
   "source": [
    "# (13 nodes, 15 edges)\n",
    "\n",
    "# This dataset represents the parent-child\n",
    "# relationships of certain characters from the GoT universe\n",
    "\n",
    "if db.has_graph(\"GameOfThrones\"):\n",
    "    db.delete_graph(\"GameOfThrones\", drop_collections=True)\n",
    "\n",
    "\n",
    "edge_definitions=[\n",
    "    {\n",
    "        \"edge_collection\": \"ChildOf\",\n",
    "        \"from_vertex_collections\": [\"Characters\"],\n",
    "        \"to_vertex_collections\": [\"Characters\"],\n",
    "    }\n",
    "]\n",
    "\n",
    "documents = [\n",
    "    # Starks (8)\n",
    "    {\"_key\": \"RickardStark\", \"name\": \"Rickard\", \"surname\": \"Stark\", \"alive\": False, \"age\": 60, \"gender\": \"male\"},\n",
    "    {\"_key\": \"LyarraStark\", \"name\": \"Lyarra\", \"surname\": \"Stark\", \"alive\": False, \"age\": 60, \"gender\": \"female\"},\n",
    "    {\"_key\": \"NedStark\", \"name\": \"Ned\", \"surname\": \"Stark\", \"alive\": True, \"age\": 41, \"gender\": \"male\"},\n",
    "    {\"_key\": \"CatelynStark\", \"name\": \"Catelyn\", \"surname\": \"Stark\", \"alive\": False, \"age\": 40, \"gender\": \"female\"},\n",
    "    {\"_key\": \"AryaStark\", \"name\": \"Arya\", \"surname\": \"Stark\", \"alive\": True, \"age\": 11, \"gender\": \"female\"},\n",
    "    {\"_key\": \"BranStark\", \"name\": \"Bran\", \"surname\": \"Stark\", \"alive\": True, \"age\": 10, \"gender\": \"male\"},\n",
    "    { \"_key\": \"RobbStark\", \"name\": \"Robb\", \"surname\": \"Stark\", \"alive\": False, \"age\": 16, \"gender\": \"male\"},\n",
    "    { \"_key\": \"SansaStark\", \"name\": \"Sansa\", \"surname\": \"Stark\", \"alive\": True, \"age\": 13, \"gender\": \"female\"},\n",
    "\n",
    "    # Lannisters (4)\n",
    "    { \"_key\": \"TywinLannister\", \"name\": \"Tywin\", \"surname\": \"Lannister\", \"alive\": False, \"age\": 67, \"gender\": \"male\" },\n",
    "    { \"_key\": \"JaimeLannister\", \"name\": \"Jaime\", \"surname\": \"Lannister\", \"alive\": True, \"age\": 36, \"gender\": \"male\" },\n",
    "    { \"_key\": \"CerseiLannister\", \"name\": \"Cersei\", \"surname\": \"Lannister\", \"alive\": True, \"age\": 36, \"gender\": \"female\" },\n",
    "    { \"_key\": \"TyrionLannister\", \"name\": \"Tyrion\", \"surname\": \"Lannister\", \"alive\": True, \"age\": 32, \"gender\": \"male\" },\n",
    "\n",
    "    # Baratheons (1)\n",
    "    { \"_key\": \"JoffreyBaratheon\", \"name\": \"Joffrey\", \"surname\": \"Baratheon\", \"alive\": False, \"age\": 19, \"gender\": \"male\"},\n",
    "]\n",
    "\n",
    "edges = [\n",
    "    {\"_to\": \"Characters/NedStark\", \"_from\": \"Characters/BranStark\"},\n",
    "    {\"_to\": \"Characters/NedStark\", \"_from\": \"Characters/RobbStark\" },\n",
    "    {\"_to\": \"Characters/NedStark\", \"_from\": \"Characters/SansaStark\" },\n",
    "    {\"_to\": \"Characters/NedStark\", \"_from\": \"Characters/AryaStark\" },\n",
    "    {\"_to\": \"Characters/CatelynStark\", \"_from\": \"Characters/AryaStark\"},\n",
    "    {\"_to\": \"Characters/CatelynStark\", \"_from\": \"Characters/BranStark\"},\n",
    "    {\"_to\": \"Characters/CatelynStark\", \"_from\": \"Characters/RobbStark\" },\n",
    "    {\"_to\": \"Characters/CatelynStark\", \"_from\": \"Characters/SansaStark\" },\n",
    "    {\"_to\": \"Characters/RickardStark\", \"_from\": \"Characters/NedStark\"},\n",
    "    {\"_to\": \"Characters/LyarraStark\", \"_from\": \"Characters/NedStark\"},\n",
    "\n",
    "    {\"_to\": \"Characters/TywinLannister\", \"_from\": \"Characters/JaimeLannister\" },\n",
    "    {\"_to\": \"Characters/TywinLannister\", \"_from\": \"Characters/CerseiLannister\" },\n",
    "    {\"_to\": \"Characters/TywinLannister\", \"_from\": \"Characters/TyrionLannister\" },\n",
    "    {\"_to\": \"Characters/CerseiLannister\", \"_from\": \"Characters/JoffreyBaratheon\" },\n",
    "    {\"_to\": \"Characters/JaimeLannister\", \"_from\": \"Characters/JoffreyBaratheon\" }\n",
    "]\n",
    "\n",
    "db.delete_graph(\"GameOfThrones\", ignore_missing=True, drop_collections=True)\n",
    "db.create_graph(\"GameOfThrones\", edge_definitions)\n",
    "\n",
    "db.collection(\"Characters\").import_bulk(documents)\n",
    "db.collection(\"ChildOf\").import_bulk(edges)"
   ]
  },
  {
   "cell_type": "markdown",
   "id": "nXU9d-d597lG",
   "metadata": {
    "id": "nXU9d-d597lG"
   },
   "source": [
    "#### GDELT Project (Open Intelligence)"
   ]
  },
  {
   "cell_type": "markdown",
   "id": "Y5bGLgmZCzsE",
   "metadata": {
    "id": "Y5bGLgmZCzsE"
   },
   "source": [
    "> GDELT monitors the world's news media from nearly every corner of every country\n",
    "in print, broadcast, and web formats, in over 100 languages,\n",
    "every moment of every day. [...] Put simply, the GDELT Project is a realtime open data global graph over human society as seen through the eyes of the world's news media, reaching deeply into local events, reaction, discourse, and emotions of the most remote corners of the world in near-realtime and making all of this available as an open data firehose to enable research over human society.\n"
   ]
  },
  {
   "cell_type": "code",
   "execution_count": null,
   "id": "7CeBILoh97UC",
   "metadata": {
    "colab": {
     "base_uri": "https://localhost:8080/"
    },
    "id": "7CeBILoh97UC",
    "outputId": "13821ebb-47c8-4130-f0bd-4c2c74531b0c"
   },
   "outputs": [],
   "source": [
    "# (~70k nodes, ~400 edges)\n",
    "# https://www.gdeltproject.org/\n",
    "\n",
    "from arango_datasets.datasets import Datasets\n",
    "\n",
    "Datasets(db).load(\"OPEN_INTELLIGENCE\")\n",
    "\n",
    "edge_definitions = [\n",
    "    {\n",
    "        \"edge_collection\": \"hasLocation\",\n",
    "        \"from_vertex_collections\": [\"Event\"],\n",
    "        \"to_vertex_collections\": [\"Location\"],\n",
    "    },\n",
    "    {\n",
    "        \"edge_collection\": \"hasSource\",\n",
    "        \"from_vertex_collections\": [\"Event\"],\n",
    "        \"to_vertex_collections\": [\"Source\"],\n",
    "    },\n",
    "    {\n",
    "        \"edge_collection\": \"inCountry\",\n",
    "        \"from_vertex_collections\": [\"Location\"],\n",
    "        \"to_vertex_collections\": [\"Country\"],\n",
    "    },\n",
    "    {\n",
    "        \"edge_collection\": \"inRegion\",\n",
    "        \"from_vertex_collections\": [\"Country\"],\n",
    "        \"to_vertex_collections\": [\"Region\"],\n",
    "    },\n",
    "    {\n",
    "        \"edge_collection\": \"eventActor\",\n",
    "        \"from_vertex_collections\": [\"Event\"],\n",
    "        \"to_vertex_collections\": [\"Actor\"],\n",
    "    },\n",
    "    {\n",
    "        \"edge_collection\": \"subClass\",\n",
    "        \"from_vertex_collections\": [\"Event\"],\n",
    "        \"to_vertex_collections\": [\"Class\"],\n",
    "    },\n",
    "    {\n",
    "        \"edge_collection\": \"type\",\n",
    "        \"from_vertex_collections\": [\"Event\"],\n",
    "        \"to_vertex_collections\": [\"Class\"],\n",
    "    },\n",
    "]\n",
    "\n",
    "db.delete_graph(\"OpenIntelligence\", ignore_missing=True)\n",
    "db.create_graph(\"OpenIntelligence\", edge_definitions=edge_definitions)"
   ]
  },
  {
   "cell_type": "markdown",
   "id": "CrwAgANK-vdy",
   "metadata": {
    "id": "CrwAgANK-vdy"
   },
   "source": [
    "### Configuring LangChain"
   ]
  },
  {
   "cell_type": "code",
   "execution_count": null,
   "id": "BjfJF6AV-zk7",
   "metadata": {
    "colab": {
     "base_uri": "https://localhost:8080/"
    },
    "id": "BjfJF6AV-zk7",
    "outputId": "86968b23-3bb0-40be-9365-2f4dfd1f249e"
   },
   "outputs": [],
   "source": [
    "# 1: Instantiate the ArangoDB-LangChain Graph wrapper\n",
    "\n",
    "from langchain.graphs import ArangoGraph\n",
    "\n",
    "graph = ArangoGraph(db)\n",
    "\n",
    "pprint(graph.schema)"
   ]
  },
  {
   "cell_type": "code",
   "execution_count": null,
   "id": "4e3de44f",
   "metadata": {
    "id": "4e3de44f"
   },
   "outputs": [],
   "source": [
    "# 2: Instantiate the OpenAI Chat model\n",
    "# Note that other models can be used as well\n",
    "# Ref: https://github.com/langchain-ai/langchain/tree/master/libs/langchain/langchain/chat_models\n",
    "\n",
    "from langchain.chat_models import ChatOpenAI\n",
    "\n",
    "model = ChatOpenAI(temperature=0, model_name='gpt-4')"
   ]
  },
  {
   "cell_type": "code",
   "execution_count": null,
   "id": "7476ce98",
   "metadata": {
    "id": "7476ce98"
   },
   "outputs": [],
   "source": [
    "# 3: Instantiate the LangChain Question-Answering Chain with\n",
    "# our **model** and **graph**\n",
    "\n",
    "from langchain.chains import ArangoGraphQAChain\n",
    "\n",
    "chain = ArangoGraphQAChain.from_llm(model, graph=graph, verbose=True)"
   ]
  },
  {
   "cell_type": "markdown",
   "id": "MdTyIwWeL953",
   "metadata": {
    "id": "MdTyIwWeL953"
   },
   "source": [
    "---\n",
    "## Prompting"
   ]
  },
  {
   "cell_type": "markdown",
   "id": "sEdHWYOB_Nj0",
   "metadata": {
    "id": "sEdHWYOB_Nj0"
   },
   "source": [
    "#### Game Of Thrones"
   ]
  },
  {
   "cell_type": "code",
   "execution_count": null,
   "id": "ef8ee27b",
   "metadata": {
    "colab": {
     "base_uri": "https://localhost:8080/",
     "height": 298
    },
    "id": "ef8ee27b",
    "outputId": "39bb9175-df3d-45c3-bc5f-b5933fdb5450"
   },
   "outputs": [],
   "source": [
    "chain.run(\"Who are the 2 youngest characters?\")"
   ]
  },
  {
   "cell_type": "code",
   "execution_count": null,
   "id": "9CSig1BgA76q",
   "metadata": {
    "colab": {
     "base_uri": "https://localhost:8080/",
     "height": 281
    },
    "id": "9CSig1BgA76q",
    "outputId": "b9348dab-0746-43db-eeb0-0ec5aaea4b85"
   },
   "outputs": [],
   "source": [
    "chain.run(\"How are Bran Stark and Arya Stark related?\")"
   ]
  },
  {
   "cell_type": "code",
   "execution_count": null,
   "id": "9Fzdic_pA_4y",
   "metadata": {
    "colab": {
     "base_uri": "https://localhost:8080/",
     "height": 244
    },
    "id": "9Fzdic_pA_4y",
    "outputId": "15b97789-ab63-45f9-fbb7-17c402a67b43"
   },
   "outputs": [],
   "source": [
    "chain.run(\"Who are Bran Stark’s grandparents?\")"
   ]
  },
  {
   "cell_type": "code",
   "execution_count": null,
   "id": "zq_oeDpAOXpF",
   "metadata": {
    "colab": {
     "base_uri": "https://localhost:8080/",
     "height": 261
    },
    "id": "zq_oeDpAOXpF",
    "outputId": "001041d0-1360-4deb-a717-7977659adc66"
   },
   "outputs": [],
   "source": [
    "chain.run(\"Fetch me the character count for each family\")"
   ]
  },
  {
   "cell_type": "code",
   "execution_count": null,
   "id": "Qfi_e1_P_tKj",
   "metadata": {
    "colab": {
     "base_uri": "https://localhost:8080/",
     "height": 296
    },
    "id": "Qfi_e1_P_tKj",
    "outputId": "01dab1b4-c9c9-48ba-c5fe-665086ef9838"
   },
   "outputs": [],
   "source": [
    "chain.run(\"What is the age difference between Rickard Stark and Arya Stark?\")"
   ]
  },
  {
   "cell_type": "code",
   "execution_count": null,
   "id": "pjTLW6ct_71q",
   "metadata": {
    "colab": {
     "base_uri": "https://localhost:8080/",
     "height": 261
    },
    "id": "pjTLW6ct_71q",
    "outputId": "073637db-6713-4127-a45a-6f4609141853"
   },
   "outputs": [],
   "source": [
    "chain.run(\"Wie alt ist Rickard Stark?\") # (German: \"How old is Rickard Stark?\")"
   ]
  },
  {
   "cell_type": "code",
   "execution_count": null,
   "id": "-VfkVtt4_9FK",
   "metadata": {
    "colab": {
     "base_uri": "https://localhost:8080/",
     "height": 278
    },
    "id": "-VfkVtt4_9FK",
    "outputId": "34c6499f-4617-4747-b587-0e4da32975eb"
   },
   "outputs": [],
   "source": [
    "chain.run(\"What is the average age within the Stark family?\")"
   ]
  },
  {
   "cell_type": "code",
   "execution_count": null,
   "id": "89-QJ87m__ol",
   "metadata": {
    "colab": {
     "base_uri": "https://localhost:8080/",
     "height": 261
    },
    "id": "89-QJ87m__ol",
    "outputId": "e67c8eeb-69c7-4c1b-8ca5-d23a0e0e42c3"
   },
   "outputs": [],
   "source": [
    "chain.run(\"Does Bran Stark have a dead parent?\")"
   ]
  },
  {
   "cell_type": "code",
   "execution_count": null,
   "id": "_2maN0_sAFCO",
   "metadata": {
    "colab": {
     "base_uri": "https://localhost:8080/",
     "height": 226
    },
    "id": "_2maN0_sAFCO",
    "outputId": "6f7610fd-902a-4a3c-aa35-991e0b989317"
   },
   "outputs": [],
   "source": [
    "chain.run(\"Add Jon Snow, 31, a male character. Use overwrite.\")"
   ]
  },
  {
   "cell_type": "code",
   "execution_count": null,
   "id": "_MHWiAVeM3Cg",
   "metadata": {
    "colab": {
     "base_uri": "https://localhost:8080/",
     "height": 278
    },
    "id": "_MHWiAVeM3Cg",
    "outputId": "91299de4-7404-40d9-ab3d-dd451f265f14"
   },
   "outputs": [],
   "source": [
    "chain.run(\"Create a ChildOf edge from Jon Snow to Ned Stark.\")"
   ]
  },
  {
   "cell_type": "code",
   "execution_count": null,
   "id": "3mU0MyGsM6gX",
   "metadata": {
    "colab": {
     "base_uri": "https://localhost:8080/",
     "height": 281
    },
    "id": "3mU0MyGsM6gX",
    "outputId": "5e83fa18-17b6-4ae4-d832-c696b335a2be"
   },
   "outputs": [],
   "source": [
    "chain.run(\"Who is related to Ned Stark?\")"
   ]
  },
  {
   "cell_type": "code",
   "execution_count": null,
   "id": "jpK1CTypN0s6",
   "metadata": {
    "colab": {
     "base_uri": "https://localhost:8080/",
     "height": 316
    },
    "id": "jpK1CTypN0s6",
    "outputId": "8ce3a69d-2b30-422c-b5d5-9ce130b203ff"
   },
   "outputs": [],
   "source": [
    "chain.run(\"What can you tell me about the characters?\")"
   ]
  },
  {
   "cell_type": "code",
   "execution_count": null,
   "id": "rjJd8BCMN6TE",
   "metadata": {
    "colab": {
     "base_uri": "https://localhost:8080/",
     "height": 298
    },
    "id": "rjJd8BCMN6TE",
    "outputId": "c286c75d-6883-4b61-fbf4-b984d4733d85"
   },
   "outputs": [],
   "source": [
    "chain.run(\"Use the shortest path algorithm to go from Bran Stark to Rickard Stark\")"
   ]
  },
  {
   "cell_type": "code",
   "execution_count": null,
   "id": "h1OgY3LbOZmI",
   "metadata": {
    "colab": {
     "base_uri": "https://localhost:8080/",
     "height": 281
    },
    "id": "h1OgY3LbOZmI",
    "outputId": "c66bbbe7-1609-4268-de2b-a9f9b82515e2"
   },
   "outputs": [],
   "source": [
    "chain.run(\"What is the family tree of Joffrey Baratheon?\")"
   ]
  },
  {
   "cell_type": "code",
   "execution_count": null,
   "id": "BOcwm5eIN795",
   "metadata": {
    "colab": {
     "base_uri": "https://localhost:8080/",
     "height": 298
    },
    "id": "BOcwm5eIN795",
    "outputId": "ea055098-be4b-493b-80f2-09b3a9c10bf2"
   },
   "outputs": [],
   "source": [
    "chain.run(\"What is the relationship between Bran Stark and Rickard Stark?\")"
   ]
  },
  {
   "cell_type": "code",
   "execution_count": null,
   "id": "vxZYOwH5ORVp",
   "metadata": {
    "colab": {
     "base_uri": "https://localhost:8080/",
     "height": 298
    },
    "id": "vxZYOwH5ORVp",
    "outputId": "bb22be84-8948-4fa7-dbe6-3a009633279b"
   },
   "outputs": [],
   "source": [
    "chain.run(\"Are Arya Stark and Ned Stark related?\")"
   ]
  },
  {
   "cell_type": "code",
   "execution_count": null,
   "id": "0qYH7IG1OWFm",
   "metadata": {
    "colab": {
     "base_uri": "https://localhost:8080/",
     "height": 261
    },
    "id": "0qYH7IG1OWFm",
    "outputId": "c1761d33-2245-4512-991a-c8fd9189e945"
   },
   "outputs": [],
   "source": [
    "chain.run(\"Is Ned Stark alive?\")"
   ]
  },
  {
   "cell_type": "code",
   "execution_count": null,
   "id": "H_k57SLRODIv",
   "metadata": {
    "colab": {
     "base_uri": "https://localhost:8080/",
     "height": 226
    },
    "id": "H_k57SLRODIv",
    "outputId": "c41be050-eedb-4634-af97-2968e2618f6c"
   },
   "outputs": [],
   "source": [
    "chain.run(\"Ned Stark has died. Update the data\")"
   ]
  },
  {
   "cell_type": "code",
   "execution_count": null,
   "id": "ghVJEfZuOMcK",
   "metadata": {
    "colab": {
     "base_uri": "https://localhost:8080/",
     "height": 261
    },
    "id": "ghVJEfZuOMcK",
    "outputId": "8c794fb9-eb54-47ee-f903-7e1560017ccc"
   },
   "outputs": [],
   "source": [
    "chain.run(\"How many characters are alive? How many characters are dead?\")"
   ]
  },
  {
   "cell_type": "code",
   "execution_count": null,
   "id": "NmR7P693ONPl",
   "metadata": {
    "colab": {
     "base_uri": "https://localhost:8080/",
     "height": 348
    },
    "id": "NmR7P693ONPl",
    "outputId": "acf644b3-8df2-4d9d-f4b4-4d7af68a3ecc"
   },
   "outputs": [],
   "source": [
    "chain.run(\"Is Arya Stark now an orphan?\")"
   ]
  },
  {
   "cell_type": "markdown",
   "id": "914ruYLu_Rsb",
   "metadata": {
    "id": "914ruYLu_Rsb"
   },
   "source": [
    "#### Open Intelligence"
   ]
  },
  {
   "cell_type": "code",
   "execution_count": null,
   "id": "kRxUagJ-BI3p",
   "metadata": {
    "id": "kRxUagJ-BI3p"
   },
   "outputs": [],
   "source": [
    "# Set the maximum number of AQL Query Results to return to 5\n",
    "# This avoids burning the LLM token limit on JSON results\n",
    "chain.top_k = 5"
   ]
  },
  {
   "cell_type": "code",
   "execution_count": null,
   "id": "j1otlhwbVbq-",
   "metadata": {
    "colab": {
     "base_uri": "https://localhost:8080/",
     "height": 368
    },
    "id": "j1otlhwbVbq-",
    "outputId": "771ebc4f-0eab-4f88-9438-44813c9750b2"
   },
   "outputs": [],
   "source": [
    "chain.run(\"Fetch me 3 events that happened in December 2019\")"
   ]
  },
  {
   "cell_type": "code",
   "execution_count": null,
   "id": "wAZBzrj4V0Qa",
   "metadata": {
    "colab": {
     "base_uri": "https://localhost:8080/",
     "height": 244
    },
    "id": "wAZBzrj4V0Qa",
    "outputId": "61883713-45ac-47fb-95c4-7908478f36a1"
   },
   "outputs": [],
   "source": [
    "chain.run(\"Who is responsible for 'Event/ANG3310'?\")"
   ]
  },
  {
   "cell_type": "code",
   "execution_count": null,
   "id": "HUrtM-mJWWGc",
   "metadata": {
    "colab": {
     "base_uri": "https://localhost:8080/",
     "height": 452
    },
    "id": "HUrtM-mJWWGc",
    "outputId": "e5fb2a52-dd2c-45cf-a214-4f4b844ce11f"
   },
   "outputs": [],
   "source": [
    "chain.run(\"Where did 'Event/ANG3310' take place?\")"
   ]
  },
  {
   "cell_type": "code",
   "execution_count": null,
   "id": "PXd4dnUAaUL_",
   "metadata": {
    "colab": {
     "base_uri": "https://localhost:8080/",
     "height": 400
    },
    "id": "PXd4dnUAaUL_",
    "outputId": "ca0f15bc-61b9-4aaf-f463-8581d981e5a9"
   },
   "outputs": [],
   "source": [
    "chain.run(\"What country did 'Event/ANG3310' take place?\")"
   ]
  },
  {
   "cell_type": "code",
   "execution_count": null,
   "id": "CwrTgVjuaW-X",
   "metadata": {
    "colab": {
     "base_uri": "https://localhost:8080/",
     "height": 507
    },
    "id": "CwrTgVjuaW-X",
    "outputId": "c94e8cde-6e60-445e-eb5a-19af64dabcc1"
   },
   "outputs": [],
   "source": [
    "chain.run(\"What region did 'Event/ANG3310' take place?\")"
   ]
  },
  {
   "cell_type": "code",
   "execution_count": null,
   "id": "SAwZd68axeDU",
   "metadata": {
    "colab": {
     "base_uri": "https://localhost:8080/",
     "height": 452
    },
    "id": "SAwZd68axeDU",
    "outputId": "133ed56b-3d1c-4ff6-d9df-4e8fd04d5cbe"
   },
   "outputs": [],
   "source": [
    "chain.run(\"What is the source of 'Event/ANG3310'?\")"
   ]
  },
  {
   "cell_type": "code",
   "execution_count": null,
   "id": "-DVE9K3ZWmJp",
   "metadata": {
    "colab": {
     "base_uri": "https://localhost:8080/",
     "height": 368
    },
    "id": "-DVE9K3ZWmJp",
    "outputId": "6a008050-aa31-46b4-a70b-65f410df1e74"
   },
   "outputs": [],
   "source": [
    "chain.run(\"What type of event is 'Event/ANG3310' classified as?\")"
   ]
  },
  {
   "cell_type": "code",
   "execution_count": null,
   "id": "gu7aHookW3jA",
   "metadata": {
    "colab": {
     "base_uri": "https://localhost:8080/",
     "height": 264
    },
    "id": "gu7aHookW3jA",
    "outputId": "03131f92-2f9f-4884-f99b-1bcb0c68de22"
   },
   "outputs": [],
   "source": [
    "chain.run(\"What are the classes associated to 'Strategic developments'?\")"
   ]
  },
  {
   "cell_type": "code",
   "execution_count": null,
   "id": "wMkptOXrXGf7",
   "metadata": {
    "colab": {
     "base_uri": "https://localhost:8080/",
     "height": 348
    },
    "id": "wMkptOXrXGf7",
    "outputId": "faa01f36-b9db-420f-ffa8-9f2e22e865f1"
   },
   "outputs": [],
   "source": [
    "chain.run(\"Fetch me the Actor with the most associated events. Remember to use INBOUND for eventActor\")"
   ]
  },
  {
   "cell_type": "code",
   "execution_count": null,
   "id": "1wakSJN5XdYn",
   "metadata": {
    "colab": {
     "base_uri": "https://localhost:8080/",
     "height": 385
    },
    "id": "1wakSJN5XdYn",
    "outputId": "93c2ef6c-f5aa-4e8f-fa05-436e2c608f24"
   },
   "outputs": [],
   "source": [
    "chain.run(\"Which 2020 event has the largest number of fatalities?\")"
   ]
  },
  {
   "cell_type": "code",
   "execution_count": null,
   "id": "fkNB7YACuI3N",
   "metadata": {
    "colab": {
     "base_uri": "https://localhost:8080/",
     "height": 417
    },
    "id": "fkNB7YACuI3N",
    "outputId": "de3f3271-cc8a-4492-cab0-227eabeec58b"
   },
   "outputs": [],
   "source": [
    "chain.run(\"Return the first 3 countries with the most associated events\")"
   ]
  },
  {
   "cell_type": "code",
   "execution_count": null,
   "id": "TFEu7Awe4OY5",
   "metadata": {
    "colab": {
     "base_uri": "https://localhost:8080/"
    },
    "id": "TFEu7Awe4OY5",
    "outputId": "7c84d5bc-42b7-4852-cafb-1008e8283610"
   },
   "outputs": [],
   "source": [
    "# ArangoSearch + LangChain\n",
    "\n",
    "db.delete_view(\"EventView\", ignore_missing=True)\n",
    "db.create_view(\n",
    "    \"EventView\",\n",
    "    \"arangosearch\",\n",
    "    {\n",
    "        \"links\": {\n",
    "            \"Event\": {\n",
    "                \"analyzers\": [\"text_en\"],\n",
    "                \"fields\": {\n",
    "                    \"description\": { # <------ Enable Event search by `description`\n",
    "                        \"analyzers\": [\"text_en\"],\n",
    "                    },\n",
    "                },\n",
    "                \"includeAllFields\": True,\n",
    "                \"storeValues\": \"none\",\n",
    "                \"trackListPositions\": False,\n",
    "            },\n",
    "        }\n",
    "    },\n",
    ")\n",
    "\n",
    "True"
   ]
  },
  {
   "cell_type": "code",
   "execution_count": null,
   "id": "WPQR91_FaAwj",
   "metadata": {
    "colab": {
     "base_uri": "https://localhost:8080/"
    },
    "id": "WPQR91_FaAwj",
    "outputId": "0ea1b8ed-741d-4667-9811-04e6133a2927"
   },
   "outputs": [],
   "source": [
    "print(chain.run(\"ArangoSearch: Fetch me events about assassinations. Use the EventView\"))"
   ]
  },
  {
   "cell_type": "code",
   "execution_count": null,
   "id": "lLC6Zij9aQ4r",
   "metadata": {
    "colab": {
     "base_uri": "https://localhost:8080/"
    },
    "id": "lLC6Zij9aQ4r",
    "outputId": "12fbfc28-66fc-4ca4-975e-d6e0da0353f3"
   },
   "outputs": [],
   "source": [
    "print(chain.run(\"\"\"\n",
    "  ArangoSearch: Use the EventView to fetch events that mention FARDC.\n",
    "  Return each event along with its associated Class.\n",
    "\"\"\"))"
   ]
  },
  {
   "cell_type": "code",
   "execution_count": null,
   "id": "w-9WqQ-Oha8f",
   "metadata": {
    "colab": {
     "base_uri": "https://localhost:8080/"
    },
    "id": "w-9WqQ-Oha8f",
    "outputId": "5c60a2db-079e-44ef-95fd-13d9644354d2"
   },
   "outputs": [],
   "source": [
    "print(chain.run(\"\"\"\n",
    "  ArangoSearch: Fetch me events that mention 'law students'.\n",
    "  Prioritize results that have both 'law' and 'students', but not necessarily side-by-side.\n",
    "  Use the EventView.\n",
    "\"\"\"))"
   ]
  },
  {
   "cell_type": "code",
   "execution_count": null,
   "id": "bq4hB6sec7Zk",
   "metadata": {
    "colab": {
     "base_uri": "https://localhost:8080/"
    },
    "id": "bq4hB6sec7Zk",
    "outputId": "524d5a5b-d000-4616-e67c-caab969a0e82"
   },
   "outputs": [],
   "source": [
    "db.delete_view(\"ActorView\", ignore_missing=True)\n",
    "db.create_view(\n",
    "    \"ActorView\",\n",
    "    \"arangosearch\",\n",
    "    {\n",
    "        \"links\": {\n",
    "            \"Actor\": {\n",
    "                \"analyzers\": [\"text_en\"],\n",
    "                \"fields\": {\n",
    "                    \"name\": { # <------ Enable Actor search by `name`\n",
    "                        \"analyzers\": [\"text_en\"],\n",
    "                    },\n",
    "                },\n",
    "                \"includeAllFields\": True,\n",
    "                \"storeValues\": \"none\",\n",
    "                \"trackListPositions\": False,\n",
    "            },\n",
    "        }\n",
    "    },\n",
    ")\n",
    "\n",
    "True"
   ]
  },
  {
   "cell_type": "code",
   "execution_count": null,
   "id": "qzfRwNUqgqwa",
   "metadata": {
    "colab": {
     "base_uri": "https://localhost:8080/"
    },
    "id": "qzfRwNUqgqwa",
    "outputId": "a84f9f30-3d78-446a-b2c4-bfeddef65458"
   },
   "outputs": [],
   "source": [
    "print(chain.run(\"ArangoSearch: Fetch me the actors whose name has 'United Nations' in it. Use the ActorView.\"))"
   ]
  },
  {
   "cell_type": "code",
   "execution_count": null,
   "id": "MMmR7cU4idZ9",
   "metadata": {
    "colab": {
     "base_uri": "https://localhost:8080/"
    },
    "id": "MMmR7cU4idZ9",
    "outputId": "6ea9acfe-e7f3-4574-9231-f84b72bd3277"
   },
   "outputs": [],
   "source": [
    "print(chain.run(\"\"\"\n",
    "  ArangoSearch: Use the ActorView to search for actors who name has 'peace' or 'justice'.\n",
    "  Boost by 1 for 'peace' matches, and boost by 5 for 'justice' matches.\n",
    "  Avoid actor names that match with 'mutiny'.\n",
    "  Sort and list them numerically.\n",
    "\"\"\"))"
   ]
  },
  {
   "cell_type": "code",
   "execution_count": null,
   "id": "AbUFfY5vdUwg",
   "metadata": {
    "colab": {
     "base_uri": "https://localhost:8080/"
    },
    "id": "AbUFfY5vdUwg",
    "outputId": "6e741a1b-d6f9-43ef-e545-3336d6f8068c"
   },
   "outputs": [],
   "source": [
    "print(chain.run(\"\"\"\n",
    "  ArangoSearch: Use the ActorView to fetch me Actors whose name has the word 'militia' in it.\n",
    "  From those actors, fetch me the Actor with the highest number of associated events.\n",
    "  With those events, return their sum of fatalities.\n",
    "  Remember to use INBOUND for eventActor!\n",
    "\"\"\"))"
   ]
  },
  {
   "cell_type": "markdown",
   "id": "oxBOh1T1Xlpw",
   "metadata": {
    "id": "oxBOh1T1Xlpw"
   },
   "source": [
    "---\n",
    "## Prompt Engineering"
   ]
  },
  {
   "cell_type": "markdown",
   "id": "Za7SZWjzcH1K",
   "metadata": {
    "id": "Za7SZWjzcH1K"
   },
   "source": [
    "##### via Prompt Modifiers"
   ]
  },
  {
   "cell_type": "markdown",
   "id": "KQoClTt2A12u",
   "metadata": {
    "id": "KQoClTt2A12u"
   },
   "source": [
    "You can alter the values of the following `ArangoDBGraphQAChain` class variables to modify the behaviour of your chain results\n"
   ]
  },
  {
   "cell_type": "code",
   "execution_count": null,
   "id": "UBisL7e4cULB",
   "metadata": {
    "colab": {
     "base_uri": "https://localhost:8080/",
     "height": 244
    },
    "id": "UBisL7e4cULB",
    "outputId": "6fe57771-c33f-4b34-ec03-7941f5ed6748"
   },
   "outputs": [],
   "source": [
    "# Notice how the following prompt returns nothing;\n",
    "chain.run(\"Who are the grandchildren of Rickard Stark?\")"
   ]
  },
  {
   "cell_type": "code",
   "execution_count": null,
   "id": "mgbv2_MoAqHL",
   "metadata": {
    "colab": {
     "base_uri": "https://localhost:8080/",
     "height": 281
    },
    "id": "mgbv2_MoAqHL",
    "outputId": "7379a2fd-b58d-4967-d967-1f16b380d24c"
   },
   "outputs": [],
   "source": [
    "# A simple reminder to use INBOUND (instead of OUTBOUND) returns the correct result;\n",
    "chain.run(\"Who are the grandchildren of Rickard Stark? Remember to use INBOUND\")"
   ]
  },
  {
   "cell_type": "code",
   "execution_count": null,
   "id": "ws1lZaVyAsFd",
   "metadata": {
    "colab": {
     "base_uri": "https://localhost:8080/",
     "height": 281
    },
    "id": "ws1lZaVyAsFd",
    "outputId": "168e27e5-3c34-4261-b94a-9cddf75683be"
   },
   "outputs": [],
   "source": [
    "# We can solidify this pattern by making using of **chain.aql_examples**\n",
    "\n",
    "# The AQL Examples modifier instructs the LLM to adapt its AQL-completion style\n",
    "# to the user’s examples. These examples arepassed to the AQL Generation Prompt\n",
    "# Template to promote few-shot-learning.\n",
    "\n",
    "chain.aql_examples = \"\"\"\n",
    "# Who are the grandchildren of Rickard Stark?\n",
    "WITH Characters, ChildOf\n",
    "FOR v, e IN 2..2 INBOUND 'Characters/RickardStark' ChildOf\n",
    "  RETURN v\n",
    "\n",
    "# Is Ned Stark alive?\n",
    "RETURN DOCUMENT('Characters/NedStark').alive\n",
    "\"\"\"\n",
    "\n",
    "# Note how we are no longer specifying the use of INBOUND\n",
    "chain.run(\"Who are the grandchildren of Tywin Lannister?\")"
   ]
  },
  {
   "cell_type": "code",
   "execution_count": null,
   "id": "5_uzV29wAt5t",
   "metadata": {
    "id": "5_uzV29wAt5t"
   },
   "outputs": [],
   "source": [
    "# Other modifiers include:\n",
    "\n",
    "# Specify the maximum number of AQL Query Results to return\n",
    "chain.top_k = 5\n",
    "\n",
    "# Specify the maximum amount of AQL Generation attempts that should be made\n",
    "# before returning an error\n",
    "chain.max_aql_generation_attempts = 5\n",
    "\n",
    "# Specify whether or not to return the AQL Query in the output dictionary\n",
    "# Use `chain(\"...\")` instead of `chain.run(\"...\")` to see this change\n",
    "chain.return_aql_query = True\n",
    "\n",
    "# Specify whether or not to return the AQL JSON Result in the output dictionary\n",
    "# Use `chain(\"...\")` instead of `chain.run(\"...\")` to see this change\n",
    "chain.return_aql_result = True"
   ]
  },
  {
   "cell_type": "markdown",
   "id": "eVA5LO7ScQr4",
   "metadata": {
    "id": "eVA5LO7ScQr4"
   },
   "source": [
    "##### via Prompt Templates"
   ]
  },
  {
   "cell_type": "code",
   "execution_count": null,
   "id": "n-T-pDdkXoN6",
   "metadata": {
    "id": "n-T-pDdkXoN6"
   },
   "outputs": [],
   "source": [
    "from langchain.prompts import PromptTemplate"
   ]
  },
  {
   "cell_type": "markdown",
   "id": "mDGWCXM5Zjdm",
   "metadata": {
    "id": "mDGWCXM5Zjdm"
   },
   "source": [
    "###### Natural Language to AQL Template"
   ]
  },
  {
   "cell_type": "code",
   "execution_count": null,
   "id": "p1RWpBJ0ZPPt",
   "metadata": {
    "id": "p1RWpBJ0ZPPt"
   },
   "outputs": [],
   "source": [
    "AQL_GENERATION_TEMPLATE = \"\"\"Task: Generate an ArangoDB Query Language (AQL) query from a User Input.\n",
    "\n",
    "You are an ArangoDB Query Language (AQL) expert responsible for translating a `User Input` into an ArangoDB Query Language (AQL) query.\n",
    "\n",
    "You are given an `ArangoDB Schema`. It is a JSON Object containing:\n",
    "1. `Graph Schema`: Lists all Graphs within the ArangoDB Database Instance, along with their Edge Relationships.\n",
    "2. `Collection Schema`: Lists all Collections within the ArangoDB Database Instance, along with their document/edge properties and a document/edge example.\n",
    "\n",
    "You may also be given a set of `AQL Query Examples` to help you create the `AQL Query`. If provided, the `AQL Query Examples` should be used as a reference, similar to how `ArangoDB Schema` should be used.\n",
    "\n",
    "Things you should do:\n",
    "- Think step by step.\n",
    "- Rely on `ArangoDB Schema` and `AQL Query Examples` (if provided) to generate the query.\n",
    "- Begin the `AQL Query` by the `WITH` AQL keyword to specify all of the ArangoDB Collections required.\n",
    "- Return the `AQL Query` wrapped in 3 backticks (```).\n",
    "- Use only the provided relationship types and properties in the `ArangoDB Schema` and any `AQL Query Examples` queries.\n",
    "- Only answer to requests related to generating an AQL Query.\n",
    "- If a request is unrelated to generating AQL Query, say that you cannot help the user.\n",
    "\n",
    "Things you should not do:\n",
    "- Do not use any properties/relationships that can't be inferred from the `ArangoDB Schema` or the `AQL Query Examples`.\n",
    "- Do not include any text except the generated AQL Query.\n",
    "- Do not provide explanations or apologies in your responses.\n",
    "- Do not generate an AQL Query that removes or deletes any data.\n",
    "\n",
    "Under no circumstance should you generate an AQL Query that deletes any data whatsoever.\n",
    "\n",
    "ArangoDB Schema:\n",
    "{adb_schema}\n",
    "\n",
    "AQL Query Examples (Optional):\n",
    "{aql_examples}\n",
    "\n",
    "User Input:\n",
    "{user_input}\n",
    "\n",
    "AQL Query:\n",
    "\"\"\"\n",
    "\n",
    "AQL_GENERATION_PROMPT = PromptTemplate(\n",
    "    input_variables=[\"adb_schema\", \"aql_examples\", \"user_input\"],\n",
    "    template=AQL_GENERATION_TEMPLATE,\n",
    ")"
   ]
  },
  {
   "cell_type": "markdown",
   "id": "Vjq45lbBZmao",
   "metadata": {
    "id": "Vjq45lbBZmao"
   },
   "source": [
    "###### AQL to AQL Template"
   ]
  },
  {
   "cell_type": "code",
   "execution_count": null,
   "id": "noebhVf-ZVyD",
   "metadata": {
    "id": "noebhVf-ZVyD"
   },
   "outputs": [],
   "source": [
    "AQL_FIX_TEMPLATE = \"\"\"Task: Address the ArangoDB Query Language (AQL) error message of an ArangoDB Query Language query.\n",
    "\n",
    "You are an ArangoDB Query Language (AQL) expert responsible for correcting the provided `AQL Query` based on the provided `AQL Error`.\n",
    "\n",
    "The `AQL Error` explains why the `AQL Query` could not be executed in the database.\n",
    "The `AQL Error` may also contain the position of the error relative to the total number of lines of the `AQL Query`.\n",
    "For example, 'error X at position 2:5' denotes that the error X occurs on line 2, column 5 of the `AQL Query`.\n",
    "\n",
    "You are also given the `ArangoDB Schema`. It is a JSON Object containing:\n",
    "1. `Graph Schema`: Lists all Graphs within the ArangoDB Database Instance, along with their Edge Relationships.\n",
    "2. `Collection Schema`: Lists all Collections within the ArangoDB Database Instance, along with their document/edge properties and a document/edge example.\n",
    "\n",
    "You will output the `Corrected AQL Query` wrapped in 3 backticks (```). Do not include any text except the Corrected AQL Query.\n",
    "\n",
    "Remember to think step by step.\n",
    "\n",
    "ArangoDB Schema:\n",
    "{adb_schema}\n",
    "\n",
    "AQL Query:\n",
    "{aql_query}\n",
    "\n",
    "AQL Error:\n",
    "{aql_error}\n",
    "\n",
    "Corrected AQL Query:\n",
    "\"\"\"\n",
    "\n",
    "AQL_FIX_PROMPT = PromptTemplate(\n",
    "    input_variables=[\"adb_schema\", \"aql_query\", \"aql_error\"],\n",
    "    template=AQL_FIX_TEMPLATE,\n",
    ")"
   ]
  },
  {
   "cell_type": "markdown",
   "id": "w6_a0kCTZvhf",
   "metadata": {
    "id": "w6_a0kCTZvhf"
   },
   "source": [
    "###### JSON to Natural Language Template"
   ]
  },
  {
   "cell_type": "code",
   "execution_count": null,
   "id": "z0vOjuZsZhr1",
   "metadata": {
    "id": "z0vOjuZsZhr1"
   },
   "outputs": [],
   "source": [
    "AQL_QA_TEMPLATE = \"\"\"Task: Generate a natural language `Summary` from the results of an ArangoDB Query Language query.\n",
    "\n",
    "You are an ArangoDB Query Language (AQL) expert responsible for creating a well-written `Summary` from the `User Input` and associated `AQL Result`.\n",
    "\n",
    "A user has executed an ArangoDB Query Language query, which has returned the AQL Result in JSON format.\n",
    "You are responsible for creating an `Summary` based on the AQL Result.\n",
    "\n",
    "You are given the following information:\n",
    "- `ArangoDB Schema`: contains a schema representation of the user's ArangoDB Database.\n",
    "- `User Input`: the original question/request of the user, which has been translated into an AQL Query.\n",
    "- `AQL Query`: the AQL equivalent of the `User Input`, translated by another AI Model. Should you deem it to be incorrect, suggest a different AQL Query.\n",
    "- `AQL Result`: the JSON output returned by executing the `AQL Query` within the ArangoDB Database.\n",
    "\n",
    "Remember to think step by step.\n",
    "\n",
    "Your `Summary` should sound like it is a response to the `User Input`.\n",
    "Your `Summary` should not include any mention of the `AQL Query` or the `AQL Result`.\n",
    "\n",
    "ArangoDB Schema:\n",
    "{adb_schema}\n",
    "\n",
    "User Input:\n",
    "{user_input}\n",
    "\n",
    "AQL Query:\n",
    "{aql_query}\n",
    "\n",
    "AQL Result:\n",
    "{aql_result}\n",
    "\n",
    "Use sarcasm in your answer!\n",
    "\"\"\"\n",
    "\n",
    "\n",
    "AQL_QA_PROMPT = PromptTemplate(\n",
    "    input_variables=[\"adb_schema\", \"user_input\", \"aql_query\", \"aql_result\"],\n",
    "    template=AQL_QA_TEMPLATE,\n",
    ")"
   ]
  },
  {
   "cell_type": "markdown",
   "id": "3lfUWSTuZ3qD",
   "metadata": {
    "id": "3lfUWSTuZ3qD"
   },
   "source": [
    "###### Reconfiguring LangChain"
   ]
  },
  {
   "cell_type": "code",
   "execution_count": null,
   "id": "vah2VqAFZ24n",
   "metadata": {
    "id": "vah2VqAFZ24n"
   },
   "outputs": [],
   "source": [
    "sarcastic_chain = ArangoGraphQAChain.from_llm(\n",
    "    model,\n",
    "    aql_generation_prompt=AQL_GENERATION_PROMPT,\n",
    "    aql_fix_prompt=AQL_FIX_PROMPT,\n",
    "    qa_prompt=AQL_QA_PROMPT,\n",
    "    graph=graph,\n",
    "    verbose=True\n",
    ")"
   ]
  },
  {
   "cell_type": "code",
   "execution_count": null,
   "id": "haVUTdY6agoY",
   "metadata": {
    "colab": {
     "base_uri": "https://localhost:8080/",
     "height": 278
    },
    "id": "haVUTdY6agoY",
    "outputId": "b6eeb57c-1cc6-4826-f7f7-48441c690e0e"
   },
   "outputs": [],
   "source": [
    "sarcastic_chain.run(\"Is Ned Stark alive?\")"
   ]
  },
  {
   "cell_type": "markdown",
   "id": "MnR_Tup11DsD",
   "metadata": {
    "id": "MnR_Tup11DsD"
   },
   "source": [
    "---\n",
    "## Fine-Tuning"
   ]
  },
  {
   "cell_type": "markdown",
   "id": "3E59pSTtbgrf",
   "metadata": {
    "id": "3E59pSTtbgrf"
   },
   "source": [
    "https://platform.openai.com/docs/guides/fine-tuning/create-a-fine-tuned-model"
   ]
  },
  {
   "cell_type": "code",
   "execution_count": null,
   "id": "n7-rORDh7CMt",
   "metadata": {
    "id": "n7-rORDh7CMt"
   },
   "outputs": [],
   "source": [
    "# 1. Load the Training Data\n",
    "\n",
    "import json\n",
    "\n",
    "training_data = [\n",
    "    {\"messages\": [\n",
    "        {\"role\": \"user\", \"content\": \"How old is Ned Stark?\"},\n",
    "        {\"role\": \"assistant\", \"content\": \"RETURN DOCUMENT('Characters/NedStark').age\"}\n",
    "    ]},\n",
    "    {\"messages\": [\n",
    "        {\"role\": \"user\", \"content\": \"When did 'Event/X' occur?\"},\n",
    "        {\"role\": \"assistant\", \"content\": \"RETURN DOCUMENT('Event/X').date\"}\n",
    "    ]},\n",
    "    # ...\n",
    "]\n",
    "\n",
    "with open('aql.jsonl', 'w') as f:\n",
    "    for entry in training_data:\n",
    "        json_str = json.dumps(entry)\n",
    "        f.write(json_str + '\\n')"
   ]
  },
  {
   "cell_type": "code",
   "execution_count": null,
   "id": "FaiSUxYQ5hs-",
   "metadata": {
    "id": "FaiSUxYQ5hs-"
   },
   "outputs": [],
   "source": [
    "# 2. Create the OpenAI File\n",
    "\n",
    "import os\n",
    "import openai\n",
    "\n",
    "openai.api_key = os.getenv(\"OPENAI_API_KEY\")\n",
    "\n",
    "openai_file = openai.File.create(\n",
    "  file=open(\"aql.jsonl\", \"rb\"),\n",
    "  purpose='fine-tune'\n",
    ")\n",
    "\n",
    "openai_file"
   ]
  },
  {
   "cell_type": "code",
   "execution_count": null,
   "id": "SfRpsk5P55fG",
   "metadata": {
    "id": "SfRpsk5P55fG"
   },
   "outputs": [],
   "source": [
    "# 3. Trigger the Fine Tuning Job\n",
    "\n",
    "job = openai.FineTuningJob.create(training_file=openai_file[\"id\"], model=\"gpt-3.5-turbo\")\n",
    "\n",
    "job"
   ]
  },
  {
   "cell_type": "code",
   "execution_count": null,
   "id": "5ViAMMD88Yr8",
   "metadata": {
    "id": "5ViAMMD88Yr8"
   },
   "outputs": [],
   "source": [
    "# 4. Wait for the Job to complete\n",
    "\n",
    "import time\n",
    "from datetime import datetime\n",
    "from IPython.display import clear_output\n",
    "\n",
    "job_status = job['status']\n",
    "while job['finished_at'] == None:\n",
    "    print(datetime.now().isoformat(), job_status)\n",
    "\n",
    "    time.sleep(5)\n",
    "    clear_output(wait=True)\n",
    "\n",
    "    job = openai.FineTuningJob.retrieve(job[\"id\"])\n",
    "    job_status = job['status']\n",
    "\n",
    "print('done!')"
   ]
  },
  {
   "cell_type": "code",
   "execution_count": null,
   "id": "nFuHjaLB48-A",
   "metadata": {
    "id": "nFuHjaLB48-A"
   },
   "outputs": [],
   "source": [
    "# 5. Instantiate the OpenAI wrapper with the fine-tuned model\n",
    "\n",
    "ft_model = ChatOpenAI(temperature=0, model=job.fine_tuned_model)"
   ]
  },
  {
   "cell_type": "code",
   "execution_count": null,
   "id": "KXPh7yHIA_U5",
   "metadata": {
    "id": "KXPh7yHIA_U5"
   },
   "outputs": [],
   "source": [
    "# 6. Re-instantiate the ArangoGraphQAChain object\n",
    "\n",
    "ft_chain = ArangoGraphQAChain.from_llm(ft_model, graph=graph, verbose=True)"
   ]
  },
  {
   "cell_type": "code",
   "execution_count": null,
   "id": "idH45PJecBVp",
   "metadata": {
    "id": "idH45PJecBVp"
   },
   "outputs": [],
   "source": [
    "chain.run(\"When did Event/ALG7745 occur?\")\n",
    "chain.run(\"How old is Ned Stark?\")"
   ]
  },
  {
   "cell_type": "code",
   "execution_count": null,
   "id": "CkwCdtFjZmcE",
   "metadata": {
    "id": "CkwCdtFjZmcE"
   },
   "outputs": [],
   "source": [
    "ft_chain.run(\"When did Event/ALG7745 occur?\")\n",
    "ft_chain.run(\"How old is Ned Stark?\")"
   ]
  },
  {
   "cell_type": "markdown",
   "id": "1yKcNlVvCRE9",
   "metadata": {
    "id": "1yKcNlVvCRE9"
   },
   "source": [
    "---\n",
    "## More Info\n",
    "\n",
    "- [ArangoDB: LLMs + Knowledge Graphs](https://arangodb.com/llm-knowledge-graph/)\n",
    "\n",
    "- [ArangoDB Empowers Large Language Models for Real-World Applications](https://arangodb.com/2023/08/bridging-knowledge-and-language-arangodb-empowers-large-language-models-for-real-world-applications/)"
   ]
  }
 ],
 "metadata": {
  "colab": {
   "collapsed_sections": [
    "WejTADc2L72f",
    "MdTyIwWeL953",
    "Ob_3aGauGd7d",
    "7waPnt2pLx16"
   ],
   "provenance": []
  },
  "kernelspec": {
   "display_name": "Python 3 (ipykernel)",
   "language": "python",
   "name": "python3"
  },
  "language_info": {
   "codemirror_mode": {
    "name": "ipython",
    "version": 3
   },
   "file_extension": ".py",
   "mimetype": "text/x-python",
   "name": "python",
   "nbconvert_exporter": "python",
   "pygments_lexer": "ipython3",
   "version": "3.8.8"
  }
 },
 "nbformat": 4,
 "nbformat_minor": 5
}
