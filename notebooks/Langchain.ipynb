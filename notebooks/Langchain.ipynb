{
 "cells": [
  {
   "cell_type": "markdown",
   "id": "c94240f5",
   "metadata": {
    "id": "c94240f5"
   },
   "source": [
    "# ArangoDB QA chain\n",
    "\n",
    "[![Open In Collab](https://colab.research.google.com/assets/colab-badge.svg)](https://colab.research.google.com/github/arangodb/interactive_tutorials/blob/master/notebooks/Langchain.ipynb)\n",
    "\n",
    "This notebook shows how to use LLMs to provide a natural language interface to an [ArangoDB](https://github.com/arangodb/arangodb#readme) database.\n",
    "\n",
    "Please note: This notebook uses the LangChain `ChatOpenAI` wrapper, which requires you to have a **paid** [OpenAI API Key](https://help.openai.com/en/articles/4936850-where-do-i-find-my-secret-api-key)."
   ]
  },
  {
   "cell_type": "markdown",
   "id": "dbc0ee68",
   "metadata": {
    "id": "dbc0ee68"
   },
   "source": [
    "You can get a local ArangoDB instance running via the [ArangoDB Docker image](https://hub.docker.com/_/arangodb):  \n",
    "\n",
    "```\n",
    "docker run -p 8529:8529 -e ARANGO_ROOT_PASSWORD= arangodb/arangodb\n",
    "```\n",
    "\n",
    "An alternative is to use the [ArangoDB Cloud Connector package](https://github.com/arangodb/adb-cloud-connector#readme) to get a temporary cloud instance running:"
   ]
  },
  {
   "cell_type": "code",
   "execution_count": null,
   "id": "izi6YoFC8KRH",
   "metadata": {
    "id": "izi6YoFC8KRH"
   },
   "outputs": [],
   "source": [
    "%%capture\n",
    "!pip install python-arango # The ArangoDB Python Driver\n",
    "!pip install adb-cloud-connector # The ArangoDB Cloud Instance provisioner\n",
    "!pip install openai\n",
    "!pip install langchain==0.0.242"
   ]
  },
  {
   "cell_type": "code",
   "execution_count": null,
   "id": "62812aad",
   "metadata": {
    "colab": {
     "base_uri": "https://localhost:8080/"
    },
    "id": "62812aad",
    "outputId": "7476c894-2de9-43bc-cee9-28b4a22cc620"
   },
   "outputs": [],
   "source": [
    "# Instantiate ArangoDB Database\n",
    "import json\n",
    "from arango import ArangoClient\n",
    "from adb_cloud_connector import get_temp_credentials\n",
    "\n",
    "con = get_temp_credentials(tutorialName=\"LangChain\")\n",
    "\n",
    "db = ArangoClient(hosts=con[\"url\"]).db(\n",
    "    con[\"dbName\"], con[\"username\"], con[\"password\"], verify=True\n",
    ")\n",
    "\n",
    "print(json.dumps(con, indent=2))"
   ]
  },
  {
   "cell_type": "code",
   "execution_count": null,
   "id": "0928915d",
   "metadata": {
    "id": "0928915d"
   },
   "outputs": [],
   "source": [
    "# Instantiate the ArangoDB-LangChain Graph\n",
    "from langchain.graphs import ArangoGraph\n",
    "\n",
    "graph = ArangoGraph(db)"
   ]
  },
  {
   "cell_type": "markdown",
   "id": "995ea9b9",
   "metadata": {
    "id": "995ea9b9"
   },
   "source": [
    "## Populating the Database\n",
    "\n",
    "We will rely on the Python Driver to import our [GameOfThrones](https://github.com/arangodb/example-datasets/tree/master/GameOfThrones) data into our database."
   ]
  },
  {
   "cell_type": "code",
   "execution_count": null,
   "id": "fedd26b9",
   "metadata": {
    "colab": {
     "base_uri": "https://localhost:8080/"
    },
    "id": "fedd26b9",
    "outputId": "7cc2fad3-77df-4fee-e08c-c8b654b7a959"
   },
   "outputs": [],
   "source": [
    "if db.has_graph(\"GameOfThrones\"):\n",
    "    db.delete_graph(\"GameOfThrones\", drop_collections=True)\n",
    "\n",
    "db.create_graph(\n",
    "    \"GameOfThrones\",\n",
    "    edge_definitions=[\n",
    "        {\n",
    "            \"edge_collection\": \"ChildOf\",\n",
    "            \"from_vertex_collections\": [\"Characters\"],\n",
    "            \"to_vertex_collections\": [\"Characters\"],\n",
    "        },\n",
    "    ],\n",
    ")\n",
    "\n",
    "documents = [\n",
    "    {\n",
    "        \"_key\": \"NedStark\",\n",
    "        \"name\": \"Ned\",\n",
    "        \"surname\": \"Stark\",\n",
    "        \"alive\": True,\n",
    "        \"age\": 41,\n",
    "        \"gender\": \"male\",\n",
    "    },\n",
    "    {\n",
    "        \"_key\": \"CatelynStark\",\n",
    "        \"name\": \"Catelyn\",\n",
    "        \"surname\": \"Stark\",\n",
    "        \"alive\": False,\n",
    "        \"age\": 40,\n",
    "        \"gender\": \"female\",\n",
    "    },\n",
    "    {\n",
    "        \"_key\": \"AryaStark\",\n",
    "        \"name\": \"Arya\",\n",
    "        \"surname\": \"Stark\",\n",
    "        \"alive\": True,\n",
    "        \"age\": 11,\n",
    "        \"gender\": \"female\",\n",
    "    },\n",
    "    {\n",
    "        \"_key\": \"BranStark\",\n",
    "        \"name\": \"Bran\",\n",
    "        \"surname\": \"Stark\",\n",
    "        \"alive\": True,\n",
    "        \"age\": 10,\n",
    "        \"gender\": \"male\",\n",
    "    },\n",
    "]\n",
    "\n",
    "edges = [\n",
    "    {\"_to\": \"Characters/NedStark\", \"_from\": \"Characters/AryaStark\"},\n",
    "    {\"_to\": \"Characters/NedStark\", \"_from\": \"Characters/BranStark\"},\n",
    "    {\"_to\": \"Characters/CatelynStark\", \"_from\": \"Characters/AryaStark\"},\n",
    "    {\"_to\": \"Characters/CatelynStark\", \"_from\": \"Characters/BranStark\"},\n",
    "]\n",
    "\n",
    "db.collection(\"Characters\").import_bulk(documents)\n",
    "db.collection(\"ChildOf\").import_bulk(edges)"
   ]
  },
  {
   "cell_type": "markdown",
   "id": "58c1a8ea",
   "metadata": {
    "id": "58c1a8ea"
   },
   "source": [
    "## Getting & Setting the ArangoDB Schema\n",
    "\n",
    "An initial ArangoDB Schema is generated upon instantiating the `ArangoDBGraph` object. Below are the schema's getter & setter methods should you be interested in viewing or modifying the schema:"
   ]
  },
  {
   "cell_type": "code",
   "execution_count": null,
   "id": "4e3de44f",
   "metadata": {
    "colab": {
     "base_uri": "https://localhost:8080/"
    },
    "id": "4e3de44f",
    "outputId": "f096e3d2-aa7e-40e6-85c7-b66bc994feb7"
   },
   "outputs": [],
   "source": [
    "# The schema should be empty here,\n",
    "# since `graph` was initialized prior to ArangoDB Data ingestion (see above).\n",
    "\n",
    "import json\n",
    "\n",
    "print(json.dumps(graph.schema, indent=4))"
   ]
  },
  {
   "cell_type": "code",
   "execution_count": null,
   "id": "1fe76ccd",
   "metadata": {
    "id": "1fe76ccd"
   },
   "outputs": [],
   "source": [
    "graph.set_schema()"
   ]
  },
  {
   "cell_type": "code",
   "execution_count": null,
   "id": "mZ679anj_-Er",
   "metadata": {
    "colab": {
     "base_uri": "https://localhost:8080/"
    },
    "id": "mZ679anj_-Er",
    "outputId": "f688fbcc-c796-4381-a14b-8f9fcbfa5e7c"
   },
   "outputs": [],
   "source": [
    "# We can now view the generated schema\n",
    "\n",
    "import json\n",
    "\n",
    "print(json.dumps(graph.schema, indent=4))"
   ]
  },
  {
   "cell_type": "markdown",
   "id": "68a3c677",
   "metadata": {
    "id": "68a3c677"
   },
   "source": [
    "## Querying the ArangoDB Database\n",
    "\n",
    "We can now use the ArangoDB Graph QA Chain to inquire about our data\n",
    "\n",
    "Please note: This notebook uses the LangChain `ChatOpenAI` wrapper, which requires you to have a **paid** [OpenAI API Key](https://help.openai.com/en/articles/4936850-where-do-i-find-my-secret-api-key)."
   ]
  },
  {
   "cell_type": "code",
   "execution_count": null,
   "id": "635c4018",
   "metadata": {
    "id": "635c4018"
   },
   "outputs": [],
   "source": [
    "import os\n",
    "\n",
    "os.environ[\"OPENAI_API_KEY\"] = \"your-key-here\""
   ]
  },
  {
   "cell_type": "code",
   "execution_count": null,
   "id": "7476ce98",
   "metadata": {
    "id": "7476ce98"
   },
   "outputs": [],
   "source": [
    "from langchain.chat_models import ChatOpenAI\n",
    "from langchain.chains import ArangoGraphQAChain\n",
    "\n",
    "chain = ArangoGraphQAChain.from_llm(\n",
    "    ChatOpenAI(temperature=0), graph=graph, verbose=True\n",
    ")"
   ]
  },
  {
   "cell_type": "code",
   "execution_count": null,
   "id": "ef8ee27b",
   "metadata": {
    "colab": {
     "base_uri": "https://localhost:8080/",
     "height": 261
    },
    "id": "ef8ee27b",
    "outputId": "92770e47-8a5c-42ed-e1b1-0f0beafd27b0"
   },
   "outputs": [],
   "source": [
    "chain.run(\"Is Ned Stark alive?\")"
   ]
  },
  {
   "cell_type": "code",
   "execution_count": null,
   "id": "9CSig1BgA76q",
   "metadata": {
    "colab": {
     "base_uri": "https://localhost:8080/",
     "height": 278
    },
    "id": "9CSig1BgA76q",
    "outputId": "eafcf3e3-3582-41bf-ace8-ef206271c805"
   },
   "outputs": [],
   "source": [
    "chain.run(\"Who is the oldest character\")"
   ]
  },
  {
   "cell_type": "code",
   "execution_count": null,
   "id": "9Fzdic_pA_4y",
   "metadata": {
    "colab": {
     "base_uri": "https://localhost:8080/",
     "height": 278
    },
    "id": "9Fzdic_pA_4y",
    "outputId": "ca13343d-6e45-42f1-bb38-56e04d826a67"
   },
   "outputs": [],
   "source": [
    "chain.run(\"Does Arya Stark have a dead parent?\")"
   ]
  },
  {
   "cell_type": "code",
   "execution_count": null,
   "id": "zq_oeDpAOXpF",
   "metadata": {
    "colab": {
     "base_uri": "https://localhost:8080/",
     "height": 281
    },
    "id": "zq_oeDpAOXpF",
    "outputId": "6780703b-67ec-4778-9f87-c07774f05f8d"
   },
   "outputs": [],
   "source": [
    "chain.run(\"Are Arya Stark and Ned Stark related?\")"
   ]
  },
  {
   "cell_type": "code",
   "execution_count": null,
   "id": "Qfi_e1_P_tKj",
   "metadata": {
    "colab": {
     "base_uri": "https://localhost:8080/",
     "height": 278
    },
    "id": "Qfi_e1_P_tKj",
    "outputId": "cc3e39b9-de46-4fba-b50b-4c712ef32aae"
   },
   "outputs": [],
   "source": [
    "chain.run(\"Who is the youngest child of Ned Stark? Use INBOUND\")"
   ]
  },
  {
   "cell_type": "code",
   "execution_count": null,
   "id": "pjTLW6ct_71q",
   "metadata": {
    "colab": {
     "base_uri": "https://localhost:8080/",
     "height": 348
    },
    "id": "pjTLW6ct_71q",
    "outputId": "a998b139-eb3b-4d51-a038-d643d2dae1b7"
   },
   "outputs": [],
   "source": [
    "chain.run(\"Add John Snow as a new male character (age 31)\")"
   ]
  },
  {
   "cell_type": "code",
   "execution_count": null,
   "id": "-VfkVtt4_9FK",
   "metadata": {
    "colab": {
     "base_uri": "https://localhost:8080/",
     "height": 348
    },
    "id": "-VfkVtt4_9FK",
    "outputId": "39ef638a-0136-4ad7-ee87-6ae96df95c35"
   },
   "outputs": [],
   "source": [
    "chain.run(\"Add Eddard Stark, a 60-year old male\")"
   ]
  },
  {
   "cell_type": "code",
   "execution_count": null,
   "id": "89-QJ87m__ol",
   "metadata": {
    "colab": {
     "base_uri": "https://localhost:8080/",
     "height": 278
    },
    "id": "89-QJ87m__ol",
    "outputId": "b12d6f23-a90a-4f14-b6f7-446c50387daa"
   },
   "outputs": [],
   "source": [
    "chain.run(\"Create a ChildOf edge from Characters/JohnSnow to Characters/EddardStark\")"
   ]
  },
  {
   "cell_type": "code",
   "execution_count": null,
   "id": "MV6ENBJVAB-w",
   "metadata": {
    "colab": {
     "base_uri": "https://localhost:8080/",
     "height": 420
    },
    "id": "MV6ENBJVAB-w",
    "outputId": "b0d0ea76-3dd1-4a2e-ab93-cc751d746b8d"
   },
   "outputs": [],
   "source": [
    "chain.run(\"What can you tell me about the characters?\")"
   ]
  },
  {
   "cell_type": "code",
   "execution_count": null,
   "id": "_2maN0_sAFCO",
   "metadata": {
    "colab": {
     "base_uri": "https://localhost:8080/",
     "height": 402
    },
    "id": "_2maN0_sAFCO",
    "outputId": "53285a6f-97cf-4985-9a66-d89ec9679b68"
   },
   "outputs": [],
   "source": [
    "chain.run(\"What can you tell me about the edges?\")"
   ]
  },
  {
   "cell_type": "markdown",
   "id": "Ob_3aGauGd7d",
   "metadata": {
    "id": "Ob_3aGauGd7d"
   },
   "source": [
    "## Chain Modifiers"
   ]
  },
  {
   "cell_type": "markdown",
   "id": "3P490E2dGiBp",
   "metadata": {
    "id": "3P490E2dGiBp"
   },
   "source": [
    "You can alter the values of the following `ArangoDBGraphQAChain` class variables to modify the behaviour of your chain results\n"
   ]
  },
  {
   "cell_type": "code",
   "execution_count": null,
   "id": "1B9h3PvzJ41T",
   "metadata": {
    "id": "1B9h3PvzJ41T"
   },
   "outputs": [],
   "source": [
    "# Specify the maximum number of AQL Query Results to return\n",
    "chain.top_k = 10\n",
    "\n",
    "# Specify whether or not to return the AQL Query in the output dictionary\n",
    "chain.return_aql_query = True\n",
    "\n",
    "# Specify whether or not to return the AQL JSON Result in the output dictionary\n",
    "chain.return_aql_result = True\n",
    "\n",
    "# Specify the maximum amount of AQL Generation attempts that should be made\n",
    "chain.max_aql_generation_attempts = 5\n",
    "\n",
    "# Specify a set of AQL Query Examples, which are passed to\n",
    "# the AQL Generation Prompt Template to promote few-shot-learning.\n",
    "# Defaults to an empty string.\n",
    "chain.aql_examples = \"\"\"\n",
    "# Is Ned Stark alive?\n",
    "RETURN DOCUMENT('Characters/NedStark').alive\n",
    "\n",
    "# Is Arya Stark the child of Ned Stark?\n",
    "FOR e IN ChildOf\n",
    "    FILTER e._from == \"Characters/AryaStark\" AND e._to == \"Characters/NedStark\"\n",
    "    RETURN e\n",
    "\"\"\""
   ]
  },
  {
   "cell_type": "code",
   "execution_count": null,
   "id": "49cnjYV-PUv3",
   "metadata": {
    "colab": {
     "base_uri": "https://localhost:8080/",
     "height": 226
    },
    "id": "49cnjYV-PUv3",
    "outputId": "c5d3e106-7ecf-403c-9759-6297fe36b50a"
   },
   "outputs": [],
   "source": [
    "chain.run(\"Is Ned Stark alive?\")\n",
    "\n",
    "# chain(\"Is Ned Stark alive?\") # Returns a dictionary with the AQL Query & AQL Result"
   ]
  },
  {
   "cell_type": "code",
   "execution_count": null,
   "id": "nWfALJ8dPczE",
   "metadata": {
    "colab": {
     "base_uri": "https://localhost:8080/",
     "height": 261
    },
    "id": "nWfALJ8dPczE",
    "outputId": "8fdf63f2-aa2c-494f-833d-914e9f553b98"
   },
   "outputs": [],
   "source": [
    "chain.run(\"Is Bran Stark the child of Ned Stark?\")"
   ]
  }
 ],
 "metadata": {
  "colab": {
   "collapsed_sections": [
    "995ea9b9"
   ],
   "provenance": []
  },
  "kernelspec": {
   "display_name": "Python 3 (ipykernel)",
   "language": "python",
   "name": "python3"
  },
  "language_info": {
   "codemirror_mode": {
    "name": "ipython",
    "version": 3
   },
   "file_extension": ".py",
   "mimetype": "text/x-python",
   "name": "python",
   "nbconvert_exporter": "python",
   "pygments_lexer": "ipython3",
   "version": "3.8.8"
  }
 },
 "nbformat": 4,
 "nbformat_minor": 5
}
