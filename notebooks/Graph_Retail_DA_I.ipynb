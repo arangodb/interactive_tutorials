{
 "cells": [
  {
   "cell_type": "markdown",
   "metadata": {
    "id": "qStcba13duQl"
   },
   "source": [
    "<a href=\"https://colab.research.google.com/github/arangodb/interactive_tutorials/blob/master/notebooks/Graph_Retail_DA_I.ipynb\" target=\"_parent\"><img src=\"https://colab.research.google.com/assets/colab-badge.svg\" alt=\"Open In Colab\"/></a>"
   ]
  },
  {
   "cell_type": "code",
   "execution_count": null,
   "metadata": {
    "id": "NHiPYjvmjnZT"
   },
   "outputs": [],
   "source": [
    "\n",
    "%%capture\n",
    "!git clone -b retail_data_branch --single-branch https://github.com/arangodb/interactive_tutorials.git\n",
    "!rsync -av  interactive_tutorials/notebooks/data  rsync -av interactive_tutorials/notebooks/tools interactive_tutorials/notebooks/img ./ --exclude=.git\n",
    "!pip install python-arango\n",
    "!pip install arangopipe==0.0.70.0.0\n",
    "!pip install pandas PyYAML==5.1.1 sklearn2\n",
    "!pip install jsonpickle\n",
    "!pip3 install networkx\n",
    "!pip3 install matplotlib\n",
    "!pip3 install adbnx-adapter\n",
    "!chmod a+x tools/* \n"
   ]
  },
  {
   "cell_type": "markdown",
   "metadata": {
    "id": "hPB7hYgo1elH"
   },
   "source": [
    "## Methodology Overview\n",
    "\n",
    "This notebook provides the descriptive features of the frequent customer group. These features are obtained by applying graph analytic concepts to the frequent customer group. To do so, we need to represent the frequent customer group as a graph. In particular, this group is modeled as a bi-partite graph with the customer nodes and item nodes forming the two disjoint vertex sets. The purchase of an item by a customer as part of an invoice is modeled as an edge.\n",
    "\n",
    "\n",
    "![](https://github.com/rajivsam/interactive_tutorials/blob/master/notebooks/img/bi_partite_graph.png?raw=1)\n",
    "\n",
    "\n",
    "This notebook will use ideas from:\n",
    "\n",
    "1.    [Statistical Analysis of Network Data](https://bigdata.unl.edu/documents/ASA_Workshop_Materials/Tutorial%20Statistical%20Analysis%20of%20Network%20Data.pdf): Provides a methodology for characterizing network structure\n",
    "2.   [Basic Notions for the Analysis of Affiliate Networks](https://github.com/arangoml/networkx-adapter/blob/master/bipartite_clustering.pdf) : Provides a methodology for analyzing bi-partite graphs\n",
    "\n",
    "The descriptive characteristics of the graph are captured by:\n",
    "\n",
    "\n",
    "1.   Vertex and Edge Characteristics\n",
    "2.   Network Cohesion\n",
    "\n",
    "These perspectives are important because:\n",
    "\n",
    "\n",
    "1.   They provide insights about customer behavior or the concept modeled by the graph\n",
    "2.   They provide the basis for developing other machine learning tasks for the problem. \n",
    "\n",
    "For example, we may be interested in the following:\n",
    "*   How can we develop a generative model for the graph? \n",
    "*   How do we model the formation of links in the network?\n",
    "\n",
    "These tasks tell us how customers make purchases. For details of developing a generative model on bipartite graphs, see [Bipartite Graphs as Models of Complex Networks](http://denif.ens-lyon.fr/data/algorithmique_reseaux_telecoms_enslyon/2007/cours/biparti.pdf) and [Measuring and Modeling Bipartite Graphs with Community Structure](https://www.osti.gov/servlets/purl/1561802). Developing these models requires the descriptive characterization of the graph, which is what is done in this notebook. This chararacterization provides information about properties such as degree distribution and clustering characteristics of nodes which are used to develop the models discussed.\n",
    "\n",
    "While summary statistics and distributions can be used to provide one descriptive perspective of the network (vertex and edge characteristics), information about grouping characteristics provides the complimentary perspective (network-cohesion). There are multiple ways to describe network-cohension. In this notebook, we will describe two ways to capture or describe cohesive tendencies in the notebook. These are the number of connected components in the graph and measurements describing clique formation in the graph.\n",
    "\n",
    "The rest of the notebook will provide the implementation of the methodology discussed here. There is one other conceptual idea that we require in the toolbox for the analysis of bi-partite graphs. This is the notion of a _projected graph_.  The two disjoint vertex sets are called the top and bottom vertex sets. The choice of which set to call the top set is arbitrary. It is possible to determine a _projection_ of a set of vertices belonging to either the top or bottom vertex set onto the opposite vertex set. In other words, it is possible to _project_ a set of top vertices on to the bottom vertex set, or, vice versa. The projection of the top set of vertices on to the bottom set, we connect two vertices of the bottom set in the projected graph if they are linked by a vertex in the opposite set. An example graph and the projection graph of the top set of vertices to the bottom set is shown below.\n",
    "\n",
    "\n",
    "![](https://github.com/rajivsam/interactive_tutorials/blob/master/notebooks/img/projection_graph.png?raw=1)\n",
    "\n",
    "The customer and the item projection graph have meaningful interpretations. This is discussed when these graphs are generated. The process followed in this notebook to implement this methodology is discussed above is shown below.\n",
    "\n",
    "\n"
   ]
  },
  {
   "cell_type": "markdown",
   "metadata": {
    "id": "NiTekYbJvgsI"
   },
   "source": [
    "![](https://github.com/rajivsam/interactive_tutorials/blob/master/notebooks/img/notebook_3_flow_chart.png?raw=1)"
   ]
  },
  {
   "cell_type": "markdown",
   "metadata": {
    "id": "XCnStoN4vuzv"
   },
   "source": [
    "## Read Graph Data\n",
    "\n",
    "An arango DB graph image from the previous excercise in this series is the starting point for this excercise. We connect to an Oasis instance that will be used for this excercise. "
   ]
  },
  {
   "cell_type": "code",
   "execution_count": null,
   "metadata": {
    "colab": {
     "base_uri": "https://localhost:8080/"
    },
    "id": "d2thBMSe5rGB",
    "outputId": "9f99c87e-5238-4258-be17-a7b738cda460"
   },
   "outputs": [],
   "source": [
    "from arangopipe.arangopipe_storage.arangopipe_api import ArangoPipe\n",
    "from arangopipe.arangopipe_storage.arangopipe_admin_api import ArangoPipeAdmin\n",
    "from arangopipe.arangopipe_storage.arangopipe_config import ArangoPipeConfig\n",
    "from arangopipe.arangopipe_storage.managed_service_conn_parameters import ManagedServiceConnParam\n",
    "mdb_config = ArangoPipeConfig()\n",
    "msc = ManagedServiceConnParam()\n",
    "conn_params = { msc.DB_SERVICE_HOST : \"arangoml.arangodb.cloud\", \\\n",
    "                        msc.DB_SERVICE_END_POINT : \"createDB\",\\\n",
    "                        msc.DB_SERVICE_NAME : \"createDB\",\\\n",
    "                        msc.DB_SERVICE_PORT : 8529,\\\n",
    "                        msc.DB_CONN_PROTOCOL : 'https',\\\n",
    "                        msc.DB_REPLICATION_FACTOR: 3}\n",
    "        \n",
    "mdb_config = mdb_config.create_connection_config(conn_params)\n",
    "admin = ArangoPipeAdmin(reuse_connection = False, config = mdb_config)\n",
    "ap_config = admin.get_config()\n",
    "ap = ArangoPipe(config = ap_config)\n",
    "proj_info = {\"name\": \"Retail_Graph_Analytics\"}\n",
    "proj_reg = admin.register_project(proj_info)\n",
    "mdb_config.get_cfg()"
   ]
  },
  {
   "cell_type": "code",
   "execution_count": null,
   "metadata": {
    "id": "4JTETOMT57Zq"
   },
   "outputs": [],
   "source": [
    "conn = mdb_config.get_cfg()\n",
    "login = conn['arangodb']"
   ]
  },
  {
   "cell_type": "code",
   "execution_count": null,
   "metadata": {
    "colab": {
     "base_uri": "https://localhost:8080/"
    },
    "id": "9CQmssQz6EtW",
    "outputId": "a54574d0-f29e-445f-f8e5-ff5614512e4d"
   },
   "outputs": [],
   "source": [
    "login"
   ]
  },
  {
   "cell_type": "code",
   "execution_count": null,
   "metadata": {
    "colab": {
     "base_uri": "https://localhost:8080/"
    },
    "id": "_wg3ZKbunAwI",
    "outputId": "7de18c44-f19c-448a-8b8e-c9c2b9d8da38"
   },
   "outputs": [],
   "source": [
    "!pwd"
   ]
  },
  {
   "cell_type": "code",
   "execution_count": null,
   "metadata": {
    "colab": {
     "base_uri": "https://localhost:8080/"
    },
    "id": "8B_UyOPFmnhA",
    "outputId": "6ec2ec96-3898-4da8-dabc-fb14711da6ac"
   },
   "outputs": [],
   "source": [
    "# Restore an ArangoDB dump into the database.\n",
    "!./tools/arangorestore  -c none --server.endpoint  http+ssl://{login[\"DB_service_host\"]}:{login[\"DB_service_port\"]} --server.username {login[\"username\"]} \\\n",
    "--server.database {login[\"dbName\"]} \\\n",
    "--server.password {login[\"password\"]} \\\n",
    "--replication-factor 3  \\\n",
    "--input-directory \"data/retail_freq_cust_data_dump_eonb2\""
   ]
  },
  {
   "cell_type": "markdown",
   "metadata": {
    "id": "67j8k6e-VONE"
   },
   "source": [
    "## Create Networkx Graph from ArangoDB Graph\n",
    "\n",
    "For this excercise, we will use the features of the Networkx library to perform the descriptive characterization of the graph. To do so, we will need a Networkx representation of the frequent customer graph. This can be obtained using the Networkx Adapter. To create the networkx graph, we need to provide the Networkx adapter with the following information:\n",
    "1. Connection information to the ArangoDB database that contains the graph that we want to covert to a Networkx graph\n",
    "2. Structural information to create the graph. A description of the vertex and edge collections of the graph in ArangoDB need to be provided.\n",
    "\n",
    "When this information is supplied to the adapter, the adapter creates an instance of a NetworkX graph and returns it. This instance is used for the rest of the analysis in this excercise.\n"
   ]
  },
  {
   "cell_type": "code",
   "execution_count": null,
   "metadata": {
    "id": "jfyCKdJ-pjza"
   },
   "outputs": [],
   "source": [
    "import networkx as nx\n",
    "from adbnx_adapter.arangoDB_networkx_adapter import ArangoDB_Networkx_Adapter\n",
    "\n",
    "# Specify the connection to the ArangoDB Database\n",
    "con = {'dbName': login[\"dbName\"],\n",
    " 'username': login[\"username\"],\n",
    " 'password': login[\"password\"],\n",
    " 'hostname': login[\"DB_service_host\"],\n",
    " 'port': login[\"DB_service_port\"]}\n",
    "\n",
    "# Create Adapter instance\n",
    "ma = ArangoDB_Networkx_Adapter(conn = con)\n",
    "\n",
    "freq_customers = {'vertexCollections': {'Customers': {},\n",
    "                                         'Items': {}},\n",
    "                   'edgeCollections': {'Purchases': {'_from', '_to', 'spend'}}}\n",
    "\n",
    "# Export networkX graph                                  \n",
    "g = ma.create_networkx_graph(graph_name = '',  graph_attributes = freq_customers)\n"
   ]
  },
  {
   "cell_type": "markdown",
   "metadata": {
    "id": "XJWpFl41zKcL"
   },
   "source": [
    "## Generate Vertex and Edge Characteristics\n",
    "\n",
    "In this section, the vertex and edge characteristics of frequent customer bi-partite graph are computed.\n",
    "\n",
    "To begin with we will compute the summary statistics of the bi-partite graph and we will generate the degree distribution of the two vertex sets, the customer and the item vertex sets for this graph. The details of performing this with Networkx are shown below. \n",
    "\n",
    "\n"
   ]
  },
  {
   "cell_type": "markdown",
   "metadata": {
    "id": "mvXc4Wh7-GNT"
   },
   "source": [
    "### Compute summary statistics for the bi-partite graph"
   ]
  },
  {
   "cell_type": "code",
   "execution_count": null,
   "metadata": {
    "id": "jUQ_y9eW63Wp"
   },
   "outputs": [],
   "source": [
    "gp = g.to_undirected()"
   ]
  },
  {
   "cell_type": "code",
   "execution_count": null,
   "metadata": {
    "id": "qdaTBIXT4hOH"
   },
   "outputs": [],
   "source": [
    "cust_nodes = [n for n in g.nodes() if n.startswith(\"Customers\")]\n",
    "item_nodes = [n for n in g.nodes() if n.startswith(\"Items\")]"
   ]
  },
  {
   "cell_type": "code",
   "execution_count": null,
   "metadata": {
    "colab": {
     "base_uri": "https://localhost:8080/"
    },
    "id": "hWxxHLaI4ipS",
    "outputId": "06d90c6f-8e0b-4ac1-f258-7049f0dedd66"
   },
   "outputs": [],
   "source": [
    "len(cust_nodes)"
   ]
  },
  {
   "cell_type": "code",
   "execution_count": null,
   "metadata": {
    "colab": {
     "base_uri": "https://localhost:8080/"
    },
    "id": "CGf9Si2d4-GC",
    "outputId": "0b9c9631-1c24-498c-9f1d-562e1feedadb"
   },
   "outputs": [],
   "source": [
    "len(item_nodes)"
   ]
  },
  {
   "cell_type": "code",
   "execution_count": null,
   "metadata": {
    "colab": {
     "base_uri": "https://localhost:8080/"
    },
    "id": "MkB7qoiVAMST",
    "outputId": "935c1559-8eb1-420a-d4f7-1a7ae6acb65c"
   },
   "outputs": [],
   "source": [
    "len(g.edges())"
   ]
  },
  {
   "cell_type": "code",
   "execution_count": null,
   "metadata": {
    "colab": {
     "base_uri": "https://localhost:8080/"
    },
    "id": "GVvvEr_H7iRW",
    "outputId": "a9ebcfe8-2b72-49a9-e4cb-a8dab87c1cd3"
   },
   "outputs": [],
   "source": [
    "gp.is_directed()"
   ]
  },
  {
   "cell_type": "markdown",
   "metadata": {
    "id": "c8y9l_xAA3mR"
   },
   "source": [
    "### Compute Distributions of Customer and Item Vertex Sets\n",
    "We first create a bi-partite version of the graph in networkx. The earlier graph did not discriminate the type of the node. We do that now using the bi-partite graph abstraction available in networkx."
   ]
  },
  {
   "cell_type": "code",
   "execution_count": null,
   "metadata": {
    "id": "1LHam5ea9Yp9"
   },
   "outputs": [],
   "source": [
    "import networkx as nx\n",
    "B = nx.Graph()\n",
    "B.add_nodes_from(cust_nodes, bipartite=0)\n",
    "B.add_nodes_from(item_nodes, bipartite=1)\n",
    "B.add_edges_from(list(gp.edges()))"
   ]
  },
  {
   "cell_type": "code",
   "execution_count": null,
   "metadata": {
    "id": "fH_e-XSCBzRS"
   },
   "outputs": [],
   "source": [
    "from networkx.algorithms import bipartite\n",
    "degc, degi = bipartite.degrees(B, item_nodes)\n",
    "dc = [v for k,v in degc]\n",
    "di = [v for k,v in degi]"
   ]
  },
  {
   "cell_type": "markdown",
   "metadata": {
    "id": "-ej8UNHSIEJp"
   },
   "source": [
    "#### Customer Degree Distribution"
   ]
  },
  {
   "cell_type": "code",
   "execution_count": null,
   "metadata": {
    "colab": {
     "base_uri": "https://localhost:8080/",
     "height": 605
    },
    "id": "ugD1w94xB_OQ",
    "outputId": "69b949d9-1da4-43f9-eb72-bf709c171f46"
   },
   "outputs": [],
   "source": [
    "import seaborn as sns\n",
    "import matplotlib.pyplot as plt\n",
    "sns.set(rc={'figure.figsize':(11.7,8.27)})\n",
    "ax = sns.distplot(dc, hist = True)\n",
    "plt.title(\"Distribution of Customer Degree \")\n",
    "plt.xlabel(\"Customer Degree\")"
   ]
  },
  {
   "cell_type": "markdown",
   "metadata": {
    "id": "BIxTXFdrIIVU"
   },
   "source": [
    "#### Item Degree Distribution"
   ]
  },
  {
   "cell_type": "code",
   "execution_count": null,
   "metadata": {
    "colab": {
     "base_uri": "https://localhost:8080/",
     "height": 605
    },
    "id": "Ex4Ks2qPCdt_",
    "outputId": "354785a3-8881-4d71-8940-10935af4c934"
   },
   "outputs": [],
   "source": [
    "sns.set(rc={'figure.figsize':(11.7,8.27)})\n",
    "ax = sns.distplot(di, hist = True)\n",
    "plt.title(\"Distribution of Item Degree \")\n",
    "plt.xlabel(\"Item Degree\")"
   ]
  },
  {
   "cell_type": "code",
   "execution_count": null,
   "metadata": {
    "id": "46I1hWd7CmH5"
   },
   "outputs": [],
   "source": [
    "ci = bipartite.clustering(B, item_nodes)"
   ]
  },
  {
   "cell_type": "code",
   "execution_count": null,
   "metadata": {
    "id": "7dwqP9_yFqaM"
   },
   "outputs": [],
   "source": [
    "cv = [v for k, v in ci.items()]"
   ]
  },
  {
   "cell_type": "code",
   "execution_count": null,
   "metadata": {
    "colab": {
     "base_uri": "https://localhost:8080/",
     "height": 605
    },
    "id": "yAL-ZAv9DMrL",
    "outputId": "d56b555a-e266-46cc-d3f2-3673743b6ccd"
   },
   "outputs": [],
   "source": [
    "sns.set(rc={'figure.figsize':(11.7,8.27)})\n",
    "ax = sns.distplot(cv, hist = True)\n",
    "plt.title(\"Distribution of Item Clustering \")\n",
    "plt.xlabel(\"Item Clustering Coefficient\")"
   ]
  },
  {
   "cell_type": "markdown",
   "metadata": {
    "id": "l8LRI6esGY48"
   },
   "source": [
    "### Observations\n",
    "\n",
    "\n",
    "1.   Random networks (Erdos-Renyi) do not display clustering tendencies. An examination of the clustering coefficients associated with the item nodes clearly shows clustering tendencies. Therefore, this elminates a random graph as a possible genrative model for this graph.\n",
    "2.   The degree distribution for the customer and item nodes are non-monotonic as would be observed if either of these nodes show scale-free or power law behavior. In such a case a small set of nodes will act as hubs and have very high degress while most nodes have low degrees. Instead what we observe is that most nodes have similar degrees and a small set of nodes corresponding to both tails have either small or high degrees. This is consistent with _small world networks_ .\n",
    "3. This implies that most customers buy about the same range of items. For example, a review of the item degree graph shows that most items are bought between 25-75 people, but there a few items that are bought by many people and a few items that are not bought by many people.\n",
    "\n"
   ]
  },
  {
   "cell_type": "markdown",
   "metadata": {
    "id": "uDmM8mW6M7Wq"
   },
   "source": [
    "## Projection Graphs\n",
    "The other perspective in characterizing bipartite graphs are the characteristics of the projection graphs. The notion of the projection graph was described in the methodological overview section. We will now generate this projections for the frequent shopper group."
   ]
  },
  {
   "cell_type": "code",
   "execution_count": null,
   "metadata": {
    "id": "OeUcdsHcH08C"
   },
   "outputs": [],
   "source": [
    "cust_graph = nx.bipartite.projected_graph(B, cust_nodes)\n",
    "item_graph = nx.bipartite.projected_graph(B, item_nodes)"
   ]
  },
  {
   "cell_type": "markdown",
   "metadata": {
    "id": "SBApbM4hOF51"
   },
   "source": [
    "### Observations\n",
    "In the customer projection graph, two nodes are connected if they have purchased an item in common. Similarly, in the item projection graph, two items are connected if they have been purchased by a customer. This implies\n",
    "\n",
    "\n",
    "1.   The customer projection graph captures shared customer taste in purchases. If we pick any random node in the customer projection graph, then the users who are connected by an edge to him or her are those who share at least one purchase. A user who does not share an edge with a user is one whose shopping preferences are different. \n",
    "2.   The item projection graph captures copurchased behavior in items. If two items are connected in the item projection graph, it implies that these items were purchased by a customer. If we pick a random item in the item projection graph, following the edges connected to it tells us the items purchased with it. Items not connected to it are not purchased with it.\n",
    "\n",
    "\n"
   ]
  },
  {
   "cell_type": "markdown",
   "metadata": {
    "id": "xiNx2nzIS2K1"
   },
   "source": [
    "#### Degree distribution of Customer Graph"
   ]
  },
  {
   "cell_type": "code",
   "execution_count": null,
   "metadata": {
    "id": "FCKws03BQPRY"
   },
   "outputs": [],
   "source": [
    "dc = nx.degree(cust_graph)\n",
    "dcv = [ v for k, v in dc]"
   ]
  },
  {
   "cell_type": "markdown",
   "metadata": {
    "id": "t96IcTssI9-U"
   },
   "source": [
    "### Max Customer Projection Graph Degree"
   ]
  },
  {
   "cell_type": "code",
   "execution_count": null,
   "metadata": {
    "colab": {
     "base_uri": "https://localhost:8080/"
    },
    "id": "LooPeYSbIfhn",
    "outputId": "749fa3c8-5410-4966-ec53-747fed840d91"
   },
   "outputs": [],
   "source": [
    "max(dcv)"
   ]
  },
  {
   "cell_type": "markdown",
   "metadata": {
    "id": "jw8QNSX_JFQx"
   },
   "source": [
    "### Observation\n",
    "There is a customer whose purchasing habbits match 421 other customers!"
   ]
  },
  {
   "cell_type": "markdown",
   "metadata": {
    "id": "8qzI2UBSJXKM"
   },
   "source": [
    "### Min Customer Projection Graph Degree"
   ]
  },
  {
   "cell_type": "code",
   "execution_count": null,
   "metadata": {
    "colab": {
     "base_uri": "https://localhost:8080/"
    },
    "id": "MHrbrCQoJUAc",
    "outputId": "5fb72489-d90c-4018-e1df-15f2b0205a4b"
   },
   "outputs": [],
   "source": [
    "min(dcv)"
   ]
  },
  {
   "cell_type": "markdown",
   "metadata": {
    "id": "5JB258TYJfWv"
   },
   "source": [
    "### Observation\n",
    "There are customers whose purchasing habbits don't match any of the others in the group. These would be the outliers discussed later."
   ]
  },
  {
   "cell_type": "code",
   "execution_count": null,
   "metadata": {
    "colab": {
     "base_uri": "https://localhost:8080/"
    },
    "id": "YftR8bwmIDrn",
    "outputId": "a48e87b7-c032-4811-94c1-6dbe6aa20f93"
   },
   "outputs": [],
   "source": [
    "import numpy as np\n",
    "np.sum(dcv)/cust_graph.number_of_nodes()"
   ]
  },
  {
   "cell_type": "markdown",
   "metadata": {
    "id": "ZnfKtJ6ZMVw8"
   },
   "source": [
    "Observation\n",
    "On average a user shares taste with 287 other users. A lot of shared taste. We should expect to see cliques in the graph"
   ]
  },
  {
   "cell_type": "code",
   "execution_count": null,
   "metadata": {
    "colab": {
     "base_uri": "https://localhost:8080/",
     "height": 605
    },
    "id": "idJnnF7GTDIL",
    "outputId": "df9c1797-4669-4e0d-998d-10d81ee1e1e4"
   },
   "outputs": [],
   "source": [
    "sns.set(rc={'figure.figsize':(11.7,8.27)})\n",
    "ax = sns.distplot(dcv, hist = True)\n",
    "plt.title(\"Degree distribution of Customer Graph \")\n",
    "plt.xlabel(\"Degree Distribution of Customer Projection Graph\")"
   ]
  },
  {
   "cell_type": "markdown",
   "metadata": {
    "id": "pqWEKW2BVBhk"
   },
   "source": [
    "#### Observation\n",
    "The frequent shopper group has a very high degree of shared taste. If we pick a random user in the graph, he or she is connected to hundreds (the peak density is at around 350) of other users. This implies they have a similar taste in products they purchase."
   ]
  },
  {
   "cell_type": "markdown",
   "metadata": {
    "id": "W_WTaRalULK9"
   },
   "source": [
    "#### Degree Distribution of the Item Projection Graph"
   ]
  },
  {
   "cell_type": "code",
   "execution_count": null,
   "metadata": {
    "id": "t-oZD8dGV7aR"
   },
   "outputs": [],
   "source": [
    "di = nx.degree(item_graph)\n",
    "div = [ v for k, v in di]"
   ]
  },
  {
   "cell_type": "markdown",
   "metadata": {
    "id": "CECIzHNiJtlp"
   },
   "source": [
    "### Max Item Projection Graph Degree"
   ]
  },
  {
   "cell_type": "code",
   "execution_count": null,
   "metadata": {
    "colab": {
     "base_uri": "https://localhost:8080/"
    },
    "id": "wYZciGvOJsuS",
    "outputId": "f9b9b1cc-1cd2-48a5-b0a9-37e8801d0c66"
   },
   "outputs": [],
   "source": [
    "max(div)"
   ]
  },
  {
   "cell_type": "markdown",
   "metadata": {
    "id": "W9nWIcX3KMEU"
   },
   "source": [
    "### Observation\n",
    "There is an item that is bought with 74 of the 75 items"
   ]
  },
  {
   "cell_type": "markdown",
   "metadata": {
    "id": "FJOQ9x26KBbA"
   },
   "source": [
    "### Min Item Projection Graph Degree"
   ]
  },
  {
   "cell_type": "code",
   "execution_count": null,
   "metadata": {
    "colab": {
     "base_uri": "https://localhost:8080/"
    },
    "id": "WJ_Hs-VpKHhX",
    "outputId": "b8a8908a-c7db-4ada-96a4-446dede72c56"
   },
   "outputs": [],
   "source": [
    "min(div)"
   ]
  },
  {
   "cell_type": "markdown",
   "metadata": {
    "id": "6C6HRZ4uJ2oV"
   },
   "source": [
    "### Observation\n",
    "There is an item that is purchased with 66 of the 75 items purchased by the frequent shopper group. This suggests that there is a lot of shared taste in the frequent shopper group since at a minimum an item is purchased with 66 of the 75 inventory items."
   ]
  },
  {
   "cell_type": "code",
   "execution_count": null,
   "metadata": {
    "colab": {
     "base_uri": "https://localhost:8080/",
     "height": 605
    },
    "id": "MVrYtPdaWHdN",
    "outputId": "ad8f4894-4114-4785-c8d9-fc8d769cb70a"
   },
   "outputs": [],
   "source": [
    "sns.set(rc={'figure.figsize':(11.7,8.27)})\n",
    "ax = sns.distplot(div, hist = True)\n",
    "plt.title(\"Degree distribution of Item Projection Graph \")\n",
    "plt.xlabel(\"Degree Distribution of Item Projection Graph\")"
   ]
  },
  {
   "cell_type": "markdown",
   "metadata": {
    "id": "fYK_WhgwYlyC"
   },
   "source": []
  },
  {
   "cell_type": "markdown",
   "metadata": {
    "id": "XWDdjlTSg2an"
   },
   "source": [
    "#### Observation\n",
    "Since the customer and item projection graph are highly interconnected and since we know we are not working with a power law graph, we don't explore degree based centrality measures. Betweenness and Eigenvector centrality have useful interpretations\n"
   ]
  },
  {
   "cell_type": "code",
   "execution_count": null,
   "metadata": {
    "id": "LY01kuUnQjS-"
   },
   "outputs": [],
   "source": [
    "evc_cust = nx.eigenvector_centrality(cust_graph)"
   ]
  },
  {
   "cell_type": "code",
   "execution_count": null,
   "metadata": {
    "id": "I3sB1uBeSLfG"
   },
   "outputs": [],
   "source": [
    "import operator\n",
    "sorted_evc = dict( sorted(evc_cust.items(), key=operator.itemgetter(1),reverse=True))"
   ]
  },
  {
   "cell_type": "code",
   "execution_count": null,
   "metadata": {
    "colab": {
     "base_uri": "https://localhost:8080/"
    },
    "id": "HPdAJZpqSdeH",
    "outputId": "18b2abb5-548e-4bf6-a759-ac2f79d28482"
   },
   "outputs": [],
   "source": [
    "i = 0\n",
    "for k, v in sorted_evc.items():\n",
    "  evcs = \"Customer %s , eigenvalue centrality %.3f\" %(k,v)\n",
    "  print(evcs)\n",
    "  i = i + 1\n",
    "  if i == 10:\n",
    "    break \n"
   ]
  },
  {
   "cell_type": "markdown",
   "metadata": {
    "id": "_8v2L0s6TiQM"
   },
   "source": [
    "Observation: These customers are important because they are connected to customers who make a lot of purchases."
   ]
  },
  {
   "cell_type": "code",
   "execution_count": null,
   "metadata": {
    "id": "XljGWhVCT4OE"
   },
   "outputs": [],
   "source": [
    "bc_cust = nx.betweenness_centrality(cust_graph)"
   ]
  },
  {
   "cell_type": "code",
   "execution_count": null,
   "metadata": {
    "id": "fzan5a4EUMXl"
   },
   "outputs": [],
   "source": [
    "import operator\n",
    "sorted_bc = dict( sorted(bc_cust.items(), key=operator.itemgetter(1),reverse=True))"
   ]
  },
  {
   "cell_type": "code",
   "execution_count": null,
   "metadata": {
    "colab": {
     "base_uri": "https://localhost:8080/"
    },
    "id": "AIFt0ewpUL5y",
    "outputId": "709b8b31-a0f6-4cbc-a476-78ca3ea4ef10"
   },
   "outputs": [],
   "source": [
    "i = 0\n",
    "for k, v in sorted_bc.items():\n",
    "  bcs = \"Customer %s , betweeness centrality %.3f\" %(k,v)\n",
    "  print(bcs)\n",
    "  i = i + 1\n",
    "  if i == 10:\n",
    "    break \n"
   ]
  },
  {
   "cell_type": "markdown",
   "metadata": {
    "id": "xcbEuKNoUiHG"
   },
   "source": [
    "Observation: These customers are important because they figure in the paths connecting customers. If these customers make new purchases, then their network could follow."
   ]
  },
  {
   "cell_type": "code",
   "execution_count": null,
   "metadata": {
    "id": "zAwuYMAxVk9t"
   },
   "outputs": [],
   "source": [
    "evc_item = nx.eigenvector_centrality(item_graph)"
   ]
  },
  {
   "cell_type": "code",
   "execution_count": null,
   "metadata": {
    "id": "Qb4V4pBxVk9t"
   },
   "outputs": [],
   "source": [
    "import operator\n",
    "sorted_evi = dict( sorted(evc_item.items(), key=operator.itemgetter(1),reverse=True))"
   ]
  },
  {
   "cell_type": "code",
   "execution_count": null,
   "metadata": {
    "colab": {
     "base_uri": "https://localhost:8080/"
    },
    "id": "rJ6vB1klVk9t",
    "outputId": "a60e0eb6-7e79-4daa-fcc6-e13c2efdea7d"
   },
   "outputs": [],
   "source": [
    "i = 0\n",
    "for k, v in sorted_evi.items():\n",
    "  evis = \"Item %s , eigenvalue centrality %.3f\" %(k,v)\n",
    "  print(evis)\n",
    "  i = i + 1\n",
    "  if i == 10:\n",
    "    break \n"
   ]
  },
  {
   "cell_type": "markdown",
   "metadata": {
    "id": "_AGM4PG1V9LE"
   },
   "source": [
    "Observation: These items are important because they are connected to items purchased a lot."
   ]
  },
  {
   "cell_type": "code",
   "execution_count": null,
   "metadata": {
    "id": "vbmmzqCQWNkS"
   },
   "outputs": [],
   "source": [
    "bc_item = nx.betweenness_centrality(item_graph)"
   ]
  },
  {
   "cell_type": "code",
   "execution_count": null,
   "metadata": {
    "id": "NHv3k2-fWV7q"
   },
   "outputs": [],
   "source": [
    "import operator\n",
    "sorted_bc = dict( sorted(bc_item.items(), key=operator.itemgetter(1),reverse=True))"
   ]
  },
  {
   "cell_type": "code",
   "execution_count": null,
   "metadata": {
    "colab": {
     "base_uri": "https://localhost:8080/"
    },
    "id": "pEqGdaPrWhgf",
    "outputId": "485d23b7-b752-43b3-b611-1903a8d659a3"
   },
   "outputs": [],
   "source": [
    "i = 0\n",
    "for k, v in sorted_bc.items():\n",
    "  bcs = \"Item %s , betweeness centrality %.6f\" %(k,v)\n",
    "  print(bcs)\n",
    "  i = i + 1\n",
    "  if i == 10:\n",
    "    break "
   ]
  },
  {
   "cell_type": "markdown",
   "metadata": {
    "id": "mlOFAGVuXWEk"
   },
   "source": [
    "Observation: As will be discussed in the section on Network cohesion, there are large cliques in the item projection graph. The notion of betweeness does not offer a useful interpretation with this structure because most items are co-purchased with other items"
   ]
  },
  {
   "cell_type": "markdown",
   "metadata": {
    "id": "4uJA1Nw8fDEE"
   },
   "source": [
    "## Network Cohesion\n",
    "\n",
    "We described the vertex and edge characteristics of the graph representation associated with the frequent shopper group. In doing so, we already discovered that this group is homogeneous with a lot of shared taste. The other perspective to characterize the graph is a description of cohesion. We will do that in this section."
   ]
  },
  {
   "cell_type": "markdown",
   "metadata": {
    "id": "mhRNRlCjka2y"
   },
   "source": [
    "#### Connected Components\n",
    "A fundamental question to determine the answer to is: \"Is the customer projection graph connected?\" This asks if we starting with any user we can reach another user in the projection graph. If we can reach this user in one hop, it means the user shares shopping preference with the user we are starting with. If we need two hops, it means there is no shared taste, but someone who the starting user shares taste with shares taste with this user. Can every customer in the frequent shopper group be related this way? Are there exceptions? We can find the answer by determining the connected components of the customer projection graph. This done below."
   ]
  },
  {
   "cell_type": "markdown",
   "metadata": {
    "id": "qj9lzFgKl5XJ"
   },
   "source": [
    "##### Check if the customer projection graph is connected"
   ]
  },
  {
   "cell_type": "code",
   "execution_count": null,
   "metadata": {
    "colab": {
     "base_uri": "https://localhost:8080/"
    },
    "id": "lNluSqChZpUo",
    "outputId": "12ccd26e-0ed8-45b0-8d97-00ce57b76990"
   },
   "outputs": [],
   "source": [
    "nx.is_connected(cust_graph)"
   ]
  },
  {
   "cell_type": "markdown",
   "metadata": {
    "id": "-NC_kLlXmAUi"
   },
   "source": [
    "#### Idenfify the connected components for the customer projected graph"
   ]
  },
  {
   "cell_type": "code",
   "execution_count": null,
   "metadata": {
    "colab": {
     "base_uri": "https://localhost:8080/"
    },
    "id": "C60iz2mtjm2f",
    "outputId": "a4708a2a-56b0-4f10-8eae-be85962b0597"
   },
   "outputs": [],
   "source": [
    "[len(c) for c in sorted(nx.connected_components(cust_graph), key=len, reverse=True)]"
   ]
  },
  {
   "cell_type": "markdown",
   "metadata": {
    "id": "nXbsN-_z6Zq8"
   },
   "source": [
    "### Store the Customer and Item Projected Graph for Analysis\n",
    "\n",
    "These graphs will be analyzed in the next excercise."
   ]
  },
  {
   "cell_type": "code",
   "execution_count": null,
   "metadata": {
    "colab": {
     "base_uri": "https://localhost:8080/",
     "height": 205
    },
    "id": "NizN3qDacVPP",
    "outputId": "3f93683b-5015-4ac4-ec02-0f251de6632f"
   },
   "outputs": [],
   "source": [
    "df_cgraph_comp1 = nx.to_pandas_edgelist(cust_graph.subgraph(next(nx.connected_components(cust_graph))))\n",
    "fp = \"data/customer_projected_graph.csv\"\n",
    "df_cgraph_comp1.to_csv(fp, index = False)\n",
    "df_cgraph_comp1.head()"
   ]
  },
  {
   "cell_type": "code",
   "execution_count": null,
   "metadata": {
    "colab": {
     "base_uri": "https://localhost:8080/",
     "height": 205
    },
    "id": "Tx4YaryA6F4z",
    "outputId": "67632e5d-d9ac-4815-ef04-94ed4a4146f3"
   },
   "outputs": [],
   "source": [
    "df_item_graph = nx.to_pandas_edgelist(item_graph)\n",
    "fp = \"data/item_projected_graph.csv\"\n",
    "df_item_graph.to_csv(fp, index = False)\n",
    "df_item_graph.head()"
   ]
  },
  {
   "cell_type": "code",
   "execution_count": null,
   "metadata": {
    "id": "r3bkR7UrwKah"
   },
   "outputs": [],
   "source": []
  },
  {
   "cell_type": "markdown",
   "metadata": {
    "id": "P3nFYj8amake"
   },
   "source": [
    "### Observation\n",
    "There is a large group of customers (437) whose shopping tastes are related and a group of ten customers who are outliers. These ten customers have shopping taste that is different from the other group with related taste.\n"
   ]
  },
  {
   "cell_type": "markdown",
   "metadata": {
    "id": "9ni3ZXCZpYBE"
   },
   "source": [
    "#### Check if the item projection graph is connected"
   ]
  },
  {
   "cell_type": "code",
   "execution_count": null,
   "metadata": {
    "colab": {
     "base_uri": "https://localhost:8080/"
    },
    "id": "B15BssLimlk5",
    "outputId": "25073a1d-5c71-4f26-83f3-30356ca8e17c"
   },
   "outputs": [],
   "source": [
    "nx.is_connected(item_graph)"
   ]
  },
  {
   "cell_type": "markdown",
   "metadata": {
    "id": "k6u3cCrkpipf"
   },
   "source": [
    "##### Observation:\n",
    "This implies that item group can be related and there are no outliers like with the customers."
   ]
  },
  {
   "cell_type": "markdown",
   "metadata": {
    "id": "3sX2dkuAVKhz"
   },
   "source": [
    "### K Core \n",
    "Since the item and customer graph have high degrees associated with most nodes, we are likely to find cliques in both these projection graph. A clique is a graph where each node is conneted to the other nodes in the graph. A clique in the customer projection graph represent customers who buy the same items. The size of the clique captures the items they buy in common. Analogously, a clique in the item projection graph represents items that are purchased together. A clique can be identified using a K-Core of the graph. A K-Core of the graph represents a subgraph where the degree of each degree is at least K. To identify the largest clique we will start with the K set to the maximum degree and check if we can find a K core, if we cannot find a clique, we decrement K till we reach a K where a K core is found. The segments below illustrate this process for both the item and customer projection graphs.\n"
   ]
  },
  {
   "cell_type": "code",
   "execution_count": null,
   "metadata": {
    "id": "a4LO5Zjvptur"
   },
   "outputs": [],
   "source": [
    "k = 400\n",
    "while True:\n",
    "  kg = nx.k_core(cust_graph, k)\n",
    "  if kg.number_of_nodes() > 0:\n",
    "    break\n",
    "  else:\n",
    "    k = k -1\n"
   ]
  },
  {
   "cell_type": "code",
   "execution_count": null,
   "metadata": {
    "colab": {
     "base_uri": "https://localhost:8080/"
    },
    "id": "nH6Cd8mvNO6K",
    "outputId": "ead25cb9-3d3f-449f-f587-0af8b526ada0"
   },
   "outputs": [],
   "source": [
    "print(\"Largest clique in customer graph is {} \".format(k))"
   ]
  },
  {
   "cell_type": "markdown",
   "metadata": {
    "id": "eQkhsR23WrTS"
   },
   "source": [
    "### Observation:\n",
    "We can find a group of users where each user is similar to 224 users in terms of purchasing habbits."
   ]
  },
  {
   "cell_type": "code",
   "execution_count": null,
   "metadata": {
    "colab": {
     "base_uri": "https://localhost:8080/"
    },
    "id": "1eC7OcV4Mojt",
    "outputId": "99eb271f-4455-48d0-ffe9-6ba1cd235533"
   },
   "outputs": [],
   "source": [
    "kg.number_of_nodes()"
   ]
  },
  {
   "cell_type": "code",
   "execution_count": null,
   "metadata": {
    "id": "F01gQmRJWI0k"
   },
   "outputs": [],
   "source": [
    "i = 75\n",
    "while True:\n",
    "  kg = nx.k_core(item_graph, i)\n",
    "  if kg.number_of_nodes() > 0:\n",
    "    break\n",
    "  else:\n",
    "    i = i -1"
   ]
  },
  {
   "cell_type": "code",
   "execution_count": null,
   "metadata": {
    "colab": {
     "base_uri": "https://localhost:8080/"
    },
    "id": "DHbIObhkWZzv",
    "outputId": "15f77e4c-8a95-4c1d-905a-a06574549121"
   },
   "outputs": [],
   "source": [
    "print(\"Largest clique in item graph is {} \".format(i))"
   ]
  },
  {
   "cell_type": "markdown",
   "metadata": {
    "id": "K0nMuaWlXEKR"
   },
   "source": [
    "### Observation:\n",
    "We can find a group of 67 items in the store that are purchased together."
   ]
  },
  {
   "cell_type": "markdown",
   "metadata": {
    "id": "ojNPs0cfGGQ_"
   },
   "source": [
    "## Summary of Identified Facts"
   ]
  },
  {
   "cell_type": "markdown",
   "metadata": {
    "id": "iUzzS0inAFdY"
   },
   "source": [
    "\n",
    "\n",
    "*   The customer and item degree distributions show non-monotonic behavior. Most nodes have similar degrees. A small group of nodes have high and low degrees. This is suggestive of small world behavior. If the degree distributions showed a monotonic character with a small number of nodes having high degrees (hubs) with others having smaller degrees, that would suggest a power law network. Since we observe clustering tendencies in the graph we know that the graphs are not random graphs (which have no clustering tendencies).\n",
    "*   The customer and item projection graphs represent shared shopping taste and co-purchasing behavior. Shared taste implies users buy similar items. Copurchasing behavior captures items that are purchased together. Both of these behaviors are critical information to the business.\n",
    "*  Users adjacent to a customer in the customer projection graph are the users with similar to the user.\n",
    "* Users non-adjacent (more than one hop away) are disimilar to the user.\n",
    "* Items adjacent to an item in the item projection graph are the items co-purchased with the items.\n",
    "* Items not adjacent (more than one hop away) are not purchased with the item.\n",
    "* Diameter of the user projection graph identifies the most disimilar users in terms of taste.\n",
    "* Diameter of the item graph identifies items that are most unlikely to be purchased together.\n",
    "* There are a group of 10 customers with unique tastes. They are the outliers in the customer group.\n",
    "* Most nodes in the customer and item projection graph have high degrees. This implies that these graphs have cliques.\n",
    "* Cliques in the customer graph identify cohorts of customers with shared taste. The clique size can be used to specify the shared taste.\n",
    "* Cliques in the item projection identify cohorts of items purchased together. The clique size can be used to quantify the co-purchasing behavior\n"
   ]
  },
  {
   "cell_type": "markdown",
   "metadata": {
    "id": "MqQLri5S6our"
   },
   "source": [
    "## Log the Modeling Activity in Arangopipe"
   ]
  },
  {
   "cell_type": "code",
   "execution_count": null,
   "metadata": {
    "id": "EQRvMwxqXXZO"
   },
   "outputs": [],
   "source": [
    "ds_info = {\"name\" : \"Frequent_Customer_Graph\",\\\n",
    "            \"description\": \"Frequent Customer Graph of Retail Dataset\",\\\n",
    "           \"source\": \"ArangoDB dump of Retail from Notebook II\" }\n",
    "ds_reg = ap.register_dataset(ds_info)"
   ]
  },
  {
   "cell_type": "code",
   "execution_count": null,
   "metadata": {
    "id": "bnB4djrbX6HS"
   },
   "outputs": [],
   "source": [
    "\n",
    "featureset = {\"name\": \"Features are attributes of the nodes\"}\n",
    "fs_reg = ap.register_featureset(featureset, ds_reg[\"_key\"]) "
   ]
  },
  {
   "cell_type": "code",
   "execution_count": null,
   "metadata": {
    "id": "Xgk7np5mY1_E"
   },
   "outputs": [],
   "source": [
    "import io\n",
    "import requests\n",
    "url = ('https://raw.githubusercontent.com/arangodb/interactive_tutorials/master/notebooks/Graph_Retail_Descriptive_Analytics.ipynb')\n",
    "nbjson = requests.get(url).text"
   ]
  },
  {
   "cell_type": "code",
   "execution_count": null,
   "metadata": {
    "id": "qp2QFmL_ZNcQ"
   },
   "outputs": [],
   "source": [
    "\n",
    "model_info = {\"name\": \"Descriptive Analytics for Frequent Customers\",  \"task\": \"Exploratory Data Analysis\", 'notebook': nbjson}\n",
    "model_reg = ap.register_model(model_info, project = \"Retail_Graph_Analytics\")"
   ]
  },
  {
   "cell_type": "code",
   "execution_count": null,
   "metadata": {
    "id": "2SqQmvicWe2T"
   },
   "outputs": [],
   "source": [
    "import uuid\n",
    "import datetime\n",
    "#import jsonpickle\n",
    "\n",
    "ruuid = str(uuid.uuid4().int)\n",
    "model_perf = {'run_id': ruuid, \"timestamp\": str(datetime.datetime.now())}\n",
    "\n",
    "#mp = jsonpickle.encode(mp)\n",
    "model_params = {'run_id': ruuid, 'model_params': 'Not Applicable'}\n",
    "\n",
    "run_info = {\"dataset\" : ds_reg[\"_key\"],\\\n",
    "                    \"featureset\": fs_reg[\"_key\"],\\\n",
    "                    \"run_id\": ruuid,\\\n",
    "                    \"model\": model_reg[\"_key\"],\\\n",
    "                    \"model-params\": model_params,\\\n",
    "                    \"model-perf\": model_perf,\\\n",
    "                    \"tag\": \"Retail Descriptive Analytics Notebook\",\\\n",
    "                    \"project\": \"Retail_Graph_Analytics\"}\n",
    "ap.log_run(run_info)"
   ]
  },
  {
   "cell_type": "code",
   "execution_count": null,
   "metadata": {
    "colab": {
     "base_uri": "https://localhost:8080/"
    },
    "id": "ACAGjdDFryRg",
    "outputId": "5b22ca60-7b85-4d3e-a5a1-42be1a2c12c1"
   },
   "outputs": [],
   "source": [
    "!./tools/arangodump  -c none --server.endpoint http+ssl://{login[\"DB_service_host\"]}:{login[\"DB_service_port\"]} --server.username {login[\"username\"]} --server.database {login[\"dbName\"]} --server.password {login[\"password\"]} --overwrite true --output-directory \"data/retail_freq_cust_data_dump_eonb3\""
   ]
  }
 ],
 "metadata": {
  "colab": {
   "collapsed_sections": [],
   "name": "Graph_Retail_DA_I.ipynb",
   "provenance": []
  },
  "kernelspec": {
   "display_name": "Python 3",
   "language": "python",
   "name": "python3"
  },
  "language_info": {
   "codemirror_mode": {
    "name": "ipython",
    "version": 3
   },
   "file_extension": ".py",
   "mimetype": "text/x-python",
   "name": "python",
   "nbconvert_exporter": "python",
   "pygments_lexer": "ipython3",
   "version": "3.7.6"
  }
 },
 "nbformat": 4,
 "nbformat_minor": 1
}
