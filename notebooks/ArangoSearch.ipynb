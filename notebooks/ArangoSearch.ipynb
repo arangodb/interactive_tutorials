{
  "nbformat": 4,
  "nbformat_minor": 0,
  "metadata": {
    "colab": {
      "name": "ArangoSearch.ipynb",
      "provenance": [],
      "include_colab_link": true
    },
    "kernelspec": {
      "display_name": "Python 3",
      "language": "python",
      "name": "python3"
    },
    "language_info": {
      "codemirror_mode": {
        "name": "ipython",
        "version": 3
      },
      "file_extension": ".py",
      "mimetype": "text/x-python",
      "name": "python",
      "nbconvert_exporter": "python",
      "pygments_lexer": "ipython3",
      "version": "3.7.7"
    }
  },
  "cells": [
    {
      "cell_type": "markdown",
      "metadata": {
        "id": "view-in-github",
        "colab_type": "text"
      },
      "source": [
        "<a href=\"https://colab.research.google.com/github/arangodb/interactive_tutorials/blob/master/notebooks/ArangoSearch.ipynb\" target=\"_parent\"><img src=\"https://colab.research.google.com/assets/colab-badge.svg\" alt=\"Open In Colab\"/></a>"
      ]
    },
    {
      "cell_type": "markdown",
      "metadata": {
        "id": "fKik2BSQ4IOJ"
      },
      "source": [
        "![arangodb](https://github.com/arangodb/interactive_tutorials/blob/master/notebooks/img/ArangoDB_logo.png?raw=1)"
      ]
    },
    {
      "cell_type": "markdown",
      "metadata": {
        "id": "LBYhytTU4ION"
      },
      "source": [
        "# ArangoSearch"
      ]
    },
    {
      "cell_type": "markdown",
      "metadata": {
        "id": "v2OCIE_74ION"
      },
      "source": [
        "<a href=\"https://colab.research.google.com/github/arangodb/interactive_tutorials/blob/master/notebooks/ArangoSearch.ipynb\" target=\"_parent\"><img src=\"https://colab.research.google.com/assets/colab-badge.svg\" alt=\"Open In Colab\"/></a>"
      ]
    },
    {
      "cell_type": "markdown",
      "metadata": {
        "id": "tTR5-HPo4ION"
      },
      "source": [
        "ArangoSearch provides information retrieval features, natively integrated into ArangoDB’s query language and with support for all data models. It is primarily a full-text search engine, a much more powerful alternative to the full-text index type.\n",
        "\n",
        "ArangoSearch introduces the concept of Views which can be seen as virtual collections. Each View represents an inverted index to provide fast full-text searching over one or multiple linked collections and holds the configuration for the search capabilities, such as the attributes to index. It can cover multiple or even all attributes of the documents in the linked collections. Search results can be sorted by their similarity ranking to return the best matches first using popular scoring algorithms.\n",
        "\n",
        "Configurable Analyzers are available for text processing, such as for tokenization, language-specific word stemming, case conversion, removal of diacritical marks (accents) from characters and more. Analyzers can be used standalone or in combination with Views for sophisticated searching."
      ]
    },
    {
      "cell_type": "markdown",
      "metadata": {
        "id": "VDrE8grr4IOO"
      },
      "source": [
        "# Setup "
      ]
    },
    {
      "cell_type": "markdown",
      "metadata": {
        "id": "NrPBC6CQ4IOO"
      },
      "source": [
        "Before getting started with ArangoSearch we need to prepare our environment and create a temporary database on ArangoDB's managed Service Oasis."
      ]
    },
    {
      "cell_type": "code",
      "metadata": {
        "id": "7N1fi3ue4IOO"
      },
      "source": [
        "%%capture\n",
        "!git clone -b oasis_connector --single-branch https://github.com/arangodb/interactive_tutorials.git\n",
        "!rsync -av interactive_tutorials/ ./ --exclude=.git\n",
        "!chmod -R 755 ./tools\n",
        "!git clone -b imdb_complete --single-branch https://github.com/arangodb/interactive_tutorials.git imdb_complete\n",
        "!rsync -av imdb_complete/data/imdb_dump/ ./imdb_dump/\n",
        "!pip3 install pyarango\n",
        "!pip3 install \"python-arango>=5.0\""
      ],
      "execution_count": null,
      "outputs": []
    },
    {
      "cell_type": "code",
      "metadata": {
        "id": "EYy2Y43N4IOP"
      },
      "source": [
        "import json\n",
        "import requests\n",
        "import sys\n",
        "import oasis\n",
        "import time\n",
        "\n",
        "from pyArango.connection import *\n",
        "from arango import ArangoClient"
      ],
      "execution_count": null,
      "outputs": []
    },
    {
      "cell_type": "markdown",
      "metadata": {
        "id": "DS0bpCen4IOP"
      },
      "source": [
        "Create the temporary database:"
      ]
    },
    {
      "cell_type": "code",
      "metadata": {
        "id": "JJlNlx014IOP"
      },
      "source": [
        "# Retrieve tmp credentials from ArangoDB Tutorial Service\n",
        "login = oasis.getTempCredentials('ArangoSearchIMDBTutorial', credentialProvider='https://tutorials.arangodb.cloud:8529/_db/_system/tutorialDB/tutorialDB')\n",
        "\n",
        "# Connect to the temp database\n",
        "# Please note that we use the python-arango driver as it has better support for ArangoSearch \n",
        "database = oasis.connect_python_arango(login)"
      ],
      "execution_count": null,
      "outputs": []
    },
    {
      "cell_type": "code",
      "metadata": {
        "id": "vlnZ59Gg4IOP"
      },
      "source": [
        "print(\"https://\"+login[\"hostname\"]+\":\"+str(login[\"port\"]))\n",
        "print(\"Username: \" + login[\"username\"])\n",
        "print(\"Password: \" + login[\"password\"])\n",
        "print(\"Database: \" + login[\"dbName\"])"
      ],
      "execution_count": null,
      "outputs": []
    },
    {
      "cell_type": "markdown",
      "metadata": {
        "id": "jcOufSjI4IOP"
      },
      "source": [
        "Feel free to use to above URL to checkout the WebUI!"
      ]
    },
    {
      "cell_type": "markdown",
      "metadata": {
        "id": "RiWekvIk4IOQ"
      },
      "source": [
        "##  IMDB Example Dataset"
      ]
    },
    {
      "cell_type": "markdown",
      "metadata": {
        "id": "1LKuibSE4IOQ"
      },
      "source": [
        "![imdb](https://github.com/arangodb/interactive_tutorials/blob/master/notebooks/img/IMDB_graph.png?raw=1)"
      ]
    },
    {
      "cell_type": "markdown",
      "metadata": {
        "id": "_DLSakpo4IOQ"
      },
      "source": [
        "Last, but not least we will import the [IMBD Example Dataset](https://github.com/arangodb/example-datasets/tree/master/Graphs/IMDB) including information about various movies, actors, directors, ... as a graph. \n",
        "*Note the included arangorestore will only work on Linux or Windows systems, if you want to run this notebook on a different OS please consider using the appropriate arangorestore from the [Download area](https://www.arangodb.com/download-major/)."
      ]
    },
    {
      "cell_type": "markdown",
      "metadata": {
        "id": "1tyBw8xh4IOQ"
      },
      "source": [
        "## Linux:"
      ]
    },
    {
      "cell_type": "code",
      "metadata": {
        "id": "6m6ol2w-4IOQ"
      },
      "source": [
        "!./tools/arangorestore -c none --server.endpoint http+ssl://{login[\"hostname\"]}:{login[\"port\"]} --server.username {login[\"username\"]} --server.database {login[\"dbName\"]} --server.password {login[\"password\"]} --default-replication-factor 3  --input-directory \"imdb_dump\""
      ],
      "execution_count": null,
      "outputs": []
    },
    {
      "cell_type": "markdown",
      "metadata": {
        "id": "UkVrfGN64IOQ"
      },
      "source": [
        "# Create First View"
      ]
    },
    {
      "cell_type": "markdown",
      "metadata": {
        "id": "EJ1quve04IOR"
      },
      "source": [
        "As discussed above, an ArangoSearch view contains references to documents stored in different collections. \n",
        "This makes it possible to perform complex federated searches, even over a complete graph including vertex and edge collections."
      ]
    },
    {
      "cell_type": "code",
      "metadata": {
        "id": "sxwCoscT4IOR"
      },
      "source": [
        "# Create an ArangoSearch view.\n",
        "database.create_arangosearch_view(\n",
        "    name='v_imdb'\n",
        ")"
      ],
      "execution_count": null,
      "outputs": []
    },
    {
      "cell_type": "markdown",
      "metadata": {
        "id": "Ci0dGqDV4IOR"
      },
      "source": [
        "Let us check it is actually there:"
      ]
    },
    {
      "cell_type": "code",
      "metadata": {
        "id": "IMG4B9y24IOR"
      },
      "source": [
        "print(database[\"v_imdb\"])"
      ],
      "execution_count": null,
      "outputs": []
    },
    {
      "cell_type": "markdown",
      "metadata": {
        "id": "tHODt42A4IOR"
      },
      "source": [
        "As of now this view is empty, so we need to link it to a collection (i.e., imdb_vertices)."
      ]
    },
    {
      "cell_type": "code",
      "metadata": {
        "id": "PO3qIryj4IOR"
      },
      "source": [
        " link = { \n",
        "  \"includeAllFields\": True,\n",
        "  \"fields\" : { \"description\" : { \"analyzers\" : [ \"text_en\" ] } }\n",
        "}\n",
        "\n",
        "database.update_arangosearch_view(\n",
        "    name='v_imdb',\n",
        "    properties={'links': { 'imdb_vertices': link }}\n",
        ")"
      ],
      "execution_count": null,
      "outputs": []
    },
    {
      "cell_type": "markdown",
      "metadata": {
        "id": "zAP3Hsf84IOR"
      },
      "source": [
        "As the indexing might take a few seconds, let us have a brief look at what is actually going on."
      ]
    },
    {
      "cell_type": "markdown",
      "metadata": {
        "id": "BZUve-dM4IOS"
      },
      "source": [
        "![ArangoSearch](https://github.com/arangodb/interactive_tutorials/blob/master/notebooks/img/ArangoSearch_Arch.jpg?raw=1)"
      ]
    },
    {
      "cell_type": "markdown",
      "metadata": {
        "id": "VGAXWNT64IOS"
      },
      "source": [
        "In order to fill the View using the specified analyzer, (`\"analyzers\" : [ \"text_en\" ]`) in our case, analyzers parse input values and transform them into sets of sub-values. For example, by breaking up text into words with language specific tokenization and stemming.\n",
        "Let us check how the `text_en` Analyzer tranforms an input into tokens:"
      ]
    },
    {
      "cell_type": "code",
      "metadata": {
        "id": "QtfMIakG4IOS"
      },
      "source": [
        "cursor = database.aql.execute(\n",
        "  'RETURN TOKENS(\"I like ArangoDB because it rocks!\", \"text_en\")'\n",
        ")\n",
        "# Iterate through the result cursor\n",
        "for doc in cursor:\n",
        "  print(doc)"
      ],
      "execution_count": null,
      "outputs": []
    },
    {
      "cell_type": "markdown",
      "metadata": {
        "id": "T7VBLAcR4IOS"
      },
      "source": [
        "By now our view should be ready, so let us issue the first query and look for short Drama Movies."
      ]
    },
    {
      "cell_type": "code",
      "metadata": {
        "id": "PV8RXHxB4IOS"
      },
      "source": [
        "\n",
        "cursor = database.aql.execute(\n",
        "    \"\"\"\n",
        "    FOR d IN v_imdb SEARCH d.type == \"Movie\" AND d.genres == \"['Drama']\" AND d.runtime IN 10..50 RETURN d.title\n",
        "    \"\"\"\n",
        "\n",
        ")\n",
        "# Iterate through the result cursor\n",
        "for doc in cursor:\n",
        "  print(doc)"
      ],
      "execution_count": null,
      "outputs": []
    },
    {
      "cell_type": "markdown",
      "metadata": {
        "id": "_65bSaqr4IOS"
      },
      "source": [
        "At this point you might wonder whether you could have achieved the same results with a simple AQL Filter"
      ]
    },
    {
      "cell_type": "code",
      "metadata": {
        "id": "J0-9y3664IOS"
      },
      "source": [
        "cursor = database.aql.execute(\n",
        "  \"\"\"FOR d IN v_imdb FILTER d.type == \"Movie\" AND d.genres == \"['Drama']\" AND d.runtime IN 10..50 RETURN d.title\"\"\"\n",
        ")\n",
        "# Iterate through the result cursor\n",
        "for doc in cursor:\n",
        "  print(doc)"
      ],
      "execution_count": null,
      "outputs": []
    },
    {
      "cell_type": "markdown",
      "metadata": {
        "id": "NVlKd4MS4IOS"
      },
      "source": [
        "The difference between both queries is that the `SEARCH` query is using the previosuly created view whereas the 'FILTER' query has to perform post-processing on the entire result set.\n",
        "Furthermore, `SEARCH` queries allow us to do other cool things, which we will explore next."
      ]
    },
    {
      "cell_type": "markdown",
      "metadata": {
        "id": "o0VR1TdK4IOT"
      },
      "source": [
        "In the next example we retrieve all movies mentioning “Star wars” in the description."
      ]
    },
    {
      "cell_type": "code",
      "metadata": {
        "id": "-j1rD0ie4IOT"
      },
      "source": [
        "cursor = database.aql.execute(\n",
        "\"\"\"FOR d IN v_imdb \n",
        "SEARCH PHRASE(d.description, \"Star wars\", \"text_en\") \n",
        "RETURN {title:d.title, description: d.description}\"\"\"\n",
        ")\n",
        "# Iterate through the result cursor\n",
        "for doc in cursor:\n",
        "  print(doc)"
      ],
      "execution_count": null,
      "outputs": []
    },
    {
      "cell_type": "markdown",
      "metadata": {
        "id": "I8PAgUCF4IOT"
      },
      "source": [
        "## Proximity Search"
      ]
    },
    {
      "cell_type": "markdown",
      "metadata": {
        "id": "uyuIqcya4IOT"
      },
      "source": [
        "Proximity searching is a way to search for two or more words that occur within a certain number of words from each other.\n",
        "In the next example, we are looking for the word sequence \"in <any word> galaxy\" in the description of a movie.\n",
        "Feel free to try other values!"
      ]
    },
    {
      "cell_type": "code",
      "metadata": {
        "id": "QbMMzrKk4IOU"
      },
      "source": [
        "# Execute the query\n",
        "cursor = database.aql.execute(\n",
        "  'FOR d IN v_imdb SEARCH PHRASE(d.description, \"in\", 1, \"galaxy\", \"text_en\") RETURN {title:d.title, description: d.description}'\n",
        ")\n",
        "# Iterate through the result cursor\n",
        "for doc in cursor:\n",
        "  print(doc)"
      ],
      "execution_count": null,
      "outputs": []
    },
    {
      "cell_type": "markdown",
      "metadata": {
        "id": "4L82-Qxx4IOU"
      },
      "source": [
        "## Ranking and Document Relevance"
      ]
    },
    {
      "cell_type": "markdown",
      "metadata": {
        "id": "j-GWVWUO4IOU"
      },
      "source": [
        "Great, now we can identify documents containing a specific phrase,\n",
        "but especially with large document bases we need to be able to rank documents based on the their relevance.\n",
        "ArangoSearch supports the following two schemes:\n",
        "\n",
        "* [Okapi BM25](https://en.wikipedia.org/wiki/Okapi_BM25)\n",
        "\n",
        "* [TFIDF](https://en.wikipedia.org/wiki/Tf%E2%80%93idf)\n",
        "\n",
        "You can learn more about ranking in the [documentation](https://www.arangodb.com/docs/3.6/aql/functions-arangosearch.html#scoring-functions)."
      ]
    },
    {
      "cell_type": "markdown",
      "metadata": {
        "id": "kdmCNsPi4IOU"
      },
      "source": [
        "So let us find movies with the following key-words: “amazing, action, world, alien, sci-fi, science, documental, galaxy”"
      ]
    },
    {
      "cell_type": "code",
      "metadata": {
        "id": "KclPzCVa4IOU"
      },
      "source": [
        "cursor = database.aql.execute(\n",
        "  \"\"\"FOR d IN v_imdb \n",
        "  SEARCH ANALYZER(d.description IN TOKENS('amazing action world alien sci-fi science documental galaxy', 'text_en'), 'text_en') \n",
        "  SORT BM25(d) DESC \n",
        "  LIMIT 10 \n",
        "  RETURN {\"title\": d.title, \"description\" : d.description}\"\"\"\n",
        ")\n",
        "# Iterate through the result cursor\n",
        "for doc in cursor:\n",
        "  print(doc)"
      ],
      "execution_count": null,
      "outputs": []
    },
    {
      "cell_type": "markdown",
      "metadata": {
        "id": "0YMRVro34IOU"
      },
      "source": [
        "Another crucial point of ArangoSearch is the ability to fine-tune document scores evaluated by relevance models at query time. That functionality is exposed in AQL via the BOOST function.\n",
        "So let us tweak our previous query to prefer “galaxy” amongst the others keywords."
      ]
    },
    {
      "cell_type": "code",
      "metadata": {
        "id": "e9v2CxoO4IOU"
      },
      "source": [
        "cursor = database.aql.execute(\n",
        "\"\"\"FOR d IN v_imdb \n",
        "   SEARCH ANALYZER(d.description IN TOKENS('amazing action world alien sci-fi science documental', 'text_en') ||\n",
        "   BOOST(d.description IN TOKENS('galaxy', 'text_en'), 5), 'text_en') \n",
        "   SORT BM25(d) DESC \n",
        "   LIMIT 10 \n",
        "   RETURN {\"title\": d.title, \"description\" : d.description}\"\"\"\n",
        ")\n",
        "# Iterate through the result cursor\n",
        "for doc in cursor:\n",
        "  print(doc)"
      ],
      "execution_count": null,
      "outputs": []
    },
    {
      "cell_type": "markdown",
      "metadata": {
        "id": "j4rqJFG-4IOV"
      },
      "source": [
        "## ArangoSearch Meets Graph"
      ]
    },
    {
      "cell_type": "markdown",
      "metadata": {
        "id": "0L0XR9dL4IOV"
      },
      "source": [
        "One of the coolest features of ArangoDB, being a multi-model database, is that we can combine different data-model and query capabilities.\n",
        "So, for example, we can easily combine ArangoSearch with a Graph traversal. Recall that our imdb dataset is a graph with edges connecting \n",
        "the movies we have been looking at to their respective actors, genres, or directors. Let us explore this and look up the director for each each of the Sci-fi movies above."
      ]
    },
    {
      "cell_type": "code",
      "metadata": {
        "id": "J8G3g3ga4IOV"
      },
      "source": [
        "cursor = database.aql.execute(\n",
        "\"\"\"\n",
        "FOR d IN v_imdb \n",
        "   SEARCH ANALYZER(d.description IN TOKENS('amazing action world alien sci-fi science documental', 'text_en') ||\n",
        "    BOOST(d.description IN TOKENS('galaxy', 'text_en'), 5), 'text_en') \n",
        "   SORT BM25(d) DESC \n",
        "   LIMIT 10 \n",
        "     FOR vertex, edge, path IN 1..1 INBOUND d imdb_edges\n",
        "     FILTER path.edges[0].$label == \"DIRECTED\"\n",
        "     RETURN DISTINCT {\"director\" : vertex.name, \"movie\" : d.title} \n",
        "\"\"\"\n",
        ")\n",
        "# Iterate through the result cursor\n",
        "for doc in cursor:\n",
        "  print(doc)"
      ],
      "execution_count": null,
      "outputs": []
    },
    {
      "cell_type": "markdown",
      "metadata": {
        "id": "zvVwi8914IOV"
      },
      "source": [
        "# Further Links"
      ]
    },
    {
      "cell_type": "markdown",
      "metadata": {
        "id": "c3CoVeZd4IOV"
      },
      "source": [
        "* https://www.arangodb.com/docs/stable/arangosearch.html\n",
        "\n",
        "* https://www.arangodb.com/arangodb-training-center/search/arangosearch/"
      ]
    }
  ]
}