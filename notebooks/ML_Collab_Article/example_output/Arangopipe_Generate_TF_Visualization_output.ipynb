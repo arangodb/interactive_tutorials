{
  "nbformat": 4,
  "nbformat_minor": 0,
  "metadata": {
    "colab": {
      "name": "Arangopipe_Generate_TF_Visualization_output.ipynb",
      "provenance": [],
      "collapsed_sections": [],
      "toc_visible": true
    },
    "kernelspec": {
      "display_name": "Python 3",
      "name": "python3"
    }
  },
  "cells": [
    {
      "cell_type": "markdown",
      "metadata": {
        "id": "G5lghETgAEXQ"
      },
      "source": [
        "<a href=\"https://colab.research.google.com/github/arangodb/interactive_tutorials/blob/master/notebooks/ML_Collab_Article/example_output/Arangopipe_Generate_TF_Visualization_output.ipynb\" target=\"_parent\"><img src=\"https://colab.research.google.com/assets/colab-badge.svg\" alt=\"Open In Colab\"/></a>"
      ]
    },
    {
      "cell_type": "markdown",
      "metadata": {
        "id": "jYH6vO7Shb4c"
      },
      "source": [
        "<font color='red'>THIS NOTEBOOK IS FROM THE ARANGOML MULTI-MODEL COLLABORATION ARTICLE. PLEASE REFER TO THAT ARTICLE FOR FURTHER CONTEXT [HERE](https://www.arangodb.com/2021/01/arangoml-series-multi-model-collaboration/).</font>"
      ]
    },
    {
      "cell_type": "markdown",
      "metadata": {
        "id": "LIoh09j0rslE"
      },
      "source": [
        "## Generating Data Visualization with TFX data validation"
      ]
    },
    {
      "cell_type": "markdown",
      "metadata": {
        "id": "3PFeOR52r3JP"
      },
      "source": [
        "Install pre-requisite libraries"
      ]
    },
    {
      "cell_type": "code",
      "metadata": {
        "id": "i7uMdo_lXWN2"
      },
      "source": [
        "%%capture\n",
        "!pip install python-arango\n",
        "!pip install arangopipe==0.0.70.0.0\n",
        "!pip install pandas PyYAML==5.1.1 sklearn2\n",
        "!pip install jsonpickle\n",
        "!pip install tensorflow==2.2.0\n",
        "# Install TensorFlow\n",
        "try:\n",
        "  # %tensorflow_version only exists in Colab.\n",
        "  %tensorflow_version 2.x\n",
        "except Exception:\n",
        "  pass\n",
        "\n",
        "print('Installing TensorFlow Data Validation')\n",
        "!pip install -q tensorflow_data_validation[visualization]"
      ],
      "execution_count": 1,
      "outputs": []
    },
    {
      "cell_type": "code",
      "metadata": {
        "id": "U-v9EJfJAuTP"
      },
      "source": [
        "# Must restart runtime for tensorflow_data_validation due to how Colab installs packages.\n",
        "# You will need to resume running the code blocks below. \n",
        "# To resume onced exited, click into the next cell and then CTRL+F10.\n",
        "exit()"
      ],
      "execution_count": 2,
      "outputs": []
    },
    {
      "cell_type": "markdown",
      "metadata": {
        "id": "_C3OJKQWr9zB"
      },
      "source": [
        "## Retrieve the Dataset"
      ]
    },
    {
      "cell_type": "code",
      "metadata": {
        "colab": {
          "base_uri": "https://localhost:8080/"
        },
        "id": "iWORVfz8YgVn",
        "outputId": "072e763a-5f6f-4a0c-a794-278a638a2633"
      },
      "source": [
        "import pandas as pd\n",
        "import os\n",
        "import tensorflow as tf\n",
        "import tensorflow_data_validation as tfdv\n",
        "print('TFDV version: {}'.format(tfdv.version.__version__))"
      ],
      "execution_count": 1,
      "outputs": [
        {
          "output_type": "stream",
          "text": [
            "TFDV version: 0.26.0\n"
          ],
          "name": "stdout"
        }
      ]
    },
    {
      "cell_type": "code",
      "metadata": {
        "colab": {
          "base_uri": "https://localhost:8080/",
          "height": 204
        },
        "id": "WyGkHQcfAkoX",
        "outputId": "0bfc83b2-57c4-4df8-819f-1823c8768c1f"
      },
      "source": [
        "data_url = \"https://raw.githubusercontent.com/arangoml/arangopipe/arangopipe_examples/examples/data/cal_housing.csv\"\n",
        "df = pd.read_csv(data_url, error_bad_lines=False)\n",
        "\n",
        "df.head() #prints the first 5 rows of data with headers"
      ],
      "execution_count": 2,
      "outputs": [
        {
          "output_type": "execute_result",
          "data": {
            "text/html": [
              "<div>\n",
              "<style scoped>\n",
              "    .dataframe tbody tr th:only-of-type {\n",
              "        vertical-align: middle;\n",
              "    }\n",
              "\n",
              "    .dataframe tbody tr th {\n",
              "        vertical-align: top;\n",
              "    }\n",
              "\n",
              "    .dataframe thead th {\n",
              "        text-align: right;\n",
              "    }\n",
              "</style>\n",
              "<table border=\"1\" class=\"dataframe\">\n",
              "  <thead>\n",
              "    <tr style=\"text-align: right;\">\n",
              "      <th></th>\n",
              "      <th>lat</th>\n",
              "      <th>long</th>\n",
              "      <th>housingMedAge</th>\n",
              "      <th>totalRooms</th>\n",
              "      <th>totalBedrooms</th>\n",
              "      <th>population</th>\n",
              "      <th>households</th>\n",
              "      <th>medianIncome</th>\n",
              "      <th>medianHouseValue</th>\n",
              "    </tr>\n",
              "  </thead>\n",
              "  <tbody>\n",
              "    <tr>\n",
              "      <th>0</th>\n",
              "      <td>-122.22</td>\n",
              "      <td>37.86</td>\n",
              "      <td>21</td>\n",
              "      <td>7099</td>\n",
              "      <td>1106</td>\n",
              "      <td>2401</td>\n",
              "      <td>1138</td>\n",
              "      <td>8.3014</td>\n",
              "      <td>358500.0</td>\n",
              "    </tr>\n",
              "    <tr>\n",
              "      <th>1</th>\n",
              "      <td>-122.24</td>\n",
              "      <td>37.85</td>\n",
              "      <td>52</td>\n",
              "      <td>1467</td>\n",
              "      <td>190</td>\n",
              "      <td>496</td>\n",
              "      <td>177</td>\n",
              "      <td>7.2574</td>\n",
              "      <td>352100.0</td>\n",
              "    </tr>\n",
              "    <tr>\n",
              "      <th>2</th>\n",
              "      <td>-122.25</td>\n",
              "      <td>37.85</td>\n",
              "      <td>52</td>\n",
              "      <td>1274</td>\n",
              "      <td>235</td>\n",
              "      <td>558</td>\n",
              "      <td>219</td>\n",
              "      <td>5.6431</td>\n",
              "      <td>341300.0</td>\n",
              "    </tr>\n",
              "    <tr>\n",
              "      <th>3</th>\n",
              "      <td>-122.25</td>\n",
              "      <td>37.85</td>\n",
              "      <td>52</td>\n",
              "      <td>1627</td>\n",
              "      <td>280</td>\n",
              "      <td>565</td>\n",
              "      <td>259</td>\n",
              "      <td>3.8462</td>\n",
              "      <td>342200.0</td>\n",
              "    </tr>\n",
              "    <tr>\n",
              "      <th>4</th>\n",
              "      <td>-122.25</td>\n",
              "      <td>37.85</td>\n",
              "      <td>52</td>\n",
              "      <td>919</td>\n",
              "      <td>213</td>\n",
              "      <td>413</td>\n",
              "      <td>193</td>\n",
              "      <td>4.0368</td>\n",
              "      <td>269700.0</td>\n",
              "    </tr>\n",
              "  </tbody>\n",
              "</table>\n",
              "</div>"
            ],
            "text/plain": [
              "      lat   long  housingMedAge  ...  households  medianIncome  medianHouseValue\n",
              "0 -122.22  37.86             21  ...        1138        8.3014          358500.0\n",
              "1 -122.24  37.85             52  ...         177        7.2574          352100.0\n",
              "2 -122.25  37.85             52  ...         219        5.6431          341300.0\n",
              "3 -122.25  37.85             52  ...         259        3.8462          342200.0\n",
              "4 -122.25  37.85             52  ...         193        4.0368          269700.0\n",
              "\n",
              "[5 rows x 9 columns]"
            ]
          },
          "metadata": {
            "tags": []
          },
          "execution_count": 2
        }
      ]
    },
    {
      "cell_type": "code",
      "metadata": {
        "id": "Qb-1WjXmZrSt"
      },
      "source": [
        "fp = \"cal_housing.csv\"\n",
        "df.to_csv(fp, index = False)\n",
        "DATA_DIR = \"./\"\n",
        "TRAIN_DATA = os.path.join(DATA_DIR, 'cal_housing.csv')"
      ],
      "execution_count": 3,
      "outputs": []
    },
    {
      "cell_type": "code",
      "metadata": {
        "colab": {
          "base_uri": "https://localhost:8080/",
          "height": 35
        },
        "id": "UxEo5GMdZ_q0",
        "outputId": "c07b235d-4a47-42b3-84ce-6eef65bac4e9"
      },
      "source": [
        "pwd"
      ],
      "execution_count": 4,
      "outputs": [
        {
          "output_type": "execute_result",
          "data": {
            "application/vnd.google.colaboratory.intrinsic+json": {
              "type": "string"
            },
            "text/plain": [
              "'/content'"
            ]
          },
          "metadata": {
            "tags": []
          },
          "execution_count": 4
        }
      ]
    },
    {
      "cell_type": "markdown",
      "metadata": {
        "id": "A7zocIjRsGg2"
      },
      "source": [
        "## Generate the TFX Visualization"
      ]
    },
    {
      "cell_type": "code",
      "metadata": {
        "colab": {
          "base_uri": "https://localhost:8080/",
          "height": 207
        },
        "id": "4KEOiDUwZAwc",
        "outputId": "53e6331a-de70-42f1-ea74-6cd4caf9a2b8"
      },
      "source": [
        "train_stats = tfdv.generate_statistics_from_csv(TRAIN_DATA, delimiter=',')"
      ],
      "execution_count": 5,
      "outputs": [
        {
          "output_type": "stream",
          "text": [
            "WARNING:apache_beam.runners.interactive.interactive_environment:Dependencies required for Interactive Beam PCollection visualization are not available, please use: `pip install apache-beam[interactive]` to install necessary dependencies to enable all data visualization features.\n"
          ],
          "name": "stderr"
        },
        {
          "output_type": "display_data",
          "data": {
            "application/javascript": [
              "\n",
              "        if (typeof window.interactive_beam_jquery == 'undefined') {\n",
              "          var jqueryScript = document.createElement('script');\n",
              "          jqueryScript.src = 'https://code.jquery.com/jquery-3.4.1.slim.min.js';\n",
              "          jqueryScript.type = 'text/javascript';\n",
              "          jqueryScript.onload = function() {\n",
              "            var datatableScript = document.createElement('script');\n",
              "            datatableScript.src = 'https://cdn.datatables.net/1.10.20/js/jquery.dataTables.min.js';\n",
              "            datatableScript.type = 'text/javascript';\n",
              "            datatableScript.onload = function() {\n",
              "              window.interactive_beam_jquery = jQuery.noConflict(true);\n",
              "              window.interactive_beam_jquery(document).ready(function($){\n",
              "                \n",
              "              });\n",
              "            }\n",
              "            document.head.appendChild(datatableScript);\n",
              "          };\n",
              "          document.head.appendChild(jqueryScript);\n",
              "        } else {\n",
              "          window.interactive_beam_jquery(document).ready(function($){\n",
              "            \n",
              "          });\n",
              "        }"
            ]
          },
          "metadata": {
            "tags": []
          }
        },
        {
          "output_type": "stream",
          "text": [
            "WARNING:apache_beam.io.tfrecordio:Couldn't find python-snappy so the implementation of _TFRecordUtil._masked_crc32c is not as fast as it could be.\n"
          ],
          "name": "stderr"
        },
        {
          "output_type": "stream",
          "text": [
            "WARNING:tensorflow:From /usr/local/lib/python3.6/dist-packages/tensorflow_data_validation/utils/stats_util.py:247: tf_record_iterator (from tensorflow.python.lib.io.tf_record) is deprecated and will be removed in a future version.\n",
            "Instructions for updating:\n",
            "Use eager execution and: \n",
            "`tf.data.TFRecordDataset(path)`\n"
          ],
          "name": "stdout"
        },
        {
          "output_type": "stream",
          "text": [
            "WARNING:tensorflow:From /usr/local/lib/python3.6/dist-packages/tensorflow_data_validation/utils/stats_util.py:247: tf_record_iterator (from tensorflow.python.lib.io.tf_record) is deprecated and will be removed in a future version.\n",
            "Instructions for updating:\n",
            "Use eager execution and: \n",
            "`tf.data.TFRecordDataset(path)`\n"
          ],
          "name": "stderr"
        }
      ]
    },
    {
      "cell_type": "code",
      "metadata": {
        "colab": {
          "base_uri": "https://localhost:8080/",
          "height": 1000
        },
        "id": "vtygK7vdaP4f",
        "outputId": "93ea7473-2088-41b2-a91d-c30439da6420"
      },
      "source": [
        "tfdv.visualize_statistics(train_stats)"
      ],
      "execution_count": 6,
      "outputs": [
        {
          "output_type": "display_data",
          "data": {
            "text/html": [
              "<iframe id='facets-iframe' width=\"100%\" height=\"500px\"></iframe>\n",
              "        <script>\n",
              "        facets_iframe = document.getElementById('facets-iframe');\n",
              "        facets_html = '<script src=\"https://cdnjs.cloudflare.com/ajax/libs/webcomponentsjs/1.3.3/webcomponents-lite.js\"><\\/script><link rel=\"import\" href=\"https://raw.githubusercontent.com/PAIR-code/facets/master/facets-dist/facets-jupyter.html\"><facets-overview proto-input=\"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\"></facets-overview>';\n",
              "        facets_iframe.srcdoc = facets_html;\n",
              "         facets_iframe.id = \"\";\n",
              "         setTimeout(() => {\n",
              "           facets_iframe.setAttribute('height', facets_iframe.contentWindow.document.body.offsetHeight + 'px')\n",
              "         }, 1500)\n",
              "         </script>"
            ],
            "text/plain": [
              "<IPython.core.display.HTML object>"
            ]
          },
          "metadata": {
            "tags": []
          }
        }
      ]
    },
    {
      "cell_type": "code",
      "metadata": {
        "id": "Qf4A3WTqayDf"
      },
      "source": [
        "schema = tfdv.infer_schema(train_stats)"
      ],
      "execution_count": 7,
      "outputs": []
    },
    {
      "cell_type": "markdown",
      "metadata": {
        "id": "WhgeaEsgsOTJ"
      },
      "source": [
        "## Connect to Arangopipe"
      ]
    },
    {
      "cell_type": "code",
      "metadata": {
        "id": "TG8bASTTcXJj",
        "colab": {
          "base_uri": "https://localhost:8080/"
        },
        "outputId": "3dfeb0c3-a192-4cc4-e1b4-8606e376b068"
      },
      "source": [
        "from arangopipe.arangopipe_storage.arangopipe_api import ArangoPipe\n",
        "from arangopipe.arangopipe_storage.arangopipe_admin_api import ArangoPipeAdmin\n",
        "from arangopipe.arangopipe_storage.arangopipe_config import ArangoPipeConfig\n",
        "from arangopipe.arangopipe_storage.managed_service_conn_parameters import ManagedServiceConnParam\n",
        "\n",
        "mdb_config = ArangoPipeConfig()\n",
        "msc = ManagedServiceConnParam()\n",
        "conn_params = { msc.DB_SERVICE_HOST : \"arangoml.arangodb.cloud\", \\\n",
        "                        msc.DB_SERVICE_END_POINT : \"createDB\",\\\n",
        "                        msc.DB_SERVICE_NAME : \"createDB\",\\\n",
        "                        msc.DB_SERVICE_PORT : 8529,\\\n",
        "                        msc.DB_CONN_PROTOCOL : 'https'}\n",
        "mdb_config = mdb_config.create_connection_config(conn_params)\n",
        "admin = ArangoPipeAdmin(reuse_connection = False, config = mdb_config)\n",
        "ap_config = admin.get_config()\n",
        "ap = ArangoPipe(config = ap_config)\n",
        "\n",
        "# Prints the temporary login credentials\n",
        "# These credentials are only valid for a short time\n",
        "mdb_config.get_cfg()"
      ],
      "execution_count": 9,
      "outputs": [
        {
          "output_type": "stream",
          "text": [
            "DEBUG:arangopipe_admin_logger:Connection reuse: False\n",
            "INFO:arangopipe_admin_logger:Requesting a managed service database...\n"
          ],
          "name": "stderr"
        },
        {
          "output_type": "stream",
          "text": [
            "API endpoint: https://arangoml.arangodb.cloud:8529/_db/_system/createDB/createDB\n"
          ],
          "name": "stdout"
        },
        {
          "output_type": "stream",
          "text": [
            "/usr/local/lib/python3.6/dist-packages/urllib3/connectionpool.py:847: InsecureRequestWarning: Unverified HTTPS request is being made. Adding certificate verification is strongly advised. See: https://urllib3.readthedocs.io/en/latest/advanced-usage.html#ssl-warnings\n",
            "  InsecureRequestWarning)\n",
            "INFO:arangopipe_admin_logger:Managed service database was created !\n"
          ],
          "name": "stderr"
        },
        {
          "output_type": "stream",
          "text": [
            "Host Connection: https://arangoml.arangodb.cloud:8529\n"
          ],
          "name": "stdout"
        },
        {
          "output_type": "stream",
          "text": [
            "INFO:arangopipe_logger:The asset by name: heart beat check was not found in Arangopipe!\n"
          ],
          "name": "stderr"
        }
      ]
    },
    {
      "cell_type": "markdown",
      "metadata": {
        "id": "rJtmXS6x7fpR"
      },
      "source": [
        "## Register the Project\r\n",
        "This creates a project that we can associate other experiment details with, making it easy to find all relevant experiment information."
      ]
    },
    {
      "cell_type": "code",
      "metadata": {
        "id": "XjW-wvpC7voo"
      },
      "source": [
        "# Register the project to associate all of our experiment data with\r\n",
        "proj_info = {\"name\": \"Housing_Price_Estimation_Project\"}\r\n",
        "proj_reg = admin.register_project(proj_info)"
      ],
      "execution_count": null,
      "outputs": []
    },
    {
      "cell_type": "markdown",
      "metadata": {
        "id": "WkWfa1HJsTAS"
      },
      "source": [
        "## Save the Visualization in Arangopipe"
      ]
    },
    {
      "cell_type": "code",
      "metadata": {
        "id": "KG66_pjWiWMI"
      },
      "source": [
        "from google.protobuf import json_format\n",
        "enc_stats = json_format.MessageToJson(train_stats)\n",
        "enc_schema = json_format.MessageToJson(schema)"
      ],
      "execution_count": 10,
      "outputs": []
    },
    {
      "cell_type": "code",
      "metadata": {
        "id": "UFF7rv1Kijis"
      },
      "source": [
        "\n",
        "from tensorflow_metadata.proto.v0 import statistics_pb2\n",
        "from tensorflow_metadata.proto.v0 import schema_pb2"
      ],
      "execution_count": 11,
      "outputs": []
    },
    {
      "cell_type": "code",
      "metadata": {
        "id": "OWf5HCj3jGks",
        "colab": {
          "base_uri": "https://localhost:8080/"
        },
        "outputId": "a0c0b491-894e-4810-b280-2c7ce5afc6fc"
      },
      "source": [
        "#data = pd.read_csv(fp)\n",
        "ds_info = {\"name\" : \"california-housing-dataset\",\\\n",
        "                   \"description\": \"data about housing in California\",\\\n",
        "           \"encoded_stats\": enc_stats,\\\n",
        "           \"encoded_schema\": enc_schema,\\\n",
        "           \"source\": \"UCI ML Repository\" }\n",
        "ds_reg = ap.register_dataset(ds_info)\n",
        "featureset = df.dtypes.to_dict()\n",
        "featureset = {k:str(featureset[k]) for k in featureset}\n",
        "featureset[\"name\"] = \"cal_housing_dataset_uc_demo_fs\"\n",
        "fs_reg = ap.register_featureset(featureset, ds_reg[\"_key\"])\n",
        "\n",
        "# The following messages indicate a lookup was performed for these resources.\n",
        "# If the supplied resource isn't found the logger reports this and then the resource is added.\n",
        "# When recording a featureset the appropriate links(edges) are also created."
      ],
      "execution_count": 12,
      "outputs": [
        {
          "output_type": "stream",
          "text": [
            "INFO:arangopipe_logger:The asset by name: california-housing-dataset was not found in Arangopipe!\n",
            "INFO:arangopipe_logger:Recording dataset dataset link {'_id': 'datasets/545953588', '_key': '545953588', '_rev': '_bvZlYp2---'}\n",
            "INFO:arangopipe_logger:The asset by name: cal_housing_dataset_uc_demo_fs was not found in Arangopipe!\n",
            "INFO:arangopipe_logger:Recording featureset {'_id': 'featuresets/545953589', '_key': '545953589', '_rev': '_bvZlY3e---'}\n",
            "INFO:arangopipe_logger:Recording featureset dataset link {'_id': 'featureset_dataset/545953589-545953588', '_key': '545953589-545953588', '_rev': '_bvZlZ-q---'}\n"
          ],
          "name": "stderr"
        }
      ]
    },
    {
      "cell_type": "markdown",
      "metadata": {
        "id": "5rzUSk_B8faD"
      },
      "source": [
        "## Explore the data\r\n",
        "If you ran the notebook on your own and would like to explore the data added so far you can access the ArangoDB WebUI directly by using the temporary credentials generated when connecting to Arangopipe.\r\n",
        "\r\n",
        "The following code block prints these again for you."
      ]
    },
    {
      "cell_type": "code",
      "metadata": {
        "colab": {
          "base_uri": "https://localhost:8080/"
        },
        "id": "Rz67Tdsp8smh",
        "outputId": "0ef8aeff-1da6-4a2d-fb12-43248a64de2a"
      },
      "source": [
        "mdb_config.get_cfg()"
      ],
      "execution_count": 14,
      "outputs": [
        {
          "output_type": "execute_result",
          "data": {
            "text/plain": [
              "{'arangodb': {'DB_service_host': 'arangoml.arangodb.cloud',\n",
              "  'DB_end_point': 'createDB',\n",
              "  'DB_service_name': 'createDB',\n",
              "  'DB_service_port': 8529,\n",
              "  'conn_protocol': 'https',\n",
              "  'dbName': 'MLw9y2wobzgchipgfq77tqdq',\n",
              "  'username': 'MLkvdew6mqsoecalz1zqgo4',\n",
              "  'password': 'MLfiipj1h8nktpjzmbmun69',\n",
              "  'arangodb_replication_factor': None},\n",
              " 'mlgraph': {'graphname': 'enterprise_ml_graph'}}"
            ]
          },
          "metadata": {
            "tags": []
          },
          "execution_count": 14
        }
      ]
    }
  ]
}