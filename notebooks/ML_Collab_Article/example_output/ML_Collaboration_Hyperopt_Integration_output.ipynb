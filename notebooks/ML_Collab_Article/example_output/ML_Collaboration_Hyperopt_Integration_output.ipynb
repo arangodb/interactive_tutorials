{
  "nbformat": 4,
  "nbformat_minor": 0,
  "metadata": {
    "colab": {
      "name": "ML_Collaboration_Hyperopt_Integration_output.ipynb",
      "provenance": [],
      "collapsed_sections": []
    },
    "kernelspec": {
      "name": "python3",
      "display_name": "Python 3"
    }
  },
  "cells": [
    {
      "cell_type": "markdown",
      "metadata": {
        "id": "-BYh6UdOscTy"
      },
      "source": [
        "<font color='red'>THIS NOTEBOOK IS FROM THE ARANGOML MULTI-MODEL COLLABORATION ARTICLE. PLEASE REFER TO THAT ARTICLE FOR FURTHER CONTEXT [HERE](https://www.arangodb.com/2021/01/arangoml-series-multi-model-collaboration/).</font>"
      ]
    },
    {
      "cell_type": "markdown",
      "metadata": {
        "id": "zmbSlG-WAP6F"
      },
      "source": [
        "<a href=\"https://colab.research.google.com/github/arangodb/interactive_tutorials/blob/master/notebooks/ML_Collab_Article/example_output/ML_Collaboration_Hyperopt_Integration_output.ipynb\" target=\"_parent\"><img src=\"https://colab.research.google.com/assets/colab-badge.svg\" alt=\"Open In Colab\"/></a>"
      ]
    },
    {
      "cell_type": "markdown",
      "metadata": {
        "id": "DALuHTGJZrBr"
      },
      "source": [
        "# Overview of Arangopipe"
      ]
    },
    {
      "cell_type": "code",
      "metadata": {
        "id": "x5FvHueW18Jh"
      },
      "source": [
        "%%capture\r\n",
        "!pip install python-arango\r\n",
        "!pip install arangopipe==0.0.70.0.0\r\n",
        "!pip install pandas PyYAML==5.1.1 sklearn2 hyperopt uuid datetime jsonpickle"
      ],
      "execution_count": 1,
      "outputs": []
    },
    {
      "cell_type": "code",
      "metadata": {
        "id": "jQ6rqMTI1jCW"
      },
      "source": [
        "import pandas as pd\r\n",
        "import numpy as np\r\n",
        "\r\n",
        "from sklearn.model_selection import train_test_split\r\n",
        "from sklearn import linear_model\r\n",
        "from sklearn.model_selection import cross_val_score\r\n",
        "from sklearn.ensemble import RandomForestRegressor\r\n",
        "from sklearn import neighbors\r\n",
        "from hyperopt import fmin, tpe, hp, STATUS_OK, Trials\r\n",
        "from sklearn.metrics import mean_squared_error\r\n",
        "\r\n",
        "import jsonpickle\r\n",
        "import uuid\r\n",
        "import datetime"
      ],
      "execution_count": 2,
      "outputs": []
    },
    {
      "cell_type": "markdown",
      "metadata": {
        "id": "UJBKAht_ZrBs"
      },
      "source": [
        "This notebook provides an overview of **Arangopipe**, a component of ArangoDB for managing metadata from machine learning pipelines. Arangopipe has two API's:\n",
        "1. **arangopipe_api**\n",
        "2. **arangopipe_admin_api**\n",
        "**arangopipe_api** is the set of API used for machine learning metadata management. **arangopipe_admin_api** is the API used to provision users into **Arangopipe**. The following notebook illustrates both these API's. We will illustrate this with a machine learning model to predict house prices. The data is available in the UCI machine learning repository."
      ]
    },
    {
      "cell_type": "markdown",
      "metadata": {
        "id": "HezkeNaXZrBt"
      },
      "source": [
        "### Connect to Arangopipe\n",
        "In a real environment you would reconnect to the same database and update the existing project, this would make it so that your colleagues could reference your work later.\n",
        "\n",
        "If you have been following along with the previous notebooks [here]() and [here](), you can see this continuity with a couple small changes.\n",
        "1. Uncomment and update these `conn_params` variable properties with the credentials generated in the first noteook:\n",
        " * `DB_NAME`\n",
        " * `DB_USER_NAME`\n",
        " * `DB_PASSWORD`\n",
        "2. Change the ArangoPipeAdmin `reuse_connection` parameter to `True`\n",
        "3. Comment out registering a new project and uncomment the project lookup.\n",
        "4. Comment out registering a new dataset and uncomment the dataset lookup."
      ]
    },
    {
      "cell_type": "code",
      "metadata": {
        "id": "O9ciZZ8-ZrBt",
        "colab": {
          "base_uri": "https://localhost:8080/"
        },
        "outputId": "7b15fa92-9482-4922-fe8a-e8d052fd8b2f"
      },
      "source": [
        "from arangopipe.arangopipe_storage.arangopipe_api import ArangoPipe\n",
        "from arangopipe.arangopipe_storage.arangopipe_admin_api import ArangoPipeAdmin\n",
        "from arangopipe.arangopipe_storage.arangopipe_config import ArangoPipeConfig\n",
        "from arangopipe.arangopipe_storage.managed_service_conn_parameters import ManagedServiceConnParam\n",
        "mdb_config = ArangoPipeConfig()\n",
        "msc = ManagedServiceConnParam()\n",
        "conn_params = { msc.DB_SERVICE_HOST : \"arangoml.arangodb.cloud\", \\\n",
        "                        msc.DB_SERVICE_END_POINT : \"createDB\",\\\n",
        "                        msc.DB_SERVICE_NAME : \"createDB\",\\\n",
        "                        # msc.DB_NAME: 'YOUR DATABASE NAME',\\\n",
        "                        # msc.DB_USER_NAME:'YOUR USERNAME',\\\n",
        "                        # msc.DB_PASSWORD: 'YOUR PASSWORD',\\\n",
        "                        msc.DB_SERVICE_PORT : 8529,\\\n",
        "                        msc.DB_CONN_PROTOCOL : 'https',\\\n",
        "                        msc.DB_REPLICATION_FACTOR: 3}\n",
        "mdb_config = mdb_config.create_connection_config(conn_params)\n",
        "admin = ArangoPipeAdmin(reuse_connection = False, config = mdb_config) # Change reuse_connection to True\n",
        "ap_config = admin.get_config()\n",
        "ap = ArangoPipe(config = ap_config)\n",
        "\n",
        "# Prints the temporary login credentials\n",
        "# These credentials are only valid for a short time\n",
        "mdb_config.get_cfg()"
      ],
      "execution_count": 19,
      "outputs": [
        {
          "output_type": "execute_result",
          "data": {
            "text/plain": [
              "{'arangodb': {'DB_end_point': 'createDB',\n",
              "  'DB_service_host': 'arangoml.arangodb.cloud',\n",
              "  'DB_service_name': 'createDB',\n",
              "  'DB_service_port': 8529,\n",
              "  'arangodb_replication_factor': 3,\n",
              "  'conn_protocol': 'https',\n",
              "  'dbName': 'MLcb8t7o8ksjkklhujwwlav8',\n",
              "  'password': 'MLp2rlotji9hl6jk41otqsv',\n",
              "  'username': 'MLrdigyhsof680b6q0lpk5vtv'},\n",
              " 'mlgraph': {'graphname': 'enterprise_ml_graph'}}"
            ]
          },
          "metadata": {
            "tags": []
          },
          "execution_count": 19
        }
      ]
    },
    {
      "cell_type": "markdown",
      "metadata": {
        "id": "IS1xSNXsQXIs"
      },
      "source": [
        "## Lookup Project\r\n",
        "\r\n",
        "Normally you would not need to register a new project each time, this is only necessary because we typically generate a new temporary database with the tutorial notebooks.\r\n",
        "\r\n",
        "If you have been following along you could instead uncomment the project lookup and comment out or delete the two project registration lines."
      ]
    },
    {
      "cell_type": "code",
      "metadata": {
        "id": "YlNQ629XQIbJ"
      },
      "source": [
        "# project = ap.lookup_entity(\"Housing_Price_Estimation_Project\", \"project\")\r\n",
        "\r\n",
        "proj_info = {\"name\": \"Housing_Price_Estimation_Project\"}\r\n",
        "project = admin.register_project(proj_info)"
      ],
      "execution_count": 4,
      "outputs": []
    },
    {
      "cell_type": "markdown",
      "metadata": {
        "id": "wda7SbViZrBt"
      },
      "source": [
        "### Associate Model with Project\n",
        "This pipeline is going to determine the best regression model to use for the project. We will conduct this experiment with hyperopt. First, however we link the the model developed in this pipeline with the project"
      ]
    },
    {
      "cell_type": "code",
      "metadata": {
        "id": "yjm3w5cGZrBu"
      },
      "source": [
        "model_info = {\"name\": \"hyper-param-optimization\",  \"type\": \"hyper-opt-experiment\"}\n",
        "model_reg = ap.register_model(model_info, project = \"Housing_Price_Estimation_Project\")"
      ],
      "execution_count": 5,
      "outputs": []
    },
    {
      "cell_type": "markdown",
      "metadata": {
        "id": "Ot5au-k6ZrBu"
      },
      "source": [
        "## Pipeline Development\n",
        "This notebook illustrates the process of storing pipeline metadata while executing a machine learning pipeline. The objective with this experiment is to determine the best model for the dataset using the **Hyperopt** library. After conducting the experiments, the result is tagged and stored in **Arangopipe**. "
      ]
    },
    {
      "cell_type": "markdown",
      "metadata": {
        "id": "w-0mIWhiZrBu"
      },
      "source": [
        "### Read Data"
      ]
    },
    {
      "cell_type": "code",
      "metadata": {
        "id": "3ksj7Z9qZrBu"
      },
      "source": [
        "data_url = \"https://raw.githubusercontent.com/arangoml/arangopipe/arangopipe_examples/examples/data/cal_housing.csv\"\n",
        "df = pd.read_csv(data_url, error_bad_lines=False)\n",
        "\n",
        "fp = \"cal_housing.csv\""
      ],
      "execution_count": 6,
      "outputs": []
    },
    {
      "cell_type": "markdown",
      "metadata": {
        "id": "tCpdq0HWZrBu"
      },
      "source": [
        "### Register the Dataset\r\n",
        "\r\n",
        "Here we register the same dataset we registered from the first notebook. This is only necessary due to the expectation that a new temporary database was generated. \r\n",
        "\r\n",
        "If you have been following along you can uncomment the dataset lookup and comment out the dataset registartion lines. There is a unique constraint on the dataset name, so attempting to add it should result in an error if you are already using the credentials form the first notebook."
      ]
    },
    {
      "cell_type": "code",
      "metadata": {
        "id": "E6b-R8M6ZrBv"
      },
      "source": [
        "# Lookup the dataset registered with the initial notebook. \n",
        "# dataset = ap.lookup_dataset(\"california-housing-dataset\")\n",
        "\n",
        "# Register dataset, comment out if following along.\n",
        "ds_info = {\"name\" : \"california-housing-dataset\",\\\n",
        "            \"description\": \"This dataset lists median house prices in Califoria. Various house features are provided\",\\\n",
        "           \"source\": \"UCI ML Repository\" }\n",
        "dataset = ap.register_dataset(ds_info)"
      ],
      "execution_count": 7,
      "outputs": []
    },
    {
      "cell_type": "markdown",
      "metadata": {
        "id": "59ZWQ7rUZrBv"
      },
      "source": [
        "### Register the Featureset Generated from the Dataset\n",
        "A log transformation is required for the median-house value. The feature set generated from the dataset is registered with **Arangopipe**. Note that the featureset is linked to the dataset using the dataset registration obtained from the previous step"
      ]
    },
    {
      "cell_type": "code",
      "metadata": {
        "id": "oIVyIYLaZrBv"
      },
      "source": [
        "df[\"medianHouseValue\"] = df[\"medianHouseValue\"].apply(lambda x: np.log(x))\n",
        "featureset = df.dtypes.to_dict()\n",
        "featureset = {k:str(featureset[k]) for k in featureset}\n",
        "featureset[\"name\"] = \"log_transformed_median_house_value\"\n",
        "fs_reg = ap.register_featureset(featureset, dataset[\"_key\"])"
      ],
      "execution_count": 8,
      "outputs": []
    },
    {
      "cell_type": "markdown",
      "metadata": {
        "id": "e0axvOtGZrBv"
      },
      "source": [
        "### Run the Experiment"
      ]
    },
    {
      "cell_type": "code",
      "metadata": {
        "id": "04B4q_XAZrBv"
      },
      "source": [
        "preds = df.columns.tolist()\n",
        "preds.remove(\"medianHouseValue\")\n",
        "X = df[preds]\n",
        "Y = df[\"medianHouseValue\"]\n",
        "\n",
        "X_train, X_test, y_train, y_test = train_test_split(X, Y, test_size=0.33, random_state=42)"
      ],
      "execution_count": 9,
      "outputs": []
    },
    {
      "cell_type": "markdown",
      "metadata": {
        "id": "4ExGXdEnZrBv"
      },
      "source": [
        "**Set up the Hyperopt Experiment**\n",
        "\n",
        "Define the hyper-opt space. In this case, this represents the various models and their associated parametrizations"
      ]
    },
    {
      "cell_type": "code",
      "metadata": {
        "id": "urzre91ZZrBw"
      },
      "source": [
        "hyper_param_options =     [{\n",
        "        'type': 'lasso',\n",
        "        'alpha': hp.uniform('alpha', 0.0, 1)\n",
        "    },\n",
        "\n",
        "    {\n",
        "        'type': 'randomforest',\n",
        "        'max_depth': hp.choice('max_depth', range(1,5)),\n",
        "        'max_features': hp.choice('max_features', range(1,8)),\n",
        "        'n_estimators': hp.choice('n_estimators', range(1,50))\n",
        "    },\n",
        "    {\n",
        "        'type': 'knn',\n",
        "        'n_neighbors': hp.choice('knn_n_neighbors', range(1,20))\n",
        "    }\n",
        "]\n",
        "space = hp.choice('regressor_type', hyper_param_options)\n",
        "\n",
        "def hyperopt_train_test(params):\n",
        "    regressor_type = params['type']\n",
        "    del params['type']\n",
        "    if regressor_type == 'lasso':\n",
        "        reg = linear_model.Lasso(**params)\n",
        "    elif regressor_type == 'randomforest':\n",
        "        reg = RandomForestRegressor(**params)\n",
        "    elif regressor_type == 'knn':\n",
        "        reg = neighbors.KNeighborsRegressor(**params)\n",
        "    else:\n",
        "        return 0\n",
        "    reg.fit(X_train, y_train)\n",
        "    ytest_pred = reg.predict(X_test)\n",
        "    return mean_squared_error(y_test, ytest_pred)"
      ],
      "execution_count": 10,
      "outputs": []
    },
    {
      "cell_type": "markdown",
      "metadata": {
        "id": "NvhG7s9NZrBw"
      },
      "source": [
        "**Run the Hyperopt Experiment**"
      ]
    },
    {
      "cell_type": "code",
      "metadata": {
        "id": "ZHjq1Qc2ZrBw",
        "colab": {
          "base_uri": "https://localhost:8080/"
        },
        "outputId": "4d9518de-b109-42d7-b940-e3dff01a6e52"
      },
      "source": [
        "count = 0\n",
        "best = 100\n",
        "def f(params):\n",
        "    global best, count\n",
        "    count += 1\n",
        "    rmse = hyperopt_train_test(params.copy())\n",
        "    if rmse < best:\n",
        "        print ('new best:', rmse, 'using', params['type'])\n",
        "        best = rmse\n",
        "    if count % 250 == 0:\n",
        "        print ('iters:', count, ', acc:', rmse, 'using', params)\n",
        "    return {'loss': rmse, 'status': STATUS_OK}\n",
        "\n",
        "trials = Trials()\n",
        "best = fmin(f, space, algo=tpe.suggest, max_evals=500, trials=trials)\n",
        "print ('best:', best)"
      ],
      "execution_count": 11,
      "outputs": [
        {
          "output_type": "stream",
          "text": [
            "new best:\n",
            "0.25182933552576053\n",
            "using\n",
            "lasso\n",
            "new best:\n",
            "0.12690774538944666\n",
            "using\n",
            "lasso\n",
            "new best:\n",
            "0.12188265157246057\n",
            "using\n",
            "randomforest\n",
            "new best:\n",
            "0.11468024299236657\n",
            "using\n",
            "lasso\n",
            "new best:\n",
            "0.11456515860773858\n",
            "using\n",
            "lasso\n",
            "new best:\n",
            "0.11379396083303803\n",
            "using\n",
            "lasso\n",
            "new best:\n",
            "0.11373415186805391\n",
            "using\n",
            "lasso\n",
            "new best:\n",
            "0.11372762789004627\n",
            "using\n",
            "lasso\n",
            "iters:\n",
            "250\n",
            ", acc:\n",
            "0.1569496666062016\n",
            "using\n",
            "{'alpha': 0.11396564749321282, 'type': 'lasso'}\n",
            "new best:\n",
            "0.11372643688773879\n",
            "using\n",
            "lasso\n",
            "iters:\n",
            "500\n",
            ", acc:\n",
            "0.1851953579599621\n",
            "using\n",
            "{'max_depth': 4, 'max_features': 1, 'n_estimators': 22, 'type': 'randomforest'}\n",
            "100%|██████████| 500/500 [01:11<00:00,  7.01it/s, best loss: 0.11372643688773879]\n",
            "best: {'alpha': 2.4177502328996713e-05, 'regressor_type': 0}\n"
          ],
          "name": "stdout"
        }
      ]
    },
    {
      "cell_type": "markdown",
      "metadata": {
        "id": "tvQQinI_ZrBw"
      },
      "source": [
        "## Convert Hyperopt Space to JSON"
      ]
    },
    {
      "cell_type": "code",
      "metadata": {
        "id": "FbLrO4FjZrBx"
      },
      "source": [
        "ruuid = str(uuid.uuid4().int)\n",
        "frozen_space = jsonpickle.encode(space)\n",
        "model_params = {\"name\": \"Housing_Price_Regression_Model_Params\",\\\n",
        "                \"hyperopt-space\": frozen_space, \"run_id\": ruuid}\n"
      ],
      "execution_count": 12,
      "outputs": []
    },
    {
      "cell_type": "markdown",
      "metadata": {
        "id": "zis1wPRrZrBx"
      },
      "source": [
        "## Store Results in Arangopipe\n",
        "Note that we are tagging the run so that we can look up this run by the tag if we need to retrieve it from storage"
      ]
    },
    {
      "cell_type": "code",
      "metadata": {
        "id": "7U7jvP6MZrBx"
      },
      "source": [
        "model_perf = {\"best\": jsonpickle.encode(best), \"run_id\": ruuid, \"timestamp\": str(datetime.datetime.now())}\n",
        "run_info = {\"dataset\" : dataset[\"_key\"],\\\n",
        "                    \"featureset\": fs_reg[\"_key\"],\\\n",
        "                    \"run_id\": ruuid,\\\n",
        "                    \"model\": model_reg[\"_key\"],\\\n",
        "                    \"model-params\": model_params,\\\n",
        "                    \"model-perf\": model_perf,\\\n",
        "                    \"tag\": \"Housing-Price-Hyperopt-Experiment\",\\\n",
        "                    \"project\": \"Housing Price Estimation Project\"}\n",
        "ap.log_run(run_info)\n"
      ],
      "execution_count": 13,
      "outputs": []
    },
    {
      "cell_type": "markdown",
      "metadata": {
        "id": "iEaO0j6mZrBx"
      },
      "source": [
        "## What was the best the model from the previous run?\n",
        "The tag (Housing-Price-Hyperopt-Experiment) that we applied while logging the previous experiment can be used to retrieve the results associated with the previous run. For example, we may be interested in the best model and its parameters from the experiment we just conducted."
      ]
    },
    {
      "cell_type": "code",
      "metadata": {
        "id": "KkcDzk95ZrBx"
      },
      "source": [
        "mp = ap.lookup_modelperf(\"Housing-Price-Hyperopt-Experiment\")"
      ],
      "execution_count": 14,
      "outputs": []
    },
    {
      "cell_type": "markdown",
      "metadata": {
        "id": "UcrdpzC5ZrBy"
      },
      "source": [
        "### Note about lookups:\n",
        "Check the return value of the lookup to see if you got a reference to what you were looking for. If what you are looking for was not found, you will get a \"None\" for the return value."
      ]
    },
    {
      "cell_type": "code",
      "metadata": {
        "id": "MXHM9-U9ZrBy",
        "colab": {
          "base_uri": "https://localhost:8080/"
        },
        "outputId": "fc6951c9-2144-4773-8bcd-1ff5b436cd2c"
      },
      "source": [
        "mp = ap.lookup_modelperf(\"A non existent experiment in the database\")\n",
        "mp == None"
      ],
      "execution_count": 15,
      "outputs": [
        {
          "output_type": "execute_result",
          "data": {
            "text/plain": [
              "True"
            ]
          },
          "metadata": {
            "tags": []
          },
          "execution_count": 15
        }
      ]
    },
    {
      "cell_type": "code",
      "metadata": {
        "id": "p678EBv5ZrBy"
      },
      "source": [
        "mp = ap.lookup_modelperf(\"Housing-Price-Hyperopt-Experiment\")"
      ],
      "execution_count": 16,
      "outputs": []
    },
    {
      "cell_type": "code",
      "metadata": {
        "id": "c7pIxBCaZrBy",
        "colab": {
          "base_uri": "https://localhost:8080/",
          "height": 35
        },
        "outputId": "37e99fc2-bcfb-47e5-a565-178c037a5d44"
      },
      "source": [
        "mp[\"best\"]"
      ],
      "execution_count": 17,
      "outputs": [
        {
          "output_type": "execute_result",
          "data": {
            "application/vnd.google.colaboratory.intrinsic+json": {
              "type": "string"
            },
            "text/plain": [
              "'{\"alpha\": 2.4177502328996713e-05, \"regressor_type\": 0}'"
            ]
          },
          "metadata": {
            "tags": []
          },
          "execution_count": 17
        }
      ]
    },
    {
      "cell_type": "markdown",
      "metadata": {
        "id": "zg1cxg38ZrBy"
      },
      "source": [
        "## Advanced Modeling Option"
      ]
    },
    {
      "cell_type": "markdown",
      "metadata": {
        "id": "pRJHIN9KZrBy"
      },
      "source": [
        "If you have the need to extend or customize the arangopipe schema, the API provides that capability. You can add vertex types and edge types. In the context of this (hyperparameter experiment) notebook, the following example serves to illustrate this. If we want to save meta-data about notebooks used for a project to a new graph vertex type, and, link the project to notebooks created for the project, the following code segment illustrates how this can be done."
      ]
    },
    {
      "cell_type": "code",
      "metadata": {
        "id": "HOxAz8gFZrBy",
        "colab": {
          "base_uri": "https://localhost:8080/"
        },
        "outputId": "66083b15-122c-498b-86b5-a266f95b91f2"
      },
      "source": [
        "notebook_info = {\"version\": \"v1\", \"author\": \"John Doe\", \"name\": \"hyperopt_integration.ipynb\"}\n",
        "if not admin.has_vertex('notebook'):\n",
        "    admin.add_vertex_to_arangopipe('notebook')\n",
        "nb_info = ap.insert_into_vertex_type('notebook', notebook_info)\n",
        "if not admin.has_edge('project_notebook'):\n",
        "    admin.add_edge_definition_to_arangopipe('project_notebook', 'project', 'notebook')\n",
        "ap.insert_into_edge_type('project_notebook', project, nb_info)\n"
      ],
      "execution_count": 18,
      "outputs": [
        {
          "output_type": "execute_result",
          "data": {
            "text/plain": [
              "{'_id': 'project_notebook/545953669-541953545',\n",
              " '_key': '545953669-541953545',\n",
              " '_rev': '_bvZniMe--_'}"
            ]
          },
          "metadata": {
            "tags": []
          },
          "execution_count": 18
        }
      ]
    },
    {
      "cell_type": "code",
      "metadata": {
        "id": "uMv_92gDZrBz"
      },
      "source": [
        ""
      ],
      "execution_count": 18,
      "outputs": []
    }
  ]
}