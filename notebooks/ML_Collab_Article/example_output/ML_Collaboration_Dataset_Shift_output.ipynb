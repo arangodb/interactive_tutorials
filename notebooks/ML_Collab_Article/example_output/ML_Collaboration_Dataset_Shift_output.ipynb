{
  "nbformat": 4,
  "nbformat_minor": 0,
  "metadata": {
    "colab": {
      "name": "ML_Collaboration_Dataset_Shift_output.ipynb",
      "provenance": [],
      "collapsed_sections": []
    },
    "kernelspec": {
      "name": "python3",
      "display_name": "Python 3"
    }
  },
  "cells": [
    {
      "cell_type": "markdown",
      "metadata": {
        "id": "39taaUHCmkD-"
      },
      "source": [
        "<a href=\"https://colab.research.google.com/github/arangodb/interactive_tutorials/blob/master/notebooks/ML_Collab_Article/example_output/ML_Collaboration_Dataset_Shift_output.ipynb\" target=\"_parent\"><img src=\"https://colab.research.google.com/assets/colab-badge.svg\" alt=\"Open In Colab\"/></a>"
      ]
    },
    {
      "cell_type": "markdown",
      "metadata": {
        "id": "uUndP-4m9j0l"
      },
      "source": [
        "<font color='red'>NOTE: This notebook is a stripped down version from our ArangoML Series. This notebook is intended for those following along with the ArangoML [Multi-model Collaboration post](https://www.arangodb.com/2021/01/arangoml-series-multi-model-collaboration/).</font>\r\n",
        "\r\n",
        "The full post that introduces the covariate shift concept and details how to use the arangopipe dataset shift API can be found [here](https://www.arangodb.com/2020/11/arangoml-part-4-detecting-covariate-shift-in-datasets/).\r\n",
        "\r\n",
        "# Dataset Shift\r\n",
        "The following notebook is a simple example of how to detect shifts in your dataset using the arangopipe API. This example takes parts of the same dataset and compares them to each other, in a non-random fashion. The purpose of this is to show how the dataset shift API functions and the process of comparing parts of the same dataset is only for demonstration purposes. You would typically use a new or updated dataset to check the reliablity of the model against your new data."
      ]
    },
    {
      "cell_type": "code",
      "metadata": {
        "id": "QieyyqTOmkEC"
      },
      "source": [
        "%%capture\n",
        "!pip install python-arango\n",
        "!pip install arangopipe==0.0.70.0.0\n",
        "!pip install pandas PyYAML==5.1.1 sklearn2\n",
        "!pip install jsonpickle"
      ],
      "execution_count": 1,
      "outputs": []
    },
    {
      "cell_type": "code",
      "metadata": {
        "id": "TQj4CHd2mkED",
        "colab": {
          "base_uri": "https://localhost:8080/",
          "height": 204
        },
        "outputId": "a604c4e1-caa9-43aa-faef-72be909b2a88"
      },
      "source": [
        "import pandas as pd\n",
        "import numpy as np\n",
        "data_url = \"https://raw.githubusercontent.com/arangoml/arangopipe/arangopipe_examples/examples/data/cal_housing.csv\"\n",
        "df = pd.read_csv(data_url, error_bad_lines=False)\n",
        "df = df.sample(n = 500)\n",
        "df.head()"
      ],
      "execution_count": 2,
      "outputs": [
        {
          "output_type": "execute_result",
          "data": {
            "text/html": [
              "<div>\n",
              "<style scoped>\n",
              "    .dataframe tbody tr th:only-of-type {\n",
              "        vertical-align: middle;\n",
              "    }\n",
              "\n",
              "    .dataframe tbody tr th {\n",
              "        vertical-align: top;\n",
              "    }\n",
              "\n",
              "    .dataframe thead th {\n",
              "        text-align: right;\n",
              "    }\n",
              "</style>\n",
              "<table border=\"1\" class=\"dataframe\">\n",
              "  <thead>\n",
              "    <tr style=\"text-align: right;\">\n",
              "      <th></th>\n",
              "      <th>lat</th>\n",
              "      <th>long</th>\n",
              "      <th>housingMedAge</th>\n",
              "      <th>totalRooms</th>\n",
              "      <th>totalBedrooms</th>\n",
              "      <th>population</th>\n",
              "      <th>households</th>\n",
              "      <th>medianIncome</th>\n",
              "      <th>medianHouseValue</th>\n",
              "    </tr>\n",
              "  </thead>\n",
              "  <tbody>\n",
              "    <tr>\n",
              "      <th>9848</th>\n",
              "      <td>-121.89</td>\n",
              "      <td>36.60</td>\n",
              "      <td>40</td>\n",
              "      <td>626</td>\n",
              "      <td>164</td>\n",
              "      <td>337</td>\n",
              "      <td>150</td>\n",
              "      <td>2.7917</td>\n",
              "      <td>225000.0</td>\n",
              "    </tr>\n",
              "    <tr>\n",
              "      <th>3524</th>\n",
              "      <td>-118.51</td>\n",
              "      <td>34.27</td>\n",
              "      <td>34</td>\n",
              "      <td>3787</td>\n",
              "      <td>771</td>\n",
              "      <td>1966</td>\n",
              "      <td>738</td>\n",
              "      <td>4.0550</td>\n",
              "      <td>222500.0</td>\n",
              "    </tr>\n",
              "    <tr>\n",
              "      <th>10071</th>\n",
              "      <td>-120.17</td>\n",
              "      <td>39.33</td>\n",
              "      <td>10</td>\n",
              "      <td>614</td>\n",
              "      <td>141</td>\n",
              "      <td>195</td>\n",
              "      <td>95</td>\n",
              "      <td>0.9283</td>\n",
              "      <td>116300.0</td>\n",
              "    </tr>\n",
              "    <tr>\n",
              "      <th>7262</th>\n",
              "      <td>-118.23</td>\n",
              "      <td>33.99</td>\n",
              "      <td>37</td>\n",
              "      <td>378</td>\n",
              "      <td>176</td>\n",
              "      <td>714</td>\n",
              "      <td>156</td>\n",
              "      <td>2.1912</td>\n",
              "      <td>112500.0</td>\n",
              "    </tr>\n",
              "    <tr>\n",
              "      <th>8795</th>\n",
              "      <td>-118.41</td>\n",
              "      <td>33.77</td>\n",
              "      <td>22</td>\n",
              "      <td>7554</td>\n",
              "      <td>991</td>\n",
              "      <td>2808</td>\n",
              "      <td>946</td>\n",
              "      <td>10.0600</td>\n",
              "      <td>500001.0</td>\n",
              "    </tr>\n",
              "  </tbody>\n",
              "</table>\n",
              "</div>"
            ],
            "text/plain": [
              "          lat   long  housingMedAge  ...  households  medianIncome  medianHouseValue\n",
              "9848  -121.89  36.60             40  ...         150        2.7917          225000.0\n",
              "3524  -118.51  34.27             34  ...         738        4.0550          222500.0\n",
              "10071 -120.17  39.33             10  ...          95        0.9283          116300.0\n",
              "7262  -118.23  33.99             37  ...         156        2.1912          112500.0\n",
              "8795  -118.41  33.77             22  ...         946       10.0600          500001.0\n",
              "\n",
              "[5 rows x 9 columns]"
            ]
          },
          "metadata": {
            "tags": []
          },
          "execution_count": 2
        }
      ]
    },
    {
      "cell_type": "markdown",
      "metadata": {
        "id": "q68JCX77mkEE"
      },
      "source": [
        "##  Exploring the Data\n",
        "\n",
        "Let's take some time to explore the data a bit. First, we look at the types and shapes of the data to see what is available. "
      ]
    },
    {
      "cell_type": "code",
      "metadata": {
        "id": "YYhr__o6mkEE",
        "colab": {
          "base_uri": "https://localhost:8080/"
        },
        "outputId": "d81a78b1-1d63-4ba5-83c7-83a542d74d8b"
      },
      "source": [
        "\n",
        "req_cols = df.columns.tolist()\n",
        "req_cols.remove(\"medianHouseValue\")\n",
        "df = df[req_cols]\n",
        "df.dtypes"
      ],
      "execution_count": 3,
      "outputs": [
        {
          "output_type": "execute_result",
          "data": {
            "text/plain": [
              "lat              float64\n",
              "long             float64\n",
              "housingMedAge      int64\n",
              "totalRooms         int64\n",
              "totalBedrooms      int64\n",
              "population         int64\n",
              "households         int64\n",
              "medianIncome     float64\n",
              "dtype: object"
            ]
          },
          "metadata": {
            "tags": []
          },
          "execution_count": 3
        }
      ]
    },
    {
      "cell_type": "code",
      "metadata": {
        "id": "2k8eMpk4mkEF",
        "colab": {
          "base_uri": "https://localhost:8080/"
        },
        "outputId": "a9c9c57d-819d-4d50-c6b5-ee372f62249b"
      },
      "source": [
        "df[\"lat\"].describe()"
      ],
      "execution_count": 4,
      "outputs": [
        {
          "output_type": "execute_result",
          "data": {
            "text/plain": [
              "count    500.000000\n",
              "mean    -119.521240\n",
              "std        1.956794\n",
              "min     -123.410000\n",
              "25%     -121.662500\n",
              "50%     -118.645000\n",
              "75%     -117.970000\n",
              "max     -115.500000\n",
              "Name: lat, dtype: float64"
            ]
          },
          "metadata": {
            "tags": []
          },
          "execution_count": 4
        }
      ]
    },
    {
      "cell_type": "markdown",
      "metadata": {
        "id": "tNy_fz5CmkEF"
      },
      "source": [
        "When we plot the histogram of the lat variable, we see two populations (see below):\n",
        "1. A group with lat values less than -119\n",
        "2. A group with lat values greater than -119 "
      ]
    },
    {
      "cell_type": "code",
      "metadata": {
        "id": "SwdTaPv_mkEF",
        "colab": {
          "base_uri": "https://localhost:8080/",
          "height": 282
        },
        "outputId": "23f7c095-1404-41fe-cbdf-fcf24110a87d"
      },
      "source": [
        "\n",
        "import matplotlib.pyplot as plt\n",
        "%matplotlib inline  \n",
        "df[\"lat\"].hist()"
      ],
      "execution_count": 5,
      "outputs": [
        {
          "output_type": "execute_result",
          "data": {
            "text/plain": [
              "<matplotlib.axes._subplots.AxesSubplot at 0x7f3ff6b5b828>"
            ]
          },
          "metadata": {
            "tags": []
          },
          "execution_count": 5
        },
        {
          "output_type": "display_data",
          "data": {
            "image/png": "[encoded data removed]",
            "text/plain": [
              "<Figure size 432x288 with 1 Axes>"
            ]
          },
          "metadata": {
            "tags": [],
            "needs_background": "light"
          }
        }
      ]
    },
    {
      "cell_type": "markdown",
      "metadata": {
        "id": "qfQ1S1AamkEG"
      },
      "source": [
        "Let’s pretend that the current batch of data used to develop our regression model is the first one, the group with lat values less than -119. By not selecting any houses with lat values greater than -119, we have introduced a sampling error. When selecting data for model development, you would want to use the entire range of lat values. Our second group consists of houses with lat values greater than -119."
      ]
    },
    {
      "cell_type": "code",
      "metadata": {
        "id": "1t6timRJmkEG"
      },
      "source": [
        "df1 = df.query(\"lat <= -119\")\n",
        "df2 = df.query(\"lat > -119\")"
      ],
      "execution_count": 6,
      "outputs": []
    },
    {
      "cell_type": "markdown",
      "metadata": {
        "id": "DDKbDuhBmkEG"
      },
      "source": [
        "Can we discriminate between the two? \n",
        "\n",
        "Let’s develop a classifier and see if we can. \n",
        "\n",
        "## Using the dataset shift API\n",
        "Here we use a [random forest classifier](https://en.wikipedia.org/wiki/Random_forest) and our Dataset Shift Detector to test our data and then print the returned score value. "
      ]
    },
    {
      "cell_type": "code",
      "metadata": {
        "id": "uV6s7eNrmkEG",
        "colab": {
          "base_uri": "https://localhost:8080/"
        },
        "outputId": "abec6a41-163a-4336-af9e-c6d632c8cc70"
      },
      "source": [
        "from arangopipe.arangopipe_analytics.rf_dataset_shift_detector import RF_DatasetShiftDetector\n",
        "\n",
        "rfd = RF_DatasetShiftDetector()\n",
        "score = rfd.detect_dataset_shift(df1, df2)\n",
        "print (\"Detaset shift score : %2.2f\" % (score))"
      ],
      "execution_count": 7,
      "outputs": [
        {
          "output_type": "stream",
          "text": [
            "Detaset shift score : 0.99\n"
          ],
          "name": "stdout"
        }
      ]
    },
    {
      "cell_type": "markdown",
      "metadata": {
        "id": "Z0U_UU6JmkEG"
      },
      "source": [
        "## Interpretation of the score reported by the shift detector\n",
        "The API uses a classifier to discriminate between the datasets provided to it. The score reported by the API is the accuracy of the classifier to discriminate between the datasets. Values close to  0.5  indicate that the classifier is not able to discriminate between the two datasets. This could be interpreted as a situation where no discernable shift has occurred in the data since the last model deployment. Values close to 1 indicate that the dataset shift is detectable, and we may need to revisit modeling. \n",
        "\n",
        "How the dataset shift affects the performance of the deployed model is problem-dependent. So we must assess the score in the context of a particular application. Usually, we perform experiments to determine a threshold value of the dataset shift score; the score represents an acceptable level of drift.\n",
        "\n",
        "## Conclusion\n",
        "This post introduced covariate shifts in datasets and provided an example of how easy it is to test this with ArangoML’s built-in API. The [Introduction to ArangoML series](https://www.arangodb.com/tag/arangoml/) will continue, so be sure to sign up for our newsletter to be notified of the next release!\n",
        "\n",
        "You can also join us on the [ArangoML Slack channel](https://arangodb-community.slack.com/archives/CN9LVJ24S) if you have any questions or comments.\n",
        "\n",
        "If you have something cool you are working on with ArangoML or ArangoDB in general we would love to learn about it. We now have an [interactive tutorials repository](https://github.com/arangodb/interactive_tutorials) where you can share your own notebook with the community, [check it out](https://github.com/arangodb/interactive_tutorials)!"
      ]
    }
  ]
}