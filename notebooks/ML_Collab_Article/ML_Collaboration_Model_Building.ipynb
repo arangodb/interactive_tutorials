{
  "nbformat": 4,
  "nbformat_minor": 0,
  "metadata": {
    "colab": {
      "name": "ML_Collaboration_Model_Building.ipynb",
      "provenance": [],
      "collapsed_sections": []
    },
    "kernelspec": {
      "name": "python3",
      "display_name": "Python 3"
    }
  },
  "cells": [
    {
      "cell_type": "markdown",
      "metadata": {
        "id": "MGxDIEBgZsEx"
      },
      "source": [
        "<a href=\"https://colab.research.google.com/github/arangodb/interactive_tutorials/blob/master/notebooks/ML_Collab_Article/ML_Collaboration_Model_Building.ipynb\" target=\"_parent\"><img src=\"https://colab.research.google.com/assets/colab-badge.svg\" alt=\"Open In Colab\"/></a>"
      ]
    },
    {
      "cell_type": "markdown",
      "metadata": {
        "id": "xX-q5DR8gXR6"
      },
      "source": [
        "<font color='red'>NOTE: This notebook is a stripped down version from our ArangoML Series and has had some additional notes added for those following along with the ArangoML [Multi-Model Collaboration post](https://www.arangodb.com/2021/01/arangoml-series-multi-model-collaboration/).</font>\r\n",
        "\r\n",
        "The full post that details the basic workflow of arangopipe and introduces the concept of model building can be found [here](https://www.arangodb.com/2020/10/arangoml-part-2-basic-arangopipe-workflow/).\r\n",
        "\r\n"
      ]
    },
    {
      "cell_type": "markdown",
      "metadata": {
        "id": "zcS--jmwht4U"
      },
      "source": [
        "# ArangoML Multi-model Collaboration\r\n",
        "\r\n",
        "This notebook is a continuation of a project being worked on by three colleagues. After having performed the data analysis, candidate modeling and the best choice of hyper-parameters it is time to build the model.\r\n",
        "\r\n",
        "### Connect to Arangopipe\r\n",
        "In a real environment you would reconnect to the same database and update the existing project, this would make it so that your colleagues could reference your work later.\r\n",
        "\r\n",
        "If you have been following along with the previous notebooks, you can see this continuity with a couple small changes.\r\n",
        "1. Uncomment and update these `conn_params` variable properties with the credentials generated in the first noteook:\r\n",
        " * `DB_NAME`\r\n",
        " * `DB_USER_NAME`\r\n",
        " * `DB_PASSWORD`\r\n",
        "2. Change the ArangoPipeAdmin `reuse_connection` parameter to `True`\r\n",
        "3. Comment out registering a new project and uncomment the project lookup.\r\n",
        "4. Comment out registering a new dataset and uncomment the dataset lookup."
      ]
    },
    {
      "cell_type": "markdown",
      "metadata": {
        "id": "Yt2RxV06ZsE2"
      },
      "source": [
        "For example, here is a list of the variables included with our data."
      ]
    },
    {
      "cell_type": "code",
      "metadata": {
        "id": "uM_JoqFUZsE3"
      },
      "source": [
        "import pandas as pd\n",
        "data_url = \"https://raw.githubusercontent.com/arangoml/arangopipe/arangopipe_examples/examples/data/cal_housing.csv\"\n",
        "df = pd.read_csv(data_url, error_bad_lines=False)\n",
        "\n",
        "df.head() #prints the first 5 rows of data with headers"
      ],
      "execution_count": null,
      "outputs": []
    },
    {
      "cell_type": "markdown",
      "metadata": {
        "id": "nNhd13VBZsE4"
      },
      "source": [
        "## Installation Prerequisites"
      ]
    },
    {
      "cell_type": "code",
      "metadata": {
        "id": "g8_qLQMxZsE4"
      },
      "source": [
        "%%capture\n",
        "!pip install python-arango\n",
        "!pip install arangopipe==0.0.70.0.0\n",
        "!pip install pandas PyYAML==5.1.1 sklearn2\n",
        "!pip install jsonpickle"
      ],
      "execution_count": null,
      "outputs": []
    },
    {
      "cell_type": "code",
      "metadata": {
        "id": "-iLx98nTZsE5"
      },
      "source": [
        "\n",
        "from arangopipe.arangopipe_storage.arangopipe_api import ArangoPipe\n",
        "from arangopipe.arangopipe_storage.arangopipe_admin_api import ArangoPipeAdmin\n",
        "from arangopipe.arangopipe_storage.arangopipe_config import ArangoPipeConfig\n",
        "from arangopipe.arangopipe_storage.managed_service_conn_parameters import ManagedServiceConnParam\n",
        "mdb_config = ArangoPipeConfig()\n",
        "msc = ManagedServiceConnParam()\n",
        "conn_params = { msc.DB_SERVICE_HOST : \"arangoml.arangodb.cloud\", \\\n",
        "                        msc.DB_SERVICE_END_POINT : \"createDB\",\\\n",
        "                        msc.DB_SERVICE_NAME : \"createDB\",\\\n",
        "                        msc.DB_SERVICE_PORT : 8529,\\\n",
        "                        msc.DB_CONN_PROTOCOL : 'https'}\n",
        "        \n",
        "mdb_config = mdb_config.create_connection_config(conn_params)\n",
        "admin = ArangoPipeAdmin(reuse_connection = False, config = mdb_config)\n",
        "ap_config = admin.get_config()\n",
        "ap = ArangoPipe(config = ap_config)\n",
        "mdb_config.get_cfg()\n",
        "\n",
        "# If you receive an error creating the temporary database, please run this code block again."
      ],
      "execution_count": null,
      "outputs": []
    },
    {
      "cell_type": "markdown",
      "metadata": {
        "id": "XorcqYfii3dN"
      },
      "source": [
        "## Lookup Project\r\n",
        "\r\n",
        "Normally you would not need to register a new project each time, this is only necessary because we typically generate a new temporary database with the tutorial notebooks.\r\n",
        "\r\n",
        "If you have been following along you could instead uncomment the project lookup and comment out or delete the two project registration lines."
      ]
    },
    {
      "cell_type": "code",
      "metadata": {
        "id": "BBfCKyLbi37j"
      },
      "source": [
        "# project = ap.lookup_entity(\"Housing_Price_Estimation_Project\", \"project\")\r\n",
        "\r\n",
        "proj_info = {\"name\": \"Housing_Price_Estimation_Project\"}\r\n",
        "proj_reg = admin.register_project(proj_info)"
      ],
      "execution_count": null,
      "outputs": []
    },
    {
      "cell_type": "markdown",
      "metadata": {
        "id": "gq54rON0ZsE6"
      },
      "source": [
        "### Try it out!\n",
        "Once the previous block has successfully executed you can navigate to https://arangoml.arangodb.cloud:8529 and sign in with the generated credentials to explore the temporary database."
      ]
    },
    {
      "cell_type": "markdown",
      "metadata": {
        "id": "eGDRoDVpZsE7"
      },
      "source": [
        "## Model Building\n"
      ]
    },
    {
      "cell_type": "markdown",
      "metadata": {
        "id": "jsVJl5HzZsE7"
      },
      "source": [
        "In this section, the procedure for capturing meta-data with Arangopipe as part of the model building activity will be illustrated. Model selection is an important activity for data scientists. Data scientists consider many candidate models for a task and then the best performing model is chosen. An example of this can be found in the hyperopt guide to capture metadata from a hyper-parameter tuning experiment, (see [hyperopt](https://github.com/arangoml/arangopipe/blob/master/arangopipe/tests/hyperopt/hyperopt_integration.ipynb)). We will use a simpler setting for this notebook. We will assume model selection has been completed and that a LASSO regression model is the best candidate for the task. Having made this decision, we capture information about the model and its parameters. This information is stored in Arangopipe. The details of performing these tasks are shown below. Before model building, we capture information related to the dataset and the features used to build the model."
      ]
    },
    {
      "cell_type": "markdown",
      "metadata": {
        "id": "qsdeutUDZsE8"
      },
      "source": [
        "### Register Dataset"
      ]
    },
    {
      "cell_type": "markdown",
      "metadata": {
        "id": "-LeC_TqHZsE8"
      },
      "source": [
        "Here we register the dataset that we imported in the intro section. This dataset is available from the arangopipe repo and was originally made available from the UCI ML Repository. The dataset contains data for housing in california, including:\n",
        " - The house configuration & location\n",
        " - The median house values and ages\n",
        " - The general population & number of households\n",
        " - The median income for the area\n",
        "\n",
        "### For those following along\n",
        "Here we register the same dataset we registered from the first notebook. This is only necessary due to the expectation that a new temporary database was generated. \n",
        "\n",
        "If you have been following along you can uncomment the dataset lookup and comment out the dataset registartion lines. There is a unique constraint on the dataset name, so attempting to add it should result in an error if you are already using the credentials form the first notebook.\n"
      ]
    },
    {
      "cell_type": "code",
      "metadata": {
        "id": "S3VGnk39ZsE8"
      },
      "source": [
        "# Lookup the dataset registered with the initial notebook. \n",
        "# dataset = ap.lookup_dataset(\"california-housing-dataset\")\n",
        "\n",
        "# Register dataset, comment out if following along.\n",
        "ds_info = {\"name\" : \"california-housing-dataset\",\\\n",
        "            \"description\": \"This dataset lists median house prices in Califoria. Various house features are provided\",\\\n",
        "           \"source\": \"UCI ML Repository\" }\n",
        "dataset = ap.register_dataset(ds_info)"
      ],
      "execution_count": null,
      "outputs": []
    },
    {
      "cell_type": "markdown",
      "metadata": {
        "id": "_PJfEES7ZsE9"
      },
      "source": [
        "### Register Featureset"
      ]
    },
    {
      "cell_type": "markdown",
      "metadata": {
        "id": "9ZG1kHbvZsE9"
      },
      "source": [
        "Register the features used to develop the model.\n",
        "\n",
        "\n",
        "*   Note that the response variable has been log transformed\n",
        "*   Note that when the featureset is registered, it is linked to the dataset\n",
        "\n"
      ]
    },
    {
      "cell_type": "code",
      "metadata": {
        "id": "AUQJnj_1ZsE9"
      },
      "source": [
        "import numpy as np\n",
        "df[\"medianHouseValue\"] = df[\"medianHouseValue\"].apply(lambda x: np.log(x))\n",
        "featureset = df.dtypes.to_dict()\n",
        "featureset = {k:str(featureset[k]) for k in featureset}\n",
        "featureset[\"name\"] = \"log_transformed_median_house_value\"\n",
        "fs_reg = ap.register_featureset(featureset, dataset[\"_key\"]) # note that the dataset and featureset are linked here."
      ],
      "execution_count": null,
      "outputs": []
    },
    {
      "cell_type": "markdown",
      "metadata": {
        "id": "OJOi1PF0ZsE9"
      },
      "source": [
        "### Develop a Model"
      ]
    },
    {
      "cell_type": "markdown",
      "metadata": {
        "id": "YqcWkJSDZsE9"
      },
      "source": [
        "As discussed in the introduction it is important to have a training set and a test set to be able to evaluate our model with 'new' data.\n",
        "Here we use the [train_test_split](https://scikit-learn.org/stable/modules/generated/sklearn.model_selection.train_test_split.html?highlight=train_test_split#sklearn.model_selection.train_test_split) functionality of sklearn to split the data.\n",
        "\n",
        "Note that we also set `Y` to be the `medianHouseValue`, `Y` here is our target."
      ]
    },
    {
      "cell_type": "code",
      "metadata": {
        "id": "5x8ua6p6ZsE9"
      },
      "source": [
        "from sklearn.model_selection import train_test_split\n",
        "preds = df.columns.to_list()\n",
        "preds.remove('medianHouseValue')\n",
        "X = df[preds].values\n",
        "Y = df['medianHouseValue'].values\n",
        "X_train, X_test, y_train, y_test = train_test_split(X, Y, test_size=0.33, random_state=42)"
      ],
      "execution_count": null,
      "outputs": []
    },
    {
      "cell_type": "markdown",
      "metadata": {
        "id": "v_jV8iBFZsE9"
      },
      "source": [
        "### Developing the model\n",
        "Here we have taken some of the guess work out of model training and decided to go with Lasso regression. "
      ]
    },
    {
      "cell_type": "code",
      "metadata": {
        "id": "8aOE3_JPZsE9"
      },
      "source": [
        "from sklearn import linear_model\n",
        "from sklearn.metrics import mean_squared_error\n",
        "clf = linear_model.Lasso(alpha=0.001)\n",
        "clf.fit(X_train, y_train)\n",
        "train_pred = clf.predict(X_train)\n",
        "test_pred = clf.predict(X_test)\n",
        "train_mse = mean_squared_error(train_pred, y_train)\n",
        "test_mse = mean_squared_error(test_pred, y_test)\n",
        "\n",
        "print(train_mse)\n",
        "print(test_mse)"
      ],
      "execution_count": null,
      "outputs": []
    },
    {
      "cell_type": "markdown",
      "metadata": {
        "id": "mzNZhpwaZsE-"
      },
      "source": [
        "To get some insight into what model parameters actually are here are the basic parameters used with this experiement.\n",
        "\n",
        "While they won't make much sense to someone not familiar with them, they might offer a starting spot if you would like to look more into what exactly model parameters are."
      ]
    },
    {
      "cell_type": "code",
      "metadata": {
        "id": "OMPRNt0AZsE-"
      },
      "source": [
        "print(clf.get_params())"
      ],
      "execution_count": null,
      "outputs": []
    },
    {
      "cell_type": "markdown",
      "metadata": {
        "id": "Pe2rTce2ZsE-"
      },
      "source": [
        "### Register the Model\n",
        "* Note that project and model are linked\n",
        "* The notebook associated with the model can be retreived from github. This can be part of the meta-data associated with the model\n"
      ]
    },
    {
      "cell_type": "code",
      "metadata": {
        "id": "J3hgxVtoZsE-"
      },
      "source": [
        "import io\n",
        "import requests\n",
        "url = ('https://raw.githubusercontent.com/arangoml/arangopipe/master/examples/Arangopipe_Feature_Examples.ipynb')\n",
        "nbjson = requests.get(url).text"
      ],
      "execution_count": null,
      "outputs": []
    },
    {
      "cell_type": "markdown",
      "metadata": {
        "id": "DKdFj8EHZsE-"
      },
      "source": [
        "The model information can contain the name you would like to assign to the model, the task, and notebook information.\n",
        "\n",
        "Once you create the model info properties object you register it with the project."
      ]
    },
    {
      "cell_type": "code",
      "metadata": {
        "id": "9xVd9xEUZsE-"
      },
      "source": [
        "\n",
        "model_info = {\"name\": \"Lasso Model for Housing Dataset\",  \"task\": \"Regression\", 'notebook': nbjson}\n",
        "model_reg = ap.register_model(model_info, project = \"Housing_Price_Estimation_Project\")\n"
      ],
      "execution_count": null,
      "outputs": []
    },
    {
      "cell_type": "markdown",
      "metadata": {
        "id": "IbtUzLW_ZsE-"
      },
      "source": [
        "## Log Model Building Activity"
      ]
    },
    {
      "cell_type": "markdown",
      "metadata": {
        "id": "Zje6TBVYZsE_"
      },
      "source": [
        "In this section we look at the procedure for capturing a consolidated version of this model building activity. The execution of this notebook, or any ML activity, is captured by the 'Run' entity in the Arangopipe schema (see [schema](https://github.com/arangoml/arangopipe)). To record the execution, we need to create a unique identifier for it in ArangoDB. \n",
        "\n",
        "After generating a unique identifier, we capture the model parameters and model performance and then record the details of this experiment in Arangopipe. Each of these steps is shown below."
      ]
    },
    {
      "cell_type": "markdown",
      "metadata": {
        "id": "e6IksjkyZsE_"
      },
      "source": [
        "Note that capturing the 'Run' or execution of this cell captures information that links\n",
        "\n",
        "\n",
        "1.   The dataset used in this execution (dataset)\n",
        "2.   The featureset used in this execution (fs_reg)\n",
        "3.   The model parameters used in this execution (model_params)\n",
        "4.   The model performance that was observed in this execution (model perf)\n",
        "\n"
      ]
    },
    {
      "cell_type": "code",
      "metadata": {
        "id": "LoGyseBpZsE_"
      },
      "source": [
        "import uuid\n",
        "import datetime\n",
        "import jsonpickle\n",
        "\n",
        "ruuid = str(uuid.uuid4().int)\n",
        "model_perf = {'training_mse': train_mse, 'test_mse': test_mse, 'run_id': ruuid, \"timestamp\": str(datetime.datetime.now())}\n",
        "\n",
        "mp = clf.get_params()\n",
        "mp = jsonpickle.encode(mp)\n",
        "model_params = {'run_id': ruuid, 'model_params': mp}\n",
        "\n",
        "run_info = {\"dataset\" : dataset[\"_key\"],\\\n",
        "                    \"featureset\": fs_reg[\"_key\"],\\\n",
        "                    \"run_id\": ruuid,\\\n",
        "                    \"model\": model_reg[\"_key\"],\\\n",
        "                    \"model-params\": model_params,\\\n",
        "                    \"model-perf\": model_perf,\\\n",
        "                    \"tag\": \"Housing_Price_Estimation_Project\",\\\n",
        "                    \"project\": \"Housing_Price_Estimation_Project\"}\n",
        "ap.log_run(run_info)\n"
      ],
      "execution_count": null,
      "outputs": []
    },
    {
      "cell_type": "markdown",
      "metadata": {
        "id": "7e10hTH8ZsE_"
      },
      "source": [
        "### Optional: Save the connection information to google drive so that this can used to connect to the instance that was used in this session.\n",
        "Once you have a database created and a project filled with data, you can save your connection configuration to a file to be able to easily reconnect.\n",
        "\n",
        "This file could be shared among your colleagues to have them connect with to the same database with the same credentials. For our scenario we assume each colleage has there own credentials and are already aware of the database information.\n",
        "\n",
        "Feel free to uncomment to see how to export this file to your personal Google Drive."
      ]
    },
    {
      "cell_type": "code",
      "metadata": {
        "id": "k1e-5-sRZsE_"
      },
      "source": [
        "# from google.colab import drive\n",
        "# drive._mount('/content/drive')\n",
        "# fp = '/content/drive/My Drive/saved_arangopipe_config.yaml'\n",
        "# mdb_config.export_cfg(fp)"
      ],
      "execution_count": null,
      "outputs": []
    },
    {
      "cell_type": "markdown",
      "metadata": {
        "id": "ARBqj5-2ZsE_"
      },
      "source": [
        "## Using Arangopipe with Common Tools in a Machine Learning Stack"
      ]
    },
    {
      "cell_type": "markdown",
      "metadata": {
        "id": "vqjkfU5ZZsE_"
      },
      "source": [
        "This notebook provides the details of working with Arangopipe to capture meta-data from a machine learning project activity. If you would like to see Arangopipe can be used with some common tools in a machine learning stack:\n",
        "\n",
        "\n",
        "1.   See [TFX](https://github.com/arangoml/arangopipe/tree/master/arangopipe/tests/TFX) for the details of using Arangopipe with TFX\n",
        "2.   See [Pytorch](https://github.com/arangoml/arangopipe/tree/master/arangopipe/tests/pytorch) for details of using Arangopipe with Pytorch.\n",
        "3.  See [Hyperopt](https://github.com/arangoml/arangopipe/tree/master/arangopipe/tests/hyperopt) for details of using Arangopipe with Hyperopt\n",
        "4. See [MLFlow](https://github.com/arangoml/arangopipe/tree/master/arangopipe/tests/mlflow) for details of using Arangopipe with MLFlow.\n",
        "\n"
      ]
    }
  ]
}