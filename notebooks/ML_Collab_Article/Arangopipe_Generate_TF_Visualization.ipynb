{
  "nbformat": 4,
  "nbformat_minor": 0,
  "metadata": {
    "colab": {
      "name": "Arangopipe_Generate_TF_Visualization.ipynb",
      "provenance": [],
      "collapsed_sections": [],
      "toc_visible": true
    },
    "kernelspec": {
      "display_name": "Python 3",
      "name": "python3"
    }
  },
  "cells": [
    {
      "cell_type": "markdown",
      "metadata": {
        "id": "G5lghETgAEXQ"
      },
      "source": [
        "<a href=\"https://colab.research.google.com/github/arangodb/interactive_tutorials/blob/master/notebooks/ML_Collab_Article/Arangopipe_Generate_TF_Visualization.ipynb\" target=\"_parent\"><img src=\"https://colab.research.google.com/assets/colab-badge.svg\" alt=\"Open In Colab\"/></a>"
      ]
    },
    {
      "cell_type": "markdown",
      "metadata": {
        "id": "jYH6vO7Shb4c"
      },
      "source": [
        "<font color='red'>THIS NOTEBOOK IS FROM THE ARANGOML MULTI-MODEL COLLABORATION ARTICLE. PLEASE REFER TO THAT ARTICLE FOR FURTHER CONTEXT [HERE](https://www.arangodb.com/2021/01/arangoml-series-multi-model-collaboration/).</font>"
      ]
    },
    {
      "cell_type": "markdown",
      "metadata": {
        "id": "LIoh09j0rslE"
      },
      "source": [
        "## Generating Data Visualization with TFX data validation"
      ]
    },
    {
      "cell_type": "markdown",
      "metadata": {
        "id": "3PFeOR52r3JP"
      },
      "source": [
        "Install pre-requisite libraries"
      ]
    },
    {
      "cell_type": "code",
      "metadata": {
        "id": "i7uMdo_lXWN2"
      },
      "source": [
        "%%capture\n",
        "!pip install python-arango\n",
        "!pip install arangopipe==0.0.70.0.0\n",
        "!pip install pandas PyYAML==5.1.1 sklearn2\n",
        "!pip install jsonpickle\n",
        "!pip install tensorflow==2.2.0\n",
        "# Install TensorFlow\n",
        "try:\n",
        "  # %tensorflow_version only exists in Colab.\n",
        "  %tensorflow_version 2.x\n",
        "except Exception:\n",
        "  pass\n",
        "\n",
        "print('Installing TensorFlow Data Validation')\n",
        "!pip install -q tensorflow_data_validation[visualization]"
      ],
      "execution_count": null,
      "outputs": []
    },
    {
      "cell_type": "code",
      "metadata": {
        "id": "U-v9EJfJAuTP"
      },
      "source": [
        "# Must restart runtime for tensorflow_data_validation due to how Colab installs packages.\n",
        "# You will need to resume running the code blocks below. \n",
        "# To resume onced exited, click into the next cell and then CTRL+F10.\n",
        "exit()"
      ],
      "execution_count": null,
      "outputs": []
    },
    {
      "cell_type": "markdown",
      "metadata": {
        "id": "_C3OJKQWr9zB"
      },
      "source": [
        "## Retrieve the Dataset"
      ]
    },
    {
      "cell_type": "code",
      "metadata": {
        "id": "iWORVfz8YgVn"
      },
      "source": [
        "import pandas as pd\n",
        "import os\n",
        "import tensorflow as tf\n",
        "import tensorflow_data_validation as tfdv\n",
        "print('TFDV version: {}'.format(tfdv.version.__version__))"
      ],
      "execution_count": null,
      "outputs": []
    },
    {
      "cell_type": "code",
      "metadata": {
        "id": "WyGkHQcfAkoX"
      },
      "source": [
        "data_url = \"https://raw.githubusercontent.com/arangoml/arangopipe/arangopipe_examples/examples/data/cal_housing.csv\"\n",
        "df = pd.read_csv(data_url, error_bad_lines=False)\n",
        "\n",
        "df.head() #prints the first 5 rows of data with headers"
      ],
      "execution_count": null,
      "outputs": []
    },
    {
      "cell_type": "code",
      "metadata": {
        "id": "Qb-1WjXmZrSt"
      },
      "source": [
        "fp = \"cal_housing.csv\"\n",
        "df.to_csv(fp, index = False)\n",
        "DATA_DIR = \"./\"\n",
        "TRAIN_DATA = os.path.join(DATA_DIR, 'cal_housing.csv')"
      ],
      "execution_count": null,
      "outputs": []
    },
    {
      "cell_type": "code",
      "metadata": {
        "id": "UxEo5GMdZ_q0"
      },
      "source": [
        "pwd"
      ],
      "execution_count": null,
      "outputs": []
    },
    {
      "cell_type": "markdown",
      "metadata": {
        "id": "A7zocIjRsGg2"
      },
      "source": [
        "## Generate the TFX Visualization"
      ]
    },
    {
      "cell_type": "code",
      "metadata": {
        "id": "4KEOiDUwZAwc"
      },
      "source": [
        "train_stats = tfdv.generate_statistics_from_csv(TRAIN_DATA, delimiter=',')"
      ],
      "execution_count": null,
      "outputs": []
    },
    {
      "cell_type": "code",
      "metadata": {
        "id": "vtygK7vdaP4f"
      },
      "source": [
        "tfdv.visualize_statistics(train_stats)"
      ],
      "execution_count": null,
      "outputs": []
    },
    {
      "cell_type": "code",
      "metadata": {
        "id": "Qf4A3WTqayDf"
      },
      "source": [
        "schema = tfdv.infer_schema(train_stats)"
      ],
      "execution_count": null,
      "outputs": []
    },
    {
      "cell_type": "markdown",
      "metadata": {
        "id": "WhgeaEsgsOTJ"
      },
      "source": [
        "## Connect to Arangopipe"
      ]
    },
    {
      "cell_type": "code",
      "metadata": {
        "id": "TG8bASTTcXJj"
      },
      "source": [
        "from arangopipe.arangopipe_storage.arangopipe_api import ArangoPipe\n",
        "from arangopipe.arangopipe_storage.arangopipe_admin_api import ArangoPipeAdmin\n",
        "from arangopipe.arangopipe_storage.arangopipe_config import ArangoPipeConfig\n",
        "from arangopipe.arangopipe_storage.managed_service_conn_parameters import ManagedServiceConnParam\n",
        "\n",
        "mdb_config = ArangoPipeConfig()\n",
        "msc = ManagedServiceConnParam()\n",
        "conn_params = { msc.DB_SERVICE_HOST : \"arangoml.arangodb.cloud\", \\\n",
        "                        msc.DB_SERVICE_END_POINT : \"createDB\",\\\n",
        "                        msc.DB_SERVICE_NAME : \"createDB\",\\\n",
        "                        msc.DB_SERVICE_PORT : 8529,\\\n",
        "                        msc.DB_CONN_PROTOCOL : 'https'}\n",
        "mdb_config = mdb_config.create_connection_config(conn_params)\n",
        "admin = ArangoPipeAdmin(reuse_connection = False, config = mdb_config)\n",
        "ap_config = admin.get_config()\n",
        "ap = ArangoPipe(config = ap_config)\n",
        "\n",
        "# Prints the temporary login credentials\n",
        "# These credentials are only valid for a short time\n",
        "mdb_config.get_cfg()"
      ],
      "execution_count": null,
      "outputs": []
    },
    {
      "cell_type": "markdown",
      "metadata": {
        "id": "rJtmXS6x7fpR"
      },
      "source": [
        "## Register the Project\r\n",
        "This creates a project that we can associate other experiment details with, making it easy to find all relevant experiment information."
      ]
    },
    {
      "cell_type": "code",
      "metadata": {
        "id": "XjW-wvpC7voo"
      },
      "source": [
        "# Register the project to associate all of our experiment data with\r\n",
        "proj_info = {\"name\": \"Housing_Price_Estimation_Project\"}\r\n",
        "proj_reg = admin.register_project(proj_info)"
      ],
      "execution_count": null,
      "outputs": []
    },
    {
      "cell_type": "markdown",
      "metadata": {
        "id": "WkWfa1HJsTAS"
      },
      "source": [
        "## Save the Visualization in Arangopipe"
      ]
    },
    {
      "cell_type": "code",
      "metadata": {
        "id": "KG66_pjWiWMI"
      },
      "source": [
        "from google.protobuf import json_format\n",
        "enc_stats = json_format.MessageToJson(train_stats)\n",
        "enc_schema = json_format.MessageToJson(schema)"
      ],
      "execution_count": null,
      "outputs": []
    },
    {
      "cell_type": "code",
      "metadata": {
        "id": "UFF7rv1Kijis"
      },
      "source": [
        "\n",
        "from tensorflow_metadata.proto.v0 import statistics_pb2\n",
        "from tensorflow_metadata.proto.v0 import schema_pb2"
      ],
      "execution_count": null,
      "outputs": []
    },
    {
      "cell_type": "code",
      "metadata": {
        "id": "OWf5HCj3jGks"
      },
      "source": [
        "#data = pd.read_csv(fp)\n",
        "ds_info = {\"name\" : \"california-housing-dataset\",\\\n",
        "                   \"description\": \"data about housing in California\",\\\n",
        "           \"encoded_stats\": enc_stats,\\\n",
        "           \"encoded_schema\": enc_schema,\\\n",
        "           \"source\": \"UCI ML Repository\" }\n",
        "ds_reg = ap.register_dataset(ds_info)\n",
        "featureset = df.dtypes.to_dict()\n",
        "featureset = {k:str(featureset[k]) for k in featureset}\n",
        "featureset[\"name\"] = \"cal_housing_dataset_uc_demo_fs\"\n",
        "fs_reg = ap.register_featureset(featureset, ds_reg[\"_key\"])\n",
        "\n",
        "# The following messages indicate a lookup was performed for these resources.\n",
        "# If the supplied resource isn't found the logger reports this and then the resource is added.\n",
        "# When recording a featureset the appropriate links(edges) are also created."
      ],
      "execution_count": null,
      "outputs": []
    },
    {
      "cell_type": "markdown",
      "metadata": {
        "id": "5rzUSk_B8faD"
      },
      "source": [
        "## Explore the data\r\n",
        "If you ran the notebook on your own and would like to explore the data added so far you can access the ArangoDB WebUI directly by using the temporary credentials generated when connecting to Arangopipe.\r\n",
        "\r\n",
        "The following code block prints these again for you."
      ]
    },
    {
      "cell_type": "code",
      "metadata": {
        "id": "Rz67Tdsp8smh"
      },
      "source": [
        "mdb_config.get_cfg()"
      ],
      "execution_count": null,
      "outputs": []
    }
  ]
}