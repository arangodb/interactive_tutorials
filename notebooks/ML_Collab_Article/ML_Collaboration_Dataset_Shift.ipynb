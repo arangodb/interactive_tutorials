{
 "cells": [
  {
   "cell_type": "markdown",
   "metadata": {
    "id": "39taaUHCmkD-"
   },
   "source": [
    "<a href=\"https://colab.research.google.com/github/arangodb/interactive_tutorials/blob/master/notebooks/ML_Collab_Article/ML_Collaboration_Dataset_Shift.ipynb\" target=\"_parent\"><img src=\"https://colab.research.google.com/assets/colab-badge.svg\" alt=\"Open In Colab\"/></a>"
   ]
  },
  {
   "cell_type": "markdown",
   "metadata": {
    "id": "uUndP-4m9j0l"
   },
   "source": [
    "<font color='red'>NOTE: This notebook is a stripped down version from our ArangoML Series. This notebook is intended for those following along with the ArangoML [Multi-model Collaboration post](https://www.arangodb.com/2021/01/arangoml-series-multi-model-collaboration/).</font>\n",
    "\n",
    "The full post that introduces the covariate shift concept and details how to use the arangopipe dataset shift API can be found [here](https://www.arangodb.com/2020/11/arangoml-part-4-detecting-covariate-shift-in-datasets/).\n",
    "\n",
    "# Dataset Shift\n",
    "The following notebook is a simple example of how to detect shifts in your dataset using the arangopipe API. This example takes parts of the same dataset and compares them to each other, in a non-random fashion. The purpose of this is to show how the dataset shift API functions and the process of comparing parts of the same dataset is only for demonstration purposes. You would typically use a new or updated dataset to check the reliablity of the model against your new data."
   ]
  },
  {
   "cell_type": "code",
   "execution_count": null,
   "metadata": {
    "id": "QieyyqTOmkEC"
   },
   "outputs": [],
   "source": [
    "%%capture\n",
    "!pip install python-arango\n",
    "!pip install arangopipe==0.0.70.0.0\n",
    "!pip install pandas PyYAML==5.1.1 sklearn2\n",
    "!pip install jsonpickle"
   ]
  },
  {
   "cell_type": "code",
   "execution_count": null,
   "metadata": {
    "id": "TQj4CHd2mkED"
   },
   "outputs": [],
   "source": [
    "import pandas as pd\n",
    "import numpy as np\n",
    "data_url = \"https://raw.githubusercontent.com/arangoml/arangopipe/arangopipe_examples/examples/data/cal_housing.csv\"\n",
    "df = pd.read_csv(data_url, error_bad_lines=False)\n",
    "df = df.sample(n = 500)\n",
    "df.head()"
   ]
  },
  {
   "cell_type": "markdown",
   "metadata": {
    "id": "q68JCX77mkEE"
   },
   "source": [
    "##  Exploring the Data\n",
    "\n",
    "Let's take some time to explore the data a bit. First, we look at the types and shapes of the data to see what is available. "
   ]
  },
  {
   "cell_type": "code",
   "execution_count": null,
   "metadata": {
    "id": "YYhr__o6mkEE"
   },
   "outputs": [],
   "source": [
    "\n",
    "req_cols = df.columns.tolist()\n",
    "req_cols.remove(\"medianHouseValue\")\n",
    "df = df[req_cols]\n",
    "df.dtypes"
   ]
  },
  {
   "cell_type": "code",
   "execution_count": null,
   "metadata": {
    "id": "2k8eMpk4mkEF"
   },
   "outputs": [],
   "source": [
    "df[\"lat\"].describe()"
   ]
  },
  {
   "cell_type": "markdown",
   "metadata": {
    "id": "tNy_fz5CmkEF"
   },
   "source": [
    "When we plot the histogram of the lat variable, we see two populations (see below):\n",
    "1. A group with lat values less than -119\n",
    "2. A group with lat values greater than -119 "
   ]
  },
  {
   "cell_type": "code",
   "execution_count": null,
   "metadata": {
    "id": "SwdTaPv_mkEF"
   },
   "outputs": [],
   "source": [
    "\n",
    "import matplotlib.pyplot as plt\n",
    "%matplotlib inline  \n",
    "df[\"lat\"].hist()"
   ]
  },
  {
   "cell_type": "markdown",
   "metadata": {
    "id": "qfQ1S1AamkEG"
   },
   "source": [
    "Let’s pretend that the current batch of data used to develop our regression model is the first one, the group with lat values less than -119. By not selecting any houses with lat values greater than -119, we have introduced a sampling error. When selecting data for model development, you would want to use the entire range of lat values. Our second group consists of houses with lat values greater than -119."
   ]
  },
  {
   "cell_type": "code",
   "execution_count": null,
   "metadata": {
    "id": "1t6timRJmkEG"
   },
   "outputs": [],
   "source": [
    "df1 = df.query(\"lat <= -119\")\n",
    "df2 = df.query(\"lat > -119\")"
   ]
  },
  {
   "cell_type": "markdown",
   "metadata": {
    "id": "DDKbDuhBmkEG"
   },
   "source": [
    "Can we discriminate between the two? \n",
    "\n",
    "Let’s develop a classifier and see if we can. \n",
    "\n",
    "## Using the dataset shift API\n",
    "Here we use a [random forest classifier](https://en.wikipedia.org/wiki/Random_forest) and our Dataset Shift Detector to test our data and then print the returned score value. "
   ]
  },
  {
   "cell_type": "code",
   "execution_count": null,
   "metadata": {
    "id": "uV6s7eNrmkEG"
   },
   "outputs": [],
   "source": [
    "from arangopipe.arangopipe_analytics.rf_dataset_shift_detector import RF_DatasetShiftDetector\n",
    "\n",
    "rfd = RF_DatasetShiftDetector()\n",
    "score = rfd.detect_dataset_shift(df1, df2)\n",
    "print (\"Detaset shift score : %2.2f\" % (score))"
   ]
  },
  {
   "cell_type": "markdown",
   "metadata": {
    "id": "Z0U_UU6JmkEG"
   },
   "source": [
    "## Interpretation of the score reported by the shift detector\n",
    "The API uses a classifier to discriminate between the datasets provided to it. The score reported by the API is the accuracy of the classifier to discriminate between the datasets. Values close to  0.5  indicate that the classifier is not able to discriminate between the two datasets. This could be interpreted as a situation where no discernable shift has occurred in the data since the last model deployment. Values close to 1 indicate that the dataset shift is detectable, and we may need to revisit modeling. \n",
    "\n",
    "How the dataset shift affects the performance of the deployed model is problem-dependent. So we must assess the score in the context of a particular application. Usually, we perform experiments to determine a threshold value of the dataset shift score; the score represents an acceptable level of drift.\n",
    "\n",
    "## Conclusion\n",
    "This post introduced covariate shifts in datasets and provided an example of how easy it is to test this with ArangoML’s built-in API. The [Introduction to ArangoML series](https://www.arangodb.com/tag/arangoml/) will continue, so be sure to sign up for our newsletter to be notified of the next release!\n",
    "\n",
    "You can also join us on the [ArangoML Slack channel](https://arangodb-community.slack.com/archives/CN9LVJ24S) if you have any questions or comments.\n",
    "\n",
    "If you have something cool you are working on with ArangoML or ArangoDB in general we would love to learn about it. We now have an [interactive tutorials repository](https://github.com/arangodb/interactive_tutorials) where you can share your own notebook with the community, [check it out](https://github.com/arangodb/interactive_tutorials)!"
   ]
  }
 ],
 "metadata": {
  "colab": {
   "collapsed_sections": [],
   "name": "ML_Collaboration_Dataset_Shift.ipynb",
   "provenance": []
  },
  "kernelspec": {
   "display_name": "Python 3",
   "language": "python",
   "name": "python3"
  },
  "language_info": {
   "codemirror_mode": {
    "name": "ipython",
    "version": 3
   },
   "file_extension": ".py",
   "mimetype": "text/x-python",
   "name": "python",
   "nbconvert_exporter": "python",
   "pygments_lexer": "ipython3",
   "version": "3.7.6"
  }
 },
 "nbformat": 4,
 "nbformat_minor": 1
}
